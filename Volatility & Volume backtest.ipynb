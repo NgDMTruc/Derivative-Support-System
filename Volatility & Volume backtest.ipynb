{
 "cells": [
  {
   "cell_type": "code",
   "execution_count": 1,
   "metadata": {},
   "outputs": [
    {
     "name": "stderr",
     "output_type": "stream",
     "text": [
      "d:\\Capstone_RL\\.venv\\lib\\site-packages\\tqdm\\auto.py:21: TqdmWarning: IProgress not found. Please update jupyter and ipywidgets. See https://ipywidgets.readthedocs.io/en/stable/user_install.html\n",
      "  from .autonotebook import tqdm as notebook_tqdm\n"
     ]
    }
   ],
   "source": [
    "import numpy as np\n",
    "import pandas_ta as ta\n",
    "import pandas as pd\n",
    "from datetime import datetime, timedelta, timezone\n",
    "from backtesting import Backtest\n",
    "from backtesting import Strategy\n",
    "from backtesting.lib import crossover\n",
    "from Volatility import *\n",
    "from  Volume import *"
   ]
  },
  {
   "cell_type": "markdown",
   "metadata": {},
   "source": [
    "# Import data"
   ]
  },
  {
   "cell_type": "code",
   "execution_count": 2,
   "metadata": {},
   "outputs": [],
   "source": [
    "df_min = pd.read_csv('vn30f1m_3min.csv')\n",
    "df_hour = pd.read_csv('vn30f1m_1hour.csv')\n",
    "df_day = pd.read_csv('vn30f1m_1day.csv')"
   ]
  },
  {
   "cell_type": "code",
   "execution_count": 3,
   "metadata": {},
   "outputs": [],
   "source": [
    "def data_backtest(data):\n",
    "    new_data = data[['Open', 'High', 'Low', 'Close', 'Volume']]\n",
    "    new_data.index = pd.to_datetime(data['Date'])\n",
    "    new_data.index.name = None\n",
    "    return new_data"
   ]
  },
  {
   "cell_type": "code",
   "execution_count": 4,
   "metadata": {},
   "outputs": [],
   "source": [
    "def split_data(data):\n",
    "    \"\"\"\n",
    "    Hàm này chia dữ liệu thành 2 phần: tập huấn luyện và tập hold out.\n",
    "\n",
    "    Args:\n",
    "    data (pandas.DataFrame): DataFrame chứa dữ liệu cần chia.\n",
    "\n",
    "    Returns:\n",
    "    pandas.DataFrame: DataFrame chứa dữ liệu tập huấn luyện.\n",
    "    pandas.DataFrame: DataFrame chứa dữ liệu tập giữ lại.\n",
    "    \"\"\"\n",
    "    # Chia dữ liệu thành 3 phần\n",
    "    new_part = np.array_split(data, 3)\n",
    "\n",
    "    # Access each part individually\n",
    "    hold_out = new_part[2]\n",
    "    train_data = pd.concat([new_part[0], new_part[1]], axis=0)\n",
    "\n",
    "    return train_data, hold_out"
   ]
  },
  {
   "cell_type": "code",
   "execution_count": 5,
   "metadata": {},
   "outputs": [],
   "source": [
    "def process_data(df):\n",
    "    data = df.copy()\n",
    "    data = data[~data.index.duplicated(keep='first')] # Handling duplicate\n",
    "    \n",
    "    data['Date'] = [str(i)[:10] for i in data.index]\n",
    "    data['time'] = [str(i)[11:] for i in data.index]\n",
    "    data_model = data.pivot(index = 'Date', columns = 'time', values = ['Open','High','Low','Close','Volume']).ffill(axis = 1).stack().reset_index() # Handling missing values\n",
    "\n",
    "    return data_model"
   ]
  },
  {
   "cell_type": "code",
   "execution_count": 6,
   "metadata": {},
   "outputs": [],
   "source": [
    "data_min = data_backtest(df_min)\n",
    "data_hour = data_backtest(df_hour)\n",
    "data_day = data_backtest(df_day)"
   ]
  },
  {
   "cell_type": "code",
   "execution_count": 7,
   "metadata": {},
   "outputs": [
    {
     "name": "stderr",
     "output_type": "stream",
     "text": [
      "d:\\Capstone_RL\\.venv\\lib\\site-packages\\numpy\\core\\fromnumeric.py:59: FutureWarning: 'DataFrame.swapaxes' is deprecated and will be removed in a future version. Please use 'DataFrame.transpose' instead.\n",
      "  return bound(*args, **kwds)\n"
     ]
    }
   ],
   "source": [
    "train_min, valid_min = split_data(data_min)\n",
    "train_hour, valid_hour = split_data(data_hour)\n",
    "train_day, valid_day = split_data(data_day)"
   ]
  },
  {
   "cell_type": "markdown",
   "metadata": {},
   "source": [
    "### Mẫu"
   ]
  },
  {
   "cell_type": "markdown",
   "metadata": {},
   "source": [
    "    def indicator(data):\n",
    "        Hàm indicator\n",
    "        formular\n",
    "\n",
    "        return np.array(something)\n",
    "\n",
    "    class CustomStrategy(Strategy):\n",
    "\n",
    "        def init(self):\n",
    "            Note that this returns each column as a row\n",
    "            Then extends the length of each row on each iteration\n",
    "            self.something = self.I(indicator, self.data)\n",
    "\n",
    "        def next(self):\n",
    "\n",
    "            sth1 = self.something[0]\n",
    "            sth2 = self.something[2]\n",
    "\n",
    "            if self.position:\n",
    "                if something happens:\n",
    "                    self.position.close()\n",
    "            else:\n",
    "                if something happens:\n",
    "                    self.buy(size=0.7)\n",
    "                \n",
    "    bt = Backtest(data, CustomStrategy, cash=3000, commission=0.01, margin=0.13, hedging=True, exclusive_orders=False)\n",
    "    stats = bt.run()\n",
    "    stats"
   ]
  },
  {
   "cell_type": "markdown",
   "metadata": {},
   "source": [
    "# Backtest"
   ]
  },
  {
   "cell_type": "code",
   "execution_count": 8,
   "metadata": {},
   "outputs": [],
   "source": [
    "# from momen import *\n",
    "# from other import *"
   ]
  },
  {
   "cell_type": "markdown",
   "metadata": {},
   "source": [
    "### Volatility"
   ]
  },
  {
   "cell_type": "markdown",
   "metadata": {},
   "source": [
    "##### Average True Range (ATR)\n"
   ]
  },
  {
   "cell_type": "code",
   "execution_count": 9,
   "metadata": {},
   "outputs": [
    {
     "name": "stderr",
     "output_type": "stream",
     "text": [
      "                                              "
     ]
    },
    {
     "name": "stdout",
     "output_type": "stream",
     "text": [
      "Start                     2018-08-13 07:00:00\n",
      "End                       2022-08-30 09:00:00\n",
      "Duration                   1478 days 02:00:00\n",
      "Exposure Time [%]                   98.205384\n",
      "Equity Final [$]                     3688.094\n",
      "Equity Peak [$]                      4246.694\n",
      "Return [%]                          22.936467\n",
      "Buy & Hold Return [%]               34.877384\n",
      "Return (Ann.) [%]                     5.38016\n",
      "Volatility (Ann.) [%]               16.636678\n",
      "Sharpe Ratio                         0.323392\n",
      "Sortino Ratio                        0.459746\n",
      "Calmar Ratio                         0.201427\n",
      "Max. Drawdown [%]                  -26.710234\n",
      "Avg. Drawdown [%]                   -2.798979\n",
      "Max. Drawdown Duration      795 days 00:00:00\n",
      "Avg. Drawdown Duration       51 days 00:00:00\n",
      "# Trades                                    1\n",
      "Win Rate [%]                            100.0\n",
      "Best Trade [%]                      36.420463\n",
      "Worst Trade [%]                     36.420463\n",
      "Avg. Trade [%]                      36.420463\n",
      "Max. Trade Duration        1454 days 00:00:00\n",
      "Avg. Trade Duration        1454 days 00:00:00\n",
      "Profit Factor                             NaN\n",
      "Expectancy [%]                      36.420463\n",
      "SQN                                       NaN\n",
      "_strategy                 ATR_Strategy(per...\n",
      "_equity_curve                             ...\n",
      "_trades                      Size  EntryBa...\n",
      "dtype: object\n"
     ]
    },
    {
     "name": "stderr",
     "output_type": "stream",
     "text": [
      "\r"
     ]
    }
   ],
   "source": [
    "class ATR_Strategy(Strategy):\n",
    "    period = 14\n",
    "\n",
    "    def init(self):\n",
    "        self.atr = self.I(average_true_range, self.data, self.period)\n",
    "\n",
    "    def next(self):\n",
    "        atr = self.atr[-1]\n",
    "        close = self.data.Close[-1]\n",
    "        upper = close + atr * 2  # Upper bound cho Take Profit\n",
    "        lower = close - atr * 1.5  # Lower bound cho Stop Loss\n",
    "\n",
    "        if self.position:\n",
    "            if close < lower or close > upper:\n",
    "                self.position.close()\n",
    "        else:\n",
    "            if atr > 0.7:\n",
    "                self.buy(size=0.7)\n",
    "\n",
    "bt = Backtest(train_day, ATR_Strategy, cash=3000, commission=0.01, hedging=True)\n",
    "stats = bt.optimize(period=range(10, 30, 2), maximize='Equity Final [$]')\n",
    "print(stats)\n"
   ]
  },
  {
   "cell_type": "markdown",
   "metadata": {},
   "source": [
    "##### Bollinger Bands (BB)\n"
   ]
  },
  {
   "cell_type": "code",
   "execution_count": 11,
   "metadata": {},
   "outputs": [
    {
     "name": "stderr",
     "output_type": "stream",
     "text": [
      "                                             "
     ]
    },
    {
     "name": "stdout",
     "output_type": "stream",
     "text": [
      "Start                     2018-08-13 07:00:00\n",
      "End                       2022-08-30 09:00:00\n",
      "Duration                   1478 days 02:00:00\n",
      "Exposure Time [%]                   47.158524\n",
      "Equity Final [$]                     3557.496\n",
      "Equity Peak [$]                      3730.856\n",
      "Return [%]                            18.5832\n",
      "Buy & Hold Return [%]               34.877384\n",
      "Return (Ann.) [%]                    4.420396\n",
      "Volatility (Ann.) [%]                6.311895\n",
      "Sharpe Ratio                         0.700328\n",
      "Sortino Ratio                        0.997728\n",
      "Calmar Ratio                         0.631002\n",
      "Max. Drawdown [%]                   -7.005363\n",
      "Avg. Drawdown [%]                   -0.908692\n",
      "Max. Drawdown Duration      421 days 00:00:00\n",
      "Avg. Drawdown Duration       26 days 00:00:00\n",
      "# Trades                                    4\n",
      "Win Rate [%]                             50.0\n",
      "Best Trade [%]                     100.975525\n",
      "Worst Trade [%]                    -13.857576\n",
      "Avg. Trade [%]                      13.979721\n",
      "Max. Trade Duration         440 days 00:00:00\n",
      "Avg. Trade Duration         170 days 00:00:00\n",
      "Profit Factor                        5.292075\n",
      "Expectancy [%]                      21.204634\n",
      "SQN                                  0.686088\n",
      "_strategy                 BB_Strategy(wind...\n",
      "_equity_curve                             ...\n",
      "_trades                      Size  EntryBa...\n",
      "dtype: object\n"
     ]
    },
    {
     "name": "stderr",
     "output_type": "stream",
     "text": [
      "\r"
     ]
    }
   ],
   "source": [
    "class BB_Strategy(Strategy):\n",
    "    window = 20\n",
    "    multiplier = 2\n",
    "\n",
    "    def init(self):\n",
    "        self.upper_band, self.lower_band = self.I(bollinger_bands, self.data, self.window, self.multiplier)\n",
    "\n",
    "    def next(self):\n",
    "        close = self.data.Close[-1]\n",
    "        upper_band = self.upper_band[-1]\n",
    "        lower_band = self.lower_band[-1]\n",
    "\n",
    "        if self.position:\n",
    "            if close > upper_band or close < lower_band:\n",
    "                self.position.close()\n",
    "        else:\n",
    "            if close < lower_band:\n",
    "                self.buy(size=1)\n",
    "\n",
    "bt = Backtest(train_day, BB_Strategy, cash=3000, commission=0.01, margin=0.13, hedging=True)\n",
    "stats = bt.optimize(window=range(10, 30, 2), multiplier=[1.5, 2, 2.5, 3], maximize='Equity Final [$]')\n",
    "print(stats)\n"
   ]
  },
  {
   "cell_type": "markdown",
   "metadata": {},
   "source": [
    "##### Donchian Channel\n"
   ]
  },
  {
   "cell_type": "code",
   "execution_count": 13,
   "metadata": {},
   "outputs": [
    {
     "name": "stderr",
     "output_type": "stream",
     "text": [
      "                                              "
     ]
    },
    {
     "name": "stdout",
     "output_type": "stream",
     "text": [
      "Start                     2018-08-13 07:00:00\n",
      "End                       2022-08-30 09:00:00\n",
      "Duration                   1478 days 02:00:00\n",
      "Exposure Time [%]                         0.0\n",
      "Equity Final [$]                       3000.0\n",
      "Equity Peak [$]                        3000.0\n",
      "Return [%]                                0.0\n",
      "Buy & Hold Return [%]               34.877384\n",
      "Return (Ann.) [%]                         0.0\n",
      "Volatility (Ann.) [%]                     0.0\n",
      "Sharpe Ratio                              NaN\n",
      "Sortino Ratio                             NaN\n",
      "Calmar Ratio                              NaN\n",
      "Max. Drawdown [%]                        -0.0\n",
      "Avg. Drawdown [%]                         NaN\n",
      "Max. Drawdown Duration                    NaN\n",
      "Avg. Drawdown Duration                    NaN\n",
      "# Trades                                    0\n",
      "Win Rate [%]                              NaN\n",
      "Best Trade [%]                            NaN\n",
      "Worst Trade [%]                           NaN\n",
      "Avg. Trade [%]                            NaN\n",
      "Max. Trade Duration                       NaN\n",
      "Avg. Trade Duration                       NaN\n",
      "Profit Factor                             NaN\n",
      "Expectancy [%]                            NaN\n",
      "SQN                                       NaN\n",
      "_strategy                 DonchianChannel_...\n",
      "_equity_curve                             ...\n",
      "_trades                   Empty DataFrame\n",
      "...\n",
      "dtype: object\n"
     ]
    },
    {
     "name": "stderr",
     "output_type": "stream",
     "text": [
      "d:\\Capstone_RL\\.venv\\lib\\site-packages\\backtesting\\backtesting.py:1384: FutureWarning: The behavior of Series.idxmax with all-NA values, or any-NA and skipna=False, is deprecated. In a future version this will raise ValueError\n",
      "  best_params = heatmap.idxmax()\n"
     ]
    }
   ],
   "source": [
    "class DonchianChannel_Strategy(Strategy):\n",
    "    window = 20\n",
    "\n",
    "    def init(self):\n",
    "        self.upper_band, self.lower_band = self.I(donchian_channel, self.data, self.window)\n",
    "\n",
    "    def next(self):\n",
    "        close = self.data.Close[-1]\n",
    "        upper_band = self.upper_band[-1]\n",
    "        lower_band = self.lower_band[-1]\n",
    "\n",
    "        if self.position:\n",
    "            if close < lower_band or close > upper_band:\n",
    "                self.position.close()\n",
    "        else:\n",
    "            if close > upper_band:\n",
    "                self.buy(size=1)\n",
    "\n",
    "bt = Backtest(train_day, DonchianChannel_Strategy, cash=3000, commission=0.01, margin=0.13, hedging=True)\n",
    "stats = bt.optimize(window=range(10, 30, 2), maximize='Equity Final [$]')\n",
    "print(stats)\n"
   ]
  },
  {
   "cell_type": "markdown",
   "metadata": {},
   "source": [
    "##### Keltner Channel (KC)\n"
   ]
  },
  {
   "cell_type": "code",
   "execution_count": null,
   "metadata": {},
   "outputs": [
    {
     "name": "stderr",
     "output_type": "stream",
     "text": [
      "                                             \r"
     ]
    },
    {
     "name": "stdout",
     "output_type": "stream",
     "text": [
      "Start                     2018-08-13 07:00:00\n",
      "End                       2022-08-30 09:00:00\n",
      "Duration                   1478 days 02:00:00\n",
      "Exposure Time [%]                   33.200399\n",
      "Equity Final [$]                      3577.78\n",
      "Equity Peak [$]                      3838.519\n",
      "Return [%]                          19.259333\n",
      "Buy & Hold Return [%]               34.877384\n",
      "Return (Ann.) [%]                    4.571169\n",
      "Volatility (Ann.) [%]                5.512589\n",
      "Sharpe Ratio                         0.829224\n",
      "Sortino Ratio                        1.252509\n",
      "Calmar Ratio                          0.65292\n",
      "Max. Drawdown [%]                   -7.001112\n",
      "Avg. Drawdown [%]                   -1.041185\n",
      "Max. Drawdown Duration      421 days 00:00:00\n",
      "Avg. Drawdown Duration       38 days 00:00:00\n",
      "# Trades                                   15\n",
      "Win Rate [%]                        53.333333\n",
      "Best Trade [%]                      47.751503\n",
      "Worst Trade [%]                    -16.417776\n",
      "Avg. Trade [%]                       4.244717\n",
      "Max. Trade Duration         165 days 00:00:00\n",
      "Avg. Trade Duration          32 days 00:00:00\n",
      "Profit Factor                         3.42421\n",
      "Expectancy [%]                       5.281763\n",
      "SQN                                  1.051464\n",
      "_strategy                 KeltnerChannel_S...\n",
      "_equity_curve                             ...\n",
      "_trades                       Size  EntryB...\n",
      "dtype: object\n"
     ]
    }
   ],
   "source": [
    "class KeltnerChannel_Strategy(Strategy):\n",
    "    window = 20\n",
    "    multiplier = 2\n",
    "    atr_window = 14\n",
    "\n",
    "    def init(self):\n",
    "        self.upper_band, self.lower_band = self.I(keltner_channel, self.data, self.window, self.multiplier, self.atr_window)\n",
    "\n",
    "    def next(self):\n",
    "        close = self.data.Close[-1]\n",
    "        upper_band = self.upper_band[-1]\n",
    "        lower_band = self.lower_band[-1]\n",
    "\n",
    "        if self.position:\n",
    "            if close > upper_band or close < lower_band:\n",
    "                self.position.close()\n",
    "        else:\n",
    "            if close < lower_band:\n",
    "                self.buy(size=1)\n",
    "\n",
    "bt = Backtest(train_day, KeltnerChannel_Strategy, cash=3000, commission=0.01, margin=0.13, hedging=True)\n",
    "stats = bt.optimize(window=range(10, 30, 2), multiplier=[1.5, 2, 2.5], atr_window=range(10, 20, 2), maximize='Equity Final [$]')\n",
    "print(stats)\n"
   ]
  },
  {
   "cell_type": "markdown",
   "metadata": {},
   "source": [
    "##### Ulcer Index (UI)\n"
   ]
  },
  {
   "cell_type": "code",
   "execution_count": 12,
   "metadata": {},
   "outputs": [
    {
     "name": "stderr",
     "output_type": "stream",
     "text": [
      "                                              \r"
     ]
    },
    {
     "name": "stdout",
     "output_type": "stream",
     "text": [
      "Start                     2018-08-13 07:00:00\n",
      "End                       2022-08-30 09:00:00\n",
      "Duration                   1478 days 02:00:00\n",
      "Exposure Time [%]                   90.628116\n",
      "Equity Final [$]                     3419.999\n",
      "Equity Peak [$]                      3699.299\n",
      "Return [%]                          13.999967\n",
      "Buy & Hold Return [%]               34.877384\n",
      "Return (Ann.) [%]                    3.381083\n",
      "Volatility (Ann.) [%]                   8.038\n",
      "Sharpe Ratio                         0.420637\n",
      "Sortino Ratio                         0.58185\n",
      "Calmar Ratio                         0.285396\n",
      "Max. Drawdown [%]                  -11.846988\n",
      "Avg. Drawdown [%]                   -1.312869\n",
      "Max. Drawdown Duration      421 days 00:00:00\n",
      "Avg. Drawdown Duration       38 days 00:00:00\n",
      "# Trades                                    1\n",
      "Win Rate [%]                            100.0\n",
      "Best Trade [%]                      48.347936\n",
      "Worst Trade [%]                     48.347936\n",
      "Avg. Trade [%]                      48.347936\n",
      "Max. Trade Duration        1345 days 00:00:00\n",
      "Avg. Trade Duration        1345 days 00:00:00\n",
      "Profit Factor                             NaN\n",
      "Expectancy [%]                      48.347936\n",
      "SQN                                       NaN\n",
      "_strategy                 UI_Strategy(wind...\n",
      "_equity_curve                             ...\n",
      "_trades                      Size  EntryBa...\n",
      "dtype: object\n"
     ]
    }
   ],
   "source": [
    "class UI_Strategy(Strategy):\n",
    "    window = 14\n",
    "\n",
    "    def init(self):\n",
    "        self.ui = self.I(ulcer_index, self.data, self.window)\n",
    "\n",
    "    def next(self):\n",
    "        ui = self.ui[-1]\n",
    "        close = self.data.Close[-1]\n",
    "        upper = close * 1.05  # Take Profit\n",
    "        lower = close * 0.95  # Stop Loss\n",
    "\n",
    "        if self.position:\n",
    "            if close < lower or close > upper:\n",
    "                self.position.close()\n",
    "        else:\n",
    "            if ui < 5:\n",
    "                self.buy(size=1)\n",
    "\n",
    "bt = Backtest(train_day, UI_Strategy, cash=3000, commission=0.01, margin=0.13, hedging=True)\n",
    "stats = bt.optimize(window=range(10, 30, 2), maximize='Equity Final [$]')\n",
    "print(stats)\n"
   ]
  },
  {
   "cell_type": "markdown",
   "metadata": {},
   "source": [
    "### Volume"
   ]
  },
  {
   "cell_type": "markdown",
   "metadata": {},
   "source": [
    "##### Accumulation/Distribution Index (ADI)\n"
   ]
  },
  {
   "cell_type": "code",
   "execution_count": null,
   "metadata": {},
   "outputs": [
    {
     "name": "stdout",
     "output_type": "stream",
     "text": [
      "Start                     2018-08-13 07:00:00\n",
      "End                       2022-08-30 09:00:00\n",
      "Duration                   1478 days 02:00:00\n",
      "Exposure Time [%]                   99.800598\n",
      "Equity Final [$]                      3321.12\n",
      "Equity Peak [$]                       3600.42\n",
      "Return [%]                             10.704\n",
      "Buy & Hold Return [%]               34.877384\n",
      "Return (Ann.) [%]                    2.614234\n",
      "Volatility (Ann.) [%]                8.452775\n",
      "Sharpe Ratio                         0.309275\n",
      "Sortino Ratio                         0.42391\n",
      "Calmar Ratio                         0.191303\n",
      "Max. Drawdown [%]                   -13.66543\n",
      "Avg. Drawdown [%]                    -1.63086\n",
      "Max. Drawdown Duration      795 days 00:00:00\n",
      "Avg. Drawdown Duration       54 days 00:00:00\n",
      "# Trades                                    1\n",
      "Win Rate [%]                            100.0\n",
      "Best Trade [%]                      33.187953\n",
      "Worst Trade [%]                     33.187953\n",
      "Avg. Trade [%]                      33.187953\n",
      "Max. Trade Duration        1477 days 00:00:00\n",
      "Avg. Trade Duration        1477 days 00:00:00\n",
      "Profit Factor                             NaN\n",
      "Expectancy [%]                      33.187953\n",
      "SQN                                       NaN\n",
      "_strategy                        ADI_Strategy\n",
      "_equity_curve                             ...\n",
      "_trades                      Size  EntryBa...\n",
      "dtype: object\n"
     ]
    }
   ],
   "source": [
    "class ADI_Strategy(Strategy):\n",
    "\n",
    "    def init(self):\n",
    "        self.adi = self.I(calc_acc_dist_index, self.data)\n",
    "\n",
    "    def next(self):\n",
    "        adi = self.adi[-1]\n",
    "        close = self.data.Close[-1]\n",
    "        upper = close * 1.05\n",
    "        lower = close * 0.95\n",
    "\n",
    "        if self.position:\n",
    "            if close < lower or close > upper:\n",
    "                self.position.close()\n",
    "        else:\n",
    "            if adi > 0:\n",
    "                self.buy(size=1)\n",
    "\n",
    "bt = Backtest(train_day, ADI_Strategy, cash=3000, commission=0.01, margin=0.13, hedging=True)\n",
    "stats = bt.run()\n",
    "print(stats)\n"
   ]
  },
  {
   "cell_type": "markdown",
   "metadata": {},
   "source": [
    "##### Chaikin Money Flow (CMF)"
   ]
  },
  {
   "cell_type": "code",
   "execution_count": null,
   "metadata": {},
   "outputs": [
    {
     "name": "stderr",
     "output_type": "stream",
     "text": [
      "                                               \r"
     ]
    },
    {
     "name": "stdout",
     "output_type": "stream",
     "text": [
      "Start                     2018-08-13 07:00:00\n",
      "End                       2022-08-30 09:00:00\n",
      "Duration                   1478 days 02:00:00\n",
      "Exposure Time [%]                   92.123629\n",
      "Equity Final [$]                     3367.075\n",
      "Equity Peak [$]                      3646.375\n",
      "Return [%]                          12.235833\n",
      "Buy & Hold Return [%]               34.877384\n",
      "Return (Ann.) [%]                    2.972724\n",
      "Volatility (Ann.) [%]                8.155873\n",
      "Sharpe Ratio                         0.364489\n",
      "Sortino Ratio                         0.50177\n",
      "Calmar Ratio                         0.246607\n",
      "Max. Drawdown [%]                  -12.054513\n",
      "Avg. Drawdown [%]                   -1.434012\n",
      "Max. Drawdown Duration      421 days 00:00:00\n",
      "Avg. Drawdown Duration       40 days 00:00:00\n",
      "# Trades                                    1\n",
      "Win Rate [%]                            100.0\n",
      "Best Trade [%]                      39.829106\n",
      "Worst Trade [%]                     39.829106\n",
      "Avg. Trade [%]                      39.829106\n",
      "Max. Trade Duration        1366 days 00:00:00\n",
      "Avg. Trade Duration        1366 days 00:00:00\n",
      "Profit Factor                             NaN\n",
      "Expectancy [%]                      39.829106\n",
      "SQN                                       NaN\n",
      "_strategy                 CMF_Strategy(win...\n",
      "_equity_curve                             ...\n",
      "_trades                      Size  EntryBa...\n",
      "dtype: object\n"
     ]
    }
   ],
   "source": [
    "class CMF_Strategy(Strategy):\n",
    "    window = 20\n",
    "\n",
    "    def init(self):\n",
    "        self.cmf = self.I(calc_chaikin_money_flow, self.data, self.window)\n",
    "\n",
    "    def next(self):\n",
    "        cmf = self.cmf[-1]\n",
    "        close = self.data.Close[-1]\n",
    "        upper = close * 1.05\n",
    "        lower = close * 0.95\n",
    "\n",
    "        if self.position:\n",
    "            if close < lower or close > upper:\n",
    "                self.position.close()\n",
    "        else:\n",
    "            if cmf > 0:\n",
    "                self.buy(size=1)\n",
    "\n",
    "bt = Backtest(train_day, CMF_Strategy, cash=3000, commission=0.01, margin=0.13, hedging=True)\n",
    "stats = bt.optimize(window=range(10, 30, 2), maximize='Equity Final [$]')\n",
    "print(stats)\n"
   ]
  },
  {
   "cell_type": "markdown",
   "metadata": {},
   "source": [
    "##### Ease of Movement (EoM)\n"
   ]
  },
  {
   "cell_type": "code",
   "execution_count": null,
   "metadata": {},
   "outputs": [
    {
     "name": "stderr",
     "output_type": "stream",
     "text": [
      "                                               \r"
     ]
    },
    {
     "name": "stdout",
     "output_type": "stream",
     "text": [
      "Start                     2018-08-13 07:00:00\n",
      "End                       2022-08-30 09:00:00\n",
      "Duration                   1478 days 02:00:00\n",
      "Exposure Time [%]                    97.80658\n",
      "Equity Final [$]                     3326.271\n",
      "Equity Peak [$]                      3605.571\n",
      "Return [%]                            10.8757\n",
      "Buy & Hold Return [%]               34.877384\n",
      "Return (Ann.) [%]                      2.6546\n",
      "Volatility (Ann.) [%]                8.416087\n",
      "Sharpe Ratio                          0.31542\n",
      "Sortino Ratio                        0.432428\n",
      "Calmar Ratio                         0.194587\n",
      "Max. Drawdown [%]                  -13.642196\n",
      "Avg. Drawdown [%]                   -1.631529\n",
      "Max. Drawdown Duration      795 days 00:00:00\n",
      "Avg. Drawdown Duration       54 days 00:00:00\n",
      "# Trades                                    1\n",
      "Win Rate [%]                            100.0\n",
      "Best Trade [%]                      33.900786\n",
      "Worst Trade [%]                     33.900786\n",
      "Avg. Trade [%]                      33.900786\n",
      "Max. Trade Duration        1448 days 00:00:00\n",
      "Avg. Trade Duration        1448 days 00:00:00\n",
      "Profit Factor                             NaN\n",
      "Expectancy [%]                      33.900786\n",
      "SQN                                       NaN\n",
      "_strategy                 EoM_Strategy(win...\n",
      "_equity_curve                             ...\n",
      "_trades                      Size  EntryBa...\n",
      "dtype: object\n"
     ]
    }
   ],
   "source": [
    "class EoM_Strategy(Strategy):\n",
    "    window = 14\n",
    "\n",
    "    def init(self):\n",
    "        self.eom = self.I(calc_ease_of_movement, self.data, self.window)\n",
    "\n",
    "    def next(self):\n",
    "        eom = self.eom[-1]\n",
    "        close = self.data.Close[-1]\n",
    "        upper = close * 1.05\n",
    "        lower = close * 0.95\n",
    "\n",
    "        if self.position:\n",
    "            if close < lower or close > upper:\n",
    "                self.position.close()\n",
    "        else:\n",
    "            if eom > 0:\n",
    "                self.buy(size=1)\n",
    "\n",
    "bt = Backtest(train_day, EoM_Strategy, cash=3000, commission=0.01, margin=0.13, hedging=True)\n",
    "stats = bt.optimize(window=range(10, 30, 2), maximize='Equity Final [$]')\n",
    "print(stats)\n"
   ]
  },
  {
   "cell_type": "markdown",
   "metadata": {},
   "source": [
    "##### Force Index (FI)\n"
   ]
  },
  {
   "cell_type": "code",
   "execution_count": null,
   "metadata": {},
   "outputs": [
    {
     "name": "stderr",
     "output_type": "stream",
     "text": [
      "                                               \r"
     ]
    },
    {
     "name": "stdout",
     "output_type": "stream",
     "text": [
      "Start                     2018-08-13 07:00:00\n",
      "End                       2022-08-30 09:00:00\n",
      "Duration                   1478 days 02:00:00\n",
      "Exposure Time [%]                   97.507478\n",
      "Equity Final [$]                     3331.018\n",
      "Equity Peak [$]                      3610.318\n",
      "Return [%]                          11.033933\n",
      "Buy & Hold Return [%]               34.877384\n",
      "Return (Ann.) [%]                    2.691759\n",
      "Volatility (Ann.) [%]                8.400991\n",
      "Sharpe Ratio                          0.32041\n",
      "Sortino Ratio                        0.439393\n",
      "Calmar Ratio                          0.19762\n",
      "Max. Drawdown [%]                  -13.620853\n",
      "Avg. Drawdown [%]                    -1.67845\n",
      "Max. Drawdown Duration      795 days 00:00:00\n",
      "Avg. Drawdown Duration       56 days 00:00:00\n",
      "# Trades                                    1\n",
      "Win Rate [%]                            100.0\n",
      "Best Trade [%]                      34.564501\n",
      "Worst Trade [%]                     34.564501\n",
      "Avg. Trade [%]                      34.564501\n",
      "Max. Trade Duration        1443 days 00:00:00\n",
      "Avg. Trade Duration        1443 days 00:00:00\n",
      "Profit Factor                             NaN\n",
      "Expectancy [%]                      34.564501\n",
      "SQN                                       NaN\n",
      "_strategy                 FI_Strategy(wind...\n",
      "_equity_curve                             ...\n",
      "_trades                      Size  EntryBa...\n",
      "dtype: object\n"
     ]
    }
   ],
   "source": [
    "class FI_Strategy(Strategy):\n",
    "    window = 13\n",
    "\n",
    "    def init(self):\n",
    "        self.fi = self.I(calc_force_index, self.data, self.window)\n",
    "\n",
    "    def next(self):\n",
    "        fi = self.fi[-1]\n",
    "        close = self.data.Close[-1]\n",
    "        upper = close * 1.05\n",
    "        lower = close * 0.95\n",
    "\n",
    "        if self.position:\n",
    "            if close < lower or close > upper:\n",
    "                self.position.close()\n",
    "        else:\n",
    "            if fi > 0:\n",
    "                self.buy(size=1)\n",
    "\n",
    "bt = Backtest(train_day, FI_Strategy, cash=3000, commission=0.01, margin=0.13, hedging=True)\n",
    "stats = bt.optimize(window=range(10, 30, 2), maximize='Equity Final [$]')\n",
    "print(stats)\n"
   ]
  },
  {
   "cell_type": "markdown",
   "metadata": {},
   "source": [
    "##### Money Flow Index (MFI)\n"
   ]
  },
  {
   "cell_type": "code",
   "execution_count": null,
   "metadata": {},
   "outputs": [
    {
     "name": "stderr",
     "output_type": "stream",
     "text": [
      "                                               \r"
     ]
    },
    {
     "name": "stdout",
     "output_type": "stream",
     "text": [
      "Start                     2018-08-13 07:00:00\n",
      "End                       2022-08-30 09:00:00\n",
      "Duration                   1478 days 02:00:00\n",
      "Exposure Time [%]                    32.20339\n",
      "Equity Final [$]                      3028.44\n",
      "Equity Peak [$]                      3218.279\n",
      "Return [%]                              0.948\n",
      "Buy & Hold Return [%]               34.877384\n",
      "Return (Ann.) [%]                    0.239734\n",
      "Volatility (Ann.) [%]                4.364485\n",
      "Sharpe Ratio                         0.054928\n",
      "Sortino Ratio                        0.073274\n",
      "Calmar Ratio                          0.02967\n",
      "Max. Drawdown [%]                   -8.080064\n",
      "Avg. Drawdown [%]                   -1.085124\n",
      "Max. Drawdown Duration      662 days 00:00:00\n",
      "Avg. Drawdown Duration       73 days 00:00:00\n",
      "# Trades                                    8\n",
      "Win Rate [%]                             62.5\n",
      "Best Trade [%]                      10.939948\n",
      "Worst Trade [%]                     -12.85291\n",
      "Avg. Trade [%]                       1.365608\n",
      "Max. Trade Duration         111 days 00:00:00\n",
      "Avg. Trade Duration          59 days 00:00:00\n",
      "Profit Factor                        1.588764\n",
      "Expectancy [%]                        1.71901\n",
      "SQN                                  0.103953\n",
      "_strategy                 MFI_Strategy(win...\n",
      "_equity_curve                             ...\n",
      "_trades                      Size  EntryBa...\n",
      "dtype: object\n"
     ]
    }
   ],
   "source": [
    "class MFI_Strategy(Strategy):\n",
    "    window = 14\n",
    "\n",
    "    def init(self):\n",
    "        self.mfi = self.I(calc_money_flow_index, self.data, self.window)\n",
    "\n",
    "    def next(self):\n",
    "        mfi = self.mfi[-1]\n",
    "        close = self.data.Close[-1]\n",
    "        upper = close * 1.05\n",
    "        lower = close * 0.95\n",
    "\n",
    "        if self.position:\n",
    "            if close < lower or close > upper or mfi > 80:\n",
    "                self.position.close()\n",
    "        else:\n",
    "            if mfi < 20:\n",
    "                self.buy(size=1)\n",
    "\n",
    "bt = Backtest(train_day, MFI_Strategy, cash=3000, commission=0.01, margin=0.13, hedging=True)\n",
    "stats = bt.optimize(window=range(10, 30, 2), maximize='Equity Final [$]')\n",
    "print(stats)\n"
   ]
  },
  {
   "cell_type": "markdown",
   "metadata": {},
   "source": [
    "##### Negative Volume Index (NVI)\n"
   ]
  },
  {
   "cell_type": "code",
   "execution_count": null,
   "metadata": {},
   "outputs": [
    {
     "name": "stdout",
     "output_type": "stream",
     "text": [
      "Start                     2018-08-13 07:00:00\n",
      "End                       2022-08-30 09:00:00\n",
      "Duration                   1478 days 02:00:00\n",
      "Exposure Time [%]                   99.800598\n",
      "Equity Final [$]                      3321.12\n",
      "Equity Peak [$]                       3600.42\n",
      "Return [%]                             10.704\n",
      "Buy & Hold Return [%]               34.877384\n",
      "Return (Ann.) [%]                    2.614234\n",
      "Volatility (Ann.) [%]                8.452775\n",
      "Sharpe Ratio                         0.309275\n",
      "Sortino Ratio                         0.42391\n",
      "Calmar Ratio                         0.191303\n",
      "Max. Drawdown [%]                   -13.66543\n",
      "Avg. Drawdown [%]                    -1.63086\n",
      "Max. Drawdown Duration      795 days 00:00:00\n",
      "Avg. Drawdown Duration       54 days 00:00:00\n",
      "# Trades                                    1\n",
      "Win Rate [%]                            100.0\n",
      "Best Trade [%]                      33.187953\n",
      "Worst Trade [%]                     33.187953\n",
      "Avg. Trade [%]                      33.187953\n",
      "Max. Trade Duration        1477 days 00:00:00\n",
      "Avg. Trade Duration        1477 days 00:00:00\n",
      "Profit Factor                             NaN\n",
      "Expectancy [%]                      33.187953\n",
      "SQN                                       NaN\n",
      "_strategy                        NVI_Strategy\n",
      "_equity_curve                             ...\n",
      "_trades                      Size  EntryBa...\n",
      "dtype: object\n"
     ]
    }
   ],
   "source": [
    "class NVI_Strategy(Strategy):\n",
    "\n",
    "    def init(self):\n",
    "        self.nvi = self.I(calc_negative_volume_index, self.data)\n",
    "\n",
    "    def next(self):\n",
    "        nvi = self.nvi[-1]\n",
    "        close = self.data.Close[-1]\n",
    "        upper = close * 1.05\n",
    "        lower = close * 0.95\n",
    "\n",
    "        if self.position:\n",
    "            if close < lower or close > upper:\n",
    "                self.position.close()\n",
    "        else:\n",
    "            if nvi > 0:\n",
    "                self.buy(size=1)\n",
    "\n",
    "bt = Backtest(train_day, NVI_Strategy, cash=3000, commission=0.01, margin=0.13, hedging=True)\n",
    "stats = bt.run()\n",
    "print(stats)\n"
   ]
  },
  {
   "cell_type": "markdown",
   "metadata": {},
   "source": [
    "##### On-Balance Volume (OBV)\n"
   ]
  },
  {
   "cell_type": "code",
   "execution_count": null,
   "metadata": {},
   "outputs": [
    {
     "name": "stdout",
     "output_type": "stream",
     "text": [
      "Start                     2018-08-13 07:00:00\n",
      "End                       2022-08-30 09:00:00\n",
      "Duration                   1478 days 02:00:00\n",
      "Exposure Time [%]                   99.800598\n",
      "Equity Final [$]                      3321.12\n",
      "Equity Peak [$]                       3600.42\n",
      "Return [%]                             10.704\n",
      "Buy & Hold Return [%]               34.877384\n",
      "Return (Ann.) [%]                    2.614234\n",
      "Volatility (Ann.) [%]                8.452775\n",
      "Sharpe Ratio                         0.309275\n",
      "Sortino Ratio                         0.42391\n",
      "Calmar Ratio                         0.191303\n",
      "Max. Drawdown [%]                   -13.66543\n",
      "Avg. Drawdown [%]                    -1.63086\n",
      "Max. Drawdown Duration      795 days 00:00:00\n",
      "Avg. Drawdown Duration       54 days 00:00:00\n",
      "# Trades                                    1\n",
      "Win Rate [%]                            100.0\n",
      "Best Trade [%]                      33.187953\n",
      "Worst Trade [%]                     33.187953\n",
      "Avg. Trade [%]                      33.187953\n",
      "Max. Trade Duration        1477 days 00:00:00\n",
      "Avg. Trade Duration        1477 days 00:00:00\n",
      "Profit Factor                             NaN\n",
      "Expectancy [%]                      33.187953\n",
      "SQN                                       NaN\n",
      "_strategy                        OBV_Strategy\n",
      "_equity_curve                             ...\n",
      "_trades                      Size  EntryBa...\n",
      "dtype: object\n"
     ]
    }
   ],
   "source": [
    "class OBV_Strategy(Strategy):\n",
    "\n",
    "    def init(self):\n",
    "        self.obv = self.I(calc_on_balance_volume, self.data)\n",
    "\n",
    "    def next(self):\n",
    "        obv = self.obv[-1]\n",
    "        close = self.data.Close[-1]\n",
    "        upper = close * 1.05\n",
    "        lower = close * 0.95\n",
    "\n",
    "        if self.position:\n",
    "            if close < lower or close > upper:\n",
    "                self.position.close()\n",
    "        else:\n",
    "            if obv > 0:\n",
    "                self.buy(size=1)\n",
    "\n",
    "bt = Backtest(train_day, OBV_Strategy, cash=3000, commission=0.01, margin=0.13, hedging=True)\n",
    "stats = bt.run()\n",
    "print(stats)\n"
   ]
  },
  {
   "cell_type": "markdown",
   "metadata": {},
   "source": [
    "##### Volume Price Trend (VPT)"
   ]
  },
  {
   "cell_type": "code",
   "execution_count": null,
   "metadata": {},
   "outputs": [
    {
     "name": "stdout",
     "output_type": "stream",
     "text": [
      "Start                     2018-08-13 07:00:00\n",
      "End                       2022-08-30 09:00:00\n",
      "Duration                   1478 days 02:00:00\n",
      "Exposure Time [%]                   99.800598\n",
      "Equity Final [$]                      3321.12\n",
      "Equity Peak [$]                       3600.42\n",
      "Return [%]                             10.704\n",
      "Buy & Hold Return [%]               34.877384\n",
      "Return (Ann.) [%]                    2.614234\n",
      "Volatility (Ann.) [%]                8.452775\n",
      "Sharpe Ratio                         0.309275\n",
      "Sortino Ratio                         0.42391\n",
      "Calmar Ratio                         0.191303\n",
      "Max. Drawdown [%]                   -13.66543\n",
      "Avg. Drawdown [%]                    -1.63086\n",
      "Max. Drawdown Duration      795 days 00:00:00\n",
      "Avg. Drawdown Duration       54 days 00:00:00\n",
      "# Trades                                    1\n",
      "Win Rate [%]                            100.0\n",
      "Best Trade [%]                      33.187953\n",
      "Worst Trade [%]                     33.187953\n",
      "Avg. Trade [%]                      33.187953\n",
      "Max. Trade Duration        1477 days 00:00:00\n",
      "Avg. Trade Duration        1477 days 00:00:00\n",
      "Profit Factor                             NaN\n",
      "Expectancy [%]                      33.187953\n",
      "SQN                                       NaN\n",
      "_strategy                        VPT_Strategy\n",
      "_equity_curve                             ...\n",
      "_trades                      Size  EntryBa...\n",
      "dtype: object\n"
     ]
    }
   ],
   "source": [
    "class VPT_Strategy(Strategy):\n",
    "\n",
    "    def init(self):\n",
    "        self.vpt = self.I(calc_volume_price_trend, self.data)\n",
    "\n",
    "    def next(self):\n",
    "        vpt = self.vpt[-1]\n",
    "        close = self.data.Close[-1]\n",
    "        upper = close * 1.05\n",
    "        lower = close * 0.95\n",
    "\n",
    "        if self.position:\n",
    "            if close < lower or close > upper:\n",
    "                self.position.close()\n",
    "        else:\n",
    "            if vpt > 0:\n",
    "                self.buy(size=1)\n",
    "\n",
    "bt = Backtest(train_day, VPT_Strategy, cash=3000, commission=0.01, margin=0.13, hedging=True)\n",
    "stats = bt.run()\n",
    "print(stats)\n"
   ]
  },
  {
   "cell_type": "markdown",
   "metadata": {},
   "source": [
    "##### Volume Weighted Average Price (VWAP)\n"
   ]
  },
  {
   "cell_type": "code",
   "execution_count": null,
   "metadata": {},
   "outputs": [
    {
     "name": "stderr",
     "output_type": "stream",
     "text": [
      "                                               "
     ]
    },
    {
     "name": "stdout",
     "output_type": "stream",
     "text": [
      "Start                     2018-08-13 07:00:00\n",
      "End                       2024-08-30 09:00:00\n",
      "Duration                   2209 days 02:00:00\n",
      "Exposure Time [%]                   98.603723\n",
      "Equity Final [$]                      3363.85\n",
      "Equity Peak [$]                       3603.45\n",
      "Return [%]                          12.128333\n",
      "Buy & Hold Return [%]               39.666737\n",
      "Return (Ann.) [%]                    1.952285\n",
      "Volatility (Ann.) [%]                 8.27641\n",
      "Sharpe Ratio                         0.235886\n",
      "Sortino Ratio                        0.321787\n",
      "Calmar Ratio                         0.104531\n",
      "Max. Drawdown [%]                  -18.676546\n",
      "Avg. Drawdown [%]                   -1.962227\n",
      "Max. Drawdown Duration     1152 days 00:00:00\n",
      "Avg. Drawdown Duration       83 days 00:00:00\n",
      "# Trades                                    1\n",
      "Win Rate [%]                            100.0\n",
      "Best Trade [%]                      37.722254\n",
      "Worst Trade [%]                     37.722254\n",
      "Avg. Trade [%]                      37.722254\n",
      "Max. Trade Duration        2180 days 00:00:00\n",
      "Avg. Trade Duration        2180 days 00:00:00\n",
      "Profit Factor                             NaN\n",
      "Expectancy [%]                      37.722254\n",
      "SQN                                       NaN\n",
      "_strategy                 VWAP_Strategy(wi...\n",
      "_equity_curve                             ...\n",
      "_trades                      Size  EntryBa...\n",
      "dtype: object\n"
     ]
    },
    {
     "name": "stderr",
     "output_type": "stream",
     "text": [
      "\r"
     ]
    }
   ],
   "source": [
    "class VWAP_Strategy(Strategy):\n",
    "    window = 14\n",
    "\n",
    "    def init(self):\n",
    "        self.vwap = self.I(calc_volume_weighted_average_price, self.data, self.window)\n",
    "\n",
    "    def next(self):\n",
    "        close = self.data.Close[-1]\n",
    "        vwap = self.vwap[-1]\n",
    "        upper = close * 1.05\n",
    "        lower = close * 0.95\n",
    "\n",
    "        if self.position:\n",
    "            if close < lower or close > upper:\n",
    "                self.position.close()\n",
    "        else:\n",
    "            if close > vwap:\n",
    "                self.buy(size=1)\n",
    "\n",
    "bt = Backtest(data_day, VWAP_Strategy, cash=3000, commission=0.01, margin=0.13, hedging=True)\n",
    "stats = bt.optimize(window=range(5, 30, 2), maximize='Equity Final [$]')\n",
    "print(stats)\n"
   ]
  },
  {
   "cell_type": "code",
   "execution_count": null,
   "metadata": {},
   "outputs": [],
   "source": []
  }
 ],
 "metadata": {
  "kernelspec": {
   "display_name": "Python 3",
   "language": "python",
   "name": "python3"
  },
  "language_info": {
   "codemirror_mode": {
    "name": "ipython",
    "version": 3
   },
   "file_extension": ".py",
   "mimetype": "text/x-python",
   "name": "python",
   "nbconvert_exporter": "python",
   "pygments_lexer": "ipython3",
   "version": "3.10.0"
  }
 },
 "nbformat": 4,
 "nbformat_minor": 2
}
