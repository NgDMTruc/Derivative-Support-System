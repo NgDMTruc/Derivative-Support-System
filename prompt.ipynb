{
 "cells": [
  {
   "cell_type": "code",
   "execution_count": null,
   "metadata": {},
   "outputs": [],
   "source": [
    "import pandas as pd"
   ]
  },
  {
   "cell_type": "code",
   "execution_count": null,
   "metadata": {},
   "outputs": [],
   "source": [
    "data = pd.read_csv('sentiment.csv')"
   ]
  },
  {
   "cell_type": "code",
   "execution_count": null,
   "metadata": {},
   "outputs": [],
   "source": [
    "import openai\n",
    "api_key = \"sk-None-iOoyUPtcZK3npXWePKwaT3BlbkFJQrxLETpaB510hxCGTHWS\" # \"sk-None-0qLRg02ilC3Bg4I8Y2wpT3BlbkFJuqzBPXjDe3q3hVygANGG\"\n",
    "openai.api_key = api_key"
   ]
  },
  {
   "cell_type": "code",
   "execution_count": null,
   "metadata": {},
   "outputs": [],
   "source": [
    "df = data[100:1000]"
   ]
  },
  {
   "cell_type": "code",
   "execution_count": null,
   "metadata": {},
   "outputs": [],
   "source": [
    "df"
   ]
  },
  {
   "cell_type": "code",
   "execution_count": null,
   "metadata": {},
   "outputs": [],
   "source": [
    "import pandas as pd\n",
    "import openai\n",
    "\n",
    "# Hàm để đánh giá thông tin bằng GPT\n",
    "def evaluate_vn30_impact(text):\n",
    "    prompt = f\"\"\"Đánh giá đoạn dữ liệu này: '{text}' có ảnh hưởng như thế nào lên hợp đồng tương lai VN30, nếu cảm thấy thông tin này giúp hợp đồng tăng giá thì trả lời số '1', ngược lại trả lời '-1', còn nếu thông tin không ảnh hưởng gì tới hợp đồng thì trả lời số '0'.\"\"\"\n",
    "\n",
    "    # Sử dụng ChatCompletion để gửi prompt tới GPT\n",
    "    try:\n",
    "        response = openai.ChatCompletion.create(\n",
    "            model=\"gpt-4o-2024-08-06\",  # Hoặc \"gpt-4\" nếu bạn muốn sử dụng mô hình GPT-4\n",
    "            messages=[\n",
    "                {\"role\": \"system\", \"content\": \"You are a financial analyst.\"},\n",
    "                {\"role\": \"user\", \"content\": prompt}\n",
    "            ],\n",
    "            max_tokens=10,  # Số lượng token tối đa cho phản hồi\n",
    "            temperature=0  # Đặt nhiệt độ thấp để có kết quả nhất quán hơn\n",
    "        )\n",
    "        \n",
    "        # Lấy phản hồi từ GPT\n",
    "        answer = response['choices'][0]['message']['content'].strip()\n",
    "        \n",
    "        # Chuyển đổi phản hồi thành số (-1, 0, 1)\n",
    "        return int(answer)\n",
    "    \n",
    "    except (ValueError, IndexError):\n",
    "        return None\n",
    "\n",
    "# Thêm cột 'price movement' vào DataFrame\n",
    "df['price movement'] = df['Text'].apply(evaluate_vn30_impact)\n",
    "\n",
    "# Lưu kết quả vào file CSV mới\n",
    "df.to_csv('articles_with_price_movement_2.csv', index=False, encoding='utf-8')\n",
    "\n",
    "# Hiển thị kết quả\n",
    "print(df)\n"
   ]
  },
  {
   "cell_type": "markdown",
   "metadata": {},
   "source": [
    "Nếu lấy xu hướng giá làm output cho news, cần chuẩn bị:\n",
    "- Sử dụng chatgpt4 để đánh giá với thông tin news, xu hướng giá vn30 sẽ như thế nào. (1)\n",
    "- Khung giờ giao dịch là 8h45 & 9h-11h30, 13h-14h30 & 14h45, do đó phải tách dữ liệu vào các khung thời gian này.\n",
    "- Ở các dữ liệu ngoài khung thời gian giao dịch, ta không biết xu hướng giá thật sự phản ứng dựa theo thông tin nào trong vô số thông tin, ta sẽ lấy (1) làm output. (1.5)\n",
    "- Ở các dữ liệu trong các khung thời gian giao dịch và gần đó cụ thể là khoảng 7h30- 14h30, với giả định đa số nhà đầu tư sẽ phản ứng sớm với thông tin, ta xem xét xu hướng giá (price percentage change) của 1', 5', 10', 60' sau, nếu lớn hơn 75% sẽ cho là 1, nhỏ hơn 25% sẽ cho là -1, còn lại cho 0. (2)\n",
    "- Xem xét các correlation giữa (2) và (1), \n",
    "\n"
   ]
  },
  {
   "cell_type": "code",
   "execution_count": null,
   "metadata": {},
   "outputs": [],
   "source": [
    "df2= pd.read_csv('articles_with_price_movement.csv')"
   ]
  },
  {
   "cell_type": "code",
   "execution_count": null,
   "metadata": {},
   "outputs": [],
   "source": [
    "df_new= pd.concat([df2,df], axis=0, ignore_index=True)"
   ]
  },
  {
   "cell_type": "code",
   "execution_count": null,
   "metadata": {},
   "outputs": [],
   "source": [
    "df_new.to_csv('1000.csv',index=False)"
   ]
  },
  {
   "cell_type": "code",
   "execution_count": null,
   "metadata": {},
   "outputs": [],
   "source": []
  }
 ],
 "metadata": {
  "kernelspec": {
   "display_name": "Python 3",
   "language": "python",
   "name": "python3"
  },
  "language_info": {
   "codemirror_mode": {
    "name": "ipython",
    "version": 3
   },
   "file_extension": ".py",
   "mimetype": "text/x-python",
   "name": "python",
   "nbconvert_exporter": "python",
   "pygments_lexer": "ipython3",
   "version": "3.11.10"
  }
 },
 "nbformat": 4,
 "nbformat_minor": 2
}
