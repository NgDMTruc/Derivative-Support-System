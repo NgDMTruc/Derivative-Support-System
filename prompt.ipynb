{
 "cells": [
  {
   "cell_type": "code",
   "execution_count": 4,
   "metadata": {},
   "outputs": [
    {
     "name": "stdout",
     "output_type": "stream",
     "text": [
      "Collecting openai\n",
      "  Using cached openai-1.37.1-py3-none-any.whl.metadata (22 kB)\n",
      "Requirement already satisfied: anyio<5,>=3.5.0 in c:\\users\\minh truc\\appdata\\local\\programs\\python\\python310\\lib\\site-packages (from openai) (3.7.1)\n",
      "Collecting distro<2,>=1.7.0 (from openai)\n",
      "  Using cached distro-1.9.0-py3-none-any.whl.metadata (6.8 kB)\n",
      "Requirement already satisfied: httpx<1,>=0.23.0 in c:\\users\\minh truc\\appdata\\local\\programs\\python\\python310\\lib\\site-packages (from openai) (0.27.0)\n",
      "Requirement already satisfied: pydantic<3,>=1.9.0 in c:\\users\\minh truc\\appdata\\local\\programs\\python\\python310\\lib\\site-packages (from openai) (2.3.0)\n",
      "Requirement already satisfied: sniffio in c:\\users\\minh truc\\appdata\\local\\programs\\python\\python310\\lib\\site-packages (from openai) (1.3.0)\n",
      "Requirement already satisfied: tqdm>4 in c:\\users\\minh truc\\appdata\\local\\programs\\python\\python310\\lib\\site-packages (from openai) (4.66.1)\n",
      "Requirement already satisfied: typing-extensions<5,>=4.7 in c:\\users\\minh truc\\appdata\\local\\programs\\python\\python310\\lib\\site-packages (from openai) (4.8.0)\n",
      "Requirement already satisfied: idna>=2.8 in c:\\users\\minh truc\\appdata\\roaming\\python\\python310\\site-packages (from anyio<5,>=3.5.0->openai) (2.10)\n",
      "Requirement already satisfied: exceptiongroup in c:\\users\\minh truc\\appdata\\local\\programs\\python\\python310\\lib\\site-packages (from anyio<5,>=3.5.0->openai) (1.1.3)\n",
      "Requirement already satisfied: certifi in c:\\users\\minh truc\\appdata\\roaming\\python\\python310\\site-packages (from httpx<1,>=0.23.0->openai) (2022.12.7)\n",
      "Requirement already satisfied: httpcore==1.* in c:\\users\\minh truc\\appdata\\local\\programs\\python\\python310\\lib\\site-packages (from httpx<1,>=0.23.0->openai) (1.0.4)\n",
      "Requirement already satisfied: h11<0.15,>=0.13 in c:\\users\\minh truc\\appdata\\local\\programs\\python\\python310\\lib\\site-packages (from httpcore==1.*->httpx<1,>=0.23.0->openai) (0.14.0)\n",
      "Requirement already satisfied: annotated-types>=0.4.0 in c:\\users\\minh truc\\appdata\\local\\programs\\python\\python310\\lib\\site-packages (from pydantic<3,>=1.9.0->openai) (0.5.0)\n",
      "Requirement already satisfied: pydantic-core==2.6.3 in c:\\users\\minh truc\\appdata\\local\\programs\\python\\python310\\lib\\site-packages (from pydantic<3,>=1.9.0->openai) (2.6.3)\n",
      "Requirement already satisfied: colorama in c:\\users\\minh truc\\appdata\\local\\programs\\python\\python310\\lib\\site-packages (from tqdm>4->openai) (0.4.6)\n",
      "Using cached openai-1.37.1-py3-none-any.whl (337 kB)\n",
      "Using cached distro-1.9.0-py3-none-any.whl (20 kB)\n",
      "Installing collected packages: distro, openai\n",
      "Successfully installed distro-1.9.0 openai-1.37.1\n",
      "Note: you may need to restart the kernel to use updated packages.\n"
     ]
    },
    {
     "name": "stderr",
     "output_type": "stream",
     "text": [
      "WARNING: Ignoring invalid distribution -rotobuf (c:\\users\\minh truc\\appdata\\local\\programs\\python\\python310\\lib\\site-packages)\n",
      "WARNING: Ignoring invalid distribution -rotobuf (c:\\users\\minh truc\\appdata\\local\\programs\\python\\python310\\lib\\site-packages)\n",
      "  WARNING: The script distro.exe is installed in 'c:\\Users\\Minh Truc\\AppData\\Local\\Programs\\Python\\Python310\\Scripts' which is not on PATH.\n",
      "  Consider adding this directory to PATH or, if you prefer to suppress this warning, use --no-warn-script-location.\n",
      "  WARNING: The script openai.exe is installed in 'c:\\Users\\Minh Truc\\AppData\\Local\\Programs\\Python\\Python310\\Scripts' which is not on PATH.\n",
      "  Consider adding this directory to PATH or, if you prefer to suppress this warning, use --no-warn-script-location.\n",
      "\n",
      "[notice] A new release of pip is available: 23.3.1 -> 24.1.2\n",
      "[notice] To update, run: python.exe -m pip install --upgrade pip\n"
     ]
    }
   ],
   "source": [
    "pip install --upgrade openai"
   ]
  },
  {
   "cell_type": "code",
   "execution_count": 18,
   "metadata": {},
   "outputs": [],
   "source": [
    "import pandas as pd"
   ]
  },
  {
   "cell_type": "code",
   "execution_count": 21,
   "metadata": {},
   "outputs": [],
   "source": [
    "data = pd.read_csv('new_rag.csv')"
   ]
  },
  {
   "cell_type": "code",
   "execution_count": 22,
   "metadata": {},
   "outputs": [
    {
     "data": {
      "text/html": [
       "<div>\n",
       "<style scoped>\n",
       "    .dataframe tbody tr th:only-of-type {\n",
       "        vertical-align: middle;\n",
       "    }\n",
       "\n",
       "    .dataframe tbody tr th {\n",
       "        vertical-align: top;\n",
       "    }\n",
       "\n",
       "    .dataframe thead th {\n",
       "        text-align: right;\n",
       "    }\n",
       "</style>\n",
       "<table border=\"1\" class=\"dataframe\">\n",
       "  <thead>\n",
       "    <tr style=\"text-align: right;\">\n",
       "      <th></th>\n",
       "      <th>Context</th>\n",
       "    </tr>\n",
       "  </thead>\n",
       "  <tbody>\n",
       "    <tr>\n",
       "      <th>0</th>\n",
       "      <td>Thủ tục xin tạm ngưng/ bảo lưu để học lại?Sinh...</td>\n",
       "    </tr>\n",
       "    <tr>\n",
       "      <th>1</th>\n",
       "      <td>Cách thức đăng ký học lại ?Sinh viên có thể đă...</td>\n",
       "    </tr>\n",
       "    <tr>\n",
       "      <th>2</th>\n",
       "      <td>Thủ tục xin bảo lưu/tạm ngừng 1 học kỳ ?Bảo lư...</td>\n",
       "    </tr>\n",
       "    <tr>\n",
       "      <th>3</th>\n",
       "      <td>Cách thức xin bảo lưu học phần Tiếng Anh dự bị...</td>\n",
       "    </tr>\n",
       "    <tr>\n",
       "      <th>4</th>\n",
       "      <td>Cách thức đăng ký học môn chậm kỳ?Môn chậm kỳ ...</td>\n",
       "    </tr>\n",
       "    <tr>\n",
       "      <th>...</th>\n",
       "      <td>...</td>\n",
       "    </tr>\n",
       "    <tr>\n",
       "      <th>167</th>\n",
       "      <td>Đại học FPT trở thành thành viên liên kết của ...</td>\n",
       "    </tr>\n",
       "    <tr>\n",
       "      <th>168</th>\n",
       "      <td>Tổng quan về chuyên ngành Truyền thông đa phươ...</td>\n",
       "    </tr>\n",
       "    <tr>\n",
       "      <th>169</th>\n",
       "      <td>Bộ máy tổ chức của Trường Đại học FPT gồm Hội ...</td>\n",
       "    </tr>\n",
       "    <tr>\n",
       "      <th>170</th>\n",
       "      <td>Tập đoàn FPT\\nNăm 1988, 13 nhà khoa học trẻ th...</td>\n",
       "    </tr>\n",
       "    <tr>\n",
       "      <th>171</th>\n",
       "      <td>Với sứ mệnh “Cung cấp năng lực cạnh tranh toàn...</td>\n",
       "    </tr>\n",
       "  </tbody>\n",
       "</table>\n",
       "<p>172 rows × 1 columns</p>\n",
       "</div>"
      ],
      "text/plain": [
       "                                               Context\n",
       "0    Thủ tục xin tạm ngưng/ bảo lưu để học lại?Sinh...\n",
       "1    Cách thức đăng ký học lại ?Sinh viên có thể đă...\n",
       "2    Thủ tục xin bảo lưu/tạm ngừng 1 học kỳ ?Bảo lư...\n",
       "3    Cách thức xin bảo lưu học phần Tiếng Anh dự bị...\n",
       "4    Cách thức đăng ký học môn chậm kỳ?Môn chậm kỳ ...\n",
       "..                                                 ...\n",
       "167  Đại học FPT trở thành thành viên liên kết của ...\n",
       "168  Tổng quan về chuyên ngành Truyền thông đa phươ...\n",
       "169  Bộ máy tổ chức của Trường Đại học FPT gồm Hội ...\n",
       "170  Tập đoàn FPT\\nNăm 1988, 13 nhà khoa học trẻ th...\n",
       "171  Với sứ mệnh “Cung cấp năng lực cạnh tranh toàn...\n",
       "\n",
       "[172 rows x 1 columns]"
      ]
     },
     "execution_count": 22,
     "metadata": {},
     "output_type": "execute_result"
    }
   ],
   "source": [
    "data"
   ]
  },
  {
   "cell_type": "code",
   "execution_count": null,
   "metadata": {},
   "outputs": [],
   "source": []
  },
  {
   "cell_type": "code",
   "execution_count": 28,
   "metadata": {},
   "outputs": [
    {
     "data": {
      "text/plain": [
       "'Thủ tục xin tạm ngưng/ bảo lưu để học lại?Sinh viên học chuyên ngành có thể làm thủ tục bảo lưu kỳ học đi để đăng ký học lại các học phần chưa đạt.\\nThời hạn đăng ký: Theo thông báo của phòng Quản lý Đào tạo có trong kế hoạch học tập thông báo đến sinh viên vào đầu kỳ. Thông thường sinh viên có thể làm thủ tục này trước khi bắt đầu học kỳ mới 3 tuần và kết thúc muộn nhất trước khi bắt đầu học kỳ mới 1 tuần.\\nLưu ý:\\r\\n- Sau khi hoàn tất thủ tục tạm hoãn tiến độ 1 học kỳ để học lại, sinh viên bắt buộc phải đăng ký học lại ít nhất 1 môn; trong trường hợp các môn học lại không mở lớp hoặc đã full, sinh viên cần đăng ký vào danh sách chờ (wishlist) để được xếp lớp học trong lần mở lớp gần nhất.\\r\\n- Sinh viên nợ môn không đủ điều kiện chuyển giai đoạn thì sẽ thuộc diện tạm ngưng bắt buộc để học lại và không cần phải làm thủ tục tạm ngưng để học lại.'"
      ]
     },
     "execution_count": 28,
     "metadata": {},
     "output_type": "execute_result"
    }
   ],
   "source": [
    "data['Context'][0]"
   ]
  },
  {
   "cell_type": "code",
   "execution_count": 24,
   "metadata": {},
   "outputs": [],
   "source": [
    "context = data['Context'][1]"
   ]
  },
  {
   "cell_type": "code",
   "execution_count": 25,
   "metadata": {},
   "outputs": [
    {
     "name": "stdout",
     "output_type": "stream",
     "text": [
      "ChatCompletionMessage(content='1. Sinh viên học chuyên ngành có thể làm thủ tục bảo lưu kỳ học đi để đăng ký học lại các học phần chưa đạt không?\\n- Có, sinh viên có thể làm thủ tục bảo lưu để học lại các học phần chưa đạt.\\n\\n2. Khi nào là thời hạn cuối cùng để hoàn tất thủ tục tạm hoãn tiến độ 1 học kỳ để học lại?\\n- Thời hạn cuối cùng để hoàn tất thủ tục tạm hoãn tiến độ 1 học kỳ để học lại là trước khi bắt đầu học kỳ mới 1 tuần.', role='assistant', function_call=None, tool_calls=None)\n"
     ]
    }
   ],
   "source": [
    "from openai import OpenAI\n",
    "api_key = \"sk-None-iOoyUPtcZK3npXWePKwaT3BlbkFJQrxLETpaB510hxCGTHWS\" # \"sk-None-0qLRg02ilC3Bg4I8Y2wpT3BlbkFJuqzBPXjDe3q3hVygANGG\"\n",
    "client = OpenAI(api_key=api_key)"
   ]
  },
  {
   "cell_type": "code",
   "execution_count": 127,
   "metadata": {},
   "outputs": [
    {
     "data": {
      "text/html": [
       "<div>\n",
       "<style scoped>\n",
       "    .dataframe tbody tr th:only-of-type {\n",
       "        vertical-align: middle;\n",
       "    }\n",
       "\n",
       "    .dataframe tbody tr th {\n",
       "        vertical-align: top;\n",
       "    }\n",
       "\n",
       "    .dataframe thead th {\n",
       "        text-align: right;\n",
       "    }\n",
       "</style>\n",
       "<table border=\"1\" class=\"dataframe\">\n",
       "  <thead>\n",
       "    <tr style=\"text-align: right;\">\n",
       "      <th></th>\n",
       "      <th>question</th>\n",
       "      <th>answer</th>\n",
       "    </tr>\n",
       "  </thead>\n",
       "  <tbody>\n",
       "    <tr>\n",
       "      <th>0</th>\n",
       "      <td>Sinh viên học chuyên ngành có thể làm thủ tục ...</td>\n",
       "      <td>Có, sinh viên có thể làm thủ tục bảo lưu để họ...</td>\n",
       "    </tr>\n",
       "    <tr>\n",
       "      <th>1</th>\n",
       "      <td>Khi nào là thời hạn cuối cùng để hoàn tất thủ ...</td>\n",
       "      <td>Thời hạn cuối cùng để hoàn tất thủ tục tạm hoã...</td>\n",
       "    </tr>\n",
       "  </tbody>\n",
       "</table>\n",
       "</div>"
      ],
      "text/plain": [
       "                                            question  \\\n",
       "0  Sinh viên học chuyên ngành có thể làm thủ tục ...   \n",
       "1  Khi nào là thời hạn cuối cùng để hoàn tất thủ ...   \n",
       "\n",
       "                                              answer  \n",
       "0  Có, sinh viên có thể làm thủ tục bảo lưu để họ...  \n",
       "1  Thời hạn cuối cùng để hoàn tất thủ tục tạm hoã...  "
      ]
     },
     "execution_count": 127,
     "metadata": {},
     "output_type": "execute_result"
    }
   ],
   "source": [
    "df = pd.DataFrame(columns=['question', 'answer'])\n",
    "\n",
    "# Định nghĩa hàm để thêm câu hỏi và câu trả lời vào DataFrame\n",
    "def add_qa_pair(df, qa_text):\n",
    "    # Tách các cặp câu hỏi và câu trả lời bằng cách tìm hai dấu xuống dòng liên tiếp\n",
    "    pairs = qa_text.strip().split('\\n\\n')\n",
    "    for pair in pairs:\n",
    "        if pair.strip():\n",
    "            # Tách câu hỏi và câu trả lời bằng cách tìm dấu xuống dòng đầu tiên\n",
    "            parts = pair.split('\\n', 1)\n",
    "            if len(parts) == 2:\n",
    "                question, answer = parts\n",
    "                question = question.strip()\n",
    "                answer = answer.strip()\n",
    "                # Sử dụng loc để thêm hàng mới vào DataFrame\n",
    "                df.loc[len(df)] = [question, answer]\n",
    "            else:\n",
    "                continue\n",
    "    return df\n",
    "result = \"\"\"\n",
    "Sinh viên học chuyên ngành có thể làm thủ tục bảo lưu kỳ học đi để đăng ký học lại các học phần chưa đạt không?\n",
    "Có, sinh viên có thể làm thủ tục bảo lưu để học lại các học phần chưa đạt.\n",
    "\n",
    "Khi nào là thời hạn cuối cùng để hoàn tất thủ tục tạm hoãn tiến độ 1 học kỳ để học lại?\n",
    "Thời hạn cuối cùng để hoàn tất thủ tục tạm hoãn tiến độ 1 học kỳ để học lại là trước khi bắt đầu học kỳ mới 1 tuần.\n",
    "\"\"\"\n",
    "df = add_qa_pair(df, result)\n",
    "\n",
    "# Hiển thị DataFrame\n",
    "df"
   ]
  },
  {
   "cell_type": "code",
   "execution_count": 121,
   "metadata": {},
   "outputs": [
    {
     "data": {
      "text/plain": [
       "171"
      ]
     },
     "execution_count": 121,
     "metadata": {},
     "output_type": "execute_result"
    }
   ],
   "source": [
    "len(data)-1"
   ]
  },
  {
   "cell_type": "code",
   "execution_count": 130,
   "metadata": {},
   "outputs": [],
   "source": [
    "for i in range(3,len(data)-1):\n",
    "    context = data['Context'][i]\n",
    "    completion = client.chat.completions.create(\n",
    "      model=\"gpt-3.5-turbo\",\n",
    "      messages=[\n",
    "        {\"role\": \"system\", \"content\": \"Bạn sẽ nhận được một đoạn nội dung và trả về 2 cặp, mỗi cặp gồm 1 câu hỏi và 1 câu trả lời cho nội dung này, Output phải theo mẫu sau:\\n\\n [Câu hỏi]?\\n[Câu trả lời]\\n\\n [Câu hỏi]?\\n[Câu trả lời]\"},\n",
    "        {\"role\": \"user\", \"content\": context}\n",
    "      ]\n",
    "    )\n",
    "    result =completion.choices[0].message.content\n",
    "    df = add_qa_pair(df, result)\n"
   ]
  },
  {
   "cell_type": "code",
   "execution_count": 125,
   "metadata": {},
   "outputs": [
    {
     "name": "stdout",
     "output_type": "stream",
     "text": [
      "Làm thế nào để xin bảo lưu học phần Tiếng Anh dự bị?\n",
      "Để xin bảo lưu học phần Tiếng Anh dự bị, bạn cần thực hiện các bước sau:\n",
      "1. Thời hạn làm thủ tục: Trước khi bắt đầu học phần Tiếng Anh 3 ngày hoặc theo thông báo riêng từ phòng Đào tạo.\n",
      "2. Hiệu lực bảo lưu: Trong vòng 2 tháng, tương đương với thời gian học 1 level Tiếng Anh.\n",
      "3. Cách thức đăng ký: Đăng nhập fap.fpt.edu.vn => Thủ tục/Đơn từ => Gửi đơn => Chọn: Các loại đơn khác: Trình bày nguyện vọng => Send.\n",
      "4. Sau khi gửi đơn, sinh viên cần theo dõi tại mục \"Xem đơn\" để nhận phản hồi của bộ phận xử lý trong vòng 2 ngày làm việc.\n"
     ]
    }
   ],
   "source": [
    "print(result)"
   ]
  },
  {
   "cell_type": "code",
   "execution_count": 131,
   "metadata": {},
   "outputs": [
    {
     "data": {
      "text/html": [
       "<div>\n",
       "<style scoped>\n",
       "    .dataframe tbody tr th:only-of-type {\n",
       "        vertical-align: middle;\n",
       "    }\n",
       "\n",
       "    .dataframe tbody tr th {\n",
       "        vertical-align: top;\n",
       "    }\n",
       "\n",
       "    .dataframe thead th {\n",
       "        text-align: right;\n",
       "    }\n",
       "</style>\n",
       "<table border=\"1\" class=\"dataframe\">\n",
       "  <thead>\n",
       "    <tr style=\"text-align: right;\">\n",
       "      <th></th>\n",
       "      <th>question</th>\n",
       "      <th>answer</th>\n",
       "    </tr>\n",
       "  </thead>\n",
       "  <tbody>\n",
       "    <tr>\n",
       "      <th>0</th>\n",
       "      <td>Sinh viên học chuyên ngành có thể làm thủ tục ...</td>\n",
       "      <td>Có, sinh viên có thể làm thủ tục bảo lưu để họ...</td>\n",
       "    </tr>\n",
       "    <tr>\n",
       "      <th>1</th>\n",
       "      <td>Khi nào là thời hạn cuối cùng để hoàn tất thủ ...</td>\n",
       "      <td>Thời hạn cuối cùng để hoàn tất thủ tục tạm hoã...</td>\n",
       "    </tr>\n",
       "    <tr>\n",
       "      <th>2</th>\n",
       "      <td>Làm sao để đăng ký học lại?</td>\n",
       "      <td>Sinh viên có thể đăng ký học lại những môn chư...</td>\n",
       "    </tr>\n",
       "    <tr>\n",
       "      <th>3</th>\n",
       "      <td>Làm sao để đăng ký học lại bước 1?</td>\n",
       "      <td>Trước tiên, sinh viên cần có đủ số dư tương đư...</td>\n",
       "    </tr>\n",
       "    <tr>\n",
       "      <th>4</th>\n",
       "      <td>Thủ tục bảo lưu/tạm ngừng học kỳ là gì?</td>\n",
       "      <td>Bảo lưu/tạm ngừng hay tạm nghỉ 1 học kỳ là tìn...</td>\n",
       "    </tr>\n",
       "    <tr>\n",
       "      <th>...</th>\n",
       "      <td>...</td>\n",
       "      <td>...</td>\n",
       "    </tr>\n",
       "    <tr>\n",
       "      <th>268</th>\n",
       "      <td>Sinh viên tốt nghiệp chuyên ngành Truyền thông...</td>\n",
       "      <td>Sinh viên tốt nghiệp chuyên ngành Truyền thông...</td>\n",
       "    </tr>\n",
       "    <tr>\n",
       "      <th>269</th>\n",
       "      <td>Hội đồng trường có trách nhiệm gì?</td>\n",
       "      <td>Hội đồng trường có trách nhiệm ra các quyết ng...</td>\n",
       "    </tr>\n",
       "    <tr>\n",
       "      <th>270</th>\n",
       "      <td>Ban Giám hiệu của Trường Đại học FPT có bao nh...</td>\n",
       "      <td>Ban Giám hiệu gồm Hiệu trưởng và bốn Phó Hiệu ...</td>\n",
       "    </tr>\n",
       "    <tr>\n",
       "      <th>271</th>\n",
       "      <td>FPT được thành lập vào năm nào và với mong muố...</td>\n",
       "      <td>FPT được thành lập vào năm 1988 bởi 13 nhà kho...</td>\n",
       "    </tr>\n",
       "    <tr>\n",
       "      <th>272</th>\n",
       "      <td>FPT chú trọng vào những lĩnh vực và hoạt động ...</td>\n",
       "      <td>FPT chú trọng vào các lĩnh vực như xuất khẩu p...</td>\n",
       "    </tr>\n",
       "  </tbody>\n",
       "</table>\n",
       "<p>273 rows × 2 columns</p>\n",
       "</div>"
      ],
      "text/plain": [
       "                                              question  \\\n",
       "0    Sinh viên học chuyên ngành có thể làm thủ tục ...   \n",
       "1    Khi nào là thời hạn cuối cùng để hoàn tất thủ ...   \n",
       "2                          Làm sao để đăng ký học lại?   \n",
       "3                   Làm sao để đăng ký học lại bước 1?   \n",
       "4              Thủ tục bảo lưu/tạm ngừng học kỳ là gì?   \n",
       "..                                                 ...   \n",
       "268  Sinh viên tốt nghiệp chuyên ngành Truyền thông...   \n",
       "269                 Hội đồng trường có trách nhiệm gì?   \n",
       "270  Ban Giám hiệu của Trường Đại học FPT có bao nh...   \n",
       "271  FPT được thành lập vào năm nào và với mong muố...   \n",
       "272  FPT chú trọng vào những lĩnh vực và hoạt động ...   \n",
       "\n",
       "                                                answer  \n",
       "0    Có, sinh viên có thể làm thủ tục bảo lưu để họ...  \n",
       "1    Thời hạn cuối cùng để hoàn tất thủ tục tạm hoã...  \n",
       "2    Sinh viên có thể đăng ký học lại những môn chư...  \n",
       "3    Trước tiên, sinh viên cần có đủ số dư tương đư...  \n",
       "4    Bảo lưu/tạm ngừng hay tạm nghỉ 1 học kỳ là tìn...  \n",
       "..                                                 ...  \n",
       "268  Sinh viên tốt nghiệp chuyên ngành Truyền thông...  \n",
       "269  Hội đồng trường có trách nhiệm ra các quyết ng...  \n",
       "270  Ban Giám hiệu gồm Hiệu trưởng và bốn Phó Hiệu ...  \n",
       "271  FPT được thành lập vào năm 1988 bởi 13 nhà kho...  \n",
       "272  FPT chú trọng vào các lĩnh vực như xuất khẩu p...  \n",
       "\n",
       "[273 rows x 2 columns]"
      ]
     },
     "execution_count": 131,
     "metadata": {},
     "output_type": "execute_result"
    }
   ],
   "source": [
    "df"
   ]
  },
  {
   "cell_type": "code",
   "execution_count": 132,
   "metadata": {},
   "outputs": [],
   "source": [
    "df.to_csv('fap_qa.csv')"
   ]
  },
  {
   "cell_type": "code",
   "execution_count": null,
   "metadata": {},
   "outputs": [],
   "source": []
  }
 ],
 "metadata": {
  "kernelspec": {
   "display_name": "Python 3",
   "language": "python",
   "name": "python3"
  },
  "language_info": {
   "codemirror_mode": {
    "name": "ipython",
    "version": 3
   },
   "file_extension": ".py",
   "mimetype": "text/x-python",
   "name": "python",
   "nbconvert_exporter": "python",
   "pygments_lexer": "ipython3",
   "version": "3.10.1"
  }
 },
 "nbformat": 4,
 "nbformat_minor": 2
}
