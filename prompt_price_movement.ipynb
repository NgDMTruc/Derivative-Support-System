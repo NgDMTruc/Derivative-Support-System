{
 "cells": [
  {
   "cell_type": "code",
   "execution_count": 1,
   "metadata": {},
   "outputs": [],
   "source": [
    "import pandas as pd"
   ]
  },
  {
   "cell_type": "code",
   "execution_count": 2,
   "metadata": {},
   "outputs": [],
   "source": [
    "data = pd.read_csv('sentiment.csv')"
   ]
  },
  {
   "cell_type": "code",
   "execution_count": null,
   "metadata": {},
   "outputs": [],
   "source": [
    "import openai\n",
    "api_key = \"\"\n",
    "openai.api_key = api_key"
   ]
  },
  {
   "cell_type": "code",
   "execution_count": 4,
   "metadata": {},
   "outputs": [],
   "source": [
    "df = data[:1000]"
   ]
  },
  {
   "cell_type": "code",
   "execution_count": 5,
   "metadata": {},
   "outputs": [
    {
     "name": "stdout",
     "output_type": "stream",
     "text": [
      "                                                  Text  price movement\n",
      "0    Điều ít biết về sàn TMĐT Temu đang gây bão vì ...             0.0\n",
      "1    Margin cao kỷ lục nhưng thanh khoản thị trường...            -1.0\n",
      "2    Tự doanh CTCK trở lại mua ròng trong phiên 24/...             1.0\n",
      "3    Tỷ phú Nguyễn Đăng Quang chỉ nắm 18 cổ phiếu M...             0.0\n",
      "4    Chuỗi siêu thị của tỉ phú Nguyễn Đăng Quang bắ...             1.0\n",
      "..                                                 ...             ...\n",
      "995  HoSE tiếp tục cắt margin cổ phiếu do thua lỗ, ...            -1.0\n",
      "996  Biến động nhân sự cấp cao tại Đầu tư Hải Phát ...             0.0\n",
      "997  “The Investors”: Chuỗi Talkshow truyền cảm hứn...             NaN\n",
      "998  Hé lộ thu nhập \"khủng\" của chủ tịch, tổng giám...             0.0\n",
      "999  ‘Sếp lớn’ Thế giới Di động bán mạnh cổ phiếu M...            -1.0\n",
      "\n",
      "[1000 rows x 2 columns]\n"
     ]
    },
    {
     "name": "stderr",
     "output_type": "stream",
     "text": [
      "C:\\Users\\Minh Truc\\AppData\\Local\\Temp\\ipykernel_17892\\378446692.py:30: SettingWithCopyWarning: \n",
      "A value is trying to be set on a copy of a slice from a DataFrame.\n",
      "Try using .loc[row_indexer,col_indexer] = value instead\n",
      "\n",
      "See the caveats in the documentation: https://pandas.pydata.org/pandas-docs/stable/user_guide/indexing.html#returning-a-view-versus-a-copy\n",
      "  df['price movement'] = df['Text'].apply(evaluate_vn30_impact)\n"
     ]
    }
   ],
   "source": [
    "import pandas as pd\n",
    "import openai\n",
    "\n",
    "# Hàm để đánh giá thông tin bằng GPT\n",
    "def evaluate_vn30_impact(text):\n",
    "    prompt = f\"\"\"Đánh giá đoạn dữ liệu này: '{text}' có ảnh hưởng như thế nào đến tâm lý nhà đầu tư trên hợp đồng tương lai VN30. Nếu cảm thấy thông tin có thể giúp hợp đồng tăng giá thì trả lời số '1', nếu có thể làm giảm giá thì trả lời '-1', còn nếu không có tác động rõ ràng, trả lời '0'.\"\"\"\n",
    "\n",
    "    # Sử dụng ChatCompletion để gửi prompt tới GPT\n",
    "    try:\n",
    "        response = openai.ChatCompletion.create(\n",
    "            model=\"gpt-4o-2024-08-06\",  # Hoặc \"gpt-4\" nếu bạn muốn sử dụng mô hình GPT-4\n",
    "            messages=[\n",
    "                {\"role\": \"system\", \"content\": \"You are a financial analyst.\"},\n",
    "                {\"role\": \"user\", \"content\": prompt}\n",
    "            ],\n",
    "            max_tokens=10,  # Số lượng token tối đa cho phản hồi\n",
    "            temperature=0  # Đặt nhiệt độ thấp để có kết quả nhất quán hơn\n",
    "        )\n",
    "        \n",
    "        # Lấy phản hồi từ GPT\n",
    "        answer = response['choices'][0]['message']['content'].strip()\n",
    "        \n",
    "        # Chuyển đổi phản hồi thành số (-1, 0, 1)\n",
    "        return int(answer)\n",
    "    \n",
    "    except (ValueError, IndexError):\n",
    "        return None\n",
    "\n",
    "# Thêm cột 'price movement' vào DataFrame\n",
    "df['price movement'] = df['Text'].apply(evaluate_vn30_impact)\n",
    "\n",
    "# Lưu kết quả vào file CSV mới\n",
    "df.to_csv('articles_with_price_movement.csv', index=False, encoding='utf-8')\n",
    "\n",
    "# Hiển thị kết quả\n",
    "print(df)\n"
   ]
  },
  {
   "cell_type": "markdown",
   "metadata": {},
   "source": [
    "Nếu lấy xu hướng giá làm output cho news, cần chuẩn bị:\n",
    "- Sử dụng chatgpt4 để đánh giá với thông tin news, xu hướng giá vn30 sẽ như thế nào. (1)\n",
    "- Khung giờ giao dịch là 8h45 & 9h-11h30, 13h-14h30 & 14h45, do đó phải tách dữ liệu vào các khung thời gian này.\n",
    "- Ở các dữ liệu ngoài khung thời gian giao dịch, ta không biết xu hướng giá thật sự phản ứng dựa theo thông tin nào trong vô số thông tin, ta sẽ lấy (1) làm output. (1.5)\n",
    "- Ở các dữ liệu trong các khung thời gian giao dịch và gần đó cụ thể là khoảng 7h30- 14h30, với giả định đa số nhà đầu tư sẽ phản ứng sớm với thông tin, ta xem xét xu hướng giá (price percentage change) của 1', 5', 10', 60' sau, nếu lớn hơn 75% sẽ cho là 1, nhỏ hơn 25% sẽ cho là -1, còn lại cho 0. (2)\n",
    "- Xem xét các correlation giữa (2) và (1), \n",
    "\n"
   ]
  },
  {
   "cell_type": "markdown",
   "metadata": {},
   "source": [
    "# For concat"
   ]
  },
  {
   "cell_type": "code",
   "execution_count": null,
   "metadata": {},
   "outputs": [],
   "source": [
    "df2= pd.read_csv('articles_with_price_movement.csv')"
   ]
  },
  {
   "cell_type": "code",
   "execution_count": null,
   "metadata": {},
   "outputs": [],
   "source": [
    "df_new= pd.concat([df2,df], axis=0, ignore_index=True)"
   ]
  },
  {
   "cell_type": "code",
   "execution_count": null,
   "metadata": {},
   "outputs": [],
   "source": [
    "df_new.to_csv('1000.csv',index=False)"
   ]
  },
  {
   "cell_type": "code",
   "execution_count": null,
   "metadata": {},
   "outputs": [],
   "source": []
  }
 ],
 "metadata": {
  "kernelspec": {
   "display_name": "Python 3",
   "language": "python",
   "name": "python3"
  },
  "language_info": {
   "codemirror_mode": {
    "name": "ipython",
    "version": 3
   },
   "file_extension": ".py",
   "mimetype": "text/x-python",
   "name": "python",
   "nbconvert_exporter": "python",
   "pygments_lexer": "ipython3",
   "version": "3.11.10"
  }
 },
 "nbformat": 4,
 "nbformat_minor": 2
}
