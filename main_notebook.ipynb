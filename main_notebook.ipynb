{
  "cells": [
    {
      "cell_type": "markdown",
      "metadata": {
        "id": "EhK1f5uMqm_4"
      },
      "source": [
        "## Install dependencies"
      ]
    },
    {
      "cell_type": "code",
      "execution_count": null,
      "metadata": {
        "colab": {
          "base_uri": "https://localhost:8080/"
        },
        "id": "9y1X1vpKq88O",
        "outputId": "e50c0458-a807-49bc-d7f2-cf5088bba55d"
      },
      "outputs": [
        {
          "name": "stdout",
          "output_type": "stream",
          "text": [
            "Collecting optuna\n",
            "  Downloading optuna-3.6.1-py3-none-any.whl (380 kB)\n",
            "\u001b[2K     \u001b[90m━━━━━━━━━━━━━━━━━━━━━━━━━━━━━━━━━━━━━━━━\u001b[0m \u001b[32m380.1/380.1 kB\u001b[0m \u001b[31m1.9 MB/s\u001b[0m eta \u001b[36m0:00:00\u001b[0m\n",
            "\u001b[?25hRequirement already satisfied: joblib in /usr/local/lib/python3.10/dist-packages (1.4.2)\n",
            "Requirement already satisfied: xgboost in /usr/local/lib/python3.10/dist-packages (2.0.3)\n",
            "Collecting ta\n",
            "  Downloading ta-0.11.0.tar.gz (25 kB)\n",
            "  Preparing metadata (setup.py) ... \u001b[?25l\u001b[?25hdone\n",
            "Collecting vnstock\n",
            "  Downloading vnstock-0.2.9.0-py3-none-any.whl (37 kB)\n",
            "Collecting alembic>=1.5.0 (from optuna)\n",
            "  Downloading alembic-1.13.1-py3-none-any.whl (233 kB)\n",
            "\u001b[2K     \u001b[90m━━━━━━━━━━━━━━━━━━━━━━━━━━━━━━━━━━━━━━━━\u001b[0m \u001b[32m233.4/233.4 kB\u001b[0m \u001b[31m11.4 MB/s\u001b[0m eta \u001b[36m0:00:00\u001b[0m\n",
            "\u001b[?25hCollecting colorlog (from optuna)\n",
            "  Downloading colorlog-6.8.2-py3-none-any.whl (11 kB)\n",
            "Requirement already satisfied: numpy in /usr/local/lib/python3.10/dist-packages (from optuna) (1.25.2)\n",
            "Requirement already satisfied: packaging>=20.0 in /usr/local/lib/python3.10/dist-packages (from optuna) (24.1)\n",
            "Requirement already satisfied: sqlalchemy>=1.3.0 in /usr/local/lib/python3.10/dist-packages (from optuna) (2.0.30)\n",
            "Requirement already satisfied: tqdm in /usr/local/lib/python3.10/dist-packages (from optuna) (4.66.4)\n",
            "Requirement already satisfied: PyYAML in /usr/local/lib/python3.10/dist-packages (from optuna) (6.0.1)\n",
            "Requirement already satisfied: scipy in /usr/local/lib/python3.10/dist-packages (from xgboost) (1.11.4)\n",
            "Requirement already satisfied: pandas in /usr/local/lib/python3.10/dist-packages (from ta) (2.0.3)\n",
            "Collecting Mako (from alembic>=1.5.0->optuna)\n",
            "  Downloading Mako-1.3.5-py3-none-any.whl (78 kB)\n",
            "\u001b[2K     \u001b[90m━━━━━━━━━━━━━━━━━━━━━━━━━━━━━━━━━━━━━━━━\u001b[0m \u001b[32m78.6/78.6 kB\u001b[0m \u001b[31m6.0 MB/s\u001b[0m eta \u001b[36m0:00:00\u001b[0m\n",
            "\u001b[?25hRequirement already satisfied: typing-extensions>=4 in /usr/local/lib/python3.10/dist-packages (from alembic>=1.5.0->optuna) (4.12.2)\n",
            "Requirement already satisfied: greenlet!=0.4.17 in /usr/local/lib/python3.10/dist-packages (from sqlalchemy>=1.3.0->optuna) (3.0.3)\n",
            "Requirement already satisfied: python-dateutil>=2.8.2 in /usr/local/lib/python3.10/dist-packages (from pandas->ta) (2.8.2)\n",
            "Requirement already satisfied: pytz>=2020.1 in /usr/local/lib/python3.10/dist-packages (from pandas->ta) (2023.4)\n",
            "Requirement already satisfied: tzdata>=2022.1 in /usr/local/lib/python3.10/dist-packages (from pandas->ta) (2024.1)\n",
            "Requirement already satisfied: six>=1.5 in /usr/local/lib/python3.10/dist-packages (from python-dateutil>=2.8.2->pandas->ta) (1.16.0)\n",
            "Requirement already satisfied: MarkupSafe>=0.9.2 in /usr/local/lib/python3.10/dist-packages (from Mako->alembic>=1.5.0->optuna) (2.1.5)\n",
            "Building wheels for collected packages: ta\n",
            "  Building wheel for ta (setup.py) ... \u001b[?25l\u001b[?25hdone\n",
            "  Created wheel for ta: filename=ta-0.11.0-py3-none-any.whl size=29411 sha256=674586c253d131b3f47a828367e92df35fbdbdac3868a87fc7d9e354c548e6d9\n",
            "  Stored in directory: /root/.cache/pip/wheels/5f/67/4f/8a9f252836e053e532c6587a3230bc72a4deb16b03a829610b\n",
            "Successfully built ta\n",
            "Installing collected packages: vnstock, Mako, colorlog, alembic, ta, optuna\n",
            "Successfully installed Mako-1.3.5 alembic-1.13.1 colorlog-6.8.2 optuna-3.6.1 ta-0.11.0 vnstock-0.2.9.0\n"
          ]
        }
      ],
      "source": [
        "!pip install optuna joblib xgboost ta vnstock"
      ]
    },
    {
      "cell_type": "code",
      "execution_count": null,
      "metadata": {
        "colab": {
          "base_uri": "https://localhost:8080/"
        },
        "id": "gpQcYaNLXb4K",
        "outputId": "206fd270-f538-445e-cc3a-d05a2d9136c3"
      },
      "outputs": [
        {
          "name": "stdout",
          "output_type": "stream",
          "text": [
            "Collecting pandas-ta\n",
            "  Downloading pandas_ta-0.3.14b.tar.gz (115 kB)\n",
            "\u001b[2K     \u001b[90m━━━━━━━━━━━━━━━━━━━━━━━━━━━━━━━━━━━━━━━━\u001b[0m \u001b[32m115.1/115.1 kB\u001b[0m \u001b[31m1.4 MB/s\u001b[0m eta \u001b[36m0:00:00\u001b[0m\n",
            "\u001b[?25h  Preparing metadata (setup.py) ... \u001b[?25l\u001b[?25hdone\n",
            "Requirement already satisfied: pandas in /usr/local/lib/python3.10/dist-packages (from pandas-ta) (2.0.3)\n",
            "Requirement already satisfied: python-dateutil>=2.8.2 in /usr/local/lib/python3.10/dist-packages (from pandas->pandas-ta) (2.8.2)\n",
            "Requirement already satisfied: pytz>=2020.1 in /usr/local/lib/python3.10/dist-packages (from pandas->pandas-ta) (2023.4)\n",
            "Requirement already satisfied: tzdata>=2022.1 in /usr/local/lib/python3.10/dist-packages (from pandas->pandas-ta) (2024.1)\n",
            "Requirement already satisfied: numpy>=1.21.0 in /usr/local/lib/python3.10/dist-packages (from pandas->pandas-ta) (1.25.2)\n",
            "Requirement already satisfied: six>=1.5 in /usr/local/lib/python3.10/dist-packages (from python-dateutil>=2.8.2->pandas->pandas-ta) (1.16.0)\n",
            "Building wheels for collected packages: pandas-ta\n",
            "  Building wheel for pandas-ta (setup.py) ... \u001b[?25l\u001b[?25hdone\n",
            "  Created wheel for pandas-ta: filename=pandas_ta-0.3.14b0-py3-none-any.whl size=218907 sha256=0023a897e9b637190f177a1c90dde87d982126011bcfbbd6139fcd0558c1971f\n",
            "  Stored in directory: /root/.cache/pip/wheels/69/00/ac/f7fa862c34b0e2ef320175100c233377b4c558944f12474cf0\n",
            "Successfully built pandas-ta\n",
            "Installing collected packages: pandas-ta\n",
            "Successfully installed pandas-ta-0.3.14b0\n"
          ]
        }
      ],
      "source": [
        "!pip install --upgrade pandas-ta"
      ]
    },
    {
      "cell_type": "code",
      "execution_count": 1,
      "metadata": {
        "id": "-6lzb3uQqm_5"
      },
      "outputs": [
        {
          "name": "stderr",
          "output_type": "stream",
          "text": [
            "c:\\Users\\Minh Truc\\AppData\\Local\\Programs\\Python\\Python310\\lib\\site-packages\\tqdm\\auto.py:21: TqdmWarning: IProgress not found. Please update jupyter and ipywidgets. See https://ipywidgets.readthedocs.io/en/stable/user_install.html\n",
            "  from .autonotebook import tqdm as notebook_tqdm\n"
          ]
        }
      ],
      "source": [
        "from datetime import datetime, timedelta, timezone\n",
        "import pandas as pd\n",
        "import numpy as np\n",
        "import requests\n",
        "import os\n",
        "import logging\n",
        "import sys\n",
        "import optuna\n",
        "import joblib\n",
        "import xgboost as xgb\n",
        "import pickle"
      ]
    },
    {
      "cell_type": "code",
      "execution_count": 2,
      "metadata": {
        "id": "BOUmyN92qm_6"
      },
      "outputs": [],
      "source": [
        "from sklearn.model_selection import train_test_split\n",
        "from sklearn.preprocessing import StandardScaler\n",
        "from datetime import datetime, timedelta\n",
        "from ta import add_all_ta_features\n",
        "import pandas_ta as ta"
      ]
    },
    {
      "cell_type": "code",
      "execution_count": 3,
      "metadata": {
        "id": "8WDgqNpBqm_7"
      },
      "outputs": [],
      "source": [
        "import matplotlib.pyplot as plt\n",
        "import matplotlib"
      ]
    },
    {
      "cell_type": "markdown",
      "metadata": {
        "id": "1AoNRGHXqm_7"
      },
      "source": [
        "## Variables"
      ]
    },
    {
      "cell_type": "code",
      "execution_count": 6,
      "metadata": {
        "id": "xEfE2-HKqm_7"
      },
      "outputs": [],
      "source": [
        "start_time = 0\n",
        "now_time = 9999999999\n",
        "symbol = 'VN30F1M'\n",
        "rolling_window = 15 # Số phút muốn dự đoán tiếp theo"
      ]
    },
    {
      "cell_type": "code",
      "execution_count": 10,
      "metadata": {
        "id": "RpHTaKY6qm_9"
      },
      "outputs": [],
      "source": [
        "# Add stream handler of stdout to show the messages\n",
        "optuna.logging.get_logger(\"optuna\").addHandler(logging.StreamHandler(sys.stdout))\n",
        "study_name = \"btc1-study\"  # Unique identifier of the study.\n",
        "storage_name = \"sqlite:///{}.db\".format(study_name)"
      ]
    },
    {
      "cell_type": "markdown",
      "metadata": {
        "id": "cWnAMLgxqm_9"
      },
      "source": [
        "## Formulas"
      ]
    },
    {
      "cell_type": "code",
      "execution_count": 11,
      "metadata": {
        "id": "nkBSamYkqm_9"
      },
      "outputs": [],
      "source": [
        "def choose_position(roi, trade_threshold = 0.0005):\n",
        "    pos =0\n",
        "    # Predict position base on change in future\n",
        "    if roi > trade_threshold:\n",
        "        pos = 1\n",
        "    elif roi < -trade_threshold:\n",
        "        pos = -1\n",
        "    else:\n",
        "        pos = 0\n",
        "\n",
        "    return pos"
      ]
    },
    {
      "cell_type": "code",
      "execution_count": 12,
      "metadata": {
        "id": "DvQTvE_-qm_-"
      },
      "outputs": [],
      "source": [
        "def backtest_position_ps(position, price, percentage, periods):\n",
        "    # Shift positions to align with future price changes and handle NaN by filling with 0\n",
        "    pos = pd.Series(position, index=pd.Series(price).index).shift(1).fillna(0)\n",
        "    pos = pd.Series(pos).rolling(periods).sum() #pos for 10 hour predict\n",
        "\n",
        "    price_array = pd.Series(price).shift(1).fillna(0)\n",
        "\n",
        "    pos_diff = pos.diff()\n",
        "    fee = pos_diff*price_array*0.05*0.01\n",
        "\n",
        "    # Calculate price changes over the given periods\n",
        "    ch = pd.Series(price) - price_array\n",
        "\n",
        "    # Calculate total PnL\n",
        "    total_pnl = pos*ch - fee\n",
        "    return total_pnl"
      ]
    },
    {
      "cell_type": "code",
      "execution_count": 13,
      "metadata": {
        "id": "KBSYVj2Eqm_-"
      },
      "outputs": [],
      "source": [
        "def calculate_sharpe_ratio(pnl):\n",
        "    pnl = np.diff(pnl)\n",
        "    std = np.std(pnl) if np.std(pnl) != 0 else 0.001\n",
        "    sharpe = np.mean(pnl)/std*np.sqrt(252)\n",
        "    return sharpe"
      ]
    },
    {
      "cell_type": "code",
      "execution_count": 14,
      "metadata": {
        "id": "R6Wk1h4Bqm_-"
      },
      "outputs": [],
      "source": [
        "def sharpe_for_vn30f(y_pred, y_price, trade_threshold, fee_perc, periods):\n",
        "\n",
        "    # Predict position base on change in future\n",
        "    pos = [choose_position(roi, trade_threshold) for roi in y_pred]\n",
        "    pos = np.array(pos)\n",
        "\n",
        "    # Calculate PNL\n",
        "    pnl = backtest_position_ps(pos, y_price, fee_perc, periods)\n",
        "    pnl = np.cumsum(pnl)\n",
        "\n",
        "    # Standardalize PNL to date\n",
        "    daily_pnl = [pnl.iloc[i] for i in range(0, len(pnl), 241)]\n",
        "    daily_pnl = pd.Series(daily_pnl).fillna(0)\n",
        "\n",
        "    # Calculate Sharpe\n",
        "    sharpe = calculate_sharpe_ratio(daily_pnl)\n",
        "\n",
        "    return pos, pnl, daily_pnl, sharpe"
      ]
    },
    {
      "cell_type": "code",
      "execution_count": 15,
      "metadata": {
        "id": "tFGU3CMsqm__"
      },
      "outputs": [],
      "source": [
        "def calculate_hitrate(pos_predict, pos_true):\n",
        "    if len(pos_predict) != len(pos_true):\n",
        "        raise ValueError(\"Độ dài của hai mảng không khớp\")\n",
        "\n",
        "    # Tính số lượng dự đoán đúng (các phần tử tương ứng giống nhau)\n",
        "    correct_predictions = np.sum(pos_predict == pos_true)\n",
        "\n",
        "    # Tính tỷ lệ hit rate\n",
        "    hit_rate_value = correct_predictions / len(pos_predict)\n",
        "\n",
        "    return hit_rate_value"
      ]
    },
    {
      "cell_type": "markdown",
      "metadata": {
        "id": "fmDF4G5hqm__"
      },
      "source": [
        "# Function for data"
      ]
    },
    {
      "cell_type": "code",
      "execution_count": 16,
      "metadata": {
        "id": "aBNzE_Pkqm__"
      },
      "outputs": [],
      "source": [
        "def scale_data(data):\n",
        "    scaler = StandardScaler()\n",
        "    data = np.where(np.isinf(data), np.nan, data)\n",
        "    data = pd.DataFrame(data)\n",
        "    data = data.fillna(0)\n",
        "    scaler.fit(data)\n",
        "    data=pd.DataFrame(scaler.transform(data), index=data.index, columns=data.columns)\n",
        "\n",
        "    return data"
      ]
    },
    {
      "cell_type": "code",
      "execution_count": 17,
      "metadata": {
        "id": "rqUtt9Jbqm__"
      },
      "outputs": [],
      "source": [
        "def split_data(data):\n",
        "    \"\"\"\n",
        "    Hàm này chia dữ liệu thành 2 phần: tập huấn luyện và tập hold out.\n",
        "\n",
        "    Args:\n",
        "    data (pandas.DataFrame): DataFrame chứa dữ liệu cần chia.\n",
        "\n",
        "    Returns:\n",
        "    pandas.DataFrame: DataFrame chứa dữ liệu tập huấn luyện.\n",
        "    pandas.DataFrame: DataFrame chứa dữ liệu tập giữ lại.\n",
        "    \"\"\"\n",
        "    # Chia dữ liệu thành 3 phần\n",
        "    new_part = np.array_split(data, 3)\n",
        "\n",
        "    # Access each part individually\n",
        "    hold_out = new_part[2]\n",
        "    train_data = pd.concat([new_part[0], new_part[1]], axis=0)\n",
        "\n",
        "    return train_data, hold_out\n",
        "\n",
        "def split_optuna_data(data):\n",
        "    \"\"\"\n",
        "    Hàm này chia dữ liệu thành các tập train và test để sử dụng trong quá trình tối ưu hóa bằng Optuna.\n",
        "\n",
        "    Args:\n",
        "    data (pandas.DataFrame): DataFrame chứa dữ liệu cần chia.\n",
        "\n",
        "    Returns:\n",
        "    pandas.DataFrame: DataFrame chứa dữ liệu train (đã được chuẩn hóa).\n",
        "    pandas.DataFrame: DataFrame chứa dữ liệu test (đã được chuẩn hóa).\n",
        "    pandas.Series: Series chứa nhãn tương ứng với dữ liệu train.\n",
        "    pandas.Series: Series chứa nhãn tương ứng với dữ liệu test.\n",
        "    \"\"\"\n",
        "    # Chia dữ liệu thành tập train và tập hold out\n",
        "    train_data, _ = split_data(data)\n",
        "\n",
        "    # Loại bỏ các cột không cần thiết\n",
        "    if 'Open' in train_data.columns:\n",
        "        optuna_data = train_data.drop(['Open','High','Low','Close','Volume', 'Return', 'Date', 'time'], axis=1)\n",
        "    else:\n",
        "        optuna_data = train_data.drop(['Close', 'Return', 'Date', 'time'], axis=1)\n",
        "\n",
        "    # Chuẩn hóa dữ liệu\n",
        "    optuna_data = scale_data(optuna_data)\n",
        "\n",
        "    # Chia dữ liệu thành tập train và tập test\n",
        "    X_train, X_valid, y_train, y_valid = train_test_split(optuna_data, train_data['Return'], test_size=0.5, shuffle=False)\n",
        "\n",
        "    return X_train, X_valid, y_train, y_valid, train_data"
      ]
    },
    {
      "cell_type": "markdown",
      "metadata": {
        "id": "cKojL2mzqm__"
      },
      "source": [
        "# Get data"
      ]
    },
    {
      "cell_type": "code",
      "execution_count": 4,
      "metadata": {
        "id": "Dwcxd77MRG8v"
      },
      "outputs": [],
      "source": [
        "def get_vn30f(start_time, now_time, symbol):\n",
        "    def vn30f():\n",
        "            return requests.get(f\"https://services.entrade.com.vn/chart-api/chart?from={start_time}&resolution=1H&symbol={symbol}&to={now_time}\").json()\n",
        "    vn30fm = pd.DataFrame(vn30f()).iloc[:,:6]\n",
        "    vn30fm['t'] = vn30fm['t'].astype(int).apply(lambda x: datetime.utcfromtimestamp(x) + timedelta(hours = 7))\n",
        "    vn30fm.columns = ['Date','Open','High','Low','Close','Volume']\n",
        "    ohlc_dict = {\n",
        "        'Open': 'first',\n",
        "        'High': 'max',\n",
        "        'Low': 'min',\n",
        "        'Close': 'last',\n",
        "        'Volume': 'sum',}\n",
        "    vn30fm = pd.DataFrame(vn30f()).iloc[:,:6]\n",
        "    vn30fm['t'] = vn30fm['t'].astype(int).apply(lambda x: datetime.utcfromtimestamp(x) + timedelta(hours = 7))\n",
        "    vn30fm.columns = ['Date','Open','High','Low','Close','Volume']\n",
        "    dt_object = datetime.utcfromtimestamp(start_time) + timedelta(hours = 7)\n",
        "    now_object = datetime.utcfromtimestamp(now_time) + timedelta(hours = 7)\n",
        "\n",
        "    print(f'===> Data {symbol} from {dt_object} to {now_object} has been appended ')\n",
        "\n",
        "    return vn30fm"
      ]
    },
    {
      "cell_type": "code",
      "execution_count": 10,
      "metadata": {},
      "outputs": [],
      "source": [
        "def get_vn30():\n",
        "    def vn30():\n",
        "            return requests.get(\"https://services.entrade.com.vn/chart-api/v2/ohlcs/index?from=0&resolution=3&symbol=VN30&to=9999999999\").json()\n",
        "    vn30fm = pd.DataFrame(vn30()).iloc[:,:6]\n",
        "    vn30fm['t'] = vn30fm['t'].astype(int).apply(lambda x: datetime.utcfromtimestamp(x) + timedelta(hours = 7))\n",
        "    vn30fm.columns = ['Date','Open','High','Low','Close','Volume']\n",
        "    ohlc_dict = {                                                                                                             \n",
        "        'Open': 'first',                                                                                                    \n",
        "        'High': 'max',                                                                                                       \n",
        "        'Low': 'min',                                                         \n",
        "        'Close': 'last',                                                                                                    \n",
        "        'Volume': 'sum',}\n",
        "    vn30fm = pd.DataFrame(vn30()).iloc[:,:6]\n",
        "    vn30fm['t'] = vn30fm['t'].astype(int).apply(lambda x: datetime.utcfromtimestamp(x) + timedelta(hours = 7))\n",
        "    vn30fm.columns = ['Date','Open','High','Low','Close','Volume']\n",
        "    return vn30fm.set_index('Date')"
      ]
    },
    {
      "cell_type": "code",
      "execution_count": 7,
      "metadata": {},
      "outputs": [
        {
          "name": "stdout",
          "output_type": "stream",
          "text": [
            "===> Data VN30F1M from 1970-01-01 07:00:00 to 2286-11-21 00:46:39 has been appended \n"
          ]
        }
      ],
      "source": [
        "df = get_vn30f(start_time, now_time, symbol)"
      ]
    },
    {
      "cell_type": "code",
      "execution_count": 8,
      "metadata": {
        "colab": {
          "base_uri": "https://localhost:8080/",
          "height": 423
        },
        "id": "MmMI3SbSdanN",
        "outputId": "fa2fd769-1cd0-4423-d012-c00badf1d81d"
      },
      "outputs": [
        {
          "data": {
            "text/html": [
              "<div>\n",
              "<style scoped>\n",
              "    .dataframe tbody tr th:only-of-type {\n",
              "        vertical-align: middle;\n",
              "    }\n",
              "\n",
              "    .dataframe tbody tr th {\n",
              "        vertical-align: top;\n",
              "    }\n",
              "\n",
              "    .dataframe thead th {\n",
              "        text-align: right;\n",
              "    }\n",
              "</style>\n",
              "<table border=\"1\" class=\"dataframe\">\n",
              "  <thead>\n",
              "    <tr style=\"text-align: right;\">\n",
              "      <th></th>\n",
              "      <th>Date</th>\n",
              "      <th>Open</th>\n",
              "      <th>High</th>\n",
              "      <th>Low</th>\n",
              "      <th>Close</th>\n",
              "      <th>Volume</th>\n",
              "    </tr>\n",
              "  </thead>\n",
              "  <tbody>\n",
              "    <tr>\n",
              "      <th>0</th>\n",
              "      <td>2018-08-13 09:00:00</td>\n",
              "      <td>943.5</td>\n",
              "      <td>946.4</td>\n",
              "      <td>942.3</td>\n",
              "      <td>946.0</td>\n",
              "      <td>18959</td>\n",
              "    </tr>\n",
              "    <tr>\n",
              "      <th>1</th>\n",
              "      <td>2018-08-13 10:00:00</td>\n",
              "      <td>945.9</td>\n",
              "      <td>946.3</td>\n",
              "      <td>942.3</td>\n",
              "      <td>943.7</td>\n",
              "      <td>16381</td>\n",
              "    </tr>\n",
              "    <tr>\n",
              "      <th>2</th>\n",
              "      <td>2018-08-13 11:00:00</td>\n",
              "      <td>943.7</td>\n",
              "      <td>947.3</td>\n",
              "      <td>943.3</td>\n",
              "      <td>947.3</td>\n",
              "      <td>8416</td>\n",
              "    </tr>\n",
              "    <tr>\n",
              "      <th>3</th>\n",
              "      <td>2018-08-13 13:00:00</td>\n",
              "      <td>947.5</td>\n",
              "      <td>950.2</td>\n",
              "      <td>946.7</td>\n",
              "      <td>949.9</td>\n",
              "      <td>21499</td>\n",
              "    </tr>\n",
              "    <tr>\n",
              "      <th>4</th>\n",
              "      <td>2018-08-13 14:00:00</td>\n",
              "      <td>949.7</td>\n",
              "      <td>954.6</td>\n",
              "      <td>948.9</td>\n",
              "      <td>954.2</td>\n",
              "      <td>14072</td>\n",
              "    </tr>\n",
              "    <tr>\n",
              "      <th>...</th>\n",
              "      <td>...</td>\n",
              "      <td>...</td>\n",
              "      <td>...</td>\n",
              "      <td>...</td>\n",
              "      <td>...</td>\n",
              "      <td>...</td>\n",
              "    </tr>\n",
              "    <tr>\n",
              "      <th>7593</th>\n",
              "      <td>2024-09-18 09:00:00</td>\n",
              "      <td>1305.0</td>\n",
              "      <td>1307.5</td>\n",
              "      <td>1303.2</td>\n",
              "      <td>1304.8</td>\n",
              "      <td>31491</td>\n",
              "    </tr>\n",
              "    <tr>\n",
              "      <th>7594</th>\n",
              "      <td>2024-09-18 10:00:00</td>\n",
              "      <td>1304.9</td>\n",
              "      <td>1315.8</td>\n",
              "      <td>1304.6</td>\n",
              "      <td>1312.4</td>\n",
              "      <td>56332</td>\n",
              "    </tr>\n",
              "    <tr>\n",
              "      <th>7595</th>\n",
              "      <td>2024-09-18 11:00:00</td>\n",
              "      <td>1312.3</td>\n",
              "      <td>1317.0</td>\n",
              "      <td>1312.3</td>\n",
              "      <td>1316.9</td>\n",
              "      <td>22794</td>\n",
              "    </tr>\n",
              "    <tr>\n",
              "      <th>7596</th>\n",
              "      <td>2024-09-18 13:00:00</td>\n",
              "      <td>1316.9</td>\n",
              "      <td>1318.5</td>\n",
              "      <td>1310.6</td>\n",
              "      <td>1313.6</td>\n",
              "      <td>57043</td>\n",
              "    </tr>\n",
              "    <tr>\n",
              "      <th>7597</th>\n",
              "      <td>2024-09-18 14:00:00</td>\n",
              "      <td>1313.6</td>\n",
              "      <td>1314.4</td>\n",
              "      <td>1308.7</td>\n",
              "      <td>1311.9</td>\n",
              "      <td>49793</td>\n",
              "    </tr>\n",
              "  </tbody>\n",
              "</table>\n",
              "<p>7598 rows × 6 columns</p>\n",
              "</div>"
            ],
            "text/plain": [
              "                    Date    Open    High     Low   Close  Volume\n",
              "0    2018-08-13 09:00:00   943.5   946.4   942.3   946.0   18959\n",
              "1    2018-08-13 10:00:00   945.9   946.3   942.3   943.7   16381\n",
              "2    2018-08-13 11:00:00   943.7   947.3   943.3   947.3    8416\n",
              "3    2018-08-13 13:00:00   947.5   950.2   946.7   949.9   21499\n",
              "4    2018-08-13 14:00:00   949.7   954.6   948.9   954.2   14072\n",
              "...                  ...     ...     ...     ...     ...     ...\n",
              "7593 2024-09-18 09:00:00  1305.0  1307.5  1303.2  1304.8   31491\n",
              "7594 2024-09-18 10:00:00  1304.9  1315.8  1304.6  1312.4   56332\n",
              "7595 2024-09-18 11:00:00  1312.3  1317.0  1312.3  1316.9   22794\n",
              "7596 2024-09-18 13:00:00  1316.9  1318.5  1310.6  1313.6   57043\n",
              "7597 2024-09-18 14:00:00  1313.6  1314.4  1308.7  1311.9   49793\n",
              "\n",
              "[7598 rows x 6 columns]"
            ]
          },
          "execution_count": 8,
          "metadata": {},
          "output_type": "execute_result"
        }
      ],
      "source": [
        "df"
      ]
    },
    {
      "cell_type": "code",
      "execution_count": 9,
      "metadata": {},
      "outputs": [],
      "source": [
        "df.to_csv('vn30_1hour.csv')"
      ]
    },
    {
      "cell_type": "markdown",
      "metadata": {
        "id": "IgUSjj0jDRFl"
      },
      "source": [
        "### Fill missing data"
      ]
    },
    {
      "cell_type": "code",
      "execution_count": null,
      "metadata": {
        "colab": {
          "base_uri": "https://localhost:8080/",
          "height": 460
        },
        "id": "H8XyGWJ8qm__",
        "outputId": "7587f5e1-1576-4dca-c832-3319dd3581a7"
      },
      "outputs": [
        {
          "name": "stdout",
          "output_type": "stream",
          "text": [
            "The 'end_date' value in the report should be no more than 90 days from today for all resolutions shorter than 1 day. \n",
            "\n"
          ]
        },
        {
          "data": {
            "application/vnd.google.colaboratory.intrinsic+json": {
              "summary": "{\n  \"name\": \"df2\",\n  \"rows\": 6889,\n  \"fields\": [\n    {\n      \"column\": \"time\",\n      \"properties\": {\n        \"dtype\": \"object\",\n        \"num_unique_values\": 6889,\n        \"samples\": [\n          \"2023-04-20 14:09:00\",\n          \"2023-07-31 10:36:00\",\n          \"2023-04-28 09:15:00\"\n        ],\n        \"semantic_type\": \"\",\n        \"description\": \"\"\n      }\n    },\n    {\n      \"column\": \"open\",\n      \"properties\": {\n        \"dtype\": \"number\",\n        \"std\": 45.36778606198778,\n        \"min\": 1026.3,\n        \"max\": 1234.2,\n        \"num_unique_values\": 1414,\n        \"samples\": [\n          1114.8,\n          1128.2,\n          1040.9\n        ],\n        \"semantic_type\": \"\",\n        \"description\": \"\"\n      }\n    },\n    {\n      \"column\": \"high\",\n      \"properties\": {\n        \"dtype\": \"number\",\n        \"std\": 45.41017209908671,\n        \"min\": 1026.6,\n        \"max\": 1234.2,\n        \"num_unique_values\": 1401,\n        \"samples\": [\n          1156.4,\n          1127.0,\n          1079.1\n        ],\n        \"semantic_type\": \"\",\n        \"description\": \"\"\n      }\n    },\n    {\n      \"column\": \"low\",\n      \"properties\": {\n        \"dtype\": \"number\",\n        \"std\": 45.348624324625355,\n        \"min\": 1025.7,\n        \"max\": 1234.2,\n        \"num_unique_values\": 1395,\n        \"samples\": [\n          1187.2,\n          1037.2,\n          1218.1\n        ],\n        \"semantic_type\": \"\",\n        \"description\": \"\"\n      }\n    },\n    {\n      \"column\": \"close\",\n      \"properties\": {\n        \"dtype\": \"number\",\n        \"std\": 45.388992749137564,\n        \"min\": 1026.3,\n        \"max\": 1234.2,\n        \"num_unique_values\": 1405,\n        \"samples\": [\n          1150.7,\n          1052.2,\n          1094.8\n        ],\n        \"semantic_type\": \"\",\n        \"description\": \"\"\n      }\n    },\n    {\n      \"column\": \"volume\",\n      \"properties\": {\n        \"dtype\": \"number\",\n        \"std\": 1695,\n        \"min\": 2,\n        \"max\": 13475,\n        \"num_unique_values\": 3353,\n        \"samples\": [\n          2178,\n          1046,\n          2062\n        ],\n        \"semantic_type\": \"\",\n        \"description\": \"\"\n      }\n    },\n    {\n      \"column\": \"ticker\",\n      \"properties\": {\n        \"dtype\": \"category\",\n        \"num_unique_values\": 1,\n        \"samples\": [\n          \"VN30F1M\"\n        ],\n        \"semantic_type\": \"\",\n        \"description\": \"\"\n      }\n    }\n  ]\n}",
              "type": "dataframe",
              "variable_name": "df2"
            },
            "text/html": [
              "\n",
              "  <div id=\"df-76475891-e03f-4e65-b6b2-566c53925d23\" class=\"colab-df-container\">\n",
              "    <div>\n",
              "<style scoped>\n",
              "    .dataframe tbody tr th:only-of-type {\n",
              "        vertical-align: middle;\n",
              "    }\n",
              "\n",
              "    .dataframe tbody tr th {\n",
              "        vertical-align: top;\n",
              "    }\n",
              "\n",
              "    .dataframe thead th {\n",
              "        text-align: right;\n",
              "    }\n",
              "</style>\n",
              "<table border=\"1\" class=\"dataframe\">\n",
              "  <thead>\n",
              "    <tr style=\"text-align: right;\">\n",
              "      <th></th>\n",
              "      <th>time</th>\n",
              "      <th>open</th>\n",
              "      <th>high</th>\n",
              "      <th>low</th>\n",
              "      <th>close</th>\n",
              "      <th>volume</th>\n",
              "      <th>ticker</th>\n",
              "    </tr>\n",
              "  </thead>\n",
              "  <tbody>\n",
              "    <tr>\n",
              "      <th>0</th>\n",
              "      <td>2023-04-03 09:00:00</td>\n",
              "      <td>1081.3</td>\n",
              "      <td>1082.6</td>\n",
              "      <td>1080.6</td>\n",
              "      <td>1080.6</td>\n",
              "      <td>10331</td>\n",
              "      <td>VN30F1M</td>\n",
              "    </tr>\n",
              "    <tr>\n",
              "      <th>1</th>\n",
              "      <td>2023-04-03 09:03:00</td>\n",
              "      <td>1080.7</td>\n",
              "      <td>1081.2</td>\n",
              "      <td>1080.4</td>\n",
              "      <td>1080.4</td>\n",
              "      <td>4257</td>\n",
              "      <td>VN30F1M</td>\n",
              "    </tr>\n",
              "    <tr>\n",
              "      <th>2</th>\n",
              "      <td>2023-04-03 09:06:00</td>\n",
              "      <td>1080.4</td>\n",
              "      <td>1080.4</td>\n",
              "      <td>1078.4</td>\n",
              "      <td>1078.9</td>\n",
              "      <td>5101</td>\n",
              "      <td>VN30F1M</td>\n",
              "    </tr>\n",
              "    <tr>\n",
              "      <th>3</th>\n",
              "      <td>2023-04-03 09:09:00</td>\n",
              "      <td>1078.9</td>\n",
              "      <td>1079.0</td>\n",
              "      <td>1077.0</td>\n",
              "      <td>1077.9</td>\n",
              "      <td>5891</td>\n",
              "      <td>VN30F1M</td>\n",
              "    </tr>\n",
              "    <tr>\n",
              "      <th>4</th>\n",
              "      <td>2023-04-03 09:12:00</td>\n",
              "      <td>1077.9</td>\n",
              "      <td>1078.5</td>\n",
              "      <td>1077.5</td>\n",
              "      <td>1078.3</td>\n",
              "      <td>3498</td>\n",
              "      <td>VN30F1M</td>\n",
              "    </tr>\n",
              "    <tr>\n",
              "      <th>...</th>\n",
              "      <td>...</td>\n",
              "      <td>...</td>\n",
              "      <td>...</td>\n",
              "      <td>...</td>\n",
              "      <td>...</td>\n",
              "      <td>...</td>\n",
              "      <td>...</td>\n",
              "    </tr>\n",
              "    <tr>\n",
              "      <th>6884</th>\n",
              "      <td>2023-07-31 14:21:00</td>\n",
              "      <td>1223.2</td>\n",
              "      <td>1225.4</td>\n",
              "      <td>1223.2</td>\n",
              "      <td>1224.7</td>\n",
              "      <td>5733</td>\n",
              "      <td>VN30F1M</td>\n",
              "    </tr>\n",
              "    <tr>\n",
              "      <th>6885</th>\n",
              "      <td>2023-07-31 14:24:00</td>\n",
              "      <td>1224.6</td>\n",
              "      <td>1228.8</td>\n",
              "      <td>1224.2</td>\n",
              "      <td>1228.5</td>\n",
              "      <td>6276</td>\n",
              "      <td>VN30F1M</td>\n",
              "    </tr>\n",
              "    <tr>\n",
              "      <th>6886</th>\n",
              "      <td>2023-07-31 14:27:00</td>\n",
              "      <td>1227.8</td>\n",
              "      <td>1231.8</td>\n",
              "      <td>1227.8</td>\n",
              "      <td>1231.8</td>\n",
              "      <td>6975</td>\n",
              "      <td>VN30F1M</td>\n",
              "    </tr>\n",
              "    <tr>\n",
              "      <th>6887</th>\n",
              "      <td>2023-07-31 14:30:00</td>\n",
              "      <td>1231.9</td>\n",
              "      <td>1232.0</td>\n",
              "      <td>1231.9</td>\n",
              "      <td>1232.0</td>\n",
              "      <td>195</td>\n",
              "      <td>VN30F1M</td>\n",
              "    </tr>\n",
              "    <tr>\n",
              "      <th>6888</th>\n",
              "      <td>2023-07-31 14:45:00</td>\n",
              "      <td>1234.2</td>\n",
              "      <td>1234.2</td>\n",
              "      <td>1234.2</td>\n",
              "      <td>1234.2</td>\n",
              "      <td>7378</td>\n",
              "      <td>VN30F1M</td>\n",
              "    </tr>\n",
              "  </tbody>\n",
              "</table>\n",
              "<p>6889 rows × 7 columns</p>\n",
              "</div>\n",
              "    <div class=\"colab-df-buttons\">\n",
              "\n",
              "  <div class=\"colab-df-container\">\n",
              "    <button class=\"colab-df-convert\" onclick=\"convertToInteractive('df-76475891-e03f-4e65-b6b2-566c53925d23')\"\n",
              "            title=\"Convert this dataframe to an interactive table.\"\n",
              "            style=\"display:none;\">\n",
              "\n",
              "  <svg xmlns=\"http://www.w3.org/2000/svg\" height=\"24px\" viewBox=\"0 -960 960 960\">\n",
              "    <path d=\"M120-120v-720h720v720H120Zm60-500h600v-160H180v160Zm220 220h160v-160H400v160Zm0 220h160v-160H400v160ZM180-400h160v-160H180v160Zm440 0h160v-160H620v160ZM180-180h160v-160H180v160Zm440 0h160v-160H620v160Z\"/>\n",
              "  </svg>\n",
              "    </button>\n",
              "\n",
              "  <style>\n",
              "    .colab-df-container {\n",
              "      display:flex;\n",
              "      gap: 12px;\n",
              "    }\n",
              "\n",
              "    .colab-df-convert {\n",
              "      background-color: #E8F0FE;\n",
              "      border: none;\n",
              "      border-radius: 50%;\n",
              "      cursor: pointer;\n",
              "      display: none;\n",
              "      fill: #1967D2;\n",
              "      height: 32px;\n",
              "      padding: 0 0 0 0;\n",
              "      width: 32px;\n",
              "    }\n",
              "\n",
              "    .colab-df-convert:hover {\n",
              "      background-color: #E2EBFA;\n",
              "      box-shadow: 0px 1px 2px rgba(60, 64, 67, 0.3), 0px 1px 3px 1px rgba(60, 64, 67, 0.15);\n",
              "      fill: #174EA6;\n",
              "    }\n",
              "\n",
              "    .colab-df-buttons div {\n",
              "      margin-bottom: 4px;\n",
              "    }\n",
              "\n",
              "    [theme=dark] .colab-df-convert {\n",
              "      background-color: #3B4455;\n",
              "      fill: #D2E3FC;\n",
              "    }\n",
              "\n",
              "    [theme=dark] .colab-df-convert:hover {\n",
              "      background-color: #434B5C;\n",
              "      box-shadow: 0px 1px 3px 1px rgba(0, 0, 0, 0.15);\n",
              "      filter: drop-shadow(0px 1px 2px rgba(0, 0, 0, 0.3));\n",
              "      fill: #FFFFFF;\n",
              "    }\n",
              "  </style>\n",
              "\n",
              "    <script>\n",
              "      const buttonEl =\n",
              "        document.querySelector('#df-76475891-e03f-4e65-b6b2-566c53925d23 button.colab-df-convert');\n",
              "      buttonEl.style.display =\n",
              "        google.colab.kernel.accessAllowed ? 'block' : 'none';\n",
              "\n",
              "      async function convertToInteractive(key) {\n",
              "        const element = document.querySelector('#df-76475891-e03f-4e65-b6b2-566c53925d23');\n",
              "        const dataTable =\n",
              "          await google.colab.kernel.invokeFunction('convertToInteractive',\n",
              "                                                    [key], {});\n",
              "        if (!dataTable) return;\n",
              "\n",
              "        const docLinkHtml = 'Like what you see? Visit the ' +\n",
              "          '<a target=\"_blank\" href=https://colab.research.google.com/notebooks/data_table.ipynb>data table notebook</a>'\n",
              "          + ' to learn more about interactive tables.';\n",
              "        element.innerHTML = '';\n",
              "        dataTable['output_type'] = 'display_data';\n",
              "        await google.colab.output.renderOutput(dataTable, element);\n",
              "        const docLink = document.createElement('div');\n",
              "        docLink.innerHTML = docLinkHtml;\n",
              "        element.appendChild(docLink);\n",
              "      }\n",
              "    </script>\n",
              "  </div>\n",
              "\n",
              "\n",
              "<div id=\"df-f9713b2c-6d86-4ada-9e42-29959e1e2eb5\">\n",
              "  <button class=\"colab-df-quickchart\" onclick=\"quickchart('df-f9713b2c-6d86-4ada-9e42-29959e1e2eb5')\"\n",
              "            title=\"Suggest charts\"\n",
              "            style=\"display:none;\">\n",
              "\n",
              "<svg xmlns=\"http://www.w3.org/2000/svg\" height=\"24px\"viewBox=\"0 0 24 24\"\n",
              "     width=\"24px\">\n",
              "    <g>\n",
              "        <path d=\"M19 3H5c-1.1 0-2 .9-2 2v14c0 1.1.9 2 2 2h14c1.1 0 2-.9 2-2V5c0-1.1-.9-2-2-2zM9 17H7v-7h2v7zm4 0h-2V7h2v10zm4 0h-2v-4h2v4z\"/>\n",
              "    </g>\n",
              "</svg>\n",
              "  </button>\n",
              "\n",
              "<style>\n",
              "  .colab-df-quickchart {\n",
              "      --bg-color: #E8F0FE;\n",
              "      --fill-color: #1967D2;\n",
              "      --hover-bg-color: #E2EBFA;\n",
              "      --hover-fill-color: #174EA6;\n",
              "      --disabled-fill-color: #AAA;\n",
              "      --disabled-bg-color: #DDD;\n",
              "  }\n",
              "\n",
              "  [theme=dark] .colab-df-quickchart {\n",
              "      --bg-color: #3B4455;\n",
              "      --fill-color: #D2E3FC;\n",
              "      --hover-bg-color: #434B5C;\n",
              "      --hover-fill-color: #FFFFFF;\n",
              "      --disabled-bg-color: #3B4455;\n",
              "      --disabled-fill-color: #666;\n",
              "  }\n",
              "\n",
              "  .colab-df-quickchart {\n",
              "    background-color: var(--bg-color);\n",
              "    border: none;\n",
              "    border-radius: 50%;\n",
              "    cursor: pointer;\n",
              "    display: none;\n",
              "    fill: var(--fill-color);\n",
              "    height: 32px;\n",
              "    padding: 0;\n",
              "    width: 32px;\n",
              "  }\n",
              "\n",
              "  .colab-df-quickchart:hover {\n",
              "    background-color: var(--hover-bg-color);\n",
              "    box-shadow: 0 1px 2px rgba(60, 64, 67, 0.3), 0 1px 3px 1px rgba(60, 64, 67, 0.15);\n",
              "    fill: var(--button-hover-fill-color);\n",
              "  }\n",
              "\n",
              "  .colab-df-quickchart-complete:disabled,\n",
              "  .colab-df-quickchart-complete:disabled:hover {\n",
              "    background-color: var(--disabled-bg-color);\n",
              "    fill: var(--disabled-fill-color);\n",
              "    box-shadow: none;\n",
              "  }\n",
              "\n",
              "  .colab-df-spinner {\n",
              "    border: 2px solid var(--fill-color);\n",
              "    border-color: transparent;\n",
              "    border-bottom-color: var(--fill-color);\n",
              "    animation:\n",
              "      spin 1s steps(1) infinite;\n",
              "  }\n",
              "\n",
              "  @keyframes spin {\n",
              "    0% {\n",
              "      border-color: transparent;\n",
              "      border-bottom-color: var(--fill-color);\n",
              "      border-left-color: var(--fill-color);\n",
              "    }\n",
              "    20% {\n",
              "      border-color: transparent;\n",
              "      border-left-color: var(--fill-color);\n",
              "      border-top-color: var(--fill-color);\n",
              "    }\n",
              "    30% {\n",
              "      border-color: transparent;\n",
              "      border-left-color: var(--fill-color);\n",
              "      border-top-color: var(--fill-color);\n",
              "      border-right-color: var(--fill-color);\n",
              "    }\n",
              "    40% {\n",
              "      border-color: transparent;\n",
              "      border-right-color: var(--fill-color);\n",
              "      border-top-color: var(--fill-color);\n",
              "    }\n",
              "    60% {\n",
              "      border-color: transparent;\n",
              "      border-right-color: var(--fill-color);\n",
              "    }\n",
              "    80% {\n",
              "      border-color: transparent;\n",
              "      border-right-color: var(--fill-color);\n",
              "      border-bottom-color: var(--fill-color);\n",
              "    }\n",
              "    90% {\n",
              "      border-color: transparent;\n",
              "      border-bottom-color: var(--fill-color);\n",
              "    }\n",
              "  }\n",
              "</style>\n",
              "\n",
              "  <script>\n",
              "    async function quickchart(key) {\n",
              "      const quickchartButtonEl =\n",
              "        document.querySelector('#' + key + ' button');\n",
              "      quickchartButtonEl.disabled = true;  // To prevent multiple clicks.\n",
              "      quickchartButtonEl.classList.add('colab-df-spinner');\n",
              "      try {\n",
              "        const charts = await google.colab.kernel.invokeFunction(\n",
              "            'suggestCharts', [key], {});\n",
              "      } catch (error) {\n",
              "        console.error('Error during call to suggestCharts:', error);\n",
              "      }\n",
              "      quickchartButtonEl.classList.remove('colab-df-spinner');\n",
              "      quickchartButtonEl.classList.add('colab-df-quickchart-complete');\n",
              "    }\n",
              "    (() => {\n",
              "      let quickchartButtonEl =\n",
              "        document.querySelector('#df-f9713b2c-6d86-4ada-9e42-29959e1e2eb5 button');\n",
              "      quickchartButtonEl.style.display =\n",
              "        google.colab.kernel.accessAllowed ? 'block' : 'none';\n",
              "    })();\n",
              "  </script>\n",
              "</div>\n",
              "\n",
              "  <div id=\"id_ed325135-d8c4-401e-941a-79df199a9efd\">\n",
              "    <style>\n",
              "      .colab-df-generate {\n",
              "        background-color: #E8F0FE;\n",
              "        border: none;\n",
              "        border-radius: 50%;\n",
              "        cursor: pointer;\n",
              "        display: none;\n",
              "        fill: #1967D2;\n",
              "        height: 32px;\n",
              "        padding: 0 0 0 0;\n",
              "        width: 32px;\n",
              "      }\n",
              "\n",
              "      .colab-df-generate:hover {\n",
              "        background-color: #E2EBFA;\n",
              "        box-shadow: 0px 1px 2px rgba(60, 64, 67, 0.3), 0px 1px 3px 1px rgba(60, 64, 67, 0.15);\n",
              "        fill: #174EA6;\n",
              "      }\n",
              "\n",
              "      [theme=dark] .colab-df-generate {\n",
              "        background-color: #3B4455;\n",
              "        fill: #D2E3FC;\n",
              "      }\n",
              "\n",
              "      [theme=dark] .colab-df-generate:hover {\n",
              "        background-color: #434B5C;\n",
              "        box-shadow: 0px 1px 3px 1px rgba(0, 0, 0, 0.15);\n",
              "        filter: drop-shadow(0px 1px 2px rgba(0, 0, 0, 0.3));\n",
              "        fill: #FFFFFF;\n",
              "      }\n",
              "    </style>\n",
              "    <button class=\"colab-df-generate\" onclick=\"generateWithVariable('df2')\"\n",
              "            title=\"Generate code using this dataframe.\"\n",
              "            style=\"display:none;\">\n",
              "\n",
              "  <svg xmlns=\"http://www.w3.org/2000/svg\" height=\"24px\"viewBox=\"0 0 24 24\"\n",
              "       width=\"24px\">\n",
              "    <path d=\"M7,19H8.4L18.45,9,17,7.55,7,17.6ZM5,21V16.75L18.45,3.32a2,2,0,0,1,2.83,0l1.4,1.43a1.91,1.91,0,0,1,.58,1.4,1.91,1.91,0,0,1-.58,1.4L9.25,21ZM18.45,9,17,7.55Zm-12,3A5.31,5.31,0,0,0,4.9,8.1,5.31,5.31,0,0,0,1,6.5,5.31,5.31,0,0,0,4.9,4.9,5.31,5.31,0,0,0,6.5,1,5.31,5.31,0,0,0,8.1,4.9,5.31,5.31,0,0,0,12,6.5,5.46,5.46,0,0,0,6.5,12Z\"/>\n",
              "  </svg>\n",
              "    </button>\n",
              "    <script>\n",
              "      (() => {\n",
              "      const buttonEl =\n",
              "        document.querySelector('#id_ed325135-d8c4-401e-941a-79df199a9efd button.colab-df-generate');\n",
              "      buttonEl.style.display =\n",
              "        google.colab.kernel.accessAllowed ? 'block' : 'none';\n",
              "\n",
              "      buttonEl.onclick = () => {\n",
              "        google.colab.notebook.generateWithVariable('df2');\n",
              "      }\n",
              "      })();\n",
              "    </script>\n",
              "  </div>\n",
              "\n",
              "    </div>\n",
              "  </div>\n"
            ],
            "text/plain": [
              "                     time    open    high     low   close  volume   ticker\n",
              "0     2023-04-03 09:00:00  1081.3  1082.6  1080.6  1080.6   10331  VN30F1M\n",
              "1     2023-04-03 09:03:00  1080.7  1081.2  1080.4  1080.4    4257  VN30F1M\n",
              "2     2023-04-03 09:06:00  1080.4  1080.4  1078.4  1078.9    5101  VN30F1M\n",
              "3     2023-04-03 09:09:00  1078.9  1079.0  1077.0  1077.9    5891  VN30F1M\n",
              "4     2023-04-03 09:12:00  1077.9  1078.5  1077.5  1078.3    3498  VN30F1M\n",
              "...                   ...     ...     ...     ...     ...     ...      ...\n",
              "6884  2023-07-31 14:21:00  1223.2  1225.4  1223.2  1224.7    5733  VN30F1M\n",
              "6885  2023-07-31 14:24:00  1224.6  1228.8  1224.2  1228.5    6276  VN30F1M\n",
              "6886  2023-07-31 14:27:00  1227.8  1231.8  1227.8  1231.8    6975  VN30F1M\n",
              "6887  2023-07-31 14:30:00  1231.9  1232.0  1231.9  1232.0     195  VN30F1M\n",
              "6888  2023-07-31 14:45:00  1234.2  1234.2  1234.2  1234.2    7378  VN30F1M\n",
              "\n",
              "[6889 rows x 7 columns]"
            ]
          },
          "execution_count": 19,
          "metadata": {},
          "output_type": "execute_result"
        }
      ],
      "source": [
        "from vnstock import stock_historical_data\n",
        "df2 = stock_historical_data(\"VN30F1M\", \"2023-04-01\", \"2023-07-31\", \"3\", 'derivative')\n",
        "df2\n"
      ]
    },
    {
      "cell_type": "code",
      "execution_count": null,
      "metadata": {
        "colab": {
          "base_uri": "https://localhost:8080/",
          "height": 423
        },
        "id": "WbdOiZFtqnAA",
        "outputId": "08ae9b8d-85ba-40d2-fb33-8393220bf909"
      },
      "outputs": [
        {
          "data": {
            "application/vnd.google.colaboratory.intrinsic+json": {
              "summary": "{\n  \"name\": \"temp\",\n  \"rows\": 6889,\n  \"fields\": [\n    {\n      \"column\": \"time\",\n      \"properties\": {\n        \"dtype\": \"object\",\n        \"num_unique_values\": 6889,\n        \"samples\": [\n          \"2023-04-20 14:09:00\",\n          \"2023-07-31 10:36:00\",\n          \"2023-04-28 09:15:00\"\n        ],\n        \"semantic_type\": \"\",\n        \"description\": \"\"\n      }\n    },\n    {\n      \"column\": \"open\",\n      \"properties\": {\n        \"dtype\": \"number\",\n        \"std\": 45.36778606198778,\n        \"min\": 1026.3,\n        \"max\": 1234.2,\n        \"num_unique_values\": 1414,\n        \"samples\": [\n          1114.8,\n          1128.2,\n          1040.9\n        ],\n        \"semantic_type\": \"\",\n        \"description\": \"\"\n      }\n    },\n    {\n      \"column\": \"high\",\n      \"properties\": {\n        \"dtype\": \"number\",\n        \"std\": 45.41017209908671,\n        \"min\": 1026.6,\n        \"max\": 1234.2,\n        \"num_unique_values\": 1401,\n        \"samples\": [\n          1156.4,\n          1127.0,\n          1079.1\n        ],\n        \"semantic_type\": \"\",\n        \"description\": \"\"\n      }\n    },\n    {\n      \"column\": \"low\",\n      \"properties\": {\n        \"dtype\": \"number\",\n        \"std\": 45.348624324625355,\n        \"min\": 1025.7,\n        \"max\": 1234.2,\n        \"num_unique_values\": 1395,\n        \"samples\": [\n          1187.2,\n          1037.2,\n          1218.1\n        ],\n        \"semantic_type\": \"\",\n        \"description\": \"\"\n      }\n    },\n    {\n      \"column\": \"close\",\n      \"properties\": {\n        \"dtype\": \"number\",\n        \"std\": 45.388992749137564,\n        \"min\": 1026.3,\n        \"max\": 1234.2,\n        \"num_unique_values\": 1405,\n        \"samples\": [\n          1150.7,\n          1052.2,\n          1094.8\n        ],\n        \"semantic_type\": \"\",\n        \"description\": \"\"\n      }\n    },\n    {\n      \"column\": \"volume\",\n      \"properties\": {\n        \"dtype\": \"number\",\n        \"std\": 1695,\n        \"min\": 2,\n        \"max\": 13475,\n        \"num_unique_values\": 3353,\n        \"samples\": [\n          2178,\n          1046,\n          2062\n        ],\n        \"semantic_type\": \"\",\n        \"description\": \"\"\n      }\n    }\n  ]\n}",
              "type": "dataframe",
              "variable_name": "temp"
            },
            "text/html": [
              "\n",
              "  <div id=\"df-8dafcb68-8b08-4f7f-8a3b-9a1c6e0d3660\" class=\"colab-df-container\">\n",
              "    <div>\n",
              "<style scoped>\n",
              "    .dataframe tbody tr th:only-of-type {\n",
              "        vertical-align: middle;\n",
              "    }\n",
              "\n",
              "    .dataframe tbody tr th {\n",
              "        vertical-align: top;\n",
              "    }\n",
              "\n",
              "    .dataframe thead th {\n",
              "        text-align: right;\n",
              "    }\n",
              "</style>\n",
              "<table border=\"1\" class=\"dataframe\">\n",
              "  <thead>\n",
              "    <tr style=\"text-align: right;\">\n",
              "      <th></th>\n",
              "      <th>time</th>\n",
              "      <th>open</th>\n",
              "      <th>high</th>\n",
              "      <th>low</th>\n",
              "      <th>close</th>\n",
              "      <th>volume</th>\n",
              "    </tr>\n",
              "  </thead>\n",
              "  <tbody>\n",
              "    <tr>\n",
              "      <th>0</th>\n",
              "      <td>2023-04-03 09:00:00</td>\n",
              "      <td>1081.3</td>\n",
              "      <td>1082.6</td>\n",
              "      <td>1080.6</td>\n",
              "      <td>1080.6</td>\n",
              "      <td>10331</td>\n",
              "    </tr>\n",
              "    <tr>\n",
              "      <th>1</th>\n",
              "      <td>2023-04-03 09:03:00</td>\n",
              "      <td>1080.7</td>\n",
              "      <td>1081.2</td>\n",
              "      <td>1080.4</td>\n",
              "      <td>1080.4</td>\n",
              "      <td>4257</td>\n",
              "    </tr>\n",
              "    <tr>\n",
              "      <th>2</th>\n",
              "      <td>2023-04-03 09:06:00</td>\n",
              "      <td>1080.4</td>\n",
              "      <td>1080.4</td>\n",
              "      <td>1078.4</td>\n",
              "      <td>1078.9</td>\n",
              "      <td>5101</td>\n",
              "    </tr>\n",
              "    <tr>\n",
              "      <th>3</th>\n",
              "      <td>2023-04-03 09:09:00</td>\n",
              "      <td>1078.9</td>\n",
              "      <td>1079.0</td>\n",
              "      <td>1077.0</td>\n",
              "      <td>1077.9</td>\n",
              "      <td>5891</td>\n",
              "    </tr>\n",
              "    <tr>\n",
              "      <th>4</th>\n",
              "      <td>2023-04-03 09:12:00</td>\n",
              "      <td>1077.9</td>\n",
              "      <td>1078.5</td>\n",
              "      <td>1077.5</td>\n",
              "      <td>1078.3</td>\n",
              "      <td>3498</td>\n",
              "    </tr>\n",
              "    <tr>\n",
              "      <th>...</th>\n",
              "      <td>...</td>\n",
              "      <td>...</td>\n",
              "      <td>...</td>\n",
              "      <td>...</td>\n",
              "      <td>...</td>\n",
              "      <td>...</td>\n",
              "    </tr>\n",
              "    <tr>\n",
              "      <th>6884</th>\n",
              "      <td>2023-07-31 14:21:00</td>\n",
              "      <td>1223.2</td>\n",
              "      <td>1225.4</td>\n",
              "      <td>1223.2</td>\n",
              "      <td>1224.7</td>\n",
              "      <td>5733</td>\n",
              "    </tr>\n",
              "    <tr>\n",
              "      <th>6885</th>\n",
              "      <td>2023-07-31 14:24:00</td>\n",
              "      <td>1224.6</td>\n",
              "      <td>1228.8</td>\n",
              "      <td>1224.2</td>\n",
              "      <td>1228.5</td>\n",
              "      <td>6276</td>\n",
              "    </tr>\n",
              "    <tr>\n",
              "      <th>6886</th>\n",
              "      <td>2023-07-31 14:27:00</td>\n",
              "      <td>1227.8</td>\n",
              "      <td>1231.8</td>\n",
              "      <td>1227.8</td>\n",
              "      <td>1231.8</td>\n",
              "      <td>6975</td>\n",
              "    </tr>\n",
              "    <tr>\n",
              "      <th>6887</th>\n",
              "      <td>2023-07-31 14:30:00</td>\n",
              "      <td>1231.9</td>\n",
              "      <td>1232.0</td>\n",
              "      <td>1231.9</td>\n",
              "      <td>1232.0</td>\n",
              "      <td>195</td>\n",
              "    </tr>\n",
              "    <tr>\n",
              "      <th>6888</th>\n",
              "      <td>2023-07-31 14:45:00</td>\n",
              "      <td>1234.2</td>\n",
              "      <td>1234.2</td>\n",
              "      <td>1234.2</td>\n",
              "      <td>1234.2</td>\n",
              "      <td>7378</td>\n",
              "    </tr>\n",
              "  </tbody>\n",
              "</table>\n",
              "<p>6889 rows × 6 columns</p>\n",
              "</div>\n",
              "    <div class=\"colab-df-buttons\">\n",
              "\n",
              "  <div class=\"colab-df-container\">\n",
              "    <button class=\"colab-df-convert\" onclick=\"convertToInteractive('df-8dafcb68-8b08-4f7f-8a3b-9a1c6e0d3660')\"\n",
              "            title=\"Convert this dataframe to an interactive table.\"\n",
              "            style=\"display:none;\">\n",
              "\n",
              "  <svg xmlns=\"http://www.w3.org/2000/svg\" height=\"24px\" viewBox=\"0 -960 960 960\">\n",
              "    <path d=\"M120-120v-720h720v720H120Zm60-500h600v-160H180v160Zm220 220h160v-160H400v160Zm0 220h160v-160H400v160ZM180-400h160v-160H180v160Zm440 0h160v-160H620v160ZM180-180h160v-160H180v160Zm440 0h160v-160H620v160Z\"/>\n",
              "  </svg>\n",
              "    </button>\n",
              "\n",
              "  <style>\n",
              "    .colab-df-container {\n",
              "      display:flex;\n",
              "      gap: 12px;\n",
              "    }\n",
              "\n",
              "    .colab-df-convert {\n",
              "      background-color: #E8F0FE;\n",
              "      border: none;\n",
              "      border-radius: 50%;\n",
              "      cursor: pointer;\n",
              "      display: none;\n",
              "      fill: #1967D2;\n",
              "      height: 32px;\n",
              "      padding: 0 0 0 0;\n",
              "      width: 32px;\n",
              "    }\n",
              "\n",
              "    .colab-df-convert:hover {\n",
              "      background-color: #E2EBFA;\n",
              "      box-shadow: 0px 1px 2px rgba(60, 64, 67, 0.3), 0px 1px 3px 1px rgba(60, 64, 67, 0.15);\n",
              "      fill: #174EA6;\n",
              "    }\n",
              "\n",
              "    .colab-df-buttons div {\n",
              "      margin-bottom: 4px;\n",
              "    }\n",
              "\n",
              "    [theme=dark] .colab-df-convert {\n",
              "      background-color: #3B4455;\n",
              "      fill: #D2E3FC;\n",
              "    }\n",
              "\n",
              "    [theme=dark] .colab-df-convert:hover {\n",
              "      background-color: #434B5C;\n",
              "      box-shadow: 0px 1px 3px 1px rgba(0, 0, 0, 0.15);\n",
              "      filter: drop-shadow(0px 1px 2px rgba(0, 0, 0, 0.3));\n",
              "      fill: #FFFFFF;\n",
              "    }\n",
              "  </style>\n",
              "\n",
              "    <script>\n",
              "      const buttonEl =\n",
              "        document.querySelector('#df-8dafcb68-8b08-4f7f-8a3b-9a1c6e0d3660 button.colab-df-convert');\n",
              "      buttonEl.style.display =\n",
              "        google.colab.kernel.accessAllowed ? 'block' : 'none';\n",
              "\n",
              "      async function convertToInteractive(key) {\n",
              "        const element = document.querySelector('#df-8dafcb68-8b08-4f7f-8a3b-9a1c6e0d3660');\n",
              "        const dataTable =\n",
              "          await google.colab.kernel.invokeFunction('convertToInteractive',\n",
              "                                                    [key], {});\n",
              "        if (!dataTable) return;\n",
              "\n",
              "        const docLinkHtml = 'Like what you see? Visit the ' +\n",
              "          '<a target=\"_blank\" href=https://colab.research.google.com/notebooks/data_table.ipynb>data table notebook</a>'\n",
              "          + ' to learn more about interactive tables.';\n",
              "        element.innerHTML = '';\n",
              "        dataTable['output_type'] = 'display_data';\n",
              "        await google.colab.output.renderOutput(dataTable, element);\n",
              "        const docLink = document.createElement('div');\n",
              "        docLink.innerHTML = docLinkHtml;\n",
              "        element.appendChild(docLink);\n",
              "      }\n",
              "    </script>\n",
              "  </div>\n",
              "\n",
              "\n",
              "<div id=\"df-1707f093-89a8-4495-9feb-791bda891e16\">\n",
              "  <button class=\"colab-df-quickchart\" onclick=\"quickchart('df-1707f093-89a8-4495-9feb-791bda891e16')\"\n",
              "            title=\"Suggest charts\"\n",
              "            style=\"display:none;\">\n",
              "\n",
              "<svg xmlns=\"http://www.w3.org/2000/svg\" height=\"24px\"viewBox=\"0 0 24 24\"\n",
              "     width=\"24px\">\n",
              "    <g>\n",
              "        <path d=\"M19 3H5c-1.1 0-2 .9-2 2v14c0 1.1.9 2 2 2h14c1.1 0 2-.9 2-2V5c0-1.1-.9-2-2-2zM9 17H7v-7h2v7zm4 0h-2V7h2v10zm4 0h-2v-4h2v4z\"/>\n",
              "    </g>\n",
              "</svg>\n",
              "  </button>\n",
              "\n",
              "<style>\n",
              "  .colab-df-quickchart {\n",
              "      --bg-color: #E8F0FE;\n",
              "      --fill-color: #1967D2;\n",
              "      --hover-bg-color: #E2EBFA;\n",
              "      --hover-fill-color: #174EA6;\n",
              "      --disabled-fill-color: #AAA;\n",
              "      --disabled-bg-color: #DDD;\n",
              "  }\n",
              "\n",
              "  [theme=dark] .colab-df-quickchart {\n",
              "      --bg-color: #3B4455;\n",
              "      --fill-color: #D2E3FC;\n",
              "      --hover-bg-color: #434B5C;\n",
              "      --hover-fill-color: #FFFFFF;\n",
              "      --disabled-bg-color: #3B4455;\n",
              "      --disabled-fill-color: #666;\n",
              "  }\n",
              "\n",
              "  .colab-df-quickchart {\n",
              "    background-color: var(--bg-color);\n",
              "    border: none;\n",
              "    border-radius: 50%;\n",
              "    cursor: pointer;\n",
              "    display: none;\n",
              "    fill: var(--fill-color);\n",
              "    height: 32px;\n",
              "    padding: 0;\n",
              "    width: 32px;\n",
              "  }\n",
              "\n",
              "  .colab-df-quickchart:hover {\n",
              "    background-color: var(--hover-bg-color);\n",
              "    box-shadow: 0 1px 2px rgba(60, 64, 67, 0.3), 0 1px 3px 1px rgba(60, 64, 67, 0.15);\n",
              "    fill: var(--button-hover-fill-color);\n",
              "  }\n",
              "\n",
              "  .colab-df-quickchart-complete:disabled,\n",
              "  .colab-df-quickchart-complete:disabled:hover {\n",
              "    background-color: var(--disabled-bg-color);\n",
              "    fill: var(--disabled-fill-color);\n",
              "    box-shadow: none;\n",
              "  }\n",
              "\n",
              "  .colab-df-spinner {\n",
              "    border: 2px solid var(--fill-color);\n",
              "    border-color: transparent;\n",
              "    border-bottom-color: var(--fill-color);\n",
              "    animation:\n",
              "      spin 1s steps(1) infinite;\n",
              "  }\n",
              "\n",
              "  @keyframes spin {\n",
              "    0% {\n",
              "      border-color: transparent;\n",
              "      border-bottom-color: var(--fill-color);\n",
              "      border-left-color: var(--fill-color);\n",
              "    }\n",
              "    20% {\n",
              "      border-color: transparent;\n",
              "      border-left-color: var(--fill-color);\n",
              "      border-top-color: var(--fill-color);\n",
              "    }\n",
              "    30% {\n",
              "      border-color: transparent;\n",
              "      border-left-color: var(--fill-color);\n",
              "      border-top-color: var(--fill-color);\n",
              "      border-right-color: var(--fill-color);\n",
              "    }\n",
              "    40% {\n",
              "      border-color: transparent;\n",
              "      border-right-color: var(--fill-color);\n",
              "      border-top-color: var(--fill-color);\n",
              "    }\n",
              "    60% {\n",
              "      border-color: transparent;\n",
              "      border-right-color: var(--fill-color);\n",
              "    }\n",
              "    80% {\n",
              "      border-color: transparent;\n",
              "      border-right-color: var(--fill-color);\n",
              "      border-bottom-color: var(--fill-color);\n",
              "    }\n",
              "    90% {\n",
              "      border-color: transparent;\n",
              "      border-bottom-color: var(--fill-color);\n",
              "    }\n",
              "  }\n",
              "</style>\n",
              "\n",
              "  <script>\n",
              "    async function quickchart(key) {\n",
              "      const quickchartButtonEl =\n",
              "        document.querySelector('#' + key + ' button');\n",
              "      quickchartButtonEl.disabled = true;  // To prevent multiple clicks.\n",
              "      quickchartButtonEl.classList.add('colab-df-spinner');\n",
              "      try {\n",
              "        const charts = await google.colab.kernel.invokeFunction(\n",
              "            'suggestCharts', [key], {});\n",
              "      } catch (error) {\n",
              "        console.error('Error during call to suggestCharts:', error);\n",
              "      }\n",
              "      quickchartButtonEl.classList.remove('colab-df-spinner');\n",
              "      quickchartButtonEl.classList.add('colab-df-quickchart-complete');\n",
              "    }\n",
              "    (() => {\n",
              "      let quickchartButtonEl =\n",
              "        document.querySelector('#df-1707f093-89a8-4495-9feb-791bda891e16 button');\n",
              "      quickchartButtonEl.style.display =\n",
              "        google.colab.kernel.accessAllowed ? 'block' : 'none';\n",
              "    })();\n",
              "  </script>\n",
              "</div>\n",
              "\n",
              "  <div id=\"id_f99bd456-d74c-45c9-9594-95685503c358\">\n",
              "    <style>\n",
              "      .colab-df-generate {\n",
              "        background-color: #E8F0FE;\n",
              "        border: none;\n",
              "        border-radius: 50%;\n",
              "        cursor: pointer;\n",
              "        display: none;\n",
              "        fill: #1967D2;\n",
              "        height: 32px;\n",
              "        padding: 0 0 0 0;\n",
              "        width: 32px;\n",
              "      }\n",
              "\n",
              "      .colab-df-generate:hover {\n",
              "        background-color: #E2EBFA;\n",
              "        box-shadow: 0px 1px 2px rgba(60, 64, 67, 0.3), 0px 1px 3px 1px rgba(60, 64, 67, 0.15);\n",
              "        fill: #174EA6;\n",
              "      }\n",
              "\n",
              "      [theme=dark] .colab-df-generate {\n",
              "        background-color: #3B4455;\n",
              "        fill: #D2E3FC;\n",
              "      }\n",
              "\n",
              "      [theme=dark] .colab-df-generate:hover {\n",
              "        background-color: #434B5C;\n",
              "        box-shadow: 0px 1px 3px 1px rgba(0, 0, 0, 0.15);\n",
              "        filter: drop-shadow(0px 1px 2px rgba(0, 0, 0, 0.3));\n",
              "        fill: #FFFFFF;\n",
              "      }\n",
              "    </style>\n",
              "    <button class=\"colab-df-generate\" onclick=\"generateWithVariable('temp')\"\n",
              "            title=\"Generate code using this dataframe.\"\n",
              "            style=\"display:none;\">\n",
              "\n",
              "  <svg xmlns=\"http://www.w3.org/2000/svg\" height=\"24px\"viewBox=\"0 0 24 24\"\n",
              "       width=\"24px\">\n",
              "    <path d=\"M7,19H8.4L18.45,9,17,7.55,7,17.6ZM5,21V16.75L18.45,3.32a2,2,0,0,1,2.83,0l1.4,1.43a1.91,1.91,0,0,1,.58,1.4,1.91,1.91,0,0,1-.58,1.4L9.25,21ZM18.45,9,17,7.55Zm-12,3A5.31,5.31,0,0,0,4.9,8.1,5.31,5.31,0,0,0,1,6.5,5.31,5.31,0,0,0,4.9,4.9,5.31,5.31,0,0,0,6.5,1,5.31,5.31,0,0,0,8.1,4.9,5.31,5.31,0,0,0,12,6.5,5.46,5.46,0,0,0,6.5,12Z\"/>\n",
              "  </svg>\n",
              "    </button>\n",
              "    <script>\n",
              "      (() => {\n",
              "      const buttonEl =\n",
              "        document.querySelector('#id_f99bd456-d74c-45c9-9594-95685503c358 button.colab-df-generate');\n",
              "      buttonEl.style.display =\n",
              "        google.colab.kernel.accessAllowed ? 'block' : 'none';\n",
              "\n",
              "      buttonEl.onclick = () => {\n",
              "        google.colab.notebook.generateWithVariable('temp');\n",
              "      }\n",
              "      })();\n",
              "    </script>\n",
              "  </div>\n",
              "\n",
              "    </div>\n",
              "  </div>\n"
            ],
            "text/plain": [
              "                     time    open    high     low   close  volume\n",
              "0     2023-04-03 09:00:00  1081.3  1082.6  1080.6  1080.6   10331\n",
              "1     2023-04-03 09:03:00  1080.7  1081.2  1080.4  1080.4    4257\n",
              "2     2023-04-03 09:06:00  1080.4  1080.4  1078.4  1078.9    5101\n",
              "3     2023-04-03 09:09:00  1078.9  1079.0  1077.0  1077.9    5891\n",
              "4     2023-04-03 09:12:00  1077.9  1078.5  1077.5  1078.3    3498\n",
              "...                   ...     ...     ...     ...     ...     ...\n",
              "6884  2023-07-31 14:21:00  1223.2  1225.4  1223.2  1224.7    5733\n",
              "6885  2023-07-31 14:24:00  1224.6  1228.8  1224.2  1228.5    6276\n",
              "6886  2023-07-31 14:27:00  1227.8  1231.8  1227.8  1231.8    6975\n",
              "6887  2023-07-31 14:30:00  1231.9  1232.0  1231.9  1232.0     195\n",
              "6888  2023-07-31 14:45:00  1234.2  1234.2  1234.2  1234.2    7378\n",
              "\n",
              "[6889 rows x 6 columns]"
            ]
          },
          "execution_count": 20,
          "metadata": {},
          "output_type": "execute_result"
        }
      ],
      "source": [
        "temp = df2.drop(columns=['ticker'])\n",
        "temp"
      ]
    },
    {
      "cell_type": "code",
      "execution_count": null,
      "metadata": {
        "id": "DPbd-HATYCdC"
      },
      "outputs": [],
      "source": [
        "temp['time'] = pd.to_datetime(temp['time'])"
      ]
    },
    {
      "cell_type": "code",
      "execution_count": null,
      "metadata": {
        "colab": {
          "base_uri": "https://localhost:8080/",
          "height": 423
        },
        "id": "O99omUlQOfIJ",
        "outputId": "77443eb2-52c1-4764-e122-7f54c4efd7ce"
      },
      "outputs": [
        {
          "data": {
            "application/vnd.google.colaboratory.intrinsic+json": {
              "summary": "{\n  \"name\": \"df_resampled\",\n  \"rows\": 29160,\n  \"fields\": [\n    {\n      \"column\": \"Date\",\n      \"properties\": {\n        \"dtype\": \"date\",\n        \"min\": \"2023-04-03 09:00:00\",\n        \"max\": \"2023-07-31 14:45:00\",\n        \"num_unique_values\": 29160,\n        \"samples\": [\n          \"2023-06-01 09:33:00\",\n          \"2023-04-14 14:14:00\",\n          \"2023-05-08 13:58:00\"\n        ],\n        \"semantic_type\": \"\",\n        \"description\": \"\"\n      }\n    },\n    {\n      \"column\": \"Open\",\n      \"properties\": {\n        \"dtype\": \"number\",\n        \"std\": 46.90780637435666,\n        \"min\": 1026.3,\n        \"max\": 1234.2,\n        \"num_unique_values\": 1414,\n        \"samples\": [\n          1114.8,\n          1128.2,\n          1040.9\n        ],\n        \"semantic_type\": \"\",\n        \"description\": \"\"\n      }\n    },\n    {\n      \"column\": \"High\",\n      \"properties\": {\n        \"dtype\": \"number\",\n        \"std\": 46.945440986572166,\n        \"min\": 1026.6,\n        \"max\": 1234.2,\n        \"num_unique_values\": 1401,\n        \"samples\": [\n          1156.4,\n          1127.0,\n          1079.1\n        ],\n        \"semantic_type\": \"\",\n        \"description\": \"\"\n      }\n    },\n    {\n      \"column\": \"Low\",\n      \"properties\": {\n        \"dtype\": \"number\",\n        \"std\": 46.88743151785773,\n        \"min\": 1025.7,\n        \"max\": 1234.2,\n        \"num_unique_values\": 1395,\n        \"samples\": [\n          1187.2,\n          1037.2,\n          1218.1\n        ],\n        \"semantic_type\": \"\",\n        \"description\": \"\"\n      }\n    },\n    {\n      \"column\": \"Close\",\n      \"properties\": {\n        \"dtype\": \"number\",\n        \"std\": 46.922726371779476,\n        \"min\": 1026.3,\n        \"max\": 1234.2,\n        \"num_unique_values\": 1405,\n        \"samples\": [\n          1150.7,\n          1052.2,\n          1094.8\n        ],\n        \"semantic_type\": \"\",\n        \"description\": \"\"\n      }\n    },\n    {\n      \"column\": \"Volume\",\n      \"properties\": {\n        \"dtype\": \"number\",\n        \"std\": 1278.3405024261388,\n        \"min\": 1.0,\n        \"max\": 11797.0,\n        \"num_unique_values\": 1827,\n        \"samples\": [\n          192.0,\n          1561.0,\n          1490.0\n        ],\n        \"semantic_type\": \"\",\n        \"description\": \"\"\n      }\n    }\n  ]\n}",
              "type": "dataframe",
              "variable_name": "df_resampled"
            },
            "text/html": [
              "\n",
              "  <div id=\"df-766f8c87-d0f9-48a5-b5fc-e170c16c90d2\" class=\"colab-df-container\">\n",
              "    <div>\n",
              "<style scoped>\n",
              "    .dataframe tbody tr th:only-of-type {\n",
              "        vertical-align: middle;\n",
              "    }\n",
              "\n",
              "    .dataframe tbody tr th {\n",
              "        vertical-align: top;\n",
              "    }\n",
              "\n",
              "    .dataframe thead th {\n",
              "        text-align: right;\n",
              "    }\n",
              "</style>\n",
              "<table border=\"1\" class=\"dataframe\">\n",
              "  <thead>\n",
              "    <tr style=\"text-align: right;\">\n",
              "      <th></th>\n",
              "      <th>Date</th>\n",
              "      <th>Open</th>\n",
              "      <th>High</th>\n",
              "      <th>Low</th>\n",
              "      <th>Close</th>\n",
              "      <th>Volume</th>\n",
              "    </tr>\n",
              "  </thead>\n",
              "  <tbody>\n",
              "    <tr>\n",
              "      <th>0</th>\n",
              "      <td>2023-04-03 09:00:00</td>\n",
              "      <td>1081.3</td>\n",
              "      <td>1082.6</td>\n",
              "      <td>1080.6</td>\n",
              "      <td>1080.6</td>\n",
              "      <td>3444.0</td>\n",
              "    </tr>\n",
              "    <tr>\n",
              "      <th>1</th>\n",
              "      <td>2023-04-03 09:01:00</td>\n",
              "      <td>1081.3</td>\n",
              "      <td>1082.6</td>\n",
              "      <td>1080.6</td>\n",
              "      <td>1080.6</td>\n",
              "      <td>3444.0</td>\n",
              "    </tr>\n",
              "    <tr>\n",
              "      <th>2</th>\n",
              "      <td>2023-04-03 09:02:00</td>\n",
              "      <td>1081.3</td>\n",
              "      <td>1082.6</td>\n",
              "      <td>1080.6</td>\n",
              "      <td>1080.6</td>\n",
              "      <td>3444.0</td>\n",
              "    </tr>\n",
              "    <tr>\n",
              "      <th>3</th>\n",
              "      <td>2023-04-03 09:03:00</td>\n",
              "      <td>1080.7</td>\n",
              "      <td>1081.2</td>\n",
              "      <td>1080.4</td>\n",
              "      <td>1080.4</td>\n",
              "      <td>1419.0</td>\n",
              "    </tr>\n",
              "    <tr>\n",
              "      <th>4</th>\n",
              "      <td>2023-04-03 09:04:00</td>\n",
              "      <td>1080.7</td>\n",
              "      <td>1081.2</td>\n",
              "      <td>1080.4</td>\n",
              "      <td>1080.4</td>\n",
              "      <td>1419.0</td>\n",
              "    </tr>\n",
              "    <tr>\n",
              "      <th>...</th>\n",
              "      <td>...</td>\n",
              "      <td>...</td>\n",
              "      <td>...</td>\n",
              "      <td>...</td>\n",
              "      <td>...</td>\n",
              "      <td>...</td>\n",
              "    </tr>\n",
              "    <tr>\n",
              "      <th>171687</th>\n",
              "      <td>2023-07-31 14:27:00</td>\n",
              "      <td>1227.8</td>\n",
              "      <td>1231.8</td>\n",
              "      <td>1227.8</td>\n",
              "      <td>1231.8</td>\n",
              "      <td>2325.0</td>\n",
              "    </tr>\n",
              "    <tr>\n",
              "      <th>171688</th>\n",
              "      <td>2023-07-31 14:28:00</td>\n",
              "      <td>1227.8</td>\n",
              "      <td>1231.8</td>\n",
              "      <td>1227.8</td>\n",
              "      <td>1231.8</td>\n",
              "      <td>2325.0</td>\n",
              "    </tr>\n",
              "    <tr>\n",
              "      <th>171689</th>\n",
              "      <td>2023-07-31 14:29:00</td>\n",
              "      <td>1227.8</td>\n",
              "      <td>1231.8</td>\n",
              "      <td>1227.8</td>\n",
              "      <td>1231.8</td>\n",
              "      <td>2325.0</td>\n",
              "    </tr>\n",
              "    <tr>\n",
              "      <th>171690</th>\n",
              "      <td>2023-07-31 14:30:00</td>\n",
              "      <td>1231.9</td>\n",
              "      <td>1232.0</td>\n",
              "      <td>1231.9</td>\n",
              "      <td>1232.0</td>\n",
              "      <td>195.0</td>\n",
              "    </tr>\n",
              "    <tr>\n",
              "      <th>171705</th>\n",
              "      <td>2023-07-31 14:45:00</td>\n",
              "      <td>1234.2</td>\n",
              "      <td>1234.2</td>\n",
              "      <td>1234.2</td>\n",
              "      <td>1234.2</td>\n",
              "      <td>7378.0</td>\n",
              "    </tr>\n",
              "  </tbody>\n",
              "</table>\n",
              "<p>29160 rows × 6 columns</p>\n",
              "</div>\n",
              "    <div class=\"colab-df-buttons\">\n",
              "\n",
              "  <div class=\"colab-df-container\">\n",
              "    <button class=\"colab-df-convert\" onclick=\"convertToInteractive('df-766f8c87-d0f9-48a5-b5fc-e170c16c90d2')\"\n",
              "            title=\"Convert this dataframe to an interactive table.\"\n",
              "            style=\"display:none;\">\n",
              "\n",
              "  <svg xmlns=\"http://www.w3.org/2000/svg\" height=\"24px\" viewBox=\"0 -960 960 960\">\n",
              "    <path d=\"M120-120v-720h720v720H120Zm60-500h600v-160H180v160Zm220 220h160v-160H400v160Zm0 220h160v-160H400v160ZM180-400h160v-160H180v160Zm440 0h160v-160H620v160ZM180-180h160v-160H180v160Zm440 0h160v-160H620v160Z\"/>\n",
              "  </svg>\n",
              "    </button>\n",
              "\n",
              "  <style>\n",
              "    .colab-df-container {\n",
              "      display:flex;\n",
              "      gap: 12px;\n",
              "    }\n",
              "\n",
              "    .colab-df-convert {\n",
              "      background-color: #E8F0FE;\n",
              "      border: none;\n",
              "      border-radius: 50%;\n",
              "      cursor: pointer;\n",
              "      display: none;\n",
              "      fill: #1967D2;\n",
              "      height: 32px;\n",
              "      padding: 0 0 0 0;\n",
              "      width: 32px;\n",
              "    }\n",
              "\n",
              "    .colab-df-convert:hover {\n",
              "      background-color: #E2EBFA;\n",
              "      box-shadow: 0px 1px 2px rgba(60, 64, 67, 0.3), 0px 1px 3px 1px rgba(60, 64, 67, 0.15);\n",
              "      fill: #174EA6;\n",
              "    }\n",
              "\n",
              "    .colab-df-buttons div {\n",
              "      margin-bottom: 4px;\n",
              "    }\n",
              "\n",
              "    [theme=dark] .colab-df-convert {\n",
              "      background-color: #3B4455;\n",
              "      fill: #D2E3FC;\n",
              "    }\n",
              "\n",
              "    [theme=dark] .colab-df-convert:hover {\n",
              "      background-color: #434B5C;\n",
              "      box-shadow: 0px 1px 3px 1px rgba(0, 0, 0, 0.15);\n",
              "      filter: drop-shadow(0px 1px 2px rgba(0, 0, 0, 0.3));\n",
              "      fill: #FFFFFF;\n",
              "    }\n",
              "  </style>\n",
              "\n",
              "    <script>\n",
              "      const buttonEl =\n",
              "        document.querySelector('#df-766f8c87-d0f9-48a5-b5fc-e170c16c90d2 button.colab-df-convert');\n",
              "      buttonEl.style.display =\n",
              "        google.colab.kernel.accessAllowed ? 'block' : 'none';\n",
              "\n",
              "      async function convertToInteractive(key) {\n",
              "        const element = document.querySelector('#df-766f8c87-d0f9-48a5-b5fc-e170c16c90d2');\n",
              "        const dataTable =\n",
              "          await google.colab.kernel.invokeFunction('convertToInteractive',\n",
              "                                                    [key], {});\n",
              "        if (!dataTable) return;\n",
              "\n",
              "        const docLinkHtml = 'Like what you see? Visit the ' +\n",
              "          '<a target=\"_blank\" href=https://colab.research.google.com/notebooks/data_table.ipynb>data table notebook</a>'\n",
              "          + ' to learn more about interactive tables.';\n",
              "        element.innerHTML = '';\n",
              "        dataTable['output_type'] = 'display_data';\n",
              "        await google.colab.output.renderOutput(dataTable, element);\n",
              "        const docLink = document.createElement('div');\n",
              "        docLink.innerHTML = docLinkHtml;\n",
              "        element.appendChild(docLink);\n",
              "      }\n",
              "    </script>\n",
              "  </div>\n",
              "\n",
              "\n",
              "<div id=\"df-7be82516-b9cf-4827-be43-5fb47825bd9c\">\n",
              "  <button class=\"colab-df-quickchart\" onclick=\"quickchart('df-7be82516-b9cf-4827-be43-5fb47825bd9c')\"\n",
              "            title=\"Suggest charts\"\n",
              "            style=\"display:none;\">\n",
              "\n",
              "<svg xmlns=\"http://www.w3.org/2000/svg\" height=\"24px\"viewBox=\"0 0 24 24\"\n",
              "     width=\"24px\">\n",
              "    <g>\n",
              "        <path d=\"M19 3H5c-1.1 0-2 .9-2 2v14c0 1.1.9 2 2 2h14c1.1 0 2-.9 2-2V5c0-1.1-.9-2-2-2zM9 17H7v-7h2v7zm4 0h-2V7h2v10zm4 0h-2v-4h2v4z\"/>\n",
              "    </g>\n",
              "</svg>\n",
              "  </button>\n",
              "\n",
              "<style>\n",
              "  .colab-df-quickchart {\n",
              "      --bg-color: #E8F0FE;\n",
              "      --fill-color: #1967D2;\n",
              "      --hover-bg-color: #E2EBFA;\n",
              "      --hover-fill-color: #174EA6;\n",
              "      --disabled-fill-color: #AAA;\n",
              "      --disabled-bg-color: #DDD;\n",
              "  }\n",
              "\n",
              "  [theme=dark] .colab-df-quickchart {\n",
              "      --bg-color: #3B4455;\n",
              "      --fill-color: #D2E3FC;\n",
              "      --hover-bg-color: #434B5C;\n",
              "      --hover-fill-color: #FFFFFF;\n",
              "      --disabled-bg-color: #3B4455;\n",
              "      --disabled-fill-color: #666;\n",
              "  }\n",
              "\n",
              "  .colab-df-quickchart {\n",
              "    background-color: var(--bg-color);\n",
              "    border: none;\n",
              "    border-radius: 50%;\n",
              "    cursor: pointer;\n",
              "    display: none;\n",
              "    fill: var(--fill-color);\n",
              "    height: 32px;\n",
              "    padding: 0;\n",
              "    width: 32px;\n",
              "  }\n",
              "\n",
              "  .colab-df-quickchart:hover {\n",
              "    background-color: var(--hover-bg-color);\n",
              "    box-shadow: 0 1px 2px rgba(60, 64, 67, 0.3), 0 1px 3px 1px rgba(60, 64, 67, 0.15);\n",
              "    fill: var(--button-hover-fill-color);\n",
              "  }\n",
              "\n",
              "  .colab-df-quickchart-complete:disabled,\n",
              "  .colab-df-quickchart-complete:disabled:hover {\n",
              "    background-color: var(--disabled-bg-color);\n",
              "    fill: var(--disabled-fill-color);\n",
              "    box-shadow: none;\n",
              "  }\n",
              "\n",
              "  .colab-df-spinner {\n",
              "    border: 2px solid var(--fill-color);\n",
              "    border-color: transparent;\n",
              "    border-bottom-color: var(--fill-color);\n",
              "    animation:\n",
              "      spin 1s steps(1) infinite;\n",
              "  }\n",
              "\n",
              "  @keyframes spin {\n",
              "    0% {\n",
              "      border-color: transparent;\n",
              "      border-bottom-color: var(--fill-color);\n",
              "      border-left-color: var(--fill-color);\n",
              "    }\n",
              "    20% {\n",
              "      border-color: transparent;\n",
              "      border-left-color: var(--fill-color);\n",
              "      border-top-color: var(--fill-color);\n",
              "    }\n",
              "    30% {\n",
              "      border-color: transparent;\n",
              "      border-left-color: var(--fill-color);\n",
              "      border-top-color: var(--fill-color);\n",
              "      border-right-color: var(--fill-color);\n",
              "    }\n",
              "    40% {\n",
              "      border-color: transparent;\n",
              "      border-right-color: var(--fill-color);\n",
              "      border-top-color: var(--fill-color);\n",
              "    }\n",
              "    60% {\n",
              "      border-color: transparent;\n",
              "      border-right-color: var(--fill-color);\n",
              "    }\n",
              "    80% {\n",
              "      border-color: transparent;\n",
              "      border-right-color: var(--fill-color);\n",
              "      border-bottom-color: var(--fill-color);\n",
              "    }\n",
              "    90% {\n",
              "      border-color: transparent;\n",
              "      border-bottom-color: var(--fill-color);\n",
              "    }\n",
              "  }\n",
              "</style>\n",
              "\n",
              "  <script>\n",
              "    async function quickchart(key) {\n",
              "      const quickchartButtonEl =\n",
              "        document.querySelector('#' + key + ' button');\n",
              "      quickchartButtonEl.disabled = true;  // To prevent multiple clicks.\n",
              "      quickchartButtonEl.classList.add('colab-df-spinner');\n",
              "      try {\n",
              "        const charts = await google.colab.kernel.invokeFunction(\n",
              "            'suggestCharts', [key], {});\n",
              "      } catch (error) {\n",
              "        console.error('Error during call to suggestCharts:', error);\n",
              "      }\n",
              "      quickchartButtonEl.classList.remove('colab-df-spinner');\n",
              "      quickchartButtonEl.classList.add('colab-df-quickchart-complete');\n",
              "    }\n",
              "    (() => {\n",
              "      let quickchartButtonEl =\n",
              "        document.querySelector('#df-7be82516-b9cf-4827-be43-5fb47825bd9c button');\n",
              "      quickchartButtonEl.style.display =\n",
              "        google.colab.kernel.accessAllowed ? 'block' : 'none';\n",
              "    })();\n",
              "  </script>\n",
              "</div>\n",
              "\n",
              "  <div id=\"id_f2ebce95-5235-4d41-b981-e560d6ea05f5\">\n",
              "    <style>\n",
              "      .colab-df-generate {\n",
              "        background-color: #E8F0FE;\n",
              "        border: none;\n",
              "        border-radius: 50%;\n",
              "        cursor: pointer;\n",
              "        display: none;\n",
              "        fill: #1967D2;\n",
              "        height: 32px;\n",
              "        padding: 0 0 0 0;\n",
              "        width: 32px;\n",
              "      }\n",
              "\n",
              "      .colab-df-generate:hover {\n",
              "        background-color: #E2EBFA;\n",
              "        box-shadow: 0px 1px 2px rgba(60, 64, 67, 0.3), 0px 1px 3px 1px rgba(60, 64, 67, 0.15);\n",
              "        fill: #174EA6;\n",
              "      }\n",
              "\n",
              "      [theme=dark] .colab-df-generate {\n",
              "        background-color: #3B4455;\n",
              "        fill: #D2E3FC;\n",
              "      }\n",
              "\n",
              "      [theme=dark] .colab-df-generate:hover {\n",
              "        background-color: #434B5C;\n",
              "        box-shadow: 0px 1px 3px 1px rgba(0, 0, 0, 0.15);\n",
              "        filter: drop-shadow(0px 1px 2px rgba(0, 0, 0, 0.3));\n",
              "        fill: #FFFFFF;\n",
              "      }\n",
              "    </style>\n",
              "    <button class=\"colab-df-generate\" onclick=\"generateWithVariable('df_resampled')\"\n",
              "            title=\"Generate code using this dataframe.\"\n",
              "            style=\"display:none;\">\n",
              "\n",
              "  <svg xmlns=\"http://www.w3.org/2000/svg\" height=\"24px\"viewBox=\"0 0 24 24\"\n",
              "       width=\"24px\">\n",
              "    <path d=\"M7,19H8.4L18.45,9,17,7.55,7,17.6ZM5,21V16.75L18.45,3.32a2,2,0,0,1,2.83,0l1.4,1.43a1.91,1.91,0,0,1,.58,1.4,1.91,1.91,0,0,1-.58,1.4L9.25,21ZM18.45,9,17,7.55Zm-12,3A5.31,5.31,0,0,0,4.9,8.1,5.31,5.31,0,0,0,1,6.5,5.31,5.31,0,0,0,4.9,4.9,5.31,5.31,0,0,0,6.5,1,5.31,5.31,0,0,0,8.1,4.9,5.31,5.31,0,0,0,12,6.5,5.46,5.46,0,0,0,6.5,12Z\"/>\n",
              "  </svg>\n",
              "    </button>\n",
              "    <script>\n",
              "      (() => {\n",
              "      const buttonEl =\n",
              "        document.querySelector('#id_f2ebce95-5235-4d41-b981-e560d6ea05f5 button.colab-df-generate');\n",
              "      buttonEl.style.display =\n",
              "        google.colab.kernel.accessAllowed ? 'block' : 'none';\n",
              "\n",
              "      buttonEl.onclick = () => {\n",
              "        google.colab.notebook.generateWithVariable('df_resampled');\n",
              "      }\n",
              "      })();\n",
              "    </script>\n",
              "  </div>\n",
              "\n",
              "    </div>\n",
              "  </div>\n"
            ],
            "text/plain": [
              "                      Date    Open    High     Low   Close  Volume\n",
              "0      2023-04-03 09:00:00  1081.3  1082.6  1080.6  1080.6  3444.0\n",
              "1      2023-04-03 09:01:00  1081.3  1082.6  1080.6  1080.6  3444.0\n",
              "2      2023-04-03 09:02:00  1081.3  1082.6  1080.6  1080.6  3444.0\n",
              "3      2023-04-03 09:03:00  1080.7  1081.2  1080.4  1080.4  1419.0\n",
              "4      2023-04-03 09:04:00  1080.7  1081.2  1080.4  1080.4  1419.0\n",
              "...                    ...     ...     ...     ...     ...     ...\n",
              "171687 2023-07-31 14:27:00  1227.8  1231.8  1227.8  1231.8  2325.0\n",
              "171688 2023-07-31 14:28:00  1227.8  1231.8  1227.8  1231.8  2325.0\n",
              "171689 2023-07-31 14:29:00  1227.8  1231.8  1227.8  1231.8  2325.0\n",
              "171690 2023-07-31 14:30:00  1231.9  1232.0  1231.9  1232.0   195.0\n",
              "171705 2023-07-31 14:45:00  1234.2  1234.2  1234.2  1234.2  7378.0\n",
              "\n",
              "[29160 rows x 6 columns]"
            ]
          },
          "execution_count": 22,
          "metadata": {},
          "output_type": "execute_result"
        }
      ],
      "source": [
        "morning_start = pd.Timestamp('09:00:00').time()\n",
        "morning_end = pd.Timestamp('11:30:00').time()\n",
        "afternoon_start = pd.Timestamp('13:00:00').time()\n",
        "afternoon_end = pd.Timestamp('14:30:00').time()\n",
        "ATC = pd.Timestamp('14:45:00').time()\n",
        "\n",
        "time_points = []\n",
        "current_time = morning_start\n",
        "\n",
        "while current_time <= morning_end:\n",
        "    time_points.append(current_time)\n",
        "    current_time = (pd.Timestamp.combine(pd.Timestamp.today(), current_time) + pd.Timedelta(minutes=1)).time()\n",
        "\n",
        "current_time = afternoon_start\n",
        "while current_time <= afternoon_end:\n",
        "    time_points.append(current_time)\n",
        "    current_time = (pd.Timestamp.combine(pd.Timestamp.today(), current_time) + pd.Timedelta(minutes=1)).time()\n",
        "\n",
        "current_time = ATC\n",
        "while current_time == ATC:\n",
        "    time_points.append(current_time)\n",
        "    current_time = (pd.Timestamp.combine(pd.Timestamp.today(), current_time) + pd.Timedelta(minutes=1)).time()\n",
        "\n",
        "temp = temp.set_index('time')\n",
        "df_resampled = temp.resample('1T').first().reindex(pd.date_range(start=temp.index[0], end=temp.index[-1], freq='1T')).ffill()\n",
        "\n",
        "df_resampled = df_resampled.reset_index().rename(columns={'index': 'time'})\n",
        "temp = temp.reset_index().rename(columns={'index': 'time'})\n",
        "\n",
        "df_resampled = df_resampled[df_resampled['time'].dt.time.isin(time_points)]\n",
        "df_resampled = df_resampled.rename(columns={\n",
        "    'time': 'Date',\n",
        "    'open': 'Open',\n",
        "    'high': 'High',\n",
        "    'low': 'Low',\n",
        "    'close': 'Close',\n",
        "    'volume': 'Volume'\n",
        "})\n",
        "\n",
        "# Divide the Volume column by 3 and round to the nearest integer\n",
        "df_resampled['Volume'] = df_resampled.apply(\n",
        "    lambda row: round(row['Volume'] / 3) if row['Date'].time() < pd.Timestamp('14:30:00').time() else row['Volume'],\n",
        "    axis=1\n",
        ")\n",
        "\n",
        "df_resampled"
      ]
    },
    {
      "cell_type": "code",
      "execution_count": null,
      "metadata": {
        "id": "v2xKpEoSR3i9"
      },
      "outputs": [],
      "source": [
        "\n",
        "combined_data = pd.merge(df, df_resampled, on='Date', how='outer', suffixes=('', '_data1'))\n",
        "\n",
        "for column in ['Open', 'High', 'Low', 'Close', 'Volume']:\n",
        "    combined_data[column].fillna(combined_data[f'{column}_data1'], inplace=True)\n",
        "\n",
        "combined_data.drop(columns=[f'{column}_data1' for column in ['Open', 'High', 'Low', 'Close', 'Volume']], inplace=True)\n",
        "\n",
        "\n",
        "combined_data.sort_values('Date', inplace=True)\n",
        "\n",
        "combined_data.reset_index(drop=True, inplace=True)"
      ]
    },
    {
      "cell_type": "code",
      "execution_count": null,
      "metadata": {
        "colab": {
          "base_uri": "https://localhost:8080/",
          "height": 423
        },
        "id": "_2VBuWNrSJQ-",
        "outputId": "e95a0396-21df-4677-ae1e-5e975f9138ec"
      },
      "outputs": [
        {
          "data": {
            "application/vnd.google.colaboratory.intrinsic+json": {
              "type": "dataframe",
              "variable_name": "combined_data"
            },
            "text/html": [
              "\n",
              "  <div id=\"df-c77db009-207f-4d5f-a8f0-4871c3ff6f7a\" class=\"colab-df-container\">\n",
              "    <div>\n",
              "<style scoped>\n",
              "    .dataframe tbody tr th:only-of-type {\n",
              "        vertical-align: middle;\n",
              "    }\n",
              "\n",
              "    .dataframe tbody tr th {\n",
              "        vertical-align: top;\n",
              "    }\n",
              "\n",
              "    .dataframe thead th {\n",
              "        text-align: right;\n",
              "    }\n",
              "</style>\n",
              "<table border=\"1\" class=\"dataframe\">\n",
              "  <thead>\n",
              "    <tr style=\"text-align: right;\">\n",
              "      <th></th>\n",
              "      <th>Date</th>\n",
              "      <th>Open</th>\n",
              "      <th>High</th>\n",
              "      <th>Low</th>\n",
              "      <th>Close</th>\n",
              "      <th>Volume</th>\n",
              "    </tr>\n",
              "  </thead>\n",
              "  <tbody>\n",
              "    <tr>\n",
              "      <th>0</th>\n",
              "      <td>2018-08-13 09:00:00</td>\n",
              "      <td>943.5</td>\n",
              "      <td>943.5</td>\n",
              "      <td>942.9</td>\n",
              "      <td>942.9</td>\n",
              "      <td>975.0</td>\n",
              "    </tr>\n",
              "    <tr>\n",
              "      <th>1</th>\n",
              "      <td>2018-08-13 09:01:00</td>\n",
              "      <td>943.0</td>\n",
              "      <td>943.1</td>\n",
              "      <td>942.9</td>\n",
              "      <td>943.1</td>\n",
              "      <td>220.0</td>\n",
              "    </tr>\n",
              "    <tr>\n",
              "      <th>2</th>\n",
              "      <td>2018-08-13 09:02:00</td>\n",
              "      <td>943.0</td>\n",
              "      <td>943.6</td>\n",
              "      <td>943.0</td>\n",
              "      <td>943.5</td>\n",
              "      <td>121.0</td>\n",
              "    </tr>\n",
              "    <tr>\n",
              "      <th>3</th>\n",
              "      <td>2018-08-13 09:03:00</td>\n",
              "      <td>943.3</td>\n",
              "      <td>943.4</td>\n",
              "      <td>943.3</td>\n",
              "      <td>943.4</td>\n",
              "      <td>135.0</td>\n",
              "    </tr>\n",
              "    <tr>\n",
              "      <th>4</th>\n",
              "      <td>2018-08-13 09:04:00</td>\n",
              "      <td>943.2</td>\n",
              "      <td>943.2</td>\n",
              "      <td>943.0</td>\n",
              "      <td>943.1</td>\n",
              "      <td>361.0</td>\n",
              "    </tr>\n",
              "    <tr>\n",
              "      <th>...</th>\n",
              "      <td>...</td>\n",
              "      <td>...</td>\n",
              "      <td>...</td>\n",
              "      <td>...</td>\n",
              "      <td>...</td>\n",
              "      <td>...</td>\n",
              "    </tr>\n",
              "    <tr>\n",
              "      <th>352832</th>\n",
              "      <td>2024-06-24 14:05:00</td>\n",
              "      <td>1297.5</td>\n",
              "      <td>1298.1</td>\n",
              "      <td>1297.0</td>\n",
              "      <td>1297.0</td>\n",
              "      <td>1256.0</td>\n",
              "    </tr>\n",
              "    <tr>\n",
              "      <th>352833</th>\n",
              "      <td>2024-06-24 14:06:00</td>\n",
              "      <td>1297.0</td>\n",
              "      <td>1297.1</td>\n",
              "      <td>1296.3</td>\n",
              "      <td>1297.1</td>\n",
              "      <td>1290.0</td>\n",
              "    </tr>\n",
              "    <tr>\n",
              "      <th>352834</th>\n",
              "      <td>2024-06-24 14:07:00</td>\n",
              "      <td>1296.7</td>\n",
              "      <td>1298.0</td>\n",
              "      <td>1296.5</td>\n",
              "      <td>1297.9</td>\n",
              "      <td>888.0</td>\n",
              "    </tr>\n",
              "    <tr>\n",
              "      <th>352835</th>\n",
              "      <td>2024-06-24 14:08:00</td>\n",
              "      <td>1297.8</td>\n",
              "      <td>1298.0</td>\n",
              "      <td>1295.0</td>\n",
              "      <td>1295.0</td>\n",
              "      <td>1863.0</td>\n",
              "    </tr>\n",
              "    <tr>\n",
              "      <th>352836</th>\n",
              "      <td>2024-06-24 14:09:00</td>\n",
              "      <td>1294.5</td>\n",
              "      <td>1295.7</td>\n",
              "      <td>1294.2</td>\n",
              "      <td>1294.7</td>\n",
              "      <td>2211.0</td>\n",
              "    </tr>\n",
              "  </tbody>\n",
              "</table>\n",
              "<p>352837 rows × 6 columns</p>\n",
              "</div>\n",
              "    <div class=\"colab-df-buttons\">\n",
              "\n",
              "  <div class=\"colab-df-container\">\n",
              "    <button class=\"colab-df-convert\" onclick=\"convertToInteractive('df-c77db009-207f-4d5f-a8f0-4871c3ff6f7a')\"\n",
              "            title=\"Convert this dataframe to an interactive table.\"\n",
              "            style=\"display:none;\">\n",
              "\n",
              "  <svg xmlns=\"http://www.w3.org/2000/svg\" height=\"24px\" viewBox=\"0 -960 960 960\">\n",
              "    <path d=\"M120-120v-720h720v720H120Zm60-500h600v-160H180v160Zm220 220h160v-160H400v160Zm0 220h160v-160H400v160ZM180-400h160v-160H180v160Zm440 0h160v-160H620v160ZM180-180h160v-160H180v160Zm440 0h160v-160H620v160Z\"/>\n",
              "  </svg>\n",
              "    </button>\n",
              "\n",
              "  <style>\n",
              "    .colab-df-container {\n",
              "      display:flex;\n",
              "      gap: 12px;\n",
              "    }\n",
              "\n",
              "    .colab-df-convert {\n",
              "      background-color: #E8F0FE;\n",
              "      border: none;\n",
              "      border-radius: 50%;\n",
              "      cursor: pointer;\n",
              "      display: none;\n",
              "      fill: #1967D2;\n",
              "      height: 32px;\n",
              "      padding: 0 0 0 0;\n",
              "      width: 32px;\n",
              "    }\n",
              "\n",
              "    .colab-df-convert:hover {\n",
              "      background-color: #E2EBFA;\n",
              "      box-shadow: 0px 1px 2px rgba(60, 64, 67, 0.3), 0px 1px 3px 1px rgba(60, 64, 67, 0.15);\n",
              "      fill: #174EA6;\n",
              "    }\n",
              "\n",
              "    .colab-df-buttons div {\n",
              "      margin-bottom: 4px;\n",
              "    }\n",
              "\n",
              "    [theme=dark] .colab-df-convert {\n",
              "      background-color: #3B4455;\n",
              "      fill: #D2E3FC;\n",
              "    }\n",
              "\n",
              "    [theme=dark] .colab-df-convert:hover {\n",
              "      background-color: #434B5C;\n",
              "      box-shadow: 0px 1px 3px 1px rgba(0, 0, 0, 0.15);\n",
              "      filter: drop-shadow(0px 1px 2px rgba(0, 0, 0, 0.3));\n",
              "      fill: #FFFFFF;\n",
              "    }\n",
              "  </style>\n",
              "\n",
              "    <script>\n",
              "      const buttonEl =\n",
              "        document.querySelector('#df-c77db009-207f-4d5f-a8f0-4871c3ff6f7a button.colab-df-convert');\n",
              "      buttonEl.style.display =\n",
              "        google.colab.kernel.accessAllowed ? 'block' : 'none';\n",
              "\n",
              "      async function convertToInteractive(key) {\n",
              "        const element = document.querySelector('#df-c77db009-207f-4d5f-a8f0-4871c3ff6f7a');\n",
              "        const dataTable =\n",
              "          await google.colab.kernel.invokeFunction('convertToInteractive',\n",
              "                                                    [key], {});\n",
              "        if (!dataTable) return;\n",
              "\n",
              "        const docLinkHtml = 'Like what you see? Visit the ' +\n",
              "          '<a target=\"_blank\" href=https://colab.research.google.com/notebooks/data_table.ipynb>data table notebook</a>'\n",
              "          + ' to learn more about interactive tables.';\n",
              "        element.innerHTML = '';\n",
              "        dataTable['output_type'] = 'display_data';\n",
              "        await google.colab.output.renderOutput(dataTable, element);\n",
              "        const docLink = document.createElement('div');\n",
              "        docLink.innerHTML = docLinkHtml;\n",
              "        element.appendChild(docLink);\n",
              "      }\n",
              "    </script>\n",
              "  </div>\n",
              "\n",
              "\n",
              "<div id=\"df-54bb8ad0-fffe-4a84-bbd6-5147799fa238\">\n",
              "  <button class=\"colab-df-quickchart\" onclick=\"quickchart('df-54bb8ad0-fffe-4a84-bbd6-5147799fa238')\"\n",
              "            title=\"Suggest charts\"\n",
              "            style=\"display:none;\">\n",
              "\n",
              "<svg xmlns=\"http://www.w3.org/2000/svg\" height=\"24px\"viewBox=\"0 0 24 24\"\n",
              "     width=\"24px\">\n",
              "    <g>\n",
              "        <path d=\"M19 3H5c-1.1 0-2 .9-2 2v14c0 1.1.9 2 2 2h14c1.1 0 2-.9 2-2V5c0-1.1-.9-2-2-2zM9 17H7v-7h2v7zm4 0h-2V7h2v10zm4 0h-2v-4h2v4z\"/>\n",
              "    </g>\n",
              "</svg>\n",
              "  </button>\n",
              "\n",
              "<style>\n",
              "  .colab-df-quickchart {\n",
              "      --bg-color: #E8F0FE;\n",
              "      --fill-color: #1967D2;\n",
              "      --hover-bg-color: #E2EBFA;\n",
              "      --hover-fill-color: #174EA6;\n",
              "      --disabled-fill-color: #AAA;\n",
              "      --disabled-bg-color: #DDD;\n",
              "  }\n",
              "\n",
              "  [theme=dark] .colab-df-quickchart {\n",
              "      --bg-color: #3B4455;\n",
              "      --fill-color: #D2E3FC;\n",
              "      --hover-bg-color: #434B5C;\n",
              "      --hover-fill-color: #FFFFFF;\n",
              "      --disabled-bg-color: #3B4455;\n",
              "      --disabled-fill-color: #666;\n",
              "  }\n",
              "\n",
              "  .colab-df-quickchart {\n",
              "    background-color: var(--bg-color);\n",
              "    border: none;\n",
              "    border-radius: 50%;\n",
              "    cursor: pointer;\n",
              "    display: none;\n",
              "    fill: var(--fill-color);\n",
              "    height: 32px;\n",
              "    padding: 0;\n",
              "    width: 32px;\n",
              "  }\n",
              "\n",
              "  .colab-df-quickchart:hover {\n",
              "    background-color: var(--hover-bg-color);\n",
              "    box-shadow: 0 1px 2px rgba(60, 64, 67, 0.3), 0 1px 3px 1px rgba(60, 64, 67, 0.15);\n",
              "    fill: var(--button-hover-fill-color);\n",
              "  }\n",
              "\n",
              "  .colab-df-quickchart-complete:disabled,\n",
              "  .colab-df-quickchart-complete:disabled:hover {\n",
              "    background-color: var(--disabled-bg-color);\n",
              "    fill: var(--disabled-fill-color);\n",
              "    box-shadow: none;\n",
              "  }\n",
              "\n",
              "  .colab-df-spinner {\n",
              "    border: 2px solid var(--fill-color);\n",
              "    border-color: transparent;\n",
              "    border-bottom-color: var(--fill-color);\n",
              "    animation:\n",
              "      spin 1s steps(1) infinite;\n",
              "  }\n",
              "\n",
              "  @keyframes spin {\n",
              "    0% {\n",
              "      border-color: transparent;\n",
              "      border-bottom-color: var(--fill-color);\n",
              "      border-left-color: var(--fill-color);\n",
              "    }\n",
              "    20% {\n",
              "      border-color: transparent;\n",
              "      border-left-color: var(--fill-color);\n",
              "      border-top-color: var(--fill-color);\n",
              "    }\n",
              "    30% {\n",
              "      border-color: transparent;\n",
              "      border-left-color: var(--fill-color);\n",
              "      border-top-color: var(--fill-color);\n",
              "      border-right-color: var(--fill-color);\n",
              "    }\n",
              "    40% {\n",
              "      border-color: transparent;\n",
              "      border-right-color: var(--fill-color);\n",
              "      border-top-color: var(--fill-color);\n",
              "    }\n",
              "    60% {\n",
              "      border-color: transparent;\n",
              "      border-right-color: var(--fill-color);\n",
              "    }\n",
              "    80% {\n",
              "      border-color: transparent;\n",
              "      border-right-color: var(--fill-color);\n",
              "      border-bottom-color: var(--fill-color);\n",
              "    }\n",
              "    90% {\n",
              "      border-color: transparent;\n",
              "      border-bottom-color: var(--fill-color);\n",
              "    }\n",
              "  }\n",
              "</style>\n",
              "\n",
              "  <script>\n",
              "    async function quickchart(key) {\n",
              "      const quickchartButtonEl =\n",
              "        document.querySelector('#' + key + ' button');\n",
              "      quickchartButtonEl.disabled = true;  // To prevent multiple clicks.\n",
              "      quickchartButtonEl.classList.add('colab-df-spinner');\n",
              "      try {\n",
              "        const charts = await google.colab.kernel.invokeFunction(\n",
              "            'suggestCharts', [key], {});\n",
              "      } catch (error) {\n",
              "        console.error('Error during call to suggestCharts:', error);\n",
              "      }\n",
              "      quickchartButtonEl.classList.remove('colab-df-spinner');\n",
              "      quickchartButtonEl.classList.add('colab-df-quickchart-complete');\n",
              "    }\n",
              "    (() => {\n",
              "      let quickchartButtonEl =\n",
              "        document.querySelector('#df-54bb8ad0-fffe-4a84-bbd6-5147799fa238 button');\n",
              "      quickchartButtonEl.style.display =\n",
              "        google.colab.kernel.accessAllowed ? 'block' : 'none';\n",
              "    })();\n",
              "  </script>\n",
              "</div>\n",
              "\n",
              "  <div id=\"id_dacf0dc5-0fcf-413c-9fc1-f8363b0b33c9\">\n",
              "    <style>\n",
              "      .colab-df-generate {\n",
              "        background-color: #E8F0FE;\n",
              "        border: none;\n",
              "        border-radius: 50%;\n",
              "        cursor: pointer;\n",
              "        display: none;\n",
              "        fill: #1967D2;\n",
              "        height: 32px;\n",
              "        padding: 0 0 0 0;\n",
              "        width: 32px;\n",
              "      }\n",
              "\n",
              "      .colab-df-generate:hover {\n",
              "        background-color: #E2EBFA;\n",
              "        box-shadow: 0px 1px 2px rgba(60, 64, 67, 0.3), 0px 1px 3px 1px rgba(60, 64, 67, 0.15);\n",
              "        fill: #174EA6;\n",
              "      }\n",
              "\n",
              "      [theme=dark] .colab-df-generate {\n",
              "        background-color: #3B4455;\n",
              "        fill: #D2E3FC;\n",
              "      }\n",
              "\n",
              "      [theme=dark] .colab-df-generate:hover {\n",
              "        background-color: #434B5C;\n",
              "        box-shadow: 0px 1px 3px 1px rgba(0, 0, 0, 0.15);\n",
              "        filter: drop-shadow(0px 1px 2px rgba(0, 0, 0, 0.3));\n",
              "        fill: #FFFFFF;\n",
              "      }\n",
              "    </style>\n",
              "    <button class=\"colab-df-generate\" onclick=\"generateWithVariable('combined_data')\"\n",
              "            title=\"Generate code using this dataframe.\"\n",
              "            style=\"display:none;\">\n",
              "\n",
              "  <svg xmlns=\"http://www.w3.org/2000/svg\" height=\"24px\"viewBox=\"0 0 24 24\"\n",
              "       width=\"24px\">\n",
              "    <path d=\"M7,19H8.4L18.45,9,17,7.55,7,17.6ZM5,21V16.75L18.45,3.32a2,2,0,0,1,2.83,0l1.4,1.43a1.91,1.91,0,0,1,.58,1.4,1.91,1.91,0,0,1-.58,1.4L9.25,21ZM18.45,9,17,7.55Zm-12,3A5.31,5.31,0,0,0,4.9,8.1,5.31,5.31,0,0,0,1,6.5,5.31,5.31,0,0,0,4.9,4.9,5.31,5.31,0,0,0,6.5,1,5.31,5.31,0,0,0,8.1,4.9,5.31,5.31,0,0,0,12,6.5,5.46,5.46,0,0,0,6.5,12Z\"/>\n",
              "  </svg>\n",
              "    </button>\n",
              "    <script>\n",
              "      (() => {\n",
              "      const buttonEl =\n",
              "        document.querySelector('#id_dacf0dc5-0fcf-413c-9fc1-f8363b0b33c9 button.colab-df-generate');\n",
              "      buttonEl.style.display =\n",
              "        google.colab.kernel.accessAllowed ? 'block' : 'none';\n",
              "\n",
              "      buttonEl.onclick = () => {\n",
              "        google.colab.notebook.generateWithVariable('combined_data');\n",
              "      }\n",
              "      })();\n",
              "    </script>\n",
              "  </div>\n",
              "\n",
              "    </div>\n",
              "  </div>\n"
            ],
            "text/plain": [
              "                      Date    Open    High     Low   Close  Volume\n",
              "0      2018-08-13 09:00:00   943.5   943.5   942.9   942.9   975.0\n",
              "1      2018-08-13 09:01:00   943.0   943.1   942.9   943.1   220.0\n",
              "2      2018-08-13 09:02:00   943.0   943.6   943.0   943.5   121.0\n",
              "3      2018-08-13 09:03:00   943.3   943.4   943.3   943.4   135.0\n",
              "4      2018-08-13 09:04:00   943.2   943.2   943.0   943.1   361.0\n",
              "...                    ...     ...     ...     ...     ...     ...\n",
              "352832 2024-06-24 14:05:00  1297.5  1298.1  1297.0  1297.0  1256.0\n",
              "352833 2024-06-24 14:06:00  1297.0  1297.1  1296.3  1297.1  1290.0\n",
              "352834 2024-06-24 14:07:00  1296.7  1298.0  1296.5  1297.9   888.0\n",
              "352835 2024-06-24 14:08:00  1297.8  1298.0  1295.0  1295.0  1863.0\n",
              "352836 2024-06-24 14:09:00  1294.5  1295.7  1294.2  1294.7  2211.0\n",
              "\n",
              "[352837 rows x 6 columns]"
            ]
          },
          "execution_count": 24,
          "metadata": {},
          "output_type": "execute_result"
        }
      ],
      "source": [
        "combined_data"
      ]
    },
    {
      "cell_type": "code",
      "execution_count": null,
      "metadata": {
        "id": "Ry5XUuzySfKG"
      },
      "outputs": [],
      "source": [
        "data=combined_data"
      ]
    },
    {
      "cell_type": "code",
      "execution_count": null,
      "metadata": {
        "colab": {
          "base_uri": "https://localhost:8080/",
          "height": 423
        },
        "id": "3CiXOqameGVO",
        "outputId": "3ce99165-e80b-413d-84aa-8e400b3cb69a"
      },
      "outputs": [
        {
          "data": {
            "application/vnd.google.colaboratory.intrinsic+json": {
              "summary": "{\n  \"name\": \"]\",\n  \"rows\": 243,\n  \"fields\": [\n    {\n      \"column\": \"Date\",\n      \"properties\": {\n        \"dtype\": \"date\",\n        \"min\": \"2023-05-31 09:00:00\",\n        \"max\": \"2023-05-31 14:45:00\",\n        \"num_unique_values\": 243,\n        \"samples\": [\n          \"2023-05-31 09:24:00\",\n          \"2023-05-31 09:06:00\",\n          \"2023-05-31 13:01:00\"\n        ],\n        \"semantic_type\": \"\",\n        \"description\": \"\"\n      }\n    },\n    {\n      \"column\": \"Open\",\n      \"properties\": {\n        \"dtype\": \"number\",\n        \"std\": 1.601986234413015,\n        \"min\": 1059.5,\n        \"max\": 1068.4,\n        \"num_unique_values\": 65,\n        \"samples\": [\n          1061.3,\n          1061.2,\n          1067.7\n        ],\n        \"semantic_type\": \"\",\n        \"description\": \"\"\n      }\n    },\n    {\n      \"column\": \"High\",\n      \"properties\": {\n        \"dtype\": \"number\",\n        \"std\": 1.546975330616724,\n        \"min\": 1060.3,\n        \"max\": 1068.5,\n        \"num_unique_values\": 60,\n        \"samples\": [\n          1067.7,\n          1068.2,\n          1064.6\n        ],\n        \"semantic_type\": \"\",\n        \"description\": \"\"\n      }\n    },\n    {\n      \"column\": \"Low\",\n      \"properties\": {\n        \"dtype\": \"number\",\n        \"std\": 1.7012590091166067,\n        \"min\": 1059.1,\n        \"max\": 1068.2,\n        \"num_unique_values\": 67,\n        \"samples\": [\n          1064.5,\n          1066.5,\n          1068.2\n        ],\n        \"semantic_type\": \"\",\n        \"description\": \"\"\n      }\n    },\n    {\n      \"column\": \"Close\",\n      \"properties\": {\n        \"dtype\": \"number\",\n        \"std\": 1.6178700986449779,\n        \"min\": 1059.7,\n        \"max\": 1068.5,\n        \"num_unique_values\": 63,\n        \"samples\": [\n          1061.8,\n          1060.7,\n          1067.3\n        ],\n        \"semantic_type\": \"\",\n        \"description\": \"\"\n      }\n    },\n    {\n      \"column\": \"Volume\",\n      \"properties\": {\n        \"dtype\": \"number\",\n        \"std\": 649,\n        \"min\": 16,\n        \"max\": 5649,\n        \"num_unique_values\": 207,\n        \"samples\": [\n          807,\n          274,\n          181\n        ],\n        \"semantic_type\": \"\",\n        \"description\": \"\"\n      }\n    }\n  ]\n}",
              "type": "dataframe"
            },
            "text/html": [
              "\n",
              "  <div id=\"df-519ec545-0b4d-4d15-a208-1d3e06192a0c\" class=\"colab-df-container\">\n",
              "    <div>\n",
              "<style scoped>\n",
              "    .dataframe tbody tr th:only-of-type {\n",
              "        vertical-align: middle;\n",
              "    }\n",
              "\n",
              "    .dataframe tbody tr th {\n",
              "        vertical-align: top;\n",
              "    }\n",
              "\n",
              "    .dataframe thead th {\n",
              "        text-align: right;\n",
              "    }\n",
              "</style>\n",
              "<table border=\"1\" class=\"dataframe\">\n",
              "  <thead>\n",
              "    <tr style=\"text-align: right;\">\n",
              "      <th></th>\n",
              "      <th>Date</th>\n",
              "      <th>Open</th>\n",
              "      <th>High</th>\n",
              "      <th>Low</th>\n",
              "      <th>Close</th>\n",
              "      <th>Volume</th>\n",
              "    </tr>\n",
              "  </thead>\n",
              "  <tbody>\n",
              "    <tr>\n",
              "      <th>278507</th>\n",
              "      <td>2023-05-31 09:00:00</td>\n",
              "      <td>1067.7</td>\n",
              "      <td>1067.7</td>\n",
              "      <td>1066.8</td>\n",
              "      <td>1067.3</td>\n",
              "      <td>1860</td>\n",
              "    </tr>\n",
              "    <tr>\n",
              "      <th>278508</th>\n",
              "      <td>2023-05-31 09:01:00</td>\n",
              "      <td>1067.2</td>\n",
              "      <td>1067.3</td>\n",
              "      <td>1067.1</td>\n",
              "      <td>1067.2</td>\n",
              "      <td>641</td>\n",
              "    </tr>\n",
              "    <tr>\n",
              "      <th>278509</th>\n",
              "      <td>2023-05-31 09:02:00</td>\n",
              "      <td>1067.2</td>\n",
              "      <td>1068.1</td>\n",
              "      <td>1067.1</td>\n",
              "      <td>1068.1</td>\n",
              "      <td>724</td>\n",
              "    </tr>\n",
              "    <tr>\n",
              "      <th>278510</th>\n",
              "      <td>2023-05-31 09:03:00</td>\n",
              "      <td>1067.9</td>\n",
              "      <td>1068.1</td>\n",
              "      <td>1067.9</td>\n",
              "      <td>1068.0</td>\n",
              "      <td>428</td>\n",
              "    </tr>\n",
              "    <tr>\n",
              "      <th>278511</th>\n",
              "      <td>2023-05-31 09:04:00</td>\n",
              "      <td>1068.0</td>\n",
              "      <td>1068.1</td>\n",
              "      <td>1068.0</td>\n",
              "      <td>1068.1</td>\n",
              "      <td>312</td>\n",
              "    </tr>\n",
              "    <tr>\n",
              "      <th>...</th>\n",
              "      <td>...</td>\n",
              "      <td>...</td>\n",
              "      <td>...</td>\n",
              "      <td>...</td>\n",
              "      <td>...</td>\n",
              "      <td>...</td>\n",
              "    </tr>\n",
              "    <tr>\n",
              "      <th>278745</th>\n",
              "      <td>2023-05-31 14:27:00</td>\n",
              "      <td>1063.0</td>\n",
              "      <td>1063.0</td>\n",
              "      <td>1062.1</td>\n",
              "      <td>1062.2</td>\n",
              "      <td>1400</td>\n",
              "    </tr>\n",
              "    <tr>\n",
              "      <th>278746</th>\n",
              "      <td>2023-05-31 14:28:00</td>\n",
              "      <td>1062.7</td>\n",
              "      <td>1062.8</td>\n",
              "      <td>1062.3</td>\n",
              "      <td>1062.7</td>\n",
              "      <td>1022</td>\n",
              "    </tr>\n",
              "    <tr>\n",
              "      <th>278747</th>\n",
              "      <td>2023-05-31 14:29:00</td>\n",
              "      <td>1062.7</td>\n",
              "      <td>1063.0</td>\n",
              "      <td>1062.0</td>\n",
              "      <td>1062.6</td>\n",
              "      <td>2209</td>\n",
              "    </tr>\n",
              "    <tr>\n",
              "      <th>278748</th>\n",
              "      <td>2023-05-31 14:30:00</td>\n",
              "      <td>1062.2</td>\n",
              "      <td>1062.2</td>\n",
              "      <td>1062.2</td>\n",
              "      <td>1062.2</td>\n",
              "      <td>22</td>\n",
              "    </tr>\n",
              "    <tr>\n",
              "      <th>278749</th>\n",
              "      <td>2023-05-31 14:45:00</td>\n",
              "      <td>1062.6</td>\n",
              "      <td>1062.6</td>\n",
              "      <td>1062.6</td>\n",
              "      <td>1062.6</td>\n",
              "      <td>5649</td>\n",
              "    </tr>\n",
              "  </tbody>\n",
              "</table>\n",
              "<p>243 rows × 6 columns</p>\n",
              "</div>\n",
              "    <div class=\"colab-df-buttons\">\n",
              "\n",
              "  <div class=\"colab-df-container\">\n",
              "    <button class=\"colab-df-convert\" onclick=\"convertToInteractive('df-519ec545-0b4d-4d15-a208-1d3e06192a0c')\"\n",
              "            title=\"Convert this dataframe to an interactive table.\"\n",
              "            style=\"display:none;\">\n",
              "\n",
              "  <svg xmlns=\"http://www.w3.org/2000/svg\" height=\"24px\" viewBox=\"0 -960 960 960\">\n",
              "    <path d=\"M120-120v-720h720v720H120Zm60-500h600v-160H180v160Zm220 220h160v-160H400v160Zm0 220h160v-160H400v160ZM180-400h160v-160H180v160Zm440 0h160v-160H620v160ZM180-180h160v-160H180v160Zm440 0h160v-160H620v160Z\"/>\n",
              "  </svg>\n",
              "    </button>\n",
              "\n",
              "  <style>\n",
              "    .colab-df-container {\n",
              "      display:flex;\n",
              "      gap: 12px;\n",
              "    }\n",
              "\n",
              "    .colab-df-convert {\n",
              "      background-color: #E8F0FE;\n",
              "      border: none;\n",
              "      border-radius: 50%;\n",
              "      cursor: pointer;\n",
              "      display: none;\n",
              "      fill: #1967D2;\n",
              "      height: 32px;\n",
              "      padding: 0 0 0 0;\n",
              "      width: 32px;\n",
              "    }\n",
              "\n",
              "    .colab-df-convert:hover {\n",
              "      background-color: #E2EBFA;\n",
              "      box-shadow: 0px 1px 2px rgba(60, 64, 67, 0.3), 0px 1px 3px 1px rgba(60, 64, 67, 0.15);\n",
              "      fill: #174EA6;\n",
              "    }\n",
              "\n",
              "    .colab-df-buttons div {\n",
              "      margin-bottom: 4px;\n",
              "    }\n",
              "\n",
              "    [theme=dark] .colab-df-convert {\n",
              "      background-color: #3B4455;\n",
              "      fill: #D2E3FC;\n",
              "    }\n",
              "\n",
              "    [theme=dark] .colab-df-convert:hover {\n",
              "      background-color: #434B5C;\n",
              "      box-shadow: 0px 1px 3px 1px rgba(0, 0, 0, 0.15);\n",
              "      filter: drop-shadow(0px 1px 2px rgba(0, 0, 0, 0.3));\n",
              "      fill: #FFFFFF;\n",
              "    }\n",
              "  </style>\n",
              "\n",
              "    <script>\n",
              "      const buttonEl =\n",
              "        document.querySelector('#df-519ec545-0b4d-4d15-a208-1d3e06192a0c button.colab-df-convert');\n",
              "      buttonEl.style.display =\n",
              "        google.colab.kernel.accessAllowed ? 'block' : 'none';\n",
              "\n",
              "      async function convertToInteractive(key) {\n",
              "        const element = document.querySelector('#df-519ec545-0b4d-4d15-a208-1d3e06192a0c');\n",
              "        const dataTable =\n",
              "          await google.colab.kernel.invokeFunction('convertToInteractive',\n",
              "                                                    [key], {});\n",
              "        if (!dataTable) return;\n",
              "\n",
              "        const docLinkHtml = 'Like what you see? Visit the ' +\n",
              "          '<a target=\"_blank\" href=https://colab.research.google.com/notebooks/data_table.ipynb>data table notebook</a>'\n",
              "          + ' to learn more about interactive tables.';\n",
              "        element.innerHTML = '';\n",
              "        dataTable['output_type'] = 'display_data';\n",
              "        await google.colab.output.renderOutput(dataTable, element);\n",
              "        const docLink = document.createElement('div');\n",
              "        docLink.innerHTML = docLinkHtml;\n",
              "        element.appendChild(docLink);\n",
              "      }\n",
              "    </script>\n",
              "  </div>\n",
              "\n",
              "\n",
              "<div id=\"df-ea017b8a-108f-4857-8e74-3671ce62a211\">\n",
              "  <button class=\"colab-df-quickchart\" onclick=\"quickchart('df-ea017b8a-108f-4857-8e74-3671ce62a211')\"\n",
              "            title=\"Suggest charts\"\n",
              "            style=\"display:none;\">\n",
              "\n",
              "<svg xmlns=\"http://www.w3.org/2000/svg\" height=\"24px\"viewBox=\"0 0 24 24\"\n",
              "     width=\"24px\">\n",
              "    <g>\n",
              "        <path d=\"M19 3H5c-1.1 0-2 .9-2 2v14c0 1.1.9 2 2 2h14c1.1 0 2-.9 2-2V5c0-1.1-.9-2-2-2zM9 17H7v-7h2v7zm4 0h-2V7h2v10zm4 0h-2v-4h2v4z\"/>\n",
              "    </g>\n",
              "</svg>\n",
              "  </button>\n",
              "\n",
              "<style>\n",
              "  .colab-df-quickchart {\n",
              "      --bg-color: #E8F0FE;\n",
              "      --fill-color: #1967D2;\n",
              "      --hover-bg-color: #E2EBFA;\n",
              "      --hover-fill-color: #174EA6;\n",
              "      --disabled-fill-color: #AAA;\n",
              "      --disabled-bg-color: #DDD;\n",
              "  }\n",
              "\n",
              "  [theme=dark] .colab-df-quickchart {\n",
              "      --bg-color: #3B4455;\n",
              "      --fill-color: #D2E3FC;\n",
              "      --hover-bg-color: #434B5C;\n",
              "      --hover-fill-color: #FFFFFF;\n",
              "      --disabled-bg-color: #3B4455;\n",
              "      --disabled-fill-color: #666;\n",
              "  }\n",
              "\n",
              "  .colab-df-quickchart {\n",
              "    background-color: var(--bg-color);\n",
              "    border: none;\n",
              "    border-radius: 50%;\n",
              "    cursor: pointer;\n",
              "    display: none;\n",
              "    fill: var(--fill-color);\n",
              "    height: 32px;\n",
              "    padding: 0;\n",
              "    width: 32px;\n",
              "  }\n",
              "\n",
              "  .colab-df-quickchart:hover {\n",
              "    background-color: var(--hover-bg-color);\n",
              "    box-shadow: 0 1px 2px rgba(60, 64, 67, 0.3), 0 1px 3px 1px rgba(60, 64, 67, 0.15);\n",
              "    fill: var(--button-hover-fill-color);\n",
              "  }\n",
              "\n",
              "  .colab-df-quickchart-complete:disabled,\n",
              "  .colab-df-quickchart-complete:disabled:hover {\n",
              "    background-color: var(--disabled-bg-color);\n",
              "    fill: var(--disabled-fill-color);\n",
              "    box-shadow: none;\n",
              "  }\n",
              "\n",
              "  .colab-df-spinner {\n",
              "    border: 2px solid var(--fill-color);\n",
              "    border-color: transparent;\n",
              "    border-bottom-color: var(--fill-color);\n",
              "    animation:\n",
              "      spin 1s steps(1) infinite;\n",
              "  }\n",
              "\n",
              "  @keyframes spin {\n",
              "    0% {\n",
              "      border-color: transparent;\n",
              "      border-bottom-color: var(--fill-color);\n",
              "      border-left-color: var(--fill-color);\n",
              "    }\n",
              "    20% {\n",
              "      border-color: transparent;\n",
              "      border-left-color: var(--fill-color);\n",
              "      border-top-color: var(--fill-color);\n",
              "    }\n",
              "    30% {\n",
              "      border-color: transparent;\n",
              "      border-left-color: var(--fill-color);\n",
              "      border-top-color: var(--fill-color);\n",
              "      border-right-color: var(--fill-color);\n",
              "    }\n",
              "    40% {\n",
              "      border-color: transparent;\n",
              "      border-right-color: var(--fill-color);\n",
              "      border-top-color: var(--fill-color);\n",
              "    }\n",
              "    60% {\n",
              "      border-color: transparent;\n",
              "      border-right-color: var(--fill-color);\n",
              "    }\n",
              "    80% {\n",
              "      border-color: transparent;\n",
              "      border-right-color: var(--fill-color);\n",
              "      border-bottom-color: var(--fill-color);\n",
              "    }\n",
              "    90% {\n",
              "      border-color: transparent;\n",
              "      border-bottom-color: var(--fill-color);\n",
              "    }\n",
              "  }\n",
              "</style>\n",
              "\n",
              "  <script>\n",
              "    async function quickchart(key) {\n",
              "      const quickchartButtonEl =\n",
              "        document.querySelector('#' + key + ' button');\n",
              "      quickchartButtonEl.disabled = true;  // To prevent multiple clicks.\n",
              "      quickchartButtonEl.classList.add('colab-df-spinner');\n",
              "      try {\n",
              "        const charts = await google.colab.kernel.invokeFunction(\n",
              "            'suggestCharts', [key], {});\n",
              "      } catch (error) {\n",
              "        console.error('Error during call to suggestCharts:', error);\n",
              "      }\n",
              "      quickchartButtonEl.classList.remove('colab-df-spinner');\n",
              "      quickchartButtonEl.classList.add('colab-df-quickchart-complete');\n",
              "    }\n",
              "    (() => {\n",
              "      let quickchartButtonEl =\n",
              "        document.querySelector('#df-ea017b8a-108f-4857-8e74-3671ce62a211 button');\n",
              "      quickchartButtonEl.style.display =\n",
              "        google.colab.kernel.accessAllowed ? 'block' : 'none';\n",
              "    })();\n",
              "  </script>\n",
              "</div>\n",
              "\n",
              "    </div>\n",
              "  </div>\n"
            ],
            "text/plain": [
              "                      Date    Open    High     Low   Close  Volume\n",
              "278507 2023-05-31 09:00:00  1067.7  1067.7  1066.8  1067.3    1860\n",
              "278508 2023-05-31 09:01:00  1067.2  1067.3  1067.1  1067.2     641\n",
              "278509 2023-05-31 09:02:00  1067.2  1068.1  1067.1  1068.1     724\n",
              "278510 2023-05-31 09:03:00  1067.9  1068.1  1067.9  1068.0     428\n",
              "278511 2023-05-31 09:04:00  1068.0  1068.1  1068.0  1068.1     312\n",
              "...                    ...     ...     ...     ...     ...     ...\n",
              "278745 2023-05-31 14:27:00  1063.0  1063.0  1062.1  1062.2    1400\n",
              "278746 2023-05-31 14:28:00  1062.7  1062.8  1062.3  1062.7    1022\n",
              "278747 2023-05-31 14:29:00  1062.7  1063.0  1062.0  1062.6    2209\n",
              "278748 2023-05-31 14:30:00  1062.2  1062.2  1062.2  1062.2      22\n",
              "278749 2023-05-31 14:45:00  1062.6  1062.6  1062.6  1062.6    5649\n",
              "\n",
              "[243 rows x 6 columns]"
            ]
          },
          "execution_count": 26,
          "metadata": {},
          "output_type": "execute_result"
        }
      ],
      "source": [
        "df[\n",
        "    (df['Date'] >= '2023-04-01') & (df['Date'] <= '2023-08-01')\n",
        "]"
      ]
    },
    {
      "cell_type": "code",
      "execution_count": null,
      "metadata": {
        "colab": {
          "base_uri": "https://localhost:8080/",
          "height": 423
        },
        "id": "-e_nadYJDRFn",
        "outputId": "57eec791-7d6f-4e89-b52c-b1432206f856"
      },
      "outputs": [
        {
          "data": {
            "application/vnd.google.colaboratory.intrinsic+json": {
              "summary": "{\n  \"name\": \"]\",\n  \"rows\": 29160,\n  \"fields\": [\n    {\n      \"column\": \"Date\",\n      \"properties\": {\n        \"dtype\": \"date\",\n        \"min\": \"2023-04-03 09:00:00\",\n        \"max\": \"2023-07-31 14:45:00\",\n        \"num_unique_values\": 29160,\n        \"samples\": [\n          \"2023-06-01 09:33:00\",\n          \"2023-04-14 14:14:00\",\n          \"2023-05-08 13:58:00\"\n        ],\n        \"semantic_type\": \"\",\n        \"description\": \"\"\n      }\n    },\n    {\n      \"column\": \"Open\",\n      \"properties\": {\n        \"dtype\": \"number\",\n        \"std\": 46.90803172966888,\n        \"min\": 1026.3,\n        \"max\": 1234.2,\n        \"num_unique_values\": 1414,\n        \"samples\": [\n          1114.8,\n          1128.2,\n          1040.9\n        ],\n        \"semantic_type\": \"\",\n        \"description\": \"\"\n      }\n    },\n    {\n      \"column\": \"High\",\n      \"properties\": {\n        \"dtype\": \"number\",\n        \"std\": 46.94626967622164,\n        \"min\": 1026.6,\n        \"max\": 1234.2,\n        \"num_unique_values\": 1401,\n        \"samples\": [\n          1156.4,\n          1127.0,\n          1079.1\n        ],\n        \"semantic_type\": \"\",\n        \"description\": \"\"\n      }\n    },\n    {\n      \"column\": \"Low\",\n      \"properties\": {\n        \"dtype\": \"number\",\n        \"std\": 46.8865544653017,\n        \"min\": 1025.7,\n        \"max\": 1234.2,\n        \"num_unique_values\": 1395,\n        \"samples\": [\n          1187.2,\n          1037.2,\n          1218.1\n        ],\n        \"semantic_type\": \"\",\n        \"description\": \"\"\n      }\n    },\n    {\n      \"column\": \"Close\",\n      \"properties\": {\n        \"dtype\": \"number\",\n        \"std\": 46.9227371761916,\n        \"min\": 1026.3,\n        \"max\": 1234.2,\n        \"num_unique_values\": 1406,\n        \"samples\": [\n          1150.7,\n          1142.5,\n          1094.8\n        ],\n        \"semantic_type\": \"\",\n        \"description\": \"\"\n      }\n    },\n    {\n      \"column\": \"Volume\",\n      \"properties\": {\n        \"dtype\": \"number\",\n        \"std\": 1278.6849556558248,\n        \"min\": 1.0,\n        \"max\": 11797.0,\n        \"num_unique_values\": 1846,\n        \"samples\": [\n          2964.0,\n          1260.0,\n          1280.0\n        ],\n        \"semantic_type\": \"\",\n        \"description\": \"\"\n      }\n    }\n  ]\n}",
              "type": "dataframe"
            },
            "text/html": [
              "\n",
              "  <div id=\"df-db1d4d2a-919c-4b64-8376-3ec84e19a7df\" class=\"colab-df-container\">\n",
              "    <div>\n",
              "<style scoped>\n",
              "    .dataframe tbody tr th:only-of-type {\n",
              "        vertical-align: middle;\n",
              "    }\n",
              "\n",
              "    .dataframe tbody tr th {\n",
              "        vertical-align: top;\n",
              "    }\n",
              "\n",
              "    .dataframe thead th {\n",
              "        text-align: right;\n",
              "    }\n",
              "</style>\n",
              "<table border=\"1\" class=\"dataframe\">\n",
              "  <thead>\n",
              "    <tr style=\"text-align: right;\">\n",
              "      <th></th>\n",
              "      <th>Date</th>\n",
              "      <th>Open</th>\n",
              "      <th>High</th>\n",
              "      <th>Low</th>\n",
              "      <th>Close</th>\n",
              "      <th>Volume</th>\n",
              "    </tr>\n",
              "  </thead>\n",
              "  <tbody>\n",
              "    <tr>\n",
              "      <th>278507</th>\n",
              "      <td>2023-04-03 09:00:00</td>\n",
              "      <td>1081.3</td>\n",
              "      <td>1082.6</td>\n",
              "      <td>1080.6</td>\n",
              "      <td>1080.6</td>\n",
              "      <td>3444.0</td>\n",
              "    </tr>\n",
              "    <tr>\n",
              "      <th>278508</th>\n",
              "      <td>2023-04-03 09:01:00</td>\n",
              "      <td>1081.3</td>\n",
              "      <td>1082.6</td>\n",
              "      <td>1080.6</td>\n",
              "      <td>1080.6</td>\n",
              "      <td>3444.0</td>\n",
              "    </tr>\n",
              "    <tr>\n",
              "      <th>278509</th>\n",
              "      <td>2023-04-03 09:02:00</td>\n",
              "      <td>1081.3</td>\n",
              "      <td>1082.6</td>\n",
              "      <td>1080.6</td>\n",
              "      <td>1080.6</td>\n",
              "      <td>3444.0</td>\n",
              "    </tr>\n",
              "    <tr>\n",
              "      <th>278510</th>\n",
              "      <td>2023-04-03 09:03:00</td>\n",
              "      <td>1080.7</td>\n",
              "      <td>1081.2</td>\n",
              "      <td>1080.4</td>\n",
              "      <td>1080.4</td>\n",
              "      <td>1419.0</td>\n",
              "    </tr>\n",
              "    <tr>\n",
              "      <th>278511</th>\n",
              "      <td>2023-04-03 09:04:00</td>\n",
              "      <td>1080.7</td>\n",
              "      <td>1081.2</td>\n",
              "      <td>1080.4</td>\n",
              "      <td>1080.4</td>\n",
              "      <td>1419.0</td>\n",
              "    </tr>\n",
              "    <tr>\n",
              "      <th>...</th>\n",
              "      <td>...</td>\n",
              "      <td>...</td>\n",
              "      <td>...</td>\n",
              "      <td>...</td>\n",
              "      <td>...</td>\n",
              "      <td>...</td>\n",
              "    </tr>\n",
              "    <tr>\n",
              "      <th>307662</th>\n",
              "      <td>2023-07-31 14:27:00</td>\n",
              "      <td>1227.8</td>\n",
              "      <td>1231.8</td>\n",
              "      <td>1227.8</td>\n",
              "      <td>1231.8</td>\n",
              "      <td>2325.0</td>\n",
              "    </tr>\n",
              "    <tr>\n",
              "      <th>307663</th>\n",
              "      <td>2023-07-31 14:28:00</td>\n",
              "      <td>1227.8</td>\n",
              "      <td>1231.8</td>\n",
              "      <td>1227.8</td>\n",
              "      <td>1231.8</td>\n",
              "      <td>2325.0</td>\n",
              "    </tr>\n",
              "    <tr>\n",
              "      <th>307664</th>\n",
              "      <td>2023-07-31 14:29:00</td>\n",
              "      <td>1227.8</td>\n",
              "      <td>1231.8</td>\n",
              "      <td>1227.8</td>\n",
              "      <td>1231.8</td>\n",
              "      <td>2325.0</td>\n",
              "    </tr>\n",
              "    <tr>\n",
              "      <th>307665</th>\n",
              "      <td>2023-07-31 14:30:00</td>\n",
              "      <td>1231.9</td>\n",
              "      <td>1232.0</td>\n",
              "      <td>1231.9</td>\n",
              "      <td>1232.0</td>\n",
              "      <td>195.0</td>\n",
              "    </tr>\n",
              "    <tr>\n",
              "      <th>307666</th>\n",
              "      <td>2023-07-31 14:45:00</td>\n",
              "      <td>1234.2</td>\n",
              "      <td>1234.2</td>\n",
              "      <td>1234.2</td>\n",
              "      <td>1234.2</td>\n",
              "      <td>7378.0</td>\n",
              "    </tr>\n",
              "  </tbody>\n",
              "</table>\n",
              "<p>29160 rows × 6 columns</p>\n",
              "</div>\n",
              "    <div class=\"colab-df-buttons\">\n",
              "\n",
              "  <div class=\"colab-df-container\">\n",
              "    <button class=\"colab-df-convert\" onclick=\"convertToInteractive('df-db1d4d2a-919c-4b64-8376-3ec84e19a7df')\"\n",
              "            title=\"Convert this dataframe to an interactive table.\"\n",
              "            style=\"display:none;\">\n",
              "\n",
              "  <svg xmlns=\"http://www.w3.org/2000/svg\" height=\"24px\" viewBox=\"0 -960 960 960\">\n",
              "    <path d=\"M120-120v-720h720v720H120Zm60-500h600v-160H180v160Zm220 220h160v-160H400v160Zm0 220h160v-160H400v160ZM180-400h160v-160H180v160Zm440 0h160v-160H620v160ZM180-180h160v-160H180v160Zm440 0h160v-160H620v160Z\"/>\n",
              "  </svg>\n",
              "    </button>\n",
              "\n",
              "  <style>\n",
              "    .colab-df-container {\n",
              "      display:flex;\n",
              "      gap: 12px;\n",
              "    }\n",
              "\n",
              "    .colab-df-convert {\n",
              "      background-color: #E8F0FE;\n",
              "      border: none;\n",
              "      border-radius: 50%;\n",
              "      cursor: pointer;\n",
              "      display: none;\n",
              "      fill: #1967D2;\n",
              "      height: 32px;\n",
              "      padding: 0 0 0 0;\n",
              "      width: 32px;\n",
              "    }\n",
              "\n",
              "    .colab-df-convert:hover {\n",
              "      background-color: #E2EBFA;\n",
              "      box-shadow: 0px 1px 2px rgba(60, 64, 67, 0.3), 0px 1px 3px 1px rgba(60, 64, 67, 0.15);\n",
              "      fill: #174EA6;\n",
              "    }\n",
              "\n",
              "    .colab-df-buttons div {\n",
              "      margin-bottom: 4px;\n",
              "    }\n",
              "\n",
              "    [theme=dark] .colab-df-convert {\n",
              "      background-color: #3B4455;\n",
              "      fill: #D2E3FC;\n",
              "    }\n",
              "\n",
              "    [theme=dark] .colab-df-convert:hover {\n",
              "      background-color: #434B5C;\n",
              "      box-shadow: 0px 1px 3px 1px rgba(0, 0, 0, 0.15);\n",
              "      filter: drop-shadow(0px 1px 2px rgba(0, 0, 0, 0.3));\n",
              "      fill: #FFFFFF;\n",
              "    }\n",
              "  </style>\n",
              "\n",
              "    <script>\n",
              "      const buttonEl =\n",
              "        document.querySelector('#df-db1d4d2a-919c-4b64-8376-3ec84e19a7df button.colab-df-convert');\n",
              "      buttonEl.style.display =\n",
              "        google.colab.kernel.accessAllowed ? 'block' : 'none';\n",
              "\n",
              "      async function convertToInteractive(key) {\n",
              "        const element = document.querySelector('#df-db1d4d2a-919c-4b64-8376-3ec84e19a7df');\n",
              "        const dataTable =\n",
              "          await google.colab.kernel.invokeFunction('convertToInteractive',\n",
              "                                                    [key], {});\n",
              "        if (!dataTable) return;\n",
              "\n",
              "        const docLinkHtml = 'Like what you see? Visit the ' +\n",
              "          '<a target=\"_blank\" href=https://colab.research.google.com/notebooks/data_table.ipynb>data table notebook</a>'\n",
              "          + ' to learn more about interactive tables.';\n",
              "        element.innerHTML = '';\n",
              "        dataTable['output_type'] = 'display_data';\n",
              "        await google.colab.output.renderOutput(dataTable, element);\n",
              "        const docLink = document.createElement('div');\n",
              "        docLink.innerHTML = docLinkHtml;\n",
              "        element.appendChild(docLink);\n",
              "      }\n",
              "    </script>\n",
              "  </div>\n",
              "\n",
              "\n",
              "<div id=\"df-df8da382-a0bf-4020-b754-c4d5ef73ba52\">\n",
              "  <button class=\"colab-df-quickchart\" onclick=\"quickchart('df-df8da382-a0bf-4020-b754-c4d5ef73ba52')\"\n",
              "            title=\"Suggest charts\"\n",
              "            style=\"display:none;\">\n",
              "\n",
              "<svg xmlns=\"http://www.w3.org/2000/svg\" height=\"24px\"viewBox=\"0 0 24 24\"\n",
              "     width=\"24px\">\n",
              "    <g>\n",
              "        <path d=\"M19 3H5c-1.1 0-2 .9-2 2v14c0 1.1.9 2 2 2h14c1.1 0 2-.9 2-2V5c0-1.1-.9-2-2-2zM9 17H7v-7h2v7zm4 0h-2V7h2v10zm4 0h-2v-4h2v4z\"/>\n",
              "    </g>\n",
              "</svg>\n",
              "  </button>\n",
              "\n",
              "<style>\n",
              "  .colab-df-quickchart {\n",
              "      --bg-color: #E8F0FE;\n",
              "      --fill-color: #1967D2;\n",
              "      --hover-bg-color: #E2EBFA;\n",
              "      --hover-fill-color: #174EA6;\n",
              "      --disabled-fill-color: #AAA;\n",
              "      --disabled-bg-color: #DDD;\n",
              "  }\n",
              "\n",
              "  [theme=dark] .colab-df-quickchart {\n",
              "      --bg-color: #3B4455;\n",
              "      --fill-color: #D2E3FC;\n",
              "      --hover-bg-color: #434B5C;\n",
              "      --hover-fill-color: #FFFFFF;\n",
              "      --disabled-bg-color: #3B4455;\n",
              "      --disabled-fill-color: #666;\n",
              "  }\n",
              "\n",
              "  .colab-df-quickchart {\n",
              "    background-color: var(--bg-color);\n",
              "    border: none;\n",
              "    border-radius: 50%;\n",
              "    cursor: pointer;\n",
              "    display: none;\n",
              "    fill: var(--fill-color);\n",
              "    height: 32px;\n",
              "    padding: 0;\n",
              "    width: 32px;\n",
              "  }\n",
              "\n",
              "  .colab-df-quickchart:hover {\n",
              "    background-color: var(--hover-bg-color);\n",
              "    box-shadow: 0 1px 2px rgba(60, 64, 67, 0.3), 0 1px 3px 1px rgba(60, 64, 67, 0.15);\n",
              "    fill: var(--button-hover-fill-color);\n",
              "  }\n",
              "\n",
              "  .colab-df-quickchart-complete:disabled,\n",
              "  .colab-df-quickchart-complete:disabled:hover {\n",
              "    background-color: var(--disabled-bg-color);\n",
              "    fill: var(--disabled-fill-color);\n",
              "    box-shadow: none;\n",
              "  }\n",
              "\n",
              "  .colab-df-spinner {\n",
              "    border: 2px solid var(--fill-color);\n",
              "    border-color: transparent;\n",
              "    border-bottom-color: var(--fill-color);\n",
              "    animation:\n",
              "      spin 1s steps(1) infinite;\n",
              "  }\n",
              "\n",
              "  @keyframes spin {\n",
              "    0% {\n",
              "      border-color: transparent;\n",
              "      border-bottom-color: var(--fill-color);\n",
              "      border-left-color: var(--fill-color);\n",
              "    }\n",
              "    20% {\n",
              "      border-color: transparent;\n",
              "      border-left-color: var(--fill-color);\n",
              "      border-top-color: var(--fill-color);\n",
              "    }\n",
              "    30% {\n",
              "      border-color: transparent;\n",
              "      border-left-color: var(--fill-color);\n",
              "      border-top-color: var(--fill-color);\n",
              "      border-right-color: var(--fill-color);\n",
              "    }\n",
              "    40% {\n",
              "      border-color: transparent;\n",
              "      border-right-color: var(--fill-color);\n",
              "      border-top-color: var(--fill-color);\n",
              "    }\n",
              "    60% {\n",
              "      border-color: transparent;\n",
              "      border-right-color: var(--fill-color);\n",
              "    }\n",
              "    80% {\n",
              "      border-color: transparent;\n",
              "      border-right-color: var(--fill-color);\n",
              "      border-bottom-color: var(--fill-color);\n",
              "    }\n",
              "    90% {\n",
              "      border-color: transparent;\n",
              "      border-bottom-color: var(--fill-color);\n",
              "    }\n",
              "  }\n",
              "</style>\n",
              "\n",
              "  <script>\n",
              "    async function quickchart(key) {\n",
              "      const quickchartButtonEl =\n",
              "        document.querySelector('#' + key + ' button');\n",
              "      quickchartButtonEl.disabled = true;  // To prevent multiple clicks.\n",
              "      quickchartButtonEl.classList.add('colab-df-spinner');\n",
              "      try {\n",
              "        const charts = await google.colab.kernel.invokeFunction(\n",
              "            'suggestCharts', [key], {});\n",
              "      } catch (error) {\n",
              "        console.error('Error during call to suggestCharts:', error);\n",
              "      }\n",
              "      quickchartButtonEl.classList.remove('colab-df-spinner');\n",
              "      quickchartButtonEl.classList.add('colab-df-quickchart-complete');\n",
              "    }\n",
              "    (() => {\n",
              "      let quickchartButtonEl =\n",
              "        document.querySelector('#df-df8da382-a0bf-4020-b754-c4d5ef73ba52 button');\n",
              "      quickchartButtonEl.style.display =\n",
              "        google.colab.kernel.accessAllowed ? 'block' : 'none';\n",
              "    })();\n",
              "  </script>\n",
              "</div>\n",
              "\n",
              "    </div>\n",
              "  </div>\n"
            ],
            "text/plain": [
              "                      Date    Open    High     Low   Close  Volume\n",
              "278507 2023-04-03 09:00:00  1081.3  1082.6  1080.6  1080.6  3444.0\n",
              "278508 2023-04-03 09:01:00  1081.3  1082.6  1080.6  1080.6  3444.0\n",
              "278509 2023-04-03 09:02:00  1081.3  1082.6  1080.6  1080.6  3444.0\n",
              "278510 2023-04-03 09:03:00  1080.7  1081.2  1080.4  1080.4  1419.0\n",
              "278511 2023-04-03 09:04:00  1080.7  1081.2  1080.4  1080.4  1419.0\n",
              "...                    ...     ...     ...     ...     ...     ...\n",
              "307662 2023-07-31 14:27:00  1227.8  1231.8  1227.8  1231.8  2325.0\n",
              "307663 2023-07-31 14:28:00  1227.8  1231.8  1227.8  1231.8  2325.0\n",
              "307664 2023-07-31 14:29:00  1227.8  1231.8  1227.8  1231.8  2325.0\n",
              "307665 2023-07-31 14:30:00  1231.9  1232.0  1231.9  1232.0   195.0\n",
              "307666 2023-07-31 14:45:00  1234.2  1234.2  1234.2  1234.2  7378.0\n",
              "\n",
              "[29160 rows x 6 columns]"
            ]
          },
          "execution_count": 27,
          "metadata": {},
          "output_type": "execute_result"
        }
      ],
      "source": [
        "data[\n",
        "    (data['Date'] >= '2023-04-01') & (data['Date'] <= '2023-08-01')\n",
        "]"
      ]
    },
    {
      "cell_type": "markdown",
      "metadata": {
        "id": "CVnajMk3qnAA"
      },
      "source": [
        "## Preprocess"
      ]
    },
    {
      "cell_type": "code",
      "execution_count": null,
      "metadata": {},
      "outputs": [],
      "source": [
        "data.df.copy()"
      ]
    },
    {
      "cell_type": "code",
      "execution_count": null,
      "metadata": {
        "id": "ujwxx5YlqnAA"
      },
      "outputs": [],
      "source": [
        "from scipy.stats.mstats import winsorize\n",
        "# Áp dụng Winsorization\n",
        "data['Close'] = winsorize(data['Close'], limits=[0.05, 0.05])"
      ]
    },
    {
      "cell_type": "code",
      "execution_count": null,
      "metadata": {
        "id": "gSLYyILZqnAA"
      },
      "outputs": [],
      "source": [
        "def process_data(data):\n",
        "    data.set_index('Date', inplace =True)\n",
        "    data.columns = ['Open','High','Low','Close','Volume']\n",
        "\n",
        "    data['Date'] = [str(i)[:10] for i in data.index]\n",
        "    data['time'] = [str(i)[11:] for i in data.index]\n",
        "\n",
        "    data = data[~data.index.duplicated(keep='first')] # Handling duplicate\n",
        "    data_model = data.pivot(index = 'Date', columns = 'time', values = ['Open','High','Low','Close','Volume']).ffill(axis = 1).stack().reset_index() # Handling missing values\n",
        "    # data_model.columns = ['Date','time','Close']\n",
        "\n",
        "    return data_model"
      ]
    },
    {
      "cell_type": "code",
      "execution_count": null,
      "metadata": {
        "id": "rIkgvyquqnAA"
      },
      "outputs": [],
      "source": [
        "data = process_data(data)"
      ]
    },
    {
      "cell_type": "code",
      "execution_count": null,
      "metadata": {
        "colab": {
          "base_uri": "https://localhost:8080/",
          "height": 423
        },
        "id": "K6SIVJpGqnAA",
        "outputId": "9cc29c72-3c4c-4798-e63e-71cccd2ec513"
      },
      "outputs": [
        {
          "data": {
            "application/vnd.google.colaboratory.intrinsic+json": {
              "type": "dataframe",
              "variable_name": "data"
            },
            "text/html": [
              "\n",
              "  <div id=\"df-3645f81a-8ec7-4aba-a578-a124f73fdf94\" class=\"colab-df-container\">\n",
              "    <div>\n",
              "<style scoped>\n",
              "    .dataframe tbody tr th:only-of-type {\n",
              "        vertical-align: middle;\n",
              "    }\n",
              "\n",
              "    .dataframe tbody tr th {\n",
              "        vertical-align: top;\n",
              "    }\n",
              "\n",
              "    .dataframe thead th {\n",
              "        text-align: right;\n",
              "    }\n",
              "</style>\n",
              "<table border=\"1\" class=\"dataframe\">\n",
              "  <thead>\n",
              "    <tr style=\"text-align: right;\">\n",
              "      <th></th>\n",
              "      <th>Date</th>\n",
              "      <th>time</th>\n",
              "      <th>Open</th>\n",
              "      <th>High</th>\n",
              "      <th>Low</th>\n",
              "      <th>Close</th>\n",
              "      <th>Volume</th>\n",
              "    </tr>\n",
              "  </thead>\n",
              "  <tbody>\n",
              "    <tr>\n",
              "      <th>0</th>\n",
              "      <td>2018-08-13</td>\n",
              "      <td>09:00:00</td>\n",
              "      <td>943.5</td>\n",
              "      <td>943.5</td>\n",
              "      <td>942.9</td>\n",
              "      <td>942.9</td>\n",
              "      <td>975.0</td>\n",
              "    </tr>\n",
              "    <tr>\n",
              "      <th>1</th>\n",
              "      <td>2018-08-13</td>\n",
              "      <td>09:01:00</td>\n",
              "      <td>943.0</td>\n",
              "      <td>943.1</td>\n",
              "      <td>942.9</td>\n",
              "      <td>943.1</td>\n",
              "      <td>220.0</td>\n",
              "    </tr>\n",
              "    <tr>\n",
              "      <th>2</th>\n",
              "      <td>2018-08-13</td>\n",
              "      <td>09:02:00</td>\n",
              "      <td>943.0</td>\n",
              "      <td>943.6</td>\n",
              "      <td>943.0</td>\n",
              "      <td>943.5</td>\n",
              "      <td>121.0</td>\n",
              "    </tr>\n",
              "    <tr>\n",
              "      <th>3</th>\n",
              "      <td>2018-08-13</td>\n",
              "      <td>09:03:00</td>\n",
              "      <td>943.3</td>\n",
              "      <td>943.4</td>\n",
              "      <td>943.3</td>\n",
              "      <td>943.4</td>\n",
              "      <td>135.0</td>\n",
              "    </tr>\n",
              "    <tr>\n",
              "      <th>4</th>\n",
              "      <td>2018-08-13</td>\n",
              "      <td>09:04:00</td>\n",
              "      <td>943.2</td>\n",
              "      <td>943.2</td>\n",
              "      <td>943.0</td>\n",
              "      <td>943.1</td>\n",
              "      <td>361.0</td>\n",
              "    </tr>\n",
              "    <tr>\n",
              "      <th>...</th>\n",
              "      <td>...</td>\n",
              "      <td>...</td>\n",
              "      <td>...</td>\n",
              "      <td>...</td>\n",
              "      <td>...</td>\n",
              "      <td>...</td>\n",
              "      <td>...</td>\n",
              "    </tr>\n",
              "    <tr>\n",
              "      <th>354771</th>\n",
              "      <td>2024-06-24</td>\n",
              "      <td>14:27:00</td>\n",
              "      <td>1294.5</td>\n",
              "      <td>1295.7</td>\n",
              "      <td>1294.2</td>\n",
              "      <td>1294.7</td>\n",
              "      <td>2211.0</td>\n",
              "    </tr>\n",
              "    <tr>\n",
              "      <th>354772</th>\n",
              "      <td>2024-06-24</td>\n",
              "      <td>14:28:00</td>\n",
              "      <td>1294.5</td>\n",
              "      <td>1295.7</td>\n",
              "      <td>1294.2</td>\n",
              "      <td>1294.7</td>\n",
              "      <td>2211.0</td>\n",
              "    </tr>\n",
              "    <tr>\n",
              "      <th>354773</th>\n",
              "      <td>2024-06-24</td>\n",
              "      <td>14:29:00</td>\n",
              "      <td>1294.5</td>\n",
              "      <td>1295.7</td>\n",
              "      <td>1294.2</td>\n",
              "      <td>1294.7</td>\n",
              "      <td>2211.0</td>\n",
              "    </tr>\n",
              "    <tr>\n",
              "      <th>354774</th>\n",
              "      <td>2024-06-24</td>\n",
              "      <td>14:30:00</td>\n",
              "      <td>1294.5</td>\n",
              "      <td>1295.7</td>\n",
              "      <td>1294.2</td>\n",
              "      <td>1294.7</td>\n",
              "      <td>2211.0</td>\n",
              "    </tr>\n",
              "    <tr>\n",
              "      <th>354775</th>\n",
              "      <td>2024-06-24</td>\n",
              "      <td>14:45:00</td>\n",
              "      <td>1294.5</td>\n",
              "      <td>1295.7</td>\n",
              "      <td>1294.2</td>\n",
              "      <td>1294.7</td>\n",
              "      <td>2211.0</td>\n",
              "    </tr>\n",
              "  </tbody>\n",
              "</table>\n",
              "<p>354776 rows × 7 columns</p>\n",
              "</div>\n",
              "    <div class=\"colab-df-buttons\">\n",
              "\n",
              "  <div class=\"colab-df-container\">\n",
              "    <button class=\"colab-df-convert\" onclick=\"convertToInteractive('df-3645f81a-8ec7-4aba-a578-a124f73fdf94')\"\n",
              "            title=\"Convert this dataframe to an interactive table.\"\n",
              "            style=\"display:none;\">\n",
              "\n",
              "  <svg xmlns=\"http://www.w3.org/2000/svg\" height=\"24px\" viewBox=\"0 -960 960 960\">\n",
              "    <path d=\"M120-120v-720h720v720H120Zm60-500h600v-160H180v160Zm220 220h160v-160H400v160Zm0 220h160v-160H400v160ZM180-400h160v-160H180v160Zm440 0h160v-160H620v160ZM180-180h160v-160H180v160Zm440 0h160v-160H620v160Z\"/>\n",
              "  </svg>\n",
              "    </button>\n",
              "\n",
              "  <style>\n",
              "    .colab-df-container {\n",
              "      display:flex;\n",
              "      gap: 12px;\n",
              "    }\n",
              "\n",
              "    .colab-df-convert {\n",
              "      background-color: #E8F0FE;\n",
              "      border: none;\n",
              "      border-radius: 50%;\n",
              "      cursor: pointer;\n",
              "      display: none;\n",
              "      fill: #1967D2;\n",
              "      height: 32px;\n",
              "      padding: 0 0 0 0;\n",
              "      width: 32px;\n",
              "    }\n",
              "\n",
              "    .colab-df-convert:hover {\n",
              "      background-color: #E2EBFA;\n",
              "      box-shadow: 0px 1px 2px rgba(60, 64, 67, 0.3), 0px 1px 3px 1px rgba(60, 64, 67, 0.15);\n",
              "      fill: #174EA6;\n",
              "    }\n",
              "\n",
              "    .colab-df-buttons div {\n",
              "      margin-bottom: 4px;\n",
              "    }\n",
              "\n",
              "    [theme=dark] .colab-df-convert {\n",
              "      background-color: #3B4455;\n",
              "      fill: #D2E3FC;\n",
              "    }\n",
              "\n",
              "    [theme=dark] .colab-df-convert:hover {\n",
              "      background-color: #434B5C;\n",
              "      box-shadow: 0px 1px 3px 1px rgba(0, 0, 0, 0.15);\n",
              "      filter: drop-shadow(0px 1px 2px rgba(0, 0, 0, 0.3));\n",
              "      fill: #FFFFFF;\n",
              "    }\n",
              "  </style>\n",
              "\n",
              "    <script>\n",
              "      const buttonEl =\n",
              "        document.querySelector('#df-3645f81a-8ec7-4aba-a578-a124f73fdf94 button.colab-df-convert');\n",
              "      buttonEl.style.display =\n",
              "        google.colab.kernel.accessAllowed ? 'block' : 'none';\n",
              "\n",
              "      async function convertToInteractive(key) {\n",
              "        const element = document.querySelector('#df-3645f81a-8ec7-4aba-a578-a124f73fdf94');\n",
              "        const dataTable =\n",
              "          await google.colab.kernel.invokeFunction('convertToInteractive',\n",
              "                                                    [key], {});\n",
              "        if (!dataTable) return;\n",
              "\n",
              "        const docLinkHtml = 'Like what you see? Visit the ' +\n",
              "          '<a target=\"_blank\" href=https://colab.research.google.com/notebooks/data_table.ipynb>data table notebook</a>'\n",
              "          + ' to learn more about interactive tables.';\n",
              "        element.innerHTML = '';\n",
              "        dataTable['output_type'] = 'display_data';\n",
              "        await google.colab.output.renderOutput(dataTable, element);\n",
              "        const docLink = document.createElement('div');\n",
              "        docLink.innerHTML = docLinkHtml;\n",
              "        element.appendChild(docLink);\n",
              "      }\n",
              "    </script>\n",
              "  </div>\n",
              "\n",
              "\n",
              "<div id=\"df-f68f04f3-5da5-431b-a849-e0d0d57d8777\">\n",
              "  <button class=\"colab-df-quickchart\" onclick=\"quickchart('df-f68f04f3-5da5-431b-a849-e0d0d57d8777')\"\n",
              "            title=\"Suggest charts\"\n",
              "            style=\"display:none;\">\n",
              "\n",
              "<svg xmlns=\"http://www.w3.org/2000/svg\" height=\"24px\"viewBox=\"0 0 24 24\"\n",
              "     width=\"24px\">\n",
              "    <g>\n",
              "        <path d=\"M19 3H5c-1.1 0-2 .9-2 2v14c0 1.1.9 2 2 2h14c1.1 0 2-.9 2-2V5c0-1.1-.9-2-2-2zM9 17H7v-7h2v7zm4 0h-2V7h2v10zm4 0h-2v-4h2v4z\"/>\n",
              "    </g>\n",
              "</svg>\n",
              "  </button>\n",
              "\n",
              "<style>\n",
              "  .colab-df-quickchart {\n",
              "      --bg-color: #E8F0FE;\n",
              "      --fill-color: #1967D2;\n",
              "      --hover-bg-color: #E2EBFA;\n",
              "      --hover-fill-color: #174EA6;\n",
              "      --disabled-fill-color: #AAA;\n",
              "      --disabled-bg-color: #DDD;\n",
              "  }\n",
              "\n",
              "  [theme=dark] .colab-df-quickchart {\n",
              "      --bg-color: #3B4455;\n",
              "      --fill-color: #D2E3FC;\n",
              "      --hover-bg-color: #434B5C;\n",
              "      --hover-fill-color: #FFFFFF;\n",
              "      --disabled-bg-color: #3B4455;\n",
              "      --disabled-fill-color: #666;\n",
              "  }\n",
              "\n",
              "  .colab-df-quickchart {\n",
              "    background-color: var(--bg-color);\n",
              "    border: none;\n",
              "    border-radius: 50%;\n",
              "    cursor: pointer;\n",
              "    display: none;\n",
              "    fill: var(--fill-color);\n",
              "    height: 32px;\n",
              "    padding: 0;\n",
              "    width: 32px;\n",
              "  }\n",
              "\n",
              "  .colab-df-quickchart:hover {\n",
              "    background-color: var(--hover-bg-color);\n",
              "    box-shadow: 0 1px 2px rgba(60, 64, 67, 0.3), 0 1px 3px 1px rgba(60, 64, 67, 0.15);\n",
              "    fill: var(--button-hover-fill-color);\n",
              "  }\n",
              "\n",
              "  .colab-df-quickchart-complete:disabled,\n",
              "  .colab-df-quickchart-complete:disabled:hover {\n",
              "    background-color: var(--disabled-bg-color);\n",
              "    fill: var(--disabled-fill-color);\n",
              "    box-shadow: none;\n",
              "  }\n",
              "\n",
              "  .colab-df-spinner {\n",
              "    border: 2px solid var(--fill-color);\n",
              "    border-color: transparent;\n",
              "    border-bottom-color: var(--fill-color);\n",
              "    animation:\n",
              "      spin 1s steps(1) infinite;\n",
              "  }\n",
              "\n",
              "  @keyframes spin {\n",
              "    0% {\n",
              "      border-color: transparent;\n",
              "      border-bottom-color: var(--fill-color);\n",
              "      border-left-color: var(--fill-color);\n",
              "    }\n",
              "    20% {\n",
              "      border-color: transparent;\n",
              "      border-left-color: var(--fill-color);\n",
              "      border-top-color: var(--fill-color);\n",
              "    }\n",
              "    30% {\n",
              "      border-color: transparent;\n",
              "      border-left-color: var(--fill-color);\n",
              "      border-top-color: var(--fill-color);\n",
              "      border-right-color: var(--fill-color);\n",
              "    }\n",
              "    40% {\n",
              "      border-color: transparent;\n",
              "      border-right-color: var(--fill-color);\n",
              "      border-top-color: var(--fill-color);\n",
              "    }\n",
              "    60% {\n",
              "      border-color: transparent;\n",
              "      border-right-color: var(--fill-color);\n",
              "    }\n",
              "    80% {\n",
              "      border-color: transparent;\n",
              "      border-right-color: var(--fill-color);\n",
              "      border-bottom-color: var(--fill-color);\n",
              "    }\n",
              "    90% {\n",
              "      border-color: transparent;\n",
              "      border-bottom-color: var(--fill-color);\n",
              "    }\n",
              "  }\n",
              "</style>\n",
              "\n",
              "  <script>\n",
              "    async function quickchart(key) {\n",
              "      const quickchartButtonEl =\n",
              "        document.querySelector('#' + key + ' button');\n",
              "      quickchartButtonEl.disabled = true;  // To prevent multiple clicks.\n",
              "      quickchartButtonEl.classList.add('colab-df-spinner');\n",
              "      try {\n",
              "        const charts = await google.colab.kernel.invokeFunction(\n",
              "            'suggestCharts', [key], {});\n",
              "      } catch (error) {\n",
              "        console.error('Error during call to suggestCharts:', error);\n",
              "      }\n",
              "      quickchartButtonEl.classList.remove('colab-df-spinner');\n",
              "      quickchartButtonEl.classList.add('colab-df-quickchart-complete');\n",
              "    }\n",
              "    (() => {\n",
              "      let quickchartButtonEl =\n",
              "        document.querySelector('#df-f68f04f3-5da5-431b-a849-e0d0d57d8777 button');\n",
              "      quickchartButtonEl.style.display =\n",
              "        google.colab.kernel.accessAllowed ? 'block' : 'none';\n",
              "    })();\n",
              "  </script>\n",
              "</div>\n",
              "\n",
              "  <div id=\"id_7cda6fb0-38d3-48bb-b2e2-51b269306596\">\n",
              "    <style>\n",
              "      .colab-df-generate {\n",
              "        background-color: #E8F0FE;\n",
              "        border: none;\n",
              "        border-radius: 50%;\n",
              "        cursor: pointer;\n",
              "        display: none;\n",
              "        fill: #1967D2;\n",
              "        height: 32px;\n",
              "        padding: 0 0 0 0;\n",
              "        width: 32px;\n",
              "      }\n",
              "\n",
              "      .colab-df-generate:hover {\n",
              "        background-color: #E2EBFA;\n",
              "        box-shadow: 0px 1px 2px rgba(60, 64, 67, 0.3), 0px 1px 3px 1px rgba(60, 64, 67, 0.15);\n",
              "        fill: #174EA6;\n",
              "      }\n",
              "\n",
              "      [theme=dark] .colab-df-generate {\n",
              "        background-color: #3B4455;\n",
              "        fill: #D2E3FC;\n",
              "      }\n",
              "\n",
              "      [theme=dark] .colab-df-generate:hover {\n",
              "        background-color: #434B5C;\n",
              "        box-shadow: 0px 1px 3px 1px rgba(0, 0, 0, 0.15);\n",
              "        filter: drop-shadow(0px 1px 2px rgba(0, 0, 0, 0.3));\n",
              "        fill: #FFFFFF;\n",
              "      }\n",
              "    </style>\n",
              "    <button class=\"colab-df-generate\" onclick=\"generateWithVariable('data')\"\n",
              "            title=\"Generate code using this dataframe.\"\n",
              "            style=\"display:none;\">\n",
              "\n",
              "  <svg xmlns=\"http://www.w3.org/2000/svg\" height=\"24px\"viewBox=\"0 0 24 24\"\n",
              "       width=\"24px\">\n",
              "    <path d=\"M7,19H8.4L18.45,9,17,7.55,7,17.6ZM5,21V16.75L18.45,3.32a2,2,0,0,1,2.83,0l1.4,1.43a1.91,1.91,0,0,1,.58,1.4,1.91,1.91,0,0,1-.58,1.4L9.25,21ZM18.45,9,17,7.55Zm-12,3A5.31,5.31,0,0,0,4.9,8.1,5.31,5.31,0,0,0,1,6.5,5.31,5.31,0,0,0,4.9,4.9,5.31,5.31,0,0,0,6.5,1,5.31,5.31,0,0,0,8.1,4.9,5.31,5.31,0,0,0,12,6.5,5.46,5.46,0,0,0,6.5,12Z\"/>\n",
              "  </svg>\n",
              "    </button>\n",
              "    <script>\n",
              "      (() => {\n",
              "      const buttonEl =\n",
              "        document.querySelector('#id_7cda6fb0-38d3-48bb-b2e2-51b269306596 button.colab-df-generate');\n",
              "      buttonEl.style.display =\n",
              "        google.colab.kernel.accessAllowed ? 'block' : 'none';\n",
              "\n",
              "      buttonEl.onclick = () => {\n",
              "        google.colab.notebook.generateWithVariable('data');\n",
              "      }\n",
              "      })();\n",
              "    </script>\n",
              "  </div>\n",
              "\n",
              "    </div>\n",
              "  </div>\n"
            ],
            "text/plain": [
              "              Date      time    Open    High     Low   Close  Volume\n",
              "0       2018-08-13  09:00:00   943.5   943.5   942.9   942.9   975.0\n",
              "1       2018-08-13  09:01:00   943.0   943.1   942.9   943.1   220.0\n",
              "2       2018-08-13  09:02:00   943.0   943.6   943.0   943.5   121.0\n",
              "3       2018-08-13  09:03:00   943.3   943.4   943.3   943.4   135.0\n",
              "4       2018-08-13  09:04:00   943.2   943.2   943.0   943.1   361.0\n",
              "...            ...       ...     ...     ...     ...     ...     ...\n",
              "354771  2024-06-24  14:27:00  1294.5  1295.7  1294.2  1294.7  2211.0\n",
              "354772  2024-06-24  14:28:00  1294.5  1295.7  1294.2  1294.7  2211.0\n",
              "354773  2024-06-24  14:29:00  1294.5  1295.7  1294.2  1294.7  2211.0\n",
              "354774  2024-06-24  14:30:00  1294.5  1295.7  1294.2  1294.7  2211.0\n",
              "354775  2024-06-24  14:45:00  1294.5  1295.7  1294.2  1294.7  2211.0\n",
              "\n",
              "[354776 rows x 7 columns]"
            ]
          },
          "execution_count": 31,
          "metadata": {},
          "output_type": "execute_result"
        }
      ],
      "source": [
        "data"
      ]
    },
    {
      "cell_type": "markdown",
      "metadata": {
        "id": "AQlr_9yzqnAA"
      },
      "source": [
        "## Create features"
      ]
    },
    {
      "cell_type": "code",
      "execution_count": null,
      "metadata": {
        "id": "H06z83k2bpjv"
      },
      "outputs": [],
      "source": [
        "def z_score_rolling(series, window=30):\n",
        "    \"\"\"Tính Z-score rolling\"\"\"\n",
        "    mean = series.rolling(window).mean()\n",
        "    std = series.rolling(window).std(ddof=0)\n",
        "    z_score = (series - mean) / std\n",
        "    return z_score"
      ]
    },
    {
      "cell_type": "code",
      "execution_count": null,
      "metadata": {
        "id": "1VS6xEuFqnAB"
      },
      "outputs": [],
      "source": [
        "def generate_features(data, shift=1):\n",
        "    \"\"\"\n",
        "    Hàm này tạo ra các features mới từ dữ liệu cổ phiếu.\n",
        "\n",
        "    Args:\n",
        "    df (pandas.DataFrame): DataFrame chứa dữ liệu cần tạo features, có các cột 'open', 'high', 'low', 'close' và 'volume'.\n",
        "\n",
        "    Returns:\n",
        "    pandas.DataFrame: DataFrame đã được mở rộng với các features mới.\n",
        "    \"\"\"\n",
        "    df = data.copy()\n",
        "    # Thêm tất cả các đặc trưng kỹ thuật từ thư viện TA-Lib\n",
        "    # Bollinger Bands\n",
        "    df['BB_Middle'] = df['Close'].rolling(window=20).mean()\n",
        "    df['BB_Std'] = df['Close'].rolling(window=20).std()\n",
        "    df['BB_Upper'] = df['BB_Middle'] + 2 * df['BB_Std']\n",
        "    df['BB_Lower'] = df['BB_Middle'] - 2 * df['BB_Std']\n",
        "\n",
        "    # RSI\n",
        "    df['RSI'] = ta.rsi(df['Close'], length=14)\n",
        "\n",
        "    # MACD\n",
        "    macd = ta.macd(df['Close'], fast=12, slow=26, signal=9)\n",
        "    df['MACD'] = macd['MACD_12_26_9']\n",
        "    df['MACD_Signal'] = macd['MACDs_12_26_9']\n",
        "    df['MACD_Hist'] = macd['MACDh_12_26_9']\n",
        "\n",
        "    # Stochastic Oscillator\n",
        "    stoch = ta.stoch(df['High'], df['Low'], df['Close'])\n",
        "    df['Stoch_K'] = stoch['STOCHk_14_3_3']\n",
        "    df['Stoch_D'] = stoch['STOCHd_14_3_3']\n",
        "\n",
        "    # ATR\n",
        "    df['ATR'] = ta.atr(df['High'], df['Low'], df['Close'], length=14)\n",
        "\n",
        "    # Z-score rolling\n",
        "    df['Z_Score_Rolling'] = z_score_rolling(df['Close'], window=30)\n",
        "\n",
        "    # Percent Change 5 minutes\n",
        "    df['Trend_5min'] = df['Close'].pct_change(periods=5)\n",
        "\n",
        "    # Rolling Standard Deviation 30 minutes\n",
        "    df['Std_Rolling_30min'] = df['Close'].rolling(window=30).std()\n",
        "\n",
        "    # Difference between Close and 30 minutes Moving Average\n",
        "    ma_30min = df['Close'].rolling(window=30).mean()\n",
        "    df['Close_Minus_MA_30min'] = df['Close'] - ma_30min\n",
        "\n",
        "    # Simple Moving Average 10 minutes\n",
        "    df['SMA_10'] = df['Close'].rolling(window=10).mean()\n",
        "\n",
        "    df_ta = df.copy()\n",
        "    df_ta.ta.cores = 0\n",
        "    df_ta.ta.strategy('common')\n",
        "\n",
        "    cols_to_drop = ['Open', 'High', 'Low', 'Close', 'Volume', 'Date', 'time']\n",
        "    df_ta = df_ta.drop(columns=cols_to_drop, errors='ignore')\n",
        "\n",
        "    # Concatenate original dataframe with features from pandas-ta\n",
        "    df = pd.concat([df, df_ta], axis=1)\n",
        "\n",
        "    # Replace infinite values and fill NaN values with 0\n",
        "    df.replace([np.inf, -np.inf], np.nan, inplace=True)\n",
        "    df.fillna(0, inplace=True)\n",
        "\n",
        "    df2 = data.copy()\n",
        "    df2 = add_all_ta_features(df2, open=\"Open\", high=\"High\", low=\"Low\", close=\"Close\", volume=\"Volume\")\n",
        "    df2 = df2.drop(columns=['Date','time', 'Open','High','Low','Close','Volume'])\n",
        "\n",
        "    df3 = pd.concat([df, df2], axis=1)\n",
        "\n",
        "    return df3"
      ]
    },
    {
      "cell_type": "code",
      "execution_count": null,
      "metadata": {
        "colab": {
          "base_uri": "https://localhost:8080/"
        },
        "id": "IGxFy81RqnAB",
        "outputId": "9a8f8469-bbdc-4b98-8a24-db0b57ef333e"
      },
      "outputs": [
        {
          "name": "stdout",
          "output_type": "stream",
          "text": [
            "[X] Not an available strategy.\n"
          ]
        },
        {
          "name": "stderr",
          "output_type": "stream",
          "text": [
            "/usr/local/lib/python3.10/dist-packages/numpy/core/fromnumeric.py:59: RuntimeWarning: invalid value encountered in accumulate\n",
            "  return bound(*args, **kwds)\n"
          ]
        }
      ],
      "source": [
        "data  = generate_features(data)"
      ]
    },
    {
      "cell_type": "markdown",
      "metadata": {
        "id": "gQzKrJCjqnAB"
      },
      "source": [
        "Thêm các feature khác, ví dụ giá vàng (xem xét phù hợp với thời gian trong data)"
      ]
    },
    {
      "cell_type": "markdown",
      "metadata": {
        "id": "nVQerGPmqnAC"
      },
      "source": [
        "# Feature Engineering"
      ]
    },
    {
      "cell_type": "code",
      "execution_count": null,
      "metadata": {
        "id": "-9nK3_PfqnAC"
      },
      "outputs": [],
      "source": [
        "def drop_high_corr_columns(df, threshold=0.6):\n",
        "    ohlcv_columns = {'Date','time', 'Open','High','Low','Close','Volume'}\n",
        "\n",
        "     # Identify non-OHLCV and non-date/time columns\n",
        "    non_corr_columns = [col for col in df.columns if col not in ohlcv_columns]\n",
        "\n",
        "    # Compute the correlation matrix only for non-OHLCV and non-date/time columns\n",
        "    corr_matrix = df[non_corr_columns].corr().abs()\n",
        "\n",
        "    # Create a set to keep track of columns to drop\n",
        "    to_drop = set()\n",
        "\n",
        "    # Iterate over the upper triangle of the correlation matrix\n",
        "    for i in range(len(corr_matrix.columns)):\n",
        "        for j in range(i + 1, len(corr_matrix.columns)):\n",
        "            if corr_matrix.iloc[i, j] > threshold:\n",
        "                # If the correlation is higher than the threshold, mark the column with the higher index to drop\n",
        "                col_to_drop = corr_matrix.columns[j]\n",
        "                if col_to_drop not in ohlcv_columns:\n",
        "                    to_drop.add(col_to_drop)\n",
        "\n",
        "    # Drop the columns from the DataFrame\n",
        "    df_dropped = df.drop(columns=to_drop)\n",
        "    return df_dropped\n",
        "\n",
        "data = drop_high_corr_columns(data)"
      ]
    },
    {
      "cell_type": "markdown",
      "metadata": {
        "id": "9DFSNfJOqnAB"
      },
      "source": [
        "# Add Predict Features"
      ]
    },
    {
      "cell_type": "code",
      "execution_count": null,
      "metadata": {
        "colab": {
          "base_uri": "https://localhost:8080/"
        },
        "id": "nh3vE-96YUzQ",
        "outputId": "1f7ccdbb-4210-4011-d586-19b532abc0b0"
      },
      "outputs": [
        {
          "data": {
            "application/vnd.google.colaboratory.intrinsic+json": {
              "type": "dataframe",
              "variable_name": "data"
            },
            "text/html": [
              "\n",
              "  <div id=\"df-fbef9a31-c767-4673-b91a-8cf4e5828cfd\" class=\"colab-df-container\">\n",
              "    <div>\n",
              "<style scoped>\n",
              "    .dataframe tbody tr th:only-of-type {\n",
              "        vertical-align: middle;\n",
              "    }\n",
              "\n",
              "    .dataframe tbody tr th {\n",
              "        vertical-align: top;\n",
              "    }\n",
              "\n",
              "    .dataframe thead th {\n",
              "        text-align: right;\n",
              "    }\n",
              "</style>\n",
              "<table border=\"1\" class=\"dataframe\">\n",
              "  <thead>\n",
              "    <tr style=\"text-align: right;\">\n",
              "      <th></th>\n",
              "      <th>Date</th>\n",
              "      <th>time</th>\n",
              "      <th>Open</th>\n",
              "      <th>High</th>\n",
              "      <th>Low</th>\n",
              "      <th>Close</th>\n",
              "      <th>Volume</th>\n",
              "      <th>volume_adi</th>\n",
              "      <th>volume_em</th>\n",
              "      <th>volume_sma_em</th>\n",
              "      <th>...</th>\n",
              "      <th>volatility_kcp</th>\n",
              "      <th>trend_mass_index</th>\n",
              "      <th>trend_dpo</th>\n",
              "      <th>trend_adx</th>\n",
              "      <th>trend_psar_up_indicator</th>\n",
              "      <th>trend_psar_down_indicator</th>\n",
              "      <th>momentum_pvo</th>\n",
              "      <th>momentum_pvo_hist</th>\n",
              "      <th>others_dr</th>\n",
              "      <th>Return</th>\n",
              "    </tr>\n",
              "  </thead>\n",
              "  <tbody>\n",
              "    <tr>\n",
              "      <th>1</th>\n",
              "      <td>2018-08-13</td>\n",
              "      <td>09:01:00</td>\n",
              "      <td>943.0</td>\n",
              "      <td>943.1</td>\n",
              "      <td>942.9</td>\n",
              "      <td>943.1</td>\n",
              "      <td>220.0</td>\n",
              "      <td>-755.000000</td>\n",
              "      <td>-18181.818182</td>\n",
              "      <td>0.0</td>\n",
              "      <td>...</td>\n",
              "      <td>0.541667</td>\n",
              "      <td>0.000000</td>\n",
              "      <td>0.000</td>\n",
              "      <td>0.000000</td>\n",
              "      <td>0.0</td>\n",
              "      <td>0.0</td>\n",
              "      <td>0.000000</td>\n",
              "      <td>0.000000</td>\n",
              "      <td>0.021211</td>\n",
              "      <td>0.000424</td>\n",
              "    </tr>\n",
              "    <tr>\n",
              "      <th>2</th>\n",
              "      <td>2018-08-13</td>\n",
              "      <td>09:02:00</td>\n",
              "      <td>943.0</td>\n",
              "      <td>943.6</td>\n",
              "      <td>943.0</td>\n",
              "      <td>943.5</td>\n",
              "      <td>121.0</td>\n",
              "      <td>-674.333333</td>\n",
              "      <td>148760.330579</td>\n",
              "      <td>0.0</td>\n",
              "      <td>...</td>\n",
              "      <td>0.857143</td>\n",
              "      <td>0.000000</td>\n",
              "      <td>0.000</td>\n",
              "      <td>0.000000</td>\n",
              "      <td>0.0</td>\n",
              "      <td>1.0</td>\n",
              "      <td>0.000000</td>\n",
              "      <td>0.000000</td>\n",
              "      <td>0.042413</td>\n",
              "      <td>-0.000106</td>\n",
              "    </tr>\n",
              "    <tr>\n",
              "      <th>3</th>\n",
              "      <td>2018-08-13</td>\n",
              "      <td>09:03:00</td>\n",
              "      <td>943.3</td>\n",
              "      <td>943.4</td>\n",
              "      <td>943.3</td>\n",
              "      <td>943.4</td>\n",
              "      <td>135.0</td>\n",
              "      <td>-539.333333</td>\n",
              "      <td>3703.703704</td>\n",
              "      <td>0.0</td>\n",
              "      <td>...</td>\n",
              "      <td>0.744444</td>\n",
              "      <td>0.000000</td>\n",
              "      <td>0.000</td>\n",
              "      <td>0.000000</td>\n",
              "      <td>0.0</td>\n",
              "      <td>0.0</td>\n",
              "      <td>0.000000</td>\n",
              "      <td>0.000000</td>\n",
              "      <td>-0.010599</td>\n",
              "      <td>-0.000318</td>\n",
              "    </tr>\n",
              "    <tr>\n",
              "      <th>4</th>\n",
              "      <td>2018-08-13</td>\n",
              "      <td>09:04:00</td>\n",
              "      <td>943.2</td>\n",
              "      <td>943.2</td>\n",
              "      <td>943.0</td>\n",
              "      <td>943.1</td>\n",
              "      <td>361.0</td>\n",
              "      <td>-539.333333</td>\n",
              "      <td>-13850.415512</td>\n",
              "      <td>0.0</td>\n",
              "      <td>...</td>\n",
              "      <td>0.362745</td>\n",
              "      <td>0.000000</td>\n",
              "      <td>0.000</td>\n",
              "      <td>0.000000</td>\n",
              "      <td>0.0</td>\n",
              "      <td>0.0</td>\n",
              "      <td>0.000000</td>\n",
              "      <td>0.000000</td>\n",
              "      <td>-0.031800</td>\n",
              "      <td>-0.000106</td>\n",
              "    </tr>\n",
              "    <tr>\n",
              "      <th>5</th>\n",
              "      <td>2018-08-13</td>\n",
              "      <td>09:05:00</td>\n",
              "      <td>943.1</td>\n",
              "      <td>943.1</td>\n",
              "      <td>942.9</td>\n",
              "      <td>943.0</td>\n",
              "      <td>343.0</td>\n",
              "      <td>-539.333333</td>\n",
              "      <td>-5830.903790</td>\n",
              "      <td>0.0</td>\n",
              "      <td>...</td>\n",
              "      <td>0.245614</td>\n",
              "      <td>0.000000</td>\n",
              "      <td>0.000</td>\n",
              "      <td>0.000000</td>\n",
              "      <td>0.0</td>\n",
              "      <td>0.0</td>\n",
              "      <td>0.000000</td>\n",
              "      <td>0.000000</td>\n",
              "      <td>-0.010603</td>\n",
              "      <td>0.000106</td>\n",
              "    </tr>\n",
              "    <tr>\n",
              "      <th>...</th>\n",
              "      <td>...</td>\n",
              "      <td>...</td>\n",
              "      <td>...</td>\n",
              "      <td>...</td>\n",
              "      <td>...</td>\n",
              "      <td>...</td>\n",
              "      <td>...</td>\n",
              "      <td>...</td>\n",
              "      <td>...</td>\n",
              "      <td>...</td>\n",
              "      <td>...</td>\n",
              "      <td>...</td>\n",
              "      <td>...</td>\n",
              "      <td>...</td>\n",
              "      <td>...</td>\n",
              "      <td>...</td>\n",
              "      <td>...</td>\n",
              "      <td>...</td>\n",
              "      <td>...</td>\n",
              "      <td>...</td>\n",
              "      <td>...</td>\n",
              "    </tr>\n",
              "    <tr>\n",
              "      <th>354771</th>\n",
              "      <td>2024-06-24</td>\n",
              "      <td>14:27:00</td>\n",
              "      <td>1294.5</td>\n",
              "      <td>1295.7</td>\n",
              "      <td>1294.2</td>\n",
              "      <td>1294.7</td>\n",
              "      <td>2211.0</td>\n",
              "      <td>0.000000</td>\n",
              "      <td>0.000000</td>\n",
              "      <td>0.0</td>\n",
              "      <td>...</td>\n",
              "      <td>0.444444</td>\n",
              "      <td>25.492025</td>\n",
              "      <td>-0.015</td>\n",
              "      <td>8.727837</td>\n",
              "      <td>0.0</td>\n",
              "      <td>0.0</td>\n",
              "      <td>7.949202</td>\n",
              "      <td>-1.914214</td>\n",
              "      <td>0.000000</td>\n",
              "      <td>0.000000</td>\n",
              "    </tr>\n",
              "    <tr>\n",
              "      <th>354772</th>\n",
              "      <td>2024-06-24</td>\n",
              "      <td>14:28:00</td>\n",
              "      <td>1294.5</td>\n",
              "      <td>1295.7</td>\n",
              "      <td>1294.2</td>\n",
              "      <td>1294.7</td>\n",
              "      <td>2211.0</td>\n",
              "      <td>0.000000</td>\n",
              "      <td>0.000000</td>\n",
              "      <td>0.0</td>\n",
              "      <td>...</td>\n",
              "      <td>0.444444</td>\n",
              "      <td>25.625358</td>\n",
              "      <td>0.000</td>\n",
              "      <td>8.684122</td>\n",
              "      <td>0.0</td>\n",
              "      <td>0.0</td>\n",
              "      <td>7.433749</td>\n",
              "      <td>-1.943733</td>\n",
              "      <td>0.000000</td>\n",
              "      <td>0.000000</td>\n",
              "    </tr>\n",
              "    <tr>\n",
              "      <th>354773</th>\n",
              "      <td>2024-06-24</td>\n",
              "      <td>14:29:00</td>\n",
              "      <td>1294.5</td>\n",
              "      <td>1295.7</td>\n",
              "      <td>1294.2</td>\n",
              "      <td>1294.7</td>\n",
              "      <td>2211.0</td>\n",
              "      <td>0.000000</td>\n",
              "      <td>0.000000</td>\n",
              "      <td>0.0</td>\n",
              "      <td>...</td>\n",
              "      <td>0.444444</td>\n",
              "      <td>25.608239</td>\n",
              "      <td>0.000</td>\n",
              "      <td>8.643530</td>\n",
              "      <td>0.0</td>\n",
              "      <td>0.0</td>\n",
              "      <td>6.943778</td>\n",
              "      <td>-1.946963</td>\n",
              "      <td>0.000000</td>\n",
              "      <td>0.000000</td>\n",
              "    </tr>\n",
              "    <tr>\n",
              "      <th>354774</th>\n",
              "      <td>2024-06-24</td>\n",
              "      <td>14:30:00</td>\n",
              "      <td>1294.5</td>\n",
              "      <td>1295.7</td>\n",
              "      <td>1294.2</td>\n",
              "      <td>1294.7</td>\n",
              "      <td>2211.0</td>\n",
              "      <td>0.000000</td>\n",
              "      <td>0.000000</td>\n",
              "      <td>0.0</td>\n",
              "      <td>...</td>\n",
              "      <td>0.444444</td>\n",
              "      <td>25.620296</td>\n",
              "      <td>0.000</td>\n",
              "      <td>8.605837</td>\n",
              "      <td>0.0</td>\n",
              "      <td>0.0</td>\n",
              "      <td>6.479635</td>\n",
              "      <td>-1.928885</td>\n",
              "      <td>0.000000</td>\n",
              "      <td>0.000000</td>\n",
              "    </tr>\n",
              "    <tr>\n",
              "      <th>354775</th>\n",
              "      <td>2024-06-24</td>\n",
              "      <td>14:45:00</td>\n",
              "      <td>1294.5</td>\n",
              "      <td>1295.7</td>\n",
              "      <td>1294.2</td>\n",
              "      <td>1294.7</td>\n",
              "      <td>2211.0</td>\n",
              "      <td>0.000000</td>\n",
              "      <td>0.000000</td>\n",
              "      <td>0.0</td>\n",
              "      <td>...</td>\n",
              "      <td>0.444444</td>\n",
              "      <td>25.689198</td>\n",
              "      <td>0.000</td>\n",
              "      <td>8.570836</td>\n",
              "      <td>0.0</td>\n",
              "      <td>0.0</td>\n",
              "      <td>6.041237</td>\n",
              "      <td>-1.893826</td>\n",
              "      <td>0.000000</td>\n",
              "      <td>0.000000</td>\n",
              "    </tr>\n",
              "  </tbody>\n",
              "</table>\n",
              "<p>354775 rows × 23 columns</p>\n",
              "</div>\n",
              "    <div class=\"colab-df-buttons\">\n",
              "\n",
              "  <div class=\"colab-df-container\">\n",
              "    <button class=\"colab-df-convert\" onclick=\"convertToInteractive('df-fbef9a31-c767-4673-b91a-8cf4e5828cfd')\"\n",
              "            title=\"Convert this dataframe to an interactive table.\"\n",
              "            style=\"display:none;\">\n",
              "\n",
              "  <svg xmlns=\"http://www.w3.org/2000/svg\" height=\"24px\" viewBox=\"0 -960 960 960\">\n",
              "    <path d=\"M120-120v-720h720v720H120Zm60-500h600v-160H180v160Zm220 220h160v-160H400v160Zm0 220h160v-160H400v160ZM180-400h160v-160H180v160Zm440 0h160v-160H620v160ZM180-180h160v-160H180v160Zm440 0h160v-160H620v160Z\"/>\n",
              "  </svg>\n",
              "    </button>\n",
              "\n",
              "  <style>\n",
              "    .colab-df-container {\n",
              "      display:flex;\n",
              "      gap: 12px;\n",
              "    }\n",
              "\n",
              "    .colab-df-convert {\n",
              "      background-color: #E8F0FE;\n",
              "      border: none;\n",
              "      border-radius: 50%;\n",
              "      cursor: pointer;\n",
              "      display: none;\n",
              "      fill: #1967D2;\n",
              "      height: 32px;\n",
              "      padding: 0 0 0 0;\n",
              "      width: 32px;\n",
              "    }\n",
              "\n",
              "    .colab-df-convert:hover {\n",
              "      background-color: #E2EBFA;\n",
              "      box-shadow: 0px 1px 2px rgba(60, 64, 67, 0.3), 0px 1px 3px 1px rgba(60, 64, 67, 0.15);\n",
              "      fill: #174EA6;\n",
              "    }\n",
              "\n",
              "    .colab-df-buttons div {\n",
              "      margin-bottom: 4px;\n",
              "    }\n",
              "\n",
              "    [theme=dark] .colab-df-convert {\n",
              "      background-color: #3B4455;\n",
              "      fill: #D2E3FC;\n",
              "    }\n",
              "\n",
              "    [theme=dark] .colab-df-convert:hover {\n",
              "      background-color: #434B5C;\n",
              "      box-shadow: 0px 1px 3px 1px rgba(0, 0, 0, 0.15);\n",
              "      filter: drop-shadow(0px 1px 2px rgba(0, 0, 0, 0.3));\n",
              "      fill: #FFFFFF;\n",
              "    }\n",
              "  </style>\n",
              "\n",
              "    <script>\n",
              "      const buttonEl =\n",
              "        document.querySelector('#df-fbef9a31-c767-4673-b91a-8cf4e5828cfd button.colab-df-convert');\n",
              "      buttonEl.style.display =\n",
              "        google.colab.kernel.accessAllowed ? 'block' : 'none';\n",
              "\n",
              "      async function convertToInteractive(key) {\n",
              "        const element = document.querySelector('#df-fbef9a31-c767-4673-b91a-8cf4e5828cfd');\n",
              "        const dataTable =\n",
              "          await google.colab.kernel.invokeFunction('convertToInteractive',\n",
              "                                                    [key], {});\n",
              "        if (!dataTable) return;\n",
              "\n",
              "        const docLinkHtml = 'Like what you see? Visit the ' +\n",
              "          '<a target=\"_blank\" href=https://colab.research.google.com/notebooks/data_table.ipynb>data table notebook</a>'\n",
              "          + ' to learn more about interactive tables.';\n",
              "        element.innerHTML = '';\n",
              "        dataTable['output_type'] = 'display_data';\n",
              "        await google.colab.output.renderOutput(dataTable, element);\n",
              "        const docLink = document.createElement('div');\n",
              "        docLink.innerHTML = docLinkHtml;\n",
              "        element.appendChild(docLink);\n",
              "      }\n",
              "    </script>\n",
              "  </div>\n",
              "\n",
              "\n",
              "<div id=\"df-60c5b688-e614-44b3-b975-7b8bf55687dc\">\n",
              "  <button class=\"colab-df-quickchart\" onclick=\"quickchart('df-60c5b688-e614-44b3-b975-7b8bf55687dc')\"\n",
              "            title=\"Suggest charts\"\n",
              "            style=\"display:none;\">\n",
              "\n",
              "<svg xmlns=\"http://www.w3.org/2000/svg\" height=\"24px\"viewBox=\"0 0 24 24\"\n",
              "     width=\"24px\">\n",
              "    <g>\n",
              "        <path d=\"M19 3H5c-1.1 0-2 .9-2 2v14c0 1.1.9 2 2 2h14c1.1 0 2-.9 2-2V5c0-1.1-.9-2-2-2zM9 17H7v-7h2v7zm4 0h-2V7h2v10zm4 0h-2v-4h2v4z\"/>\n",
              "    </g>\n",
              "</svg>\n",
              "  </button>\n",
              "\n",
              "<style>\n",
              "  .colab-df-quickchart {\n",
              "      --bg-color: #E8F0FE;\n",
              "      --fill-color: #1967D2;\n",
              "      --hover-bg-color: #E2EBFA;\n",
              "      --hover-fill-color: #174EA6;\n",
              "      --disabled-fill-color: #AAA;\n",
              "      --disabled-bg-color: #DDD;\n",
              "  }\n",
              "\n",
              "  [theme=dark] .colab-df-quickchart {\n",
              "      --bg-color: #3B4455;\n",
              "      --fill-color: #D2E3FC;\n",
              "      --hover-bg-color: #434B5C;\n",
              "      --hover-fill-color: #FFFFFF;\n",
              "      --disabled-bg-color: #3B4455;\n",
              "      --disabled-fill-color: #666;\n",
              "  }\n",
              "\n",
              "  .colab-df-quickchart {\n",
              "    background-color: var(--bg-color);\n",
              "    border: none;\n",
              "    border-radius: 50%;\n",
              "    cursor: pointer;\n",
              "    display: none;\n",
              "    fill: var(--fill-color);\n",
              "    height: 32px;\n",
              "    padding: 0;\n",
              "    width: 32px;\n",
              "  }\n",
              "\n",
              "  .colab-df-quickchart:hover {\n",
              "    background-color: var(--hover-bg-color);\n",
              "    box-shadow: 0 1px 2px rgba(60, 64, 67, 0.3), 0 1px 3px 1px rgba(60, 64, 67, 0.15);\n",
              "    fill: var(--button-hover-fill-color);\n",
              "  }\n",
              "\n",
              "  .colab-df-quickchart-complete:disabled,\n",
              "  .colab-df-quickchart-complete:disabled:hover {\n",
              "    background-color: var(--disabled-bg-color);\n",
              "    fill: var(--disabled-fill-color);\n",
              "    box-shadow: none;\n",
              "  }\n",
              "\n",
              "  .colab-df-spinner {\n",
              "    border: 2px solid var(--fill-color);\n",
              "    border-color: transparent;\n",
              "    border-bottom-color: var(--fill-color);\n",
              "    animation:\n",
              "      spin 1s steps(1) infinite;\n",
              "  }\n",
              "\n",
              "  @keyframes spin {\n",
              "    0% {\n",
              "      border-color: transparent;\n",
              "      border-bottom-color: var(--fill-color);\n",
              "      border-left-color: var(--fill-color);\n",
              "    }\n",
              "    20% {\n",
              "      border-color: transparent;\n",
              "      border-left-color: var(--fill-color);\n",
              "      border-top-color: var(--fill-color);\n",
              "    }\n",
              "    30% {\n",
              "      border-color: transparent;\n",
              "      border-left-color: var(--fill-color);\n",
              "      border-top-color: var(--fill-color);\n",
              "      border-right-color: var(--fill-color);\n",
              "    }\n",
              "    40% {\n",
              "      border-color: transparent;\n",
              "      border-right-color: var(--fill-color);\n",
              "      border-top-color: var(--fill-color);\n",
              "    }\n",
              "    60% {\n",
              "      border-color: transparent;\n",
              "      border-right-color: var(--fill-color);\n",
              "    }\n",
              "    80% {\n",
              "      border-color: transparent;\n",
              "      border-right-color: var(--fill-color);\n",
              "      border-bottom-color: var(--fill-color);\n",
              "    }\n",
              "    90% {\n",
              "      border-color: transparent;\n",
              "      border-bottom-color: var(--fill-color);\n",
              "    }\n",
              "  }\n",
              "</style>\n",
              "\n",
              "  <script>\n",
              "    async function quickchart(key) {\n",
              "      const quickchartButtonEl =\n",
              "        document.querySelector('#' + key + ' button');\n",
              "      quickchartButtonEl.disabled = true;  // To prevent multiple clicks.\n",
              "      quickchartButtonEl.classList.add('colab-df-spinner');\n",
              "      try {\n",
              "        const charts = await google.colab.kernel.invokeFunction(\n",
              "            'suggestCharts', [key], {});\n",
              "      } catch (error) {\n",
              "        console.error('Error during call to suggestCharts:', error);\n",
              "      }\n",
              "      quickchartButtonEl.classList.remove('colab-df-spinner');\n",
              "      quickchartButtonEl.classList.add('colab-df-quickchart-complete');\n",
              "    }\n",
              "    (() => {\n",
              "      let quickchartButtonEl =\n",
              "        document.querySelector('#df-60c5b688-e614-44b3-b975-7b8bf55687dc button');\n",
              "      quickchartButtonEl.style.display =\n",
              "        google.colab.kernel.accessAllowed ? 'block' : 'none';\n",
              "    })();\n",
              "  </script>\n",
              "</div>\n",
              "\n",
              "  <div id=\"id_06631504-d04e-4798-93e1-09e3f0a227b9\">\n",
              "    <style>\n",
              "      .colab-df-generate {\n",
              "        background-color: #E8F0FE;\n",
              "        border: none;\n",
              "        border-radius: 50%;\n",
              "        cursor: pointer;\n",
              "        display: none;\n",
              "        fill: #1967D2;\n",
              "        height: 32px;\n",
              "        padding: 0 0 0 0;\n",
              "        width: 32px;\n",
              "      }\n",
              "\n",
              "      .colab-df-generate:hover {\n",
              "        background-color: #E2EBFA;\n",
              "        box-shadow: 0px 1px 2px rgba(60, 64, 67, 0.3), 0px 1px 3px 1px rgba(60, 64, 67, 0.15);\n",
              "        fill: #174EA6;\n",
              "      }\n",
              "\n",
              "      [theme=dark] .colab-df-generate {\n",
              "        background-color: #3B4455;\n",
              "        fill: #D2E3FC;\n",
              "      }\n",
              "\n",
              "      [theme=dark] .colab-df-generate:hover {\n",
              "        background-color: #434B5C;\n",
              "        box-shadow: 0px 1px 3px 1px rgba(0, 0, 0, 0.15);\n",
              "        filter: drop-shadow(0px 1px 2px rgba(0, 0, 0, 0.3));\n",
              "        fill: #FFFFFF;\n",
              "      }\n",
              "    </style>\n",
              "    <button class=\"colab-df-generate\" onclick=\"generateWithVariable('data')\"\n",
              "            title=\"Generate code using this dataframe.\"\n",
              "            style=\"display:none;\">\n",
              "\n",
              "  <svg xmlns=\"http://www.w3.org/2000/svg\" height=\"24px\"viewBox=\"0 0 24 24\"\n",
              "       width=\"24px\">\n",
              "    <path d=\"M7,19H8.4L18.45,9,17,7.55,7,17.6ZM5,21V16.75L18.45,3.32a2,2,0,0,1,2.83,0l1.4,1.43a1.91,1.91,0,0,1,.58,1.4,1.91,1.91,0,0,1-.58,1.4L9.25,21ZM18.45,9,17,7.55Zm-12,3A5.31,5.31,0,0,0,4.9,8.1,5.31,5.31,0,0,0,1,6.5,5.31,5.31,0,0,0,4.9,4.9,5.31,5.31,0,0,0,6.5,1,5.31,5.31,0,0,0,8.1,4.9,5.31,5.31,0,0,0,12,6.5,5.46,5.46,0,0,0,6.5,12Z\"/>\n",
              "  </svg>\n",
              "    </button>\n",
              "    <script>\n",
              "      (() => {\n",
              "      const buttonEl =\n",
              "        document.querySelector('#id_06631504-d04e-4798-93e1-09e3f0a227b9 button.colab-df-generate');\n",
              "      buttonEl.style.display =\n",
              "        google.colab.kernel.accessAllowed ? 'block' : 'none';\n",
              "\n",
              "      buttonEl.onclick = () => {\n",
              "        google.colab.notebook.generateWithVariable('data');\n",
              "      }\n",
              "      })();\n",
              "    </script>\n",
              "  </div>\n",
              "\n",
              "    </div>\n",
              "  </div>\n"
            ],
            "text/plain": [
              "              Date      time    Open    High     Low   Close  Volume  \\\n",
              "1       2018-08-13  09:01:00   943.0   943.1   942.9   943.1   220.0   \n",
              "2       2018-08-13  09:02:00   943.0   943.6   943.0   943.5   121.0   \n",
              "3       2018-08-13  09:03:00   943.3   943.4   943.3   943.4   135.0   \n",
              "4       2018-08-13  09:04:00   943.2   943.2   943.0   943.1   361.0   \n",
              "5       2018-08-13  09:05:00   943.1   943.1   942.9   943.0   343.0   \n",
              "...            ...       ...     ...     ...     ...     ...     ...   \n",
              "354771  2024-06-24  14:27:00  1294.5  1295.7  1294.2  1294.7  2211.0   \n",
              "354772  2024-06-24  14:28:00  1294.5  1295.7  1294.2  1294.7  2211.0   \n",
              "354773  2024-06-24  14:29:00  1294.5  1295.7  1294.2  1294.7  2211.0   \n",
              "354774  2024-06-24  14:30:00  1294.5  1295.7  1294.2  1294.7  2211.0   \n",
              "354775  2024-06-24  14:45:00  1294.5  1295.7  1294.2  1294.7  2211.0   \n",
              "\n",
              "        volume_adi      volume_em  volume_sma_em  ...  volatility_kcp  \\\n",
              "1      -755.000000  -18181.818182            0.0  ...        0.541667   \n",
              "2      -674.333333  148760.330579            0.0  ...        0.857143   \n",
              "3      -539.333333    3703.703704            0.0  ...        0.744444   \n",
              "4      -539.333333  -13850.415512            0.0  ...        0.362745   \n",
              "5      -539.333333   -5830.903790            0.0  ...        0.245614   \n",
              "...            ...            ...            ...  ...             ...   \n",
              "354771    0.000000       0.000000            0.0  ...        0.444444   \n",
              "354772    0.000000       0.000000            0.0  ...        0.444444   \n",
              "354773    0.000000       0.000000            0.0  ...        0.444444   \n",
              "354774    0.000000       0.000000            0.0  ...        0.444444   \n",
              "354775    0.000000       0.000000            0.0  ...        0.444444   \n",
              "\n",
              "        trend_mass_index  trend_dpo  trend_adx  trend_psar_up_indicator  \\\n",
              "1               0.000000      0.000   0.000000                      0.0   \n",
              "2               0.000000      0.000   0.000000                      0.0   \n",
              "3               0.000000      0.000   0.000000                      0.0   \n",
              "4               0.000000      0.000   0.000000                      0.0   \n",
              "5               0.000000      0.000   0.000000                      0.0   \n",
              "...                  ...        ...        ...                      ...   \n",
              "354771         25.492025     -0.015   8.727837                      0.0   \n",
              "354772         25.625358      0.000   8.684122                      0.0   \n",
              "354773         25.608239      0.000   8.643530                      0.0   \n",
              "354774         25.620296      0.000   8.605837                      0.0   \n",
              "354775         25.689198      0.000   8.570836                      0.0   \n",
              "\n",
              "        trend_psar_down_indicator  momentum_pvo  momentum_pvo_hist  others_dr  \\\n",
              "1                             0.0      0.000000           0.000000   0.021211   \n",
              "2                             1.0      0.000000           0.000000   0.042413   \n",
              "3                             0.0      0.000000           0.000000  -0.010599   \n",
              "4                             0.0      0.000000           0.000000  -0.031800   \n",
              "5                             0.0      0.000000           0.000000  -0.010603   \n",
              "...                           ...           ...                ...        ...   \n",
              "354771                        0.0      7.949202          -1.914214   0.000000   \n",
              "354772                        0.0      7.433749          -1.943733   0.000000   \n",
              "354773                        0.0      6.943778          -1.946963   0.000000   \n",
              "354774                        0.0      6.479635          -1.928885   0.000000   \n",
              "354775                        0.0      6.041237          -1.893826   0.000000   \n",
              "\n",
              "          Return  \n",
              "1       0.000424  \n",
              "2      -0.000106  \n",
              "3      -0.000318  \n",
              "4      -0.000106  \n",
              "5       0.000106  \n",
              "...          ...  \n",
              "354771  0.000000  \n",
              "354772  0.000000  \n",
              "354773  0.000000  \n",
              "354774  0.000000  \n",
              "354775  0.000000  \n",
              "\n",
              "[354775 rows x 23 columns]"
            ]
          },
          "execution_count": 36,
          "metadata": {},
          "output_type": "execute_result"
        }
      ],
      "source": [
        "data['Return'] = (data['Close'].shift(-rolling_window) - data['Close'])/data['Close']\n",
        "data = data.fillna(0)\n",
        "data = data.drop(index=0)\n",
        "data"
      ]
    },
    {
      "cell_type": "markdown",
      "metadata": {
        "id": "RSoMZtvGYX93"
      },
      "source": [
        "# Select features using Optuna"
      ]
    },
    {
      "cell_type": "code",
      "execution_count": null,
      "metadata": {
        "id": "M3LHQmLyqnAC"
      },
      "outputs": [],
      "source": [
        "def objective(trial, X_train, X_valid, y_train, y_valid, y_price):\n",
        "\n",
        "    # Select features based on Optuna's suggestions\n",
        "    selected_features = []\n",
        "\n",
        "    at_least_one_feature = False\n",
        "\n",
        "    for col in X_train.columns:\n",
        "        select_feature = trial.suggest_categorical(col, [0, 1])\n",
        "        if select_feature:\n",
        "            selected_features.append(col)\n",
        "            at_least_one_feature = True\n",
        "    for t in trial.study.trials:\n",
        "        if t.state != optuna.trial.TrialState.COMPLETE:\n",
        "            continue\n",
        "        if t.params == trial.params:\n",
        "            return np.nan #t.values  # Return the previous value without re-evaluating i\n",
        "\n",
        "    trade_threshold  = 0.0001\n",
        "\n",
        "    # Use only the selected features in training\n",
        "    X_train_selected = X_train[selected_features]\n",
        "    X_valid_selected = X_valid[selected_features]\n",
        "\n",
        "    # Train the model\n",
        "    model = xgb.XGBRegressor()\n",
        "    model.fit(X_train_selected, y_train)\n",
        "\n",
        "    y_pred_train = model.predict(X_train_selected)\n",
        "    y_pred_valid = model.predict(X_valid_selected)\n",
        "\n",
        "    _, pos_is, _, sharpe_is = sharpe_for_vn30f(y_pred_train, y_price[:len(y_pred_train)], trade_threshold=trade_threshold, fee_perc=0.01, periods=10)\n",
        "    _, pos_os, _, sharpe_oos = sharpe_for_vn30f(y_pred_valid, y_price[len(y_pred_train):], trade_threshold=trade_threshold, fee_perc=0.01, periods=10)\n",
        "\n",
        "    print('Trade times in sample:',len(pos_is[pos_is != 0]), 'Trade times out sample:',len(pos_os[pos_os != 0]))\n",
        "\n",
        "    return sharpe_oos, abs((abs(sharpe_is / sharpe_oos))-1)\n",
        "\n",
        "X_train, X_valid, y_train, y_valid, train_data = split_optuna_data(data)"
      ]
    },
    {
      "cell_type": "code",
      "execution_count": null,
      "metadata": {
        "colab": {
          "base_uri": "https://localhost:8080/"
        },
        "id": "JCMZkqqqqnAC",
        "outputId": "6522c662-7a29-4c96-fa2f-14f17c7b904f"
      },
      "outputs": [
        {
          "name": "stderr",
          "output_type": "stream",
          "text": [
            "[I 2024-06-24 07:19:08,891] A new study created in memory with name: no-name-c8420791-9e6a-41e3-9042-454536b5f76f\n"
          ]
        },
        {
          "name": "stdout",
          "output_type": "stream",
          "text": [
            "A new study created in memory with name: no-name-c8420791-9e6a-41e3-9042-454536b5f76f\n"
          ]
        },
        {
          "name": "stderr",
          "output_type": "stream",
          "text": [
            "[I 2024-06-24 07:19:10,365] Trial 0 finished with values: [-0.38080950429249893, 5.623869064417669] and parameters: {0: 1, 1: 1, 2: 0, 3: 1, 4: 1, 5: 0, 6: 1, 7: 0, 8: 0, 9: 1, 10: 1, 11: 1, 12: 1, 13: 0, 14: 1}. \n"
          ]
        },
        {
          "name": "stdout",
          "output_type": "stream",
          "text": [
            "Trade times in sample: 118118 Trade times out sample: 118187\n",
            "Trial 0 finished with values: [-0.38080950429249893, 5.623869064417669] and parameters: {0: 1, 1: 1, 2: 0, 3: 1, 4: 1, 5: 0, 6: 1, 7: 0, 8: 0, 9: 1, 10: 1, 11: 1, 12: 1, 13: 0, 14: 1}. \n"
          ]
        },
        {
          "name": "stderr",
          "output_type": "stream",
          "text": [
            "[I 2024-06-24 07:19:11,821] Trial 1 finished with values: [-0.37870895510310654, 8.760801573064962] and parameters: {0: 1, 1: 0, 2: 1, 3: 1, 4: 1, 5: 1, 6: 0, 7: 0, 8: 1, 9: 1, 10: 0, 11: 1, 12: 0, 13: 1, 14: 1}. \n"
          ]
        },
        {
          "name": "stdout",
          "output_type": "stream",
          "text": [
            "Trade times in sample: 118218 Trade times out sample: 118187\n",
            "Trial 1 finished with values: [-0.37870895510310654, 8.760801573064962] and parameters: {0: 1, 1: 0, 2: 1, 3: 1, 4: 1, 5: 1, 6: 0, 7: 0, 8: 1, 9: 1, 10: 0, 11: 1, 12: 0, 13: 1, 14: 1}. \n"
          ]
        },
        {
          "name": "stderr",
          "output_type": "stream",
          "text": [
            "[I 2024-06-24 07:19:14,130] Trial 2 finished with values: [-1.2269769001905901, 2.4573984820249377] and parameters: {0: 0, 1: 1, 2: 0, 3: 1, 4: 1, 5: 0, 6: 1, 7: 1, 8: 1, 9: 0, 10: 0, 11: 0, 12: 1, 13: 1, 14: 0}. \n"
          ]
        },
        {
          "name": "stdout",
          "output_type": "stream",
          "text": [
            "Trade times in sample: 118119 Trade times out sample: 118188\n",
            "Trial 2 finished with values: [-1.2269769001905901, 2.4573984820249377] and parameters: {0: 0, 1: 1, 2: 0, 3: 1, 4: 1, 5: 0, 6: 1, 7: 1, 8: 1, 9: 0, 10: 0, 11: 0, 12: 1, 13: 1, 14: 0}. \n"
          ]
        },
        {
          "name": "stderr",
          "output_type": "stream",
          "text": [
            "[I 2024-06-24 07:19:16,228] Trial 3 finished with values: [-0.7628504227047599, 3.3735024648800014] and parameters: {0: 0, 1: 0, 2: 0, 3: 0, 4: 1, 5: 0, 6: 0, 7: 1, 8: 0, 9: 0, 10: 0, 11: 0, 12: 1, 13: 0, 14: 1}. \n"
          ]
        },
        {
          "name": "stdout",
          "output_type": "stream",
          "text": [
            "Trade times in sample: 118244 Trade times out sample: 116999\n",
            "Trial 3 finished with values: [-0.7628504227047599, 3.3735024648800014] and parameters: {0: 0, 1: 0, 2: 0, 3: 0, 4: 1, 5: 0, 6: 0, 7: 1, 8: 0, 9: 0, 10: 0, 11: 0, 12: 1, 13: 0, 14: 1}. \n"
          ]
        },
        {
          "name": "stderr",
          "output_type": "stream",
          "text": [
            "[I 2024-06-24 07:19:17,738] Trial 4 finished with values: [-0.940546415916065, 2.35370507181395] and parameters: {0: 1, 1: 0, 2: 1, 3: 1, 4: 1, 5: 1, 6: 1, 7: 1, 8: 1, 9: 0, 10: 1, 11: 1, 12: 0, 13: 1, 14: 0}. \n"
          ]
        },
        {
          "name": "stdout",
          "output_type": "stream",
          "text": [
            "Trade times in sample: 118005 Trade times out sample: 118258\n",
            "Trial 4 finished with values: [-0.940546415916065, 2.35370507181395] and parameters: {0: 1, 1: 0, 2: 1, 3: 1, 4: 1, 5: 1, 6: 1, 7: 1, 8: 1, 9: 0, 10: 1, 11: 1, 12: 0, 13: 1, 14: 0}. \n"
          ]
        },
        {
          "name": "stderr",
          "output_type": "stream",
          "text": [
            "[I 2024-06-24 07:19:20,369] Trial 5 finished with values: [-1.9915656677091151, 0.2655813209484357] and parameters: {0: 1, 1: 1, 2: 0, 3: 0, 4: 0, 5: 0, 6: 1, 7: 0, 8: 1, 9: 1, 10: 1, 11: 1, 12: 1, 13: 0, 14: 0}. \n"
          ]
        },
        {
          "name": "stdout",
          "output_type": "stream",
          "text": [
            "Trade times in sample: 117856 Trade times out sample: 116295\n",
            "Trial 5 finished with values: [-1.9915656677091151, 0.2655813209484357] and parameters: {0: 1, 1: 1, 2: 0, 3: 0, 4: 0, 5: 0, 6: 1, 7: 0, 8: 1, 9: 1, 10: 1, 11: 1, 12: 1, 13: 0, 14: 0}. \n"
          ]
        },
        {
          "name": "stderr",
          "output_type": "stream",
          "text": [
            "[I 2024-06-24 07:19:21,845] Trial 6 finished with values: [-1.4308460286691231, 0.7127212096575521] and parameters: {0: 1, 1: 0, 2: 1, 3: 0, 4: 0, 5: 0, 6: 0, 7: 0, 8: 1, 9: 1, 10: 1, 11: 0, 12: 0, 13: 0, 14: 0}. \n"
          ]
        },
        {
          "name": "stdout",
          "output_type": "stream",
          "text": [
            "Trade times in sample: 118230 Trade times out sample: 118187\n",
            "Trial 6 finished with values: [-1.4308460286691231, 0.7127212096575521] and parameters: {0: 1, 1: 0, 2: 1, 3: 0, 4: 0, 5: 0, 6: 0, 7: 0, 8: 1, 9: 1, 10: 1, 11: 0, 12: 0, 13: 0, 14: 0}. \n"
          ]
        },
        {
          "name": "stderr",
          "output_type": "stream",
          "text": [
            "[I 2024-06-24 07:19:23,287] Trial 7 finished with values: [-0.7989075838712215, 4.838841601676619] and parameters: {0: 1, 1: 1, 2: 1, 3: 0, 4: 1, 5: 1, 6: 0, 7: 0, 8: 1, 9: 0, 10: 1, 11: 1, 12: 0, 13: 1, 14: 1}. \n"
          ]
        },
        {
          "name": "stdout",
          "output_type": "stream",
          "text": [
            "Trade times in sample: 118032 Trade times out sample: 118187\n",
            "Trial 7 finished with values: [-0.7989075838712215, 4.838841601676619] and parameters: {0: 1, 1: 1, 2: 1, 3: 0, 4: 1, 5: 1, 6: 0, 7: 0, 8: 1, 9: 0, 10: 1, 11: 1, 12: 0, 13: 1, 14: 1}. \n"
          ]
        },
        {
          "name": "stderr",
          "output_type": "stream",
          "text": [
            "[I 2024-06-24 07:19:24,677] Trial 8 finished with values: [-0.43133017137342633, 6.213855015365267] and parameters: {0: 1, 1: 0, 2: 1, 3: 0, 4: 0, 5: 0, 6: 0, 7: 0, 8: 0, 9: 0, 10: 1, 11: 0, 12: 1, 13: 1, 14: 1}. \n"
          ]
        },
        {
          "name": "stdout",
          "output_type": "stream",
          "text": [
            "Trade times in sample: 118119 Trade times out sample: 118187\n",
            "Trial 8 finished with values: [-0.43133017137342633, 6.213855015365267] and parameters: {0: 1, 1: 0, 2: 1, 3: 0, 4: 0, 5: 0, 6: 0, 7: 0, 8: 0, 9: 0, 10: 1, 11: 0, 12: 1, 13: 1, 14: 1}. \n"
          ]
        },
        {
          "name": "stderr",
          "output_type": "stream",
          "text": [
            "[I 2024-06-24 07:19:26,149] Trial 9 finished with values: [-1.084872639869474, 2.8131667444890787] and parameters: {0: 1, 1: 0, 2: 1, 3: 1, 4: 0, 5: 0, 6: 1, 7: 0, 8: 0, 9: 1, 10: 0, 11: 1, 12: 1, 13: 1, 14: 1}. \n"
          ]
        },
        {
          "name": "stdout",
          "output_type": "stream",
          "text": [
            "Trade times in sample: 118244 Trade times out sample: 118187\n",
            "Trial 9 finished with values: [-1.084872639869474, 2.8131667444890787] and parameters: {0: 1, 1: 0, 2: 1, 3: 1, 4: 0, 5: 0, 6: 1, 7: 0, 8: 0, 9: 1, 10: 0, 11: 1, 12: 1, 13: 1, 14: 1}. \n"
          ]
        },
        {
          "name": "stderr",
          "output_type": "stream",
          "text": [
            "[I 2024-06-24 07:19:27,558] Trial 10 finished with values: [-2.5201560956162345, 0.2060865061190913] and parameters: {0: 1, 1: 1, 2: 0, 3: 1, 4: 1, 5: 1, 6: 0, 7: 1, 8: 1, 9: 0, 10: 0, 11: 1, 12: 0, 13: 0, 14: 1}. \n"
          ]
        },
        {
          "name": "stdout",
          "output_type": "stream",
          "text": [
            "Trade times in sample: 118118 Trade times out sample: 118187\n",
            "Trial 10 finished with values: [-2.5201560956162345, 0.2060865061190913] and parameters: {0: 1, 1: 1, 2: 0, 3: 1, 4: 1, 5: 1, 6: 0, 7: 1, 8: 1, 9: 0, 10: 0, 11: 1, 12: 0, 13: 0, 14: 1}. \n"
          ]
        },
        {
          "name": "stderr",
          "output_type": "stream",
          "text": [
            "[I 2024-06-24 07:19:29,045] Trial 11 finished with values: [-1.4164298200046204, 1.6220468870069733] and parameters: {0: 0, 1: 1, 2: 1, 3: 0, 4: 1, 5: 1, 6: 0, 7: 0, 8: 1, 9: 0, 10: 0, 11: 1, 12: 1, 13: 1, 14: 1}. \n"
          ]
        },
        {
          "name": "stdout",
          "output_type": "stream",
          "text": [
            "Trade times in sample: 118118 Trade times out sample: 118188\n",
            "Trial 11 finished with values: [-1.4164298200046204, 1.6220468870069733] and parameters: {0: 0, 1: 1, 2: 1, 3: 0, 4: 1, 5: 1, 6: 0, 7: 0, 8: 1, 9: 0, 10: 0, 11: 1, 12: 1, 13: 1, 14: 1}. \n"
          ]
        },
        {
          "name": "stderr",
          "output_type": "stream",
          "text": [
            "[I 2024-06-24 07:19:30,318] Trial 12 finished with values: [-0.18503640583949482, 21.95678287126936] and parameters: {0: 0, 1: 0, 2: 0, 3: 0, 4: 1, 5: 0, 6: 0, 7: 0, 8: 1, 9: 1, 10: 0, 11: 0, 12: 1, 13: 1, 14: 0}. \n"
          ]
        },
        {
          "name": "stdout",
          "output_type": "stream",
          "text": [
            "Trade times in sample: 118003 Trade times out sample: 118187\n",
            "Trial 12 finished with values: [-0.18503640583949482, 21.95678287126936] and parameters: {0: 0, 1: 0, 2: 0, 3: 0, 4: 1, 5: 0, 6: 0, 7: 0, 8: 1, 9: 1, 10: 0, 11: 0, 12: 1, 13: 1, 14: 0}. \n"
          ]
        },
        {
          "name": "stderr",
          "output_type": "stream",
          "text": [
            "[I 2024-06-24 07:19:32,861] Trial 13 finished with values: [0.1879305477272836, 12.12299601963453] and parameters: {0: 1, 1: 1, 2: 0, 3: 1, 4: 0, 5: 0, 6: 0, 7: 1, 8: 1, 9: 1, 10: 1, 11: 1, 12: 0, 13: 0, 14: 1}. \n"
          ]
        },
        {
          "name": "stdout",
          "output_type": "stream",
          "text": [
            "Trade times in sample: 118244 Trade times out sample: 118187\n",
            "Trial 13 finished with values: [0.1879305477272836, 12.12299601963453] and parameters: {0: 1, 1: 1, 2: 0, 3: 1, 4: 0, 5: 0, 6: 0, 7: 1, 8: 1, 9: 1, 10: 1, 11: 1, 12: 0, 13: 0, 14: 1}. \n"
          ]
        },
        {
          "name": "stderr",
          "output_type": "stream",
          "text": [
            "[I 2024-06-24 07:19:34,988] Trial 14 finished with values: [0.6643919185085804, 2.5480747419388177] and parameters: {0: 0, 1: 1, 2: 0, 3: 0, 4: 1, 5: 0, 6: 1, 7: 0, 8: 0, 9: 1, 10: 1, 11: 1, 12: 0, 13: 1, 14: 0}. \n"
          ]
        },
        {
          "name": "stdout",
          "output_type": "stream",
          "text": [
            "Trade times in sample: 115097 Trade times out sample: 118198\n",
            "Trial 14 finished with values: [0.6643919185085804, 2.5480747419388177] and parameters: {0: 0, 1: 1, 2: 0, 3: 0, 4: 1, 5: 0, 6: 1, 7: 0, 8: 0, 9: 1, 10: 1, 11: 1, 12: 0, 13: 1, 14: 0}. \n"
          ]
        },
        {
          "name": "stderr",
          "output_type": "stream",
          "text": [
            "[I 2024-06-24 07:19:36,471] Trial 15 finished with values: [-1.1703889734442825, 2.229502113050323] and parameters: {0: 1, 1: 1, 2: 0, 3: 0, 4: 0, 5: 1, 6: 1, 7: 1, 8: 1, 9: 1, 10: 0, 11: 1, 12: 1, 13: 0, 14: 1}. \n"
          ]
        },
        {
          "name": "stdout",
          "output_type": "stream",
          "text": [
            "Trade times in sample: 118047 Trade times out sample: 118187\n",
            "Trial 15 finished with values: [-1.1703889734442825, 2.229502113050323] and parameters: {0: 1, 1: 1, 2: 0, 3: 0, 4: 0, 5: 1, 6: 1, 7: 1, 8: 1, 9: 1, 10: 0, 11: 1, 12: 1, 13: 0, 14: 1}. \n"
          ]
        },
        {
          "name": "stderr",
          "output_type": "stream",
          "text": [
            "[I 2024-06-24 07:19:37,765] Trial 16 finished with values: [-0.3976578248106128, 7.1764132808262975] and parameters: {0: 1, 1: 1, 2: 0, 3: 0, 4: 0, 5: 0, 6: 0, 7: 1, 8: 0, 9: 0, 10: 0, 11: 1, 12: 1, 13: 0, 14: 0}. \n"
          ]
        },
        {
          "name": "stdout",
          "output_type": "stream",
          "text": [
            "Trade times in sample: 116733 Trade times out sample: 118196\n",
            "Trial 16 finished with values: [-0.3976578248106128, 7.1764132808262975] and parameters: {0: 1, 1: 1, 2: 0, 3: 0, 4: 0, 5: 0, 6: 0, 7: 1, 8: 0, 9: 0, 10: 0, 11: 1, 12: 1, 13: 0, 14: 0}. \n"
          ]
        },
        {
          "name": "stderr",
          "output_type": "stream",
          "text": [
            "[I 2024-06-24 07:19:39,201] Trial 17 finished with values: [0.4700056194347705, 6.880636027124509] and parameters: {0: 1, 1: 0, 2: 1, 3: 1, 4: 0, 5: 0, 6: 0, 7: 0, 8: 1, 9: 1, 10: 0, 11: 1, 12: 1, 13: 0, 14: 1}. \n"
          ]
        },
        {
          "name": "stdout",
          "output_type": "stream",
          "text": [
            "Trade times in sample: 117856 Trade times out sample: 118187\n",
            "Trial 17 finished with values: [0.4700056194347705, 6.880636027124509] and parameters: {0: 1, 1: 0, 2: 1, 3: 1, 4: 0, 5: 0, 6: 0, 7: 0, 8: 1, 9: 1, 10: 0, 11: 1, 12: 1, 13: 0, 14: 1}. \n"
          ]
        },
        {
          "name": "stderr",
          "output_type": "stream",
          "text": [
            "[I 2024-06-24 07:19:40,657] Trial 18 finished with values: [-0.7257068809234212, 3.260988564804367] and parameters: {0: 1, 1: 1, 2: 0, 3: 1, 4: 1, 5: 0, 6: 1, 7: 1, 8: 0, 9: 1, 10: 0, 11: 1, 12: 1, 13: 0, 14: 1}. \n"
          ]
        },
        {
          "name": "stdout",
          "output_type": "stream",
          "text": [
            "Trade times in sample: 118244 Trade times out sample: 118187\n",
            "Trial 18 finished with values: [-0.7257068809234212, 3.260988564804367] and parameters: {0: 1, 1: 1, 2: 0, 3: 1, 4: 1, 5: 0, 6: 1, 7: 1, 8: 0, 9: 1, 10: 0, 11: 1, 12: 1, 13: 0, 14: 1}. \n"
          ]
        },
        {
          "name": "stderr",
          "output_type": "stream",
          "text": [
            "[I 2024-06-24 07:19:42,067] Trial 19 finished with values: [0.5491672176237642, 4.067749932805014] and parameters: {0: 0, 1: 1, 2: 0, 3: 0, 4: 1, 5: 0, 6: 0, 7: 1, 8: 0, 9: 1, 10: 1, 11: 0, 12: 1, 13: 1, 14: 1}. \n"
          ]
        },
        {
          "name": "stdout",
          "output_type": "stream",
          "text": [
            "Trade times in sample: 118257 Trade times out sample: 118187\n",
            "Trial 19 finished with values: [0.5491672176237642, 4.067749932805014] and parameters: {0: 0, 1: 1, 2: 0, 3: 0, 4: 1, 5: 0, 6: 0, 7: 1, 8: 0, 9: 1, 10: 1, 11: 0, 12: 1, 13: 1, 14: 1}. \n"
          ]
        },
        {
          "name": "stderr",
          "output_type": "stream",
          "text": [
            "[I 2024-06-24 07:19:43,411] Trial 20 finished with values: [-0.3970176343901081, 4.968192992334888] and parameters: {0: 0, 1: 1, 2: 0, 3: 0, 4: 0, 5: 0, 6: 0, 7: 0, 8: 0, 9: 1, 10: 1, 11: 1, 12: 1, 13: 0, 14: 1}. \n"
          ]
        },
        {
          "name": "stdout",
          "output_type": "stream",
          "text": [
            "Trade times in sample: 118119 Trade times out sample: 118187\n",
            "Trial 20 finished with values: [-0.3970176343901081, 4.968192992334888] and parameters: {0: 0, 1: 1, 2: 0, 3: 0, 4: 0, 5: 0, 6: 0, 7: 0, 8: 0, 9: 1, 10: 1, 11: 1, 12: 1, 13: 0, 14: 1}. \n"
          ]
        },
        {
          "name": "stderr",
          "output_type": "stream",
          "text": [
            "[I 2024-06-24 07:19:45,255] Trial 21 finished with values: [-0.4025013928476322, 4.2449434559011765] and parameters: {0: 0, 1: 0, 2: 0, 3: 1, 4: 0, 5: 0, 6: 0, 7: 0, 8: 1, 9: 1, 10: 1, 11: 0, 12: 0, 13: 0, 14: 0}. \n"
          ]
        },
        {
          "name": "stdout",
          "output_type": "stream",
          "text": [
            "Trade times in sample: 117856 Trade times out sample: 118187\n",
            "Trial 21 finished with values: [-0.4025013928476322, 4.2449434559011765] and parameters: {0: 0, 1: 0, 2: 0, 3: 1, 4: 0, 5: 0, 6: 0, 7: 0, 8: 1, 9: 1, 10: 1, 11: 0, 12: 0, 13: 0, 14: 0}. \n"
          ]
        },
        {
          "name": "stderr",
          "output_type": "stream",
          "text": [
            "[I 2024-06-24 07:19:47,560] Trial 22 finished with values: [-0.8210206904222928, 3.217540613818289] and parameters: {0: 1, 1: 1, 2: 0, 3: 0, 4: 1, 5: 0, 6: 1, 7: 0, 8: 1, 9: 1, 10: 0, 11: 1, 12: 1, 13: 1, 14: 1}. \n"
          ]
        },
        {
          "name": "stdout",
          "output_type": "stream",
          "text": [
            "Trade times in sample: 117554 Trade times out sample: 118187\n",
            "Trial 22 finished with values: [-0.8210206904222928, 3.217540613818289] and parameters: {0: 1, 1: 1, 2: 0, 3: 0, 4: 1, 5: 0, 6: 1, 7: 0, 8: 1, 9: 1, 10: 0, 11: 1, 12: 1, 13: 1, 14: 1}. \n"
          ]
        },
        {
          "name": "stderr",
          "output_type": "stream",
          "text": [
            "[I 2024-06-24 07:19:48,937] Trial 23 finished with values: [-0.3626657214450817, 8.078008143137966] and parameters: {0: 1, 1: 1, 2: 0, 3: 0, 4: 1, 5: 1, 6: 0, 7: 1, 8: 0, 9: 1, 10: 0, 11: 0, 12: 1, 13: 0, 14: 0}. \n"
          ]
        },
        {
          "name": "stdout",
          "output_type": "stream",
          "text": [
            "Trade times in sample: 117536 Trade times out sample: 118187\n",
            "Trial 23 finished with values: [-0.3626657214450817, 8.078008143137966] and parameters: {0: 1, 1: 1, 2: 0, 3: 0, 4: 1, 5: 1, 6: 0, 7: 1, 8: 0, 9: 1, 10: 0, 11: 0, 12: 1, 13: 0, 14: 0}. \n"
          ]
        },
        {
          "name": "stderr",
          "output_type": "stream",
          "text": [
            "[I 2024-06-24 07:19:50,184] Trial 24 finished with values: [1.2583195543818786, 0.1861901665411806] and parameters: {0: 0, 1: 0, 2: 0, 3: 0, 4: 1, 5: 0, 6: 0, 7: 0, 8: 0, 9: 0, 10: 1, 11: 1, 12: 0, 13: 0, 14: 1}. \n"
          ]
        },
        {
          "name": "stdout",
          "output_type": "stream",
          "text": [
            "Trade times in sample: 112830 Trade times out sample: 114128\n",
            "Trial 24 finished with values: [1.2583195543818786, 0.1861901665411806] and parameters: {0: 0, 1: 0, 2: 0, 3: 0, 4: 1, 5: 0, 6: 0, 7: 0, 8: 0, 9: 0, 10: 1, 11: 1, 12: 0, 13: 0, 14: 1}. \n"
          ]
        },
        {
          "name": "stderr",
          "output_type": "stream",
          "text": [
            "[I 2024-06-24 07:19:51,669] Trial 25 finished with values: [0.3709047037221614, 9.48381127578614] and parameters: {0: 1, 1: 1, 2: 0, 3: 1, 4: 1, 5: 1, 6: 0, 7: 1, 8: 0, 9: 1, 10: 1, 11: 1, 12: 1, 13: 1, 14: 0}. \n"
          ]
        },
        {
          "name": "stdout",
          "output_type": "stream",
          "text": [
            "Trade times in sample: 118118 Trade times out sample: 118188\n",
            "Trial 25 finished with values: [0.3709047037221614, 9.48381127578614] and parameters: {0: 1, 1: 1, 2: 0, 3: 1, 4: 1, 5: 1, 6: 0, 7: 1, 8: 0, 9: 1, 10: 1, 11: 1, 12: 1, 13: 1, 14: 0}. \n"
          ]
        },
        {
          "name": "stderr",
          "output_type": "stream",
          "text": [
            "[I 2024-06-24 07:19:53,162] Trial 26 finished with values: [0.5466094818150989, 5.830211915384946] and parameters: {0: 0, 1: 1, 2: 0, 3: 1, 4: 1, 5: 1, 6: 1, 7: 0, 8: 0, 9: 1, 10: 1, 11: 1, 12: 1, 13: 1, 14: 1}. \n"
          ]
        },
        {
          "name": "stdout",
          "output_type": "stream",
          "text": [
            "Trade times in sample: 118118 Trade times out sample: 118188\n",
            "Trial 26 finished with values: [0.5466094818150989, 5.830211915384946] and parameters: {0: 0, 1: 1, 2: 0, 3: 1, 4: 1, 5: 1, 6: 1, 7: 0, 8: 0, 9: 1, 10: 1, 11: 1, 12: 1, 13: 1, 14: 1}. \n"
          ]
        },
        {
          "name": "stderr",
          "output_type": "stream",
          "text": [
            "[I 2024-06-24 07:19:54,455] Trial 27 finished with values: [-0.9935440285574942, 0.6656378532132645] and parameters: {0: 1, 1: 0, 2: 1, 3: 0, 4: 0, 5: 0, 6: 0, 7: 1, 8: 0, 9: 1, 10: 0, 11: 1, 12: 0, 13: 0, 14: 0}. \n"
          ]
        },
        {
          "name": "stdout",
          "output_type": "stream",
          "text": [
            "Trade times in sample: 114360 Trade times out sample: 118248\n",
            "Trial 27 finished with values: [-0.9935440285574942, 0.6656378532132645] and parameters: {0: 1, 1: 0, 2: 1, 3: 0, 4: 0, 5: 0, 6: 0, 7: 1, 8: 0, 9: 1, 10: 0, 11: 1, 12: 0, 13: 0, 14: 0}. \n"
          ]
        },
        {
          "name": "stderr",
          "output_type": "stream",
          "text": [
            "[I 2024-06-24 07:19:55,807] Trial 28 finished with values: [-1.4222232872586673, 1.3282153722292396] and parameters: {0: 1, 1: 0, 2: 1, 3: 0, 4: 1, 5: 0, 6: 0, 7: 0, 8: 1, 9: 0, 10: 0, 11: 1, 12: 0, 13: 1, 14: 0}. \n"
          ]
        },
        {
          "name": "stdout",
          "output_type": "stream",
          "text": [
            "Trade times in sample: 117583 Trade times out sample: 118187\n",
            "Trial 28 finished with values: [-1.4222232872586673, 1.3282153722292396] and parameters: {0: 1, 1: 0, 2: 1, 3: 0, 4: 1, 5: 0, 6: 0, 7: 0, 8: 1, 9: 0, 10: 0, 11: 1, 12: 0, 13: 1, 14: 0}. \n"
          ]
        },
        {
          "name": "stderr",
          "output_type": "stream",
          "text": [
            "[I 2024-06-24 07:19:57,236] Trial 29 finished with values: [1.7346321416319814, 0.9431986553595777] and parameters: {0: 1, 1: 1, 2: 0, 3: 0, 4: 1, 5: 0, 6: 0, 7: 0, 8: 0, 9: 0, 10: 0, 11: 1, 12: 0, 13: 0, 14: 1}. \n"
          ]
        },
        {
          "name": "stdout",
          "output_type": "stream",
          "text": [
            "Trade times in sample: 117924 Trade times out sample: 118187\n",
            "Trial 29 finished with values: [1.7346321416319814, 0.9431986553595777] and parameters: {0: 1, 1: 1, 2: 0, 3: 0, 4: 1, 5: 0, 6: 0, 7: 0, 8: 0, 9: 0, 10: 0, 11: 1, 12: 0, 13: 0, 14: 1}. \n"
          ]
        },
        {
          "name": "stderr",
          "output_type": "stream",
          "text": [
            "[I 2024-06-24 07:19:59,746] Trial 30 finished with values: [-1.4176441191391065, 0.440162583592111] and parameters: {0: 0, 1: 1, 2: 0, 3: 1, 4: 1, 5: 1, 6: 0, 7: 0, 8: 0, 9: 0, 10: 0, 11: 0, 12: 0, 13: 0, 14: 0}. \n"
          ]
        },
        {
          "name": "stdout",
          "output_type": "stream",
          "text": [
            "Trade times in sample: 117345 Trade times out sample: 118187\n",
            "Trial 30 finished with values: [-1.4176441191391065, 0.440162583592111] and parameters: {0: 0, 1: 1, 2: 0, 3: 1, 4: 1, 5: 1, 6: 0, 7: 0, 8: 0, 9: 0, 10: 0, 11: 0, 12: 0, 13: 0, 14: 0}. \n"
          ]
        },
        {
          "name": "stderr",
          "output_type": "stream",
          "text": [
            "[I 2024-06-24 07:20:01,151] Trial 31 finished with values: [0.7687912618698728, 2.8989107128026794] and parameters: {0: 1, 1: 0, 2: 0, 3: 1, 4: 1, 5: 1, 6: 1, 7: 0, 8: 0, 9: 1, 10: 1, 11: 1, 12: 1, 13: 0, 14: 0}. \n"
          ]
        },
        {
          "name": "stdout",
          "output_type": "stream",
          "text": [
            "Trade times in sample: 117926 Trade times out sample: 118187\n",
            "Trial 31 finished with values: [0.7687912618698728, 2.8989107128026794] and parameters: {0: 1, 1: 0, 2: 0, 3: 1, 4: 1, 5: 1, 6: 1, 7: 0, 8: 0, 9: 1, 10: 1, 11: 1, 12: 1, 13: 0, 14: 0}. \n"
          ]
        },
        {
          "name": "stderr",
          "output_type": "stream",
          "text": [
            "[I 2024-06-24 07:20:02,549] Trial 32 finished with values: [-0.505583238862205, 6.368241846093181] and parameters: {0: 0, 1: 0, 2: 1, 3: 1, 4: 0, 5: 0, 6: 0, 7: 0, 8: 0, 9: 1, 10: 1, 11: 1, 12: 1, 13: 1, 14: 1}. \n"
          ]
        },
        {
          "name": "stdout",
          "output_type": "stream",
          "text": [
            "Trade times in sample: 117932 Trade times out sample: 117252\n",
            "Trial 32 finished with values: [-0.505583238862205, 6.368241846093181] and parameters: {0: 0, 1: 0, 2: 1, 3: 1, 4: 0, 5: 0, 6: 0, 7: 0, 8: 0, 9: 1, 10: 1, 11: 1, 12: 1, 13: 1, 14: 1}. \n"
          ]
        },
        {
          "name": "stderr",
          "output_type": "stream",
          "text": [
            "[I 2024-06-24 07:20:03,802] Trial 33 finished with values: [-0.581956414761993, 5.179278769786728] and parameters: {0: 0, 1: 0, 2: 0, 3: 1, 4: 1, 5: 0, 6: 0, 7: 0, 8: 1, 9: 0, 10: 0, 11: 1, 12: 0, 13: 1, 14: 0}. \n"
          ]
        },
        {
          "name": "stdout",
          "output_type": "stream",
          "text": [
            "Trade times in sample: 117583 Trade times out sample: 118188\n",
            "Trial 33 finished with values: [-0.581956414761993, 5.179278769786728] and parameters: {0: 0, 1: 0, 2: 0, 3: 1, 4: 1, 5: 0, 6: 0, 7: 0, 8: 1, 9: 0, 10: 0, 11: 1, 12: 0, 13: 1, 14: 0}. \n"
          ]
        },
        {
          "name": "stderr",
          "output_type": "stream",
          "text": [
            "[I 2024-06-24 07:20:05,087] Trial 34 finished with values: [-0.6826205480672385, 1.0866180625212776] and parameters: {0: 0, 1: 1, 2: 0, 3: 0, 4: 0, 5: 0, 6: 0, 7: 0, 8: 0, 9: 0, 10: 1, 11: 0, 12: 0, 13: 0, 14: 1}. \n"
          ]
        },
        {
          "name": "stdout",
          "output_type": "stream",
          "text": [
            "Trade times in sample: 117293 Trade times out sample: 118187\n",
            "Trial 34 finished with values: [-0.6826205480672385, 1.0866180625212776] and parameters: {0: 0, 1: 1, 2: 0, 3: 0, 4: 0, 5: 0, 6: 0, 7: 0, 8: 0, 9: 0, 10: 1, 11: 0, 12: 0, 13: 0, 14: 1}. \n"
          ]
        },
        {
          "name": "stderr",
          "output_type": "stream",
          "text": [
            "[I 2024-06-24 07:20:06,553] Trial 35 finished with values: [-1.4135359481130394, 1.2230116968030802] and parameters: {0: 1, 1: 1, 2: 1, 3: 1, 4: 0, 5: 1, 6: 1, 7: 1, 8: 0, 9: 0, 10: 0, 11: 1, 12: 1, 13: 1, 14: 0}. \n"
          ]
        },
        {
          "name": "stdout",
          "output_type": "stream",
          "text": [
            "Trade times in sample: 118118 Trade times out sample: 118188\n",
            "Trial 35 finished with values: [-1.4135359481130394, 1.2230116968030802] and parameters: {0: 1, 1: 1, 2: 1, 3: 1, 4: 0, 5: 1, 6: 1, 7: 1, 8: 0, 9: 0, 10: 0, 11: 1, 12: 1, 13: 1, 14: 0}. \n"
          ]
        },
        {
          "name": "stderr",
          "output_type": "stream",
          "text": [
            "[I 2024-06-24 07:20:08,409] Trial 36 finished with values: [-0.09005210782566747, 43.11867326268689] and parameters: {0: 1, 1: 0, 2: 1, 3: 0, 4: 1, 5: 1, 6: 1, 7: 0, 8: 1, 9: 1, 10: 0, 11: 0, 12: 1, 13: 1, 14: 0}. \n"
          ]
        },
        {
          "name": "stdout",
          "output_type": "stream",
          "text": [
            "Trade times in sample: 117853 Trade times out sample: 117753\n",
            "Trial 36 finished with values: [-0.09005210782566747, 43.11867326268689] and parameters: {0: 1, 1: 0, 2: 1, 3: 0, 4: 1, 5: 1, 6: 1, 7: 0, 8: 1, 9: 1, 10: 0, 11: 0, 12: 1, 13: 1, 14: 0}. \n"
          ]
        },
        {
          "name": "stderr",
          "output_type": "stream",
          "text": [
            "[I 2024-06-24 07:20:10,032] Trial 37 finished with values: [-0.17411254701465495, 21.90914000736565] and parameters: {0: 1, 1: 0, 2: 1, 3: 1, 4: 1, 5: 1, 6: 1, 7: 0, 8: 1, 9: 0, 10: 1, 11: 0, 12: 1, 13: 0, 14: 1}. \n"
          ]
        },
        {
          "name": "stdout",
          "output_type": "stream",
          "text": [
            "Trade times in sample: 118119 Trade times out sample: 118187\n",
            "Trial 37 finished with values: [-0.17411254701465495, 21.90914000736565] and parameters: {0: 1, 1: 0, 2: 1, 3: 1, 4: 1, 5: 1, 6: 1, 7: 0, 8: 1, 9: 0, 10: 1, 11: 0, 12: 1, 13: 0, 14: 1}. \n"
          ]
        },
        {
          "name": "stderr",
          "output_type": "stream",
          "text": [
            "[I 2024-06-24 07:20:12,923] Trial 38 finished with values: [-0.8644078233919001, 3.3297827237064688] and parameters: {0: 0, 1: 0, 2: 1, 3: 1, 4: 0, 5: 1, 6: 1, 7: 0, 8: 0, 9: 1, 10: 1, 11: 0, 12: 0, 13: 1, 14: 1}. \n"
          ]
        },
        {
          "name": "stdout",
          "output_type": "stream",
          "text": [
            "Trade times in sample: 118155 Trade times out sample: 117284\n",
            "Trial 38 finished with values: [-0.8644078233919001, 3.3297827237064688] and parameters: {0: 0, 1: 0, 2: 1, 3: 1, 4: 0, 5: 1, 6: 1, 7: 0, 8: 0, 9: 1, 10: 1, 11: 0, 12: 0, 13: 1, 14: 1}. \n"
          ]
        },
        {
          "name": "stderr",
          "output_type": "stream",
          "text": [
            "[I 2024-06-24 07:20:14,163] Trial 39 finished with values: [-0.7485696485402051, 3.1108140114141047] and parameters: {0: 0, 1: 0, 2: 0, 3: 0, 4: 0, 5: 0, 6: 1, 7: 0, 8: 1, 9: 0, 10: 0, 11: 1, 12: 0, 13: 1, 14: 0}. \n"
          ]
        },
        {
          "name": "stdout",
          "output_type": "stream",
          "text": [
            "Trade times in sample: 117583 Trade times out sample: 118187\n",
            "Trial 39 finished with values: [-0.7485696485402051, 3.1108140114141047] and parameters: {0: 0, 1: 0, 2: 0, 3: 0, 4: 0, 5: 0, 6: 1, 7: 0, 8: 1, 9: 0, 10: 0, 11: 1, 12: 0, 13: 1, 14: 0}. \n"
          ]
        },
        {
          "name": "stderr",
          "output_type": "stream",
          "text": [
            "[I 2024-06-24 07:20:15,792] Trial 40 finished with values: [-0.26366912059244896, 13.414215726249012] and parameters: {0: 1, 1: 1, 2: 1, 3: 1, 4: 0, 5: 1, 6: 0, 7: 0, 8: 1, 9: 1, 10: 1, 11: 0, 12: 1, 13: 1, 14: 1}. \n"
          ]
        },
        {
          "name": "stdout",
          "output_type": "stream",
          "text": [
            "Trade times in sample: 118119 Trade times out sample: 118187\n",
            "Trial 40 finished with values: [-0.26366912059244896, 13.414215726249012] and parameters: {0: 1, 1: 1, 2: 1, 3: 1, 4: 0, 5: 1, 6: 0, 7: 0, 8: 1, 9: 1, 10: 1, 11: 0, 12: 1, 13: 1, 14: 1}. \n"
          ]
        },
        {
          "name": "stderr",
          "output_type": "stream",
          "text": [
            "[I 2024-06-24 07:20:17,360] Trial 41 finished with values: [-0.8142151415215257, 3.611058777144282] and parameters: {0: 1, 1: 1, 2: 1, 3: 0, 4: 0, 5: 0, 6: 0, 7: 0, 8: 0, 9: 1, 10: 1, 11: 0, 12: 1, 13: 1, 14: 1}. \n"
          ]
        },
        {
          "name": "stdout",
          "output_type": "stream",
          "text": [
            "Trade times in sample: 118047 Trade times out sample: 118187\n",
            "Trial 41 finished with values: [-0.8142151415215257, 3.611058777144282] and parameters: {0: 1, 1: 1, 2: 1, 3: 0, 4: 0, 5: 0, 6: 0, 7: 0, 8: 0, 9: 1, 10: 1, 11: 0, 12: 1, 13: 1, 14: 1}. \n"
          ]
        },
        {
          "name": "stderr",
          "output_type": "stream",
          "text": [
            "[I 2024-06-24 07:20:18,811] Trial 42 finished with values: [-0.2580305358657932, 13.798382530729413] and parameters: {0: 0, 1: 1, 2: 0, 3: 0, 4: 0, 5: 0, 6: 0, 7: 1, 8: 1, 9: 1, 10: 0, 11: 1, 12: 0, 13: 1, 14: 1}. \n"
          ]
        },
        {
          "name": "stdout",
          "output_type": "stream",
          "text": [
            "Trade times in sample: 117590 Trade times out sample: 117231\n",
            "Trial 42 finished with values: [-0.2580305358657932, 13.798382530729413] and parameters: {0: 0, 1: 1, 2: 0, 3: 0, 4: 0, 5: 0, 6: 0, 7: 1, 8: 1, 9: 1, 10: 0, 11: 1, 12: 0, 13: 1, 14: 1}. \n"
          ]
        },
        {
          "name": "stderr",
          "output_type": "stream",
          "text": [
            "[I 2024-06-24 07:20:20,169] Trial 43 finished with values: [-0.8278161974403216, 2.7178815173335904] and parameters: {0: 1, 1: 1, 2: 0, 3: 0, 4: 0, 5: 0, 6: 0, 7: 1, 8: 1, 9: 0, 10: 0, 11: 1, 12: 0, 13: 0, 14: 1}. \n"
          ]
        },
        {
          "name": "stdout",
          "output_type": "stream",
          "text": [
            "Trade times in sample: 118244 Trade times out sample: 118187\n",
            "Trial 43 finished with values: [-0.8278161974403216, 2.7178815173335904] and parameters: {0: 1, 1: 1, 2: 0, 3: 0, 4: 0, 5: 0, 6: 0, 7: 1, 8: 1, 9: 0, 10: 0, 11: 1, 12: 0, 13: 0, 14: 1}. \n"
          ]
        },
        {
          "name": "stderr",
          "output_type": "stream",
          "text": [
            "[I 2024-06-24 07:20:21,593] Trial 44 finished with values: [-1.3729772940732479, 1.9580430313721497] and parameters: {0: 0, 1: 0, 2: 0, 3: 1, 4: 0, 5: 1, 6: 0, 7: 0, 8: 1, 9: 1, 10: 1, 11: 1, 12: 0, 13: 1, 14: 1}. \n"
          ]
        },
        {
          "name": "stdout",
          "output_type": "stream",
          "text": [
            "Trade times in sample: 117536 Trade times out sample: 118187\n",
            "Trial 44 finished with values: [-1.3729772940732479, 1.9580430313721497] and parameters: {0: 0, 1: 0, 2: 0, 3: 1, 4: 0, 5: 1, 6: 0, 7: 0, 8: 1, 9: 1, 10: 1, 11: 1, 12: 0, 13: 1, 14: 1}. \n"
          ]
        },
        {
          "name": "stderr",
          "output_type": "stream",
          "text": [
            "[I 2024-06-24 07:20:23,428] Trial 45 finished with values: [-0.45697798302069353, 3.950795679050093] and parameters: {0: 0, 1: 1, 2: 1, 3: 1, 4: 0, 5: 0, 6: 0, 7: 0, 8: 0, 9: 1, 10: 1, 11: 0, 12: 0, 13: 0, 14: 1}. \n"
          ]
        },
        {
          "name": "stdout",
          "output_type": "stream",
          "text": [
            "Trade times in sample: 118155 Trade times out sample: 118187\n",
            "Trial 45 finished with values: [-0.45697798302069353, 3.950795679050093] and parameters: {0: 0, 1: 1, 2: 1, 3: 1, 4: 0, 5: 0, 6: 0, 7: 0, 8: 0, 9: 1, 10: 1, 11: 0, 12: 0, 13: 0, 14: 1}. \n"
          ]
        },
        {
          "name": "stderr",
          "output_type": "stream",
          "text": [
            "[I 2024-06-24 07:20:25,980] Trial 46 finished with values: [0.005009130142714644, 755.1084422434811] and parameters: {0: 0, 1: 0, 2: 1, 3: 1, 4: 0, 5: 1, 6: 0, 7: 1, 8: 0, 9: 0, 10: 0, 11: 0, 12: 1, 13: 1, 14: 0}. \n"
          ]
        },
        {
          "name": "stdout",
          "output_type": "stream",
          "text": [
            "Trade times in sample: 117926 Trade times out sample: 118258\n",
            "Trial 46 finished with values: [0.005009130142714644, 755.1084422434811] and parameters: {0: 0, 1: 0, 2: 1, 3: 1, 4: 0, 5: 1, 6: 0, 7: 1, 8: 0, 9: 0, 10: 0, 11: 0, 12: 1, 13: 1, 14: 0}. \n"
          ]
        },
        {
          "name": "stderr",
          "output_type": "stream",
          "text": [
            "[I 2024-06-24 07:20:27,287] Trial 47 finished with values: [0.2835103166806687, 7.374461849454567] and parameters: {0: 0, 1: 0, 2: 1, 3: 0, 4: 0, 5: 0, 6: 1, 7: 0, 8: 0, 9: 1, 10: 0, 11: 1, 12: 0, 13: 0, 14: 1}. \n"
          ]
        },
        {
          "name": "stdout",
          "output_type": "stream",
          "text": [
            "Trade times in sample: 118244 Trade times out sample: 118187\n",
            "Trial 47 finished with values: [0.2835103166806687, 7.374461849454567] and parameters: {0: 0, 1: 0, 2: 1, 3: 0, 4: 0, 5: 0, 6: 1, 7: 0, 8: 0, 9: 1, 10: 0, 11: 1, 12: 0, 13: 0, 14: 1}. \n"
          ]
        },
        {
          "name": "stderr",
          "output_type": "stream",
          "text": [
            "[I 2024-06-24 07:20:28,742] Trial 48 finished with values: [-0.95834467649021, 2.401817960596829] and parameters: {0: 1, 1: 1, 2: 1, 3: 0, 4: 0, 5: 1, 6: 1, 7: 0, 8: 1, 9: 1, 10: 0, 11: 0, 12: 0, 13: 1, 14: 0}. \n"
          ]
        },
        {
          "name": "stdout",
          "output_type": "stream",
          "text": [
            "Trade times in sample: 117856 Trade times out sample: 118197\n",
            "Trial 48 finished with values: [-0.95834467649021, 2.401817960596829] and parameters: {0: 1, 1: 1, 2: 1, 3: 0, 4: 0, 5: 1, 6: 1, 7: 0, 8: 1, 9: 1, 10: 0, 11: 0, 12: 0, 13: 1, 14: 0}. \n"
          ]
        },
        {
          "name": "stderr",
          "output_type": "stream",
          "text": [
            "[I 2024-06-24 07:20:30,250] Trial 49 finished with values: [-0.19925233315127697, 18.071609949945433] and parameters: {0: 0, 1: 0, 2: 1, 3: 1, 4: 1, 5: 1, 6: 1, 7: 0, 8: 1, 9: 1, 10: 1, 11: 0, 12: 0, 13: 1, 14: 1}. \n"
          ]
        },
        {
          "name": "stdout",
          "output_type": "stream",
          "text": [
            "Trade times in sample: 117932 Trade times out sample: 118187\n",
            "Trial 49 finished with values: [-0.19925233315127697, 18.071609949945433] and parameters: {0: 0, 1: 0, 2: 1, 3: 1, 4: 1, 5: 1, 6: 1, 7: 0, 8: 1, 9: 1, 10: 1, 11: 0, 12: 0, 13: 1, 14: 1}. \n"
          ]
        },
        {
          "name": "stderr",
          "output_type": "stream",
          "text": [
            "[I 2024-06-24 07:20:31,651] Trial 50 finished with values: [-0.9641637177370391, 2.118372899755772] and parameters: {0: 1, 1: 0, 2: 0, 3: 1, 4: 0, 5: 0, 6: 0, 7: 1, 8: 1, 9: 1, 10: 1, 11: 1, 12: 0, 13: 0, 14: 1}. \n"
          ]
        },
        {
          "name": "stdout",
          "output_type": "stream",
          "text": [
            "Trade times in sample: 117579 Trade times out sample: 118187\n",
            "Trial 50 finished with values: [-0.9641637177370391, 2.118372899755772] and parameters: {0: 1, 1: 0, 2: 0, 3: 1, 4: 0, 5: 0, 6: 0, 7: 1, 8: 1, 9: 1, 10: 1, 11: 1, 12: 0, 13: 0, 14: 1}. \n"
          ]
        },
        {
          "name": "stderr",
          "output_type": "stream",
          "text": [
            "[I 2024-06-24 07:20:33,020] Trial 51 finished with values: [-0.12117260850541287, 21.901196374863698] and parameters: {0: 0, 1: 0, 2: 1, 3: 1, 4: 0, 5: 0, 6: 1, 7: 0, 8: 0, 9: 1, 10: 0, 11: 0, 12: 0, 13: 0, 14: 1}. \n"
          ]
        },
        {
          "name": "stdout",
          "output_type": "stream",
          "text": [
            "Trade times in sample: 117926 Trade times out sample: 118187\n",
            "Trial 51 finished with values: [-0.12117260850541287, 21.901196374863698] and parameters: {0: 0, 1: 0, 2: 1, 3: 1, 4: 0, 5: 0, 6: 1, 7: 0, 8: 0, 9: 1, 10: 0, 11: 0, 12: 0, 13: 0, 14: 1}. \n"
          ]
        },
        {
          "name": "stderr",
          "output_type": "stream",
          "text": [
            "[I 2024-06-24 07:20:34,481] Trial 52 finished with values: [-0.8672416581105856, 3.536656779804744] and parameters: {0: 1, 1: 0, 2: 1, 3: 1, 4: 1, 5: 1, 6: 1, 7: 1, 8: 1, 9: 0, 10: 0, 11: 1, 12: 1, 13: 0, 14: 0}. \n"
          ]
        },
        {
          "name": "stdout",
          "output_type": "stream",
          "text": [
            "Trade times in sample: 117537 Trade times out sample: 118187\n",
            "Trial 52 finished with values: [-0.8672416581105856, 3.536656779804744] and parameters: {0: 1, 1: 0, 2: 1, 3: 1, 4: 1, 5: 1, 6: 1, 7: 1, 8: 1, 9: 0, 10: 0, 11: 1, 12: 1, 13: 0, 14: 0}. \n"
          ]
        },
        {
          "name": "stderr",
          "output_type": "stream",
          "text": [
            "[I 2024-06-24 07:20:36,075] Trial 53 finished with values: [0.3952638460343661, 5.6446194622207075] and parameters: {0: 0, 1: 1, 2: 0, 3: 0, 4: 1, 5: 0, 6: 1, 7: 0, 8: 0, 9: 1, 10: 1, 11: 1, 12: 1, 13: 1, 14: 1}. \n"
          ]
        },
        {
          "name": "stdout",
          "output_type": "stream",
          "text": [
            "Trade times in sample: 118257 Trade times out sample: 118187\n",
            "Trial 53 finished with values: [0.3952638460343661, 5.6446194622207075] and parameters: {0: 0, 1: 1, 2: 0, 3: 0, 4: 1, 5: 0, 6: 1, 7: 0, 8: 0, 9: 1, 10: 1, 11: 1, 12: 1, 13: 1, 14: 1}. \n"
          ]
        },
        {
          "name": "stderr",
          "output_type": "stream",
          "text": [
            "[I 2024-06-24 07:20:38,965] Trial 54 finished with values: [0.5838091301166225, 3.8758793119539394] and parameters: {0: 1, 1: 0, 2: 1, 3: 1, 4: 1, 5: 1, 6: 0, 7: 0, 8: 1, 9: 0, 10: 0, 11: 1, 12: 0, 13: 0, 14: 0}. \n"
          ]
        },
        {
          "name": "stdout",
          "output_type": "stream",
          "text": [
            "Trade times in sample: 118130 Trade times out sample: 118187\n",
            "Trial 54 finished with values: [0.5838091301166225, 3.8758793119539394] and parameters: {0: 1, 1: 0, 2: 1, 3: 1, 4: 1, 5: 1, 6: 0, 7: 0, 8: 1, 9: 0, 10: 0, 11: 1, 12: 0, 13: 0, 14: 0}. \n"
          ]
        },
        {
          "name": "stderr",
          "output_type": "stream",
          "text": [
            "[I 2024-06-24 07:20:40,322] Trial 55 finished with values: [-0.18886040647217667, 20.221506621191413] and parameters: {0: 0, 1: 0, 2: 0, 3: 0, 4: 1, 5: 0, 6: 0, 7: 0, 8: 1, 9: 1, 10: 0, 11: 1, 12: 1, 13: 1, 14: 0}. \n"
          ]
        },
        {
          "name": "stdout",
          "output_type": "stream",
          "text": [
            "Trade times in sample: 117583 Trade times out sample: 118187\n",
            "Trial 55 finished with values: [-0.18886040647217667, 20.221506621191413] and parameters: {0: 0, 1: 0, 2: 0, 3: 0, 4: 1, 5: 0, 6: 0, 7: 0, 8: 1, 9: 1, 10: 0, 11: 1, 12: 1, 13: 1, 14: 0}. \n"
          ]
        },
        {
          "name": "stderr",
          "output_type": "stream",
          "text": [
            "[I 2024-06-24 07:20:41,808] Trial 56 finished with values: [-0.24565910102401048, 12.953215220292636] and parameters: {0: 0, 1: 1, 2: 1, 3: 1, 4: 1, 5: 1, 6: 0, 7: 0, 8: 0, 9: 1, 10: 0, 11: 1, 12: 0, 13: 1, 14: 0}. \n"
          ]
        },
        {
          "name": "stdout",
          "output_type": "stream",
          "text": [
            "Trade times in sample: 117924 Trade times out sample: 118198\n",
            "Trial 56 finished with values: [-0.24565910102401048, 12.953215220292636] and parameters: {0: 0, 1: 1, 2: 1, 3: 1, 4: 1, 5: 1, 6: 0, 7: 0, 8: 0, 9: 1, 10: 0, 11: 1, 12: 0, 13: 1, 14: 0}. \n"
          ]
        },
        {
          "name": "stderr",
          "output_type": "stream",
          "text": [
            "[I 2024-06-24 07:20:43,279] Trial 57 finished with values: [-0.4464221176602056, 6.093077602407426] and parameters: {0: 1, 1: 1, 2: 1, 3: 0, 4: 0, 5: 1, 6: 0, 7: 0, 8: 1, 9: 1, 10: 1, 11: 0, 12: 0, 13: 0, 14: 1}. \n"
          ]
        },
        {
          "name": "stdout",
          "output_type": "stream",
          "text": [
            "Trade times in sample: 117914 Trade times out sample: 118187\n",
            "Trial 57 finished with values: [-0.4464221176602056, 6.093077602407426] and parameters: {0: 1, 1: 1, 2: 1, 3: 0, 4: 0, 5: 1, 6: 0, 7: 0, 8: 1, 9: 1, 10: 1, 11: 0, 12: 0, 13: 0, 14: 1}. \n"
          ]
        },
        {
          "name": "stderr",
          "output_type": "stream",
          "text": [
            "[I 2024-06-24 07:20:44,748] Trial 58 finished with values: [-0.6007773450939075, 4.484579091784042] and parameters: {0: 1, 1: 1, 2: 0, 3: 1, 4: 1, 5: 0, 6: 1, 7: 0, 8: 0, 9: 1, 10: 0, 11: 1, 12: 1, 13: 0, 14: 1}. \n"
          ]
        },
        {
          "name": "stdout",
          "output_type": "stream",
          "text": [
            "Trade times in sample: 118047 Trade times out sample: 118187\n",
            "Trial 58 finished with values: [-0.6007773450939075, 4.484579091784042] and parameters: {0: 1, 1: 1, 2: 0, 3: 1, 4: 1, 5: 0, 6: 1, 7: 0, 8: 0, 9: 1, 10: 0, 11: 1, 12: 1, 13: 0, 14: 1}. \n"
          ]
        },
        {
          "name": "stderr",
          "output_type": "stream",
          "text": [
            "[I 2024-06-24 07:20:46,378] Trial 59 finished with values: [-0.44278787516815826, 7.16509438969555] and parameters: {0: 1, 1: 1, 2: 1, 3: 0, 4: 0, 5: 1, 6: 1, 7: 1, 8: 1, 9: 1, 10: 0, 11: 0, 12: 1, 13: 1, 14: 1}. \n"
          ]
        },
        {
          "name": "stdout",
          "output_type": "stream",
          "text": [
            "Trade times in sample: 118244 Trade times out sample: 118187\n",
            "Trial 59 finished with values: [-0.44278787516815826, 7.16509438969555] and parameters: {0: 1, 1: 1, 2: 1, 3: 0, 4: 0, 5: 1, 6: 1, 7: 1, 8: 1, 9: 1, 10: 0, 11: 0, 12: 1, 13: 1, 14: 1}. \n"
          ]
        },
        {
          "name": "stderr",
          "output_type": "stream",
          "text": [
            "[I 2024-06-24 07:20:47,856] Trial 60 finished with values: [0.3793920094368855, 8.194763004365742] and parameters: {0: 1, 1: 1, 2: 1, 3: 0, 4: 1, 5: 0, 6: 1, 7: 0, 8: 0, 9: 1, 10: 1, 11: 0, 12: 0, 13: 1, 14: 0}. \n"
          ]
        },
        {
          "name": "stdout",
          "output_type": "stream",
          "text": [
            "Trade times in sample: 117926 Trade times out sample: 118188\n",
            "Trial 60 finished with values: [0.3793920094368855, 8.194763004365742] and parameters: {0: 1, 1: 1, 2: 1, 3: 0, 4: 1, 5: 0, 6: 1, 7: 0, 8: 0, 9: 1, 10: 1, 11: 0, 12: 0, 13: 1, 14: 0}. \n"
          ]
        },
        {
          "name": "stderr",
          "output_type": "stream",
          "text": [
            "[I 2024-06-24 07:20:50,089] Trial 61 finished with values: [-1.0753106901945448, 1.879043838001774] and parameters: {0: 1, 1: 0, 2: 1, 3: 1, 4: 1, 5: 1, 6: 1, 7: 1, 8: 1, 9: 0, 10: 0, 11: 0, 12: 1, 13: 1, 14: 0}. \n"
          ]
        },
        {
          "name": "stdout",
          "output_type": "stream",
          "text": [
            "Trade times in sample: 118005 Trade times out sample: 118258\n",
            "Trial 61 finished with values: [-1.0753106901945448, 1.879043838001774] and parameters: {0: 1, 1: 0, 2: 1, 3: 1, 4: 1, 5: 1, 6: 1, 7: 1, 8: 1, 9: 0, 10: 0, 11: 0, 12: 1, 13: 1, 14: 0}. \n"
          ]
        },
        {
          "name": "stderr",
          "output_type": "stream",
          "text": [
            "[I 2024-06-24 07:20:52,306] Trial 62 finished with values: [1.0423524874366026, 1.0532308496231018] and parameters: {0: 0, 1: 1, 2: 0, 3: 1, 4: 0, 5: 0, 6: 0, 7: 0, 8: 0, 9: 0, 10: 1, 11: 1, 12: 0, 13: 0, 14: 1}. \n"
          ]
        },
        {
          "name": "stdout",
          "output_type": "stream",
          "text": [
            "Trade times in sample: 117537 Trade times out sample: 118187\n",
            "Trial 62 finished with values: [1.0423524874366026, 1.0532308496231018] and parameters: {0: 0, 1: 1, 2: 0, 3: 1, 4: 0, 5: 0, 6: 0, 7: 0, 8: 0, 9: 0, 10: 1, 11: 1, 12: 0, 13: 0, 14: 1}. \n"
          ]
        },
        {
          "name": "stderr",
          "output_type": "stream",
          "text": [
            "[I 2024-06-24 07:20:53,698] Trial 63 finished with values: [0.8970160060310544, 3.9110451766451497] and parameters: {0: 1, 1: 0, 2: 0, 3: 1, 4: 1, 5: 0, 6: 1, 7: 0, 8: 0, 9: 0, 10: 1, 11: 1, 12: 1, 13: 0, 14: 1}. \n"
          ]
        },
        {
          "name": "stdout",
          "output_type": "stream",
          "text": [
            "Trade times in sample: 118047 Trade times out sample: 116275\n",
            "Trial 63 finished with values: [0.8970160060310544, 3.9110451766451497] and parameters: {0: 1, 1: 0, 2: 0, 3: 1, 4: 1, 5: 0, 6: 1, 7: 0, 8: 0, 9: 0, 10: 1, 11: 1, 12: 1, 13: 0, 14: 1}. \n"
          ]
        },
        {
          "name": "stderr",
          "output_type": "stream",
          "text": [
            "[I 2024-06-24 07:20:56,213] Trial 64 finished with values: [-0.5634610771808412, 5.25573775563016] and parameters: {0: 0, 1: 1, 2: 1, 3: 0, 4: 0, 5: 1, 6: 0, 7: 0, 8: 0, 9: 1, 10: 0, 11: 1, 12: 1, 13: 1, 14: 1}. \n"
          ]
        },
        {
          "name": "stdout",
          "output_type": "stream",
          "text": [
            "Trade times in sample: 117926 Trade times out sample: 118188\n",
            "Trial 64 finished with values: [-0.5634610771808412, 5.25573775563016] and parameters: {0: 0, 1: 1, 2: 1, 3: 0, 4: 0, 5: 1, 6: 0, 7: 0, 8: 0, 9: 1, 10: 0, 11: 1, 12: 1, 13: 1, 14: 1}. \n"
          ]
        },
        {
          "name": "stderr",
          "output_type": "stream",
          "text": [
            "[I 2024-06-24 07:21:01,519] Trial 65 finished with values: [0.04867314546913199, 75.88278805779082] and parameters: {0: 1, 1: 1, 2: 1, 3: 1, 4: 0, 5: 1, 6: 0, 7: 1, 8: 0, 9: 0, 10: 0, 11: 1, 12: 0, 13: 0, 14: 1}. \n"
          ]
        },
        {
          "name": "stdout",
          "output_type": "stream",
          "text": [
            "Trade times in sample: 118244 Trade times out sample: 118187\n",
            "Trial 65 finished with values: [0.04867314546913199, 75.88278805779082] and parameters: {0: 1, 1: 1, 2: 1, 3: 1, 4: 0, 5: 1, 6: 0, 7: 1, 8: 0, 9: 0, 10: 0, 11: 1, 12: 0, 13: 0, 14: 1}. \n"
          ]
        },
        {
          "name": "stderr",
          "output_type": "stream",
          "text": [
            "[I 2024-06-24 07:21:08,434] Trial 66 finished with values: [0.08498428795120082, 44.64566354781536] and parameters: {0: 1, 1: 0, 2: 1, 3: 0, 4: 1, 5: 1, 6: 0, 7: 0, 8: 1, 9: 1, 10: 0, 11: 1, 12: 0, 13: 1, 14: 1}. \n"
          ]
        },
        {
          "name": "stdout",
          "output_type": "stream",
          "text": [
            "Trade times in sample: 117670 Trade times out sample: 118187\n",
            "Trial 66 finished with values: [0.08498428795120082, 44.64566354781536] and parameters: {0: 1, 1: 0, 2: 1, 3: 0, 4: 1, 5: 1, 6: 0, 7: 0, 8: 1, 9: 1, 10: 0, 11: 1, 12: 0, 13: 1, 14: 1}. \n"
          ]
        },
        {
          "name": "stderr",
          "output_type": "stream",
          "text": [
            "[I 2024-06-24 07:21:10,646] Trial 67 finished with values: [0.009866561234238208, 369.82919422625037] and parameters: {0: 1, 1: 1, 2: 1, 3: 1, 4: 0, 5: 0, 6: 0, 7: 0, 8: 1, 9: 1, 10: 1, 11: 0, 12: 1, 13: 1, 14: 1}. \n"
          ]
        },
        {
          "name": "stdout",
          "output_type": "stream",
          "text": [
            "Trade times in sample: 117856 Trade times out sample: 118187\n",
            "Trial 67 finished with values: [0.009866561234238208, 369.82919422625037] and parameters: {0: 1, 1: 1, 2: 1, 3: 1, 4: 0, 5: 0, 6: 0, 7: 0, 8: 1, 9: 1, 10: 1, 11: 0, 12: 1, 13: 1, 14: 1}. \n"
          ]
        },
        {
          "name": "stderr",
          "output_type": "stream",
          "text": [
            "[I 2024-06-24 07:21:12,115] Trial 68 finished with values: [-0.43922186663984786, 5.1693157340244635] and parameters: {0: 0, 1: 1, 2: 1, 3: 0, 4: 0, 5: 0, 6: 0, 7: 0, 8: 0, 9: 1, 10: 1, 11: 1, 12: 1, 13: 1, 14: 1}. \n"
          ]
        },
        {
          "name": "stdout",
          "output_type": "stream",
          "text": [
            "Trade times in sample: 118257 Trade times out sample: 118187\n",
            "Trial 68 finished with values: [-0.43922186663984786, 5.1693157340244635] and parameters: {0: 0, 1: 1, 2: 1, 3: 0, 4: 0, 5: 0, 6: 0, 7: 0, 8: 0, 9: 1, 10: 1, 11: 1, 12: 1, 13: 1, 14: 1}. \n"
          ]
        },
        {
          "name": "stderr",
          "output_type": "stream",
          "text": [
            "[I 2024-06-24 07:21:13,544] Trial 69 finished with values: [0.16526502512978147, 16.559231771085766] and parameters: {0: 0, 1: 1, 2: 0, 3: 0, 4: 1, 5: 0, 6: 1, 7: 0, 8: 1, 9: 1, 10: 1, 11: 1, 12: 0, 13: 1, 14: 0}. \n"
          ]
        },
        {
          "name": "stdout",
          "output_type": "stream",
          "text": [
            "Trade times in sample: 117537 Trade times out sample: 118187\n",
            "Trial 69 finished with values: [0.16526502512978147, 16.559231771085766] and parameters: {0: 0, 1: 1, 2: 0, 3: 0, 4: 1, 5: 0, 6: 1, 7: 0, 8: 1, 9: 1, 10: 1, 11: 1, 12: 0, 13: 1, 14: 0}. \n"
          ]
        },
        {
          "name": "stderr",
          "output_type": "stream",
          "text": [
            "[I 2024-06-24 07:21:14,979] Trial 70 finished with values: [-0.5674320668173031, 3.423063652733319] and parameters: {0: 1, 1: 0, 2: 0, 3: 1, 4: 1, 5: 0, 6: 0, 7: 1, 8: 1, 9: 0, 10: 1, 11: 0, 12: 0, 13: 0, 14: 1}. \n"
          ]
        },
        {
          "name": "stdout",
          "output_type": "stream",
          "text": [
            "Trade times in sample: 118244 Trade times out sample: 118187\n",
            "Trial 70 finished with values: [-0.5674320668173031, 3.423063652733319] and parameters: {0: 1, 1: 0, 2: 0, 3: 1, 4: 1, 5: 0, 6: 0, 7: 1, 8: 1, 9: 0, 10: 1, 11: 0, 12: 0, 13: 0, 14: 1}. \n"
          ]
        },
        {
          "name": "stderr",
          "output_type": "stream",
          "text": [
            "[W 2024-06-24 07:21:15,141] Trial 71 failed with parameters: {0: 0, 1: 1, 2: 0, 3: 1, 4: 1, 5: 1, 6: 1, 7: 0, 8: 0, 9: 1, 10: 1, 11: 1, 12: 1, 13: 1, 14: 1} because of the following error: The value None could not be cast to float..\n"
          ]
        },
        {
          "name": "stdout",
          "output_type": "stream",
          "text": [
            "Trial 71 failed with parameters: {0: 0, 1: 1, 2: 0, 3: 1, 4: 1, 5: 1, 6: 1, 7: 0, 8: 0, 9: 1, 10: 1, 11: 1, 12: 1, 13: 1, 14: 1} because of the following error: The value None could not be cast to float..\n"
          ]
        },
        {
          "name": "stderr",
          "output_type": "stream",
          "text": [
            "[W 2024-06-24 07:21:15,150] Trial 71 failed with value None.\n"
          ]
        },
        {
          "name": "stdout",
          "output_type": "stream",
          "text": [
            "Trial 71 failed with value None.\n"
          ]
        },
        {
          "name": "stderr",
          "output_type": "stream",
          "text": [
            "[I 2024-06-24 07:21:18,327] Trial 72 finished with values: [0.22018877836928927, 16.94280103116564] and parameters: {0: 0, 1: 1, 2: 1, 3: 1, 4: 1, 5: 1, 6: 0, 7: 0, 8: 1, 9: 1, 10: 1, 11: 1, 12: 0, 13: 1, 14: 1}. \n"
          ]
        },
        {
          "name": "stdout",
          "output_type": "stream",
          "text": [
            "Trade times in sample: 117863 Trade times out sample: 118188\n",
            "Trial 72 finished with values: [0.22018877836928927, 16.94280103116564] and parameters: {0: 0, 1: 1, 2: 1, 3: 1, 4: 1, 5: 1, 6: 0, 7: 0, 8: 1, 9: 1, 10: 1, 11: 1, 12: 0, 13: 1, 14: 1}. \n"
          ]
        },
        {
          "name": "stderr",
          "output_type": "stream",
          "text": [
            "[I 2024-06-24 07:21:19,641] Trial 73 finished with values: [-0.2975793554716009, 4.465775655778924] and parameters: {0: 0, 1: 0, 2: 0, 3: 0, 4: 1, 5: 0, 6: 0, 7: 0, 8: 0, 9: 1, 10: 1, 11: 1, 12: 0, 13: 0, 14: 1}. \n"
          ]
        },
        {
          "name": "stdout",
          "output_type": "stream",
          "text": [
            "Trade times in sample: 117511 Trade times out sample: 114692\n",
            "Trial 73 finished with values: [-0.2975793554716009, 4.465775655778924] and parameters: {0: 0, 1: 0, 2: 0, 3: 0, 4: 1, 5: 0, 6: 0, 7: 0, 8: 0, 9: 1, 10: 1, 11: 1, 12: 0, 13: 0, 14: 1}. \n"
          ]
        },
        {
          "name": "stderr",
          "output_type": "stream",
          "text": [
            "[I 2024-06-24 07:21:21,142] Trial 74 finished with values: [0.8298865231018294, 4.289184653071215] and parameters: {0: 1, 1: 0, 2: 0, 3: 1, 4: 1, 5: 0, 6: 0, 7: 0, 8: 0, 9: 0, 10: 1, 11: 1, 12: 1, 13: 0, 14: 1}. \n"
          ]
        },
        {
          "name": "stdout",
          "output_type": "stream",
          "text": [
            "Trade times in sample: 118047 Trade times out sample: 116275\n",
            "Trial 74 finished with values: [0.8298865231018294, 4.289184653071215] and parameters: {0: 1, 1: 0, 2: 0, 3: 1, 4: 1, 5: 0, 6: 0, 7: 0, 8: 0, 9: 0, 10: 1, 11: 1, 12: 1, 13: 0, 14: 1}. \n"
          ]
        },
        {
          "name": "stderr",
          "output_type": "stream",
          "text": [
            "[I 2024-06-24 07:21:22,618] Trial 75 finished with values: [0.5331939431883486, 4.952470788042935] and parameters: {0: 1, 1: 1, 2: 0, 3: 1, 4: 0, 5: 0, 6: 1, 7: 0, 8: 0, 9: 1, 10: 0, 11: 0, 12: 1, 13: 1, 14: 0}. \n"
          ]
        },
        {
          "name": "stdout",
          "output_type": "stream",
          "text": [
            "Trade times in sample: 115097 Trade times out sample: 118188\n",
            "Trial 75 finished with values: [0.5331939431883486, 4.952470788042935] and parameters: {0: 1, 1: 1, 2: 0, 3: 1, 4: 0, 5: 0, 6: 1, 7: 0, 8: 0, 9: 1, 10: 0, 11: 0, 12: 1, 13: 1, 14: 0}. \n"
          ]
        },
        {
          "name": "stderr",
          "output_type": "stream",
          "text": [
            "[I 2024-06-24 07:21:24,178] Trial 76 finished with values: [1.1126290814678337, 2.330861797196955] and parameters: {0: 0, 1: 1, 2: 0, 3: 0, 4: 1, 5: 1, 6: 0, 7: 1, 8: 0, 9: 1, 10: 1, 11: 1, 12: 1, 13: 1, 14: 1}. \n"
          ]
        },
        {
          "name": "stdout",
          "output_type": "stream",
          "text": [
            "Trade times in sample: 117537 Trade times out sample: 118187\n",
            "Trial 76 finished with values: [1.1126290814678337, 2.330861797196955] and parameters: {0: 0, 1: 1, 2: 0, 3: 0, 4: 1, 5: 1, 6: 0, 7: 1, 8: 0, 9: 1, 10: 1, 11: 1, 12: 1, 13: 1, 14: 1}. \n"
          ]
        },
        {
          "name": "stderr",
          "output_type": "stream",
          "text": [
            "[I 2024-06-24 07:21:25,675] Trial 77 finished with values: [-1.9171194548123036, 0.6887629024634414] and parameters: {0: 1, 1: 1, 2: 0, 3: 0, 4: 0, 5: 1, 6: 1, 7: 1, 8: 1, 9: 0, 10: 0, 11: 1, 12: 0, 13: 0, 14: 1}. \n"
          ]
        },
        {
          "name": "stdout",
          "output_type": "stream",
          "text": [
            "Trade times in sample: 117856 Trade times out sample: 118187\n",
            "Trial 77 finished with values: [-1.9171194548123036, 0.6887629024634414] and parameters: {0: 1, 1: 1, 2: 0, 3: 0, 4: 0, 5: 1, 6: 1, 7: 1, 8: 1, 9: 0, 10: 0, 11: 1, 12: 0, 13: 0, 14: 1}. \n"
          ]
        },
        {
          "name": "stderr",
          "output_type": "stream",
          "text": [
            "[I 2024-06-24 07:21:27,091] Trial 78 finished with values: [-1.6948803169789664, 1.2921500964934958] and parameters: {0: 1, 1: 0, 2: 0, 3: 0, 4: 0, 5: 0, 6: 1, 7: 0, 8: 1, 9: 1, 10: 0, 11: 1, 12: 1, 13: 0, 14: 1}. \n"
          ]
        },
        {
          "name": "stdout",
          "output_type": "stream",
          "text": [
            "Trade times in sample: 118047 Trade times out sample: 116001\n",
            "Trial 78 finished with values: [-1.6948803169789664, 1.2921500964934958] and parameters: {0: 1, 1: 0, 2: 0, 3: 0, 4: 0, 5: 0, 6: 1, 7: 0, 8: 1, 9: 1, 10: 0, 11: 1, 12: 1, 13: 0, 14: 1}. \n"
          ]
        },
        {
          "name": "stderr",
          "output_type": "stream",
          "text": [
            "[I 2024-06-24 07:21:29,162] Trial 79 finished with values: [-0.19400086233186778, 19.92118303199962] and parameters: {0: 0, 1: 1, 2: 1, 3: 0, 4: 1, 5: 1, 6: 1, 7: 0, 8: 0, 9: 0, 10: 0, 11: 1, 12: 0, 13: 1, 14: 1}. \n"
          ]
        },
        {
          "name": "stdout",
          "output_type": "stream",
          "text": [
            "Trade times in sample: 118155 Trade times out sample: 118188\n",
            "Trial 79 finished with values: [-0.19400086233186778, 19.92118303199962] and parameters: {0: 0, 1: 1, 2: 1, 3: 0, 4: 1, 5: 1, 6: 1, 7: 0, 8: 0, 9: 0, 10: 0, 11: 1, 12: 0, 13: 1, 14: 1}. \n"
          ]
        },
        {
          "name": "stderr",
          "output_type": "stream",
          "text": [
            "[I 2024-06-24 07:21:31,701] Trial 80 finished with values: [-0.8146584395500109, 3.617966158957481] and parameters: {0: 1, 1: 1, 2: 0, 3: 0, 4: 1, 5: 0, 6: 1, 7: 0, 8: 1, 9: 0, 10: 0, 11: 1, 12: 1, 13: 1, 14: 1}. \n"
          ]
        },
        {
          "name": "stdout",
          "output_type": "stream",
          "text": [
            "Trade times in sample: 118047 Trade times out sample: 118187\n",
            "Trial 80 finished with values: [-0.8146584395500109, 3.617966158957481] and parameters: {0: 1, 1: 1, 2: 0, 3: 0, 4: 1, 5: 0, 6: 1, 7: 0, 8: 1, 9: 0, 10: 0, 11: 1, 12: 1, 13: 1, 14: 1}. \n"
          ]
        },
        {
          "name": "stderr",
          "output_type": "stream",
          "text": [
            "[I 2024-06-24 07:21:33,075] Trial 81 finished with values: [-0.444299943299215, 5.3616320070786765] and parameters: {0: 1, 1: 1, 2: 0, 3: 0, 4: 0, 5: 0, 6: 0, 7: 0, 8: 0, 9: 0, 10: 1, 11: 1, 12: 0, 13: 0, 14: 1}. \n"
          ]
        },
        {
          "name": "stdout",
          "output_type": "stream",
          "text": [
            "Trade times in sample: 117821 Trade times out sample: 115553\n",
            "Trial 81 finished with values: [-0.444299943299215, 5.3616320070786765] and parameters: {0: 1, 1: 1, 2: 0, 3: 0, 4: 0, 5: 0, 6: 0, 7: 0, 8: 0, 9: 0, 10: 1, 11: 1, 12: 0, 13: 0, 14: 1}. \n"
          ]
        },
        {
          "name": "stderr",
          "output_type": "stream",
          "text": [
            "[I 2024-06-24 07:21:34,471] Trial 82 finished with values: [-0.47484057455387496, 4.8061300062312835] and parameters: {0: 0, 1: 0, 2: 1, 3: 0, 4: 1, 5: 0, 6: 0, 7: 0, 8: 0, 9: 1, 10: 1, 11: 1, 12: 0, 13: 0, 14: 1}. \n"
          ]
        },
        {
          "name": "stdout",
          "output_type": "stream",
          "text": [
            "Trade times in sample: 118244 Trade times out sample: 118187\n",
            "Trial 82 finished with values: [-0.47484057455387496, 4.8061300062312835] and parameters: {0: 0, 1: 0, 2: 1, 3: 0, 4: 1, 5: 0, 6: 0, 7: 0, 8: 0, 9: 1, 10: 1, 11: 1, 12: 0, 13: 0, 14: 1}. \n"
          ]
        },
        {
          "name": "stderr",
          "output_type": "stream",
          "text": [
            "[I 2024-06-24 07:21:35,858] Trial 83 finished with values: [0.6351785059222103, 1.7400147900789387] and parameters: {0: 0, 1: 0, 2: 0, 3: 1, 4: 1, 5: 0, 6: 0, 7: 0, 8: 1, 9: 1, 10: 1, 11: 1, 12: 0, 13: 0, 14: 1}. \n"
          ]
        },
        {
          "name": "stdout",
          "output_type": "stream",
          "text": [
            "Trade times in sample: 117579 Trade times out sample: 116001\n",
            "Trial 83 finished with values: [0.6351785059222103, 1.7400147900789387] and parameters: {0: 0, 1: 0, 2: 0, 3: 1, 4: 1, 5: 0, 6: 0, 7: 0, 8: 1, 9: 1, 10: 1, 11: 1, 12: 0, 13: 0, 14: 1}. \n"
          ]
        },
        {
          "name": "stderr",
          "output_type": "stream",
          "text": [
            "[I 2024-06-24 07:21:37,427] Trial 84 finished with values: [-0.7446095600251174, 3.4072723683603705] and parameters: {0: 1, 1: 1, 2: 1, 3: 1, 4: 0, 5: 1, 6: 1, 7: 1, 8: 0, 9: 0, 10: 0, 11: 0, 12: 1, 13: 1, 14: 0}. \n"
          ]
        },
        {
          "name": "stdout",
          "output_type": "stream",
          "text": [
            "Trade times in sample: 117926 Trade times out sample: 118188\n",
            "Trial 84 finished with values: [-0.7446095600251174, 3.4072723683603705] and parameters: {0: 1, 1: 1, 2: 1, 3: 1, 4: 0, 5: 1, 6: 1, 7: 1, 8: 0, 9: 0, 10: 0, 11: 0, 12: 1, 13: 1, 14: 0}. \n"
          ]
        },
        {
          "name": "stderr",
          "output_type": "stream",
          "text": [
            "[I 2024-06-24 07:21:38,822] Trial 85 finished with values: [0.09710915036072579, 28.1168270077646] and parameters: {0: 0, 1: 0, 2: 1, 3: 0, 4: 0, 5: 0, 6: 1, 7: 0, 8: 1, 9: 1, 10: 0, 11: 0, 12: 0, 13: 0, 14: 1}. \n"
          ]
        },
        {
          "name": "stdout",
          "output_type": "stream",
          "text": [
            "Trade times in sample: 117926 Trade times out sample: 118187\n",
            "Trial 85 finished with values: [0.09710915036072579, 28.1168270077646] and parameters: {0: 0, 1: 0, 2: 1, 3: 0, 4: 0, 5: 0, 6: 1, 7: 0, 8: 1, 9: 1, 10: 0, 11: 0, 12: 0, 13: 0, 14: 1}. \n"
          ]
        },
        {
          "name": "stderr",
          "output_type": "stream",
          "text": [
            "[I 2024-06-24 07:21:40,253] Trial 86 finished with values: [0.4899264045851127, 3.077332024969464] and parameters: {0: 0, 1: 0, 2: 0, 3: 1, 4: 0, 5: 0, 6: 0, 7: 0, 8: 0, 9: 1, 10: 0, 11: 1, 12: 0, 13: 0, 14: 1}. \n"
          ]
        },
        {
          "name": "stdout",
          "output_type": "stream",
          "text": [
            "Trade times in sample: 118244 Trade times out sample: 116021\n",
            "Trial 86 finished with values: [0.4899264045851127, 3.077332024969464] and parameters: {0: 0, 1: 0, 2: 0, 3: 1, 4: 0, 5: 0, 6: 0, 7: 0, 8: 0, 9: 1, 10: 0, 11: 1, 12: 0, 13: 0, 14: 1}. \n"
          ]
        },
        {
          "name": "stderr",
          "output_type": "stream",
          "text": [
            "[I 2024-06-24 07:21:41,957] Trial 87 finished with values: [-1.120384490250903, 0.9428332220720352] and parameters: {0: 1, 1: 1, 2: 1, 3: 0, 4: 1, 5: 0, 6: 0, 7: 0, 8: 1, 9: 0, 10: 0, 11: 1, 12: 0, 13: 0, 14: 0}. \n"
          ]
        },
        {
          "name": "stdout",
          "output_type": "stream",
          "text": [
            "Trade times in sample: 118047 Trade times out sample: 118187\n",
            "Trial 87 finished with values: [-1.120384490250903, 0.9428332220720352] and parameters: {0: 1, 1: 1, 2: 1, 3: 0, 4: 1, 5: 0, 6: 0, 7: 0, 8: 1, 9: 0, 10: 0, 11: 1, 12: 0, 13: 0, 14: 0}. \n"
          ]
        },
        {
          "name": "stderr",
          "output_type": "stream",
          "text": [
            "[I 2024-06-24 07:21:44,668] Trial 88 finished with values: [-0.94145706897222, 3.68905977581855] and parameters: {0: 1, 1: 1, 2: 0, 3: 0, 4: 0, 5: 1, 6: 0, 7: 0, 8: 0, 9: 0, 10: 0, 11: 1, 12: 0, 13: 0, 14: 1}. \n"
          ]
        },
        {
          "name": "stdout",
          "output_type": "stream",
          "text": [
            "Trade times in sample: 117537 Trade times out sample: 117221\n",
            "Trial 88 finished with values: [-0.94145706897222, 3.68905977581855] and parameters: {0: 1, 1: 1, 2: 0, 3: 0, 4: 0, 5: 1, 6: 0, 7: 0, 8: 0, 9: 0, 10: 0, 11: 1, 12: 0, 13: 0, 14: 1}. \n"
          ]
        },
        {
          "name": "stderr",
          "output_type": "stream",
          "text": [
            "[I 2024-06-24 07:21:46,197] Trial 89 finished with values: [-0.7644926108861109, 2.648647150688176] and parameters: {0: 1, 1: 1, 2: 0, 3: 0, 4: 0, 5: 1, 6: 0, 7: 0, 8: 1, 9: 1, 10: 1, 11: 1, 12: 1, 13: 0, 14: 1}. \n"
          ]
        },
        {
          "name": "stdout",
          "output_type": "stream",
          "text": [
            "Trade times in sample: 117856 Trade times out sample: 118187\n",
            "Trial 89 finished with values: [-0.7644926108861109, 2.648647150688176] and parameters: {0: 1, 1: 1, 2: 0, 3: 0, 4: 0, 5: 1, 6: 0, 7: 0, 8: 1, 9: 1, 10: 1, 11: 1, 12: 1, 13: 0, 14: 1}. \n"
          ]
        },
        {
          "name": "stderr",
          "output_type": "stream",
          "text": [
            "[I 2024-06-24 07:21:47,567] Trial 90 finished with values: [-0.19374816769710268, 13.471987387701828] and parameters: {0: 0, 1: 1, 2: 0, 3: 0, 4: 1, 5: 0, 6: 0, 7: 1, 8: 0, 9: 0, 10: 0, 11: 1, 12: 0, 13: 1, 14: 0}. \n"
          ]
        },
        {
          "name": "stdout",
          "output_type": "stream",
          "text": [
            "Trade times in sample: 117536 Trade times out sample: 116795\n",
            "Trial 90 finished with values: [-0.19374816769710268, 13.471987387701828] and parameters: {0: 0, 1: 1, 2: 0, 3: 0, 4: 1, 5: 0, 6: 0, 7: 1, 8: 0, 9: 0, 10: 0, 11: 1, 12: 0, 13: 1, 14: 0}. \n"
          ]
        },
        {
          "name": "stderr",
          "output_type": "stream",
          "text": [
            "[I 2024-06-24 07:21:49,107] Trial 91 finished with values: [-0.15652550579470473, 21.967735547851984] and parameters: {0: 1, 1: 1, 2: 0, 3: 0, 4: 0, 5: 0, 6: 1, 7: 1, 8: 0, 9: 1, 10: 0, 11: 1, 12: 1, 13: 1, 14: 1}. \n"
          ]
        },
        {
          "name": "stdout",
          "output_type": "stream",
          "text": [
            "Trade times in sample: 118257 Trade times out sample: 118187\n",
            "Trial 91 finished with values: [-0.15652550579470473, 21.967735547851984] and parameters: {0: 1, 1: 1, 2: 0, 3: 0, 4: 0, 5: 0, 6: 1, 7: 1, 8: 0, 9: 1, 10: 0, 11: 1, 12: 1, 13: 1, 14: 1}. \n"
          ]
        },
        {
          "name": "stderr",
          "output_type": "stream",
          "text": [
            "[I 2024-06-24 07:21:50,601] Trial 92 finished with values: [-1.094475704156965, 1.9983835768977691] and parameters: {0: 1, 1: 1, 2: 1, 3: 0, 4: 0, 5: 0, 6: 0, 7: 0, 8: 0, 9: 0, 10: 0, 11: 1, 12: 1, 13: 1, 14: 1}. \n"
          ]
        },
        {
          "name": "stdout",
          "output_type": "stream",
          "text": [
            "Trade times in sample: 117914 Trade times out sample: 118188\n",
            "Trial 92 finished with values: [-1.094475704156965, 1.9983835768977691] and parameters: {0: 1, 1: 1, 2: 1, 3: 0, 4: 0, 5: 0, 6: 0, 7: 0, 8: 0, 9: 0, 10: 0, 11: 1, 12: 1, 13: 1, 14: 1}. \n"
          ]
        },
        {
          "name": "stderr",
          "output_type": "stream",
          "text": [
            "[I 2024-06-24 07:21:52,065] Trial 93 finished with values: [1.0108575396581245, 2.832758156141234] and parameters: {0: 1, 1: 0, 2: 0, 3: 0, 4: 1, 5: 1, 6: 1, 7: 1, 8: 0, 9: 0, 10: 1, 11: 1, 12: 1, 13: 1, 14: 0}. \n"
          ]
        },
        {
          "name": "stdout",
          "output_type": "stream",
          "text": [
            "Trade times in sample: 117860 Trade times out sample: 118225\n",
            "Trial 93 finished with values: [1.0108575396581245, 2.832758156141234] and parameters: {0: 1, 1: 0, 2: 0, 3: 0, 4: 1, 5: 1, 6: 1, 7: 1, 8: 0, 9: 0, 10: 1, 11: 1, 12: 1, 13: 1, 14: 0}. \n"
          ]
        },
        {
          "name": "stderr",
          "output_type": "stream",
          "text": [
            "[I 2024-06-24 07:21:53,657] Trial 94 finished with values: [0.1357007853819565, 21.677142702157365] and parameters: {0: 1, 1: 1, 2: 1, 3: 1, 4: 1, 5: 1, 6: 0, 7: 1, 8: 0, 9: 0, 10: 0, 11: 0, 12: 1, 13: 1, 14: 0}. \n"
          ]
        },
        {
          "name": "stdout",
          "output_type": "stream",
          "text": [
            "Trade times in sample: 118118 Trade times out sample: 118186\n",
            "Trial 94 finished with values: [0.1357007853819565, 21.677142702157365] and parameters: {0: 1, 1: 1, 2: 1, 3: 1, 4: 1, 5: 1, 6: 0, 7: 1, 8: 0, 9: 0, 10: 0, 11: 0, 12: 1, 13: 1, 14: 0}. \n"
          ]
        },
        {
          "name": "stderr",
          "output_type": "stream",
          "text": [
            "[I 2024-06-24 07:21:55,842] Trial 95 finished with values: [-1.6985658726794841, 1.10885794603385] and parameters: {0: 1, 1: 0, 2: 1, 3: 0, 4: 1, 5: 0, 6: 0, 7: 1, 8: 1, 9: 1, 10: 1, 11: 0, 12: 1, 13: 1, 14: 0}. \n"
          ]
        },
        {
          "name": "stdout",
          "output_type": "stream",
          "text": [
            "Trade times in sample: 118005 Trade times out sample: 118186\n",
            "Trial 95 finished with values: [-1.6985658726794841, 1.10885794603385] and parameters: {0: 1, 1: 0, 2: 1, 3: 0, 4: 1, 5: 0, 6: 0, 7: 1, 8: 1, 9: 1, 10: 1, 11: 0, 12: 1, 13: 1, 14: 0}. \n"
          ]
        },
        {
          "name": "stderr",
          "output_type": "stream",
          "text": [
            "[I 2024-06-24 07:21:58,271] Trial 96 finished with values: [0.8769857849798904, 2.6476277276571873] and parameters: {0: 0, 1: 0, 2: 0, 3: 0, 4: 1, 5: 1, 6: 0, 7: 1, 8: 0, 9: 0, 10: 1, 11: 1, 12: 1, 13: 0, 14: 0}. \n"
          ]
        },
        {
          "name": "stdout",
          "output_type": "stream",
          "text": [
            "Trade times in sample: 117049 Trade times out sample: 118197\n",
            "Trial 96 finished with values: [0.8769857849798904, 2.6476277276571873] and parameters: {0: 0, 1: 0, 2: 0, 3: 0, 4: 1, 5: 1, 6: 0, 7: 1, 8: 0, 9: 0, 10: 1, 11: 1, 12: 1, 13: 0, 14: 0}. \n"
          ]
        },
        {
          "name": "stderr",
          "output_type": "stream",
          "text": [
            "[I 2024-06-24 07:21:59,790] Trial 97 finished with values: [-0.4263827834689464, 6.467666764840363] and parameters: {0: 0, 1: 1, 2: 1, 3: 1, 4: 0, 5: 0, 6: 0, 7: 0, 8: 0, 9: 1, 10: 1, 11: 0, 12: 1, 13: 0, 14: 1}. \n"
          ]
        },
        {
          "name": "stdout",
          "output_type": "stream",
          "text": [
            "Trade times in sample: 118244 Trade times out sample: 118187\n",
            "Trial 97 finished with values: [-0.4263827834689464, 6.467666764840363] and parameters: {0: 0, 1: 1, 2: 1, 3: 1, 4: 0, 5: 0, 6: 0, 7: 0, 8: 0, 9: 1, 10: 1, 11: 0, 12: 1, 13: 0, 14: 1}. \n"
          ]
        },
        {
          "name": "stderr",
          "output_type": "stream",
          "text": [
            "[I 2024-06-24 07:22:01,196] Trial 98 finished with values: [-0.044999522669498034, 50.0070603144009] and parameters: {0: 0, 1: 1, 2: 0, 3: 1, 4: 1, 5: 0, 6: 0, 7: 0, 8: 0, 9: 1, 10: 1, 11: 0, 12: 0, 13: 0, 14: 1}. \n"
          ]
        },
        {
          "name": "stdout",
          "output_type": "stream",
          "text": [
            "Trade times in sample: 117537 Trade times out sample: 117221\n",
            "Trial 98 finished with values: [-0.044999522669498034, 50.0070603144009] and parameters: {0: 0, 1: 1, 2: 0, 3: 1, 4: 1, 5: 0, 6: 0, 7: 0, 8: 0, 9: 1, 10: 1, 11: 0, 12: 0, 13: 0, 14: 1}. \n"
          ]
        },
        {
          "name": "stderr",
          "output_type": "stream",
          "text": [
            "[I 2024-06-24 07:22:02,787] Trial 99 finished with values: [-1.400729739159794, 1.9825106456243522] and parameters: {0: 1, 1: 1, 2: 1, 3: 1, 4: 0, 5: 1, 6: 1, 7: 0, 8: 0, 9: 0, 10: 0, 11: 1, 12: 1, 13: 1, 14: 1}. \n"
          ]
        },
        {
          "name": "stdout",
          "output_type": "stream",
          "text": [
            "Trade times in sample: 118118 Trade times out sample: 118188\n",
            "Trial 99 finished with values: [-1.400729739159794, 1.9825106456243522] and parameters: {0: 1, 1: 1, 2: 1, 3: 1, 4: 0, 5: 1, 6: 1, 7: 0, 8: 0, 9: 0, 10: 0, 11: 1, 12: 1, 13: 1, 14: 1}. \n"
          ]
        },
        {
          "name": "stderr",
          "output_type": "stream",
          "text": [
            "[I 2024-06-24 07:22:04,185] Trial 100 finished with values: [-1.2968548341478465, 0.5052783039753301] and parameters: {0: 1, 1: 0, 2: 1, 3: 0, 4: 1, 5: 0, 6: 1, 7: 1, 8: 0, 9: 1, 10: 0, 11: 1, 12: 0, 13: 0, 14: 0}. \n"
          ]
        },
        {
          "name": "stdout",
          "output_type": "stream",
          "text": [
            "Trade times in sample: 117427 Trade times out sample: 118055\n",
            "Trial 100 finished with values: [-1.2968548341478465, 0.5052783039753301] and parameters: {0: 1, 1: 0, 2: 1, 3: 0, 4: 1, 5: 0, 6: 1, 7: 1, 8: 0, 9: 1, 10: 0, 11: 1, 12: 0, 13: 0, 14: 0}. \n"
          ]
        },
        {
          "name": "stderr",
          "output_type": "stream",
          "text": [
            "[I 2024-06-24 07:22:05,884] Trial 101 finished with values: [-0.5279058352375685, 5.0393963215819095] and parameters: {0: 1, 1: 0, 2: 1, 3: 0, 4: 1, 5: 0, 6: 0, 7: 1, 8: 1, 9: 0, 10: 0, 11: 1, 12: 0, 13: 0, 14: 1}. \n"
          ]
        },
        {
          "name": "stdout",
          "output_type": "stream",
          "text": [
            "Trade times in sample: 118244 Trade times out sample: 118187\n",
            "Trial 101 finished with values: [-0.5279058352375685, 5.0393963215819095] and parameters: {0: 1, 1: 0, 2: 1, 3: 0, 4: 1, 5: 0, 6: 0, 7: 1, 8: 1, 9: 0, 10: 0, 11: 1, 12: 0, 13: 0, 14: 1}. \n"
          ]
        },
        {
          "name": "stderr",
          "output_type": "stream",
          "text": [
            "[I 2024-06-24 07:22:07,560] Trial 102 finished with values: [-0.6562013323848858, 4.74868527299183] and parameters: {0: 1, 1: 1, 2: 1, 3: 0, 4: 1, 5: 0, 6: 1, 7: 0, 8: 0, 9: 1, 10: 0, 11: 1, 12: 1, 13: 1, 14: 1}. \n"
          ]
        },
        {
          "name": "stdout",
          "output_type": "stream",
          "text": [
            "Trade times in sample: 117926 Trade times out sample: 118188\n",
            "Trial 102 finished with values: [-0.6562013323848858, 4.74868527299183] and parameters: {0: 1, 1: 1, 2: 1, 3: 0, 4: 1, 5: 0, 6: 1, 7: 0, 8: 0, 9: 1, 10: 0, 11: 1, 12: 1, 13: 1, 14: 1}. \n"
          ]
        },
        {
          "name": "stderr",
          "output_type": "stream",
          "text": [
            "[W 2024-06-24 07:22:07,777] Trial 103 failed with parameters: {0: 0, 1: 1, 2: 0, 3: 1, 4: 1, 5: 1, 6: 0, 7: 0, 8: 0, 9: 0, 10: 0, 11: 0, 12: 0, 13: 0, 14: 0} because of the following error: The value None could not be cast to float..\n"
          ]
        },
        {
          "name": "stdout",
          "output_type": "stream",
          "text": [
            "Trial 103 failed with parameters: {0: 0, 1: 1, 2: 0, 3: 1, 4: 1, 5: 1, 6: 0, 7: 0, 8: 0, 9: 0, 10: 0, 11: 0, 12: 0, 13: 0, 14: 0} because of the following error: The value None could not be cast to float..\n"
          ]
        },
        {
          "name": "stderr",
          "output_type": "stream",
          "text": [
            "[W 2024-06-24 07:22:07,781] Trial 103 failed with value None.\n"
          ]
        },
        {
          "name": "stdout",
          "output_type": "stream",
          "text": [
            "Trial 103 failed with value None.\n"
          ]
        },
        {
          "name": "stderr",
          "output_type": "stream",
          "text": [
            "[I 2024-06-24 07:22:10,765] Trial 104 finished with values: [1.0962880477937318, 1.9119713322524654] and parameters: {0: 1, 1: 1, 2: 0, 3: 0, 4: 1, 5: 1, 6: 1, 7: 0, 8: 1, 9: 1, 10: 0, 11: 1, 12: 0, 13: 0, 14: 1}. \n"
          ]
        },
        {
          "name": "stdout",
          "output_type": "stream",
          "text": [
            "Trade times in sample: 117537 Trade times out sample: 118187\n",
            "Trial 104 finished with values: [1.0962880477937318, 1.9119713322524654] and parameters: {0: 1, 1: 1, 2: 0, 3: 0, 4: 1, 5: 1, 6: 1, 7: 0, 8: 1, 9: 1, 10: 0, 11: 1, 12: 0, 13: 0, 14: 1}. \n"
          ]
        },
        {
          "name": "stderr",
          "output_type": "stream",
          "text": [
            "[I 2024-06-24 07:22:12,206] Trial 105 finished with values: [-0.678756984782479, 2.609310029984013] and parameters: {0: 1, 1: 1, 2: 0, 3: 1, 4: 1, 5: 0, 6: 0, 7: 1, 8: 1, 9: 1, 10: 1, 11: 0, 12: 0, 13: 0, 14: 0}. \n"
          ]
        },
        {
          "name": "stdout",
          "output_type": "stream",
          "text": [
            "Trade times in sample: 117856 Trade times out sample: 118187\n",
            "Trial 105 finished with values: [-0.678756984782479, 2.609310029984013] and parameters: {0: 1, 1: 1, 2: 0, 3: 1, 4: 1, 5: 0, 6: 0, 7: 1, 8: 1, 9: 1, 10: 1, 11: 0, 12: 0, 13: 0, 14: 0}. \n"
          ]
        },
        {
          "name": "stderr",
          "output_type": "stream",
          "text": [
            "[I 2024-06-24 07:22:13,773] Trial 106 finished with values: [0.9934241648598571, 2.584872042269326] and parameters: {0: 1, 1: 0, 2: 0, 3: 1, 4: 1, 5: 0, 6: 1, 7: 0, 8: 0, 9: 0, 10: 0, 11: 1, 12: 1, 13: 0, 14: 1}. \n"
          ]
        },
        {
          "name": "stdout",
          "output_type": "stream",
          "text": [
            "Trade times in sample: 118119 Trade times out sample: 116038\n",
            "Trial 106 finished with values: [0.9934241648598571, 2.584872042269326] and parameters: {0: 1, 1: 0, 2: 0, 3: 1, 4: 1, 5: 0, 6: 1, 7: 0, 8: 0, 9: 0, 10: 0, 11: 1, 12: 1, 13: 0, 14: 1}. \n"
          ]
        },
        {
          "name": "stderr",
          "output_type": "stream",
          "text": [
            "[I 2024-06-24 07:22:15,199] Trial 107 finished with values: [-0.5991045548536942, 2.128785698073081] and parameters: {0: 1, 1: 1, 2: 0, 3: 1, 4: 0, 5: 0, 6: 1, 7: 1, 8: 0, 9: 1, 10: 0, 11: 1, 12: 0, 13: 0, 14: 0}. \n"
          ]
        },
        {
          "name": "stdout",
          "output_type": "stream",
          "text": [
            "Trade times in sample: 118257 Trade times out sample: 117252\n",
            "Trial 107 finished with values: [-0.5991045548536942, 2.128785698073081] and parameters: {0: 1, 1: 1, 2: 0, 3: 1, 4: 0, 5: 0, 6: 1, 7: 1, 8: 0, 9: 1, 10: 0, 11: 1, 12: 0, 13: 0, 14: 0}. \n"
          ]
        },
        {
          "name": "stderr",
          "output_type": "stream",
          "text": [
            "[W 2024-06-24 07:22:15,331] Trial 108 failed with parameters: {0: 1, 1: 1, 2: 0, 3: 0, 4: 0, 5: 1, 6: 1, 7: 1, 8: 1, 9: 1, 10: 0, 11: 1, 12: 1, 13: 0, 14: 1} because of the following error: The value None could not be cast to float..\n"
          ]
        },
        {
          "name": "stdout",
          "output_type": "stream",
          "text": [
            "Trial 108 failed with parameters: {0: 1, 1: 1, 2: 0, 3: 0, 4: 0, 5: 1, 6: 1, 7: 1, 8: 1, 9: 1, 10: 0, 11: 1, 12: 1, 13: 0, 14: 1} because of the following error: The value None could not be cast to float..\n"
          ]
        },
        {
          "name": "stderr",
          "output_type": "stream",
          "text": [
            "[W 2024-06-24 07:22:15,337] Trial 108 failed with value None.\n"
          ]
        },
        {
          "name": "stdout",
          "output_type": "stream",
          "text": [
            "Trial 108 failed with value None.\n"
          ]
        },
        {
          "name": "stderr",
          "output_type": "stream",
          "text": [
            "[I 2024-06-24 07:22:16,923] Trial 109 finished with values: [-0.28158338953534584, 12.82096107014256] and parameters: {0: 1, 1: 1, 2: 1, 3: 1, 4: 0, 5: 1, 6: 1, 7: 1, 8: 1, 9: 0, 10: 0, 11: 0, 12: 0, 13: 0, 14: 1}. \n"
          ]
        },
        {
          "name": "stdout",
          "output_type": "stream",
          "text": [
            "Trade times in sample: 118244 Trade times out sample: 118187\n",
            "Trial 109 finished with values: [-0.28158338953534584, 12.82096107014256] and parameters: {0: 1, 1: 1, 2: 1, 3: 1, 4: 0, 5: 1, 6: 1, 7: 1, 8: 1, 9: 0, 10: 0, 11: 0, 12: 0, 13: 0, 14: 1}. \n"
          ]
        },
        {
          "name": "stderr",
          "output_type": "stream",
          "text": [
            "[I 2024-06-24 07:22:18,384] Trial 110 finished with values: [-1.3150637710012731, 2.2700181545223437] and parameters: {0: 1, 1: 0, 2: 0, 3: 1, 4: 0, 5: 1, 6: 0, 7: 0, 8: 1, 9: 0, 10: 1, 11: 1, 12: 0, 13: 1, 14: 1}. \n"
          ]
        },
        {
          "name": "stdout",
          "output_type": "stream",
          "text": [
            "Trade times in sample: 117856 Trade times out sample: 118188\n",
            "Trial 110 finished with values: [-1.3150637710012731, 2.2700181545223437] and parameters: {0: 1, 1: 0, 2: 0, 3: 1, 4: 0, 5: 1, 6: 0, 7: 0, 8: 1, 9: 0, 10: 1, 11: 1, 12: 0, 13: 1, 14: 1}. \n"
          ]
        },
        {
          "name": "stderr",
          "output_type": "stream",
          "text": [
            "[W 2024-06-24 07:22:18,527] Trial 111 failed with parameters: {0: 0, 1: 1, 2: 0, 3: 0, 4: 0, 5: 0, 6: 0, 7: 0, 8: 0, 9: 0, 10: 1, 11: 0, 12: 0, 13: 0, 14: 1} because of the following error: The value None could not be cast to float..\n"
          ]
        },
        {
          "name": "stdout",
          "output_type": "stream",
          "text": [
            "Trial 111 failed with parameters: {0: 0, 1: 1, 2: 0, 3: 0, 4: 0, 5: 0, 6: 0, 7: 0, 8: 0, 9: 0, 10: 1, 11: 0, 12: 0, 13: 0, 14: 1} because of the following error: The value None could not be cast to float..\n"
          ]
        },
        {
          "name": "stderr",
          "output_type": "stream",
          "text": [
            "[W 2024-06-24 07:22:18,535] Trial 111 failed with value None.\n"
          ]
        },
        {
          "name": "stdout",
          "output_type": "stream",
          "text": [
            "Trial 111 failed with value None.\n"
          ]
        },
        {
          "name": "stderr",
          "output_type": "stream",
          "text": [
            "[I 2024-06-24 07:22:19,992] Trial 112 finished with values: [-0.41988754776612325, 3.5495991231558017] and parameters: {0: 1, 1: 1, 2: 1, 3: 0, 4: 0, 5: 0, 6: 0, 7: 0, 8: 1, 9: 1, 10: 0, 11: 1, 12: 0, 13: 0, 14: 0}. \n"
          ]
        },
        {
          "name": "stdout",
          "output_type": "stream",
          "text": [
            "Trade times in sample: 117856 Trade times out sample: 116034\n",
            "Trial 112 finished with values: [-0.41988754776612325, 3.5495991231558017] and parameters: {0: 1, 1: 1, 2: 1, 3: 0, 4: 0, 5: 0, 6: 0, 7: 0, 8: 1, 9: 1, 10: 0, 11: 1, 12: 0, 13: 0, 14: 0}. \n"
          ]
        },
        {
          "name": "stderr",
          "output_type": "stream",
          "text": [
            "[I 2024-06-24 07:22:22,629] Trial 113 finished with values: [-2.32601831425832, 0.3590476556780824] and parameters: {0: 0, 1: 1, 2: 0, 3: 1, 4: 0, 5: 1, 6: 0, 7: 0, 8: 0, 9: 0, 10: 1, 11: 1, 12: 0, 13: 0, 14: 1}. \n"
          ]
        },
        {
          "name": "stdout",
          "output_type": "stream",
          "text": [
            "Trade times in sample: 117863 Trade times out sample: 118187\n",
            "Trial 113 finished with values: [-2.32601831425832, 0.3590476556780824] and parameters: {0: 0, 1: 1, 2: 0, 3: 1, 4: 0, 5: 1, 6: 0, 7: 0, 8: 0, 9: 0, 10: 1, 11: 1, 12: 0, 13: 0, 14: 1}. \n"
          ]
        },
        {
          "name": "stderr",
          "output_type": "stream",
          "text": [
            "[I 2024-06-24 07:22:25,322] Trial 114 finished with values: [-0.8255520578332562, 2.1327195343363266] and parameters: {0: 1, 1: 0, 2: 0, 3: 1, 4: 0, 5: 0, 6: 0, 7: 1, 8: 1, 9: 1, 10: 1, 11: 1, 12: 0, 13: 0, 14: 0}. \n"
          ]
        },
        {
          "name": "stdout",
          "output_type": "stream",
          "text": [
            "Trade times in sample: 117948 Trade times out sample: 118187\n",
            "Trial 114 finished with values: [-0.8255520578332562, 2.1327195343363266] and parameters: {0: 1, 1: 0, 2: 0, 3: 1, 4: 0, 5: 0, 6: 0, 7: 1, 8: 1, 9: 1, 10: 1, 11: 1, 12: 0, 13: 0, 14: 0}. \n"
          ]
        },
        {
          "name": "stderr",
          "output_type": "stream",
          "text": [
            "[W 2024-06-24 07:22:25,501] Trial 115 failed with parameters: {0: 0, 1: 0, 2: 0, 3: 0, 4: 1, 5: 0, 6: 0, 7: 0, 8: 0, 9: 0, 10: 1, 11: 1, 12: 0, 13: 0, 14: 1} because of the following error: The value None could not be cast to float..\n"
          ]
        },
        {
          "name": "stdout",
          "output_type": "stream",
          "text": [
            "Trial 115 failed with parameters: {0: 0, 1: 0, 2: 0, 3: 0, 4: 1, 5: 0, 6: 0, 7: 0, 8: 0, 9: 0, 10: 1, 11: 1, 12: 0, 13: 0, 14: 1} because of the following error: The value None could not be cast to float..\n"
          ]
        },
        {
          "name": "stderr",
          "output_type": "stream",
          "text": [
            "[W 2024-06-24 07:22:25,504] Trial 115 failed with value None.\n"
          ]
        },
        {
          "name": "stdout",
          "output_type": "stream",
          "text": [
            "Trial 115 failed with value None.\n"
          ]
        },
        {
          "name": "stderr",
          "output_type": "stream",
          "text": [
            "[I 2024-06-24 07:22:26,909] Trial 116 finished with values: [-1.2884687488313904, 0.05374146722782358] and parameters: {0: 1, 1: 0, 2: 0, 3: 0, 4: 0, 5: 0, 6: 1, 7: 1, 8: 1, 9: 1, 10: 0, 11: 1, 12: 0, 13: 0, 14: 0}. \n"
          ]
        },
        {
          "name": "stdout",
          "output_type": "stream",
          "text": [
            "Trade times in sample: 118042 Trade times out sample: 118187\n",
            "Trial 116 finished with values: [-1.2884687488313904, 0.05374146722782358] and parameters: {0: 1, 1: 0, 2: 0, 3: 0, 4: 0, 5: 0, 6: 1, 7: 1, 8: 1, 9: 1, 10: 0, 11: 1, 12: 0, 13: 0, 14: 0}. \n"
          ]
        },
        {
          "name": "stderr",
          "output_type": "stream",
          "text": [
            "[I 2024-06-24 07:22:28,456] Trial 117 finished with values: [-0.08977360251633221, 37.41966907759032] and parameters: {0: 1, 1: 0, 2: 1, 3: 1, 4: 0, 5: 0, 6: 1, 7: 1, 8: 0, 9: 1, 10: 0, 11: 0, 12: 1, 13: 0, 14: 1}. \n"
          ]
        },
        {
          "name": "stdout",
          "output_type": "stream",
          "text": [
            "Trade times in sample: 117932 Trade times out sample: 118187\n",
            "Trial 117 finished with values: [-0.08977360251633221, 37.41966907759032] and parameters: {0: 1, 1: 0, 2: 1, 3: 1, 4: 0, 5: 0, 6: 1, 7: 1, 8: 0, 9: 1, 10: 0, 11: 0, 12: 1, 13: 0, 14: 1}. \n"
          ]
        },
        {
          "name": "stderr",
          "output_type": "stream",
          "text": [
            "[I 2024-06-24 07:22:30,016] Trial 118 finished with values: [-1.3100971366610379, 1.7729668082159344] and parameters: {0: 0, 1: 1, 2: 0, 3: 1, 4: 0, 5: 1, 6: 0, 7: 0, 8: 1, 9: 0, 10: 0, 11: 1, 12: 0, 13: 1, 14: 1}. \n"
          ]
        },
        {
          "name": "stdout",
          "output_type": "stream",
          "text": [
            "Trade times in sample: 118118 Trade times out sample: 118188\n",
            "Trial 118 finished with values: [-1.3100971366610379, 1.7729668082159344] and parameters: {0: 0, 1: 1, 2: 0, 3: 1, 4: 0, 5: 1, 6: 0, 7: 0, 8: 1, 9: 0, 10: 0, 11: 1, 12: 0, 13: 1, 14: 1}. \n"
          ]
        },
        {
          "name": "stderr",
          "output_type": "stream",
          "text": [
            "[I 2024-06-24 07:22:31,628] Trial 119 finished with values: [-0.8278161974403216, 2.7178815173335904] and parameters: {0: 1, 1: 1, 2: 0, 3: 1, 4: 0, 5: 0, 6: 1, 7: 1, 8: 1, 9: 0, 10: 0, 11: 1, 12: 0, 13: 0, 14: 1}. \n"
          ]
        },
        {
          "name": "stdout",
          "output_type": "stream",
          "text": [
            "Trade times in sample: 118244 Trade times out sample: 118187\n",
            "Trial 119 finished with values: [-0.8278161974403216, 2.7178815173335904] and parameters: {0: 1, 1: 1, 2: 0, 3: 1, 4: 0, 5: 0, 6: 1, 7: 1, 8: 1, 9: 0, 10: 0, 11: 1, 12: 0, 13: 0, 14: 1}. \n"
          ]
        },
        {
          "name": "stderr",
          "output_type": "stream",
          "text": [
            "[W 2024-06-24 07:22:31,781] Trial 120 failed with parameters: {0: 1, 1: 1, 2: 0, 3: 0, 4: 0, 5: 1, 6: 1, 7: 1, 8: 1, 9: 1, 10: 0, 11: 1, 12: 1, 13: 0, 14: 1} because of the following error: The value None could not be cast to float..\n"
          ]
        },
        {
          "name": "stdout",
          "output_type": "stream",
          "text": [
            "Trial 120 failed with parameters: {0: 1, 1: 1, 2: 0, 3: 0, 4: 0, 5: 1, 6: 1, 7: 1, 8: 1, 9: 1, 10: 0, 11: 1, 12: 1, 13: 0, 14: 1} because of the following error: The value None could not be cast to float..\n"
          ]
        },
        {
          "name": "stderr",
          "output_type": "stream",
          "text": [
            "[W 2024-06-24 07:22:31,785] Trial 120 failed with value None.\n"
          ]
        },
        {
          "name": "stdout",
          "output_type": "stream",
          "text": [
            "Trial 120 failed with value None.\n"
          ]
        },
        {
          "name": "stderr",
          "output_type": "stream",
          "text": [
            "[W 2024-06-24 07:22:31,936] Trial 121 failed with parameters: {0: 0, 1: 0, 2: 0, 3: 1, 4: 0, 5: 1, 6: 0, 7: 0, 8: 1, 9: 1, 10: 1, 11: 1, 12: 0, 13: 1, 14: 1} because of the following error: The value None could not be cast to float..\n"
          ]
        },
        {
          "name": "stdout",
          "output_type": "stream",
          "text": [
            "Trial 121 failed with parameters: {0: 0, 1: 0, 2: 0, 3: 1, 4: 0, 5: 1, 6: 0, 7: 0, 8: 1, 9: 1, 10: 1, 11: 1, 12: 0, 13: 1, 14: 1} because of the following error: The value None could not be cast to float..\n"
          ]
        },
        {
          "name": "stderr",
          "output_type": "stream",
          "text": [
            "[W 2024-06-24 07:22:31,940] Trial 121 failed with value None.\n"
          ]
        },
        {
          "name": "stdout",
          "output_type": "stream",
          "text": [
            "Trial 121 failed with value None.\n"
          ]
        },
        {
          "name": "stderr",
          "output_type": "stream",
          "text": [
            "[I 2024-06-24 07:22:33,421] Trial 122 finished with values: [1.9676946179444328, 0.9855072589369598] and parameters: {0: 1, 1: 1, 2: 0, 3: 0, 4: 1, 5: 0, 6: 1, 7: 0, 8: 0, 9: 0, 10: 0, 11: 1, 12: 0, 13: 1, 14: 1}. \n"
          ]
        },
        {
          "name": "stdout",
          "output_type": "stream",
          "text": [
            "Trade times in sample: 117781 Trade times out sample: 118188\n",
            "Trial 122 finished with values: [1.9676946179444328, 0.9855072589369598] and parameters: {0: 1, 1: 1, 2: 0, 3: 0, 4: 1, 5: 0, 6: 1, 7: 0, 8: 0, 9: 0, 10: 0, 11: 1, 12: 0, 13: 1, 14: 1}. \n"
          ]
        },
        {
          "name": "stderr",
          "output_type": "stream",
          "text": [
            "[I 2024-06-24 07:22:36,567] Trial 123 finished with values: [-0.05674216863056286, 66.28261085643102] and parameters: {0: 0, 1: 0, 2: 1, 3: 1, 4: 1, 5: 1, 6: 1, 7: 1, 8: 0, 9: 0, 10: 0, 11: 0, 12: 0, 13: 1, 14: 1}. \n"
          ]
        },
        {
          "name": "stdout",
          "output_type": "stream",
          "text": [
            "Trade times in sample: 118244 Trade times out sample: 118258\n",
            "Trial 123 finished with values: [-0.05674216863056286, 66.28261085643102] and parameters: {0: 0, 1: 0, 2: 1, 3: 1, 4: 1, 5: 1, 6: 1, 7: 1, 8: 0, 9: 0, 10: 0, 11: 0, 12: 0, 13: 1, 14: 1}. \n"
          ]
        },
        {
          "name": "stderr",
          "output_type": "stream",
          "text": [
            "[I 2024-06-24 07:22:38,053] Trial 124 finished with values: [-2.232379775330895, 0.49509500485197977] and parameters: {0: 1, 1: 1, 2: 0, 3: 0, 4: 1, 5: 0, 6: 0, 7: 0, 8: 1, 9: 0, 10: 1, 11: 1, 12: 0, 13: 0, 14: 1}. \n"
          ]
        },
        {
          "name": "stdout",
          "output_type": "stream",
          "text": [
            "Trade times in sample: 117530 Trade times out sample: 118185\n",
            "Trial 124 finished with values: [-2.232379775330895, 0.49509500485197977] and parameters: {0: 1, 1: 1, 2: 0, 3: 0, 4: 1, 5: 0, 6: 0, 7: 0, 8: 1, 9: 0, 10: 1, 11: 1, 12: 0, 13: 0, 14: 1}. \n"
          ]
        },
        {
          "name": "stderr",
          "output_type": "stream",
          "text": [
            "[I 2024-06-24 07:22:39,584] Trial 125 finished with values: [-0.946105746769458, 2.3244147473260814] and parameters: {0: 1, 1: 1, 2: 0, 3: 0, 4: 0, 5: 1, 6: 0, 7: 0, 8: 1, 9: 1, 10: 1, 11: 1, 12: 1, 13: 0, 14: 0}. \n"
          ]
        },
        {
          "name": "stdout",
          "output_type": "stream",
          "text": [
            "Trade times in sample: 117924 Trade times out sample: 118187\n",
            "Trial 125 finished with values: [-0.946105746769458, 2.3244147473260814] and parameters: {0: 1, 1: 1, 2: 0, 3: 0, 4: 0, 5: 1, 6: 0, 7: 0, 8: 1, 9: 1, 10: 1, 11: 1, 12: 1, 13: 0, 14: 0}. \n"
          ]
        },
        {
          "name": "stderr",
          "output_type": "stream",
          "text": [
            "[I 2024-06-24 07:22:41,089] Trial 126 finished with values: [-0.9309966971125775, 3.4382350446190113] and parameters: {0: 1, 1: 0, 2: 1, 3: 1, 4: 0, 5: 1, 6: 0, 7: 1, 8: 0, 9: 0, 10: 1, 11: 1, 12: 0, 13: 1, 14: 0}. \n"
          ]
        },
        {
          "name": "stdout",
          "output_type": "stream",
          "text": [
            "Trade times in sample: 118005 Trade times out sample: 118188\n",
            "Trial 126 finished with values: [-0.9309966971125775, 3.4382350446190113] and parameters: {0: 1, 1: 0, 2: 1, 3: 1, 4: 0, 5: 1, 6: 0, 7: 1, 8: 0, 9: 0, 10: 1, 11: 1, 12: 0, 13: 1, 14: 0}. \n"
          ]
        },
        {
          "name": "stderr",
          "output_type": "stream",
          "text": [
            "[I 2024-06-24 07:22:42,447] Trial 127 finished with values: [-0.2743355109560668, 5.8928877084305755] and parameters: {0: 1, 1: 0, 2: 0, 3: 1, 4: 1, 5: 0, 6: 1, 7: 0, 8: 0, 9: 1, 10: 0, 11: 0, 12: 0, 13: 0, 14: 0}. \n"
          ]
        },
        {
          "name": "stdout",
          "output_type": "stream",
          "text": [
            "Trade times in sample: 118239 Trade times out sample: 115734\n",
            "Trial 127 finished with values: [-0.2743355109560668, 5.8928877084305755] and parameters: {0: 1, 1: 0, 2: 0, 3: 1, 4: 1, 5: 0, 6: 1, 7: 0, 8: 0, 9: 1, 10: 0, 11: 0, 12: 0, 13: 0, 14: 0}. \n"
          ]
        },
        {
          "name": "stderr",
          "output_type": "stream",
          "text": [
            "[I 2024-06-24 07:22:44,092] Trial 128 finished with values: [-0.13684989186634153, 21.449347399053078] and parameters: {0: 1, 1: 1, 2: 0, 3: 1, 4: 0, 5: 0, 6: 0, 7: 0, 8: 0, 9: 1, 10: 1, 11: 1, 12: 0, 13: 0, 14: 1}. \n"
          ]
        },
        {
          "name": "stdout",
          "output_type": "stream",
          "text": [
            "Trade times in sample: 118118 Trade times out sample: 118187\n",
            "Trial 128 finished with values: [-0.13684989186634153, 21.449347399053078] and parameters: {0: 1, 1: 1, 2: 0, 3: 1, 4: 0, 5: 0, 6: 0, 7: 0, 8: 0, 9: 1, 10: 1, 11: 1, 12: 0, 13: 0, 14: 1}. \n"
          ]
        },
        {
          "name": "stderr",
          "output_type": "stream",
          "text": [
            "[I 2024-06-24 07:22:45,487] Trial 129 finished with values: [-1.179221195925422, 1.9191458044920768] and parameters: {0: 0, 1: 0, 2: 0, 3: 0, 4: 0, 5: 0, 6: 0, 7: 1, 8: 0, 9: 0, 10: 0, 11: 1, 12: 1, 13: 0, 14: 1}. \n"
          ]
        },
        {
          "name": "stdout",
          "output_type": "stream",
          "text": [
            "Trade times in sample: 118244 Trade times out sample: 118187\n",
            "Trial 129 finished with values: [-1.179221195925422, 1.9191458044920768] and parameters: {0: 0, 1: 0, 2: 0, 3: 0, 4: 0, 5: 0, 6: 0, 7: 1, 8: 0, 9: 0, 10: 0, 11: 1, 12: 1, 13: 0, 14: 1}. \n"
          ]
        },
        {
          "name": "stderr",
          "output_type": "stream",
          "text": [
            "[W 2024-06-24 07:22:45,763] Trial 130 failed with parameters: {0: 0, 1: 0, 2: 0, 3: 0, 4: 1, 5: 0, 6: 0, 7: 0, 8: 0, 9: 1, 10: 1, 11: 1, 12: 0, 13: 0, 14: 1} because of the following error: The value None could not be cast to float..\n"
          ]
        },
        {
          "name": "stdout",
          "output_type": "stream",
          "text": [
            "Trial 130 failed with parameters: {0: 0, 1: 0, 2: 0, 3: 0, 4: 1, 5: 0, 6: 0, 7: 0, 8: 0, 9: 1, 10: 1, 11: 1, 12: 0, 13: 0, 14: 1} because of the following error: The value None could not be cast to float..\n"
          ]
        },
        {
          "name": "stderr",
          "output_type": "stream",
          "text": [
            "[W 2024-06-24 07:22:45,767] Trial 130 failed with value None.\n"
          ]
        },
        {
          "name": "stdout",
          "output_type": "stream",
          "text": [
            "Trial 130 failed with value None.\n"
          ]
        },
        {
          "name": "stderr",
          "output_type": "stream",
          "text": [
            "[I 2024-06-24 07:22:48,420] Trial 131 finished with values: [-1.9050310304045783, 0.8753977774925976] and parameters: {0: 1, 1: 1, 2: 1, 3: 0, 4: 0, 5: 1, 6: 0, 7: 1, 8: 1, 9: 0, 10: 0, 11: 1, 12: 0, 13: 1, 14: 1}. \n"
          ]
        },
        {
          "name": "stdout",
          "output_type": "stream",
          "text": [
            "Trade times in sample: 118244 Trade times out sample: 118187\n",
            "Trial 131 finished with values: [-1.9050310304045783, 0.8753977774925976] and parameters: {0: 1, 1: 1, 2: 1, 3: 0, 4: 0, 5: 1, 6: 0, 7: 1, 8: 1, 9: 0, 10: 0, 11: 1, 12: 0, 13: 1, 14: 1}. \n"
          ]
        },
        {
          "name": "stderr",
          "output_type": "stream",
          "text": [
            "[I 2024-06-24 07:22:50,576] Trial 132 finished with values: [-0.38443175108823313, 7.264923018760843] and parameters: {0: 1, 1: 0, 2: 0, 3: 0, 4: 0, 5: 1, 6: 0, 7: 0, 8: 1, 9: 1, 10: 1, 11: 1, 12: 1, 13: 0, 14: 0}. \n"
          ]
        },
        {
          "name": "stdout",
          "output_type": "stream",
          "text": [
            "Trade times in sample: 117537 Trade times out sample: 118187\n",
            "Trial 132 finished with values: [-0.38443175108823313, 7.264923018760843] and parameters: {0: 1, 1: 0, 2: 0, 3: 0, 4: 0, 5: 1, 6: 0, 7: 0, 8: 1, 9: 1, 10: 1, 11: 1, 12: 1, 13: 0, 14: 0}. \n"
          ]
        },
        {
          "name": "stderr",
          "output_type": "stream",
          "text": [
            "[I 2024-06-24 07:22:51,973] Trial 133 finished with values: [0.16617386913071316, 8.212612659462605] and parameters: {0: 0, 1: 1, 2: 0, 3: 0, 4: 1, 5: 0, 6: 0, 7: 0, 8: 0, 9: 1, 10: 1, 11: 1, 12: 0, 13: 0, 14: 0}. \n"
          ]
        },
        {
          "name": "stdout",
          "output_type": "stream",
          "text": [
            "Trade times in sample: 117915 Trade times out sample: 117291\n",
            "Trial 133 finished with values: [0.16617386913071316, 8.212612659462605] and parameters: {0: 0, 1: 1, 2: 0, 3: 0, 4: 1, 5: 0, 6: 0, 7: 0, 8: 0, 9: 1, 10: 1, 11: 1, 12: 0, 13: 0, 14: 0}. \n"
          ]
        },
        {
          "name": "stderr",
          "output_type": "stream",
          "text": [
            "[W 2024-06-24 07:22:52,146] Trial 134 failed with parameters: {0: 1, 1: 0, 2: 1, 3: 0, 4: 1, 5: 0, 6: 1, 7: 1, 8: 0, 9: 1, 10: 0, 11: 1, 12: 0, 13: 0, 14: 0} because of the following error: The value None could not be cast to float..\n"
          ]
        },
        {
          "name": "stdout",
          "output_type": "stream",
          "text": [
            "Trial 134 failed with parameters: {0: 1, 1: 0, 2: 1, 3: 0, 4: 1, 5: 0, 6: 1, 7: 1, 8: 0, 9: 1, 10: 0, 11: 1, 12: 0, 13: 0, 14: 0} because of the following error: The value None could not be cast to float..\n"
          ]
        },
        {
          "name": "stderr",
          "output_type": "stream",
          "text": [
            "[W 2024-06-24 07:22:52,150] Trial 134 failed with value None.\n"
          ]
        },
        {
          "name": "stdout",
          "output_type": "stream",
          "text": [
            "Trial 134 failed with value None.\n"
          ]
        },
        {
          "name": "stderr",
          "output_type": "stream",
          "text": [
            "[I 2024-06-24 07:22:53,669] Trial 135 finished with values: [-0.6148097677062737, 3.5509552318853395] and parameters: {0: 1, 1: 1, 2: 0, 3: 1, 4: 0, 5: 0, 6: 1, 7: 0, 8: 1, 9: 1, 10: 0, 11: 1, 12: 1, 13: 0, 14: 0}. \n"
          ]
        },
        {
          "name": "stdout",
          "output_type": "stream",
          "text": [
            "Trade times in sample: 117948 Trade times out sample: 116051\n",
            "Trial 135 finished with values: [-0.6148097677062737, 3.5509552318853395] and parameters: {0: 1, 1: 1, 2: 0, 3: 1, 4: 0, 5: 0, 6: 1, 7: 0, 8: 1, 9: 1, 10: 0, 11: 1, 12: 1, 13: 0, 14: 0}. \n"
          ]
        },
        {
          "name": "stderr",
          "output_type": "stream",
          "text": [
            "[I 2024-06-24 07:22:55,096] Trial 136 finished with values: [-2.3008414884227153, 0.5838187661562702] and parameters: {0: 1, 1: 0, 2: 0, 3: 0, 4: 0, 5: 0, 6: 0, 7: 0, 8: 1, 9: 0, 10: 1, 11: 1, 12: 1, 13: 0, 14: 1}. \n"
          ]
        },
        {
          "name": "stdout",
          "output_type": "stream",
          "text": [
            "Trade times in sample: 118047 Trade times out sample: 118187\n",
            "Trial 136 finished with values: [-2.3008414884227153, 0.5838187661562702] and parameters: {0: 1, 1: 0, 2: 0, 3: 0, 4: 0, 5: 0, 6: 0, 7: 0, 8: 1, 9: 0, 10: 1, 11: 1, 12: 1, 13: 0, 14: 1}. \n"
          ]
        },
        {
          "name": "stderr",
          "output_type": "stream",
          "text": [
            "[I 2024-06-24 07:22:56,656] Trial 137 finished with values: [-0.7344102872998941, 4.449462651230156] and parameters: {0: 0, 1: 1, 2: 0, 3: 1, 4: 1, 5: 1, 6: 0, 7: 1, 8: 0, 9: 0, 10: 1, 11: 1, 12: 1, 13: 0, 14: 0}. \n"
          ]
        },
        {
          "name": "stdout",
          "output_type": "stream",
          "text": [
            "Trade times in sample: 118118 Trade times out sample: 118188\n",
            "Trial 137 finished with values: [-0.7344102872998941, 4.449462651230156] and parameters: {0: 0, 1: 1, 2: 0, 3: 1, 4: 1, 5: 1, 6: 0, 7: 1, 8: 0, 9: 0, 10: 1, 11: 1, 12: 1, 13: 0, 14: 0}. \n"
          ]
        },
        {
          "name": "stderr",
          "output_type": "stream",
          "text": [
            "[I 2024-06-24 07:22:58,027] Trial 138 finished with values: [0.28111128006761193, 2.5529234387730866] and parameters: {0: 0, 1: 0, 2: 0, 3: 1, 4: 0, 5: 0, 6: 0, 7: 1, 8: 0, 9: 1, 10: 0, 11: 1, 12: 0, 13: 0, 14: 0}. \n"
          ]
        },
        {
          "name": "stdout",
          "output_type": "stream",
          "text": [
            "Trade times in sample: 118244 Trade times out sample: 112870\n",
            "Trial 138 finished with values: [0.28111128006761193, 2.5529234387730866] and parameters: {0: 0, 1: 0, 2: 0, 3: 1, 4: 0, 5: 0, 6: 0, 7: 1, 8: 0, 9: 1, 10: 0, 11: 1, 12: 0, 13: 0, 14: 0}. \n"
          ]
        },
        {
          "name": "stderr",
          "output_type": "stream",
          "text": [
            "[I 2024-06-24 07:22:59,726] Trial 139 finished with values: [-1.2104721756826426, 2.024171394539361] and parameters: {0: 1, 1: 0, 2: 1, 3: 0, 4: 0, 5: 0, 6: 1, 7: 1, 8: 1, 9: 1, 10: 1, 11: 0, 12: 1, 13: 1, 14: 0}. \n"
          ]
        },
        {
          "name": "stdout",
          "output_type": "stream",
          "text": [
            "Trade times in sample: 117932 Trade times out sample: 118187\n",
            "Trial 139 finished with values: [-1.2104721756826426, 2.024171394539361] and parameters: {0: 1, 1: 0, 2: 1, 3: 0, 4: 0, 5: 0, 6: 1, 7: 1, 8: 1, 9: 1, 10: 1, 11: 0, 12: 1, 13: 1, 14: 0}. \n"
          ]
        },
        {
          "name": "stderr",
          "output_type": "stream",
          "text": [
            "[I 2024-06-24 07:23:02,637] Trial 140 finished with values: [0.10928294185950631, 28.392755266795685] and parameters: {0: 1, 1: 0, 2: 0, 3: 1, 4: 1, 5: 1, 6: 1, 7: 1, 8: 1, 9: 0, 10: 1, 11: 1, 12: 0, 13: 1, 14: 0}. \n"
          ]
        },
        {
          "name": "stdout",
          "output_type": "stream",
          "text": [
            "Trade times in sample: 117860 Trade times out sample: 118187\n",
            "Trial 140 finished with values: [0.10928294185950631, 28.392755266795685] and parameters: {0: 1, 1: 0, 2: 0, 3: 1, 4: 1, 5: 1, 6: 1, 7: 1, 8: 1, 9: 0, 10: 1, 11: 1, 12: 0, 13: 1, 14: 0}. \n"
          ]
        },
        {
          "name": "stderr",
          "output_type": "stream",
          "text": [
            "[I 2024-06-24 07:23:04,381] Trial 141 finished with values: [-0.2711884129569421, 7.259750912058513] and parameters: {0: 0, 1: 0, 2: 1, 3: 0, 4: 1, 5: 0, 6: 1, 7: 0, 8: 0, 9: 1, 10: 0, 11: 1, 12: 0, 13: 0, 14: 0}. \n"
          ]
        },
        {
          "name": "stdout",
          "output_type": "stream",
          "text": [
            "Trade times in sample: 117667 Trade times out sample: 118187\n",
            "Trial 141 finished with values: [-0.2711884129569421, 7.259750912058513] and parameters: {0: 0, 1: 0, 2: 1, 3: 0, 4: 1, 5: 0, 6: 1, 7: 0, 8: 0, 9: 1, 10: 0, 11: 1, 12: 0, 13: 0, 14: 0}. \n"
          ]
        },
        {
          "name": "stderr",
          "output_type": "stream",
          "text": [
            "[I 2024-06-24 07:23:07,076] Trial 142 finished with values: [-0.3913076237479396, 5.804874247987127] and parameters: {0: 1, 1: 0, 2: 1, 3: 0, 4: 1, 5: 0, 6: 0, 7: 0, 8: 1, 9: 1, 10: 0, 11: 0, 12: 0, 13: 0, 14: 0}. \n"
          ]
        },
        {
          "name": "stdout",
          "output_type": "stream",
          "text": [
            "Trade times in sample: 117957 Trade times out sample: 118187\n",
            "Trial 142 finished with values: [-0.3913076237479396, 5.804874247987127] and parameters: {0: 1, 1: 0, 2: 1, 3: 0, 4: 1, 5: 0, 6: 0, 7: 0, 8: 1, 9: 1, 10: 0, 11: 0, 12: 0, 13: 0, 14: 0}. \n"
          ]
        },
        {
          "name": "stderr",
          "output_type": "stream",
          "text": [
            "[I 2024-06-24 07:23:08,638] Trial 143 finished with values: [-0.13270370581709032, 29.786573750283594] and parameters: {0: 0, 1: 0, 2: 1, 3: 1, 4: 0, 5: 1, 6: 0, 7: 0, 8: 0, 9: 1, 10: 1, 11: 0, 12: 1, 13: 1, 14: 1}. \n"
          ]
        },
        {
          "name": "stdout",
          "output_type": "stream",
          "text": [
            "Trade times in sample: 118218 Trade times out sample: 118187\n",
            "Trial 143 finished with values: [-0.13270370581709032, 29.786573750283594] and parameters: {0: 0, 1: 0, 2: 1, 3: 1, 4: 0, 5: 1, 6: 0, 7: 0, 8: 0, 9: 1, 10: 1, 11: 0, 12: 1, 13: 1, 14: 1}. \n"
          ]
        },
        {
          "name": "stderr",
          "output_type": "stream",
          "text": [
            "[I 2024-06-24 07:23:10,190] Trial 144 finished with values: [1.0513693396997366, 1.980491085843358] and parameters: {0: 1, 1: 1, 2: 0, 3: 0, 4: 0, 5: 1, 6: 1, 7: 0, 8: 1, 9: 1, 10: 0, 11: 1, 12: 0, 13: 0, 14: 1}. \n"
          ]
        },
        {
          "name": "stdout",
          "output_type": "stream",
          "text": [
            "Trade times in sample: 117537 Trade times out sample: 118187\n",
            "Trial 144 finished with values: [1.0513693396997366, 1.980491085843358] and parameters: {0: 1, 1: 1, 2: 0, 3: 0, 4: 0, 5: 1, 6: 1, 7: 0, 8: 1, 9: 1, 10: 0, 11: 1, 12: 0, 13: 0, 14: 1}. \n"
          ]
        },
        {
          "name": "stderr",
          "output_type": "stream",
          "text": [
            "[I 2024-06-24 07:23:11,795] Trial 145 finished with values: [0.3215329729473073, 9.545089825008214] and parameters: {0: 1, 1: 1, 2: 1, 3: 1, 4: 1, 5: 1, 6: 0, 7: 0, 8: 0, 9: 1, 10: 1, 11: 1, 12: 0, 13: 0, 14: 1}. \n"
          ]
        },
        {
          "name": "stdout",
          "output_type": "stream",
          "text": [
            "Trade times in sample: 117926 Trade times out sample: 118187\n",
            "Trial 145 finished with values: [0.3215329729473073, 9.545089825008214] and parameters: {0: 1, 1: 1, 2: 1, 3: 1, 4: 1, 5: 1, 6: 0, 7: 0, 8: 0, 9: 1, 10: 1, 11: 1, 12: 0, 13: 0, 14: 1}. \n"
          ]
        },
        {
          "name": "stderr",
          "output_type": "stream",
          "text": [
            "[I 2024-06-24 07:23:14,378] Trial 146 finished with values: [0.3385319304327376, 10.505985299568339] and parameters: {0: 0, 1: 0, 2: 1, 3: 0, 4: 0, 5: 1, 6: 0, 7: 1, 8: 0, 9: 0, 10: 0, 11: 1, 12: 1, 13: 0, 14: 1}. \n"
          ]
        },
        {
          "name": "stdout",
          "output_type": "stream",
          "text": [
            "Trade times in sample: 118241 Trade times out sample: 118187\n",
            "Trial 146 finished with values: [0.3385319304327376, 10.505985299568339] and parameters: {0: 0, 1: 0, 2: 1, 3: 0, 4: 0, 5: 1, 6: 0, 7: 1, 8: 0, 9: 0, 10: 0, 11: 1, 12: 1, 13: 0, 14: 1}. \n"
          ]
        },
        {
          "name": "stderr",
          "output_type": "stream",
          "text": [
            "[I 2024-06-24 07:23:16,332] Trial 147 finished with values: [0.21713154441611543, 16.502500061462026] and parameters: {0: 1, 1: 0, 2: 1, 3: 0, 4: 0, 5: 0, 6: 0, 7: 1, 8: 1, 9: 1, 10: 1, 11: 1, 12: 1, 13: 0, 14: 1}. \n"
          ]
        },
        {
          "name": "stdout",
          "output_type": "stream",
          "text": [
            "Trade times in sample: 117926 Trade times out sample: 118187\n",
            "Trial 147 finished with values: [0.21713154441611543, 16.502500061462026] and parameters: {0: 1, 1: 0, 2: 1, 3: 0, 4: 0, 5: 0, 6: 0, 7: 1, 8: 1, 9: 1, 10: 1, 11: 1, 12: 1, 13: 0, 14: 1}. \n"
          ]
        },
        {
          "name": "stderr",
          "output_type": "stream",
          "text": [
            "[I 2024-06-24 07:23:17,743] Trial 148 finished with values: [1.095895756215544, 1.9316703980484027] and parameters: {0: 0, 1: 0, 2: 0, 3: 0, 4: 1, 5: 1, 6: 0, 7: 1, 8: 0, 9: 0, 10: 1, 11: 0, 12: 1, 13: 0, 14: 0}. \n"
          ]
        },
        {
          "name": "stdout",
          "output_type": "stream",
          "text": [
            "Trade times in sample: 117545 Trade times out sample: 118198\n",
            "Trial 148 finished with values: [1.095895756215544, 1.9316703980484027] and parameters: {0: 0, 1: 0, 2: 0, 3: 0, 4: 1, 5: 1, 6: 0, 7: 1, 8: 0, 9: 0, 10: 1, 11: 0, 12: 1, 13: 0, 14: 0}. \n"
          ]
        },
        {
          "name": "stderr",
          "output_type": "stream",
          "text": [
            "[I 2024-06-24 07:23:19,326] Trial 149 finished with values: [-0.8938017782166312, 3.1197105373656306] and parameters: {0: 1, 1: 1, 2: 1, 3: 0, 4: 0, 5: 0, 6: 0, 7: 0, 8: 1, 9: 0, 10: 0, 11: 0, 12: 1, 13: 1, 14: 1}. \n"
          ]
        },
        {
          "name": "stdout",
          "output_type": "stream",
          "text": [
            "Trade times in sample: 117858 Trade times out sample: 118187\n",
            "Trial 149 finished with values: [-0.8938017782166312, 3.1197105373656306] and parameters: {0: 1, 1: 1, 2: 1, 3: 0, 4: 0, 5: 0, 6: 0, 7: 0, 8: 1, 9: 0, 10: 0, 11: 0, 12: 1, 13: 1, 14: 1}. \n"
          ]
        },
        {
          "name": "stderr",
          "output_type": "stream",
          "text": [
            "[I 2024-06-24 07:23:20,980] Trial 150 finished with values: [-0.8122160363115679, 2.930156262201898] and parameters: {0: 1, 1: 1, 2: 0, 3: 1, 4: 0, 5: 0, 6: 0, 7: 1, 8: 0, 9: 1, 10: 0, 11: 1, 12: 1, 13: 0, 14: 1}. \n"
          ]
        },
        {
          "name": "stdout",
          "output_type": "stream",
          "text": [
            "Trade times in sample: 118244 Trade times out sample: 118187\n",
            "Trial 150 finished with values: [-0.8122160363115679, 2.930156262201898] and parameters: {0: 1, 1: 1, 2: 0, 3: 1, 4: 0, 5: 0, 6: 0, 7: 1, 8: 0, 9: 1, 10: 0, 11: 1, 12: 1, 13: 0, 14: 1}. \n"
          ]
        },
        {
          "name": "stderr",
          "output_type": "stream",
          "text": [
            "[W 2024-06-24 07:23:21,163] Trial 151 failed with parameters: {0: 1, 1: 0, 2: 0, 3: 1, 4: 1, 5: 0, 6: 0, 7: 1, 8: 1, 9: 0, 10: 1, 11: 0, 12: 0, 13: 0, 14: 1} because of the following error: The value None could not be cast to float..\n"
          ]
        },
        {
          "name": "stdout",
          "output_type": "stream",
          "text": [
            "Trial 151 failed with parameters: {0: 1, 1: 0, 2: 0, 3: 1, 4: 1, 5: 0, 6: 0, 7: 1, 8: 1, 9: 0, 10: 1, 11: 0, 12: 0, 13: 0, 14: 1} because of the following error: The value None could not be cast to float..\n"
          ]
        },
        {
          "name": "stderr",
          "output_type": "stream",
          "text": [
            "[W 2024-06-24 07:23:21,168] Trial 151 failed with value None.\n"
          ]
        },
        {
          "name": "stdout",
          "output_type": "stream",
          "text": [
            "Trial 151 failed with value None.\n"
          ]
        },
        {
          "name": "stderr",
          "output_type": "stream",
          "text": [
            "[I 2024-06-24 07:23:22,795] Trial 152 finished with values: [-0.17571212812641296, 22.819374591117768] and parameters: {0: 1, 1: 0, 2: 0, 3: 1, 4: 1, 5: 1, 6: 1, 7: 1, 8: 1, 9: 0, 10: 1, 11: 1, 12: 0, 13: 1, 14: 1}. \n"
          ]
        },
        {
          "name": "stdout",
          "output_type": "stream",
          "text": [
            "Trade times in sample: 117583 Trade times out sample: 118187\n",
            "Trial 152 finished with values: [-0.17571212812641296, 22.819374591117768] and parameters: {0: 1, 1: 0, 2: 0, 3: 1, 4: 1, 5: 1, 6: 1, 7: 1, 8: 1, 9: 0, 10: 1, 11: 1, 12: 0, 13: 1, 14: 1}. \n"
          ]
        },
        {
          "name": "stderr",
          "output_type": "stream",
          "text": [
            "[I 2024-06-24 07:23:24,346] Trial 153 finished with values: [0.11141864024863345, 34.70922072878222] and parameters: {0: 1, 1: 0, 2: 1, 3: 0, 4: 1, 5: 1, 6: 1, 7: 0, 8: 0, 9: 1, 10: 0, 11: 1, 12: 0, 13: 1, 14: 1}. \n"
          ]
        },
        {
          "name": "stdout",
          "output_type": "stream",
          "text": [
            "Trade times in sample: 117932 Trade times out sample: 118187\n",
            "Trial 153 finished with values: [0.11141864024863345, 34.70922072878222] and parameters: {0: 1, 1: 0, 2: 1, 3: 0, 4: 1, 5: 1, 6: 1, 7: 0, 8: 0, 9: 1, 10: 0, 11: 1, 12: 0, 13: 1, 14: 1}. \n"
          ]
        },
        {
          "name": "stderr",
          "output_type": "stream",
          "text": [
            "[I 2024-06-24 07:23:26,569] Trial 154 finished with values: [-0.5766069936900724, 4.489103559916979] and parameters: {0: 1, 1: 1, 2: 0, 3: 1, 4: 1, 5: 0, 6: 0, 7: 1, 8: 1, 9: 0, 10: 0, 11: 1, 12: 0, 13: 0, 14: 1}. \n"
          ]
        },
        {
          "name": "stdout",
          "output_type": "stream",
          "text": [
            "Trade times in sample: 118244 Trade times out sample: 118187\n",
            "Trial 154 finished with values: [-0.5766069936900724, 4.489103559916979] and parameters: {0: 1, 1: 1, 2: 0, 3: 1, 4: 1, 5: 0, 6: 0, 7: 1, 8: 1, 9: 0, 10: 0, 11: 1, 12: 0, 13: 0, 14: 1}. \n"
          ]
        },
        {
          "name": "stderr",
          "output_type": "stream",
          "text": [
            "[I 2024-06-24 07:23:28,870] Trial 155 finished with values: [0.7770149407565174, 1.9400023044522738] and parameters: {0: 1, 1: 0, 2: 0, 3: 0, 4: 1, 5: 1, 6: 0, 7: 1, 8: 0, 9: 0, 10: 0, 11: 1, 12: 0, 13: 0, 14: 0}. \n"
          ]
        },
        {
          "name": "stdout",
          "output_type": "stream",
          "text": [
            "Trade times in sample: 117379 Trade times out sample: 118187\n",
            "Trial 155 finished with values: [0.7770149407565174, 1.9400023044522738] and parameters: {0: 1, 1: 0, 2: 0, 3: 0, 4: 1, 5: 1, 6: 0, 7: 1, 8: 0, 9: 0, 10: 0, 11: 1, 12: 0, 13: 0, 14: 0}. \n"
          ]
        },
        {
          "name": "stderr",
          "output_type": "stream",
          "text": [
            "[I 2024-06-24 07:23:30,450] Trial 156 finished with values: [-1.4135359481130394, 1.2230116968030802] and parameters: {0: 1, 1: 1, 2: 1, 3: 1, 4: 0, 5: 1, 6: 0, 7: 1, 8: 0, 9: 0, 10: 0, 11: 1, 12: 1, 13: 1, 14: 0}. \n"
          ]
        },
        {
          "name": "stdout",
          "output_type": "stream",
          "text": [
            "Trade times in sample: 118118 Trade times out sample: 118188\n",
            "Trial 156 finished with values: [-1.4135359481130394, 1.2230116968030802] and parameters: {0: 1, 1: 1, 2: 1, 3: 1, 4: 0, 5: 1, 6: 0, 7: 1, 8: 0, 9: 0, 10: 0, 11: 1, 12: 1, 13: 1, 14: 0}. \n"
          ]
        },
        {
          "name": "stderr",
          "output_type": "stream",
          "text": [
            "[I 2024-06-24 07:23:32,014] Trial 157 finished with values: [2.097289035199187, 0.7001418594574038] and parameters: {0: 1, 1: 1, 2: 0, 3: 0, 4: 1, 5: 0, 6: 0, 7: 0, 8: 0, 9: 0, 10: 1, 11: 1, 12: 1, 13: 1, 14: 1}. \n"
          ]
        },
        {
          "name": "stdout",
          "output_type": "stream",
          "text": [
            "Trade times in sample: 118119 Trade times out sample: 118187\n",
            "Trial 157 finished with values: [2.097289035199187, 0.7001418594574038] and parameters: {0: 1, 1: 1, 2: 0, 3: 0, 4: 1, 5: 0, 6: 0, 7: 0, 8: 0, 9: 0, 10: 1, 11: 1, 12: 1, 13: 1, 14: 1}. \n"
          ]
        },
        {
          "name": "stderr",
          "output_type": "stream",
          "text": [
            "[I 2024-06-24 07:23:33,640] Trial 158 finished with values: [0.41432524774224705, 8.980804208554861] and parameters: {0: 1, 1: 0, 2: 0, 3: 1, 4: 1, 5: 1, 6: 1, 7: 0, 8: 1, 9: 0, 10: 0, 11: 1, 12: 1, 13: 1, 14: 0}. \n"
          ]
        },
        {
          "name": "stdout",
          "output_type": "stream",
          "text": [
            "Trade times in sample: 117860 Trade times out sample: 118188\n",
            "Trial 158 finished with values: [0.41432524774224705, 8.980804208554861] and parameters: {0: 1, 1: 0, 2: 0, 3: 1, 4: 1, 5: 1, 6: 1, 7: 0, 8: 1, 9: 0, 10: 0, 11: 1, 12: 1, 13: 1, 14: 0}. \n"
          ]
        },
        {
          "name": "stderr",
          "output_type": "stream",
          "text": [
            "[I 2024-06-24 07:23:35,018] Trial 159 finished with values: [-0.186745400034652, 3.5178821697004947] and parameters: {0: 0, 1: 0, 2: 0, 3: 0, 4: 1, 5: 0, 6: 0, 7: 0, 8: 0, 9: 0, 10: 0, 11: 1, 12: 0, 13: 1, 14: 0}. \n"
          ]
        },
        {
          "name": "stdout",
          "output_type": "stream",
          "text": [
            "Trade times in sample: 115849 Trade times out sample: 117222\n",
            "Trial 159 finished with values: [-0.186745400034652, 3.5178821697004947] and parameters: {0: 0, 1: 0, 2: 0, 3: 0, 4: 1, 5: 0, 6: 0, 7: 0, 8: 0, 9: 0, 10: 0, 11: 1, 12: 0, 13: 1, 14: 0}. \n"
          ]
        },
        {
          "name": "stderr",
          "output_type": "stream",
          "text": [
            "[I 2024-06-24 07:23:36,661] Trial 160 finished with values: [-0.5144174488397332, 5.585196433353207] and parameters: {0: 1, 1: 1, 2: 1, 3: 0, 4: 1, 5: 0, 6: 0, 7: 1, 8: 1, 9: 1, 10: 0, 11: 1, 12: 1, 13: 1, 14: 0}. \n"
          ]
        },
        {
          "name": "stdout",
          "output_type": "stream",
          "text": [
            "Trade times in sample: 117926 Trade times out sample: 118188\n",
            "Trial 160 finished with values: [-0.5144174488397332, 5.585196433353207] and parameters: {0: 1, 1: 1, 2: 1, 3: 0, 4: 1, 5: 0, 6: 0, 7: 1, 8: 1, 9: 1, 10: 0, 11: 1, 12: 1, 13: 1, 14: 0}. \n"
          ]
        },
        {
          "name": "stderr",
          "output_type": "stream",
          "text": [
            "[I 2024-06-24 07:23:38,572] Trial 161 finished with values: [-1.1435120995488246, 2.47642107716349] and parameters: {0: 1, 1: 1, 2: 1, 3: 0, 4: 1, 5: 1, 6: 1, 7: 0, 8: 1, 9: 0, 10: 0, 11: 1, 12: 0, 13: 1, 14: 1}. \n"
          ]
        },
        {
          "name": "stdout",
          "output_type": "stream",
          "text": [
            "Trade times in sample: 117863 Trade times out sample: 118188\n",
            "Trial 161 finished with values: [-1.1435120995488246, 2.47642107716349] and parameters: {0: 1, 1: 1, 2: 1, 3: 0, 4: 1, 5: 1, 6: 1, 7: 0, 8: 1, 9: 0, 10: 0, 11: 1, 12: 0, 13: 1, 14: 1}. \n"
          ]
        },
        {
          "name": "stderr",
          "output_type": "stream",
          "text": [
            "[I 2024-06-24 07:23:41,645] Trial 162 finished with values: [0.01195404492619307, 305.9747467324988] and parameters: {0: 1, 1: 0, 2: 0, 3: 0, 4: 1, 5: 1, 6: 1, 7: 1, 8: 1, 9: 0, 10: 1, 11: 1, 12: 1, 13: 0, 14: 0}. \n"
          ]
        },
        {
          "name": "stdout",
          "output_type": "stream",
          "text": [
            "Trade times in sample: 117922 Trade times out sample: 118185\n",
            "Trial 162 finished with values: [0.01195404492619307, 305.9747467324988] and parameters: {0: 1, 1: 0, 2: 0, 3: 0, 4: 1, 5: 1, 6: 1, 7: 1, 8: 1, 9: 0, 10: 1, 11: 1, 12: 1, 13: 0, 14: 0}. \n"
          ]
        },
        {
          "name": "stderr",
          "output_type": "stream",
          "text": [
            "[I 2024-06-24 07:23:43,197] Trial 163 finished with values: [-0.17515303566163726, 20.09366316215674] and parameters: {0: 0, 1: 1, 2: 0, 3: 0, 4: 0, 5: 0, 6: 1, 7: 0, 8: 1, 9: 1, 10: 0, 11: 1, 12: 1, 13: 1, 14: 0}. \n"
          ]
        },
        {
          "name": "stdout",
          "output_type": "stream",
          "text": [
            "Trade times in sample: 118222 Trade times out sample: 118187\n",
            "Trial 163 finished with values: [-0.17515303566163726, 20.09366316215674] and parameters: {0: 0, 1: 1, 2: 0, 3: 0, 4: 0, 5: 0, 6: 1, 7: 0, 8: 1, 9: 1, 10: 0, 11: 1, 12: 1, 13: 1, 14: 0}. \n"
          ]
        },
        {
          "name": "stderr",
          "output_type": "stream",
          "text": [
            "[I 2024-06-24 07:23:44,815] Trial 164 finished with values: [-0.4904688272729687, 6.310355888110493] and parameters: {0: 1, 1: 0, 2: 1, 3: 0, 4: 1, 5: 0, 6: 1, 7: 1, 8: 0, 9: 1, 10: 1, 11: 0, 12: 0, 13: 1, 14: 0}. \n"
          ]
        },
        {
          "name": "stdout",
          "output_type": "stream",
          "text": [
            "Trade times in sample: 118005 Trade times out sample: 116767\n",
            "Trial 164 finished with values: [-0.4904688272729687, 6.310355888110493] and parameters: {0: 1, 1: 0, 2: 1, 3: 0, 4: 1, 5: 0, 6: 1, 7: 1, 8: 0, 9: 1, 10: 1, 11: 0, 12: 0, 13: 1, 14: 0}. \n"
          ]
        },
        {
          "name": "stderr",
          "output_type": "stream",
          "text": [
            "[I 2024-06-24 07:23:46,420] Trial 165 finished with values: [-1.4472077990527075, 1.2299583578859723] and parameters: {0: 1, 1: 0, 2: 0, 3: 1, 4: 1, 5: 1, 6: 0, 7: 1, 8: 1, 9: 1, 10: 1, 11: 1, 12: 0, 13: 0, 14: 1}. \n"
          ]
        },
        {
          "name": "stdout",
          "output_type": "stream",
          "text": [
            "Trade times in sample: 118244 Trade times out sample: 117232\n",
            "Trial 165 finished with values: [-1.4472077990527075, 1.2299583578859723] and parameters: {0: 1, 1: 0, 2: 0, 3: 1, 4: 1, 5: 1, 6: 0, 7: 1, 8: 1, 9: 1, 10: 1, 11: 1, 12: 0, 13: 0, 14: 1}. \n"
          ]
        },
        {
          "name": "stderr",
          "output_type": "stream",
          "text": [
            "[I 2024-06-24 07:23:47,942] Trial 166 finished with values: [0.32418358725240454, 7.772279379898839] and parameters: {0: 1, 1: 1, 2: 0, 3: 0, 4: 0, 5: 0, 6: 0, 7: 1, 8: 0, 9: 0, 10: 1, 11: 1, 12: 0, 13: 0, 14: 1}. \n"
          ]
        },
        {
          "name": "stdout",
          "output_type": "stream",
          "text": [
            "Trade times in sample: 117537 Trade times out sample: 118187\n",
            "Trial 166 finished with values: [0.32418358725240454, 7.772279379898839] and parameters: {0: 1, 1: 1, 2: 0, 3: 0, 4: 0, 5: 0, 6: 0, 7: 1, 8: 0, 9: 0, 10: 1, 11: 1, 12: 0, 13: 0, 14: 1}. \n"
          ]
        },
        {
          "name": "stderr",
          "output_type": "stream",
          "text": [
            "[I 2024-06-24 07:23:49,524] Trial 167 finished with values: [-0.8680999130654957, 1.8960577254538613] and parameters: {0: 0, 1: 1, 2: 1, 3: 0, 4: 1, 5: 0, 6: 0, 7: 0, 8: 1, 9: 0, 10: 1, 11: 1, 12: 0, 13: 0, 14: 1}. \n"
          ]
        },
        {
          "name": "stdout",
          "output_type": "stream",
          "text": [
            "Trade times in sample: 118118 Trade times out sample: 118187\n",
            "Trial 167 finished with values: [-0.8680999130654957, 1.8960577254538613] and parameters: {0: 0, 1: 1, 2: 1, 3: 0, 4: 1, 5: 0, 6: 0, 7: 0, 8: 1, 9: 0, 10: 1, 11: 1, 12: 0, 13: 0, 14: 1}. \n"
          ]
        },
        {
          "name": "stderr",
          "output_type": "stream",
          "text": [
            "[W 2024-06-24 07:23:49,730] Trial 168 failed with parameters: {0: 1, 1: 0, 2: 1, 3: 0, 4: 1, 5: 0, 6: 0, 7: 1, 8: 1, 9: 1, 10: 1, 11: 0, 12: 1, 13: 1, 14: 0} because of the following error: The value None could not be cast to float..\n"
          ]
        },
        {
          "name": "stdout",
          "output_type": "stream",
          "text": [
            "Trial 168 failed with parameters: {0: 1, 1: 0, 2: 1, 3: 0, 4: 1, 5: 0, 6: 0, 7: 1, 8: 1, 9: 1, 10: 1, 11: 0, 12: 1, 13: 1, 14: 0} because of the following error: The value None could not be cast to float..\n"
          ]
        },
        {
          "name": "stderr",
          "output_type": "stream",
          "text": [
            "[W 2024-06-24 07:23:49,738] Trial 168 failed with value None.\n"
          ]
        },
        {
          "name": "stdout",
          "output_type": "stream",
          "text": [
            "Trial 168 failed with value None.\n"
          ]
        },
        {
          "name": "stderr",
          "output_type": "stream",
          "text": [
            "[I 2024-06-24 07:23:51,299] Trial 169 finished with values: [-1.5074308402074694, 1.3956720912575635] and parameters: {0: 1, 1: 1, 2: 1, 3: 0, 4: 1, 5: 0, 6: 1, 7: 0, 8: 1, 9: 0, 10: 0, 11: 1, 12: 1, 13: 0, 14: 0}. \n"
          ]
        },
        {
          "name": "stdout",
          "output_type": "stream",
          "text": [
            "Trade times in sample: 118047 Trade times out sample: 118188\n",
            "Trial 169 finished with values: [-1.5074308402074694, 1.3956720912575635] and parameters: {0: 1, 1: 1, 2: 1, 3: 0, 4: 1, 5: 0, 6: 1, 7: 0, 8: 1, 9: 0, 10: 0, 11: 1, 12: 1, 13: 0, 14: 0}. \n"
          ]
        },
        {
          "name": "stderr",
          "output_type": "stream",
          "text": [
            "[I 2024-06-24 07:23:54,940] Trial 170 finished with values: [0.33673807488939067, 10.180132469659807] and parameters: {0: 1, 1: 1, 2: 0, 3: 1, 4: 0, 5: 1, 6: 0, 7: 1, 8: 1, 9: 1, 10: 0, 11: 1, 12: 0, 13: 1, 14: 1}. \n"
          ]
        },
        {
          "name": "stdout",
          "output_type": "stream",
          "text": [
            "Trade times in sample: 117590 Trade times out sample: 118187\n",
            "Trial 170 finished with values: [0.33673807488939067, 10.180132469659807] and parameters: {0: 1, 1: 1, 2: 0, 3: 1, 4: 0, 5: 1, 6: 0, 7: 1, 8: 1, 9: 1, 10: 0, 11: 1, 12: 0, 13: 1, 14: 1}. \n"
          ]
        },
        {
          "name": "stderr",
          "output_type": "stream",
          "text": [
            "[I 2024-06-24 07:23:56,358] Trial 171 finished with values: [-0.41770139888767915, 8.138049726375693] and parameters: {0: 0, 1: 0, 2: 0, 3: 0, 4: 1, 5: 0, 6: 0, 7: 1, 8: 0, 9: 0, 10: 0, 11: 1, 12: 1, 13: 0, 14: 0}. \n"
          ]
        },
        {
          "name": "stdout",
          "output_type": "stream",
          "text": [
            "Trade times in sample: 116561 Trade times out sample: 117253\n",
            "Trial 171 finished with values: [-0.41770139888767915, 8.138049726375693] and parameters: {0: 0, 1: 0, 2: 0, 3: 0, 4: 1, 5: 0, 6: 0, 7: 1, 8: 0, 9: 0, 10: 0, 11: 1, 12: 1, 13: 0, 14: 0}. \n"
          ]
        },
        {
          "name": "stderr",
          "output_type": "stream",
          "text": [
            "[I 2024-06-24 07:23:57,921] Trial 172 finished with values: [-1.2310441896225865, 1.2332996329290604] and parameters: {0: 1, 1: 0, 2: 0, 3: 0, 4: 0, 5: 1, 6: 1, 7: 1, 8: 1, 9: 0, 10: 1, 11: 1, 12: 0, 13: 0, 14: 1}. \n"
          ]
        },
        {
          "name": "stdout",
          "output_type": "stream",
          "text": [
            "Trade times in sample: 118244 Trade times out sample: 118187\n",
            "Trial 172 finished with values: [-1.2310441896225865, 1.2332996329290604] and parameters: {0: 1, 1: 0, 2: 0, 3: 0, 4: 0, 5: 1, 6: 1, 7: 1, 8: 1, 9: 0, 10: 1, 11: 1, 12: 0, 13: 0, 14: 1}. \n"
          ]
        },
        {
          "name": "stderr",
          "output_type": "stream",
          "text": [
            "[I 2024-06-24 07:23:59,347] Trial 173 finished with values: [-1.9589024437850866, 0.44886576145964874] and parameters: {0: 1, 1: 0, 2: 0, 3: 0, 4: 0, 5: 0, 6: 0, 7: 0, 8: 1, 9: 0, 10: 1, 11: 0, 12: 0, 13: 0, 14: 1}. \n"
          ]
        },
        {
          "name": "stdout",
          "output_type": "stream",
          "text": [
            "Trade times in sample: 117315 Trade times out sample: 118187\n",
            "Trial 173 finished with values: [-1.9589024437850866, 0.44886576145964874] and parameters: {0: 1, 1: 0, 2: 0, 3: 0, 4: 0, 5: 0, 6: 0, 7: 0, 8: 1, 9: 0, 10: 1, 11: 0, 12: 0, 13: 0, 14: 1}. \n"
          ]
        },
        {
          "name": "stderr",
          "output_type": "stream",
          "text": [
            "[I 2024-06-24 07:24:00,882] Trial 174 finished with values: [0.31406913626966665, 10.248117165228797] and parameters: {0: 0, 1: 0, 2: 0, 3: 1, 4: 0, 5: 0, 6: 1, 7: 1, 8: 0, 9: 0, 10: 1, 11: 1, 12: 0, 13: 1, 14: 1}. \n"
          ]
        },
        {
          "name": "stdout",
          "output_type": "stream",
          "text": [
            "Trade times in sample: 118244 Trade times out sample: 118187\n",
            "Trial 174 finished with values: [0.31406913626966665, 10.248117165228797] and parameters: {0: 0, 1: 0, 2: 0, 3: 1, 4: 0, 5: 0, 6: 1, 7: 1, 8: 0, 9: 0, 10: 1, 11: 1, 12: 0, 13: 1, 14: 1}. \n"
          ]
        },
        {
          "name": "stderr",
          "output_type": "stream",
          "text": [
            "[I 2024-06-24 07:24:02,432] Trial 175 finished with values: [-0.6278943865990482, 3.1126854314412036] and parameters: {0: 1, 1: 1, 2: 0, 3: 0, 4: 1, 5: 0, 6: 0, 7: 0, 8: 1, 9: 1, 10: 0, 11: 1, 12: 0, 13: 0, 14: 1}. \n"
          ]
        },
        {
          "name": "stdout",
          "output_type": "stream",
          "text": [
            "Trade times in sample: 117537 Trade times out sample: 118187\n",
            "Trial 175 finished with values: [-0.6278943865990482, 3.1126854314412036] and parameters: {0: 1, 1: 1, 2: 0, 3: 0, 4: 1, 5: 0, 6: 0, 7: 0, 8: 1, 9: 1, 10: 0, 11: 1, 12: 0, 13: 0, 14: 1}. \n"
          ]
        },
        {
          "name": "stderr",
          "output_type": "stream",
          "text": [
            "[I 2024-06-24 07:24:03,994] Trial 176 finished with values: [-0.029677210703518007, 135.71789118340297] and parameters: {0: 0, 1: 0, 2: 0, 3: 1, 4: 0, 5: 0, 6: 0, 7: 1, 8: 0, 9: 0, 10: 0, 11: 1, 12: 1, 13: 0, 14: 0}. \n"
          ]
        },
        {
          "name": "stdout",
          "output_type": "stream",
          "text": [
            "Trade times in sample: 116561 Trade times out sample: 117256\n",
            "Trial 176 finished with values: [-0.029677210703518007, 135.71789118340297] and parameters: {0: 0, 1: 0, 2: 0, 3: 1, 4: 0, 5: 0, 6: 0, 7: 1, 8: 0, 9: 0, 10: 0, 11: 1, 12: 1, 13: 0, 14: 0}. \n"
          ]
        },
        {
          "name": "stderr",
          "output_type": "stream",
          "text": [
            "[I 2024-06-24 07:24:06,352] Trial 177 finished with values: [0.10869469357803202, 17.05832264833456] and parameters: {0: 0, 1: 1, 2: 0, 3: 0, 4: 1, 5: 0, 6: 0, 7: 0, 8: 0, 9: 0, 10: 0, 11: 1, 12: 0, 13: 0, 14: 1}. \n"
          ]
        },
        {
          "name": "stdout",
          "output_type": "stream",
          "text": [
            "Trade times in sample: 117924 Trade times out sample: 118187\n",
            "Trial 177 finished with values: [0.10869469357803202, 17.05832264833456] and parameters: {0: 0, 1: 1, 2: 0, 3: 0, 4: 1, 5: 0, 6: 0, 7: 0, 8: 0, 9: 0, 10: 0, 11: 1, 12: 0, 13: 0, 14: 1}. \n"
          ]
        },
        {
          "name": "stderr",
          "output_type": "stream",
          "text": [
            "[I 2024-06-24 07:24:08,747] Trial 178 finished with values: [-1.1055970140945663, 2.105002494484381] and parameters: {0: 0, 1: 1, 2: 0, 3: 1, 4: 1, 5: 0, 6: 0, 7: 1, 8: 1, 9: 0, 10: 0, 11: 1, 12: 1, 13: 1, 14: 1}. \n"
          ]
        },
        {
          "name": "stdout",
          "output_type": "stream",
          "text": [
            "Trade times in sample: 118047 Trade times out sample: 118187\n",
            "Trial 178 finished with values: [-1.1055970140945663, 2.105002494484381] and parameters: {0: 0, 1: 1, 2: 0, 3: 1, 4: 1, 5: 0, 6: 0, 7: 1, 8: 1, 9: 0, 10: 0, 11: 1, 12: 1, 13: 1, 14: 1}. \n"
          ]
        },
        {
          "name": "stderr",
          "output_type": "stream",
          "text": [
            "[I 2024-06-24 07:24:10,205] Trial 179 finished with values: [-1.1325706567868388, 1.546760765651352] and parameters: {0: 0, 1: 0, 2: 1, 3: 0, 4: 0, 5: 0, 6: 0, 7: 0, 8: 1, 9: 0, 10: 0, 11: 1, 12: 1, 13: 0, 14: 0}. \n"
          ]
        },
        {
          "name": "stdout",
          "output_type": "stream",
          "text": [
            "Trade times in sample: 118047 Trade times out sample: 118187\n",
            "Trial 179 finished with values: [-1.1325706567868388, 1.546760765651352] and parameters: {0: 0, 1: 0, 2: 1, 3: 0, 4: 0, 5: 0, 6: 0, 7: 0, 8: 1, 9: 0, 10: 0, 11: 1, 12: 1, 13: 0, 14: 0}. \n"
          ]
        },
        {
          "name": "stderr",
          "output_type": "stream",
          "text": [
            "[I 2024-06-24 07:24:11,771] Trial 180 finished with values: [-0.656488636162878, 2.7986637123576696] and parameters: {0: 0, 1: 1, 2: 1, 3: 1, 4: 1, 5: 0, 6: 0, 7: 1, 8: 0, 9: 0, 10: 0, 11: 1, 12: 0, 13: 0, 14: 1}. \n"
          ]
        },
        {
          "name": "stdout",
          "output_type": "stream",
          "text": [
            "Trade times in sample: 118244 Trade times out sample: 118187\n",
            "Trial 180 finished with values: [-0.656488636162878, 2.7986637123576696] and parameters: {0: 0, 1: 1, 2: 1, 3: 1, 4: 1, 5: 0, 6: 0, 7: 1, 8: 0, 9: 0, 10: 0, 11: 1, 12: 0, 13: 0, 14: 1}. \n"
          ]
        },
        {
          "name": "stderr",
          "output_type": "stream",
          "text": [
            "[I 2024-06-24 07:24:13,452] Trial 181 finished with values: [-0.7648465920326404, 3.754219370933601] and parameters: {0: 1, 1: 1, 2: 1, 3: 0, 4: 1, 5: 1, 6: 0, 7: 0, 8: 0, 9: 0, 10: 1, 11: 1, 12: 1, 13: 1, 14: 1}. \n"
          ]
        },
        {
          "name": "stdout",
          "output_type": "stream",
          "text": [
            "Trade times in sample: 117926 Trade times out sample: 118187\n",
            "Trial 181 finished with values: [-0.7648465920326404, 3.754219370933601] and parameters: {0: 1, 1: 1, 2: 1, 3: 0, 4: 1, 5: 1, 6: 0, 7: 0, 8: 0, 9: 0, 10: 1, 11: 1, 12: 1, 13: 1, 14: 1}. \n"
          ]
        },
        {
          "name": "stderr",
          "output_type": "stream",
          "text": [
            "[I 2024-06-24 07:24:14,985] Trial 182 finished with values: [-0.39781796935137886, 8.285116077257047] and parameters: {0: 1, 1: 1, 2: 0, 3: 0, 4: 1, 5: 0, 6: 0, 7: 0, 8: 0, 9: 0, 10: 1, 11: 1, 12: 0, 13: 0, 14: 1}. \n"
          ]
        },
        {
          "name": "stdout",
          "output_type": "stream",
          "text": [
            "Trade times in sample: 117051 Trade times out sample: 115747\n",
            "Trial 182 finished with values: [-0.39781796935137886, 8.285116077257047] and parameters: {0: 1, 1: 1, 2: 0, 3: 0, 4: 1, 5: 0, 6: 0, 7: 0, 8: 0, 9: 0, 10: 1, 11: 1, 12: 0, 13: 0, 14: 1}. \n"
          ]
        },
        {
          "name": "stderr",
          "output_type": "stream",
          "text": [
            "[I 2024-06-24 07:24:16,637] Trial 183 finished with values: [0.598087377938427, 3.530348979702188] and parameters: {0: 0, 1: 1, 2: 0, 3: 1, 4: 1, 5: 0, 6: 1, 7: 0, 8: 0, 9: 1, 10: 1, 11: 1, 12: 0, 13: 1, 14: 0}. \n"
          ]
        },
        {
          "name": "stdout",
          "output_type": "stream",
          "text": [
            "Trade times in sample: 118118 Trade times out sample: 118206\n",
            "Trial 183 finished with values: [0.598087377938427, 3.530348979702188] and parameters: {0: 0, 1: 1, 2: 0, 3: 1, 4: 1, 5: 0, 6: 1, 7: 0, 8: 0, 9: 1, 10: 1, 11: 1, 12: 0, 13: 1, 14: 0}. \n"
          ]
        },
        {
          "name": "stderr",
          "output_type": "stream",
          "text": [
            "[I 2024-06-24 07:24:18,911] Trial 184 finished with values: [-0.21230729507568288, 17.177244678135526] and parameters: {0: 0, 1: 1, 2: 0, 3: 1, 4: 1, 5: 1, 6: 1, 7: 1, 8: 0, 9: 1, 10: 0, 11: 1, 12: 1, 13: 1, 14: 0}. \n"
          ]
        },
        {
          "name": "stdout",
          "output_type": "stream",
          "text": [
            "Trade times in sample: 118118 Trade times out sample: 118188\n",
            "Trial 184 finished with values: [-0.21230729507568288, 17.177244678135526] and parameters: {0: 0, 1: 1, 2: 0, 3: 1, 4: 1, 5: 1, 6: 1, 7: 1, 8: 0, 9: 1, 10: 0, 11: 1, 12: 1, 13: 1, 14: 0}. \n"
          ]
        },
        {
          "name": "stderr",
          "output_type": "stream",
          "text": [
            "[I 2024-06-24 07:24:21,184] Trial 185 finished with values: [-1.2075319307766768, 2.4168959347237817] and parameters: {0: 1, 1: 0, 2: 0, 3: 0, 4: 1, 5: 0, 6: 0, 7: 0, 8: 1, 9: 0, 10: 0, 11: 1, 12: 0, 13: 1, 14: 1}. \n"
          ]
        },
        {
          "name": "stdout",
          "output_type": "stream",
          "text": [
            "Trade times in sample: 117856 Trade times out sample: 118187\n",
            "Trial 185 finished with values: [-1.2075319307766768, 2.4168959347237817] and parameters: {0: 1, 1: 0, 2: 0, 3: 0, 4: 1, 5: 0, 6: 0, 7: 0, 8: 1, 9: 0, 10: 0, 11: 1, 12: 0, 13: 1, 14: 1}. \n"
          ]
        },
        {
          "name": "stderr",
          "output_type": "stream",
          "text": [
            "[I 2024-06-24 07:24:22,694] Trial 186 finished with values: [-0.774699362214129, 3.0647428112147637] and parameters: {0: 0, 1: 0, 2: 0, 3: 0, 4: 1, 5: 1, 6: 0, 7: 1, 8: 1, 9: 0, 10: 1, 11: 0, 12: 1, 13: 0, 14: 0}. \n"
          ]
        },
        {
          "name": "stdout",
          "output_type": "stream",
          "text": [
            "Trade times in sample: 117546 Trade times out sample: 118187\n",
            "Trial 186 finished with values: [-0.774699362214129, 3.0647428112147637] and parameters: {0: 0, 1: 0, 2: 0, 3: 0, 4: 1, 5: 1, 6: 0, 7: 1, 8: 1, 9: 0, 10: 1, 11: 0, 12: 1, 13: 0, 14: 0}. \n"
          ]
        },
        {
          "name": "stderr",
          "output_type": "stream",
          "text": [
            "[I 2024-06-24 07:24:24,144] Trial 187 finished with values: [0.6407597642108817, 4.796833242464251] and parameters: {0: 1, 1: 0, 2: 0, 3: 0, 4: 1, 5: 0, 6: 0, 7: 0, 8: 0, 9: 0, 10: 0, 11: 0, 12: 1, 13: 0, 14: 1}. \n"
          ]
        },
        {
          "name": "stdout",
          "output_type": "stream",
          "text": [
            "Trade times in sample: 118119 Trade times out sample: 116038\n",
            "Trial 187 finished with values: [0.6407597642108817, 4.796833242464251] and parameters: {0: 1, 1: 0, 2: 0, 3: 0, 4: 1, 5: 0, 6: 0, 7: 0, 8: 0, 9: 0, 10: 0, 11: 0, 12: 1, 13: 0, 14: 1}. \n"
          ]
        },
        {
          "name": "stderr",
          "output_type": "stream",
          "text": [
            "[W 2024-06-24 07:24:24,367] Trial 188 failed with parameters: {0: 0, 1: 1, 2: 0, 3: 1, 4: 0, 5: 0, 6: 0, 7: 0, 8: 0, 9: 0, 10: 1, 11: 1, 12: 0, 13: 0, 14: 1} because of the following error: The value None could not be cast to float..\n"
          ]
        },
        {
          "name": "stdout",
          "output_type": "stream",
          "text": [
            "Trial 188 failed with parameters: {0: 0, 1: 1, 2: 0, 3: 1, 4: 0, 5: 0, 6: 0, 7: 0, 8: 0, 9: 0, 10: 1, 11: 1, 12: 0, 13: 0, 14: 1} because of the following error: The value None could not be cast to float..\n"
          ]
        },
        {
          "name": "stderr",
          "output_type": "stream",
          "text": [
            "[W 2024-06-24 07:24:24,370] Trial 188 failed with value None.\n"
          ]
        },
        {
          "name": "stdout",
          "output_type": "stream",
          "text": [
            "Trial 188 failed with value None.\n"
          ]
        },
        {
          "name": "stderr",
          "output_type": "stream",
          "text": [
            "[I 2024-06-24 07:24:26,051] Trial 189 finished with values: [0.7418139368065007, 5.037498845451527] and parameters: {0: 1, 1: 0, 2: 0, 3: 0, 4: 1, 5: 0, 6: 0, 7: 0, 8: 0, 9: 0, 10: 0, 11: 1, 12: 1, 13: 1, 14: 1}. \n"
          ]
        },
        {
          "name": "stdout",
          "output_type": "stream",
          "text": [
            "Trade times in sample: 118195 Trade times out sample: 118187\n",
            "Trial 189 finished with values: [0.7418139368065007, 5.037498845451527] and parameters: {0: 1, 1: 0, 2: 0, 3: 0, 4: 1, 5: 0, 6: 0, 7: 0, 8: 0, 9: 0, 10: 0, 11: 1, 12: 1, 13: 1, 14: 1}. \n"
          ]
        },
        {
          "name": "stderr",
          "output_type": "stream",
          "text": [
            "[I 2024-06-24 07:24:27,591] Trial 190 finished with values: [1.30689130976693, 1.1209956041461697] and parameters: {0: 1, 1: 0, 2: 0, 3: 0, 4: 1, 5: 1, 6: 1, 7: 1, 8: 0, 9: 0, 10: 1, 11: 0, 12: 0, 13: 0, 14: 0}. \n"
          ]
        },
        {
          "name": "stdout",
          "output_type": "stream",
          "text": [
            "Trade times in sample: 116800 Trade times out sample: 118187\n",
            "Trial 190 finished with values: [1.30689130976693, 1.1209956041461697] and parameters: {0: 1, 1: 0, 2: 0, 3: 0, 4: 1, 5: 1, 6: 1, 7: 1, 8: 0, 9: 0, 10: 1, 11: 0, 12: 0, 13: 0, 14: 0}. \n"
          ]
        },
        {
          "name": "stderr",
          "output_type": "stream",
          "text": [
            "[I 2024-06-24 07:24:29,066] Trial 191 finished with values: [-1.4176441191391065, 0.440162583592111] and parameters: {0: 0, 1: 1, 2: 0, 3: 1, 4: 1, 5: 1, 6: 0, 7: 0, 8: 0, 9: 0, 10: 0, 11: 1, 12: 0, 13: 0, 14: 0}. \n"
          ]
        },
        {
          "name": "stdout",
          "output_type": "stream",
          "text": [
            "Trade times in sample: 117345 Trade times out sample: 118187\n",
            "Trial 191 finished with values: [-1.4176441191391065, 0.440162583592111] and parameters: {0: 0, 1: 1, 2: 0, 3: 1, 4: 1, 5: 1, 6: 0, 7: 0, 8: 0, 9: 0, 10: 0, 11: 1, 12: 0, 13: 0, 14: 0}. \n"
          ]
        },
        {
          "name": "stderr",
          "output_type": "stream",
          "text": [
            "[I 2024-06-24 07:24:30,920] Trial 192 finished with values: [-1.1189029127308978, 1.908711921518051] and parameters: {0: 1, 1: 0, 2: 1, 3: 0, 4: 0, 5: 0, 6: 0, 7: 0, 8: 0, 9: 0, 10: 0, 11: 1, 12: 1, 13: 1, 14: 1}. \n"
          ]
        },
        {
          "name": "stdout",
          "output_type": "stream",
          "text": [
            "Trade times in sample: 118119 Trade times out sample: 118187\n",
            "Trial 192 finished with values: [-1.1189029127308978, 1.908711921518051] and parameters: {0: 1, 1: 0, 2: 1, 3: 0, 4: 0, 5: 0, 6: 0, 7: 0, 8: 0, 9: 0, 10: 0, 11: 1, 12: 1, 13: 1, 14: 1}. \n"
          ]
        },
        {
          "name": "stderr",
          "output_type": "stream",
          "text": [
            "[I 2024-06-24 07:24:33,863] Trial 193 finished with values: [-0.8623581522468078, 1.8021022001105065] and parameters: {0: 0, 1: 1, 2: 1, 3: 0, 4: 1, 5: 0, 6: 0, 7: 0, 8: 0, 9: 0, 10: 0, 11: 1, 12: 0, 13: 0, 14: 1}. \n"
          ]
        },
        {
          "name": "stdout",
          "output_type": "stream",
          "text": [
            "Trade times in sample: 117781 Trade times out sample: 118187\n",
            "Trial 193 finished with values: [-0.8623581522468078, 1.8021022001105065] and parameters: {0: 0, 1: 1, 2: 1, 3: 0, 4: 1, 5: 0, 6: 0, 7: 0, 8: 0, 9: 0, 10: 0, 11: 1, 12: 0, 13: 0, 14: 1}. \n"
          ]
        },
        {
          "name": "stderr",
          "output_type": "stream",
          "text": [
            "[W 2024-06-24 07:24:34,104] Trial 194 failed with parameters: {0: 1, 1: 1, 2: 0, 3: 0, 4: 0, 5: 1, 6: 1, 7: 1, 8: 1, 9: 0, 10: 0, 11: 1, 12: 0, 13: 0, 14: 1} because of the following error: The value None could not be cast to float..\n"
          ]
        },
        {
          "name": "stdout",
          "output_type": "stream",
          "text": [
            "Trial 194 failed with parameters: {0: 1, 1: 1, 2: 0, 3: 0, 4: 0, 5: 1, 6: 1, 7: 1, 8: 1, 9: 0, 10: 0, 11: 1, 12: 0, 13: 0, 14: 1} because of the following error: The value None could not be cast to float..\n"
          ]
        },
        {
          "name": "stderr",
          "output_type": "stream",
          "text": [
            "[W 2024-06-24 07:24:34,108] Trial 194 failed with value None.\n"
          ]
        },
        {
          "name": "stdout",
          "output_type": "stream",
          "text": [
            "Trial 194 failed with value None.\n"
          ]
        },
        {
          "name": "stderr",
          "output_type": "stream",
          "text": [
            "[I 2024-06-24 07:24:35,841] Trial 195 finished with values: [-1.4936301149601572, 1.1684694345258824] and parameters: {0: 1, 1: 1, 2: 0, 3: 0, 4: 1, 5: 0, 6: 0, 7: 0, 8: 0, 9: 0, 10: 1, 11: 1, 12: 1, 13: 0, 14: 1}. \n"
          ]
        },
        {
          "name": "stdout",
          "output_type": "stream",
          "text": [
            "Trade times in sample: 118119 Trade times out sample: 118187\n",
            "Trial 195 finished with values: [-1.4936301149601572, 1.1684694345258824] and parameters: {0: 1, 1: 1, 2: 0, 3: 0, 4: 1, 5: 0, 6: 0, 7: 0, 8: 0, 9: 0, 10: 1, 11: 1, 12: 1, 13: 0, 14: 1}. \n"
          ]
        },
        {
          "name": "stderr",
          "output_type": "stream",
          "text": [
            "[I 2024-06-24 07:24:37,445] Trial 196 finished with values: [-0.3289731604718246, 9.58596832845658] and parameters: {0: 1, 1: 0, 2: 1, 3: 0, 4: 1, 5: 1, 6: 0, 7: 1, 8: 1, 9: 0, 10: 0, 11: 1, 12: 0, 13: 1, 14: 0}. \n"
          ]
        },
        {
          "name": "stdout",
          "output_type": "stream",
          "text": [
            "Trade times in sample: 117583 Trade times out sample: 118258\n",
            "Trial 196 finished with values: [-0.3289731604718246, 9.58596832845658] and parameters: {0: 1, 1: 0, 2: 1, 3: 0, 4: 1, 5: 1, 6: 0, 7: 1, 8: 1, 9: 0, 10: 0, 11: 1, 12: 0, 13: 1, 14: 0}. \n"
          ]
        },
        {
          "name": "stderr",
          "output_type": "stream",
          "text": [
            "[W 2024-06-24 07:24:37,679] Trial 197 failed with parameters: {0: 1, 1: 1, 2: 1, 3: 0, 4: 0, 5: 0, 6: 0, 7: 0, 8: 0, 9: 0, 10: 0, 11: 1, 12: 1, 13: 1, 14: 1} because of the following error: The value None could not be cast to float..\n"
          ]
        },
        {
          "name": "stdout",
          "output_type": "stream",
          "text": [
            "Trial 197 failed with parameters: {0: 1, 1: 1, 2: 1, 3: 0, 4: 0, 5: 0, 6: 0, 7: 0, 8: 0, 9: 0, 10: 0, 11: 1, 12: 1, 13: 1, 14: 1} because of the following error: The value None could not be cast to float..\n"
          ]
        },
        {
          "name": "stderr",
          "output_type": "stream",
          "text": [
            "[W 2024-06-24 07:24:37,684] Trial 197 failed with value None.\n"
          ]
        },
        {
          "name": "stdout",
          "output_type": "stream",
          "text": [
            "Trial 197 failed with value None.\n"
          ]
        },
        {
          "name": "stderr",
          "output_type": "stream",
          "text": [
            "[I 2024-06-24 07:24:39,262] Trial 198 finished with values: [-1.1590567894364114, 2.095502471629976] and parameters: {0: 1, 1: 1, 2: 0, 3: 0, 4: 1, 5: 0, 6: 0, 7: 0, 8: 1, 9: 0, 10: 0, 11: 1, 12: 0, 13: 1, 14: 0}. \n"
          ]
        },
        {
          "name": "stdout",
          "output_type": "stream",
          "text": [
            "Trade times in sample: 117530 Trade times out sample: 117253\n",
            "Trial 198 finished with values: [-1.1590567894364114, 2.095502471629976] and parameters: {0: 1, 1: 1, 2: 0, 3: 0, 4: 1, 5: 0, 6: 0, 7: 0, 8: 1, 9: 0, 10: 0, 11: 1, 12: 0, 13: 1, 14: 0}. \n"
          ]
        },
        {
          "name": "stderr",
          "output_type": "stream",
          "text": [
            "[I 2024-06-24 07:24:40,751] Trial 199 finished with values: [-2.0433320560942576, 0.72402669710005] and parameters: {0: 1, 1: 0, 2: 0, 3: 0, 4: 0, 5: 0, 6: 0, 7: 0, 8: 1, 9: 0, 10: 1, 11: 0, 12: 1, 13: 0, 14: 1}. \n"
          ]
        },
        {
          "name": "stdout",
          "output_type": "stream",
          "text": [
            "Trade times in sample: 118047 Trade times out sample: 118187\n",
            "Trial 199 finished with values: [-2.0433320560942576, 0.72402669710005] and parameters: {0: 1, 1: 0, 2: 0, 3: 0, 4: 0, 5: 0, 6: 0, 7: 0, 8: 1, 9: 0, 10: 1, 11: 0, 12: 1, 13: 0, 14: 1}. \n"
          ]
        },
        {
          "name": "stderr",
          "output_type": "stream",
          "text": [
            "[I 2024-06-24 07:24:42,407] Trial 200 finished with values: [0.19477535544958163, 15.386399526187304] and parameters: {0: 0, 1: 1, 2: 0, 3: 0, 4: 0, 5: 0, 6: 0, 7: 1, 8: 0, 9: 0, 10: 0, 11: 1, 12: 0, 13: 1, 14: 1}. \n"
          ]
        },
        {
          "name": "stdout",
          "output_type": "stream",
          "text": [
            "Trade times in sample: 117536 Trade times out sample: 118187\n",
            "Trial 200 finished with values: [0.19477535544958163, 15.386399526187304] and parameters: {0: 0, 1: 1, 2: 0, 3: 0, 4: 0, 5: 0, 6: 0, 7: 1, 8: 0, 9: 0, 10: 0, 11: 1, 12: 0, 13: 1, 14: 1}. \n"
          ]
        },
        {
          "name": "stderr",
          "output_type": "stream",
          "text": [
            "[I 2024-06-24 07:24:44,234] Trial 201 finished with values: [-0.7554826799735761, 4.554533037966095] and parameters: {0: 1, 1: 0, 2: 0, 3: 1, 4: 0, 5: 0, 6: 1, 7: 1, 8: 1, 9: 0, 10: 0, 11: 1, 12: 1, 13: 0, 14: 0}. \n"
          ]
        },
        {
          "name": "stdout",
          "output_type": "stream",
          "text": [
            "Trade times in sample: 117856 Trade times out sample: 117476\n",
            "Trial 201 finished with values: [-0.7554826799735761, 4.554533037966095] and parameters: {0: 1, 1: 0, 2: 0, 3: 1, 4: 0, 5: 0, 6: 1, 7: 1, 8: 1, 9: 0, 10: 0, 11: 1, 12: 1, 13: 0, 14: 0}. \n"
          ]
        },
        {
          "name": "stderr",
          "output_type": "stream",
          "text": [
            "[I 2024-06-24 07:24:47,042] Trial 202 finished with values: [0.18923089359927736, 12.721753047404597] and parameters: {0: 0, 1: 1, 2: 0, 3: 0, 4: 1, 5: 1, 6: 0, 7: 0, 8: 0, 9: 0, 10: 1, 11: 1, 12: 1, 13: 1, 14: 0}. \n"
          ]
        },
        {
          "name": "stdout",
          "output_type": "stream",
          "text": [
            "Trade times in sample: 118118 Trade times out sample: 118208\n",
            "Trial 202 finished with values: [0.18923089359927736, 12.721753047404597] and parameters: {0: 0, 1: 1, 2: 0, 3: 0, 4: 1, 5: 1, 6: 0, 7: 0, 8: 0, 9: 0, 10: 1, 11: 1, 12: 1, 13: 1, 14: 0}. \n"
          ]
        },
        {
          "name": "stderr",
          "output_type": "stream",
          "text": [
            "[I 2024-06-24 07:24:48,648] Trial 203 finished with values: [0.47122326855020846, 5.705080100570185] and parameters: {0: 1, 1: 1, 2: 0, 3: 0, 4: 1, 5: 0, 6: 1, 7: 0, 8: 0, 9: 0, 10: 1, 11: 0, 12: 0, 13: 1, 14: 1}. \n"
          ]
        },
        {
          "name": "stdout",
          "output_type": "stream",
          "text": [
            "Trade times in sample: 118119 Trade times out sample: 118188\n",
            "Trial 203 finished with values: [0.47122326855020846, 5.705080100570185] and parameters: {0: 1, 1: 1, 2: 0, 3: 0, 4: 1, 5: 0, 6: 1, 7: 0, 8: 0, 9: 0, 10: 1, 11: 0, 12: 0, 13: 1, 14: 1}. \n"
          ]
        },
        {
          "name": "stderr",
          "output_type": "stream",
          "text": [
            "[I 2024-06-24 07:24:50,120] Trial 204 finished with values: [-0.10203459818067523, 15.893676546246297] and parameters: {0: 0, 1: 1, 2: 0, 3: 0, 4: 0, 5: 0, 6: 0, 7: 0, 8: 0, 9: 0, 10: 1, 11: 1, 12: 0, 13: 0, 14: 1}. \n"
          ]
        },
        {
          "name": "stdout",
          "output_type": "stream",
          "text": [
            "Trade times in sample: 117537 Trade times out sample: 118187\n",
            "Trial 204 finished with values: [-0.10203459818067523, 15.893676546246297] and parameters: {0: 0, 1: 1, 2: 0, 3: 0, 4: 0, 5: 0, 6: 0, 7: 0, 8: 0, 9: 0, 10: 1, 11: 1, 12: 0, 13: 0, 14: 1}. \n"
          ]
        },
        {
          "name": "stderr",
          "output_type": "stream",
          "text": [
            "[I 2024-06-24 07:24:51,721] Trial 205 finished with values: [-0.8397541072609527, 2.8517796900630263] and parameters: {0: 1, 1: 0, 2: 0, 3: 0, 4: 1, 5: 1, 6: 0, 7: 1, 8: 0, 9: 0, 10: 1, 11: 1, 12: 1, 13: 0, 14: 1}. \n"
          ]
        },
        {
          "name": "stdout",
          "output_type": "stream",
          "text": [
            "Trade times in sample: 118119 Trade times out sample: 118187\n",
            "Trial 205 finished with values: [-0.8397541072609527, 2.8517796900630263] and parameters: {0: 1, 1: 0, 2: 0, 3: 0, 4: 1, 5: 1, 6: 0, 7: 1, 8: 0, 9: 0, 10: 1, 11: 1, 12: 1, 13: 0, 14: 1}. \n"
          ]
        },
        {
          "name": "stderr",
          "output_type": "stream",
          "text": [
            "[I 2024-06-24 07:24:53,404] Trial 206 finished with values: [-0.9356868637622452, 2.874980928068489] and parameters: {0: 0, 1: 0, 2: 0, 3: 0, 4: 1, 5: 0, 6: 0, 7: 1, 8: 0, 9: 1, 10: 1, 11: 1, 12: 1, 13: 1, 14: 0}. \n"
          ]
        },
        {
          "name": "stdout",
          "output_type": "stream",
          "text": [
            "Trade times in sample: 118005 Trade times out sample: 117256\n",
            "Trial 206 finished with values: [-0.9356868637622452, 2.874980928068489] and parameters: {0: 0, 1: 0, 2: 0, 3: 0, 4: 1, 5: 0, 6: 0, 7: 1, 8: 0, 9: 1, 10: 1, 11: 1, 12: 1, 13: 1, 14: 0}. \n"
          ]
        },
        {
          "name": "stderr",
          "output_type": "stream",
          "text": [
            "[I 2024-06-24 07:24:54,905] Trial 207 finished with values: [-1.2285802730594084, 0.926810475165706] and parameters: {0: 0, 1: 0, 2: 0, 3: 0, 4: 0, 5: 1, 6: 0, 7: 1, 8: 0, 9: 0, 10: 1, 11: 1, 12: 0, 13: 0, 14: 1}. \n"
          ]
        },
        {
          "name": "stdout",
          "output_type": "stream",
          "text": [
            "Trade times in sample: 118244 Trade times out sample: 117221\n",
            "Trial 207 finished with values: [-1.2285802730594084, 0.926810475165706] and parameters: {0: 0, 1: 0, 2: 0, 3: 0, 4: 0, 5: 1, 6: 0, 7: 1, 8: 0, 9: 0, 10: 1, 11: 1, 12: 0, 13: 0, 14: 1}. \n"
          ]
        },
        {
          "name": "stderr",
          "output_type": "stream",
          "text": [
            "[I 2024-06-24 07:24:56,490] Trial 208 finished with values: [-0.5742353133443104, 8.033808766146073] and parameters: {0: 1, 1: 0, 2: 0, 3: 0, 4: 1, 5: 1, 6: 1, 7: 0, 8: 0, 9: 0, 10: 1, 11: 1, 12: 1, 13: 0, 14: 1}. \n"
          ]
        },
        {
          "name": "stdout",
          "output_type": "stream",
          "text": [
            "Trade times in sample: 118058 Trade times out sample: 118187\n",
            "Trial 208 finished with values: [-0.5742353133443104, 8.033808766146073] and parameters: {0: 1, 1: 0, 2: 0, 3: 0, 4: 1, 5: 1, 6: 1, 7: 0, 8: 0, 9: 0, 10: 1, 11: 1, 12: 1, 13: 0, 14: 1}. \n"
          ]
        },
        {
          "name": "stderr",
          "output_type": "stream",
          "text": [
            "[I 2024-06-24 07:24:59,773] Trial 209 finished with values: [-1.3720314109622287, 0.9411429959447162] and parameters: {0: 1, 1: 1, 2: 0, 3: 0, 4: 0, 5: 0, 6: 0, 7: 0, 8: 0, 9: 1, 10: 0, 11: 1, 12: 1, 13: 0, 14: 1}. \n"
          ]
        },
        {
          "name": "stdout",
          "output_type": "stream",
          "text": [
            "Trade times in sample: 118119 Trade times out sample: 118187\n",
            "Trial 209 finished with values: [-1.3720314109622287, 0.9411429959447162] and parameters: {0: 1, 1: 1, 2: 0, 3: 0, 4: 0, 5: 0, 6: 0, 7: 0, 8: 0, 9: 1, 10: 0, 11: 1, 12: 1, 13: 0, 14: 1}. \n"
          ]
        },
        {
          "name": "stderr",
          "output_type": "stream",
          "text": [
            "[I 2024-06-24 07:25:01,345] Trial 210 finished with values: [-0.06382830525770206, 66.71494574890728] and parameters: {0: 0, 1: 0, 2: 0, 3: 1, 4: 0, 5: 0, 6: 0, 7: 0, 8: 1, 9: 1, 10: 1, 11: 1, 12: 0, 13: 1, 14: 1}. \n"
          ]
        },
        {
          "name": "stdout",
          "output_type": "stream",
          "text": [
            "Trade times in sample: 118003 Trade times out sample: 118187\n",
            "Trial 210 finished with values: [-0.06382830525770206, 66.71494574890728] and parameters: {0: 0, 1: 0, 2: 0, 3: 1, 4: 0, 5: 0, 6: 0, 7: 0, 8: 1, 9: 1, 10: 1, 11: 1, 12: 0, 13: 1, 14: 1}. \n"
          ]
        },
        {
          "name": "stderr",
          "output_type": "stream",
          "text": [
            "[I 2024-06-24 07:25:03,144] Trial 211 finished with values: [-0.19362336618114973, 19.695408498567964] and parameters: {0: 0, 1: 1, 2: 0, 3: 0, 4: 1, 5: 1, 6: 0, 7: 0, 8: 1, 9: 1, 10: 1, 11: 1, 12: 0, 13: 1, 14: 1}. \n"
          ]
        },
        {
          "name": "stdout",
          "output_type": "stream",
          "text": [
            "Trade times in sample: 117554 Trade times out sample: 118188\n",
            "Trial 211 finished with values: [-0.19362336618114973, 19.695408498567964] and parameters: {0: 0, 1: 1, 2: 0, 3: 0, 4: 1, 5: 1, 6: 0, 7: 0, 8: 1, 9: 1, 10: 1, 11: 1, 12: 0, 13: 1, 14: 1}. \n"
          ]
        },
        {
          "name": "stderr",
          "output_type": "stream",
          "text": [
            "[I 2024-06-24 07:25:04,655] Trial 212 finished with values: [1.2870125155312007, 2.4685410413520965] and parameters: {0: 0, 1: 0, 2: 0, 3: 1, 4: 1, 5: 0, 6: 0, 7: 0, 8: 0, 9: 0, 10: 1, 11: 1, 12: 1, 13: 0, 14: 1}. \n"
          ]
        },
        {
          "name": "stdout",
          "output_type": "stream",
          "text": [
            "Trade times in sample: 117562 Trade times out sample: 116038\n",
            "Trial 212 finished with values: [1.2870125155312007, 2.4685410413520965] and parameters: {0: 0, 1: 0, 2: 0, 3: 1, 4: 1, 5: 0, 6: 0, 7: 0, 8: 0, 9: 0, 10: 1, 11: 1, 12: 1, 13: 0, 14: 1}. \n"
          ]
        },
        {
          "name": "stderr",
          "output_type": "stream",
          "text": [
            "[I 2024-06-24 07:25:06,332] Trial 213 finished with values: [0.3530707863028972, 10.240683537281619] and parameters: {0: 1, 1: 0, 2: 0, 3: 1, 4: 1, 5: 1, 6: 1, 7: 1, 8: 1, 9: 0, 10: 0, 11: 0, 12: 0, 13: 1, 14: 0}. \n"
          ]
        },
        {
          "name": "stdout",
          "output_type": "stream",
          "text": [
            "Trade times in sample: 117847 Trade times out sample: 118187\n",
            "Trial 213 finished with values: [0.3530707863028972, 10.240683537281619] and parameters: {0: 1, 1: 0, 2: 0, 3: 1, 4: 1, 5: 1, 6: 1, 7: 1, 8: 1, 9: 0, 10: 0, 11: 0, 12: 0, 13: 1, 14: 0}. \n"
          ]
        }
      ],
      "source": [
        "\"\"\"## Define number of trials (no 2)\"\"\"\n",
        "\n",
        "# Create a study object and optimize the objective function\n",
        "study = optuna.create_study(directions=['maximize', 'minimize'])\n",
        "unique_trials = 200\n",
        "\n",
        "while unique_trials > len(set(str(t.params) for t in study.trials)):\n",
        "    study.optimize(lambda trial: objective(trial, X_train, X_valid, y_train, y_valid, train_data['Close']), n_trials=1)\n",
        "    study.trials_dataframe().sort_values('values_0').to_csv('xgb_feature_trials.csv')\n",
        "    joblib.dump(study, 'xgbmodel.pkl')\n"
      ]
    },
    {
      "cell_type": "markdown",
      "metadata": {
        "id": "DYFKKBhpqnAC"
      },
      "source": [
        "# Retrieve Top PNL"
      ]
    },
    {
      "cell_type": "code",
      "execution_count": null,
      "metadata": {
        "id": "2GOEnQ0GXb4V"
      },
      "outputs": [],
      "source": [
        "# study = joblib.load(open(\"rabmodel.pkl\", \"rb\"))\n",
        "trials = study.trials"
      ]
    },
    {
      "cell_type": "code",
      "execution_count": null,
      "metadata": {
        "id": "oWzuIq5PqnAC"
      },
      "outputs": [],
      "source": [
        "completed_trials = [t for t in study.trials if t.values is not None]\n",
        "\n",
        "# Sort the completed trials based on their objective values\n",
        "completed_trials.sort(key=lambda trial: trial.values, reverse=True)\n",
        "\n",
        "# Define top pnl to take for clustering\n",
        "top_trials = completed_trials\n",
        "\n",
        "new_df_no_close_col = data.drop(['Date','time', 'Open','High','Low','Close','Volume', 'Return' ], axis=1)\n",
        "\n",
        "# Extract hyperparameters from top trials\n",
        "top_features_list = []\n",
        "\n",
        "for trial in top_trials:\n",
        "  best_selected_features = [col for idx, col  in enumerate(new_df_no_close_col.columns) if trial.params[idx] == 1] # if bug try change from idx to col\n",
        "  top_features_list.append(best_selected_features)"
      ]
    },
    {
      "cell_type": "code",
      "execution_count": null,
      "metadata": {
        "id": "cutCw_EwqnAD"
      },
      "outputs": [],
      "source": [
        "top_pnl = []\n",
        "trade_threshold  = 0.0005\n",
        "\n",
        "for best_selected_features in top_features_list:\n",
        "\n",
        "    new_df_selected = data[['Close', 'Return']+best_selected_features]\n",
        "    train_select_col_data, _ = split_data(new_df_selected)\n",
        "\n",
        "    retrain_data = train_select_col_data.drop(['Close', 'Return'], axis=1)\n",
        "    retrain_data = scale_data(retrain_data)\n",
        "\n",
        "    X_train, X_valid, y_train, y_valid = train_test_split(retrain_data,\n",
        "                                                      train_select_col_data['Return'],\n",
        "                                                      test_size=0.5,shuffle=False)\n",
        "\n",
        "    # Create and train model\n",
        "    model = xgb.XGBRegressor()\n",
        "    model.fit(X_train, y_train)\n",
        "\n",
        "    # Make predictions\n",
        "    y_pred_valid = model.predict(X_valid)\n",
        "    _, pnl_valid, _, _ = sharpe_for_vn30f(y_pred_valid, y_valid, trade_threshold=trade_threshold, fee_perc=0.01, periods=10)\n",
        "    pnl_valid_no_nan = np.nan_to_num(pnl_valid, nan=0)\n",
        "    top_pnl.append(pnl_valid_no_nan)"
      ]
    },
    {
      "cell_type": "markdown",
      "metadata": {
        "id": "w2BQiJlWXb4W"
      },
      "source": [
        "Drop too high correlation PNL array"
      ]
    },
    {
      "cell_type": "code",
      "execution_count": null,
      "metadata": {
        "colab": {
          "base_uri": "https://localhost:8080/"
        },
        "id": "Q1wekTJXXb4W",
        "outputId": "71cbe74d-b9e6-49f5-eb82-ccc398a560d9"
      },
      "outputs": [
        {
          "name": "stdout",
          "output_type": "stream",
          "text": [
            "Columns to drop: [1, 5, 7, 8, 9, 11, 12, 13, 14, 15, 16, 17, 18, 19, 20, 22, 24, 26, 27, 28, 32, 34, 35, 38, 39, 43, 45, 51, 52, 55, 57, 59, 61, 70, 71, 74, 77, 78, 79, 83, 84, 86, 87, 88, 89, 91, 94, 95, 97, 100, 105, 108, 110, 112, 113, 115, 117, 125, 127, 130, 131, 132, 135, 139, 141, 142, 143, 144, 146, 147, 148, 150, 151, 153, 155, 156, 157, 158, 161, 166, 167, 169, 170, 173, 174, 178, 179, 180, 182, 183, 185, 187, 189, 191, 193, 196, 198]\n",
            "DataFrame after dropping columns:\n",
            "             0         2         3         4         6         10        21   \\\n",
            "0       0.000000  0.000000  0.000000  0.000000  0.000000  0.000000  0.000000   \n",
            "1       0.000000  0.000000  0.000000  0.000000  0.000000  0.000000  0.000000   \n",
            "2       0.000000  0.000000  0.000000  0.000000  0.000000  0.000000  0.000000   \n",
            "3       0.000000  0.000000  0.000000  0.000000  0.000000  0.000000  0.000000   \n",
            "4       0.000000  0.000000  0.000000  0.000000  0.000000  0.000000  0.000000   \n",
            "...          ...       ...       ...       ...       ...       ...       ...   \n",
            "118254 -0.017913 -0.044726 -0.068208 -0.127651  0.029874  0.023643 -0.046218   \n",
            "118255 -0.017913 -0.044726 -0.068208 -0.127651  0.029874  0.023643 -0.046218   \n",
            "118256 -0.017913 -0.044726 -0.068208 -0.127651  0.029874  0.023643 -0.046218   \n",
            "118257 -0.017913 -0.044726 -0.068208 -0.127651  0.029874  0.023643 -0.046218   \n",
            "118258 -0.017913 -0.044726 -0.068208 -0.127651  0.029874  0.023643 -0.046218   \n",
            "\n",
            "             23        25        29   ...       181       184       186  \\\n",
            "0       0.000000  0.000000  0.000000  ...  0.000000  0.000000  0.000000   \n",
            "1       0.000000  0.000000  0.000000  ...  0.000000  0.000000  0.000000   \n",
            "2       0.000000  0.000000  0.000000  ...  0.000000  0.000000  0.000000   \n",
            "3       0.000000  0.000000  0.000000  ...  0.000000  0.000000  0.000000   \n",
            "4       0.000000  0.000000  0.000000  ...  0.000000  0.000000  0.000000   \n",
            "...          ...       ...       ...  ...       ...       ...       ...   \n",
            "118254  0.030368  0.498525 -0.108927  ...  0.150211  0.033089 -0.128987   \n",
            "118255  0.030368  0.498525 -0.108927  ...  0.150211  0.033089 -0.128987   \n",
            "118256  0.030368  0.498525 -0.108927  ...  0.150211  0.033089 -0.128987   \n",
            "118257  0.030368  0.498525 -0.108927  ...  0.150211  0.033089 -0.128987   \n",
            "118258  0.030368  0.498525 -0.108927  ...  0.150211  0.033089 -0.128987   \n",
            "\n",
            "             188       190       192       194       195       197      199  \n",
            "0       0.000000  0.000000  0.000000  0.000000  0.000000  0.000000  0.00000  \n",
            "1       0.000000  0.000000  0.000000  0.000000  0.000000  0.000000  0.00000  \n",
            "2       0.000000  0.000000  0.000000  0.000000  0.000000  0.000000  0.00000  \n",
            "3       0.000000  0.000000  0.000000  0.000000  0.000000  0.000000  0.00000  \n",
            "4       0.000000  0.000000  0.000000  0.000000  0.000000  0.000000  0.00000  \n",
            "...          ...       ...       ...       ...       ...       ...      ...  \n",
            "118254 -0.004096 -0.018575  0.146919  0.017763  0.055586 -0.014519  0.31211  \n",
            "118255 -0.004096 -0.018575  0.146919  0.017763  0.055586 -0.014519  0.31211  \n",
            "118256 -0.004096 -0.018575  0.146919  0.017763  0.055586 -0.014519  0.31211  \n",
            "118257 -0.004096 -0.018575  0.146919  0.017763  0.055586 -0.014519  0.31211  \n",
            "118258 -0.004096 -0.018575  0.146919  0.017763  0.055586 -0.014519  0.31211  \n",
            "\n",
            "[118259 rows x 103 columns]\n"
          ]
        }
      ],
      "source": [
        "pnl = pd.DataFrame(top_pnl)\n",
        "pnl = pnl.transpose()\n",
        "\n",
        "# Calculate the correlation matrix\n",
        "corr_matrix = pnl.corr().abs()\n",
        "\n",
        "# Create a mask to only look at the upper triangle (to avoid duplicate checks)\n",
        "upper_triangle_mask = corr_matrix.where(np.triu(np.ones(corr_matrix.shape), k=1).astype(bool))\n",
        "\n",
        "# Identify columns to drop\n",
        "to_drop = [column for column in upper_triangle_mask.columns if any(upper_triangle_mask[column] > 0.95)]\n",
        "\n",
        "# Drop the columns with high correlation\n",
        "pnl_dropped = pnl.drop(columns=to_drop)\n",
        "\n",
        "print(\"Columns to drop:\", to_drop)\n",
        "print(\"DataFrame after dropping columns:\")\n",
        "print(pnl_dropped)"
      ]
    },
    {
      "cell_type": "code",
      "execution_count": null,
      "metadata": {
        "id": "pf9Imd4uXb4W"
      },
      "outputs": [],
      "source": [
        "pnl_array = np.array(pnl_dropped.transpose())\n",
        "pnl_array = pnl_array[:100]"
      ]
    },
    {
      "cell_type": "code",
      "execution_count": null,
      "metadata": {
        "id": "N33x29M6Xb4W"
      },
      "outputs": [],
      "source": [
        "# Identify columns with all zero values\n",
        "cols_to_keep = ~np.all(pnl_array == 0, axis=0)\n",
        "\n",
        "# Drop columns with all zero values\n",
        "pnl_array = pnl_array[:, cols_to_keep]"
      ]
    },
    {
      "cell_type": "markdown",
      "metadata": {
        "id": "l8vKyBBgqnAH"
      },
      "source": [
        "# ONC"
      ]
    },
    {
      "cell_type": "code",
      "execution_count": null,
      "metadata": {
        "id": "TPd5wBN9qnAH"
      },
      "outputs": [],
      "source": [
        "from sklearn.cluster import KMeans\n",
        "from sklearn.metrics import silhouette_samples, silhouette_score"
      ]
    },
    {
      "cell_type": "code",
      "execution_count": null,
      "metadata": {
        "id": "0st2dHHbqnAH"
      },
      "outputs": [],
      "source": [
        "def cov2corr(cov):\n",
        "    # Derive the correlation matrix from a covariance matrix\n",
        "    std = np.sqrt(np.diag(cov))\n",
        "    corr = cov/np.outer(std,std)\n",
        "    corr[corr<-1], corr[corr>1] = -1,1 #for numerical errors\n",
        "    return corr\n",
        "\n",
        "def clusterKMeansBase(corr0, maxNumClusters=10, n_init=10, debug=False):\n",
        "    corr0[corr0 > 1] = 1\n",
        "    dist_matrix = ((1-corr0)/2.)**.5\n",
        "    silh_coef_optimal = pd.Series(dtype='float64') #observations matrixs\n",
        "    kmeans, stat = None, None\n",
        "    maxNumClusters = min(maxNumClusters, int(np.floor(dist_matrix.shape[0]/2)))\n",
        "    print(\"maxNumClusters\"+str(maxNumClusters))\n",
        "    for init in range(0, n_init):\n",
        "    #The [outer] loop repeats the first loop multiple times, thereby obtaining different initializations. Ref: de Prado and Lewis (2018)\n",
        "    #DETECTION OF FALSE INVESTMENT STRATEGIES USING UNSUPERVISED LEARNING METHODS\n",
        "        for num_clusters in range(2, maxNumClusters+1):\n",
        "            #(maxNumClusters + 2 - num_clusters) # go in reverse order to view more sub-optimal solutions\n",
        "            kmeans_ = KMeans(n_clusters=num_clusters, n_init=10) #, random_state=3425) #n_jobs=None #n_jobs=None - use all CPUs\n",
        "            kmeans_ = kmeans_.fit(dist_matrix)\n",
        "            silh_coef = silhouette_samples(dist_matrix, kmeans_.labels_)\n",
        "            stat = (silh_coef.mean()/silh_coef.std(), silh_coef_optimal.mean()/silh_coef_optimal.std())\n",
        "\n",
        "            # If this metric better than the previous set as the optimal number of clusters\n",
        "            if np.isnan(stat[1]) or stat[0] > stat[1]:\n",
        "                silh_coef_optimal = silh_coef\n",
        "                kmeans = kmeans_\n",
        "                if debug==True:\n",
        "                    print(kmeans)\n",
        "                    print(stat)\n",
        "                    silhouette_avg = silhouette_score(dist_matrix, kmeans_.labels_)\n",
        "                    print(\"For n_clusters =\"+ str(num_clusters)+ \"The average silhouette_score is :\"+ str(silhouette_avg))\n",
        "                    print(\"********\")\n",
        "\n",
        "    newIdx = np.argsort(kmeans.labels_)\n",
        "    #print(newIdx)\n",
        "\n",
        "    corr1 = corr0.iloc[newIdx] #reorder rows\n",
        "    corr1 = corr1.iloc[:, newIdx] #reorder columns\n",
        "\n",
        "    clstrs = {i:corr0.columns[np.where(kmeans.labels_==i)[0]].tolist() for i in np.unique(kmeans.labels_)} #cluster members\n",
        "    silh_coef_optimal = pd.Series(silh_coef_optimal, index=dist_matrix.index)\n",
        "\n",
        "    return corr1, clstrs, silh_coef_optimal\n",
        "\n",
        "def makeNewOutputs(corr0, clstrs, clstrs2):\n",
        "    clstrsNew, newIdx = {}, []\n",
        "    for i in clstrs.keys():\n",
        "        clstrsNew[len(clstrsNew.keys())] = list(clstrs[i])\n",
        "\n",
        "    for i in clstrs2.keys():\n",
        "        clstrsNew[len(clstrsNew.keys())] = list(clstrs2[i])\n",
        "\n",
        "    newIdx = [j for i in clstrsNew for j in clstrsNew[i]]\n",
        "    corrNew = corr0.loc[newIdx, newIdx]\n",
        "\n",
        "    dist = ((1 - corr0) / 2.)**.5\n",
        "    kmeans_labels = np.zeros(len(dist.columns))\n",
        "    for i in clstrsNew.keys():\n",
        "        idxs = [dist.index.get_loc(k) for k in clstrsNew[i]]\n",
        "        kmeans_labels[idxs] = i\n",
        "\n",
        "    silhNew = pd.Series(silhouette_samples(dist, kmeans_labels), index=dist.index)\n",
        "\n",
        "    return corrNew, clstrsNew, silhNew\n",
        "\n",
        "def clusterKMeansTop(corr0: pd.DataFrame, maxNumClusters=None, n_init=10):\n",
        "    if maxNumClusters == None:\n",
        "        maxNumClusters = corr0.shape[1]-1\n",
        "\n",
        "    corr1, clstrs, silh = clusterKMeansBase(corr0, maxNumClusters=min(maxNumClusters, corr0.shape[1]-1), n_init=10)#n_init)\n",
        "    print(\"clstrs length:\"+str(len(clstrs.keys())))\n",
        "    print(\"best clustr:\"+str(len(clstrs.keys())))\n",
        "    #for i in clstrs.keys():\n",
        "    #    print(\"std:\"+str(np.std(silh[clstrs[i]])))\n",
        "\n",
        "    clusterTstats = {i:np.mean(silh[clstrs[i]])/np.std(silh[clstrs[i]]) for i in clstrs.keys()}\n",
        "    tStatMean = np.sum(list(clusterTstats.values()))/len(clusterTstats)\n",
        "    redoClusters = [i for i in clusterTstats.keys() if clusterTstats[i] < tStatMean]\n",
        "    #print(\"redo cluster:\"+str(redoClusters))\n",
        "    if len(redoClusters) <= 2:\n",
        "        print(\"If 2 or less clusters have a quality rating less than the average then stop.\")\n",
        "        print(\"redoCluster <=1:\"+str(redoClusters)+\" clstrs len:\"+str(len(clstrs.keys())))\n",
        "        return corr1, clstrs, silh\n",
        "    else:\n",
        "        keysRedo = [j for i in redoClusters for j in clstrs[i]]\n",
        "        corrTmp = corr0.loc[keysRedo, keysRedo]\n",
        "        _, clstrs2, _ = clusterKMeansTop(corrTmp, maxNumClusters=min(maxNumClusters, corrTmp.shape[1]-1), n_init=n_init)\n",
        "        print(\"clstrs2.len, stat:\"+str(len(clstrs2.keys())))\n",
        "        #Make new outputs, if necessary\n",
        "        dict_redo_clstrs = {i:clstrs[i] for i in clstrs.keys() if i not in redoClusters}\n",
        "        corrNew, clstrsNew, silhNew = makeNewOutputs(corr0, dict_redo_clstrs, clstrs2)\n",
        "        newTstatMean = np.mean([np.mean(silhNew[clstrsNew[i]])/np.std(silhNew[clstrsNew[i]]) for i in clstrsNew.keys()])\n",
        "        if newTstatMean <= tStatMean:\n",
        "            print(\"newTstatMean <= tStatMean\"+str(newTstatMean)+ \" (len:newClst)\"+str(len(clstrsNew.keys()))+\" <= \"+str(tStatMean)+ \" (len:Clst)\"+str(len(clstrs.keys())))\n",
        "            return corr1, clstrs, silh\n",
        "        else:\n",
        "            print(\"newTstatMean > tStatMean\"+str(newTstatMean)+ \" (len:newClst)\"+str(len(clstrsNew.keys()))\n",
        "                  +\" > \"+str(tStatMean)+ \" (len:Clst)\"+str(len(clstrs.keys())))\n",
        "            return corrNew, clstrsNew, silhNew\n",
        "            #return corr1, clstrs, silh, stat"
      ]
    },
    {
      "cell_type": "code",
      "execution_count": null,
      "metadata": {
        "id": "7FqBCm3aqnAI"
      },
      "outputs": [],
      "source": [
        "# FREQUENCY FEATURE TABLE\n",
        "correlation_matrix = np.corrcoef(top_pnl)\n",
        "corr = pd.DataFrame(correlation_matrix)"
      ]
    },
    {
      "cell_type": "code",
      "execution_count": null,
      "metadata": {
        "colab": {
          "base_uri": "https://localhost:8080/",
          "height": 902
        },
        "id": "T5xhYDxSqnAI",
        "outputId": "8e320ecd-3068-4cc2-8563-29ea82274ec2"
      },
      "outputs": [
        {
          "data": {
            "image/png": "[encoded data removed]",
            "text/plain": [
              "<Figure size 480x480 with 2 Axes>"
            ]
          },
          "metadata": {},
          "output_type": "display_data"
        },
        {
          "name": "stdout",
          "output_type": "stream",
          "text": [
            "maxNumClusters100\n",
            "clstrs length:2\n",
            "best clustr:2\n",
            "If 2 or less clusters have a quality rating less than the average then stop.\n",
            "redoCluster <=1:[0] clstrs len:2\n"
          ]
        },
        {
          "data": {
            "image/png": "[encoded data removed]",
            "text/plain": [
              "<Figure size 480x480 with 2 Axes>"
            ]
          },
          "metadata": {},
          "output_type": "display_data"
        }
      ],
      "source": [
        "#Draw ground truth\n",
        "matplotlib.pyplot.matshow(corr) #invert y-axis to get origo at lower left corner\n",
        "matplotlib.pyplot.gca().xaxis.tick_bottom()\n",
        "matplotlib.pyplot.gca().invert_yaxis()\n",
        "matplotlib.pyplot.colorbar()\n",
        "matplotlib.pyplot.show()\n",
        "\n",
        "#draw prediction based on ONC\n",
        "corrNew, clstrsNew, silhNew = clusterKMeansTop(corr)\n",
        "matplotlib.pyplot.matshow(corrNew)\n",
        "matplotlib.pyplot.gca().xaxis.tick_bottom()\n",
        "matplotlib.pyplot.gca().invert_yaxis()\n",
        "matplotlib.pyplot.colorbar()\n",
        "matplotlib.pyplot.show()"
      ]
    },
    {
      "cell_type": "code",
      "execution_count": null,
      "metadata": {
        "colab": {
          "base_uri": "https://localhost:8080/"
        },
        "id": "WqXnwhndqnAJ",
        "outputId": "9d773038-928f-4d8e-ca6e-92b8e6c48bd9"
      },
      "outputs": [
        {
          "name": "stdout",
          "output_type": "stream",
          "text": [
            "Cluster 0: [76, 104, 144, 14, 183, 26, 53, 60, 25, 170, 145, 72, 200, 202, 13, 94, 66, 65, 162, 37, 163, 12, 55, 211, 90, 79, 49, 184, 56, 42, 40, 127, 109, 0, 142, 20, 21, 97, 8, 68, 57, 45, 82, 64, 33, 175, 180, 34, 18, 137, 39, 201, 89, 181, 186, 7, 150, 41, 80, 22, 114, 193, 167, 149, 126, 206, 88, 125, 27, 92, 178, 192, 179, 161, 2, 116, 118, 209, 99, 35, 156, 11, 30, 191, 28, 6, 195, 131, 77, 173, 5, 199, 124, 113, 10]\n",
            "Cluster 1: [157, 122, 29, 190, 212, 24, 148, 62, 93, 106, 63, 96, 74, 155, 31, 189, 187, 83, 54, 19, 75, 86, 203, 17, 158, 213, 146, 166, 174, 47, 138, 147, 133, 69, 153, 140, 177, 85, 67, 46, 176, 98, 123, 210, 117, 36, 204, 51, 143, 128, 91, 152, 159, 141, 73, 196, 23, 1, 132, 16, 182, 171, 112, 59, 81, 164, 32, 160, 101, 70, 208, 154, 107, 58, 135, 102, 105, 84, 3, 43, 119, 205, 38, 52, 4, 48, 50, 61, 9, 87, 198, 15, 129, 185, 139, 207, 172, 100, 110, 44, 165, 169, 78, 95, 136]\n"
          ]
        }
      ],
      "source": [
        "cluster_lists = []\n",
        "\n",
        "# Iterate through each cluster and its members\n",
        "for cluster_number, cluster_indices in clstrsNew.items():\n",
        "    cluster_list = []\n",
        "\n",
        "    # Iterate through each index in the cluster\n",
        "    for idx in cluster_indices:\n",
        "        trial_number = top_trials[idx].number\n",
        "        cluster_list.append(trial_number)\n",
        "\n",
        "    cluster_lists.append(cluster_list)\n",
        "\n",
        "# Print the lists for each cluster\n",
        "for i, cluster_list in enumerate(cluster_lists):\n",
        "    print(f\"Cluster {i}: {cluster_list}\")"
      ]
    },
    {
      "cell_type": "code",
      "execution_count": null,
      "metadata": {
        "colab": {
          "base_uri": "https://localhost:8080/"
        },
        "id": "mWNyvwA_qnAJ",
        "outputId": "d7fe29f8-120f-4418-8bed-0c959bcc54c2"
      },
      "outputs": [
        {
          "name": "stdout",
          "output_type": "stream",
          "text": [
            "Top 10 features for Cluster 0: [11, 1, 14, 0, 4, 13, 9, 8, 12, 10]\n",
            "Top 10 features for Cluster 1: [11, 0, 14, 4, 10, 12, 7, 9, 3, 6]\n"
          ]
        }
      ],
      "source": [
        "top_10_features_per_cluster = []\n",
        "\n",
        "for cluster_number, cluster_indices in clstrsNew.items():\n",
        "    cluster_frequency = {}\n",
        "\n",
        "    for idx in cluster_indices:\n",
        "        trial_params = top_trials[idx].params\n",
        "        for key, value in trial_params.items():\n",
        "            if value == 1:\n",
        "                cluster_frequency[key] = cluster_frequency.get(key, 0) + 1\n",
        "\n",
        "    sorted_cluster_frequency = sorted(cluster_frequency.items(), key=lambda x: x[1], reverse=True)\n",
        "    top_10_features_cluster = [feature for feature, _ in sorted_cluster_frequency[:10]]\n",
        "    top_10_features_per_cluster.append(top_10_features_cluster)\n",
        "    print(f\"Top 10 features for Cluster {cluster_number}: {top_10_features_cluster}\")"
      ]
    },
    {
      "cell_type": "code",
      "execution_count": null,
      "metadata": {
        "colab": {
          "base_uri": "https://localhost:8080/"
        },
        "id": "mrqWExveqnAJ",
        "outputId": "d389b5ae-50a9-4df1-a572-52518f381b94"
      },
      "outputs": [
        {
          "data": {
            "text/plain": [
              "[[11, 1, 14, 0, 4, 13, 9, 8, 12, 10], [11, 0, 14, 4, 10, 12, 7, 9, 3, 6]]"
            ]
          },
          "execution_count": 54,
          "metadata": {},
          "output_type": "execute_result"
        }
      ],
      "source": [
        "top_10_features_per_cluster"
      ]
    },
    {
      "cell_type": "code",
      "execution_count": null,
      "metadata": {
        "id": "RbGe0Y6FqnAK"
      },
      "outputs": [],
      "source": [
        "top10_feat = pd.DataFrame(top_10_features_per_cluster)"
      ]
    },
    {
      "cell_type": "code",
      "execution_count": null,
      "metadata": {
        "id": "2_DrQbneqnAK"
      },
      "outputs": [],
      "source": [
        "selected_columns_cluster = []\n",
        "for item in top_10_features_per_cluster:\n",
        "  selected_columns = new_df_no_close_col.iloc[:, item]\n",
        "  selected_columns_cluster.append(selected_columns)"
      ]
    },
    {
      "cell_type": "code",
      "execution_count": null,
      "metadata": {
        "colab": {
          "base_uri": "https://localhost:8080/"
        },
        "id": "tMmpd-7pLkrQ",
        "outputId": "2b40d40e-9967-4f72-a89c-397850f580c2"
      },
      "outputs": [
        {
          "data": {
            "text/plain": [
              "[        trend_psar_down_indicator      volume_em  others_dr  volume_adi  \\\n",
              " 1                             0.0  -18181.818182   0.021211 -755.000000   \n",
              " 2                             1.0  148760.330579   0.042413 -674.333333   \n",
              " 3                             0.0    3703.703704  -0.010599 -539.333333   \n",
              " 4                             0.0  -13850.415512  -0.031800 -539.333333   \n",
              " 5                             0.0   -5830.903790  -0.010603 -539.333333   \n",
              " ...                           ...            ...        ...         ...   \n",
              " 354771                        0.0       0.000000   0.000000    0.000000   \n",
              " 354772                        0.0       0.000000   0.000000    0.000000   \n",
              " 354773                        0.0       0.000000   0.000000    0.000000   \n",
              " 354774                        0.0       0.000000   0.000000    0.000000   \n",
              " 354775                        0.0       0.000000   0.000000    0.000000   \n",
              " \n",
              "         volatility_bbli  momentum_pvo_hist  trend_adx  trend_dpo  \\\n",
              " 1                   0.0           0.000000   0.000000      0.000   \n",
              " 2                   0.0           0.000000   0.000000      0.000   \n",
              " 3                   0.0           0.000000   0.000000      0.000   \n",
              " 4                   0.0           0.000000   0.000000      0.000   \n",
              " 5                   0.0           0.000000   0.000000      0.000   \n",
              " ...                 ...                ...        ...        ...   \n",
              " 354771              0.0          -1.914214   8.727837     -0.015   \n",
              " 354772              0.0          -1.943733   8.684122      0.000   \n",
              " 354773              0.0          -1.946963   8.643530      0.000   \n",
              " 354774              0.0          -1.928885   8.605837      0.000   \n",
              " 354775              0.0          -1.893826   8.570836      0.000   \n",
              " \n",
              "         momentum_pvo  trend_psar_up_indicator  \n",
              " 1           0.000000                      0.0  \n",
              " 2           0.000000                      0.0  \n",
              " 3           0.000000                      0.0  \n",
              " 4           0.000000                      0.0  \n",
              " 5           0.000000                      0.0  \n",
              " ...              ...                      ...  \n",
              " 354771      7.949202                      0.0  \n",
              " 354772      7.433749                      0.0  \n",
              " 354773      6.943778                      0.0  \n",
              " 354774      6.479635                      0.0  \n",
              " 354775      6.041237                      0.0  \n",
              " \n",
              " [354775 rows x 10 columns],\n",
              "         trend_psar_down_indicator  volume_adi  others_dr  volatility_bbli  \\\n",
              " 1                             0.0 -755.000000   0.021211              0.0   \n",
              " 2                             1.0 -674.333333   0.042413              0.0   \n",
              " 3                             0.0 -539.333333  -0.010599              0.0   \n",
              " 4                             0.0 -539.333333  -0.031800              0.0   \n",
              " 5                             0.0 -539.333333  -0.010603              0.0   \n",
              " ...                           ...         ...        ...              ...   \n",
              " 354771                        0.0    0.000000   0.000000              0.0   \n",
              " 354772                        0.0    0.000000   0.000000              0.0   \n",
              " 354773                        0.0    0.000000   0.000000              0.0   \n",
              " 354774                        0.0    0.000000   0.000000              0.0   \n",
              " 354775                        0.0    0.000000   0.000000              0.0   \n",
              " \n",
              "         trend_psar_up_indicator  momentum_pvo  trend_mass_index  trend_adx  \\\n",
              " 1                           0.0      0.000000          0.000000   0.000000   \n",
              " 2                           0.0      0.000000          0.000000   0.000000   \n",
              " 3                           0.0      0.000000          0.000000   0.000000   \n",
              " 4                           0.0      0.000000          0.000000   0.000000   \n",
              " 5                           0.0      0.000000          0.000000   0.000000   \n",
              " ...                         ...           ...               ...        ...   \n",
              " 354771                      0.0      7.949202         25.492025   8.727837   \n",
              " 354772                      0.0      7.433749         25.625358   8.684122   \n",
              " 354773                      0.0      6.943778         25.608239   8.643530   \n",
              " 354774                      0.0      6.479635         25.620296   8.605837   \n",
              " 354775                      0.0      6.041237         25.689198   8.570836   \n",
              " \n",
              "         volatility_bbhi  volatility_kcp  \n",
              " 1                   0.0        0.541667  \n",
              " 2                   0.0        0.857143  \n",
              " 3                   0.0        0.744444  \n",
              " 4                   0.0        0.362745  \n",
              " 5                   0.0        0.245614  \n",
              " ...                 ...             ...  \n",
              " 354771              0.0        0.444444  \n",
              " 354772              0.0        0.444444  \n",
              " 354773              0.0        0.444444  \n",
              " 354774              0.0        0.444444  \n",
              " 354775              0.0        0.444444  \n",
              " \n",
              " [354775 rows x 10 columns]]"
            ]
          },
          "execution_count": 58,
          "metadata": {},
          "output_type": "execute_result"
        }
      ],
      "source": [
        "selected_columns_cluster"
      ]
    },
    {
      "cell_type": "markdown",
      "metadata": {
        "id": "tuOGlO_tqnAK"
      },
      "source": [
        "# Model selection"
      ]
    },
    {
      "cell_type": "markdown",
      "metadata": {
        "id": "rxwojZV6qnAK"
      },
      "source": [
        "## Custom Early Stopping"
      ]
    },
    {
      "cell_type": "code",
      "execution_count": null,
      "metadata": {
        "id": "FSf9W4XzqnAL"
      },
      "outputs": [],
      "source": [
        "from xgboost import callback"
      ]
    },
    {
      "cell_type": "code",
      "execution_count": null,
      "metadata": {
        "id": "CUVrgTA4qnAL"
      },
      "outputs": [],
      "source": [
        "min_delta = 0.0001\n",
        "patience = 30\n",
        "\n",
        "\n",
        "class CustomEarlyStopping(callback.TrainingCallback):\n",
        "    def __init__(self, min_delta, patience, verbose=False):\n",
        "        super().__init__()\n",
        "        self.min_delta = min_delta\n",
        "        self.patience = patience\n",
        "        self.verbose = verbose\n",
        "        self.best_score = np.inf\n",
        "        self.wait = 0\n",
        "        self.stopped_epoch = 0\n",
        "\n",
        "    def after_iteration(self, model, epoch, evals_log):\n",
        "        if not evals_log:\n",
        "            return False\n",
        "        metric_name = next(iter(evals_log['validation_0']))\n",
        "        score = evals_log['validation_0'][metric_name][-1]\n",
        "        if score < (self.best_score - self.min_delta):\n",
        "            self.best_score = score\n",
        "            self.wait = 0\n",
        "        else:\n",
        "            self.wait += 1\n",
        "            if self.wait >= self.patience:\n",
        "                if self.verbose:\n",
        "                    print(f\"\\nStopping. Best score: {self.best_score}\")\n",
        "                self.stopped_epoch = epoch\n",
        "                return True\n",
        "        return False\n",
        "\n",
        "    def get_best_score(self):\n",
        "        return self.best_score"
      ]
    },
    {
      "cell_type": "markdown",
      "metadata": {
        "id": "VNG_94woqnAL"
      },
      "source": [
        "## Hyperparameter Tuning"
      ]
    },
    {
      "cell_type": "code",
      "execution_count": null,
      "metadata": {
        "id": "T0bcD4ZRqnAL"
      },
      "outputs": [],
      "source": [
        "def objective_params(trial, X_train, X_valid, y_train, y_valid, y_close):\n",
        "    # Define the hyperparameter search space\n",
        "    params = {\n",
        "        'max_depth': trial.suggest_int('max_depth', 3, 6),\n",
        "        'learning_rate': trial.suggest_float('learning_rate', 0.01, 0.1),\n",
        "        'n_estimators': 8000,  # does not matter, think of it as max epochs, and we stop the model based on early stopping, so any extremely high number works\n",
        "        'min_child_weight': trial.suggest_int('min_child_weight', 1, 10),  # can't comment, never played with that\n",
        "        'subsample': trial.suggest_float('subsample', 0.5, 1.0),  # you dont want to sample less than 50% of your data\n",
        "        'colsample_bytree': trial.suggest_float('colsample_bytree', 0.3, 1.0),  # you dont want to sample less than 30% of your features pr boosting round\n",
        "        }\n",
        "    trade_threshold  = 0.0005\n",
        "\n",
        "    # Check duplication and skip if it's detected.\n",
        "    for t in trial.study.trials:\n",
        "        if t.state != optuna.trial.TrialState.COMPLETE:\n",
        "            continue\n",
        "        if t.params == trial.params:\n",
        "            return np.nan #t.values  # Return the previous value without re-evaluating i\n",
        "\n",
        "\n",
        "    custom_early_stopping_instance = CustomEarlyStopping(min_delta=min_delta, patience=patience, verbose=True)\n",
        "\n",
        "    # Train the model\n",
        "    model = xgb.XGBRegressor(**params)\n",
        "    model.fit(X_train, y_train, callbacks=[custom_early_stopping_instance])\n",
        "\n",
        "    y_pred_train = model.predict(X_train)\n",
        "    y_pred_valid = model.predict(X_valid)\n",
        "\n",
        "\n",
        "    pos, pnl, daily_pnl, sharpe_is = sharpe_for_vn30f(y_pred_train, y_close[:len(y_pred_train)], trade_threshold=trade_threshold, fee_perc=0.01, periods=10)\n",
        "    _, _, _, sharpe_oos = sharpe_for_vn30f(y_pred_valid, y_close[len(y_pred_train):], trade_threshold=trade_threshold, fee_perc=0.01, periods=10)\n",
        "\n",
        "    return sharpe_oos, abs((abs(sharpe_is / sharpe_oos))-1)"
      ]
    },
    {
      "cell_type": "code",
      "execution_count": 63,
      "metadata": {
        "colab": {
          "base_uri": "https://localhost:8080/"
        },
        "id": "gKNvShYMqnAM",
        "outputId": "a8eb0472-b604-4434-87c3-18351bbca671"
      },
      "outputs": [
        {
          "name": "stderr",
          "output_type": "stream",
          "text": [
            "[I 2024-06-24 08:58:03,699] A new study created in memory with name: no-name-eeee2114-1d4b-4cd7-be95-f59f79efa42f\n"
          ]
        },
        {
          "name": "stdout",
          "output_type": "stream",
          "text": [
            "A new study created in memory with name: no-name-eeee2114-1d4b-4cd7-be95-f59f79efa42f\n"
          ]
        },
        {
          "name": "stderr",
          "output_type": "stream",
          "text": [
            "/usr/local/lib/python3.10/dist-packages/xgboost/sklearn.py:889: UserWarning: `callbacks` in `fit` method is deprecated for better compatibility with scikit-learn, use `callbacks` in constructor or`set_params` instead.\n",
            "  warnings.warn(\n",
            "[I 2024-06-24 08:59:02,483] Trial 0 finished with values: [-0.4424096080963885, 12.742087783970193] and parameters: {'max_depth': 6, 'learning_rate': 0.021525983481936503, 'min_child_weight': 9, 'subsample': 0.542591601232657, 'colsample_bytree': 0.33540298183134637}. \n"
          ]
        },
        {
          "name": "stdout",
          "output_type": "stream",
          "text": [
            "Trial 0 finished with values: [-0.4424096080963885, 12.742087783970193] and parameters: {'max_depth': 6, 'learning_rate': 0.021525983481936503, 'min_child_weight': 9, 'subsample': 0.542591601232657, 'colsample_bytree': 0.33540298183134637}. \n"
          ]
        },
        {
          "name": "stderr",
          "output_type": "stream",
          "text": [
            "/usr/local/lib/python3.10/dist-packages/xgboost/sklearn.py:889: UserWarning: `callbacks` in `fit` method is deprecated for better compatibility with scikit-learn, use `callbacks` in constructor or`set_params` instead.\n",
            "  warnings.warn(\n",
            "[I 2024-06-24 08:59:36,624] Trial 1 finished with values: [0.21133568798551702, 31.777511647646982] and parameters: {'max_depth': 6, 'learning_rate': 0.0641042574530564, 'min_child_weight': 9, 'subsample': 0.7467064870564131, 'colsample_bytree': 0.6660199482733655}. \n"
          ]
        },
        {
          "name": "stdout",
          "output_type": "stream",
          "text": [
            "Trial 1 finished with values: [0.21133568798551702, 31.777511647646982] and parameters: {'max_depth': 6, 'learning_rate': 0.0641042574530564, 'min_child_weight': 9, 'subsample': 0.7467064870564131, 'colsample_bytree': 0.6660199482733655}. \n"
          ]
        },
        {
          "name": "stderr",
          "output_type": "stream",
          "text": [
            "/usr/local/lib/python3.10/dist-packages/xgboost/sklearn.py:889: UserWarning: `callbacks` in `fit` method is deprecated for better compatibility with scikit-learn, use `callbacks` in constructor or`set_params` instead.\n",
            "  warnings.warn(\n",
            "[I 2024-06-24 09:00:14,045] Trial 2 finished with values: [0.4371720450058842, 14.648558757946036] and parameters: {'max_depth': 6, 'learning_rate': 0.07695618995995855, 'min_child_weight': 8, 'subsample': 0.6907876167619501, 'colsample_bytree': 0.6869137248845407}. \n"
          ]
        },
        {
          "name": "stdout",
          "output_type": "stream",
          "text": [
            "Trial 2 finished with values: [0.4371720450058842, 14.648558757946036] and parameters: {'max_depth': 6, 'learning_rate': 0.07695618995995855, 'min_child_weight': 8, 'subsample': 0.6907876167619501, 'colsample_bytree': 0.6869137248845407}. \n"
          ]
        },
        {
          "name": "stderr",
          "output_type": "stream",
          "text": [
            "/usr/local/lib/python3.10/dist-packages/xgboost/sklearn.py:889: UserWarning: `callbacks` in `fit` method is deprecated for better compatibility with scikit-learn, use `callbacks` in constructor or`set_params` instead.\n",
            "  warnings.warn(\n",
            "[I 2024-06-24 09:00:40,290] Trial 3 finished with values: [-0.5255752439487146, 8.415493318432508] and parameters: {'max_depth': 6, 'learning_rate': 0.0816179123779049, 'min_child_weight': 9, 'subsample': 0.9929046571660193, 'colsample_bytree': 0.850893724612003}. \n"
          ]
        },
        {
          "name": "stdout",
          "output_type": "stream",
          "text": [
            "Trial 3 finished with values: [-0.5255752439487146, 8.415493318432508] and parameters: {'max_depth': 6, 'learning_rate': 0.0816179123779049, 'min_child_weight': 9, 'subsample': 0.9929046571660193, 'colsample_bytree': 0.850893724612003}. \n"
          ]
        },
        {
          "name": "stderr",
          "output_type": "stream",
          "text": [
            "/usr/local/lib/python3.10/dist-packages/xgboost/sklearn.py:889: UserWarning: `callbacks` in `fit` method is deprecated for better compatibility with scikit-learn, use `callbacks` in constructor or`set_params` instead.\n",
            "  warnings.warn(\n",
            "[I 2024-06-24 09:01:16,116] Trial 4 finished with values: [0.8453371134748006, 6.858071645239198] and parameters: {'max_depth': 6, 'learning_rate': 0.07530569303906152, 'min_child_weight': 1, 'subsample': 0.6665951793672883, 'colsample_bytree': 0.9429445398151044}. \n"
          ]
        },
        {
          "name": "stdout",
          "output_type": "stream",
          "text": [
            "Trial 4 finished with values: [0.8453371134748006, 6.858071645239198] and parameters: {'max_depth': 6, 'learning_rate': 0.07530569303906152, 'min_child_weight': 1, 'subsample': 0.6665951793672883, 'colsample_bytree': 0.9429445398151044}. \n"
          ]
        },
        {
          "name": "stderr",
          "output_type": "stream",
          "text": [
            "/usr/local/lib/python3.10/dist-packages/xgboost/sklearn.py:889: UserWarning: `callbacks` in `fit` method is deprecated for better compatibility with scikit-learn, use `callbacks` in constructor or`set_params` instead.\n",
            "  warnings.warn(\n",
            "[I 2024-06-24 09:02:06,005] Trial 5 finished with values: [0.37135200500690846, 16.098902318793854] and parameters: {'max_depth': 3, 'learning_rate': 0.07457116824186984, 'min_child_weight': 5, 'subsample': 0.6784182383374815, 'colsample_bytree': 0.6568922560583681}. \n"
          ]
        },
        {
          "name": "stdout",
          "output_type": "stream",
          "text": [
            "Trial 5 finished with values: [0.37135200500690846, 16.098902318793854] and parameters: {'max_depth': 3, 'learning_rate': 0.07457116824186984, 'min_child_weight': 5, 'subsample': 0.6784182383374815, 'colsample_bytree': 0.6568922560583681}. \n"
          ]
        },
        {
          "name": "stderr",
          "output_type": "stream",
          "text": [
            "/usr/local/lib/python3.10/dist-packages/xgboost/sklearn.py:889: UserWarning: `callbacks` in `fit` method is deprecated for better compatibility with scikit-learn, use `callbacks` in constructor or`set_params` instead.\n",
            "  warnings.warn(\n",
            "[I 2024-06-24 09:02:34,962] Trial 6 finished with values: [0.17234843780646636, 31.763071108386775] and parameters: {'max_depth': 4, 'learning_rate': 0.078223728390693, 'min_child_weight': 5, 'subsample': 0.9468014121947235, 'colsample_bytree': 0.5233761118024268}. \n"
          ]
        },
        {
          "name": "stdout",
          "output_type": "stream",
          "text": [
            "Trial 6 finished with values: [0.17234843780646636, 31.763071108386775] and parameters: {'max_depth': 4, 'learning_rate': 0.078223728390693, 'min_child_weight': 5, 'subsample': 0.9468014121947235, 'colsample_bytree': 0.5233761118024268}. \n"
          ]
        },
        {
          "name": "stderr",
          "output_type": "stream",
          "text": [
            "/usr/local/lib/python3.10/dist-packages/xgboost/sklearn.py:889: UserWarning: `callbacks` in `fit` method is deprecated for better compatibility with scikit-learn, use `callbacks` in constructor or`set_params` instead.\n",
            "  warnings.warn(\n",
            "[I 2024-06-24 09:03:01,553] Trial 7 finished with values: [-0.43929224628163926, 7.148342695174927] and parameters: {'max_depth': 5, 'learning_rate': 0.06459187811704524, 'min_child_weight': 8, 'subsample': 0.9951482632039497, 'colsample_bytree': 0.38881156349819446}. \n"
          ]
        },
        {
          "name": "stdout",
          "output_type": "stream",
          "text": [
            "Trial 7 finished with values: [-0.43929224628163926, 7.148342695174927] and parameters: {'max_depth': 5, 'learning_rate': 0.06459187811704524, 'min_child_weight': 8, 'subsample': 0.9951482632039497, 'colsample_bytree': 0.38881156349819446}. \n"
          ]
        },
        {
          "name": "stderr",
          "output_type": "stream",
          "text": [
            "/usr/local/lib/python3.10/dist-packages/xgboost/sklearn.py:889: UserWarning: `callbacks` in `fit` method is deprecated for better compatibility with scikit-learn, use `callbacks` in constructor or`set_params` instead.\n",
            "  warnings.warn(\n",
            "[I 2024-06-24 09:03:35,141] Trial 8 finished with values: [0.08547014014380543, 72.73307939550968] and parameters: {'max_depth': 5, 'learning_rate': 0.044050697940556195, 'min_child_weight': 1, 'subsample': 0.8199378753245843, 'colsample_bytree': 0.3762026250279371}. \n"
          ]
        },
        {
          "name": "stdout",
          "output_type": "stream",
          "text": [
            "Trial 8 finished with values: [0.08547014014380543, 72.73307939550968] and parameters: {'max_depth': 5, 'learning_rate': 0.044050697940556195, 'min_child_weight': 1, 'subsample': 0.8199378753245843, 'colsample_bytree': 0.3762026250279371}. \n"
          ]
        },
        {
          "name": "stderr",
          "output_type": "stream",
          "text": [
            "/usr/local/lib/python3.10/dist-packages/xgboost/sklearn.py:889: UserWarning: `callbacks` in `fit` method is deprecated for better compatibility with scikit-learn, use `callbacks` in constructor or`set_params` instead.\n",
            "  warnings.warn(\n",
            "[I 2024-06-24 09:04:08,711] Trial 9 finished with values: [0.8102824136207972, 7.187837059099882] and parameters: {'max_depth': 6, 'learning_rate': 0.044546704864519296, 'min_child_weight': 1, 'subsample': 0.734545108368003, 'colsample_bytree': 0.536922070233694}. \n"
          ]
        },
        {
          "name": "stdout",
          "output_type": "stream",
          "text": [
            "Trial 9 finished with values: [0.8102824136207972, 7.187837059099882] and parameters: {'max_depth': 6, 'learning_rate': 0.044546704864519296, 'min_child_weight': 1, 'subsample': 0.734545108368003, 'colsample_bytree': 0.536922070233694}. \n"
          ]
        },
        {
          "name": "stderr",
          "output_type": "stream",
          "text": [
            "/usr/local/lib/python3.10/dist-packages/xgboost/sklearn.py:889: UserWarning: `callbacks` in `fit` method is deprecated for better compatibility with scikit-learn, use `callbacks` in constructor or`set_params` instead.\n",
            "  warnings.warn(\n",
            "[I 2024-06-24 09:04:48,265] Trial 10 finished with values: [-0.5450996518575896, 9.358904432918514] and parameters: {'max_depth': 4, 'learning_rate': 0.017328979754524076, 'min_child_weight': 10, 'subsample': 0.8904003173502796, 'colsample_bytree': 0.7561189167508937}. \n"
          ]
        },
        {
          "name": "stdout",
          "output_type": "stream",
          "text": [
            "Trial 10 finished with values: [-0.5450996518575896, 9.358904432918514] and parameters: {'max_depth': 4, 'learning_rate': 0.017328979754524076, 'min_child_weight': 10, 'subsample': 0.8904003173502796, 'colsample_bytree': 0.7561189167508937}. \n"
          ]
        },
        {
          "name": "stderr",
          "output_type": "stream",
          "text": [
            "/usr/local/lib/python3.10/dist-packages/xgboost/sklearn.py:889: UserWarning: `callbacks` in `fit` method is deprecated for better compatibility with scikit-learn, use `callbacks` in constructor or`set_params` instead.\n",
            "  warnings.warn(\n",
            "[I 2024-06-24 09:05:40,717] Trial 11 finished with values: [0.494861006951963, 11.261128127856024] and parameters: {'max_depth': 3, 'learning_rate': 0.033443595080505706, 'min_child_weight': 3, 'subsample': 0.6801221485852291, 'colsample_bytree': 0.6627189906136487}. \n"
          ]
        },
        {
          "name": "stdout",
          "output_type": "stream",
          "text": [
            "Trial 11 finished with values: [0.494861006951963, 11.261128127856024] and parameters: {'max_depth': 3, 'learning_rate': 0.033443595080505706, 'min_child_weight': 3, 'subsample': 0.6801221485852291, 'colsample_bytree': 0.6627189906136487}. \n"
          ]
        },
        {
          "name": "stderr",
          "output_type": "stream",
          "text": [
            "/usr/local/lib/python3.10/dist-packages/xgboost/sklearn.py:889: UserWarning: `callbacks` in `fit` method is deprecated for better compatibility with scikit-learn, use `callbacks` in constructor or`set_params` instead.\n",
            "  warnings.warn(\n",
            "[I 2024-06-24 09:06:30,527] Trial 12 finished with values: [0.8842837612550545, 6.094212093110935] and parameters: {'max_depth': 3, 'learning_rate': 0.04815690140009352, 'min_child_weight': 4, 'subsample': 0.7160377930325601, 'colsample_bytree': 0.8271067935387859}. \n"
          ]
        },
        {
          "name": "stdout",
          "output_type": "stream",
          "text": [
            "Trial 12 finished with values: [0.8842837612550545, 6.094212093110935] and parameters: {'max_depth': 3, 'learning_rate': 0.04815690140009352, 'min_child_weight': 4, 'subsample': 0.7160377930325601, 'colsample_bytree': 0.8271067935387859}. \n"
          ]
        },
        {
          "name": "stderr",
          "output_type": "stream",
          "text": [
            "/usr/local/lib/python3.10/dist-packages/xgboost/sklearn.py:889: UserWarning: `callbacks` in `fit` method is deprecated for better compatibility with scikit-learn, use `callbacks` in constructor or`set_params` instead.\n",
            "  warnings.warn(\n",
            "[I 2024-06-24 09:07:08,631] Trial 13 finished with values: [-0.022960480261559658, 290.73065167491905] and parameters: {'max_depth': 6, 'learning_rate': 0.07854705408492263, 'min_child_weight': 4, 'subsample': 0.6238973689740961, 'colsample_bytree': 0.6793889865396238}. \n"
          ]
        },
        {
          "name": "stdout",
          "output_type": "stream",
          "text": [
            "Trial 13 finished with values: [-0.022960480261559658, 290.73065167491905] and parameters: {'max_depth': 6, 'learning_rate': 0.07854705408492263, 'min_child_weight': 4, 'subsample': 0.6238973689740961, 'colsample_bytree': 0.6793889865396238}. \n"
          ]
        },
        {
          "name": "stderr",
          "output_type": "stream",
          "text": [
            "/usr/local/lib/python3.10/dist-packages/xgboost/sklearn.py:889: UserWarning: `callbacks` in `fit` method is deprecated for better compatibility with scikit-learn, use `callbacks` in constructor or`set_params` instead.\n",
            "  warnings.warn(\n",
            "[I 2024-06-24 09:08:09,446] Trial 14 finished with values: [-0.37305314039533094, 16.523250444280187] and parameters: {'max_depth': 4, 'learning_rate': 0.02284774455776055, 'min_child_weight': 7, 'subsample': 0.635215713719185, 'colsample_bytree': 0.9497672345490886}. \n"
          ]
        },
        {
          "name": "stdout",
          "output_type": "stream",
          "text": [
            "Trial 14 finished with values: [-0.37305314039533094, 16.523250444280187] and parameters: {'max_depth': 4, 'learning_rate': 0.02284774455776055, 'min_child_weight': 7, 'subsample': 0.635215713719185, 'colsample_bytree': 0.9497672345490886}. \n"
          ]
        },
        {
          "name": "stderr",
          "output_type": "stream",
          "text": [
            "/usr/local/lib/python3.10/dist-packages/xgboost/sklearn.py:889: UserWarning: `callbacks` in `fit` method is deprecated for better compatibility with scikit-learn, use `callbacks` in constructor or`set_params` instead.\n",
            "  warnings.warn(\n",
            "[I 2024-06-24 09:08:37,723] Trial 15 finished with values: [0.9083216297705127, 5.531419857596021] and parameters: {'max_depth': 6, 'learning_rate': 0.03596035231444894, 'min_child_weight': 5, 'subsample': 0.9706196509767849, 'colsample_bytree': 0.8042174284531425}. \n"
          ]
        },
        {
          "name": "stdout",
          "output_type": "stream",
          "text": [
            "Trial 15 finished with values: [0.9083216297705127, 5.531419857596021] and parameters: {'max_depth': 6, 'learning_rate': 0.03596035231444894, 'min_child_weight': 5, 'subsample': 0.9706196509767849, 'colsample_bytree': 0.8042174284531425}. \n"
          ]
        },
        {
          "name": "stderr",
          "output_type": "stream",
          "text": [
            "/usr/local/lib/python3.10/dist-packages/xgboost/sklearn.py:889: UserWarning: `callbacks` in `fit` method is deprecated for better compatibility with scikit-learn, use `callbacks` in constructor or`set_params` instead.\n",
            "  warnings.warn(\n",
            "[I 2024-06-24 09:09:31,607] Trial 16 finished with values: [0.6447717110859589, 8.616208821249208] and parameters: {'max_depth': 3, 'learning_rate': 0.07724651046786002, 'min_child_weight': 9, 'subsample': 0.6008084736593008, 'colsample_bytree': 0.7040162151768115}. \n"
          ]
        },
        {
          "name": "stdout",
          "output_type": "stream",
          "text": [
            "Trial 16 finished with values: [0.6447717110859589, 8.616208821249208] and parameters: {'max_depth': 3, 'learning_rate': 0.07724651046786002, 'min_child_weight': 9, 'subsample': 0.6008084736593008, 'colsample_bytree': 0.7040162151768115}. \n"
          ]
        },
        {
          "name": "stderr",
          "output_type": "stream",
          "text": [
            "/usr/local/lib/python3.10/dist-packages/xgboost/sklearn.py:889: UserWarning: `callbacks` in `fit` method is deprecated for better compatibility with scikit-learn, use `callbacks` in constructor or`set_params` instead.\n",
            "  warnings.warn(\n",
            "[I 2024-06-24 09:09:56,466] Trial 17 finished with values: [0.4895418532794473, 8.166335979387204] and parameters: {'max_depth': 6, 'learning_rate': 0.0678226524363881, 'min_child_weight': 1, 'subsample': 0.994137839867443, 'colsample_bytree': 0.31582945650831623}. \n"
          ]
        },
        {
          "name": "stdout",
          "output_type": "stream",
          "text": [
            "Trial 17 finished with values: [0.4895418532794473, 8.166335979387204] and parameters: {'max_depth': 6, 'learning_rate': 0.0678226524363881, 'min_child_weight': 1, 'subsample': 0.994137839867443, 'colsample_bytree': 0.31582945650831623}. \n"
          ]
        },
        {
          "name": "stderr",
          "output_type": "stream",
          "text": [
            "/usr/local/lib/python3.10/dist-packages/xgboost/sklearn.py:889: UserWarning: `callbacks` in `fit` method is deprecated for better compatibility with scikit-learn, use `callbacks` in constructor or`set_params` instead.\n",
            "  warnings.warn(\n",
            "[I 2024-06-24 09:10:25,766] Trial 18 finished with values: [-0.14516467015955137, 27.623926915434613] and parameters: {'max_depth': 3, 'learning_rate': 0.0508884141588028, 'min_child_weight': 7, 'subsample': 0.9481869690029774, 'colsample_bytree': 0.4266549921996153}. \n"
          ]
        },
        {
          "name": "stdout",
          "output_type": "stream",
          "text": [
            "Trial 18 finished with values: [-0.14516467015955137, 27.623926915434613] and parameters: {'max_depth': 3, 'learning_rate': 0.0508884141588028, 'min_child_weight': 7, 'subsample': 0.9481869690029774, 'colsample_bytree': 0.4266549921996153}. \n"
          ]
        },
        {
          "name": "stderr",
          "output_type": "stream",
          "text": [
            "/usr/local/lib/python3.10/dist-packages/xgboost/sklearn.py:889: UserWarning: `callbacks` in `fit` method is deprecated for better compatibility with scikit-learn, use `callbacks` in constructor or`set_params` instead.\n",
            "  warnings.warn(\n",
            "[I 2024-06-24 09:10:56,042] Trial 19 finished with values: [0.25534287092156116, 25.017883119879677] and parameters: {'max_depth': 4, 'learning_rate': 0.08739508535933907, 'min_child_weight': 6, 'subsample': 0.8677651045779717, 'colsample_bytree': 0.9661287242321952}. \n"
          ]
        },
        {
          "name": "stdout",
          "output_type": "stream",
          "text": [
            "Trial 19 finished with values: [0.25534287092156116, 25.017883119879677] and parameters: {'max_depth': 4, 'learning_rate': 0.08739508535933907, 'min_child_weight': 6, 'subsample': 0.8677651045779717, 'colsample_bytree': 0.9661287242321952}. \n"
          ]
        },
        {
          "name": "stderr",
          "output_type": "stream",
          "text": [
            "[I 2024-06-24 09:10:56,970] A new study created in memory with name: no-name-9d3816be-ca95-4770-a0c1-2a66a451517c\n"
          ]
        },
        {
          "name": "stdout",
          "output_type": "stream",
          "text": [
            "A new study created in memory with name: no-name-9d3816be-ca95-4770-a0c1-2a66a451517c\n"
          ]
        },
        {
          "name": "stderr",
          "output_type": "stream",
          "text": [
            "/usr/local/lib/python3.10/dist-packages/xgboost/sklearn.py:889: UserWarning: `callbacks` in `fit` method is deprecated for better compatibility with scikit-learn, use `callbacks` in constructor or`set_params` instead.\n",
            "  warnings.warn(\n",
            "[I 2024-06-24 09:11:44,427] Trial 0 finished with values: [0.558416976238628, 11.696461447169625] and parameters: {'max_depth': 5, 'learning_rate': 0.03147349078807346, 'min_child_weight': 3, 'subsample': 0.5673677761933801, 'colsample_bytree': 0.5741172980223926}. \n"
          ]
        },
        {
          "name": "stdout",
          "output_type": "stream",
          "text": [
            "Trial 0 finished with values: [0.558416976238628, 11.696461447169625] and parameters: {'max_depth': 5, 'learning_rate': 0.03147349078807346, 'min_child_weight': 3, 'subsample': 0.5673677761933801, 'colsample_bytree': 0.5741172980223926}. \n"
          ]
        },
        {
          "name": "stderr",
          "output_type": "stream",
          "text": [
            "/usr/local/lib/python3.10/dist-packages/xgboost/sklearn.py:889: UserWarning: `callbacks` in `fit` method is deprecated for better compatibility with scikit-learn, use `callbacks` in constructor or`set_params` instead.\n",
            "  warnings.warn(\n",
            "[I 2024-06-24 09:12:16,925] Trial 1 finished with values: [-0.1372488029155865, 45.67896603236246] and parameters: {'max_depth': 6, 'learning_rate': 0.056283566323702204, 'min_child_weight': 9, 'subsample': 0.819335140015317, 'colsample_bytree': 0.7288812525815276}. \n"
          ]
        },
        {
          "name": "stdout",
          "output_type": "stream",
          "text": [
            "Trial 1 finished with values: [-0.1372488029155865, 45.67896603236246] and parameters: {'max_depth': 6, 'learning_rate': 0.056283566323702204, 'min_child_weight': 9, 'subsample': 0.819335140015317, 'colsample_bytree': 0.7288812525815276}. \n"
          ]
        },
        {
          "name": "stderr",
          "output_type": "stream",
          "text": [
            "/usr/local/lib/python3.10/dist-packages/xgboost/sklearn.py:889: UserWarning: `callbacks` in `fit` method is deprecated for better compatibility with scikit-learn, use `callbacks` in constructor or`set_params` instead.\n",
            "  warnings.warn(\n",
            "[I 2024-06-24 09:12:44,397] Trial 2 finished with values: [0.1445542697943098, 33.53693173988691] and parameters: {'max_depth': 6, 'learning_rate': 0.02301722465114905, 'min_child_weight': 7, 'subsample': 0.9745506659045813, 'colsample_bytree': 0.583242635084433}. \n"
          ]
        },
        {
          "name": "stdout",
          "output_type": "stream",
          "text": [
            "Trial 2 finished with values: [0.1445542697943098, 33.53693173988691] and parameters: {'max_depth': 6, 'learning_rate': 0.02301722465114905, 'min_child_weight': 7, 'subsample': 0.9745506659045813, 'colsample_bytree': 0.583242635084433}. \n"
          ]
        },
        {
          "name": "stderr",
          "output_type": "stream",
          "text": [
            "/usr/local/lib/python3.10/dist-packages/xgboost/sklearn.py:889: UserWarning: `callbacks` in `fit` method is deprecated for better compatibility with scikit-learn, use `callbacks` in constructor or`set_params` instead.\n",
            "  warnings.warn(\n",
            "[I 2024-06-24 09:13:24,149] Trial 3 finished with values: [-0.08289952633401272, 78.34196163163998] and parameters: {'max_depth': 6, 'learning_rate': 0.06491451106111927, 'min_child_weight': 9, 'subsample': 0.6970324213460009, 'colsample_bytree': 0.7724714120440794}. \n"
          ]
        },
        {
          "name": "stdout",
          "output_type": "stream",
          "text": [
            "Trial 3 finished with values: [-0.08289952633401272, 78.34196163163998] and parameters: {'max_depth': 6, 'learning_rate': 0.06491451106111927, 'min_child_weight': 9, 'subsample': 0.6970324213460009, 'colsample_bytree': 0.7724714120440794}. \n"
          ]
        },
        {
          "name": "stderr",
          "output_type": "stream",
          "text": [
            "/usr/local/lib/python3.10/dist-packages/xgboost/sklearn.py:889: UserWarning: `callbacks` in `fit` method is deprecated for better compatibility with scikit-learn, use `callbacks` in constructor or`set_params` instead.\n",
            "  warnings.warn(\n",
            "[I 2024-06-24 09:14:04,205] Trial 4 finished with values: [-0.5967568358012051, 10.442469778840103] and parameters: {'max_depth': 5, 'learning_rate': 0.07000287053167883, 'min_child_weight': 2, 'subsample': 0.5980826703368253, 'colsample_bytree': 0.3849574291729601}. \n"
          ]
        },
        {
          "name": "stdout",
          "output_type": "stream",
          "text": [
            "Trial 4 finished with values: [-0.5967568358012051, 10.442469778840103] and parameters: {'max_depth': 5, 'learning_rate': 0.07000287053167883, 'min_child_weight': 2, 'subsample': 0.5980826703368253, 'colsample_bytree': 0.3849574291729601}. \n"
          ]
        },
        {
          "name": "stderr",
          "output_type": "stream",
          "text": [
            "/usr/local/lib/python3.10/dist-packages/xgboost/sklearn.py:889: UserWarning: `callbacks` in `fit` method is deprecated for better compatibility with scikit-learn, use `callbacks` in constructor or`set_params` instead.\n",
            "  warnings.warn(\n",
            "[I 2024-06-24 09:14:54,257] Trial 5 finished with values: [-0.1728060704455289, 35.14642841733589] and parameters: {'max_depth': 5, 'learning_rate': 0.026486256582693726, 'min_child_weight': 7, 'subsample': 0.6337343327129976, 'colsample_bytree': 0.5875912852004487}. \n"
          ]
        },
        {
          "name": "stdout",
          "output_type": "stream",
          "text": [
            "Trial 5 finished with values: [-0.1728060704455289, 35.14642841733589] and parameters: {'max_depth': 5, 'learning_rate': 0.026486256582693726, 'min_child_weight': 7, 'subsample': 0.6337343327129976, 'colsample_bytree': 0.5875912852004487}. \n"
          ]
        },
        {
          "name": "stderr",
          "output_type": "stream",
          "text": [
            "/usr/local/lib/python3.10/dist-packages/xgboost/sklearn.py:889: UserWarning: `callbacks` in `fit` method is deprecated for better compatibility with scikit-learn, use `callbacks` in constructor or`set_params` instead.\n",
            "  warnings.warn(\n",
            "[I 2024-06-24 09:15:31,955] Trial 6 finished with values: [0.05645497091345908, 122.51429244458473] and parameters: {'max_depth': 6, 'learning_rate': 0.08855856374498898, 'min_child_weight': 3, 'subsample': 0.6746945462763023, 'colsample_bytree': 0.43189668302885864}. \n"
          ]
        },
        {
          "name": "stdout",
          "output_type": "stream",
          "text": [
            "Trial 6 finished with values: [0.05645497091345908, 122.51429244458473] and parameters: {'max_depth': 6, 'learning_rate': 0.08855856374498898, 'min_child_weight': 3, 'subsample': 0.6746945462763023, 'colsample_bytree': 0.43189668302885864}. \n"
          ]
        },
        {
          "name": "stderr",
          "output_type": "stream",
          "text": [
            "/usr/local/lib/python3.10/dist-packages/xgboost/sklearn.py:889: UserWarning: `callbacks` in `fit` method is deprecated for better compatibility with scikit-learn, use `callbacks` in constructor or`set_params` instead.\n",
            "  warnings.warn(\n",
            "[I 2024-06-24 09:16:19,612] Trial 7 finished with values: [-0.08783590267228106, 65.45730706620556] and parameters: {'max_depth': 3, 'learning_rate': 0.07228053793526378, 'min_child_weight': 3, 'subsample': 0.654486695897883, 'colsample_bytree': 0.7992497193492256}. \n"
          ]
        },
        {
          "name": "stdout",
          "output_type": "stream",
          "text": [
            "Trial 7 finished with values: [-0.08783590267228106, 65.45730706620556] and parameters: {'max_depth': 3, 'learning_rate': 0.07228053793526378, 'min_child_weight': 3, 'subsample': 0.654486695897883, 'colsample_bytree': 0.7992497193492256}. \n"
          ]
        },
        {
          "name": "stderr",
          "output_type": "stream",
          "text": [
            "/usr/local/lib/python3.10/dist-packages/xgboost/sklearn.py:889: UserWarning: `callbacks` in `fit` method is deprecated for better compatibility with scikit-learn, use `callbacks` in constructor or`set_params` instead.\n",
            "  warnings.warn(\n",
            "[I 2024-06-24 09:17:04,206] Trial 8 finished with values: [0.28941221337846557, 24.755546760354704] and parameters: {'max_depth': 5, 'learning_rate': 0.09999579627560047, 'min_child_weight': 3, 'subsample': 0.5437330168593699, 'colsample_bytree': 0.5815472739316809}. \n"
          ]
        },
        {
          "name": "stdout",
          "output_type": "stream",
          "text": [
            "Trial 8 finished with values: [0.28941221337846557, 24.755546760354704] and parameters: {'max_depth': 5, 'learning_rate': 0.09999579627560047, 'min_child_weight': 3, 'subsample': 0.5437330168593699, 'colsample_bytree': 0.5815472739316809}. \n"
          ]
        },
        {
          "name": "stderr",
          "output_type": "stream",
          "text": [
            "/usr/local/lib/python3.10/dist-packages/xgboost/sklearn.py:889: UserWarning: `callbacks` in `fit` method is deprecated for better compatibility with scikit-learn, use `callbacks` in constructor or`set_params` instead.\n",
            "  warnings.warn(\n",
            "[I 2024-06-24 09:17:35,233] Trial 9 finished with values: [-0.5428232687791816, 6.44875366669452] and parameters: {'max_depth': 4, 'learning_rate': 0.03188317506969288, 'min_child_weight': 4, 'subsample': 0.964211940756166, 'colsample_bytree': 0.4164352219305413}. \n"
          ]
        },
        {
          "name": "stdout",
          "output_type": "stream",
          "text": [
            "Trial 9 finished with values: [-0.5428232687791816, 6.44875366669452] and parameters: {'max_depth': 4, 'learning_rate': 0.03188317506969288, 'min_child_weight': 4, 'subsample': 0.964211940756166, 'colsample_bytree': 0.4164352219305413}. \n"
          ]
        },
        {
          "name": "stderr",
          "output_type": "stream",
          "text": [
            "/usr/local/lib/python3.10/dist-packages/xgboost/sklearn.py:889: UserWarning: `callbacks` in `fit` method is deprecated for better compatibility with scikit-learn, use `callbacks` in constructor or`set_params` instead.\n",
            "  warnings.warn(\n",
            "[I 2024-06-24 09:18:22,466] Trial 10 finished with values: [0.07474630051842372, 92.8508567602208] and parameters: {'max_depth': 5, 'learning_rate': 0.06887427739198448, 'min_child_weight': 4, 'subsample': 0.5352539243281966, 'colsample_bytree': 0.8224110951140207}. \n"
          ]
        },
        {
          "name": "stdout",
          "output_type": "stream",
          "text": [
            "Trial 10 finished with values: [0.07474630051842372, 92.8508567602208] and parameters: {'max_depth': 5, 'learning_rate': 0.06887427739198448, 'min_child_weight': 4, 'subsample': 0.5352539243281966, 'colsample_bytree': 0.8224110951140207}. \n"
          ]
        },
        {
          "name": "stderr",
          "output_type": "stream",
          "text": [
            "/usr/local/lib/python3.10/dist-packages/xgboost/sklearn.py:889: UserWarning: `callbacks` in `fit` method is deprecated for better compatibility with scikit-learn, use `callbacks` in constructor or`set_params` instead.\n",
            "  warnings.warn(\n",
            "[I 2024-06-24 09:18:58,355] Trial 11 finished with values: [-0.37841900261260425, 15.87664395130092] and parameters: {'max_depth': 5, 'learning_rate': 0.038946416598483635, 'min_child_weight': 1, 'subsample': 0.7722515972038649, 'colsample_bytree': 0.5581590241750523}. \n"
          ]
        },
        {
          "name": "stdout",
          "output_type": "stream",
          "text": [
            "Trial 11 finished with values: [-0.37841900261260425, 15.87664395130092] and parameters: {'max_depth': 5, 'learning_rate': 0.038946416598483635, 'min_child_weight': 1, 'subsample': 0.7722515972038649, 'colsample_bytree': 0.5581590241750523}. \n"
          ]
        },
        {
          "name": "stderr",
          "output_type": "stream",
          "text": [
            "/usr/local/lib/python3.10/dist-packages/xgboost/sklearn.py:889: UserWarning: `callbacks` in `fit` method is deprecated for better compatibility with scikit-learn, use `callbacks` in constructor or`set_params` instead.\n",
            "  warnings.warn(\n",
            "[I 2024-06-24 09:19:50,037] Trial 12 finished with values: [0.30136324897943245, 14.867910961160876] and parameters: {'max_depth': 3, 'learning_rate': 0.013664465433761345, 'min_child_weight': 6, 'subsample': 0.7660564076143718, 'colsample_bytree': 0.9698404804025089}. \n"
          ]
        },
        {
          "name": "stdout",
          "output_type": "stream",
          "text": [
            "Trial 12 finished with values: [0.30136324897943245, 14.867910961160876] and parameters: {'max_depth': 3, 'learning_rate': 0.013664465433761345, 'min_child_weight': 6, 'subsample': 0.7660564076143718, 'colsample_bytree': 0.9698404804025089}. \n"
          ]
        },
        {
          "name": "stderr",
          "output_type": "stream",
          "text": [
            "/usr/local/lib/python3.10/dist-packages/xgboost/sklearn.py:889: UserWarning: `callbacks` in `fit` method is deprecated for better compatibility with scikit-learn, use `callbacks` in constructor or`set_params` instead.\n",
            "  warnings.warn(\n",
            "[I 2024-06-24 09:20:27,094] Trial 13 finished with values: [0.5100419665600804, 11.900444313798332] and parameters: {'max_depth': 4, 'learning_rate': 0.09401066701077497, 'min_child_weight': 3, 'subsample': 0.7625718075083932, 'colsample_bytree': 0.9016278744184827}. \n"
          ]
        },
        {
          "name": "stdout",
          "output_type": "stream",
          "text": [
            "Trial 13 finished with values: [0.5100419665600804, 11.900444313798332] and parameters: {'max_depth': 4, 'learning_rate': 0.09401066701077497, 'min_child_weight': 3, 'subsample': 0.7625718075083932, 'colsample_bytree': 0.9016278744184827}. \n"
          ]
        },
        {
          "name": "stderr",
          "output_type": "stream",
          "text": [
            "/usr/local/lib/python3.10/dist-packages/xgboost/sklearn.py:889: UserWarning: `callbacks` in `fit` method is deprecated for better compatibility with scikit-learn, use `callbacks` in constructor or`set_params` instead.\n",
            "  warnings.warn(\n",
            "[I 2024-06-24 09:21:00,392] Trial 14 finished with values: [0.2896221518212701, 19.845069295941833] and parameters: {'max_depth': 4, 'learning_rate': 0.07310403062751811, 'min_child_weight': 6, 'subsample': 0.8532209578391721, 'colsample_bytree': 0.8731981121864327}. \n"
          ]
        },
        {
          "name": "stdout",
          "output_type": "stream",
          "text": [
            "Trial 14 finished with values: [0.2896221518212701, 19.845069295941833] and parameters: {'max_depth': 4, 'learning_rate': 0.07310403062751811, 'min_child_weight': 6, 'subsample': 0.8532209578391721, 'colsample_bytree': 0.8731981121864327}. \n"
          ]
        },
        {
          "name": "stderr",
          "output_type": "stream",
          "text": [
            "/usr/local/lib/python3.10/dist-packages/xgboost/sklearn.py:889: UserWarning: `callbacks` in `fit` method is deprecated for better compatibility with scikit-learn, use `callbacks` in constructor or`set_params` instead.\n",
            "  warnings.warn(\n",
            "[I 2024-06-24 09:21:42,503] Trial 15 finished with values: [0.26192968609979006, 20.115377327104603] and parameters: {'max_depth': 3, 'learning_rate': 0.06339966044914232, 'min_child_weight': 4, 'subsample': 0.8296240285673473, 'colsample_bytree': 0.639484027316741}. \n"
          ]
        },
        {
          "name": "stdout",
          "output_type": "stream",
          "text": [
            "Trial 15 finished with values: [0.26192968609979006, 20.115377327104603] and parameters: {'max_depth': 3, 'learning_rate': 0.06339966044914232, 'min_child_weight': 4, 'subsample': 0.8296240285673473, 'colsample_bytree': 0.639484027316741}. \n"
          ]
        },
        {
          "name": "stderr",
          "output_type": "stream",
          "text": [
            "/usr/local/lib/python3.10/dist-packages/xgboost/sklearn.py:889: UserWarning: `callbacks` in `fit` method is deprecated for better compatibility with scikit-learn, use `callbacks` in constructor or`set_params` instead.\n",
            "  warnings.warn(\n",
            "[I 2024-06-24 09:22:17,666] Trial 16 finished with values: [0.03449615993650118, 210.54884517234092] and parameters: {'max_depth': 5, 'learning_rate': 0.0915817793761648, 'min_child_weight': 1, 'subsample': 0.7194965842342045, 'colsample_bytree': 0.9779288817596474}. \n"
          ]
        },
        {
          "name": "stdout",
          "output_type": "stream",
          "text": [
            "Trial 16 finished with values: [0.03449615993650118, 210.54884517234092] and parameters: {'max_depth': 5, 'learning_rate': 0.0915817793761648, 'min_child_weight': 1, 'subsample': 0.7194965842342045, 'colsample_bytree': 0.9779288817596474}. \n"
          ]
        },
        {
          "name": "stderr",
          "output_type": "stream",
          "text": [
            "/usr/local/lib/python3.10/dist-packages/xgboost/sklearn.py:889: UserWarning: `callbacks` in `fit` method is deprecated for better compatibility with scikit-learn, use `callbacks` in constructor or`set_params` instead.\n",
            "  warnings.warn(\n",
            "[I 2024-06-24 09:23:02,000] Trial 17 finished with values: [-0.17046175704569774, 38.35543782654014] and parameters: {'max_depth': 5, 'learning_rate': 0.08883178118081743, 'min_child_weight': 8, 'subsample': 0.603540995270909, 'colsample_bytree': 0.506149895685893}. \n"
          ]
        },
        {
          "name": "stdout",
          "output_type": "stream",
          "text": [
            "Trial 17 finished with values: [-0.17046175704569774, 38.35543782654014] and parameters: {'max_depth': 5, 'learning_rate': 0.08883178118081743, 'min_child_weight': 8, 'subsample': 0.603540995270909, 'colsample_bytree': 0.506149895685893}. \n"
          ]
        },
        {
          "name": "stderr",
          "output_type": "stream",
          "text": [
            "/usr/local/lib/python3.10/dist-packages/xgboost/sklearn.py:889: UserWarning: `callbacks` in `fit` method is deprecated for better compatibility with scikit-learn, use `callbacks` in constructor or`set_params` instead.\n",
            "  warnings.warn(\n",
            "[I 2024-06-24 09:23:52,474] Trial 18 finished with values: [-0.7460810207286084, 6.825866018196962] and parameters: {'max_depth': 6, 'learning_rate': 0.013620281060066845, 'min_child_weight': 9, 'subsample': 0.7434246951530321, 'colsample_bytree': 0.5355278748081406}. \n"
          ]
        },
        {
          "name": "stdout",
          "output_type": "stream",
          "text": [
            "Trial 18 finished with values: [-0.7460810207286084, 6.825866018196962] and parameters: {'max_depth': 6, 'learning_rate': 0.013620281060066845, 'min_child_weight': 9, 'subsample': 0.7434246951530321, 'colsample_bytree': 0.5355278748081406}. \n"
          ]
        },
        {
          "name": "stderr",
          "output_type": "stream",
          "text": [
            "/usr/local/lib/python3.10/dist-packages/xgboost/sklearn.py:889: UserWarning: `callbacks` in `fit` method is deprecated for better compatibility with scikit-learn, use `callbacks` in constructor or`set_params` instead.\n",
            "  warnings.warn(\n",
            "[I 2024-06-24 09:24:35,879] Trial 19 finished with values: [0.6816675608678535, 9.088787111516366] and parameters: {'max_depth': 5, 'learning_rate': 0.03658792513472081, 'min_child_weight': 1, 'subsample': 0.6735293805113485, 'colsample_bytree': 0.9140667618770593}. \n"
          ]
        },
        {
          "name": "stdout",
          "output_type": "stream",
          "text": [
            "Trial 19 finished with values: [0.6816675608678535, 9.088787111516366] and parameters: {'max_depth': 5, 'learning_rate': 0.03658792513472081, 'min_child_weight': 1, 'subsample': 0.6735293805113485, 'colsample_bytree': 0.9140667618770593}. \n"
          ]
        }
      ],
      "source": [
        "best_params_list = []\n",
        "for idx, data_item in enumerate(selected_columns_cluster):\n",
        "    train_cols, _ = split_data(data_item)\n",
        "    optuna_data = scale_data(train_cols)\n",
        "\n",
        "    X_train, X_valid, y_train, y_valid = train_test_split(optuna_data,\n",
        "                                                            train_data['Return'],\n",
        "                                                            test_size=0.5,\n",
        "                                                            shuffle=False)\n",
        "    study = optuna.create_study(directions=['maximize', 'minimize'])\n",
        "\n",
        "    unique_trials = 20\n",
        "    while unique_trials > len(set(str(t.params) for t in study.trials)):\n",
        "        study.optimize(lambda trial: objective_params(trial, X_train, X_valid, y_train, y_valid, train_data['Close']), n_trials=1)\n",
        "\n",
        "    # Retrieve all trials\n",
        "    trials = study.trials\n",
        "\n",
        "    completed_trials = [t for t in study.trials if t.values is not None]\n",
        "\n",
        "    # Sort trials based on objective values\n",
        "    completed_trials.sort(key=lambda trial: trial.values, reverse=True)\n",
        "\n",
        "    # Select top 1 trials\n",
        "    params = completed_trials[0].params\n",
        "    best_params_list.append(params)\n",
        "\n",
        "    model = xgb.XGBRegressor(**params)\n",
        "    model.fit(X_train, y_train)\n",
        "\n",
        "    model.save_model(f'best_in_cluster_{idx}.json')"
      ]
    },
    {
      "cell_type": "code",
      "execution_count": null,
      "metadata": {
        "id": "bICDZWmoqnAM"
      },
      "outputs": [],
      "source": [
        "# trials = study.trials\n",
        "# trials.sort(key=lambda trial: trial.values, reverse=True)\n",
        "# study.trials_dataframe().sort_values('values_0', ascending=False)"
      ]
    },
    {
      "cell_type": "markdown",
      "metadata": {
        "id": "ZfJ2jbgfqnAM"
      },
      "source": [
        "# Test and save result"
      ]
    },
    {
      "cell_type": "code",
      "execution_count": 18,
      "metadata": {
        "id": "FWdWQB46qnAM"
      },
      "outputs": [],
      "source": [
        "full_data = pd.read_csv('D:\\Study file\\Summer 2024\\DSP\\DSP_vn30f\\save_data.csv')\n",
        "data = full_data[full_data.Date >= '2021']\n",
        "\n",
        "train_data, hold_out = split_data(data)\n"
      ]
    },
    {
      "cell_type": "code",
      "execution_count": 19,
      "metadata": {
        "id": "IG-_sUBMqnAN"
      },
      "outputs": [],
      "source": [
        "def return_result_df(hold_out, y_hold_out, data, train_data, pos, pnl):\n",
        "    result = pd.DataFrame()\n",
        "    result['Close_Holdout'] = hold_out['Close']\n",
        "    result['Ground_value_Holdout'] = hold_out['Return']\n",
        "    result['Predict_diff_Holdout'] = pd.Series(y_hold_out, index=data.index[len(train_data):len(data)])\n",
        "    result['Position_predict_Holdout'] = pd.Series(pos, index=data.index[len(train_data):len(data)])\n",
        "    result['PNL_Holdout'] = pd.Series(pnl)\n",
        "    return result"
      ]
    },
    {
      "cell_type": "code",
      "execution_count": 20,
      "metadata": {},
      "outputs": [],
      "source": [
        "with open(r'D:\\Study file\\Summer 2024\\DSP\\DSP_vn30f\\top_10_list.pkl', 'rb') as f:\n",
        "    selected_columns_cluster = pickle.load(f)\n",
        "\n",
        "with open(r'D:\\Study file\\Summer 2024\\DSP\\DSP_vn30f\\top_10_features_per_cluster.pkl', 'rb') as f:\n",
        "    top_10_features_per_cluster = pickle.load(f)\n",
        "\n",
        "with open(r'D:\\Study file\\Summer 2024\\DSP\\DSP_vn30f\\best_params_list.pkl', 'rb') as f:\n",
        "    best_params_list = pickle.load(f)\n",
        "\n",
        "for idx, data_item in enumerate(selected_columns_cluster):\n",
        "    train_cols, _ = split_data(data_item)\n",
        "    optuna_data = scale_data(train_cols)"
      ]
    },
    {
      "cell_type": "code",
      "execution_count": 21,
      "metadata": {
        "colab": {
          "base_uri": "https://localhost:8080/",
          "height": 1000
        },
        "id": "tMF5DfvAqnAN",
        "outputId": "79dd049d-40b4-4f0d-992d-40902be6742c"
      },
      "outputs": [
        {
          "name": "stdout",
          "output_type": "stream",
          "text": [
            "Pnl ratio for cluster 0: 285073         NaN\n",
            "285074         NaN\n",
            "285075         NaN\n",
            "285076         NaN\n",
            "285077         NaN\n",
            "            ...   \n",
            "354770    0.470881\n",
            "354771    0.469172\n",
            "354772    0.471503\n",
            "354773    0.477094\n",
            "354774    0.470104\n",
            "Length: 69702, dtype: float64\n",
            "Pnl ratio for cluster 1: 285073         NaN\n",
            "285074         NaN\n",
            "285075         NaN\n",
            "285076         NaN\n",
            "285077         NaN\n",
            "            ...   \n",
            "354770    0.458226\n",
            "354771    0.455662\n",
            "354772    0.458769\n",
            "354773    0.466223\n",
            "354774    0.454574\n",
            "Length: 69702, dtype: float64\n"
          ]
        },
        {
          "data": {
            "image/png": "[encoded data removed]",
            "text/plain": [
              "<Figure size 1000x1200 with 2 Axes>"
            ]
          },
          "metadata": {},
          "output_type": "display_data"
        }
      ],
      "source": [
        "pnl_data = []\n",
        "sharpe_list = []\n",
        "result = None\n",
        "trade_threshold  = 0.0005\n",
        "\n",
        "# Create a single figure and set of subplots\n",
        "fig, axes = plt.subplots(len(selected_columns_cluster), figsize=(10, 12))\n",
        "\n",
        "for idx, data_item in enumerate(selected_columns_cluster):\n",
        "    _, hold_out_cols = split_data(data_item[-data.shape[0]:])\n",
        "\n",
        "    xbg_reg = xgb.XGBRegressor()\n",
        "    # Create and train model\n",
        "    xbg_reg.load_model(fr\"D:\\Study file\\Summer 2024\\DSP\\DSP_vn30f\\best_in_cluster_{idx}.json\")\n",
        "\n",
        "    # Make predictions\n",
        "    hold_out_cols.columns = optuna_data.columns\n",
        "    y_hold_out = xbg_reg.predict(hold_out_cols)\n",
        "    pos, pnl, daily, sharpe = sharpe_for_vn30f(y_hold_out, hold_out['Return'], trade_threshold=trade_threshold, fee_perc=0.01, periods=10)\n",
        "\n",
        "    print(f\"Pnl ratio for cluster {idx}: {pnl}\")\n",
        "    # Append PnL data to the list\n",
        "    pnl_data.append(pnl)\n",
        "    result = return_result_df(hold_out, y_hold_out, data, train_data, pos, pnl)\n",
        "    sharpe_list.append(sharpe)\n",
        "    \n",
        "    # Plot PnL for each cluster\n",
        "    if len(selected_columns_cluster) == 1:\n",
        "        ax = axes\n",
        "    else:\n",
        "        ax = axes[idx]\n",
        "\n",
        "    ax.plot(pnl, label=f'Cluster {idx}')\n",
        "    ax.set_title(f'PnL for Cluster {idx}')\n",
        "    ax.set_xlabel('Date')\n",
        "    ax.set_ylabel('PnL')\n",
        "    ax.legend()\n",
        "    ax.grid(True)\n",
        "\n",
        "# Adjust layout\n",
        "plt.tight_layout()\n",
        "plt.show()"
      ]
    },
    {
      "cell_type": "code",
      "execution_count": 22,
      "metadata": {
        "colab": {
          "base_uri": "https://localhost:8080/"
        },
        "id": "MuHQIzsZqnAN",
        "outputId": "33f0b1d4-1ec4-4565-b5be-60293c612b50"
      },
      "outputs": [
        {
          "name": "stdout",
          "output_type": "stream",
          "text": [
            "['4 5 9 0 6 11 13 3 10 7', '9 5 4 10 13 11 0 6 1 7']\n"
          ]
        }
      ],
      "source": [
        "#Top 10 feature into list\n",
        "feature=[]\n",
        "for i in top_10_features_per_cluster:\n",
        "    listToStr = ' '.join([str(elem) for elem in i])\n",
        "    feature.append(listToStr)\n",
        "print(feature)"
      ]
    },
    {
      "cell_type": "code",
      "execution_count": 23,
      "metadata": {
        "id": "CYX69HnfqnAN"
      },
      "outputs": [],
      "source": [
        "name=[]\n",
        "for i in range(len(selected_columns_cluster)):\n",
        "  name.append( 'Cluster '+ str(i))"
      ]
    },
    {
      "cell_type": "code",
      "execution_count": 24,
      "metadata": {
        "colab": {
          "base_uri": "https://localhost:8080/",
          "height": 125
        },
        "id": "zj3kWFscqnAO",
        "outputId": "804b6e0b-c973-4037-d564-f879dacdad14"
      },
      "outputs": [
        {
          "data": {
            "text/html": [
              "<div>\n",
              "<style scoped>\n",
              "    .dataframe tbody tr th:only-of-type {\n",
              "        vertical-align: middle;\n",
              "    }\n",
              "\n",
              "    .dataframe tbody tr th {\n",
              "        vertical-align: top;\n",
              "    }\n",
              "\n",
              "    .dataframe thead th {\n",
              "        text-align: right;\n",
              "    }\n",
              "</style>\n",
              "<table border=\"1\" class=\"dataframe\">\n",
              "  <thead>\n",
              "    <tr style=\"text-align: right;\">\n",
              "      <th></th>\n",
              "      <th>Top 10 Feature</th>\n",
              "      <th>Best params</th>\n",
              "      <th>Best sharpe</th>\n",
              "    </tr>\n",
              "  </thead>\n",
              "  <tbody>\n",
              "    <tr>\n",
              "      <th>Cluster 0</th>\n",
              "      <td>4 5 9 0 6 11 13 3 10 7</td>\n",
              "      <td>{'max_depth': 10, 'learning_rate': 0.056008922...</td>\n",
              "      <td>3.006903</td>\n",
              "    </tr>\n",
              "    <tr>\n",
              "      <th>Cluster 1</th>\n",
              "      <td>9 5 4 10 13 11 0 6 1 7</td>\n",
              "      <td>{'max_depth': 6, 'learning_rate': 0.0169066789...</td>\n",
              "      <td>2.973205</td>\n",
              "    </tr>\n",
              "  </tbody>\n",
              "</table>\n",
              "</div>"
            ],
            "text/plain": [
              "                   Top 10 Feature  \\\n",
              "Cluster 0  4 5 9 0 6 11 13 3 10 7   \n",
              "Cluster 1  9 5 4 10 13 11 0 6 1 7   \n",
              "\n",
              "                                                 Best params  Best sharpe  \n",
              "Cluster 0  {'max_depth': 10, 'learning_rate': 0.056008922...     3.006903  \n",
              "Cluster 1  {'max_depth': 6, 'learning_rate': 0.0169066789...     2.973205  "
            ]
          },
          "execution_count": 24,
          "metadata": {},
          "output_type": "execute_result"
        }
      ],
      "source": [
        "dict = {'Top 10 Feature' : feature, 'Best params': best_params_list, 'Best sharpe':sharpe_list}\n",
        "df_result = pd.DataFrame(dict, index=name)\n",
        "df_result"
      ]
    },
    {
      "cell_type": "code",
      "execution_count": 25,
      "metadata": {
        "colab": {
          "base_uri": "https://localhost:8080/",
          "height": 423
        },
        "id": "gC6RQbaHqnAO",
        "outputId": "b1910dd5-1367-4514-ece4-2c49ef48804c"
      },
      "outputs": [
        {
          "data": {
            "text/html": [
              "<div>\n",
              "<style scoped>\n",
              "    .dataframe tbody tr th:only-of-type {\n",
              "        vertical-align: middle;\n",
              "    }\n",
              "\n",
              "    .dataframe tbody tr th {\n",
              "        vertical-align: top;\n",
              "    }\n",
              "\n",
              "    .dataframe thead th {\n",
              "        text-align: right;\n",
              "    }\n",
              "</style>\n",
              "<table border=\"1\" class=\"dataframe\">\n",
              "  <thead>\n",
              "    <tr style=\"text-align: right;\">\n",
              "      <th></th>\n",
              "      <th>Cluster 0</th>\n",
              "      <th>Cluster 1</th>\n",
              "    </tr>\n",
              "  </thead>\n",
              "  <tbody>\n",
              "    <tr>\n",
              "      <th>285073</th>\n",
              "      <td>NaN</td>\n",
              "      <td>NaN</td>\n",
              "    </tr>\n",
              "    <tr>\n",
              "      <th>285074</th>\n",
              "      <td>NaN</td>\n",
              "      <td>NaN</td>\n",
              "    </tr>\n",
              "    <tr>\n",
              "      <th>285075</th>\n",
              "      <td>NaN</td>\n",
              "      <td>NaN</td>\n",
              "    </tr>\n",
              "    <tr>\n",
              "      <th>285076</th>\n",
              "      <td>NaN</td>\n",
              "      <td>NaN</td>\n",
              "    </tr>\n",
              "    <tr>\n",
              "      <th>285077</th>\n",
              "      <td>NaN</td>\n",
              "      <td>NaN</td>\n",
              "    </tr>\n",
              "    <tr>\n",
              "      <th>...</th>\n",
              "      <td>...</td>\n",
              "      <td>...</td>\n",
              "    </tr>\n",
              "    <tr>\n",
              "      <th>354770</th>\n",
              "      <td>0.470881</td>\n",
              "      <td>0.458226</td>\n",
              "    </tr>\n",
              "    <tr>\n",
              "      <th>354771</th>\n",
              "      <td>0.469172</td>\n",
              "      <td>0.455662</td>\n",
              "    </tr>\n",
              "    <tr>\n",
              "      <th>354772</th>\n",
              "      <td>0.471503</td>\n",
              "      <td>0.458769</td>\n",
              "    </tr>\n",
              "    <tr>\n",
              "      <th>354773</th>\n",
              "      <td>0.477094</td>\n",
              "      <td>0.466223</td>\n",
              "    </tr>\n",
              "    <tr>\n",
              "      <th>354774</th>\n",
              "      <td>0.470104</td>\n",
              "      <td>0.454574</td>\n",
              "    </tr>\n",
              "  </tbody>\n",
              "</table>\n",
              "<p>69702 rows × 2 columns</p>\n",
              "</div>"
            ],
            "text/plain": [
              "        Cluster 0  Cluster 1\n",
              "285073        NaN        NaN\n",
              "285074        NaN        NaN\n",
              "285075        NaN        NaN\n",
              "285076        NaN        NaN\n",
              "285077        NaN        NaN\n",
              "...           ...        ...\n",
              "354770   0.470881   0.458226\n",
              "354771   0.469172   0.455662\n",
              "354772   0.471503   0.458769\n",
              "354773   0.477094   0.466223\n",
              "354774   0.470104   0.454574\n",
              "\n",
              "[69702 rows x 2 columns]"
            ]
          },
          "execution_count": 25,
          "metadata": {},
          "output_type": "execute_result"
        }
      ],
      "source": [
        "#DataFrame of Pnl hold out\n",
        "df_pnl = pd.DataFrame()\n",
        "for i in range(len(selected_columns_cluster)):\n",
        "  df_pnl[name[i]]=pnl_data[i]\n",
        "df_pnl"
      ]
    },
    {
      "cell_type": "code",
      "execution_count": 26,
      "metadata": {
        "id": "URgaoxghKDDE"
      },
      "outputs": [],
      "source": [
        "df_pnl.columns = ['XGB Cluster 0', 'XGB Cluster 1']"
      ]
    },
    {
      "cell_type": "code",
      "execution_count": 27,
      "metadata": {},
      "outputs": [],
      "source": [
        "df_pnl.to_csv('xgb_pnl.csv')"
      ]
    },
    {
      "cell_type": "code",
      "execution_count": null,
      "metadata": {},
      "outputs": [],
      "source": []
    }
  ],
  "metadata": {
    "colab": {
      "collapsed_sections": [
        "EhK1f5uMqm_4",
        "1AoNRGHXqm_7",
        "cWnAMLgxqm_9"
      ],
      "provenance": []
    },
    "kernelspec": {
      "display_name": "Python 3",
      "language": "python",
      "name": "python3"
    },
    "language_info": {
      "codemirror_mode": {
        "name": "ipython",
        "version": 3
      },
      "file_extension": ".py",
      "mimetype": "text/x-python",
      "name": "python",
      "nbconvert_exporter": "python",
      "pygments_lexer": "ipython3",
      "version": "3.10.1"
    }
  },
  "nbformat": 4,
  "nbformat_minor": 0
}
