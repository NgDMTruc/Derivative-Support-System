{
 "cells": [
  {
   "cell_type": "code",
   "execution_count": 31,
   "metadata": {},
   "outputs": [],
   "source": [
    "import numpy as np\n",
    "import pandas_ta as ta\n",
    "import pandas as pd\n",
    "from datetime import datetime, timedelta, timezone\n",
    "from backtesting import Backtest\n",
    "from backtesting import Strategy\n",
    "from backtesting.lib import crossover"
   ]
  },
  {
   "cell_type": "code",
   "execution_count": 35,
   "metadata": {},
   "outputs": [],
   "source": [
    "df_min = pd.read_csv('vn30f1m_3min.csv')\n",
    "df_hour = pd.read_csv('vn30f1m_1hour.csv')\n",
    "df_day = pd.read_csv('vn30f1m_1day.csv')"
   ]
  },
  {
   "cell_type": "code",
   "execution_count": 36,
   "metadata": {},
   "outputs": [],
   "source": [
    "def data_backtest(data):\n",
    "    new_data = data[['Open', 'High', 'Low', 'Close', 'Volume']]\n",
    "    new_data.index = pd.to_datetime(data['Date'])\n",
    "    new_data.index.name = None\n",
    "    return new_data"
   ]
  },
  {
   "cell_type": "code",
   "execution_count": 37,
   "metadata": {},
   "outputs": [],
   "source": [
    "def split_data(data):\n",
    "    \"\"\"\n",
    "    Hàm này chia dữ liệu thành 2 phần: tập huấn luyện và tập hold out.\n",
    "\n",
    "    Args:\n",
    "    data (pandas.DataFrame): DataFrame chứa dữ liệu cần chia.\n",
    "\n",
    "    Returns:\n",
    "    pandas.DataFrame: DataFrame chứa dữ liệu tập huấn luyện.\n",
    "    pandas.DataFrame: DataFrame chứa dữ liệu tập giữ lại.\n",
    "    \"\"\"\n",
    "    # Chia dữ liệu thành 3 phần\n",
    "    new_part = np.array_split(data, 3)\n",
    "\n",
    "    # Access each part individually\n",
    "    hold_out = new_part[2]\n",
    "    train_data = pd.concat([new_part[0], new_part[1]], axis=0)\n",
    "\n",
    "    return train_data, hold_out"
   ]
  },
  {
   "cell_type": "code",
   "execution_count": 48,
   "metadata": {},
   "outputs": [],
   "source": [
    "def process_data(df):\n",
    "    data = df.copy()\n",
    "    data = data[~data.index.duplicated(keep='first')] # Handling duplicate\n",
    "    \n",
    "    data['Date'] = [str(i)[:10] for i in data.index]\n",
    "    data['time'] = [str(i)[11:] for i in data.index]\n",
    "    data_model = data.pivot(index = 'Date', columns = 'time', values = ['Open','High','Low','Close','Volume']).ffill(axis = 1).stack().reset_index() # Handling missing values\n",
    "\n",
    "    return data_model"
   ]
  },
  {
   "cell_type": "code",
   "execution_count": 38,
   "metadata": {},
   "outputs": [],
   "source": [
    "data_min = data_backtest(df_min)\n",
    "data_hour = data_backtest(df_hour)\n",
    "data_day = data_backtest(df_day)"
   ]
  },
  {
   "cell_type": "code",
   "execution_count": 39,
   "metadata": {},
   "outputs": [],
   "source": [
    "train_min, valid_min = split_data(data_min)\n",
    "train_hour, valid_hour = split_data(data_hour)\n",
    "train_day, valid_day = split_data(data_day)"
   ]
  },
  {
   "cell_type": "markdown",
   "metadata": {},
   "source": [
    "### Mẫu"
   ]
  },
  {
   "cell_type": "markdown",
   "metadata": {},
   "source": [
    "    def indicator(data):\n",
    "        Hàm indicator\n",
    "        formular\n",
    "\n",
    "        return np.array(something)\n",
    "\n",
    "    class CustomStrategy(Strategy):\n",
    "\n",
    "        def init(self):\n",
    "            Note that this returns each column as a row\n",
    "            Then extends the length of each row on each iteration\n",
    "            self.something = self.I(indicator, self.data)\n",
    "\n",
    "        def next(self):\n",
    "\n",
    "            sth1 = self.something[0]\n",
    "            sth2 = self.something[2]\n",
    "\n",
    "            if self.position:\n",
    "                if something happens:\n",
    "                    self.position.close()\n",
    "            else:\n",
    "                if something happens:\n",
    "                    self.buy(size=0.7)\n",
    "                \n",
    "    bt = Backtest(data, CustomStrategy, cash=3000, commission=0.01, margin=0.13, hedging=True, exclusive_orders=False)\n",
    "    stats = bt.run()\n",
    "    stats"
   ]
  },
  {
   "cell_type": "markdown",
   "metadata": {},
   "source": [
    "# Momentum & Volatility"
   ]
  },
  {
   "cell_type": "code",
   "execution_count": 66,
   "metadata": {},
   "outputs": [
    {
     "name": "stdout",
     "output_type": "stream",
     "text": [
      "Start                     2018-08-13 07:00:00\n",
      "End                       2022-08-30 09:00:00\n",
      "Duration                   1478 days 02:00:00\n",
      "Exposure Time [%]                   56.231306\n",
      "Equity Final [$]                      1609.94\n",
      "Equity Peak [$]                      4002.255\n",
      "Return [%]                         -46.335333\n",
      "Buy & Hold Return [%]               34.877384\n",
      "Return (Ann.) [%]                  -14.611124\n",
      "Volatility (Ann.) [%]               68.059622\n",
      "Sharpe Ratio                              0.0\n",
      "Sortino Ratio                             0.0\n",
      "Calmar Ratio                              0.0\n",
      "Max. Drawdown [%]                  -81.576933\n",
      "Avg. Drawdown [%]                  -24.531539\n",
      "Max. Drawdown Duration      963 days 00:00:00\n",
      "Avg. Drawdown Duration      203 days 00:00:00\n",
      "# Trades                                   19\n",
      "Win Rate [%]                        36.842105\n",
      "Best Trade [%]                      35.060633\n",
      "Worst Trade [%]                     -8.925541\n",
      "Avg. Trade [%]                       0.611541\n",
      "Max. Trade Duration         173 days 00:00:00\n",
      "Avg. Trade Duration          42 days 00:00:00\n",
      "Profit Factor                        1.422798\n",
      "Expectancy [%]                       1.008769\n",
      "SQN                                 -0.584657\n",
      "_strategy                     AO_ATV_Strategy\n",
      "_equity_curve                             ...\n",
      "_trades                       Size  EntryB...\n",
      "dtype: object\n"
     ]
    }
   ],
   "source": [
    "# Hàm tính toán Awesome Oscillator (AO)\n",
    "def awesome_oscillator(data, window1, window2):\n",
    "    high = data['High']\n",
    "    low = data['Low']\n",
    "    median_price = (high + low) / 2\n",
    "\n",
    "    # Tính SMA cho 5 và 34 kỳ\n",
    "    sma_5 = pd.Series(median_price).rolling(window=window1).mean()\n",
    "    sma_34 = pd.Series(median_price).rolling(window=window2).mean()\n",
    "\n",
    "    # AO = SMA(5) - SMA(34)\n",
    "    ao = sma_5 - sma_34\n",
    "    return np.array(ao)\n",
    "\n",
    "# Hàm tính toán Average True Range (ATR)\n",
    "def average_true_range(data, period=14):\n",
    "    high = pd.Series(data['High'])\n",
    "    low = pd.Series(data['Low'])\n",
    "    close = pd.Series(data['Close'])\n",
    "\n",
    "    # True Range = max(High - Low, High - Previous Close, Previous Close - Low)\n",
    "    high_low = high - low\n",
    "    high_close = (high - close.shift(1)).abs()\n",
    "    low_close = (low - close.shift(1)).abs()\n",
    "\n",
    "    true_range = pd.concat([high_low, high_close, low_close], axis=1).max(axis=1)\n",
    "\n",
    "    # ATR = SMA của True Range\n",
    "    atr = true_range.rolling(window=period).mean()\n",
    "    return atr\n",
    "\n",
    "class AO_ATV_Strategy(Strategy):\n",
    "    window1 = 5\n",
    "    window2 = 34\n",
    "    period = 14\n",
    "\n",
    "\n",
    "    def init(self):\n",
    "        # Lưu trữ chỉ báo AO và ATR\n",
    "        self.ao = self.I(awesome_oscillator, self.data, self.window1, self.window2)\n",
    "        self.atr = self.I(average_true_range, self.data, self.period)\n",
    "\n",
    "    def next(self):\n",
    "        ao = self.ao[-1]  # Lấy giá trị gần nhất của AO\n",
    "        atr = self.atr[-1]  # Lấy giá trị gần nhất của ATR\n",
    "\n",
    "        # Điều kiện giao dịch: AO > 0 và ATR lớn hơn một mức ngưỡng (ví dụ: 0.5)\n",
    "        if self.position:\n",
    "            if ao < 0:\n",
    "                self.position.close()\n",
    "        else:\n",
    "            if ao > 0 and atr > 0.7:\n",
    "                self.buy(size=0.7)\n",
    "\n",
    "# Giả định rằng `data` là DataFrame chứa dữ liệu giá với các cột 'Open', 'High', 'Low', 'Close', 'Volume'\n",
    "bt = Backtest(train_day, AO_ATV_Strategy, cash=3000, commission=0.01, margin=0.13, hedging=True, exclusive_orders=False)\n",
    "stats = bt.run()\n",
    "print(stats)"
   ]
  },
  {
   "cell_type": "code",
   "execution_count": 67,
   "metadata": {},
   "outputs": [
    {
     "name": "stderr",
     "output_type": "stream",
     "text": [
      "                                             \r"
     ]
    }
   ],
   "source": [
    "stats = bt.optimize(\n",
    "    window1 = range(3, 9, 1),\n",
    "    window2 = range(30, 40, 2),\n",
    "    period = range(10, 20, 2),\n",
    "    maximize = \"Sharpe Ratio\",\n",
    "    #constraint = lambda param: param.window2 > param.window1\n",
    ")"
   ]
  },
  {
   "cell_type": "code",
   "execution_count": 68,
   "metadata": {},
   "outputs": [
    {
     "name": "stdout",
     "output_type": "stream",
     "text": [
      "Start                     2018-08-13 07:00:00\n",
      "End                       2022-08-30 09:00:00\n",
      "Duration                   1478 days 02:00:00\n",
      "Exposure Time [%]                   59.222333\n",
      "Equity Final [$]                      581.312\n",
      "Equity Peak [$]                      3619.566\n",
      "Return [%]                         -80.622933\n",
      "Buy & Hold Return [%]               34.877384\n",
      "Return (Ann.) [%]                    -34.0628\n",
      "Volatility (Ann.) [%]               54.446911\n",
      "Sharpe Ratio                              0.0\n",
      "Sortino Ratio                             0.0\n",
      "Calmar Ratio                              0.0\n",
      "Max. Drawdown [%]                  -86.304656\n",
      "Avg. Drawdown [%]                  -30.718174\n",
      "Max. Drawdown Duration      971 days 00:00:00\n",
      "Avg. Drawdown Duration      239 days 00:00:00\n",
      "# Trades                                   26\n",
      "Win Rate [%]                        38.461538\n",
      "Best Trade [%]                      21.335786\n",
      "Worst Trade [%]                     -9.372532\n",
      "Avg. Trade [%]                      -0.339977\n",
      "Max. Trade Duration         172 days 00:00:00\n",
      "Avg. Trade Duration          32 days 00:00:00\n",
      "Profit Factor                        0.966604\n",
      "Expectancy [%]                      -0.087291\n",
      "SQN                                 -0.888162\n",
      "_strategy                 AO_ATV_Strategy(...\n",
      "_equity_curve                             ...\n",
      "_trades                       Size  EntryB...\n",
      "dtype: object\n"
     ]
    }
   ],
   "source": [
    "print(stats)"
   ]
  },
  {
   "cell_type": "code",
   "execution_count": 69,
   "metadata": {},
   "outputs": [],
   "source": [
    "# bt.plot()"
   ]
  },
  {
   "cell_type": "code",
   "execution_count": 84,
   "metadata": {},
   "outputs": [
    {
     "name": "stdout",
     "output_type": "stream",
     "text": [
      "Start                     2018-08-13 09:00:00\n",
      "End                       2022-08-25 11:00:00\n",
      "Duration                   1473 days 02:00:00\n",
      "Exposure Time [%]                    3.201432\n",
      "Equity Final [$]                       47.763\n",
      "Equity Peak [$]                        3000.0\n",
      "Return [%]                           -98.4079\n",
      "Buy & Hold Return [%]               36.585624\n",
      "Return (Ann.) [%]                  -64.514886\n",
      "Volatility (Ann.) [%]               35.236498\n",
      "Sharpe Ratio                              0.0\n",
      "Sortino Ratio                             0.0\n",
      "Calmar Ratio                              0.0\n",
      "Max. Drawdown [%]                  -99.441233\n",
      "Avg. Drawdown [%]                  -99.441233\n",
      "Max. Drawdown Duration     1469 days 02:00:00\n",
      "Avg. Drawdown Duration     1469 days 02:00:00\n",
      "# Trades                                   88\n",
      "Win Rate [%]                         1.136364\n",
      "Best Trade [%]                       1.643265\n",
      "Worst Trade [%]                    -12.965298\n",
      "Avg. Trade [%]                      -1.125949\n",
      "Max. Trade Duration           9 days 00:00:00\n",
      "Avg. Trade Duration           0 days 10:00:00\n",
      "Profit Factor                        0.016454\n",
      "Expectancy [%]                      -1.116225\n",
      "SQN                                 -7.424629\n",
      "_strategy                    DC_KAMA_Strategy\n",
      "_equity_curve                             ...\n",
      "_trades                       Size  EntryB...\n",
      "dtype: object\n"
     ]
    }
   ],
   "source": [
    "# Hàm tính Donchian Channel, trả về dạng numpy array\n",
    "def donchian_channel(data, period=20):\n",
    "    high = pd.Series(data['High'])\n",
    "    low = pd.Series(data['Low'])\n",
    "\n",
    "    upper_band = high.rolling(window=period).max().to_numpy()\n",
    "    lower_band = low.rolling(window=period).min().to_numpy()\n",
    "    mid_band = ((upper_band + lower_band) / 2)\n",
    "\n",
    "    return upper_band, lower_band, mid_band\n",
    "\n",
    "# Hàm tính Kaufman's Adaptive Moving Average (KAMA), trả về dạng numpy array\n",
    "def kaufman_adaptive_moving_average(data, period=10, fast_period=2, slow_period=30):\n",
    "    close = pd.Series(data['Close'])\n",
    "    \n",
    "    change = close.diff(period)\n",
    "    volatility = close.diff(1).abs().rolling(window=period).sum()\n",
    "\n",
    "    efficiency_ratio = (change.abs() / volatility).to_numpy()\n",
    "    smoothing_constant = (efficiency_ratio * (2 / (fast_period + 1) - 2 / (slow_period + 1)) + 2 / (slow_period + 1)) ** 2\n",
    "\n",
    "    kama = [close.iloc[0]]  # Khởi tạo KAMA với giá trị đầu tiên\n",
    "    for i in range(1, len(close)):\n",
    "        kama.append(kama[-1] + smoothing_constant[i] * (close.iloc[i] - kama[-1]))\n",
    "\n",
    "    return np.array(kama)\n",
    "\n",
    "class DC_KAMA_Strategy(Strategy):\n",
    "\n",
    "    def init(self):\n",
    "        # Lưu trữ chỉ báo Donchian Channel dưới dạng numpy array\n",
    "        self.upper_band, self.lower_band, self.mid_band = self.I(donchian_channel, self.data)\n",
    "        # Lưu trữ KAMA dưới dạng numpy array\n",
    "        self.kama = self.I(kaufman_adaptive_moving_average, self.data)\n",
    "\n",
    "    def next(self):\n",
    "        upper_band = self.upper_band[-1]  # Giá trị gần nhất của dải trên (numpy array)\n",
    "        lower_band = self.lower_band[-1]  # Giá trị gần nhất của dải dưới (numpy array)\n",
    "        kama = self.kama[-1]  # Giá trị gần nhất của KAMA (numpy array)\n",
    "\n",
    "        # Điều kiện giao dịch đơn giản hơn\n",
    "        if self.position:\n",
    "            if self.data.Close[-1] > 0.95*upper_band:  # Đóng vị thế nếu giá vượt dải trên\n",
    "                self.position.close()\n",
    "        else:\n",
    "            if self.data.Close[-1] > 0.95*lower_band:  # Mua nếu giá vượt dải dưới\n",
    "                self.buy(size=0.7)\n",
    "                self.buy(size=0.7)\n",
    "\n",
    "# Giả định rằng `data` là DataFrame chứa dữ liệu giá với các cột 'Open', 'High', 'Low', 'Close', 'Volume'\n",
    "bt = Backtest(train_hour, DC_KAMA_Strategy, cash=3000, commission=0.01, margin=0.13, hedging=True, exclusive_orders=False)\n",
    "stats = bt.run()\n",
    "print(stats)"
   ]
  },
  {
   "cell_type": "code",
   "execution_count": null,
   "metadata": {},
   "outputs": [],
   "source": []
  }
 ],
 "metadata": {
  "kernelspec": {
   "display_name": "Python 3",
   "language": "python",
   "name": "python3"
  },
  "language_info": {
   "codemirror_mode": {
    "name": "ipython",
    "version": 3
   },
   "file_extension": ".py",
   "mimetype": "text/x-python",
   "name": "python",
   "nbconvert_exporter": "python",
   "pygments_lexer": "ipython3",
   "version": "3.10.1"
  }
 },
 "nbformat": 4,
 "nbformat_minor": 2
}
