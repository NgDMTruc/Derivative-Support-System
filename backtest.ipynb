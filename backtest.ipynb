{
 "cells": [
  {
   "cell_type": "code",
   "execution_count": 31,
   "metadata": {},
   "outputs": [],
   "source": [
    "import numpy as np\n",
    "import pandas_ta as ta\n",
    "import pandas as pd\n",
    "from datetime import datetime, timedelta, timezone\n",
    "from backtesting import Backtest\n",
    "from backtesting import Strategy\n",
    "from backtesting.lib import crossover"
   ]
  },
  {
   "cell_type": "code",
   "execution_count": null,
   "metadata": {},
   "outputs": [],
   "source": [
    "df_min = pd.read_csv('vn30f1m_3min.csv')\n",
    "df_hour = pd.read_csv('vn30f1m_1hour.csv')\n",
    "df_day = pd.read_csv('vn30f1m_1day.csv')"
   ]
  },
  {
   "cell_type": "code",
   "execution_count": 23,
   "metadata": {},
   "outputs": [],
   "source": [
    "def data_backtest(data):\n",
    "    new_data = data[['Open', 'High', 'Low', 'Close', 'Volume']]\n",
    "    new_data.index = pd.to_datetime(data['Date'])\n",
    "    new_data.index.name = None\n",
    "    return new_data"
   ]
  },
  {
   "cell_type": "code",
   "execution_count": 29,
   "metadata": {},
   "outputs": [],
   "source": [
    "def split_data(data):\n",
    "    \"\"\"\n",
    "    Hàm này chia dữ liệu thành 2 phần: tập huấn luyện và tập hold out.\n",
    "\n",
    "    Args:\n",
    "    data (pandas.DataFrame): DataFrame chứa dữ liệu cần chia.\n",
    "\n",
    "    Returns:\n",
    "    pandas.DataFrame: DataFrame chứa dữ liệu tập huấn luyện.\n",
    "    pandas.DataFrame: DataFrame chứa dữ liệu tập giữ lại.\n",
    "    \"\"\"\n",
    "    # Chia dữ liệu thành 3 phần\n",
    "    new_part = np.array_split(data, 3)\n",
    "\n",
    "    # Access each part individually\n",
    "    hold_out = new_part[2]\n",
    "    train_data = pd.concat([new_part[0], new_part[1]], axis=0)\n",
    "\n",
    "    return train_data, hold_out"
   ]
  },
  {
   "cell_type": "code",
   "execution_count": 25,
   "metadata": {},
   "outputs": [],
   "source": [
    "data_min = data_backtest(df_min)\n",
    "data_hour = data_backtest(df_hour)\n",
    "data_day = data_backtest(df_day)"
   ]
  },
  {
   "cell_type": "code",
   "execution_count": 34,
   "metadata": {},
   "outputs": [],
   "source": [
    "train_min, valid_min = split_data(data_min)\n",
    "train_hour, valid_hour = split_data(data_hour)\n",
    "train_day, valid_day = split_data(data_day)"
   ]
  },
  {
   "cell_type": "code",
   "execution_count": null,
   "metadata": {},
   "outputs": [],
   "source": []
  },
  {
   "cell_type": "code",
   "execution_count": null,
   "metadata": {},
   "outputs": [],
   "source": []
  }
 ],
 "metadata": {
  "kernelspec": {
   "display_name": "Python 3",
   "language": "python",
   "name": "python3"
  },
  "language_info": {
   "codemirror_mode": {
    "name": "ipython",
    "version": 3
   },
   "file_extension": ".py",
   "mimetype": "text/x-python",
   "name": "python",
   "nbconvert_exporter": "python",
   "pygments_lexer": "ipython3",
   "version": "3.10.1"
  }
 },
 "nbformat": 4,
 "nbformat_minor": 2
}
