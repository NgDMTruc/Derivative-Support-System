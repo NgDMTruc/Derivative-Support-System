{
 "cells": [
  {
   "cell_type": "code",
   "execution_count": 2,
   "metadata": {},
   "outputs": [],
   "source": [
    "import numpy as np\n",
    "import pandas_ta as ta\n",
    "import pandas as pd\n",
    "from datetime import datetime, timedelta, timezone\n",
    "from backtesting import Backtest\n",
    "from backtesting import Strategy\n",
    "from backtesting.lib import crossover"
   ]
  },
  {
   "cell_type": "code",
   "execution_count": 3,
   "metadata": {},
   "outputs": [],
   "source": [
    "def data_backtest(data):\n",
    "    new_data = data[['Open', 'High', 'Low', 'Close', 'Volume']]\n",
    "    new_data.index = pd.to_datetime(data['Date'])\n",
    "    new_data.index.name = None\n",
    "    return new_data\n",
    "\n",
    "def split_data(data):\n",
    "    \"\"\"\n",
    "    Hàm này chia dữ liệu thành 2 phần: tập huấn luyện và tập hold out.\n",
    "\n",
    "    Args:\n",
    "    data (pandas.DataFrame): DataFrame chứa dữ liệu cần chia.\n",
    "\n",
    "    Returns:\n",
    "    pandas.DataFrame: DataFrame chứa dữ liệu tập huấn luyện.\n",
    "    pandas.DataFrame: DataFrame chứa dữ liệu tập giữ lại.\n",
    "    \"\"\"\n",
    "    # Chia dữ liệu thành 3 phần\n",
    "    new_part = np.array_split(data, 3)\n",
    "\n",
    "    # Access each part individually\n",
    "    hold_out = new_part[2]\n",
    "    train_data = pd.concat([new_part[0], new_part[1]], axis=0)\n",
    "\n",
    "    return train_data, hold_out\n",
    "\n",
    "def process_data(df):\n",
    "    data = df.copy()\n",
    "    data = data[~data.index.duplicated(keep='first')] # Handling duplicate\n",
    "    \n",
    "    data['Date'] = [str(i)[:10] for i in data.index]\n",
    "    data['time'] = [str(i)[11:] for i in data.index]\n",
    "    data_model = data.pivot(index = 'Date', columns = 'time', values = ['Open','High','Low','Close','Volume']).ffill(axis = 1).stack().reset_index() # Handling missing values\n",
    "\n",
    "    return data_model"
   ]
  },
  {
   "cell_type": "code",
   "execution_count": 4,
   "metadata": {},
   "outputs": [],
   "source": [
    "df_min = pd.read_csv('vn30f1m_3min.csv')\n",
    "df_hour = pd.read_csv('vn30f1m_1hour.csv')\n",
    "df_day = pd.read_csv('vn30f1m_1day.csv')\n",
    "\n",
    "data_min = data_backtest(df_min)\n",
    "data_hour = data_backtest(df_hour)\n",
    "data_day = data_backtest(df_day)\n",
    "\n",
    "train_min, valid_min = split_data(data_min)\n",
    "train_hour, valid_hour = split_data(data_hour)\n",
    "train_day, valid_day = split_data(data_day)"
   ]
  },
  {
   "cell_type": "markdown",
   "metadata": {},
   "source": [
    "# 1-day strategies"
   ]
  },
  {
   "cell_type": "markdown",
   "metadata": {},
   "source": [
    "## Breakout with Bollinger Bands"
   ]
  },
  {
   "cell_type": "code",
   "execution_count": 94,
   "metadata": {},
   "outputs": [
    {
     "name": "stdout",
     "output_type": "stream",
     "text": [
      "Optimizing on training set...\n"
     ]
    },
    {
     "name": "stderr",
     "output_type": "stream",
     "text": [
      "/Library/Frameworks/Python.framework/Versions/3.11/lib/python3.11/site-packages/backtesting/backtesting.py:1375: UserWarning: For multiprocessing support in `Backtest.optimize()` set multiprocessing start method to 'fork'.\n",
      "  warnings.warn(\"For multiprocessing support in `Backtest.optimize()` \"\n"
     ]
    },
    {
     "data": {
      "application/vnd.jupyter.widget-view+json": {
       "model_id": "1c785bad296e46babe0c0989810e988b",
       "version_major": 2,
       "version_minor": 0
      },
      "text/plain": [
       "  0%|          | 0/9 [00:00<?, ?it/s]"
      ]
     },
     "metadata": {},
     "output_type": "display_data"
    },
    {
     "name": "stdout",
     "output_type": "stream",
     "text": [
      "Backtesting on validation set...\n"
     ]
    }
   ],
   "source": [
    "import talib\n",
    "import numpy as np\n",
    "import pandas as pd\n",
    "from backtesting import Backtest, Strategy\n",
    "from backtesting.lib import crossover\n",
    "\n",
    "# Bollinger Breakout Strategy\n",
    "class BollingerBreakout(Strategy):\n",
    "    bb_period = 20  # Sử dụng bb_period tốt nhất\n",
    "    risk_reward_ratio = 2  # Tỷ lệ R:R = 1:2\n",
    "    min_diff = 0.001\n",
    "\n",
    "    def init(self):\n",
    "        # Sử dụng talib để tính Bollinger Bands\n",
    "        self.upper_band, self.middle_band, self.lower_band = self.I(\n",
    "            talib.BBANDS, self.data.Close, timeperiod=self.bb_period, nbdevup=1.5, nbdevdn=1.5, matype=0)\n",
    "\n",
    "    def next(self):\n",
    "        price_diff = self.data.Close[-1] - self.lower_band[-1]\n",
    "        \n",
    "        # Kiểm tra sự khác biệt đủ lớn để thực hiện giao dịch\n",
    "        if price_diff > self.min_diff:\n",
    "            sl = self.data.Close[-1] - price_diff\n",
    "            tp = self.data.Close[-1] + price_diff * self.risk_reward_ratio\n",
    "            \n",
    "            # Điều kiện Stop Loss phải nhỏ hơn Take Profit và sự khác biệt đủ lớn\n",
    "            if sl < tp and (tp - sl) > self.min_diff:\n",
    "                if crossover(self.data.Close, self.upper_band):  # Điều kiện giá vượt dải trên\n",
    "                    if sl < self.data.Close[-1] < tp:\n",
    "                        self.buy(size=1/6, sl=sl, tp=tp)\n",
    "                elif crossover(self.lower_band, self.data.Close):  # Điều kiện giá vượt dải dưới\n",
    "                    self.sell(size=1/6, sl=tp, tp=sl)\n",
    "\n",
    "\n",
    "# Hàm backtest với hàm optimize\n",
    "def run_backtest_optimize(strategy_class, train_data, val_data, bb_period_range):\n",
    "    # Backtest và tối ưu hóa trên tập train\n",
    "    print(\"Optimizing on training set...\")\n",
    "    bt_train = Backtest(train_data, strategy_class, cash=3_000, commission=.01, margin=0.13, hedging=True)\n",
    "    stats_train = bt_train.optimize(\n",
    "        bb_period=bb_period_range,  # Phạm vi tối ưu bb_period\n",
    "        maximize='# Trades',  # Tối ưu lợi nhuận Return [%]\n",
    "        random_state=42,\n",
    "        method='grid',\n",
    "        return_heatmap=False\n",
    "    )\n",
    "\n",
    "    # Backtest trên tập validation\n",
    "    print(\"Backtesting on validation set...\")\n",
    "    bt_val = Backtest(val_data, strategy_class, cash=3_000, commission=0.01, margin=0.13, hedging=True)\n",
    "    stats_val = bt_val.run()\n",
    "    \n",
    "    return stats_train, stats_val\n",
    "\n",
    "# Split data (giả sử bạn đã có train_day và valid_day từ trước)\n",
    "# Example: Chạy trên dữ liệu train_day và valid_day\n",
    "bb_period_range = range(10, 100, 5)  # Điều chỉnh khoảng giá trị bb_period\n",
    "stats_train, stats_val = run_backtest_optimize(BollingerBreakout, train_day, valid_day, bb_period_range)"
   ]
  },
  {
   "cell_type": "code",
   "execution_count": 95,
   "metadata": {},
   "outputs": [
    {
     "data": {
      "text/plain": [
       "Start                     2018-08-13 07:00:00\n",
       "End                       2022-08-30 09:00:00\n",
       "Duration                   1478 days 02:00:00\n",
       "Exposure Time [%]                   76.071785\n",
       "Equity Final [$]                  4991.377544\n",
       "Equity Peak [$]                   7830.641449\n",
       "Return [%]                          66.379251\n",
       "Buy & Hold Return [%]               34.877384\n",
       "Return (Ann.) [%]                   13.791483\n",
       "Volatility (Ann.) [%]               57.016863\n",
       "Sharpe Ratio                         0.241884\n",
       "Sortino Ratio                        0.398773\n",
       "Calmar Ratio                         0.215697\n",
       "Max. Drawdown [%]                  -63.939278\n",
       "Avg. Drawdown [%]                  -10.537821\n",
       "Max. Drawdown Duration      841 days 00:00:00\n",
       "Avg. Drawdown Duration       74 days 00:00:00\n",
       "# Trades                                   90\n",
       "Win Rate [%]                             50.0\n",
       "Best Trade [%]                       26.75012\n",
       "Worst Trade [%]                     -9.417152\n",
       "Avg. Trade [%]                       1.360263\n",
       "Max. Trade Duration         213 days 00:00:00\n",
       "Avg. Trade Duration          36 days 00:00:00\n",
       "Profit Factor                        1.695693\n",
       "Expectancy [%]                       1.613597\n",
       "SQN                                  0.885033\n",
       "_strategy                 BollingerBreakou...\n",
       "_equity_curve                             ...\n",
       "_trades                       Size  EntryB...\n",
       "dtype: object"
      ]
     },
     "execution_count": 95,
     "metadata": {},
     "output_type": "execute_result"
    }
   ],
   "source": [
    "stats_train"
   ]
  },
  {
   "cell_type": "code",
   "execution_count": 96,
   "metadata": {},
   "outputs": [
    {
     "data": {
      "text/plain": [
       "Start                     2022-08-31 09:00:00\n",
       "End                       2024-08-30 09:00:00\n",
       "Duration                    730 days 00:00:00\n",
       "Exposure Time [%]                    87.42515\n",
       "Equity Final [$]                  4478.860227\n",
       "Equity Peak [$]                   4937.551338\n",
       "Return [%]                          49.295341\n",
       "Buy & Hold Return [%]                2.998686\n",
       "Return (Ann.) [%]                   22.432045\n",
       "Volatility (Ann.) [%]               57.192678\n",
       "Sharpe Ratio                         0.392219\n",
       "Sortino Ratio                        0.691085\n",
       "Calmar Ratio                         0.582675\n",
       "Max. Drawdown [%]                  -38.498409\n",
       "Avg. Drawdown [%]                     -8.5643\n",
       "Max. Drawdown Duration      359 days 00:00:00\n",
       "Avg. Drawdown Duration       47 days 00:00:00\n",
       "# Trades                                   22\n",
       "Win Rate [%]                        72.727273\n",
       "Best Trade [%]                      19.831275\n",
       "Worst Trade [%]                     -9.065107\n",
       "Avg. Trade [%]                       3.062011\n",
       "Max. Trade Duration         512 days 00:00:00\n",
       "Avg. Trade Duration          95 days 00:00:00\n",
       "Profit Factor                         2.78189\n",
       "Expectancy [%]                       3.355463\n",
       "SQN                                  1.218697\n",
       "_strategy                   BollingerBreakout\n",
       "_equity_curve                             ...\n",
       "_trades                       Size  EntryB...\n",
       "dtype: object"
      ]
     },
     "execution_count": 96,
     "metadata": {},
     "output_type": "execute_result"
    }
   ],
   "source": [
    "stats_val "
   ]
  },
  {
   "cell_type": "markdown",
   "metadata": {},
   "source": [
    "## Breakout with Volume"
   ]
  },
  {
   "cell_type": "code",
   "execution_count": 107,
   "metadata": {},
   "outputs": [
    {
     "name": "stdout",
     "output_type": "stream",
     "text": [
      "Optimizing on training set...\n"
     ]
    },
    {
     "ename": "ValueError",
     "evalue": "Long orders require: SL (948.6) < LIMIT (962.53) < TP (961.8)",
     "output_type": "error",
     "traceback": [
      "\u001b[0;31m---------------------------------------------------------------------------\u001b[0m",
      "\u001b[0;31mValueError\u001b[0m                                Traceback (most recent call last)",
      "\u001b[1;32m/Users/anhhung/Desktop/Cap/Capstone/strategies.ipynb Cell 10\u001b[0m line \u001b[0;36m5\n\u001b[1;32m     <a href='vscode-notebook-cell:/Users/anhhung/Desktop/Cap/Capstone/strategies.ipynb#X20sZmlsZQ%3D%3D?line=53'>54</a>\u001b[0m \u001b[39m# Example usage\u001b[39;00m\n\u001b[1;32m     <a href='vscode-notebook-cell:/Users/anhhung/Desktop/Cap/Capstone/strategies.ipynb#X20sZmlsZQ%3D%3D?line=54'>55</a>\u001b[0m volume_period_range \u001b[39m=\u001b[39m \u001b[39mrange\u001b[39m(\u001b[39m10\u001b[39m, \u001b[39m101\u001b[39m, \u001b[39m5\u001b[39m)  \u001b[39m# Điều chỉnh khoảng giá trị volume_period\u001b[39;00m\n\u001b[0;32m---> <a href='vscode-notebook-cell:/Users/anhhung/Desktop/Cap/Capstone/strategies.ipynb#X20sZmlsZQ%3D%3D?line=55'>56</a>\u001b[0m stats_train, stats_val \u001b[39m=\u001b[39m run_backtest_optimize(VolumeBreakout, train_day, valid_day, volume_period_range)\n",
      "\u001b[1;32m/Users/anhhung/Desktop/Cap/Capstone/strategies.ipynb Cell 10\u001b[0m line \u001b[0;36m3\n\u001b[1;32m     <a href='vscode-notebook-cell:/Users/anhhung/Desktop/Cap/Capstone/strategies.ipynb#X20sZmlsZQ%3D%3D?line=36'>37</a>\u001b[0m \u001b[39mprint\u001b[39m(\u001b[39m\"\u001b[39m\u001b[39mOptimizing on training set...\u001b[39m\u001b[39m\"\u001b[39m)\n\u001b[1;32m     <a href='vscode-notebook-cell:/Users/anhhung/Desktop/Cap/Capstone/strategies.ipynb#X20sZmlsZQ%3D%3D?line=37'>38</a>\u001b[0m bt_train \u001b[39m=\u001b[39m Backtest(train_data, strategy_class, cash\u001b[39m=\u001b[39m\u001b[39m3_000\u001b[39m, commission\u001b[39m=\u001b[39m\u001b[39m0.01\u001b[39m, margin\u001b[39m=\u001b[39m\u001b[39m0.13\u001b[39m, hedging\u001b[39m=\u001b[39m\u001b[39mTrue\u001b[39;00m)\n\u001b[0;32m---> <a href='vscode-notebook-cell:/Users/anhhung/Desktop/Cap/Capstone/strategies.ipynb#X20sZmlsZQ%3D%3D?line=38'>39</a>\u001b[0m stats_train \u001b[39m=\u001b[39m bt_train\u001b[39m.\u001b[39;49moptimize(\n\u001b[1;32m     <a href='vscode-notebook-cell:/Users/anhhung/Desktop/Cap/Capstone/strategies.ipynb#X20sZmlsZQ%3D%3D?line=39'>40</a>\u001b[0m     volume_period\u001b[39m=\u001b[39;49mvolume_period_range,  \u001b[39m# Phạm vi tối ưu volume_period\u001b[39;49;00m\n\u001b[1;32m     <a href='vscode-notebook-cell:/Users/anhhung/Desktop/Cap/Capstone/strategies.ipynb#X20sZmlsZQ%3D%3D?line=40'>41</a>\u001b[0m     maximize\u001b[39m=\u001b[39;49m\u001b[39m'\u001b[39;49m\u001b[39mSharpe Ratio\u001b[39;49m\u001b[39m'\u001b[39;49m,  \u001b[39m# Tối ưu Sharpe Ratio\u001b[39;49;00m\n\u001b[1;32m     <a href='vscode-notebook-cell:/Users/anhhung/Desktop/Cap/Capstone/strategies.ipynb#X20sZmlsZQ%3D%3D?line=41'>42</a>\u001b[0m     random_state\u001b[39m=\u001b[39;49m\u001b[39m42\u001b[39;49m,\n\u001b[1;32m     <a href='vscode-notebook-cell:/Users/anhhung/Desktop/Cap/Capstone/strategies.ipynb#X20sZmlsZQ%3D%3D?line=42'>43</a>\u001b[0m     method\u001b[39m=\u001b[39;49m\u001b[39m'\u001b[39;49m\u001b[39mgrid\u001b[39;49m\u001b[39m'\u001b[39;49m,\n\u001b[1;32m     <a href='vscode-notebook-cell:/Users/anhhung/Desktop/Cap/Capstone/strategies.ipynb#X20sZmlsZQ%3D%3D?line=43'>44</a>\u001b[0m     return_heatmap\u001b[39m=\u001b[39;49m\u001b[39mFalse\u001b[39;49;00m\n\u001b[1;32m     <a href='vscode-notebook-cell:/Users/anhhung/Desktop/Cap/Capstone/strategies.ipynb#X20sZmlsZQ%3D%3D?line=44'>45</a>\u001b[0m )\n\u001b[1;32m     <a href='vscode-notebook-cell:/Users/anhhung/Desktop/Cap/Capstone/strategies.ipynb#X20sZmlsZQ%3D%3D?line=46'>47</a>\u001b[0m \u001b[39m# Backtest trên tập validation\u001b[39;00m\n\u001b[1;32m     <a href='vscode-notebook-cell:/Users/anhhung/Desktop/Cap/Capstone/strategies.ipynb#X20sZmlsZQ%3D%3D?line=47'>48</a>\u001b[0m \u001b[39mprint\u001b[39m(\u001b[39m\"\u001b[39m\u001b[39mBacktesting on validation set...\u001b[39m\u001b[39m\"\u001b[39m)\n",
      "File \u001b[0;32m/Library/Frameworks/Python.framework/Versions/3.11/lib/python3.11/site-packages/backtesting/backtesting.py:1277\u001b[0m, in \u001b[0;36mBacktest.optimize\u001b[0;34m(self, maximize, method, max_tries, constraint, return_heatmap, return_optimization, random_state, **kwargs)\u001b[0m\n\u001b[1;32m   1275\u001b[0m \u001b[39mif\u001b[39;00m \u001b[39misinstance\u001b[39m(maximize, \u001b[39mstr\u001b[39m):\n\u001b[1;32m   1276\u001b[0m     maximize_key \u001b[39m=\u001b[39m \u001b[39mstr\u001b[39m(maximize)\n\u001b[0;32m-> 1277\u001b[0m     stats \u001b[39m=\u001b[39m \u001b[39mself\u001b[39m\u001b[39m.\u001b[39m_results \u001b[39mif\u001b[39;00m \u001b[39mself\u001b[39m\u001b[39m.\u001b[39m_results \u001b[39mis\u001b[39;00m \u001b[39mnot\u001b[39;00m \u001b[39mNone\u001b[39;00m \u001b[39melse\u001b[39;00m \u001b[39mself\u001b[39;49m\u001b[39m.\u001b[39;49mrun()\n\u001b[1;32m   1278\u001b[0m     \u001b[39mif\u001b[39;00m maximize \u001b[39mnot\u001b[39;00m \u001b[39min\u001b[39;00m stats:\n\u001b[1;32m   1279\u001b[0m         \u001b[39mraise\u001b[39;00m \u001b[39mValueError\u001b[39;00m(\u001b[39m'\u001b[39m\u001b[39m`maximize`, if str, must match a key in pd.Series \u001b[39m\u001b[39m'\u001b[39m\n\u001b[1;32m   1280\u001b[0m                          \u001b[39m'\u001b[39m\u001b[39mresult of backtest.run()\u001b[39m\u001b[39m'\u001b[39m)\n",
      "File \u001b[0;32m/Library/Frameworks/Python.framework/Versions/3.11/lib/python3.11/site-packages/backtesting/backtesting.py:1170\u001b[0m, in \u001b[0;36mBacktest.run\u001b[0;34m(self, **kwargs)\u001b[0m\n\u001b[1;32m   1167\u001b[0m         \u001b[39mbreak\u001b[39;00m\n\u001b[1;32m   1169\u001b[0m     \u001b[39m# Next tick, a moment before bar close\u001b[39;00m\n\u001b[0;32m-> 1170\u001b[0m     strategy\u001b[39m.\u001b[39;49mnext()\n\u001b[1;32m   1171\u001b[0m \u001b[39melse\u001b[39;00m:\n\u001b[1;32m   1172\u001b[0m     \u001b[39m# Close any remaining open trades so they produce some stats\u001b[39;00m\n\u001b[1;32m   1173\u001b[0m     \u001b[39mfor\u001b[39;00m trade \u001b[39min\u001b[39;00m broker\u001b[39m.\u001b[39mtrades:\n",
      "\u001b[1;32m/Users/anhhung/Desktop/Cap/Capstone/strategies.ipynb Cell 10\u001b[0m line \u001b[0;36m2\n\u001b[1;32m     <a href='vscode-notebook-cell:/Users/anhhung/Desktop/Cap/Capstone/strategies.ipynb#X20sZmlsZQ%3D%3D?line=25'>26</a>\u001b[0m     \u001b[39m# Kiểm tra tính hợp lý của SL và TP trước khi đặt lệnh mua (long)\u001b[39;00m\n\u001b[1;32m     <a href='vscode-notebook-cell:/Users/anhhung/Desktop/Cap/Capstone/strategies.ipynb#X20sZmlsZQ%3D%3D?line=26'>27</a>\u001b[0m     \u001b[39mif\u001b[39;00m sl \u001b[39m<\u001b[39m \u001b[39mself\u001b[39m\u001b[39m.\u001b[39mdata\u001b[39m.\u001b[39mClose[\u001b[39m-\u001b[39m\u001b[39m1\u001b[39m] \u001b[39m<\u001b[39m tp:\n\u001b[0;32m---> <a href='vscode-notebook-cell:/Users/anhhung/Desktop/Cap/Capstone/strategies.ipynb#X20sZmlsZQ%3D%3D?line=27'>28</a>\u001b[0m         \u001b[39mself\u001b[39;49m\u001b[39m.\u001b[39;49mbuy(size\u001b[39m=\u001b[39;49m\u001b[39m1\u001b[39;49m\u001b[39m/\u001b[39;49m\u001b[39m6\u001b[39;49m, sl\u001b[39m=\u001b[39;49msl, tp\u001b[39m=\u001b[39;49mtp)\n\u001b[1;32m     <a href='vscode-notebook-cell:/Users/anhhung/Desktop/Cap/Capstone/strategies.ipynb#X20sZmlsZQ%3D%3D?line=29'>30</a>\u001b[0m \u001b[39m# Đóng vị thế khi giá giảm xuống dưới mức hỗ trợ (giá thấp nhất)\u001b[39;00m\n\u001b[1;32m     <a href='vscode-notebook-cell:/Users/anhhung/Desktop/Cap/Capstone/strategies.ipynb#X20sZmlsZQ%3D%3D?line=30'>31</a>\u001b[0m \u001b[39melif\u001b[39;00m \u001b[39mself\u001b[39m\u001b[39m.\u001b[39mdata\u001b[39m.\u001b[39mClose[\u001b[39m-\u001b[39m\u001b[39m1\u001b[39m] \u001b[39m<\u001b[39m \u001b[39mself\u001b[39m\u001b[39m.\u001b[39mdata\u001b[39m.\u001b[39mLow[\u001b[39m-\u001b[39m\u001b[39m1\u001b[39m]:\n",
      "File \u001b[0;32m/Library/Frameworks/Python.framework/Versions/3.11/lib/python3.11/site-packages/backtesting/backtesting.py:210\u001b[0m, in \u001b[0;36mStrategy.buy\u001b[0;34m(self, size, limit, stop, sl, tp)\u001b[0m\n\u001b[1;32m    203\u001b[0m \u001b[39m\u001b[39m\u001b[39m\"\"\"\u001b[39;00m\n\u001b[1;32m    204\u001b[0m \u001b[39mPlace a new long order. For explanation of parameters, see `Order` and its properties.\u001b[39;00m\n\u001b[1;32m    205\u001b[0m \n\u001b[1;32m    206\u001b[0m \u001b[39mSee also `Strategy.sell()`.\u001b[39;00m\n\u001b[1;32m    207\u001b[0m \u001b[39m\"\"\"\u001b[39;00m\n\u001b[1;32m    208\u001b[0m \u001b[39massert\u001b[39;00m \u001b[39m0\u001b[39m \u001b[39m<\u001b[39m size \u001b[39m<\u001b[39m \u001b[39m1\u001b[39m \u001b[39mor\u001b[39;00m \u001b[39mround\u001b[39m(size) \u001b[39m==\u001b[39m size, \\\n\u001b[1;32m    209\u001b[0m     \u001b[39m\"\u001b[39m\u001b[39msize must be a positive fraction of equity, or a positive whole number of units\u001b[39m\u001b[39m\"\u001b[39m\n\u001b[0;32m--> 210\u001b[0m \u001b[39mreturn\u001b[39;00m \u001b[39mself\u001b[39;49m\u001b[39m.\u001b[39;49m_broker\u001b[39m.\u001b[39;49mnew_order(size, limit, stop, sl, tp)\n",
      "File \u001b[0;32m/Library/Frameworks/Python.framework/Versions/3.11/lib/python3.11/site-packages/backtesting/backtesting.py:713\u001b[0m, in \u001b[0;36m_Broker.new_order\u001b[0;34m(self, size, limit, stop, sl, tp, trade)\u001b[0m\n\u001b[1;32m    711\u001b[0m \u001b[39mif\u001b[39;00m is_long:\n\u001b[1;32m    712\u001b[0m     \u001b[39mif\u001b[39;00m \u001b[39mnot\u001b[39;00m (sl \u001b[39mor\u001b[39;00m \u001b[39m-\u001b[39mnp\u001b[39m.\u001b[39minf) \u001b[39m<\u001b[39m (limit \u001b[39mor\u001b[39;00m stop \u001b[39mor\u001b[39;00m adjusted_price) \u001b[39m<\u001b[39m (tp \u001b[39mor\u001b[39;00m np\u001b[39m.\u001b[39minf):\n\u001b[0;32m--> 713\u001b[0m         \u001b[39mraise\u001b[39;00m \u001b[39mValueError\u001b[39;00m(\n\u001b[1;32m    714\u001b[0m             \u001b[39m\"\u001b[39m\u001b[39mLong orders require: \u001b[39m\u001b[39m\"\u001b[39m\n\u001b[1;32m    715\u001b[0m             \u001b[39mf\u001b[39m\u001b[39m\"\u001b[39m\u001b[39mSL (\u001b[39m\u001b[39m{\u001b[39;00msl\u001b[39m}\u001b[39;00m\u001b[39m) < LIMIT (\u001b[39m\u001b[39m{\u001b[39;00mlimit\u001b[39m \u001b[39m\u001b[39mor\u001b[39;00m\u001b[39m \u001b[39mstop\u001b[39m \u001b[39m\u001b[39mor\u001b[39;00m\u001b[39m \u001b[39madjusted_price\u001b[39m}\u001b[39;00m\u001b[39m) < TP (\u001b[39m\u001b[39m{\u001b[39;00mtp\u001b[39m}\u001b[39;00m\u001b[39m)\u001b[39m\u001b[39m\"\u001b[39m)\n\u001b[1;32m    716\u001b[0m \u001b[39melse\u001b[39;00m:\n\u001b[1;32m    717\u001b[0m     \u001b[39mif\u001b[39;00m \u001b[39mnot\u001b[39;00m (tp \u001b[39mor\u001b[39;00m \u001b[39m-\u001b[39mnp\u001b[39m.\u001b[39minf) \u001b[39m<\u001b[39m (limit \u001b[39mor\u001b[39;00m stop \u001b[39mor\u001b[39;00m adjusted_price) \u001b[39m<\u001b[39m (sl \u001b[39mor\u001b[39;00m np\u001b[39m.\u001b[39minf):\n",
      "\u001b[0;31mValueError\u001b[0m: Long orders require: SL (948.6) < LIMIT (962.53) < TP (961.8)"
     ]
    }
   ],
   "source": [
    "import talib\n",
    "import numpy as np\n",
    "import pandas as pd\n",
    "from backtesting import Backtest, Strategy\n",
    "\n",
    "# Chiến thuật Break-out với Volume\n",
    "class VolumeBreakout(Strategy):\n",
    "    risk_reward_ratio = 2  # Tỷ lệ R:R = 1:2\n",
    "    volume_period = 20  # Số phiên trung bình khối lượng\n",
    "    min_diff = 0.001  # Sự khác biệt tối thiểu để đảm bảo tính hợp lý của SL và TP\n",
    "\n",
    "    def init(self):\n",
    "        # Chuyển đổi khối lượng thành kiểu float64 để phù hợp với talib\n",
    "        volume_float = self.data.Volume.astype(np.float64)\n",
    "        # Tính khối lượng trung bình\n",
    "        self.volume_avg = self.I(talib.SMA, volume_float, timeperiod=self.volume_period)\n",
    "\n",
    "    def next(self):\n",
    "        price_diff = self.data.Close[-1] - self.data.Low[-1]\n",
    "\n",
    "        # Kiểm tra khối lượng hiện tại có vượt khối lượng trung bình hay không và đảm bảo price_diff đủ lớn\n",
    "        if self.data.Volume[-1] > self.volume_avg[-1] and price_diff > self.min_diff:\n",
    "            sl = self.data.Close[-1] - price_diff\n",
    "            tp = self.data.Close[-1] + price_diff * self.risk_reward_ratio\n",
    "\n",
    "            # Kiểm tra tính hợp lý của SL và TP trước khi đặt lệnh mua (long)\n",
    "            if sl < self.data.Close[-1] < tp:\n",
    "                self.buy(size=1/6, sl=sl, tp=tp)\n",
    "\n",
    "        # Đóng vị thế khi giá giảm xuống dưới mức hỗ trợ (giá thấp nhất)\n",
    "        elif self.data.Close[-1] < self.data.Low[-1]:\n",
    "            self.sell(size=1/6)\n",
    "\n",
    "# Hàm để thực hiện tối ưu hóa và backtest\n",
    "def run_backtest_optimize(strategy_class, train_data, val_data, volume_period_range):\n",
    "    # Backtest và tối ưu hóa trên tập train\n",
    "    print(\"Optimizing on training set...\")\n",
    "    bt_train = Backtest(train_data, strategy_class, cash=3_000, commission=0.01, margin=0.13, hedging=True)\n",
    "    stats_train = bt_train.optimize(\n",
    "        volume_period=volume_period_range,  # Phạm vi tối ưu volume_period\n",
    "        maximize='Sharpe Ratio',  # Tối ưu Sharpe Ratio\n",
    "        random_state=42,\n",
    "        method='grid',\n",
    "        return_heatmap=False\n",
    "    )\n",
    "\n",
    "    # Backtest trên tập validation\n",
    "    print(\"Backtesting on validation set...\")\n",
    "    bt_val = Backtest(val_data, strategy_class, cash=3_000, commission=0.01, margin=0.13, hedging=True)\n",
    "    stats_val = bt_val.run()\n",
    "\n",
    "    return stats_train, stats_val\n",
    "\n",
    "# Example usage\n",
    "volume_period_range = range(10, 101, 5)  # Điều chỉnh khoảng giá trị volume_period\n",
    "stats_train, stats_val = run_backtest_optimize(VolumeBreakout, train_day, valid_day, volume_period_range)\n"
   ]
  },
  {
   "cell_type": "code",
   "execution_count": null,
   "metadata": {},
   "outputs": [],
   "source": []
  }
 ],
 "metadata": {
  "kernelspec": {
   "display_name": "Python 3",
   "language": "python",
   "name": "python3"
  },
  "language_info": {
   "codemirror_mode": {
    "name": "ipython",
    "version": 3
   },
   "file_extension": ".py",
   "mimetype": "text/x-python",
   "name": "python",
   "nbconvert_exporter": "python",
   "pygments_lexer": "ipython3",
   "version": "3.11.3"
  }
 },
 "nbformat": 4,
 "nbformat_minor": 2
}
