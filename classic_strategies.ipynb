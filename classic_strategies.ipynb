{
 "cells": [
  {
   "cell_type": "code",
   "execution_count": 1,
   "metadata": {},
   "outputs": [],
   "source": [
    "import numpy as np\n",
    "import pandas_ta as ta\n",
    "import pandas as pd\n",
    "from datetime import datetime, timedelta, timezone\n",
    "from backtesting import Backtest\n",
    "from backtesting import Strategy\n",
    "from backtesting.lib import crossover"
   ]
  },
  {
   "cell_type": "code",
   "execution_count": 2,
   "metadata": {},
   "outputs": [],
   "source": [
    "def data_backtest(data):\n",
    "    new_data = data[['Open', 'High', 'Low', 'Close', 'Volume']]\n",
    "    new_data.index = pd.to_datetime(data['Date'])\n",
    "    new_data.index.name = None\n",
    "    return new_data\n",
    "\n",
    "def split_data(data):\n",
    "    \"\"\"\n",
    "    Hàm này chia dữ liệu thành 2 phần: tập huấn luyện và tập hold out.\n",
    "\n",
    "    Args:\n",
    "    data (pandas.DataFrame): DataFrame chứa dữ liệu cần chia.\n",
    "\n",
    "    Returns:\n",
    "    pandas.DataFrame: DataFrame chứa dữ liệu tập huấn luyện.\n",
    "    pandas.DataFrame: DataFrame chứa dữ liệu tập giữ lại.\n",
    "    \"\"\"\n",
    "    # Chia dữ liệu thành 3 phần\n",
    "    new_part = np.array_split(data, 3)\n",
    "\n",
    "    # Access each part individually\n",
    "    hold_out = new_part[2]\n",
    "    train_data = pd.concat([new_part[0], new_part[1]], axis=0)\n",
    "\n",
    "    return train_data, hold_out\n",
    "\n",
    "def process_data(df):\n",
    "    data = df.copy()\n",
    "    data = data[~data.index.duplicated(keep='first')] # Handling duplicate\n",
    "    \n",
    "    data['Date'] = [str(i)[:10] for i in data.index]\n",
    "    data['time'] = [str(i)[11:] for i in data.index]\n",
    "    data_model = data.pivot(index = 'Date', columns = 'time', values = ['Open','High','Low','Close','Volume']).ffill(axis = 1).stack().reset_index() # Handling missing values\n",
    "\n",
    "    return data_model"
   ]
  },
  {
   "cell_type": "code",
   "execution_count": 3,
   "metadata": {},
   "outputs": [],
   "source": [
    "df_min = pd.read_csv('vn30f1m_3min.csv')\n",
    "df_hour = pd.read_csv('vn30f1m_1hour.csv')\n",
    "df_day = pd.read_csv('vn30f1m_1day.csv')\n",
    "\n",
    "data_min = data_backtest(df_min)\n",
    "data_hour = data_backtest(df_hour)\n",
    "data_day = data_backtest(df_day)\n",
    "\n",
    "train_min, valid_min = split_data(data_min)\n",
    "train_hour, valid_hour = split_data(data_hour)\n",
    "train_day, valid_day = split_data(data_day)"
   ]
  },
  {
   "cell_type": "markdown",
   "metadata": {},
   "source": [
    "# 1-day strategies"
   ]
  },
  {
   "cell_type": "markdown",
   "metadata": {},
   "source": [
    "## Breakout"
   ]
  },
  {
   "cell_type": "markdown",
   "metadata": {},
   "source": [
    "### Breakout with Bollinger Bands"
   ]
  },
  {
   "cell_type": "code",
   "execution_count": 265,
   "metadata": {},
   "outputs": [
    {
     "name": "stdout",
     "output_type": "stream",
     "text": [
      "Optimizing on training set...\n"
     ]
    },
    {
     "name": "stderr",
     "output_type": "stream",
     "text": [
      "/Library/Frameworks/Python.framework/Versions/3.11/lib/python3.11/site-packages/backtesting/backtesting.py:1375: UserWarning: For multiprocessing support in `Backtest.optimize()` set multiprocessing start method to 'fork'.\n",
      "  warnings.warn(\"For multiprocessing support in `Backtest.optimize()` \"\n"
     ]
    },
    {
     "data": {
      "application/vnd.jupyter.widget-view+json": {
       "model_id": "ff521b2a274c4ce7b148e97bbe9db5bd",
       "version_major": 2,
       "version_minor": 0
      },
      "text/plain": [
       "  0%|          | 0/10 [00:00<?, ?it/s]"
      ]
     },
     "metadata": {},
     "output_type": "display_data"
    },
    {
     "name": "stdout",
     "output_type": "stream",
     "text": [
      "Backtesting on validation set...\n"
     ]
    }
   ],
   "source": [
    "import talib\n",
    "import numpy as np\n",
    "from backtesting import Backtest, Strategy\n",
    "from backtesting.lib import crossover\n",
    "\n",
    "# Bollinger Breakout Strategy\n",
    "class BollingerBreakout(Strategy):\n",
    "    bb_period = 20\n",
    "    risk_reward_ratio = 2\n",
    "    min_diff = 0.001  # Giữ lại biến này nếu nó giúp cải thiện chiến lược\n",
    "\n",
    "    def init(self):\n",
    "        self.upper_band, self.middle_band, self.lower_band = self.I(\n",
    "            talib.BBANDS, self.data.Close, timeperiod=self.bb_period, nbdevup=1.5, nbdevdn=1.5, matype=0)\n",
    "\n",
    "    def next(self):\n",
    "        price_diff = self.data.Close[-1] - self.lower_band[-1]\n",
    "        \n",
    "        if price_diff > self.min_diff:\n",
    "            sl = self.data.Close[-1] - price_diff\n",
    "            tp = self.data.Close[-1] + price_diff * self.risk_reward_ratio\n",
    "            \n",
    "            # Không giới hạn vị thế nếu điều đó cải thiện lợi nhuận\n",
    "            # if not self.position:\n",
    "\n",
    "            if crossover(self.data.Close, self.upper_band):\n",
    "                self.buy(size=1/6, sl=sl, tp=tp)\n",
    "            elif crossover(self.lower_band, self.data.Close):\n",
    "                self.sell(size=1/6, sl=tp, tp=sl)\n",
    "\n",
    "\n",
    "# Hàm backtest với hàm optimize\n",
    "def run_backtest_optimize(strategy_class, train_data, val_data, bb_period_range):\n",
    "    # Backtest và tối ưu hóa trên tập train\n",
    "    print(\"Optimizing on training set...\")\n",
    "    bt_train = Backtest(train_data, strategy_class, cash=3_000, commission=.01, margin=0.13, hedging=True)\n",
    "    stats_train = bt_train.optimize(\n",
    "        bb_period=bb_period_range,  # Phạm vi tối ưu bb_period\n",
    "        maximize='Return [%]',  # Tối ưu lợi nhuận Return [%]\n",
    "        random_state=42,\n",
    "        method='grid',\n",
    "        return_heatmap=False\n",
    "    )\n",
    "\n",
    "    # Backtest trên tập validation với thông số tối ưu\n",
    "    print(\"Backtesting on validation set...\")\n",
    "    optimized_bb_period = stats_train._strategy.bb_period\n",
    "    bt_val = Backtest(val_data, strategy_class, cash=3_000, commission=0.01, margin=0.13, hedging=True)\n",
    "    stats_val = bt_val.run(bb_period=optimized_bb_period)\n",
    "    \n",
    "    return stats_train, stats_val\n",
    "\n",
    "# Example: Chạy trên dữ liệu train_day và valid_day\n",
    "bb_period_range = range(10, 101, 5)  # Điều chỉnh khoảng giá trị bb_period\n",
    "stats_train, stats_val = run_backtest_optimize(BollingerBreakout, train_day, valid_day, bb_period_range)"
   ]
  },
  {
   "cell_type": "code",
   "execution_count": null,
   "metadata": {},
   "outputs": [
    {
     "data": {
      "text/plain": [
       "Start                     2018-08-13 07:00:00\n",
       "End                       2022-08-30 09:00:00\n",
       "Duration                   1478 days 02:00:00\n",
       "Exposure Time [%]                   75.672981\n",
       "Equity Final [$]                  7335.553353\n",
       "Equity Peak [$]                   10465.17442\n",
       "Return [%]                         144.518445\n",
       "Buy & Hold Return [%]               34.877384\n",
       "Return (Ann.) [%]                   25.471283\n",
       "Volatility (Ann.) [%]               61.718677\n",
       "Sharpe Ratio                           0.4127\n",
       "Sortino Ratio                        0.793527\n",
       "Calmar Ratio                         0.631687\n",
       "Max. Drawdown [%]                  -40.322626\n",
       "Avg. Drawdown [%]                   -9.035423\n",
       "Max. Drawdown Duration      602 days 00:00:00\n",
       "Avg. Drawdown Duration       54 days 00:00:00\n",
       "# Trades                                   67\n",
       "Win Rate [%]                        53.731343\n",
       "Best Trade [%]                      33.606481\n",
       "Worst Trade [%]                    -10.594087\n",
       "Avg. Trade [%]                       2.783183\n",
       "Max. Trade Duration         329 days 00:00:00\n",
       "Avg. Trade Duration          55 days 00:00:00\n",
       "Profit Factor                        2.327054\n",
       "Expectancy [%]                       3.170925\n",
       "SQN                                  1.587473\n",
       "_strategy                 BollingerBreakou...\n",
       "_equity_curve                             ...\n",
       "_trades                       Size  EntryB...\n",
       "dtype: object"
      ]
     },
     "execution_count": 266,
     "metadata": {},
     "output_type": "execute_result"
    }
   ],
   "source": [
    "stats_train"
   ]
  },
  {
   "cell_type": "code",
   "execution_count": 267,
   "metadata": {},
   "outputs": [
    {
     "data": {
      "text/plain": [
       "Start                     2022-08-31 09:00:00\n",
       "End                       2024-08-30 09:00:00\n",
       "Duration                    730 days 00:00:00\n",
       "Exposure Time [%]                   84.431138\n",
       "Equity Final [$]                  3349.360121\n",
       "Equity Peak [$]                   4186.480961\n",
       "Return [%]                          11.645337\n",
       "Buy & Hold Return [%]                2.998686\n",
       "Return (Ann.) [%]                    5.720687\n",
       "Volatility (Ann.) [%]               37.419241\n",
       "Sharpe Ratio                         0.152881\n",
       "Sortino Ratio                        0.221652\n",
       "Calmar Ratio                          0.15597\n",
       "Max. Drawdown [%]                  -36.678165\n",
       "Avg. Drawdown [%]                  -13.960664\n",
       "Max. Drawdown Duration      359 days 00:00:00\n",
       "Avg. Drawdown Duration       87 days 00:00:00\n",
       "# Trades                                   24\n",
       "Win Rate [%]                             62.5\n",
       "Best Trade [%]                      16.268519\n",
       "Worst Trade [%]                     -10.39247\n",
       "Avg. Trade [%]                       1.490719\n",
       "Max. Trade Duration         230 days 00:00:00\n",
       "Avg. Trade Duration          62 days 00:00:00\n",
       "Profit Factor                        1.676233\n",
       "Expectancy [%]                       1.783887\n",
       "SQN                                  0.305391\n",
       "_strategy                 BollingerBreakou...\n",
       "_equity_curve                             ...\n",
       "_trades                       Size  EntryB...\n",
       "dtype: object"
      ]
     },
     "execution_count": 267,
     "metadata": {},
     "output_type": "execute_result"
    }
   ],
   "source": [
    "stats_val "
   ]
  },
  {
   "cell_type": "markdown",
   "metadata": {},
   "source": [
    "### Breakout with Volume"
   ]
  },
  {
   "cell_type": "code",
   "execution_count": 269,
   "metadata": {},
   "outputs": [
    {
     "name": "stdout",
     "output_type": "stream",
     "text": [
      "Optimizing on training set...\n"
     ]
    },
    {
     "name": "stderr",
     "output_type": "stream",
     "text": [
      "/Library/Frameworks/Python.framework/Versions/3.11/lib/python3.11/site-packages/backtesting/backtesting.py:1375: UserWarning: For multiprocessing support in `Backtest.optimize()` set multiprocessing start method to 'fork'.\n",
      "  warnings.warn(\"For multiprocessing support in `Backtest.optimize()` \"\n"
     ]
    },
    {
     "data": {
      "application/vnd.jupyter.widget-view+json": {
       "model_id": "b1f2f9bb50504e5da706d25b8081b126",
       "version_major": 2,
       "version_minor": 0
      },
      "text/plain": [
       "  0%|          | 0/10 [00:00<?, ?it/s]"
      ]
     },
     "metadata": {},
     "output_type": "display_data"
    },
    {
     "name": "stdout",
     "output_type": "stream",
     "text": [
      "Backtesting on validation set...\n"
     ]
    }
   ],
   "source": [
    "import talib\n",
    "import numpy as np\n",
    "import pandas as pd\n",
    "from backtesting import Backtest, Strategy\n",
    "\n",
    "class VolumeBreakout(Strategy):\n",
    "    risk_reward_ratio = 2  # Tỷ lệ R:R = 1:2\n",
    "    volume_period = 20  # Số phiên trung bình khối lượng\n",
    "    stop_loss_pct = 0.02  # Stop Loss là 2% dưới/ trên giá vào lệnh\n",
    "    take_profit_pct = 0.04  # Take Profit là 4% trên/ dưới giá vào lệnh\n",
    "\n",
    "    def init(self):\n",
    "        # Chuyển đổi khối lượng thành kiểu float64 để phù hợp với talib\n",
    "        volume_float = self.data.Volume.astype(np.float64)\n",
    "        # Tính khối lượng trung bình\n",
    "        self.volume_avg = self.I(talib.SMA, volume_float, timeperiod=self.volume_period)\n",
    "\n",
    "    def next(self):\n",
    "        # Kiểm tra khối lượng hiện tại có vượt khối lượng trung bình không\n",
    "        if self.data.Volume[-1] > self.volume_avg[-1]:\n",
    "            if not self.position:  # Kiểm tra xem có vị thế nào đang mở không\n",
    "                # Lệnh mua\n",
    "                if self.data.Close[-1] > self.data.Open[-1]:\n",
    "                    sl = self.data.Close[-1] * (1 - self.stop_loss_pct)  # SL là 2% dưới giá hiện tại\n",
    "                    tp = self.data.Close[-1] * (1 + self.take_profit_pct)  # TP là 4% trên giá hiện tại\n",
    "                    self.buy(size=1/6, sl=sl, tp=tp)\n",
    "\n",
    "                # Lệnh bán\n",
    "                elif self.data.Close[-1] < self.data.Open[-1]:\n",
    "                    sl = self.data.Close[-1] * (1 + self.stop_loss_pct)  # SL là 2% trên giá hiện tại\n",
    "                    tp = self.data.Close[-1] * (1 - self.take_profit_pct)  # TP là 4% dưới giá hiện tại\n",
    "                    self.sell(size=1/6, sl=sl, tp=tp)\n",
    "\n",
    "\n",
    "# Hàm để thực hiện tối ưu hóa và backtest\n",
    "def run_backtest_optimize(strategy_class, train_data, val_data, volume_period_range):\n",
    "    # Backtest và tối ưu hóa trên tập train\n",
    "    print(\"Optimizing on training set...\")\n",
    "    bt_train = Backtest(train_data, strategy_class, cash=3_000, commission=0.01, margin=0.13, hedging=True)\n",
    "    stats_train = bt_train.optimize(\n",
    "        volume_period=volume_period_range,  # Phạm vi tối ưu volume_period\n",
    "        maximize='Return [%]',  # Tối ưu Sharpe Ratio\n",
    "        random_state=42,\n",
    "        method='grid',\n",
    "        return_heatmap=False\n",
    "    )\n",
    "\n",
    "    # Backtest trên tập validation\n",
    "    print(\"Backtesting on validation set...\")\n",
    "    bt_val = Backtest(val_data, strategy_class, cash=3_000, commission=0.01, margin=0.13, hedging=True)\n",
    "    stats_val = bt_val.run()\n",
    "\n",
    "    return stats_train, stats_val\n",
    "\n",
    "# Example usage\n",
    "volume_period_range = range(10, 101, 5)  # Điều chỉnh khoảng giá trị volume_period\n",
    "stats_train, stats_val = run_backtest_optimize(VolumeBreakout, train_day, valid_day, volume_period_range)\n"
   ]
  },
  {
   "cell_type": "code",
   "execution_count": 270,
   "metadata": {},
   "outputs": [
    {
     "data": {
      "text/plain": [
       "Start                     2018-08-13 07:00:00\n",
       "End                       2022-08-30 09:00:00\n",
       "Duration                   1478 days 02:00:00\n",
       "Exposure Time [%]                   55.433699\n",
       "Equity Final [$]                      936.364\n",
       "Equity Peak [$]                        3000.0\n",
       "Return [%]                         -68.787867\n",
       "Buy & Hold Return [%]               34.877384\n",
       "Return (Ann.) [%]                  -25.583163\n",
       "Volatility (Ann.) [%]               13.475918\n",
       "Sharpe Ratio                              0.0\n",
       "Sortino Ratio                             0.0\n",
       "Calmar Ratio                              0.0\n",
       "Max. Drawdown [%]                  -68.787867\n",
       "Avg. Drawdown [%]                  -68.787867\n",
       "Max. Drawdown Duration     1420 days 00:00:00\n",
       "Avg. Drawdown Duration     1420 days 00:00:00\n",
       "# Trades                                  106\n",
       "Win Rate [%]                        33.018868\n",
       "Best Trade [%]                       4.313239\n",
       "Worst Trade [%]                     -7.641856\n",
       "Avg. Trade [%]                       -1.05319\n",
       "Max. Trade Duration          77 days 00:00:00\n",
       "Avg. Trade Duration           7 days 00:00:00\n",
       "Profit Factor                        0.464715\n",
       "Expectancy [%]                      -1.012444\n",
       "SQN                                 -3.203945\n",
       "_strategy                 VolumeBreakout(v...\n",
       "_equity_curve                             ...\n",
       "_trades                        Size  Entry...\n",
       "dtype: object"
      ]
     },
     "execution_count": 270,
     "metadata": {},
     "output_type": "execute_result"
    }
   ],
   "source": [
    "stats_train"
   ]
  },
  {
   "cell_type": "code",
   "execution_count": 271,
   "metadata": {},
   "outputs": [
    {
     "data": {
      "text/plain": [
       "Start                     2022-08-31 09:00:00\n",
       "End                       2024-08-30 09:00:00\n",
       "Duration                    730 days 00:00:00\n",
       "Exposure Time [%]                   78.043912\n",
       "Equity Final [$]                     2004.418\n",
       "Equity Peak [$]                        3000.0\n",
       "Return [%]                         -33.186067\n",
       "Buy & Hold Return [%]                2.998686\n",
       "Return (Ann.) [%]                  -18.425185\n",
       "Volatility (Ann.) [%]               15.973301\n",
       "Sharpe Ratio                              0.0\n",
       "Sortino Ratio                             0.0\n",
       "Calmar Ratio                              0.0\n",
       "Max. Drawdown [%]                    -34.8026\n",
       "Avg. Drawdown [%]                    -34.8026\n",
       "Max. Drawdown Duration      700 days 00:00:00\n",
       "Avg. Drawdown Duration      700 days 00:00:00\n",
       "# Trades                                   64\n",
       "Win Rate [%]                          42.1875\n",
       "Best Trade [%]                       4.073912\n",
       "Worst Trade [%]                     -5.220411\n",
       "Avg. Trade [%]                      -0.576845\n",
       "Max. Trade Duration          38 days 00:00:00\n",
       "Avg. Trade Duration           8 days 00:00:00\n",
       "Profit Factor                        0.692514\n",
       "Expectancy [%]                      -0.532622\n",
       "SQN                                 -1.687225\n",
       "_strategy                      VolumeBreakout\n",
       "_equity_curve                             ...\n",
       "_trades                       Size  EntryB...\n",
       "dtype: object"
      ]
     },
     "execution_count": 271,
     "metadata": {},
     "output_type": "execute_result"
    }
   ],
   "source": [
    "stats_val"
   ]
  },
  {
   "cell_type": "markdown",
   "metadata": {},
   "source": [
    "### Breakout with RSI"
   ]
  },
  {
   "cell_type": "code",
   "execution_count": 149,
   "metadata": {},
   "outputs": [
    {
     "name": "stdout",
     "output_type": "stream",
     "text": [
      "Optimizing on training set...\n"
     ]
    },
    {
     "name": "stderr",
     "output_type": "stream",
     "text": [
      "/Library/Frameworks/Python.framework/Versions/3.11/lib/python3.11/site-packages/backtesting/backtesting.py:1375: UserWarning: For multiprocessing support in `Backtest.optimize()` set multiprocessing start method to 'fork'.\n",
      "  warnings.warn(\"For multiprocessing support in `Backtest.optimize()` \"\n"
     ]
    },
    {
     "data": {
      "application/vnd.jupyter.widget-view+json": {
       "model_id": "4affbe466a3f46a383c17d6aec688cab",
       "version_major": 2,
       "version_minor": 0
      },
      "text/plain": [
       "  0%|          | 0/9 [00:00<?, ?it/s]"
      ]
     },
     "metadata": {},
     "output_type": "display_data"
    },
    {
     "name": "stdout",
     "output_type": "stream",
     "text": [
      "Backtesting on validation set...\n"
     ]
    }
   ],
   "source": [
    "import talib\n",
    "import numpy as np\n",
    "import pandas as pd\n",
    "from backtesting import Backtest, Strategy\n",
    "from backtesting.lib import crossover\n",
    "\n",
    "# Chiến thuật Break-out với RSI có Stop Loss, Take Profit và kích thước 1/6\n",
    "class RSI_Breakout(Strategy):\n",
    "    rsi_period = 14\n",
    "    rsi_lower = 35  # Điều chỉnh ngưỡng quá bán để tăng số lượng giao dịch\n",
    "    rsi_upper = 65  # Điều chỉnh ngưỡng quá mua để tăng số lượng giao dịch\n",
    "    stop_loss_pct = 0.02  # Stop Loss 2%\n",
    "    take_profit_pct = 0.04  # Take Profit 4%\n",
    "\n",
    "    def init(self):\n",
    "        # Tính chỉ báo RSI\n",
    "        self.rsi = self.I(talib.RSI, self.data.Close, self.rsi_period)\n",
    "\n",
    "    def next(self):\n",
    "        # Mua khi RSI dưới ngưỡng quá bán\n",
    "        if not self.position and self.rsi[-1] < self.rsi_lower:\n",
    "            sl = self.data.Close[-1] * (1 - self.stop_loss_pct)\n",
    "            tp = self.data.Close[-1] * (1 + self.take_profit_pct)\n",
    "            self.buy(size=1/6, sl=sl, tp=tp)  # Mở lệnh mua với Stop Loss và Take Profit\n",
    "\n",
    "        # Bán khi RSI vượt ngưỡng quá mua\n",
    "        elif not self.position and self.rsi[-1] > self.rsi_upper:\n",
    "            sl = self.data.Close[-1] * (1 + self.stop_loss_pct)\n",
    "            tp = self.data.Close[-1] * (1 - self.take_profit_pct)\n",
    "            self.sell(size=1/6, sl=sl, tp=tp)  # Mở lệnh bán với Stop Loss và Take Profit\n",
    "\n",
    "\n",
    "# Hàm để thực hiện backtest và tối ưu hóa\n",
    "def run_backtest_optimize(strategy_class, train_data, val_data, rsi_period_range, rsi_lower_range, rsi_upper_range):\n",
    "    # Backtest và tối ưu hóa trên tập train\n",
    "    print(\"Optimizing on training set...\")\n",
    "    bt_train = Backtest(train_data, strategy_class, cash=3_000, commission=0.01, margin=0.13, hedging=True)\n",
    "    stats_train = bt_train.optimize(\n",
    "        rsi_period=rsi_period_range,  # Phạm vi tối ưu rsi_period\n",
    "        rsi_lower=rsi_lower_range,  # Phạm vi tối ưu rsi_lower\n",
    "        rsi_upper=rsi_upper_range,  # Phạm vi tối ưu rsi_upper\n",
    "        maximize='Return [%]',  # Tối ưu dựa trên lợi nhuận\n",
    "        constraint=lambda params: params.rsi_lower < params.rsi_upper,  # Điều kiện hợp lệ cho RSI\n",
    "        random_state=42,\n",
    "        method='grid',\n",
    "        return_heatmap=False\n",
    "    )\n",
    "\n",
    "    # Backtest trên tập validation\n",
    "    print(\"Backtesting on validation set...\")\n",
    "    bt_val = Backtest(val_data, strategy_class, cash=3_000, commission=0.01, margin=0.13, hedging=True)\n",
    "    stats_val = bt_val.run()\n",
    "\n",
    "    return stats_train, stats_val\n",
    "\n",
    "# Example usage\n",
    "rsi_period_range = range(10, 31, 5)  # Điều chỉnh khoảng giá trị rsi_period\n",
    "rsi_lower_range = range(20, 46, 5)  # Điều chỉnh khoảng giá trị rsi_lower\n",
    "rsi_upper_range = range(60, 86, 5)  # Điều chỉnh khoảng giá trị rsi_upper\n",
    "\n",
    "# Thực hiện backtest và tối ưu hóa\n",
    "stats_train, stats_val = run_backtest_optimize(RSI_Breakout, train_day, valid_day, rsi_period_range, rsi_lower_range, rsi_upper_range)\n"
   ]
  },
  {
   "cell_type": "code",
   "execution_count": 150,
   "metadata": {},
   "outputs": [
    {
     "data": {
      "text/plain": [
       "Start                     2018-08-13 07:00:00\n",
       "End                       2022-08-30 09:00:00\n",
       "Duration                   1478 days 02:00:00\n",
       "Exposure Time [%]                    0.997009\n",
       "Equity Final [$]                     3016.025\n",
       "Equity Peak [$]                      3023.465\n",
       "Return [%]                           0.534167\n",
       "Buy & Hold Return [%]               34.877384\n",
       "Return (Ann.) [%]                     0.13529\n",
       "Volatility (Ann.) [%]                2.244895\n",
       "Sharpe Ratio                         0.060265\n",
       "Sortino Ratio                        0.105127\n",
       "Calmar Ratio                         0.027767\n",
       "Max. Drawdown [%]                   -4.872291\n",
       "Avg. Drawdown [%]                   -4.872291\n",
       "Max. Drawdown Duration      886 days 00:00:00\n",
       "Avg. Drawdown Duration      886 days 00:00:00\n",
       "# Trades                                    5\n",
       "Win Rate [%]                             40.0\n",
       "Best Trade [%]                       3.313935\n",
       "Worst Trade [%]                     -1.268585\n",
       "Avg. Trade [%]                       0.085346\n",
       "Max. Trade Duration           7 days 00:00:00\n",
       "Avg. Trade Duration           2 days 00:00:00\n",
       "Profit Factor                        1.144421\n",
       "Expectancy [%]                        0.10063\n",
       "SQN                                  0.102251\n",
       "_strategy                 RSI_Breakout(rsi...\n",
       "_equity_curve                             ...\n",
       "_trades                      Size  EntryBa...\n",
       "dtype: object"
      ]
     },
     "execution_count": 150,
     "metadata": {},
     "output_type": "execute_result"
    }
   ],
   "source": [
    "stats_train"
   ]
  },
  {
   "cell_type": "code",
   "execution_count": 151,
   "metadata": {},
   "outputs": [
    {
     "data": {
      "text/plain": [
       "Start                     2022-08-31 09:00:00\n",
       "End                       2024-08-30 09:00:00\n",
       "Duration                    730 days 00:00:00\n",
       "Exposure Time [%]                   45.309381\n",
       "Equity Final [$]                     1614.122\n",
       "Equity Peak [$]                        3000.0\n",
       "Return [%]                         -46.195933\n",
       "Buy & Hold Return [%]                2.998686\n",
       "Return (Ann.) [%]                   -26.87617\n",
       "Volatility (Ann.) [%]               10.249926\n",
       "Sharpe Ratio                              0.0\n",
       "Sortino Ratio                             0.0\n",
       "Calmar Ratio                              0.0\n",
       "Max. Drawdown [%]                    -51.2685\n",
       "Avg. Drawdown [%]                    -51.2685\n",
       "Max. Drawdown Duration      707 days 00:00:00\n",
       "Avg. Drawdown Duration      707 days 00:00:00\n",
       "# Trades                                   48\n",
       "Win Rate [%]                            31.25\n",
       "Best Trade [%]                       3.903947\n",
       "Worst Trade [%]                     -4.108963\n",
       "Avg. Trade [%]                      -1.137973\n",
       "Max. Trade Duration          22 days 00:00:00\n",
       "Avg. Trade Duration           6 days 00:00:00\n",
       "Profit Factor                        0.423811\n",
       "Expectancy [%]                      -1.104223\n",
       "SQN                                 -3.399613\n",
       "_strategy                        RSI_Breakout\n",
       "_equity_curve                             ...\n",
       "_trades                       Size  EntryB...\n",
       "dtype: object"
      ]
     },
     "execution_count": 151,
     "metadata": {},
     "output_type": "execute_result"
    }
   ],
   "source": [
    "stats_val"
   ]
  },
  {
   "cell_type": "markdown",
   "metadata": {},
   "source": [
    "### Keltner Breakout"
   ]
  },
  {
   "cell_type": "code",
   "execution_count": 173,
   "metadata": {},
   "outputs": [
    {
     "name": "stdout",
     "output_type": "stream",
     "text": [
      "Optimizing KeltnerBreakout on training set...\n"
     ]
    },
    {
     "name": "stderr",
     "output_type": "stream",
     "text": [
      "/Library/Frameworks/Python.framework/Versions/3.11/lib/python3.11/site-packages/backtesting/backtesting.py:1375: UserWarning: For multiprocessing support in `Backtest.optimize()` set multiprocessing start method to 'fork'.\n",
      "  warnings.warn(\"For multiprocessing support in `Backtest.optimize()` \"\n"
     ]
    },
    {
     "data": {
      "application/vnd.jupyter.widget-view+json": {
       "model_id": "9941103c15de48fcbf177ef9a082aaaa",
       "version_major": 2,
       "version_minor": 0
      },
      "text/plain": [
       "  0%|          | 0/10 [00:00<?, ?it/s]"
      ]
     },
     "metadata": {},
     "output_type": "display_data"
    },
    {
     "name": "stdout",
     "output_type": "stream",
     "text": [
      "Backtesting on validation set...\n"
     ]
    }
   ],
   "source": [
    "import talib\n",
    "import numpy as np\n",
    "from backtesting import Backtest, Strategy\n",
    "\n",
    "# Keltner Channel Breakout Strategy\n",
    "class KeltnerBreakout(Strategy):\n",
    "    atr_period = 14  # Số phiên tính toán ATR\n",
    "    risk_reward_ratio = 2  # Tỷ lệ R:R = 1:2\n",
    "    stop_loss_pct = 0.02  # 2% Stop Loss\n",
    "    take_profit_pct = 0.04  # 4% Take Profit\n",
    "\n",
    "    def init(self):\n",
    "        # Tính đường trung bình động và ATR\n",
    "        self.middle_band = self.I(talib.EMA, self.data.Close, self.atr_period)\n",
    "        self.atr = self.I(talib.ATR, self.data.High, self.data.Low, self.data.Close, self.atr_period)\n",
    "        \n",
    "        # Tạo dải trên và dải dưới dựa trên ATR\n",
    "        self.upper_band = self.middle_band + self.atr\n",
    "        self.lower_band = self.middle_band - self.atr\n",
    "\n",
    "    def next(self):\n",
    "        # Mua khi giá vượt qua dải trên của Keltner Channel\n",
    "        if self.data.Close[-1] > self.upper_band[-1]:\n",
    "            sl = self.data.Close[-1] * (1 - self.stop_loss_pct)  # Stop Loss 2% dưới giá hiện tại\n",
    "            tp = self.data.Close[-1] * (1 + self.take_profit_pct)  # Take Profit 4% trên giá hiện tại\n",
    "            self.buy(size=1/6, sl=sl, tp=tp)\n",
    "\n",
    "        # Bán khi giá vượt xuống dưới dải dưới của Keltner Channel\n",
    "        elif self.data.Close[-1] < self.lower_band[-1]:\n",
    "            sl = self.data.Close[-1] * (1 + self.stop_loss_pct)  # Stop Loss 2% trên giá hiện tại\n",
    "            tp = self.data.Close[-1] * (1 - self.take_profit_pct)  # Take Profit 4% dưới giá hiện tại\n",
    "            self.sell(size=1/6, sl=sl, tp=tp)\n",
    "\n",
    "# Hàm backtest và tối ưu hóa Keltner Breakout\n",
    "def run_backtest_optimize_keltner(train_data, val_data, period_range):\n",
    "    # Backtest và tối ưu hóa trên tập train\n",
    "    print(f\"Optimizing KeltnerBreakout on training set...\")\n",
    "    bt_train = Backtest(train_data, KeltnerBreakout, cash=3_000, commission=0.01, margin=0.13, hedging=True)\n",
    "    \n",
    "    stats_train = bt_train.optimize(\n",
    "        atr_period=period_range,  # Phạm vi tối ưu atr_period\n",
    "        maximize='Return [%]',  # Tối ưu dựa trên lợi nhuận\n",
    "        random_state=42,\n",
    "        method='grid',\n",
    "        return_heatmap=False\n",
    "    )\n",
    "\n",
    "    # Backtest trên tập validation\n",
    "    print(\"Backtesting on validation set...\")\n",
    "    bt_val = Backtest(val_data, KeltnerBreakout, cash=3_000, commission=0.01, margin=0.13, hedging=True)\n",
    "    stats_val = bt_val.run()\n",
    "\n",
    "    return stats_train, stats_val\n",
    "\n",
    "# Example usage:\n",
    "atr_period_range = range(10, 101, 5)  # Điều chỉnh khoảng giá trị atr_period\n",
    "stats_train_keltner, stats_val_keltner = run_backtest_optimize_keltner(train_day, valid_day, atr_period_range)\n"
   ]
  },
  {
   "cell_type": "code",
   "execution_count": 174,
   "metadata": {},
   "outputs": [
    {
     "data": {
      "text/plain": [
       "Start                     2018-08-13 07:00:00\n",
       "End                       2022-08-30 09:00:00\n",
       "Duration                   1478 days 02:00:00\n",
       "Exposure Time [%]                   39.381854\n",
       "Equity Final [$]                      653.418\n",
       "Equity Peak [$]                        3000.0\n",
       "Return [%]                           -78.2194\n",
       "Buy & Hold Return [%]               34.877384\n",
       "Return (Ann.) [%]                  -32.076865\n",
       "Volatility (Ann.) [%]                16.38653\n",
       "Sharpe Ratio                              0.0\n",
       "Sortino Ratio                             0.0\n",
       "Calmar Ratio                              0.0\n",
       "Max. Drawdown [%]                    -78.9407\n",
       "Avg. Drawdown [%]                    -78.9407\n",
       "Max. Drawdown Duration     1462 days 00:00:00\n",
       "Avg. Drawdown Duration     1462 days 00:00:00\n",
       "# Trades                                  162\n",
       "Win Rate [%]                        31.481481\n",
       "Best Trade [%]                       4.795394\n",
       "Worst Trade [%]                     -7.641856\n",
       "Avg. Trade [%]                      -1.157504\n",
       "Max. Trade Duration         102 days 00:00:00\n",
       "Avg. Trade Duration          11 days 00:00:00\n",
       "Profit Factor                        0.433406\n",
       "Expectancy [%]                      -1.117847\n",
       "SQN                                 -4.772852\n",
       "_strategy                 KeltnerBreakout(...\n",
       "_equity_curve                             ...\n",
       "_trades                        Size  Entry...\n",
       "dtype: object"
      ]
     },
     "execution_count": 174,
     "metadata": {},
     "output_type": "execute_result"
    }
   ],
   "source": [
    "stats_train_keltner"
   ]
  },
  {
   "cell_type": "code",
   "execution_count": 175,
   "metadata": {},
   "outputs": [
    {
     "data": {
      "text/plain": [
       "Start                     2022-08-31 09:00:00\n",
       "End                       2024-08-30 09:00:00\n",
       "Duration                    730 days 00:00:00\n",
       "Exposure Time [%]                   75.449102\n",
       "Equity Final [$]                     1068.254\n",
       "Equity Peak [$]                      3663.117\n",
       "Return [%]                         -64.391533\n",
       "Buy & Hold Return [%]                2.998686\n",
       "Return (Ann.) [%]                  -40.635077\n",
       "Volatility (Ann.) [%]               23.884744\n",
       "Sharpe Ratio                              0.0\n",
       "Sortino Ratio                             0.0\n",
       "Calmar Ratio                              0.0\n",
       "Max. Drawdown [%]                  -71.422207\n",
       "Avg. Drawdown [%]                  -16.110326\n",
       "Max. Drawdown Duration      689 days 00:00:00\n",
       "Avg. Drawdown Duration      142 days 00:00:00\n",
       "# Trades                                  170\n",
       "Win Rate [%]                        41.764706\n",
       "Best Trade [%]                       4.004873\n",
       "Worst Trade [%]                      -5.14495\n",
       "Avg. Trade [%]                      -0.612418\n",
       "Max. Trade Duration          36 days 00:00:00\n",
       "Avg. Trade Duration           9 days 00:00:00\n",
       "Profit Factor                        0.672387\n",
       "Expectancy [%]                      -0.570023\n",
       "SQN                                 -2.503115\n",
       "_strategy                     KeltnerBreakout\n",
       "_equity_curve                             ...\n",
       "_trades                        Size  Entry...\n",
       "dtype: object"
      ]
     },
     "execution_count": 175,
     "metadata": {},
     "output_type": "execute_result"
    }
   ],
   "source": [
    "stats_val_keltner"
   ]
  },
  {
   "cell_type": "markdown",
   "metadata": {},
   "source": [
    "## Mean Reverse"
   ]
  },
  {
   "cell_type": "markdown",
   "metadata": {},
   "source": [
    "### Looser Mean Reversion"
   ]
  },
  {
   "cell_type": "code",
   "execution_count": 10,
   "metadata": {},
   "outputs": [
    {
     "name": "stdout",
     "output_type": "stream",
     "text": [
      "Optimizing on training set...\n"
     ]
    },
    {
     "name": "stderr",
     "output_type": "stream",
     "text": [
      "/Library/Frameworks/Python.framework/Versions/3.11/lib/python3.11/site-packages/backtesting/backtesting.py:1488: UserWarning: Searching for best of 360 configurations.\n",
      "  output = _optimize_grid()\n",
      "/Library/Frameworks/Python.framework/Versions/3.11/lib/python3.11/site-packages/backtesting/backtesting.py:1375: UserWarning: For multiprocessing support in `Backtest.optimize()` set multiprocessing start method to 'fork'.\n",
      "  warnings.warn(\"For multiprocessing support in `Backtest.optimize()` \"\n"
     ]
    },
    {
     "data": {
      "application/vnd.jupyter.widget-view+json": {
       "model_id": "4ac380efe9cb4ff485df393b5697af9a",
       "version_major": 2,
       "version_minor": 0
      },
      "text/plain": [
       "  0%|          | 0/8 [00:00<?, ?it/s]"
      ]
     },
     "metadata": {},
     "output_type": "display_data"
    },
    {
     "name": "stdout",
     "output_type": "stream",
     "text": [
      "Backtesting on validation set...\n"
     ]
    }
   ],
   "source": [
    "import talib\n",
    "import numpy as np\n",
    "import pandas as pd\n",
    "from backtesting import Backtest, Strategy\n",
    "from backtesting.lib import crossover\n",
    "\n",
    "# Mean Reversion Strategy\n",
    "class MeanReversionLooser(Strategy):\n",
    "    bb_period = 20  # Bollinger Bands period\n",
    "    rsi_period = 14  # RSI period\n",
    "    rsi_lower = 30  # RSI lower bound (oversold)\n",
    "    rsi_upper = 70  # RSI upper bound (overbought)\n",
    "    rsi_neutral = 50  # RSI trung lập\n",
    "    risk_reward_ratio = 2  # Risk-Reward ratio\n",
    "    stop_loss_pct = 0.02  # Stop loss là 2% dưới hoặc trên giá vào lệnh\n",
    "    take_profit_pct = 0.04  # Take profit là 4% trên hoặc dưới giá vào lệnh\n",
    "\n",
    "    def init(self):\n",
    "        # Tính toán dải Bollinger Bands\n",
    "        self.upper_band, self.middle_band, self.lower_band = self.I(\n",
    "            talib.BBANDS, self.data.Close, timeperiod=self.bb_period, nbdevup=1.5, nbdevdn=1.5, matype=0)\n",
    "        \n",
    "        # Tính toán chỉ báo RSI\n",
    "        self.rsi = self.I(talib.RSI, self.data.Close, timeperiod=self.rsi_period)\n",
    "\n",
    "    def next(self):\n",
    "        # Điều kiện Mua: Khi giá đóng cửa dưới dải dưới và RSI < rsi_lower\n",
    "        if self.data.Close[-1] < self.lower_band[-1] and self.rsi[-1] < self.rsi_lower:\n",
    "            sl = self.data.Close[-1] * (1 - self.stop_loss_pct)  # Stop loss là 2% dưới giá hiện tại\n",
    "            tp = self.data.Close[-1] * (1 + self.take_profit_pct)  # Take profit là 4% trên giá hiện tại\n",
    "            self.buy(size=1/6, sl=sl, tp=tp)\n",
    "\n",
    "        # Điều kiện Bán: Khi giá đóng cửa trên dải trên và RSI > rsi_upper\n",
    "        elif self.data.Close[-1] > self.upper_band[-1] and self.rsi[-1] > self.rsi_upper:\n",
    "            sl = self.data.Close[-1] * (1 + self.stop_loss_pct)  # Stop loss là 2% trên giá hiện tại\n",
    "            tp = self.data.Close[-1] * (1 - self.take_profit_pct)  # Take profit là 4% dưới giá hiện tại\n",
    "            self.sell(size=1/6, sl=sl, tp=tp)\n",
    "        \n",
    "        # Thoát lệnh khi giá quay lại đường giữa của Bollinger Band hoặc RSI quay về mức trung lập\n",
    "        for trade in self.trades:\n",
    "            if self.data.Close[-1] > self.middle_band[-1] and trade.is_long:\n",
    "                trade.close()  # Thoát lệnh Mua nếu giá quay lại đường giữa\n",
    "            elif self.data.Close[-1] < self.middle_band[-1] and trade.is_short:\n",
    "                trade.close()  # Thoát lệnh Bán nếu giá quay lại đường giữa\n",
    "            \n",
    "            # Thoát lệnh khi RSI quay về mức trung lập\n",
    "            if self.rsi[-1] > self.rsi_neutral and trade.is_long:\n",
    "                trade.close()  # Thoát lệnh Mua khi RSI quay về mức trung lập\n",
    "            elif self.rsi[-1] < self.rsi_neutral and trade.is_short:\n",
    "                trade.close()  # Thoát lệnh Bán khi RSI quay về mức trung lập\n",
    "\n",
    "# Hàm backtest và tối ưu hóa\n",
    "def run_backtest_optimize(strategy_class, train_data, val_data, bb_period_range, rsi_period_range, rsi_lower_range, rsi_upper_range):\n",
    "    # Backtest và tối ưu hóa trên tập train\n",
    "    print(\"Optimizing on training set...\")\n",
    "    bt_train = Backtest(train_data, strategy_class, cash=3_000, commission=0.01, margin=0.13, hedging=True)\n",
    "    stats_train = bt_train.optimize(\n",
    "        bb_period=bb_period_range,  # Tối ưu bb_period\n",
    "        rsi_period=rsi_period_range,  # Tối ưu rsi_period\n",
    "        rsi_lower=rsi_lower_range,  # Tối ưu rsi_lower\n",
    "        rsi_upper=rsi_upper_range,  # Tối ưu rsi_upper\n",
    "        maximize='Return [%]',  # Tối ưu dựa trên lợi nhuận\n",
    "        constraint=lambda params: params.rsi_lower < params.rsi_upper,  # Điều kiện hợp lệ\n",
    "        random_state=42,\n",
    "        method='grid',\n",
    "        return_heatmap=False\n",
    "    )\n",
    "\n",
    "    # Backtest trên tập validation\n",
    "    print(\"Backtesting on validation set...\")\n",
    "    bt_val = Backtest(val_data, strategy_class, cash=3_000, commission=0.01, margin=0.13, hedging=True)\n",
    "    stats_val = bt_val.run()\n",
    "\n",
    "    return stats_train, stats_val\n",
    "\n",
    "# Example usage\n",
    "bb_period_range = range(10, 31, 5)  # Điều chỉnh khoảng giá trị bb_period\n",
    "rsi_period_range = range(10, 21, 5)  # Điều chỉnh khoảng giá trị rsi_period\n",
    "rsi_lower_range = range(20, 46, 5)  # Điều chỉnh khoảng giá trị rsi_lower\n",
    "rsi_upper_range = range(55, 71, 5)  # Điều chỉnh khoảng giá trị rsi_upper\n",
    "\n",
    "# Chạy backtest và tối ưu hóa cho chiến lược Mean Reversion\n",
    "stats_train, stats_val = run_backtest_optimize(MeanReversionLooser, train_day, valid_day, bb_period_range, rsi_period_range, rsi_lower_range, rsi_upper_range)\n"
   ]
  },
  {
   "cell_type": "code",
   "execution_count": 11,
   "metadata": {},
   "outputs": [
    {
     "data": {
      "text/plain": [
       "Start                     2018-08-13 07:00:00\n",
       "End                       2022-08-30 09:00:00\n",
       "Duration                   1478 days 02:00:00\n",
       "Exposure Time [%]                    4.985045\n",
       "Equity Final [$]                     1911.948\n",
       "Equity Peak [$]                      3023.465\n",
       "Return [%]                           -36.2684\n",
       "Buy & Hold Return [%]               34.877384\n",
       "Return (Ann.) [%]                  -10.803079\n",
       "Volatility (Ann.) [%]                6.523346\n",
       "Sharpe Ratio                              0.0\n",
       "Sortino Ratio                             0.0\n",
       "Calmar Ratio                              0.0\n",
       "Max. Drawdown [%]                  -41.388969\n",
       "Avg. Drawdown [%]                  -41.388969\n",
       "Max. Drawdown Duration      883 days 00:00:00\n",
       "Avg. Drawdown Duration      883 days 00:00:00\n",
       "# Trades                                   26\n",
       "Win Rate [%]                        19.230769\n",
       "Best Trade [%]                       3.313935\n",
       "Worst Trade [%]                      -3.75725\n",
       "Avg. Trade [%]                       -1.72645\n",
       "Max. Trade Duration           8 days 00:00:00\n",
       "Avg. Trade Duration           4 days 00:00:00\n",
       "Profit Factor                        0.229375\n",
       "Expectancy [%]                      -1.701593\n",
       "SQN                                 -4.423684\n",
       "_strategy                 MeanReversionLoo...\n",
       "_equity_curve                             ...\n",
       "_trades                       Size  EntryB...\n",
       "dtype: object"
      ]
     },
     "execution_count": 11,
     "metadata": {},
     "output_type": "execute_result"
    }
   ],
   "source": [
    "stats_train"
   ]
  },
  {
   "cell_type": "code",
   "execution_count": 12,
   "metadata": {},
   "outputs": [
    {
     "data": {
      "text/plain": [
       "Start                     2022-08-31 09:00:00\n",
       "End                       2024-08-30 09:00:00\n",
       "Duration                    730 days 00:00:00\n",
       "Exposure Time [%]                   26.546906\n",
       "Equity Final [$]                     1530.967\n",
       "Equity Peak [$]                        3000.0\n",
       "Return [%]                         -48.967767\n",
       "Buy & Hold Return [%]                2.998686\n",
       "Return (Ann.) [%]                   -28.80351\n",
       "Volatility (Ann.) [%]               13.019445\n",
       "Sharpe Ratio                              0.0\n",
       "Sortino Ratio                             0.0\n",
       "Calmar Ratio                              0.0\n",
       "Max. Drawdown [%]                  -54.366867\n",
       "Avg. Drawdown [%]                  -54.366867\n",
       "Max. Drawdown Duration      700 days 00:00:00\n",
       "Avg. Drawdown Duration      700 days 00:00:00\n",
       "# Trades                                   57\n",
       "Win Rate [%]                        31.578947\n",
       "Best Trade [%]                       3.362682\n",
       "Worst Trade [%]                     -5.276704\n",
       "Avg. Trade [%]                      -1.338372\n",
       "Max. Trade Duration          27 days 00:00:00\n",
       "Avg. Trade Duration           6 days 00:00:00\n",
       "Profit Factor                         0.34707\n",
       "Expectancy [%]                      -1.307472\n",
       "SQN                                  -3.75125\n",
       "_strategy                 MeanReversionLooser\n",
       "_equity_curve                             ...\n",
       "_trades                       Size  EntryB...\n",
       "dtype: object"
      ]
     },
     "execution_count": 12,
     "metadata": {},
     "output_type": "execute_result"
    }
   ],
   "source": [
    "stats_val"
   ]
  },
  {
   "cell_type": "markdown",
   "metadata": {},
   "source": [
    "### Multi Timeframe Mean Reversion"
   ]
  },
  {
   "cell_type": "code",
   "execution_count": 19,
   "metadata": {},
   "outputs": [
    {
     "name": "stdout",
     "output_type": "stream",
     "text": [
      "Optimizing MultiTimeframeMeanReversion on training set...\n"
     ]
    },
    {
     "name": "stderr",
     "output_type": "stream",
     "text": [
      "/Library/Frameworks/Python.framework/Versions/3.11/lib/python3.11/site-packages/backtesting/backtesting.py:1375: UserWarning: For multiprocessing support in `Backtest.optimize()` set multiprocessing start method to 'fork'.\n",
      "  warnings.warn(\"For multiprocessing support in `Backtest.optimize()` \"\n"
     ]
    },
    {
     "data": {
      "application/vnd.jupyter.widget-view+json": {
       "model_id": "dc88010009554ea59bfc801e2f672b0e",
       "version_major": 2,
       "version_minor": 0
      },
      "text/plain": [
       "  0%|          | 0/9 [00:00<?, ?it/s]"
      ]
     },
     "metadata": {},
     "output_type": "display_data"
    },
    {
     "name": "stdout",
     "output_type": "stream",
     "text": [
      "Backtesting on validation set...\n"
     ]
    }
   ],
   "source": [
    "import talib\n",
    "from backtesting import Backtest, Strategy\n",
    "\n",
    "class MultiTimeframeMeanReversion(Strategy):\n",
    "    ma_short = 20\n",
    "    ma_long = 50\n",
    "\n",
    "    def init(self):\n",
    "        self.ma_short = self.I(talib.SMA, self.data.Close, timeperiod=self.ma_short)\n",
    "        self.ma_long = self.I(talib.SMA, self.data.Close, timeperiod=self.ma_long)\n",
    "\n",
    "    def next(self):\n",
    "        if self.ma_short[-1] < self.ma_long[-1] and self.data.Close[-1] < self.ma_short[-1]:\n",
    "            self.buy(size=1/6)\n",
    "\n",
    "        elif self.ma_short[-1] > self.ma_long[-1] and self.data.Close[-1] > self.ma_short[-1]:\n",
    "            self.sell(size=1/6)\n",
    "\n",
    "# Hàm backtest và tối ưu hóa cho Multi-Timeframe Mean Reversion\n",
    "def run_backtest_optimize_multi(train_data, val_data, ma_short_range, ma_long_range):\n",
    "    print(f\"Optimizing MultiTimeframeMeanReversion on training set...\")\n",
    "    bt_train = Backtest(train_data, MultiTimeframeMeanReversion, cash=3_000, commission=0.01, margin=0.13, hedging=True)\n",
    "    \n",
    "    stats_train = bt_train.optimize(\n",
    "        ma_short=ma_short_range,\n",
    "        ma_long=ma_long_range,\n",
    "        maximize='Return [%]',\n",
    "        random_state=42,\n",
    "        method='grid',\n",
    "        return_heatmap=False\n",
    "    )\n",
    "\n",
    "    print(\"Backtesting on validation set...\")\n",
    "    bt_val = Backtest(val_data, MultiTimeframeMeanReversion, cash=3_000, commission=0.01, margin=0.13, hedging=True)\n",
    "    stats_val = bt_val.run()\n",
    "\n",
    "    return stats_train, stats_val\n",
    "\n",
    "# Example usage:\n",
    "ma_short_range = range(10, 31, 5)\n",
    "ma_long_range = range(40, 101, 10)\n",
    "stats_train_multi, stats_val_multi = run_backtest_optimize_multi(train_day, valid_day, ma_short_range, ma_long_range)\n"
   ]
  },
  {
   "cell_type": "code",
   "execution_count": 20,
   "metadata": {},
   "outputs": [
    {
     "data": {
      "text/plain": [
       "Start                     2018-08-13 07:00:00\n",
       "End                       2022-08-30 09:00:00\n",
       "Duration                   1478 days 02:00:00\n",
       "Exposure Time [%]                   89.930209\n",
       "Equity Final [$]                     7196.039\n",
       "Equity Peak [$]                      8871.839\n",
       "Return [%]                         139.867967\n",
       "Buy & Hold Return [%]               34.877384\n",
       "Return (Ann.) [%]                   24.861344\n",
       "Volatility (Ann.) [%]              203.875779\n",
       "Sharpe Ratio                         0.121944\n",
       "Sortino Ratio                        0.442216\n",
       "Calmar Ratio                         0.262944\n",
       "Max. Drawdown [%]                  -94.550073\n",
       "Avg. Drawdown [%]                   -6.209401\n",
       "Max. Drawdown Duration      638 days 00:00:00\n",
       "Avg. Drawdown Duration       38 days 00:00:00\n",
       "# Trades                                   25\n",
       "Win Rate [%]                             44.0\n",
       "Best Trade [%]                      51.807328\n",
       "Worst Trade [%]                    -43.995262\n",
       "Avg. Trade [%]                      -6.485792\n",
       "Max. Trade Duration        1332 days 00:00:00\n",
       "Avg. Trade Duration        1136 days 00:00:00\n",
       "Profit Factor                        1.131969\n",
       "Expectancy [%]                       2.585956\n",
       "SQN                                  1.185659\n",
       "_strategy                 MultiTimeframeMe...\n",
       "_equity_curve                             ...\n",
       "_trades                       Size  EntryB...\n",
       "dtype: object"
      ]
     },
     "execution_count": 20,
     "metadata": {},
     "output_type": "execute_result"
    }
   ],
   "source": [
    "stats_train_multi"
   ]
  },
  {
   "cell_type": "code",
   "execution_count": 21,
   "metadata": {},
   "outputs": [
    {
     "data": {
      "text/plain": [
       "Start                     2022-08-31 09:00:00\n",
       "End                       2024-08-30 09:00:00\n",
       "Duration                    730 days 00:00:00\n",
       "Exposure Time [%]                   89.820359\n",
       "Equity Final [$]                     6353.938\n",
       "Equity Peak [$]                      6386.938\n",
       "Return [%]                         111.797933\n",
       "Buy & Hold Return [%]                2.998686\n",
       "Return (Ann.) [%]                      46.081\n",
       "Volatility (Ann.) [%]               65.431953\n",
       "Sharpe Ratio                         0.704258\n",
       "Sortino Ratio                        1.943802\n",
       "Calmar Ratio                         1.776348\n",
       "Max. Drawdown [%]                  -25.941429\n",
       "Avg. Drawdown [%]                   -9.014264\n",
       "Max. Drawdown Duration      254 days 00:00:00\n",
       "Avg. Drawdown Duration       54 days 00:00:00\n",
       "# Trades                                   18\n",
       "Win Rate [%]                             50.0\n",
       "Best Trade [%]                      49.971211\n",
       "Worst Trade [%]                    -28.835159\n",
       "Avg. Trade [%]                         1.2686\n",
       "Max. Trade Duration         655 days 00:00:00\n",
       "Avg. Trade Duration         632 days 00:00:00\n",
       "Profit Factor                        1.506465\n",
       "Expectancy [%]                        6.91392\n",
       "SQN                                  1.131014\n",
       "_strategy                 MultiTimeframeMe...\n",
       "_equity_curve                             ...\n",
       "_trades                       Size  EntryB...\n",
       "dtype: object"
      ]
     },
     "execution_count": 21,
     "metadata": {},
     "output_type": "execute_result"
    }
   ],
   "source": [
    "stats_val_multi"
   ]
  },
  {
   "cell_type": "markdown",
   "metadata": {},
   "source": [
    "### Momentum Mean Reversion"
   ]
  },
  {
   "cell_type": "code",
   "execution_count": 244,
   "metadata": {},
   "outputs": [
    {
     "name": "stdout",
     "output_type": "stream",
     "text": [
      "Optimizing MomentumMeanReversion on training set...\n"
     ]
    },
    {
     "name": "stderr",
     "output_type": "stream",
     "text": [
      "/Library/Frameworks/Python.framework/Versions/3.11/lib/python3.11/site-packages/backtesting/backtesting.py:1375: UserWarning: For multiprocessing support in `Backtest.optimize()` set multiprocessing start method to 'fork'.\n",
      "  warnings.warn(\"For multiprocessing support in `Backtest.optimize()` \"\n"
     ]
    },
    {
     "data": {
      "application/vnd.jupyter.widget-view+json": {
       "model_id": "49d39fa5da1349059a3a7ac5ba3831a1",
       "version_major": 2,
       "version_minor": 0
      },
      "text/plain": [
       "  0%|          | 0/12 [00:00<?, ?it/s]"
      ]
     },
     "metadata": {},
     "output_type": "display_data"
    },
    {
     "name": "stdout",
     "output_type": "stream",
     "text": [
      "Backtesting on validation set...\n"
     ]
    }
   ],
   "source": [
    "import talib\n",
    "from backtesting import Backtest, Strategy\n",
    "\n",
    "# Momentum Mean Reversion Strategy\n",
    "class MomentumMeanReversion(Strategy):\n",
    "    rsi_period = 14  # Tham số mặc định cho RSI\n",
    "    ma_period = 50  # Tham số mặc định cho MA dài hạn\n",
    "    risk_reward_ratio = 2  # Tỷ lệ R:R = 2\n",
    "\n",
    "    def init(self):\n",
    "        self.ma = self.I(talib.SMA, self.data.Close, timeperiod=self.ma_period)\n",
    "        self.rsi = self.I(talib.RSI, self.data.Close, timeperiod=self.rsi_period)\n",
    "\n",
    "    def next(self):\n",
    "        price_diff = abs(self.data.Close[-1] - self.ma[-1])\n",
    "        \n",
    "        # Điều chỉnh SL và TP hợp lệ cho lệnh mua\n",
    "        if self.rsi[-1] < 30 and self.data.Close[-1] < self.ma[-1]:\n",
    "            sl = self.data.Close[-1] - price_diff  # Stop loss là mức giá thấp hơn giá hiện tại\n",
    "            tp = self.data.Close[-1] + price_diff * self.risk_reward_ratio  # Take profit cao hơn giá hiện tại\n",
    "            if sl < self.data.Close[-1] < tp:\n",
    "                self.buy(size=1/6, sl=sl, tp=tp)\n",
    "\n",
    "        # Điều chỉnh SL và TP hợp lệ cho lệnh bán\n",
    "        elif self.rsi[-1] > 70 and self.data.Close[-1] > self.ma[-1]:\n",
    "            sl = self.data.Close[-1] + price_diff  # Stop loss là mức giá cao hơn giá hiện tại\n",
    "            tp = self.data.Close[-1] - price_diff * self.risk_reward_ratio  # Take profit thấp hơn giá hiện tại\n",
    "            if tp < self.data.Close[-1] < sl:\n",
    "                self.sell(size=1/6, sl=sl, tp=tp)\n",
    "\n",
    "# Hàm backtest và tối ưu hóa Momentum Mean Reversion\n",
    "def run_backtest_optimize_momentum(train_data, val_data, ma_period_range, rsi_period_range):\n",
    "    print(f\"Optimizing MomentumMeanReversion on training set...\")\n",
    "    bt_train = Backtest(train_data, MomentumMeanReversion, cash=3_000, commission=0.01, margin=0.13, hedging=True)\n",
    "    \n",
    "    stats_train = bt_train.optimize(\n",
    "        ma_period=ma_period_range,\n",
    "        rsi_period=rsi_period_range,\n",
    "        maximize='Return [%]',\n",
    "        random_state=42,\n",
    "        method='grid',\n",
    "        return_heatmap=False\n",
    "    )\n",
    "\n",
    "    print(\"Backtesting on validation set...\")\n",
    "    bt_val = Backtest(val_data, MomentumMeanReversion, cash=3_000, commission=0.01, margin=0.13, hedging=True)\n",
    "    stats_val = bt_val.run()\n",
    "\n",
    "    return stats_train, stats_val\n",
    "\n",
    "# Example usage:\n",
    "ma_period_range = range(30, 61, 10)\n",
    "rsi_period_range = range(10, 21, 5)\n",
    "stats_train_momentum, stats_val_momentum = run_backtest_optimize_momentum(train_day, valid_day, ma_period_range, rsi_period_range)\n"
   ]
  },
  {
   "cell_type": "code",
   "execution_count": 245,
   "metadata": {},
   "outputs": [
    {
     "data": {
      "text/plain": [
       "Start                     2018-08-13 07:00:00\n",
       "End                       2022-08-30 09:00:00\n",
       "Duration                   1478 days 02:00:00\n",
       "Exposure Time [%]                   69.890329\n",
       "Equity Final [$]                     1019.355\n",
       "Equity Peak [$]                   3483.829667\n",
       "Return [%]                           -66.0215\n",
       "Buy & Hold Return [%]               34.877384\n",
       "Return (Ann.) [%]                  -23.962002\n",
       "Volatility (Ann.) [%]               39.024168\n",
       "Sharpe Ratio                              0.0\n",
       "Sortino Ratio                             0.0\n",
       "Calmar Ratio                              0.0\n",
       "Max. Drawdown [%]                  -76.682117\n",
       "Avg. Drawdown [%]                  -23.056497\n",
       "Max. Drawdown Duration      952 days 00:00:00\n",
       "Avg. Drawdown Duration      282 days 00:00:00\n",
       "# Trades                                   65\n",
       "Win Rate [%]                        26.153846\n",
       "Best Trade [%]                      55.932122\n",
       "Worst Trade [%]                     -32.98758\n",
       "Avg. Trade [%]                      -1.388399\n",
       "Max. Trade Duration         498 days 00:00:00\n",
       "Avg. Trade Duration          81 days 00:00:00\n",
       "Profit Factor                        0.964458\n",
       "Expectancy [%]                      -0.204763\n",
       "SQN                                  -1.30384\n",
       "_strategy                 MomentumMeanReve...\n",
       "_equity_curve                             ...\n",
       "_trades                       Size  EntryB...\n",
       "dtype: object"
      ]
     },
     "execution_count": 245,
     "metadata": {},
     "output_type": "execute_result"
    }
   ],
   "source": [
    "stats_train_momentum"
   ]
  },
  {
   "cell_type": "code",
   "execution_count": 246,
   "metadata": {},
   "outputs": [
    {
     "data": {
      "text/plain": [
       "Start                     2022-08-31 09:00:00\n",
       "End                       2024-08-30 09:00:00\n",
       "Duration                    730 days 00:00:00\n",
       "Exposure Time [%]                   80.239521\n",
       "Equity Final [$]                     3102.092\n",
       "Equity Peak [$]                      3755.692\n",
       "Return [%]                           3.403067\n",
       "Buy & Hold Return [%]                2.998686\n",
       "Return (Ann.) [%]                    1.704349\n",
       "Volatility (Ann.) [%]               40.333707\n",
       "Sharpe Ratio                         0.042256\n",
       "Sortino Ratio                        0.072767\n",
       "Calmar Ratio                         0.028155\n",
       "Max. Drawdown [%]                  -60.534597\n",
       "Avg. Drawdown [%]                  -12.141563\n",
       "Max. Drawdown Duration      546 days 00:00:00\n",
       "Avg. Drawdown Duration       83 days 00:00:00\n",
       "# Trades                                   30\n",
       "Win Rate [%]                        33.333333\n",
       "Best Trade [%]                      23.991445\n",
       "Worst Trade [%]                    -10.118963\n",
       "Avg. Trade [%]                       0.492024\n",
       "Max. Trade Duration         395 days 00:00:00\n",
       "Avg. Trade Duration         106 days 00:00:00\n",
       "Profit Factor                        1.249694\n",
       "Expectancy [%]                        1.13697\n",
       "SQN                                  0.108231\n",
       "_strategy                 MomentumMeanReve...\n",
       "_equity_curve                             ...\n",
       "_trades                       Size  EntryB...\n",
       "dtype: object"
      ]
     },
     "execution_count": 246,
     "metadata": {},
     "output_type": "execute_result"
    }
   ],
   "source": [
    "stats_val_momentum"
   ]
  },
  {
   "cell_type": "markdown",
   "metadata": {},
   "source": [
    "## MACD"
   ]
  },
  {
   "cell_type": "markdown",
   "metadata": {},
   "source": [
    "### Original MACD"
   ]
  },
  {
   "cell_type": "code",
   "execution_count": 212,
   "metadata": {},
   "outputs": [
    {
     "name": "stdout",
     "output_type": "stream",
     "text": [
      "Optimizing MACDStrategy on training set...\n"
     ]
    },
    {
     "name": "stderr",
     "output_type": "stream",
     "text": [
      "/Library/Frameworks/Python.framework/Versions/3.11/lib/python3.11/site-packages/backtesting/backtesting.py:1375: UserWarning: For multiprocessing support in `Backtest.optimize()` set multiprocessing start method to 'fork'.\n",
      "  warnings.warn(\"For multiprocessing support in `Backtest.optimize()` \"\n"
     ]
    },
    {
     "data": {
      "application/vnd.jupyter.widget-view+json": {
       "model_id": "5401430efb4f4839906ea578737685c2",
       "version_major": 2,
       "version_minor": 0
      },
      "text/plain": [
       "  0%|          | 0/9 [00:00<?, ?it/s]"
      ]
     },
     "metadata": {},
     "output_type": "display_data"
    },
    {
     "name": "stdout",
     "output_type": "stream",
     "text": [
      "Backtesting on validation set...\n"
     ]
    }
   ],
   "source": [
    "import pandas as pd\n",
    "from backtesting import Backtest, Strategy\n",
    "import talib\n",
    "from backtesting.lib import crossover\n",
    "\n",
    "# Chiến lược MACD với R:R = 1/2\n",
    "class MACDStrategy(Strategy):\n",
    "    fastperiod = 12  # MACD Fast EMA period\n",
    "    slowperiod = 26  # MACD Slow EMA period\n",
    "    signalperiod = 9  # Signal period\n",
    "    risk_reward_ratio = 0.5  # Tỷ lệ R:R = 1/2\n",
    "\n",
    "    def init(self):\n",
    "        # Tính MACD và Signal\n",
    "        self.macd, self.signal, _ = self.I(talib.MACD, self.data.Close, fastperiod=self.fastperiod, \n",
    "                                           slowperiod=self.slowperiod, signalperiod=self.signalperiod)\n",
    "    \n",
    "    def next(self):\n",
    "        price_diff = abs(self.data.Close[-1] - self.macd[-1])  # Khoảng cách giữa giá và MACD\n",
    "        if price_diff > 0:\n",
    "            sl = self.data.Close[-1] - price_diff  # Stop loss dựa trên MACD\n",
    "            tp = self.data.Close[-1] + price_diff * self.risk_reward_ratio  # Take profit là một nửa khoảng cách này\n",
    "\n",
    "            # Mua khi MACD cắt lên Signal và MACD > 0\n",
    "            if crossover(self.macd, self.signal) and self.macd[-1] > 0:\n",
    "                self.buy(size=1/6, sl=sl, tp=tp)\n",
    "\n",
    "            # Bán khi MACD cắt xuống Signal và MACD < 0\n",
    "            elif crossover(self.signal, self.macd) and self.macd[-1] < 0:\n",
    "                sl = self.data.Close[-1] + price_diff\n",
    "                tp = self.data.Close[-1] - price_diff * self.risk_reward_ratio\n",
    "                self.sell(size=1/6, sl=sl, tp=tp)\n",
    "\n",
    "# Hàm chạy backtest với tối ưu hóa cho MACD với R:R = 1/2\n",
    "def run_backtest_optimize_macd(train_data, val_data, fastperiod_range, slowperiod_range, signalperiod_range):\n",
    "    # Backtest và tối ưu hóa trên tập train\n",
    "    print(f\"Optimizing MACDStrategy on training set...\")\n",
    "    bt_train = Backtest(train_data, MACDStrategy, cash=3_000, commission=0.01, margin=0.13, hedging=True)\n",
    "    \n",
    "    stats_train = bt_train.optimize(\n",
    "        fastperiod=fastperiod_range,  # Phạm vi tối ưu fastperiod\n",
    "        slowperiod=slowperiod_range,  # Phạm vi tối ưu slowperiod\n",
    "        signalperiod=signalperiod_range,  # Phạm vi tối ưu signalperiod\n",
    "        maximize='Return [%]',  # Tối ưu dựa trên lợi nhuận\n",
    "        random_state=42,\n",
    "        method='grid',\n",
    "        return_heatmap=False\n",
    "    )\n",
    "\n",
    "    # Backtest trên tập validation\n",
    "    print(\"Backtesting on validation set...\")\n",
    "    bt_val = Backtest(val_data, MACDStrategy, cash=3_000, commission=0.01, margin=0.13, hedging=True)\n",
    "    stats_val = bt_val.run()\n",
    "\n",
    "    return stats_train, stats_val\n",
    "\n",
    "# Example usage:\n",
    "fastperiod_range = range(8, 13, 1)\n",
    "slowperiod_range = range(20, 31, 2)\n",
    "signalperiod_range = range(7, 12, 1)\n",
    "stats_train_macd, stats_val_macd = run_backtest_optimize_macd(train_day, valid_day, fastperiod_range, slowperiod_range, signalperiod_range)\n"
   ]
  },
  {
   "cell_type": "code",
   "execution_count": 213,
   "metadata": {},
   "outputs": [
    {
     "data": {
      "text/plain": [
       "Start                     2018-08-13 07:00:00\n",
       "End                       2022-08-30 09:00:00\n",
       "Duration                   1478 days 02:00:00\n",
       "Exposure Time [%]                   93.419741\n",
       "Equity Final [$]                  5831.828708\n",
       "Equity Peak [$]                  11132.239708\n",
       "Return [%]                           94.39429\n",
       "Buy & Hold Return [%]               34.877384\n",
       "Return (Ann.) [%]                   18.375294\n",
       "Volatility (Ann.) [%]            52884.378644\n",
       "Sharpe Ratio                         0.000347\n",
       "Sortino Ratio                        0.245972\n",
       "Calmar Ratio                         0.186241\n",
       "Max. Drawdown [%]                  -98.664264\n",
       "Avg. Drawdown [%]                  -10.235279\n",
       "Max. Drawdown Duration      690 days 00:00:00\n",
       "Avg. Drawdown Duration       47 days 00:00:00\n",
       "# Trades                                   21\n",
       "Win Rate [%]                        76.190476\n",
       "Best Trade [%]                      50.761871\n",
       "Worst Trade [%]                    -49.622663\n",
       "Avg. Trade [%]                      15.956875\n",
       "Max. Trade Duration        1385 days 00:00:00\n",
       "Avg. Trade Duration         548 days 00:00:00\n",
       "Profit Factor                        5.049056\n",
       "Expectancy [%]                      20.279053\n",
       "SQN                                  0.837129\n",
       "_strategy                 MACDStrategy(fas...\n",
       "_equity_curve                             ...\n",
       "_trades                       Size  EntryB...\n",
       "dtype: object"
      ]
     },
     "execution_count": 213,
     "metadata": {},
     "output_type": "execute_result"
    }
   ],
   "source": [
    "stats_train_macd"
   ]
  },
  {
   "cell_type": "code",
   "execution_count": 214,
   "metadata": {},
   "outputs": [
    {
     "data": {
      "text/plain": [
       "Start                     2022-08-31 09:00:00\n",
       "End                       2024-08-30 09:00:00\n",
       "Duration                    730 days 00:00:00\n",
       "Exposure Time [%]                    92.41517\n",
       "Equity Final [$]                      407.798\n",
       "Equity Peak [$]                       3257.24\n",
       "Return [%]                         -86.406733\n",
       "Buy & Hold Return [%]                2.998686\n",
       "Return (Ann.) [%]                  -63.497732\n",
       "Volatility (Ann.) [%]               67.674079\n",
       "Sharpe Ratio                              0.0\n",
       "Sortino Ratio                             0.0\n",
       "Calmar Ratio                              0.0\n",
       "Max. Drawdown [%]                  -88.696013\n",
       "Avg. Drawdown [%]                  -25.882255\n",
       "Max. Drawdown Duration      654 days 00:00:00\n",
       "Avg. Drawdown Duration      169 days 00:00:00\n",
       "# Trades                                    3\n",
       "Win Rate [%]                        33.333333\n",
       "Best Trade [%]                      24.881079\n",
       "Worst Trade [%]                    -53.000933\n",
       "Avg. Trade [%]                     -28.789023\n",
       "Max. Trade Duration         674 days 00:00:00\n",
       "Avg. Trade Duration         643 days 00:00:00\n",
       "Profit Factor                        0.271997\n",
       "Expectancy [%]                     -22.198127\n",
       "SQN                                 -1.529199\n",
       "_strategy                        MACDStrategy\n",
       "_equity_curve                             ...\n",
       "_trades                      Size  EntryBa...\n",
       "dtype: object"
      ]
     },
     "execution_count": 214,
     "metadata": {},
     "output_type": "execute_result"
    }
   ],
   "source": [
    "stats_val_macd"
   ]
  },
  {
   "cell_type": "markdown",
   "metadata": {},
   "source": [
    "### MACD with RSI"
   ]
  },
  {
   "cell_type": "code",
   "execution_count": 216,
   "metadata": {},
   "outputs": [
    {
     "name": "stdout",
     "output_type": "stream",
     "text": [
      "Optimizing MACDWithRSIStrategy on training set...\n"
     ]
    },
    {
     "name": "stderr",
     "output_type": "stream",
     "text": [
      "/Library/Frameworks/Python.framework/Versions/3.11/lib/python3.11/site-packages/backtesting/backtesting.py:1375: UserWarning: For multiprocessing support in `Backtest.optimize()` set multiprocessing start method to 'fork'.\n",
      "  warnings.warn(\"For multiprocessing support in `Backtest.optimize()` \"\n"
     ]
    },
    {
     "data": {
      "application/vnd.jupyter.widget-view+json": {
       "model_id": "c1a692853608401893fd115b1496239b",
       "version_major": 2,
       "version_minor": 0
      },
      "text/plain": [
       "  0%|          | 0/9 [00:00<?, ?it/s]"
      ]
     },
     "metadata": {},
     "output_type": "display_data"
    },
    {
     "name": "stdout",
     "output_type": "stream",
     "text": [
      "Backtesting on validation set...\n"
     ]
    }
   ],
   "source": [
    "import pandas as pd\n",
    "from backtesting import Backtest, Strategy\n",
    "import talib\n",
    "from backtesting.lib import crossover\n",
    "\n",
    "# Chiến lược MACD với RSI và R:R = 1/2\n",
    "class MACDWithRSIStrategy(Strategy):\n",
    "    fastperiod = 12  # MACD Fast EMA period\n",
    "    slowperiod = 26  # MACD Slow EMA period\n",
    "    signalperiod = 9  # Signal period\n",
    "    rsi_period = 14  # RSI period\n",
    "    rsi_overbought = 70\n",
    "    rsi_oversold = 30\n",
    "    risk_reward_ratio = 0.5  # Tỷ lệ R:R = 1/2\n",
    "\n",
    "    def init(self):\n",
    "        # Tính MACD và Signal\n",
    "        self.macd, self.signal, _ = self.I(talib.MACD, self.data.Close, fastperiod=self.fastperiod, \n",
    "                                           slowperiod=self.slowperiod, signalperiod=self.signalperiod)\n",
    "        # Tính RSI để lọc tín hiệu\n",
    "        self.rsi = self.I(talib.RSI, self.data.Close, timeperiod=self.rsi_period)\n",
    "\n",
    "    def next(self):\n",
    "        price_diff = abs(self.data.Close[-1] - self.macd[-1])  # Khoảng cách giữa giá và MACD\n",
    "        if price_diff > 0:\n",
    "            sl = self.data.Close[-1] - price_diff  # Stop loss dựa trên MACD\n",
    "            tp = self.data.Close[-1] + price_diff * self.risk_reward_ratio  # Take profit là một nửa khoảng cách này\n",
    "\n",
    "            # Mua khi MACD cắt lên Signal, MACD > 0 và RSI chưa vào vùng quá mua\n",
    "            if crossover(self.macd, self.signal) and self.macd[-1] > 0 and self.rsi[-1] < self.rsi_overbought:\n",
    "                self.buy(size=1/6, sl=sl, tp=tp)\n",
    "\n",
    "            # Bán khi MACD cắt xuống Signal, MACD < 0 và RSI chưa vào vùng quá bán\n",
    "            elif crossover(self.signal, self.macd) and self.macd[-1] < 0 and self.rsi[-1] > self.rsi_oversold:\n",
    "                sl = self.data.Close[-1] + price_diff\n",
    "                tp = self.data.Close[-1] - price_diff * self.risk_reward_ratio\n",
    "                self.sell(size=1/6, sl=sl, tp=tp)\n",
    "\n",
    "# Hàm backtest với tối ưu hóa cho MACD với RSI\n",
    "def run_backtest_optimize_macd_rsi(train_data, val_data, fastperiod_range, slowperiod_range, signalperiod_range):\n",
    "    # Backtest và tối ưu hóa trên tập train\n",
    "    print(f\"Optimizing MACDWithRSIStrategy on training set...\")\n",
    "    bt_train = Backtest(train_data, MACDWithRSIStrategy, cash=3_000, commission=0.01, margin=0.13, hedging=True)\n",
    "    \n",
    "    stats_train = bt_train.optimize(\n",
    "        fastperiod=fastperiod_range,  # Phạm vi tối ưu fastperiod\n",
    "        slowperiod=slowperiod_range,  # Phạm vi tối ưu slowperiod\n",
    "        signalperiod=signalperiod_range,  # Phạm vi tối ưu signalperiod\n",
    "        maximize='Return [%]',  # Tối ưu dựa trên lợi nhuận\n",
    "        random_state=42,\n",
    "        method='grid',\n",
    "        return_heatmap=False\n",
    "    )\n",
    "\n",
    "    # Backtest trên tập validation\n",
    "    print(\"Backtesting on validation set...\")\n",
    "    bt_val = Backtest(val_data, MACDWithRSIStrategy, cash=3_000, commission=0.01, margin=0.13, hedging=True)\n",
    "    stats_val = bt_val.run()\n",
    "\n",
    "    return stats_train, stats_val\n",
    "\n",
    "# Example usage:\n",
    "fastperiod_range = range(8, 13, 1)\n",
    "slowperiod_range = range(20, 31, 2)\n",
    "signalperiod_range = range(7, 12, 1)\n",
    "stats_train_macd_rsi, stats_val_macd_rsi = run_backtest_optimize_macd_rsi(train_day, valid_day, fastperiod_range, slowperiod_range, signalperiod_range)\n"
   ]
  },
  {
   "cell_type": "code",
   "execution_count": 217,
   "metadata": {},
   "outputs": [
    {
     "data": {
      "text/plain": [
       "Start                     2018-08-13 07:00:00\n",
       "End                       2022-08-30 09:00:00\n",
       "Duration                   1478 days 02:00:00\n",
       "Exposure Time [%]                   93.419741\n",
       "Equity Final [$]                  5850.583793\n",
       "Equity Peak [$]                  11150.994793\n",
       "Return [%]                           95.01946\n",
       "Buy & Hold Return [%]               34.877384\n",
       "Return (Ann.) [%]                   18.471789\n",
       "Volatility (Ann.) [%]            52972.160666\n",
       "Sharpe Ratio                         0.000349\n",
       "Sortino Ratio                        0.247133\n",
       "Calmar Ratio                         0.187219\n",
       "Max. Drawdown [%]                  -98.664264\n",
       "Avg. Drawdown [%]                  -10.317017\n",
       "Max. Drawdown Duration      691 days 00:00:00\n",
       "Avg. Drawdown Duration       47 days 00:00:00\n",
       "# Trades                                   21\n",
       "Win Rate [%]                        76.190476\n",
       "Best Trade [%]                      50.761871\n",
       "Worst Trade [%]                    -49.622663\n",
       "Avg. Trade [%]                      15.950372\n",
       "Max. Trade Duration        1385 days 00:00:00\n",
       "Avg. Trade Duration         548 days 00:00:00\n",
       "Profit Factor                        5.047412\n",
       "Expectancy [%]                      20.270821\n",
       "SQN                                   0.84224\n",
       "_strategy                 MACDWithRSIStrat...\n",
       "_equity_curve                             ...\n",
       "_trades                       Size  EntryB...\n",
       "dtype: object"
      ]
     },
     "execution_count": 217,
     "metadata": {},
     "output_type": "execute_result"
    }
   ],
   "source": [
    "stats_train_macd_rsi"
   ]
  },
  {
   "cell_type": "code",
   "execution_count": 218,
   "metadata": {},
   "outputs": [
    {
     "data": {
      "text/plain": [
       "Start                     2022-08-31 09:00:00\n",
       "End                       2024-08-30 09:00:00\n",
       "Duration                    730 days 00:00:00\n",
       "Exposure Time [%]                   89.421158\n",
       "Equity Final [$]                     1389.219\n",
       "Equity Peak [$]                        3000.0\n",
       "Return [%]                           -53.6927\n",
       "Buy & Hold Return [%]                2.998686\n",
       "Return (Ann.) [%]                  -32.212499\n",
       "Volatility (Ann.) [%]               21.905833\n",
       "Sharpe Ratio                              0.0\n",
       "Sortino Ratio                             0.0\n",
       "Calmar Ratio                              0.0\n",
       "Max. Drawdown [%]                    -54.3527\n",
       "Avg. Drawdown [%]                    -54.3527\n",
       "Max. Drawdown Duration      654 days 00:00:00\n",
       "Avg. Drawdown Duration      654 days 00:00:00\n",
       "# Trades                                    5\n",
       "Win Rate [%]                             40.0\n",
       "Best Trade [%]                      24.881079\n",
       "Worst Trade [%]                    -53.000933\n",
       "Avg. Trade [%]                     -16.165233\n",
       "Max. Trade Duration         653 days 00:00:00\n",
       "Avg. Trade Duration         453 days 00:00:00\n",
       "Profit Factor                        0.412779\n",
       "Expectancy [%]                     -11.292525\n",
       "SQN                                 -0.794258\n",
       "_strategy                 MACDWithRSIStrategy\n",
       "_equity_curve                             ...\n",
       "_trades                      Size  EntryBa...\n",
       "dtype: object"
      ]
     },
     "execution_count": 218,
     "metadata": {},
     "output_type": "execute_result"
    }
   ],
   "source": [
    "stats_val_macd_rsi"
   ]
  },
  {
   "cell_type": "markdown",
   "metadata": {},
   "source": [
    "### MACD với ADX"
   ]
  },
  {
   "cell_type": "code",
   "execution_count": 219,
   "metadata": {},
   "outputs": [
    {
     "name": "stdout",
     "output_type": "stream",
     "text": [
      "Optimizing MACDWithADXStrategy on training set...\n"
     ]
    },
    {
     "name": "stderr",
     "output_type": "stream",
     "text": [
      "/Library/Frameworks/Python.framework/Versions/3.11/lib/python3.11/site-packages/backtesting/backtesting.py:1375: UserWarning: For multiprocessing support in `Backtest.optimize()` set multiprocessing start method to 'fork'.\n",
      "  warnings.warn(\"For multiprocessing support in `Backtest.optimize()` \"\n"
     ]
    },
    {
     "data": {
      "application/vnd.jupyter.widget-view+json": {
       "model_id": "9d3ec6357e1d4d5ba0acf40dddbd1162",
       "version_major": 2,
       "version_minor": 0
      },
      "text/plain": [
       "  0%|          | 0/9 [00:00<?, ?it/s]"
      ]
     },
     "metadata": {},
     "output_type": "display_data"
    },
    {
     "name": "stdout",
     "output_type": "stream",
     "text": [
      "Backtesting on validation set...\n"
     ]
    }
   ],
   "source": [
    "import pandas as pd\n",
    "from backtesting import Backtest, Strategy\n",
    "import talib\n",
    "from backtesting.lib import crossover\n",
    "\n",
    "# Chiến lược MACD với ADX và R:R = 1/2\n",
    "class MACDWithADXStrategy(Strategy):\n",
    "    fastperiod = 12  # MACD Fast EMA period\n",
    "    slowperiod = 26  # MACD Slow EMA period\n",
    "    signalperiod = 9  # Signal period\n",
    "    adx_period = 14  # ADX period\n",
    "    adx_threshold = 25  # ADX threshold để xác định xu hướng mạnh\n",
    "    risk_reward_ratio = 0.5  # Tỷ lệ R:R = 1/2\n",
    "\n",
    "    def init(self):\n",
    "        # Tính MACD và Signal\n",
    "        self.macd, self.signal, _ = self.I(talib.MACD, self.data.Close, fastperiod=self.fastperiod, \n",
    "                                           slowperiod=self.slowperiod, signalperiod=self.signalperiod)\n",
    "        # Tính ADX để xác định xu hướng mạnh\n",
    "        self.adx = self.I(talib.ADX, self.data.High, self.data.Low, self.data.Close, timeperiod=self.adx_period)\n",
    "\n",
    "    def next(self):\n",
    "        price_diff = abs(self.data.Close[-1] - self.macd[-1])  # Khoảng cách giữa giá và MACD\n",
    "        if price_diff > 0:\n",
    "            sl = self.data.Close[-1] - price_diff  # Stop loss dựa trên MACD\n",
    "            tp = self.data.Close[-1] + price_diff * self.risk_reward_ratio  # Take profit là một nửa khoảng cách này\n",
    "\n",
    "            # Mua khi MACD cắt lên Signal, MACD > 0 và ADX > ngưỡng xu hướng mạnh\n",
    "            if crossover(self.macd, self.signal) and self.macd[-1] > 0 and self.adx[-1] > self.adx_threshold:\n",
    "                self.buy(size=1/6, sl=sl, tp=tp)\n",
    "\n",
    "            # Bán khi MACD cắt xuống Signal, MACD < 0 và ADX > ngưỡng xu hướng mạnh\n",
    "            elif crossover(self.signal, self.macd) and self.macd[-1] < 0 and self.adx[-1] > self.adx_threshold:\n",
    "                sl = self.data.Close[-1] + price_diff\n",
    "                tp = self.data.Close[-1] - price_diff * self.risk_reward_ratio\n",
    "                self.sell(size=1/6, sl=sl, tp=tp)\n",
    "\n",
    "# Hàm backtest với tối ưu hóa cho MACD với ADX\n",
    "def run_backtest_optimize_macd_adx(train_data, val_data, fastperiod_range, slowperiod_range, signalperiod_range):\n",
    "    # Backtest và tối ưu hóa trên tập train\n",
    "    print(f\"Optimizing MACDWithADXStrategy on training set...\")\n",
    "    bt_train = Backtest(train_data, MACDWithADXStrategy, cash=3_000, commission=0.01, margin=0.13, hedging=True)\n",
    "    \n",
    "    stats_train = bt_train.optimize(\n",
    "        fastperiod=fastperiod_range,  # Phạm vi tối ưu fastperiod\n",
    "        slowperiod=slowperiod_range,  # Phạm vi tối ưu slowperiod\n",
    "        signalperiod=signalperiod_range,  # Phạm vi tối ưu signalperiod\n",
    "        maximize='Return [%]',  # Tối ưu dựa trên lợi nhuận\n",
    "        random_state=42,\n",
    "        method='grid',\n",
    "        return_heatmap=False\n",
    "    )\n",
    "\n",
    "    # Backtest trên tập validation\n",
    "    print(\"Backtesting on validation set...\")\n",
    "    bt_val = Backtest(val_data, MACDWithADXStrategy, cash=3_000, commission=0.01, margin=0.13, hedging=True)\n",
    "    stats_val = bt_val.run()\n",
    "\n",
    "    return stats_train, stats_val\n",
    "\n",
    "# Example usage:\n",
    "fastperiod_range = range(8, 13, 1)\n",
    "slowperiod_range = range(20, 31, 2)\n",
    "signalperiod_range = range(7, 12, 1)\n",
    "stats_train_macd_adx, stats_val_macd_adx = run_backtest_optimize_macd_adx(train_day, valid_day, fastperiod_range, slowperiod_range, signalperiod_range)\n"
   ]
  },
  {
   "cell_type": "code",
   "execution_count": 220,
   "metadata": {},
   "outputs": [
    {
     "data": {
      "text/plain": [
       "Start                     2018-08-13 07:00:00\n",
       "End                       2022-08-30 09:00:00\n",
       "Duration                   1478 days 02:00:00\n",
       "Exposure Time [%]                    93.32004\n",
       "Equity Final [$]                  3272.854595\n",
       "Equity Peak [$]                   4262.294595\n",
       "Return [%]                           9.095153\n",
       "Buy & Hold Return [%]               34.877384\n",
       "Return (Ann.) [%]                    2.233713\n",
       "Volatility (Ann.) [%]               58.843095\n",
       "Sharpe Ratio                          0.03796\n",
       "Sortino Ratio                        0.070701\n",
       "Calmar Ratio                         0.044981\n",
       "Max. Drawdown [%]                  -49.658762\n",
       "Avg. Drawdown [%]                  -20.740798\n",
       "Max. Drawdown Duration     1223 days 00:00:00\n",
       "Avg. Drawdown Duration      230 days 00:00:00\n",
       "# Trades                                   10\n",
       "Win Rate [%]                             40.0\n",
       "Best Trade [%]                      48.684382\n",
       "Worst Trade [%]                    -55.931621\n",
       "Avg. Trade [%]                     -14.126214\n",
       "Max. Trade Duration        1384 days 00:00:00\n",
       "Avg. Trade Duration         648 days 00:00:00\n",
       "Profit Factor                        0.869697\n",
       "Expectancy [%]                      -2.874845\n",
       "SQN                                  0.096118\n",
       "_strategy                 MACDWithADXStrat...\n",
       "_equity_curve                             ...\n",
       "_trades                      Size  EntryBa...\n",
       "dtype: object"
      ]
     },
     "execution_count": 220,
     "metadata": {},
     "output_type": "execute_result"
    }
   ],
   "source": [
    "stats_train_macd_adx"
   ]
  },
  {
   "cell_type": "code",
   "execution_count": 221,
   "metadata": {},
   "outputs": [
    {
     "data": {
      "text/plain": [
       "Start                     2022-08-31 09:00:00\n",
       "End                       2024-08-30 09:00:00\n",
       "Duration                    730 days 00:00:00\n",
       "Exposure Time [%]                    92.41517\n",
       "Equity Final [$]                       143.13\n",
       "Equity Peak [$]                       3257.24\n",
       "Return [%]                            -95.229\n",
       "Buy & Hold Return [%]                2.998686\n",
       "Return (Ann.) [%]                  -78.487815\n",
       "Volatility (Ann.) [%]              257.199145\n",
       "Sharpe Ratio                              0.0\n",
       "Sortino Ratio                             0.0\n",
       "Calmar Ratio                              0.0\n",
       "Max. Drawdown [%]                  -97.024168\n",
       "Avg. Drawdown [%]                  -27.964293\n",
       "Max. Drawdown Duration      654 days 00:00:00\n",
       "Avg. Drawdown Duration      169 days 00:00:00\n",
       "# Trades                                    2\n",
       "Win Rate [%]                              0.0\n",
       "Best Trade [%]                     -38.474529\n",
       "Worst Trade [%]                    -53.000933\n",
       "Avg. Trade [%]                     -46.226031\n",
       "Max. Trade Duration         674 days 00:00:00\n",
       "Avg. Trade Duration         664 days 00:00:00\n",
       "Profit Factor                             0.0\n",
       "Expectancy [%]                     -45.737731\n",
       "SQN                                -29.805634\n",
       "_strategy                 MACDWithADXStrategy\n",
       "_equity_curve                             ...\n",
       "_trades                      Size  EntryBa...\n",
       "dtype: object"
      ]
     },
     "execution_count": 221,
     "metadata": {},
     "output_type": "execute_result"
    }
   ],
   "source": [
    "stats_val_macd_adx"
   ]
  },
  {
   "cell_type": "markdown",
   "metadata": {},
   "source": [
    "# 1-hour strategies"
   ]
  },
  {
   "cell_type": "markdown",
   "metadata": {},
   "source": [
    "## Breakout"
   ]
  },
  {
   "cell_type": "markdown",
   "metadata": {},
   "source": [
    "### Breakout with Bollinger Bands"
   ]
  },
  {
   "cell_type": "code",
   "execution_count": 346,
   "metadata": {},
   "outputs": [
    {
     "name": "stdout",
     "output_type": "stream",
     "text": [
      "Optimizing on training set...\n"
     ]
    },
    {
     "name": "stderr",
     "output_type": "stream",
     "text": [
      "/Library/Frameworks/Python.framework/Versions/3.11/lib/python3.11/site-packages/backtesting/backtesting.py:1375: UserWarning: For multiprocessing support in `Backtest.optimize()` set multiprocessing start method to 'fork'.\n",
      "  warnings.warn(\"For multiprocessing support in `Backtest.optimize()` \"\n"
     ]
    },
    {
     "data": {
      "application/vnd.jupyter.widget-view+json": {
       "model_id": "e4cfe6364b3e40eeb26d6381a0bf75e0",
       "version_major": 2,
       "version_minor": 0
      },
      "text/plain": [
       "  0%|          | 0/10 [00:00<?, ?it/s]"
      ]
     },
     "metadata": {},
     "output_type": "display_data"
    },
    {
     "name": "stdout",
     "output_type": "stream",
     "text": [
      "Backtesting on validation set...\n"
     ]
    }
   ],
   "source": [
    "import talib\n",
    "import numpy as np\n",
    "from backtesting import Backtest, Strategy\n",
    "from backtesting.lib import crossover\n",
    "\n",
    "# Bollinger Breakout Strategy\n",
    "class BollingerBreakout(Strategy):\n",
    "    bb_period = 20  # Bollinger Bands period\n",
    "    risk_reward_ratio = 2  # Tỷ lệ R:R = 1:2\n",
    "    stop_loss_pct = 0.02  # Stop Loss là 2% dưới giá vào lệnh\n",
    "    take_profit_pct = 0.04  # Take Profit là 4% trên giá vào lệnh\n",
    "    min_diff = 0.001  # Để đảm bảo có chênh lệch hợp lý trước khi đặt lệnh\n",
    "\n",
    "    def init(self):\n",
    "        # Sử dụng Bollinger Bands với các tham số mặc định\n",
    "        self.upper_band, self.middle_band, self.lower_band = self.I(\n",
    "            talib.BBANDS, self.data.Close, timeperiod=self.bb_period, nbdevup=1.5, nbdevdn=1.5, matype=0)\n",
    "\n",
    "    def next(self):\n",
    "        # Kiểm tra điều kiện crossover để vào lệnh\n",
    "        if not self.position:  # Kiểm tra xem không có vị thế nào đang mở\n",
    "            if crossover(self.data.Close, self.upper_band):  # Mua khi giá vượt qua dải trên\n",
    "                sl = self.data.Close[-1] * (1 - self.stop_loss_pct)  # SL là 2% dưới giá hiện tại\n",
    "                tp = self.data.Close[-1] * (1 + self.take_profit_pct)  # TP là 4% trên giá hiện tại\n",
    "                self.buy(size=1/6, sl=sl, tp=tp)\n",
    "            \n",
    "            elif crossover(self.lower_band, self.data.Close):  # Bán khi giá vượt xuống dưới dải dưới\n",
    "                sl = self.data.Close[-1] * (1 + self.stop_loss_pct)  # SL là 2% trên giá hiện tại (cho lệnh bán)\n",
    "                tp = self.data.Close[-1] * (1 - self.take_profit_pct)  # TP là 4% dưới giá hiện tại (cho lệnh bán)\n",
    "                self.sell(size=1/6, sl=sl, tp=tp)\n",
    "\n",
    "\n",
    "\n",
    "# Hàm backtest với hàm optimize\n",
    "def run_backtest_optimize(strategy_class, train_data, val_data, bb_period_range):\n",
    "    # Backtest và tối ưu hóa trên tập train\n",
    "    print(\"Optimizing on training set...\")\n",
    "    bt_train = Backtest(train_data, strategy_class, cash=3_000, commission=.01, margin=0.13, hedging=True)\n",
    "    stats_train = bt_train.optimize(\n",
    "        bb_period=bb_period_range,  # Phạm vi tối ưu bb_period\n",
    "        maximize='Return [%]',  # Tối ưu lợi nhuận Return [%]\n",
    "        random_state=42,\n",
    "        method='grid',\n",
    "        return_heatmap=False\n",
    "    )\n",
    "\n",
    "    # Backtest trên tập validation với thông số tối ưu\n",
    "    print(\"Backtesting on validation set...\")\n",
    "    optimized_bb_period = stats_train._strategy.bb_period\n",
    "    bt_val = Backtest(val_data, strategy_class, cash=3_000, commission=0.01, margin=0.13, hedging=True)\n",
    "    stats_val = bt_val.run(bb_period=optimized_bb_period)\n",
    "    \n",
    "    return stats_train, stats_val\n",
    "\n",
    "# Example: Chạy trên dữ liệu train_day và valid_day\n",
    "bb_period_range = range(10, 101, 5)  # Điều chỉnh khoảng giá trị bb_period\n",
    "stats_train, stats_val = run_backtest_optimize(BollingerBreakout, train_hour, valid_hour, bb_period_range)"
   ]
  },
  {
   "cell_type": "code",
   "execution_count": 347,
   "metadata": {},
   "outputs": [
    {
     "data": {
      "text/plain": [
       "Start                     2018-08-13 09:00:00\n",
       "End                       2022-08-25 11:00:00\n",
       "Duration                   1473 days 02:00:00\n",
       "Exposure Time [%]                   74.249354\n",
       "Equity Final [$]                     3693.098\n",
       "Equity Peak [$]                      5259.579\n",
       "Return [%]                          23.103267\n",
       "Buy & Hold Return [%]               36.585624\n",
       "Return (Ann.) [%]                    5.339149\n",
       "Volatility (Ann.) [%]               21.360342\n",
       "Sharpe Ratio                         0.249956\n",
       "Sortino Ratio                         0.40174\n",
       "Calmar Ratio                         0.170142\n",
       "Max. Drawdown [%]                  -31.380477\n",
       "Avg. Drawdown [%]                   -3.256751\n",
       "Max. Drawdown Duration      517 days 01:00:00\n",
       "Avg. Drawdown Duration       26 days 00:00:00\n",
       "# Trades                                  104\n",
       "Win Rate [%]                        52.884615\n",
       "Best Trade [%]                       5.104139\n",
       "Worst Trade [%]                     -3.745332\n",
       "Avg. Trade [%]                       0.152717\n",
       "Max. Trade Duration          64 days 04:00:00\n",
       "Avg. Trade Duration          10 days 05:00:00\n",
       "Profit Factor                        1.141799\n",
       "Expectancy [%]                       0.198936\n",
       "SQN                                  0.500004\n",
       "_strategy                 BollingerBreakou...\n",
       "_equity_curve                             ...\n",
       "_trades                        Size  Entry...\n",
       "dtype: object"
      ]
     },
     "execution_count": 347,
     "metadata": {},
     "output_type": "execute_result"
    }
   ],
   "source": [
    "stats_train"
   ]
  },
  {
   "cell_type": "code",
   "execution_count": 348,
   "metadata": {},
   "outputs": [
    {
     "data": {
      "text/plain": [
       "Start                     2022-08-25 13:00:00\n",
       "End                       2024-08-30 14:00:00\n",
       "Duration                    736 days 01:00:00\n",
       "Exposure Time [%]                   73.826571\n",
       "Equity Final [$]                     2798.877\n",
       "Equity Peak [$]                      3419.534\n",
       "Return [%]                            -6.7041\n",
       "Buy & Hold Return [%]                2.760429\n",
       "Return (Ann.) [%]                   -3.410197\n",
       "Volatility (Ann.) [%]               18.019947\n",
       "Sharpe Ratio                              0.0\n",
       "Sortino Ratio                             0.0\n",
       "Calmar Ratio                              0.0\n",
       "Max. Drawdown [%]                  -26.570433\n",
       "Avg. Drawdown [%]                   -3.437023\n",
       "Max. Drawdown Duration      689 days 01:00:00\n",
       "Avg. Drawdown Duration       64 days 19:00:00\n",
       "# Trades                                   59\n",
       "Win Rate [%]                        49.152542\n",
       "Best Trade [%]                       3.288722\n",
       "Worst Trade [%]                     -3.852004\n",
       "Avg. Trade [%]                      -0.126972\n",
       "Max. Trade Duration          47 days 00:00:00\n",
       "Avg. Trade Duration           8 days 22:00:00\n",
       "Profit Factor                        0.944574\n",
       "Expectancy [%]                      -0.083218\n",
       "SQN                                 -0.276221\n",
       "_strategy                 BollingerBreakou...\n",
       "_equity_curve                             ...\n",
       "_trades                       Size  EntryB...\n",
       "dtype: object"
      ]
     },
     "execution_count": 348,
     "metadata": {},
     "output_type": "execute_result"
    }
   ],
   "source": [
    "stats_val "
   ]
  },
  {
   "cell_type": "markdown",
   "metadata": {},
   "source": [
    "### Breakout with Volume"
   ]
  },
  {
   "cell_type": "code",
   "execution_count": 349,
   "metadata": {},
   "outputs": [
    {
     "name": "stdout",
     "output_type": "stream",
     "text": [
      "Optimizing on training set...\n"
     ]
    },
    {
     "name": "stderr",
     "output_type": "stream",
     "text": [
      "/Library/Frameworks/Python.framework/Versions/3.11/lib/python3.11/site-packages/backtesting/backtesting.py:1375: UserWarning: For multiprocessing support in `Backtest.optimize()` set multiprocessing start method to 'fork'.\n",
      "  warnings.warn(\"For multiprocessing support in `Backtest.optimize()` \"\n"
     ]
    },
    {
     "data": {
      "application/vnd.jupyter.widget-view+json": {
       "model_id": "7cab50152394495986573342a6777e95",
       "version_major": 2,
       "version_minor": 0
      },
      "text/plain": [
       "  0%|          | 0/10 [00:00<?, ?it/s]"
      ]
     },
     "metadata": {},
     "output_type": "display_data"
    },
    {
     "name": "stdout",
     "output_type": "stream",
     "text": [
      "Backtesting on validation set...\n"
     ]
    }
   ],
   "source": [
    "import talib\n",
    "import numpy as np\n",
    "import pandas as pd\n",
    "from backtesting import Backtest, Strategy\n",
    "\n",
    "class VolumeBreakout(Strategy):\n",
    "    risk_reward_ratio = 2  # Tỷ lệ R:R = 1:2\n",
    "    volume_period = 20  # Số phiên trung bình khối lượng\n",
    "    stop_loss_pct = 0.02  # Stop Loss là 2% dưới/ trên giá vào lệnh\n",
    "    take_profit_pct = 0.04  # Take Profit là 4% trên/ dưới giá vào lệnh\n",
    "\n",
    "    def init(self):\n",
    "        # Chuyển đổi khối lượng thành kiểu float64 để phù hợp với talib\n",
    "        volume_float = self.data.Volume.astype(np.float64)\n",
    "        # Tính khối lượng trung bình\n",
    "        self.volume_avg = self.I(talib.SMA, volume_float, timeperiod=self.volume_period)\n",
    "\n",
    "    def next(self):\n",
    "        # Kiểm tra khối lượng hiện tại có vượt khối lượng trung bình không\n",
    "        if self.data.Volume[-1] > self.volume_avg[-1]:\n",
    "            if not self.position:  # Kiểm tra xem có vị thế nào đang mở không\n",
    "                # Lệnh mua\n",
    "                if self.data.Close[-1] > self.data.Open[-1]:\n",
    "                    sl = self.data.Close[-1] * (1 - self.stop_loss_pct)  # SL là 2% dưới giá hiện tại\n",
    "                    tp = self.data.Close[-1] * (1 + self.take_profit_pct)  # TP là 4% trên giá hiện tại\n",
    "                    self.buy(size=1/6, sl=sl, tp=tp)\n",
    "\n",
    "                # Lệnh bán\n",
    "                elif self.data.Close[-1] < self.data.Open[-1]:\n",
    "                    sl = self.data.Close[-1] * (1 + self.stop_loss_pct)  # SL là 2% trên giá hiện tại\n",
    "                    tp = self.data.Close[-1] * (1 - self.take_profit_pct)  # TP là 4% dưới giá hiện tại\n",
    "                    self.sell(size=1/6, sl=sl, tp=tp)\n",
    "\n",
    "\n",
    "# Hàm để thực hiện tối ưu hóa và backtest\n",
    "def run_backtest_optimize(strategy_class, train_data, val_data, volume_period_range):\n",
    "    # Backtest và tối ưu hóa trên tập train\n",
    "    print(\"Optimizing on training set...\")\n",
    "    bt_train = Backtest(train_data, strategy_class, cash=3_000, commission=0.01, margin=0.13, hedging=True)\n",
    "    stats_train = bt_train.optimize(\n",
    "        volume_period=volume_period_range,  # Phạm vi tối ưu volume_period\n",
    "        maximize='Return [%]',  # Tối ưu Sharpe Ratio\n",
    "        random_state=42,\n",
    "        method='grid',\n",
    "        return_heatmap=False\n",
    "    )\n",
    "\n",
    "    # Backtest trên tập validation\n",
    "    print(\"Backtesting on validation set...\")\n",
    "    bt_val = Backtest(val_data, strategy_class, cash=3_000, commission=0.01, margin=0.13, hedging=True)\n",
    "    stats_val = bt_val.run()\n",
    "\n",
    "    return stats_train, stats_val\n",
    "\n",
    "# Example usage\n",
    "volume_period_range = range(10, 101, 5)  # Điều chỉnh khoảng giá trị volume_period\n",
    "stats_train, stats_val = run_backtest_optimize(VolumeBreakout, train_hour, valid_hour, volume_period_range)\n"
   ]
  },
  {
   "cell_type": "code",
   "execution_count": 350,
   "metadata": {},
   "outputs": [
    {
     "data": {
      "text/plain": [
       "Start                     2018-08-13 09:00:00\n",
       "End                       2022-08-25 11:00:00\n",
       "Duration                   1473 days 02:00:00\n",
       "Exposure Time [%]                   94.531716\n",
       "Equity Final [$]                      1263.98\n",
       "Equity Peak [$]                       3414.92\n",
       "Return [%]                         -57.867333\n",
       "Buy & Hold Return [%]               36.585624\n",
       "Return (Ann.) [%]                  -19.450742\n",
       "Volatility (Ann.) [%]               18.624058\n",
       "Sharpe Ratio                              0.0\n",
       "Sortino Ratio                             0.0\n",
       "Calmar Ratio                              0.0\n",
       "Max. Drawdown [%]                   -62.98947\n",
       "Avg. Drawdown [%]                    -6.06161\n",
       "Max. Drawdown Duration     1276 days 21:00:00\n",
       "Avg. Drawdown Duration       96 days 14:00:00\n",
       "# Trades                                  170\n",
       "Win Rate [%]                             40.0\n",
       "Best Trade [%]                       5.743481\n",
       "Worst Trade [%]                     -4.884552\n",
       "Avg. Trade [%]                      -0.589598\n",
       "Max. Trade Duration         102 days 04:00:00\n",
       "Avg. Trade Duration           8 days 02:00:00\n",
       "Profit Factor                         0.69646\n",
       "Expectancy [%]                      -0.543904\n",
       "SQN                                 -1.770977\n",
       "_strategy                 VolumeBreakout(v...\n",
       "_equity_curve                             ...\n",
       "_trades                        Size  Entry...\n",
       "dtype: object"
      ]
     },
     "execution_count": 350,
     "metadata": {},
     "output_type": "execute_result"
    }
   ],
   "source": [
    "stats_train"
   ]
  },
  {
   "cell_type": "code",
   "execution_count": 351,
   "metadata": {},
   "outputs": [
    {
     "data": {
      "text/plain": [
       "Start                     2022-08-25 13:00:00\n",
       "End                       2024-08-30 14:00:00\n",
       "Duration                    736 days 01:00:00\n",
       "Exposure Time [%]                   96.062053\n",
       "Equity Final [$]                     2327.627\n",
       "Equity Peak [$]                      3457.852\n",
       "Return [%]                         -22.412433\n",
       "Buy & Hold Return [%]                2.760429\n",
       "Return (Ann.) [%]                  -11.916195\n",
       "Volatility (Ann.) [%]               21.244789\n",
       "Sharpe Ratio                              0.0\n",
       "Sortino Ratio                             0.0\n",
       "Calmar Ratio                              0.0\n",
       "Max. Drawdown [%]                  -36.715018\n",
       "Avg. Drawdown [%]                   -6.731836\n",
       "Max. Drawdown Duration      669 days 03:00:00\n",
       "Avg. Drawdown Duration       72 days 17:00:00\n",
       "# Trades                                   97\n",
       "Win Rate [%]                        46.391753\n",
       "Best Trade [%]                       4.317095\n",
       "Worst Trade [%]                     -3.723313\n",
       "Avg. Trade [%]                      -0.257865\n",
       "Max. Trade Duration          48 days 23:00:00\n",
       "Avg. Trade Duration           7 days 02:00:00\n",
       "Profit Factor                        0.869561\n",
       "Expectancy [%]                      -0.211568\n",
       "SQN                                 -0.737897\n",
       "_strategy                      VolumeBreakout\n",
       "_equity_curve                             ...\n",
       "_trades                       Size  EntryB...\n",
       "dtype: object"
      ]
     },
     "execution_count": 351,
     "metadata": {},
     "output_type": "execute_result"
    }
   ],
   "source": [
    "stats_val"
   ]
  },
  {
   "cell_type": "markdown",
   "metadata": {},
   "source": [
    "### Breakout with RSI"
   ]
  },
  {
   "cell_type": "code",
   "execution_count": 355,
   "metadata": {},
   "outputs": [
    {
     "name": "stdout",
     "output_type": "stream",
     "text": [
      "Optimizing on training set...\n"
     ]
    },
    {
     "name": "stderr",
     "output_type": "stream",
     "text": [
      "/Library/Frameworks/Python.framework/Versions/3.11/lib/python3.11/site-packages/backtesting/backtesting.py:1375: UserWarning: For multiprocessing support in `Backtest.optimize()` set multiprocessing start method to 'fork'.\n",
      "  warnings.warn(\"For multiprocessing support in `Backtest.optimize()` \"\n"
     ]
    },
    {
     "data": {
      "application/vnd.jupyter.widget-view+json": {
       "model_id": "a4f0e92888694fabb1ce9b91b6e40e66",
       "version_major": 2,
       "version_minor": 0
      },
      "text/plain": [
       "  0%|          | 0/9 [00:00<?, ?it/s]"
      ]
     },
     "metadata": {},
     "output_type": "display_data"
    },
    {
     "name": "stdout",
     "output_type": "stream",
     "text": [
      "Backtesting on validation set...\n"
     ]
    }
   ],
   "source": [
    "import talib\n",
    "import numpy as np\n",
    "import pandas as pd\n",
    "from backtesting import Backtest, Strategy\n",
    "from backtesting.lib import crossover\n",
    "\n",
    "# Chiến thuật Break-out với RSI có Stop Loss, Take Profit và kích thước 1/6\n",
    "class RSI_Breakout(Strategy):\n",
    "    rsi_period = 14\n",
    "    rsi_lower = 35  # Điều chỉnh ngưỡng quá bán để tăng số lượng giao dịch\n",
    "    rsi_upper = 65  # Điều chỉnh ngưỡng quá mua để tăng số lượng giao dịch\n",
    "    stop_loss_pct = 0.02  # Stop Loss 2%\n",
    "    take_profit_pct = 0.04  # Take Profit 4%\n",
    "\n",
    "    def init(self):\n",
    "        # Tính chỉ báo RSI\n",
    "        self.rsi = self.I(talib.RSI, self.data.Close, self.rsi_period)\n",
    "\n",
    "    def next(self):\n",
    "        # Mua khi RSI dưới ngưỡng quá bán\n",
    "        if not self.position and self.rsi[-1] < self.rsi_lower:\n",
    "            sl = self.data.Close[-1] * (1 - self.stop_loss_pct)\n",
    "            tp = self.data.Close[-1] * (1 + self.take_profit_pct)\n",
    "            self.buy(size=1/6, sl=sl, tp=tp)  # Mở lệnh mua với Stop Loss và Take Profit\n",
    "\n",
    "        # Bán khi RSI vượt ngưỡng quá mua\n",
    "        elif not self.position and self.rsi[-1] > self.rsi_upper:\n",
    "            sl = self.data.Close[-1] * (1 + self.stop_loss_pct)\n",
    "            tp = self.data.Close[-1] * (1 - self.take_profit_pct)\n",
    "            self.sell(size=1/6, sl=sl, tp=tp)  # Mở lệnh bán với Stop Loss và Take Profit\n",
    "\n",
    "\n",
    "# Hàm để thực hiện backtest và tối ưu hóa\n",
    "def run_backtest_optimize(strategy_class, train_data, val_data, rsi_period_range, rsi_lower_range, rsi_upper_range):\n",
    "    # Backtest và tối ưu hóa trên tập train\n",
    "    print(\"Optimizing on training set...\")\n",
    "    bt_train = Backtest(train_data, strategy_class, cash=3_000, commission=0.01, margin=0.13, hedging=True)\n",
    "    stats_train = bt_train.optimize(\n",
    "        rsi_period=rsi_period_range,  # Phạm vi tối ưu rsi_period\n",
    "        rsi_lower=rsi_lower_range,  # Phạm vi tối ưu rsi_lower\n",
    "        rsi_upper=rsi_upper_range,  # Phạm vi tối ưu rsi_upper\n",
    "        maximize='Return [%]',  # Tối ưu dựa trên lợi nhuận\n",
    "        constraint=lambda params: params.rsi_lower < params.rsi_upper,  # Điều kiện hợp lệ cho RSI\n",
    "        random_state=42,\n",
    "        method='grid',\n",
    "        return_heatmap=False\n",
    "    )\n",
    "\n",
    "    # Backtest trên tập validation\n",
    "    print(\"Backtesting on validation set...\")\n",
    "    bt_val = Backtest(val_data, strategy_class, cash=3_000, commission=0.01, margin=0.13, hedging=True)\n",
    "    stats_val = bt_val.run()\n",
    "\n",
    "    return stats_train, stats_val\n",
    "\n",
    "# Example usage\n",
    "rsi_period_range = range(10, 31, 5)  # Điều chỉnh khoảng giá trị rsi_period\n",
    "rsi_lower_range = range(20, 46, 5)  # Điều chỉnh khoảng giá trị rsi_lower\n",
    "rsi_upper_range = range(60, 86, 5)  # Điều chỉnh khoảng giá trị rsi_upper\n",
    "\n",
    "# Thực hiện backtest và tối ưu hóa\n",
    "stats_train, stats_val = run_backtest_optimize(RSI_Breakout,  train_hour, valid_hour, rsi_period_range, rsi_lower_range, rsi_upper_range)\n"
   ]
  },
  {
   "cell_type": "code",
   "execution_count": 356,
   "metadata": {},
   "outputs": [
    {
     "data": {
      "text/plain": [
       "Start                     2018-08-13 09:00:00\n",
       "End                       2022-08-25 11:00:00\n",
       "Duration                   1473 days 02:00:00\n",
       "Exposure Time [%]                    1.391927\n",
       "Equity Final [$]                     2839.425\n",
       "Equity Peak [$]                      3094.916\n",
       "Return [%]                            -5.3525\n",
       "Buy & Hold Return [%]               36.585624\n",
       "Return (Ann.) [%]                   -1.367201\n",
       "Volatility (Ann.) [%]                3.873802\n",
       "Sharpe Ratio                              0.0\n",
       "Sortino Ratio                             0.0\n",
       "Calmar Ratio                              0.0\n",
       "Max. Drawdown [%]                  -11.980002\n",
       "Avg. Drawdown [%]                   -5.304164\n",
       "Max. Drawdown Duration     1408 days 02:00:00\n",
       "Avg. Drawdown Duration      471 days 01:00:00\n",
       "# Trades                                    3\n",
       "Win Rate [%]                        33.333333\n",
       "Best Trade [%]                       3.001094\n",
       "Worst Trade [%]                     -4.090486\n",
       "Avg. Trade [%]                      -1.416041\n",
       "Max. Trade Duration          11 days 03:00:00\n",
       "Avg. Trade Duration           7 days 04:00:00\n",
       "Profit Factor                        0.422505\n",
       "Expectancy [%]                      -1.367336\n",
       "SQN                                 -0.684149\n",
       "_strategy                 RSI_Breakout(rsi...\n",
       "_equity_curve                             ...\n",
       "_trades                      Size  EntryBa...\n",
       "dtype: object"
      ]
     },
     "execution_count": 356,
     "metadata": {},
     "output_type": "execute_result"
    }
   ],
   "source": [
    "stats_train"
   ]
  },
  {
   "cell_type": "code",
   "execution_count": 357,
   "metadata": {},
   "outputs": [
    {
     "data": {
      "text/plain": [
       "Start                     2022-08-25 13:00:00\n",
       "End                       2024-08-30 14:00:00\n",
       "Duration                    736 days 01:00:00\n",
       "Exposure Time [%]                   71.599045\n",
       "Equity Final [$]                       950.58\n",
       "Equity Peak [$]                        3000.0\n",
       "Return [%]                            -68.314\n",
       "Buy & Hold Return [%]                2.760429\n",
       "Return (Ann.) [%]                  -43.709681\n",
       "Volatility (Ann.) [%]               10.056975\n",
       "Sharpe Ratio                              0.0\n",
       "Sortino Ratio                             0.0\n",
       "Calmar Ratio                              0.0\n",
       "Max. Drawdown [%]                     -68.314\n",
       "Avg. Drawdown [%]                     -68.314\n",
       "Max. Drawdown Duration      723 days 00:00:00\n",
       "Avg. Drawdown Duration      723 days 00:00:00\n",
       "# Trades                                   82\n",
       "Win Rate [%]                        26.829268\n",
       "Best Trade [%]                       3.903947\n",
       "Worst Trade [%]                     -3.920116\n",
       "Avg. Trade [%]                       -1.47273\n",
       "Max. Trade Duration          66 days 23:00:00\n",
       "Avg. Trade Duration           6 days 00:00:00\n",
       "Profit Factor                        0.348888\n",
       "Expectancy [%]                      -1.437891\n",
       "SQN                                 -5.369272\n",
       "_strategy                        RSI_Breakout\n",
       "_equity_curve                             ...\n",
       "_trades                       Size  EntryB...\n",
       "dtype: object"
      ]
     },
     "execution_count": 357,
     "metadata": {},
     "output_type": "execute_result"
    }
   ],
   "source": [
    "stats_val"
   ]
  },
  {
   "cell_type": "markdown",
   "metadata": {},
   "source": [
    "### Keltner Breakout"
   ]
  },
  {
   "cell_type": "code",
   "execution_count": 358,
   "metadata": {},
   "outputs": [
    {
     "name": "stdout",
     "output_type": "stream",
     "text": [
      "Optimizing KeltnerBreakout on training set...\n"
     ]
    },
    {
     "name": "stderr",
     "output_type": "stream",
     "text": [
      "/Library/Frameworks/Python.framework/Versions/3.11/lib/python3.11/site-packages/backtesting/backtesting.py:1375: UserWarning: For multiprocessing support in `Backtest.optimize()` set multiprocessing start method to 'fork'.\n",
      "  warnings.warn(\"For multiprocessing support in `Backtest.optimize()` \"\n"
     ]
    },
    {
     "data": {
      "application/vnd.jupyter.widget-view+json": {
       "model_id": "c4fc4cbfcb5243b88016c3dcae25f00f",
       "version_major": 2,
       "version_minor": 0
      },
      "text/plain": [
       "  0%|          | 0/10 [00:00<?, ?it/s]"
      ]
     },
     "metadata": {},
     "output_type": "display_data"
    },
    {
     "name": "stdout",
     "output_type": "stream",
     "text": [
      "Backtesting on validation set...\n"
     ]
    }
   ],
   "source": [
    "import talib\n",
    "import numpy as np\n",
    "from backtesting import Backtest, Strategy\n",
    "\n",
    "# Keltner Channel Breakout Strategy\n",
    "class KeltnerBreakout(Strategy):\n",
    "    atr_period = 14  # Số phiên tính toán ATR\n",
    "    risk_reward_ratio = 2  # Tỷ lệ R:R = 1:2\n",
    "    stop_loss_pct = 0.02  # 2% Stop Loss\n",
    "    take_profit_pct = 0.04  # 4% Take Profit\n",
    "\n",
    "    def init(self):\n",
    "        # Tính đường trung bình động và ATR\n",
    "        self.middle_band = self.I(talib.EMA, self.data.Close, self.atr_period)\n",
    "        self.atr = self.I(talib.ATR, self.data.High, self.data.Low, self.data.Close, self.atr_period)\n",
    "        \n",
    "        # Tạo dải trên và dải dưới dựa trên ATR\n",
    "        self.upper_band = self.middle_band + self.atr\n",
    "        self.lower_band = self.middle_band - self.atr\n",
    "\n",
    "    def next(self):\n",
    "        # Mua khi giá vượt qua dải trên của Keltner Channel\n",
    "        if self.data.Close[-1] > self.upper_band[-1]:\n",
    "            sl = self.data.Close[-1] * (1 - self.stop_loss_pct)  # Stop Loss 2% dưới giá hiện tại\n",
    "            tp = self.data.Close[-1] * (1 + self.take_profit_pct)  # Take Profit 4% trên giá hiện tại\n",
    "            self.buy(size=1/6, sl=sl, tp=tp)\n",
    "\n",
    "        # Bán khi giá vượt xuống dưới dải dưới của Keltner Channel\n",
    "        elif self.data.Close[-1] < self.lower_band[-1]:\n",
    "            sl = self.data.Close[-1] * (1 + self.stop_loss_pct)  # Stop Loss 2% trên giá hiện tại\n",
    "            tp = self.data.Close[-1] * (1 - self.take_profit_pct)  # Take Profit 4% dưới giá hiện tại\n",
    "            self.sell(size=1/6, sl=sl, tp=tp)\n",
    "\n",
    "# Hàm backtest và tối ưu hóa Keltner Breakout\n",
    "def run_backtest_optimize_keltner(train_data, val_data, period_range):\n",
    "    # Backtest và tối ưu hóa trên tập train\n",
    "    print(f\"Optimizing KeltnerBreakout on training set...\")\n",
    "    bt_train = Backtest(train_data, KeltnerBreakout, cash=3_000, commission=0.01, margin=0.13, hedging=True)\n",
    "    \n",
    "    stats_train = bt_train.optimize(\n",
    "        atr_period=period_range,  # Phạm vi tối ưu atr_period\n",
    "        maximize='Return [%]',  # Tối ưu dựa trên lợi nhuận\n",
    "        random_state=42,\n",
    "        method='grid',\n",
    "        return_heatmap=False\n",
    "    )\n",
    "\n",
    "    # Backtest trên tập validation\n",
    "    print(\"Backtesting on validation set...\")\n",
    "    bt_val = Backtest(val_data, KeltnerBreakout, cash=3_000, commission=0.01, margin=0.13, hedging=True)\n",
    "    stats_val = bt_val.run()\n",
    "\n",
    "    return stats_train, stats_val\n",
    "\n",
    "# Example usage:\n",
    "atr_period_range = range(10, 101, 5)  # Điều chỉnh khoảng giá trị atr_period\n",
    "stats_train_keltner, stats_val_keltner = run_backtest_optimize_keltner( train_hour, valid_hour, atr_period_range)\n"
   ]
  },
  {
   "cell_type": "code",
   "execution_count": 359,
   "metadata": {},
   "outputs": [
    {
     "data": {
      "text/plain": [
       "Start                     2018-08-13 09:00:00\n",
       "End                       2022-08-25 11:00:00\n",
       "Duration                   1473 days 02:00:00\n",
       "Exposure Time [%]                   49.353748\n",
       "Equity Final [$]                      630.338\n",
       "Equity Peak [$]                        3000.0\n",
       "Return [%]                         -78.988733\n",
       "Buy & Hold Return [%]               36.585624\n",
       "Return (Ann.) [%]                  -32.322416\n",
       "Volatility (Ann.) [%]               22.542486\n",
       "Sharpe Ratio                              0.0\n",
       "Sortino Ratio                             0.0\n",
       "Calmar Ratio                              0.0\n",
       "Max. Drawdown [%]                  -79.687533\n",
       "Avg. Drawdown [%]                  -79.687533\n",
       "Max. Drawdown Duration     1470 days 01:00:00\n",
       "Avg. Drawdown Duration     1470 days 01:00:00\n",
       "# Trades                                  246\n",
       "Win Rate [%]                         34.95935\n",
       "Best Trade [%]                       6.024029\n",
       "Worst Trade [%]                     -5.902228\n",
       "Avg. Trade [%]                      -0.915433\n",
       "Max. Trade Duration         101 days 21:00:00\n",
       "Avg. Trade Duration           7 days 05:00:00\n",
       "Profit Factor                        0.553732\n",
       "Expectancy [%]                      -0.870666\n",
       "SQN                                 -5.336366\n",
       "_strategy                 KeltnerBreakout(...\n",
       "_equity_curve                             ...\n",
       "_trades                        Size  Entry...\n",
       "dtype: object"
      ]
     },
     "execution_count": 359,
     "metadata": {},
     "output_type": "execute_result"
    }
   ],
   "source": [
    "stats_train_keltner"
   ]
  },
  {
   "cell_type": "code",
   "execution_count": 360,
   "metadata": {},
   "outputs": [
    {
     "data": {
      "text/plain": [
       "Start                     2022-08-25 13:00:00\n",
       "End                       2024-08-30 14:00:00\n",
       "Duration                    736 days 01:00:00\n",
       "Exposure Time [%]                   84.208433\n",
       "Equity Final [$]                      920.984\n",
       "Equity Peak [$]                      6456.321\n",
       "Return [%]                         -69.300533\n",
       "Buy & Hold Return [%]                2.760429\n",
       "Return (Ann.) [%]                  -44.592901\n",
       "Volatility (Ann.) [%]               37.362837\n",
       "Sharpe Ratio                              0.0\n",
       "Sortino Ratio                             0.0\n",
       "Calmar Ratio                              0.0\n",
       "Max. Drawdown [%]                  -85.735158\n",
       "Avg. Drawdown [%]                  -10.781608\n",
       "Max. Drawdown Duration      689 days 03:00:00\n",
       "Avg. Drawdown Duration       51 days 09:00:00\n",
       "# Trades                                  357\n",
       "Win Rate [%]                        47.058824\n",
       "Best Trade [%]                       4.317095\n",
       "Worst Trade [%]                     -5.220411\n",
       "Avg. Trade [%]                      -0.216413\n",
       "Max. Trade Duration          72 days 22:00:00\n",
       "Avg. Trade Duration           6 days 11:00:00\n",
       "Profit Factor                        0.892924\n",
       "Expectancy [%]                      -0.170435\n",
       "SQN                                  -1.55825\n",
       "_strategy                     KeltnerBreakout\n",
       "_equity_curve                             ...\n",
       "_trades                        Size  Entry...\n",
       "dtype: object"
      ]
     },
     "execution_count": 360,
     "metadata": {},
     "output_type": "execute_result"
    }
   ],
   "source": [
    "stats_val_keltner"
   ]
  },
  {
   "cell_type": "markdown",
   "metadata": {},
   "source": [
    "## Mean Reverse"
   ]
  },
  {
   "cell_type": "markdown",
   "metadata": {},
   "source": [
    "### Looser Mean Reversion"
   ]
  },
  {
   "cell_type": "code",
   "execution_count": 329,
   "metadata": {},
   "outputs": [
    {
     "name": "stdout",
     "output_type": "stream",
     "text": [
      "Optimizing on training set...\n"
     ]
    },
    {
     "name": "stderr",
     "output_type": "stream",
     "text": [
      "/Library/Frameworks/Python.framework/Versions/3.11/lib/python3.11/site-packages/backtesting/backtesting.py:1488: UserWarning: Searching for best of 360 configurations.\n",
      "  output = _optimize_grid()\n",
      "/Library/Frameworks/Python.framework/Versions/3.11/lib/python3.11/site-packages/backtesting/backtesting.py:1375: UserWarning: For multiprocessing support in `Backtest.optimize()` set multiprocessing start method to 'fork'.\n",
      "  warnings.warn(\"For multiprocessing support in `Backtest.optimize()` \"\n"
     ]
    },
    {
     "data": {
      "application/vnd.jupyter.widget-view+json": {
       "model_id": "53fb286f0a6b42a99994a4f52280055e",
       "version_major": 2,
       "version_minor": 0
      },
      "text/plain": [
       "  0%|          | 0/8 [00:00<?, ?it/s]"
      ]
     },
     "metadata": {},
     "output_type": "display_data"
    },
    {
     "name": "stdout",
     "output_type": "stream",
     "text": [
      "Backtesting on validation set...\n"
     ]
    }
   ],
   "source": [
    "import talib\n",
    "import numpy as np\n",
    "import pandas as pd\n",
    "from backtesting import Backtest, Strategy\n",
    "from backtesting.lib import crossover\n",
    "\n",
    "# Mean Reversion Strategy\n",
    "class MeanReversionLooser(Strategy):\n",
    "    bb_period = 20  # Bollinger Bands period\n",
    "    rsi_period = 14  # RSI period\n",
    "    rsi_lower = 30  # RSI lower bound (oversold)\n",
    "    rsi_upper = 70  # RSI upper bound (overbought)\n",
    "    risk_reward_ratio = 2  # Risk-Reward ratio\n",
    "    stop_loss_pct = 0.02  # Stop loss là 2% dưới hoặc trên giá vào lệnh\n",
    "    take_profit_pct = 0.04  # Take profit là 4% trên hoặc dưới giá vào lệnh\n",
    "\n",
    "    def init(self):\n",
    "        # Tính toán dải Bollinger Bands\n",
    "        self.upper_band, self.middle_band, self.lower_band = self.I(\n",
    "            talib.BBANDS, self.data.Close, timeperiod=self.bb_period, nbdevup=1.5, nbdevdn=1.5, matype=0)\n",
    "        \n",
    "        # Tính toán chỉ báo RSI\n",
    "        self.rsi = self.I(talib.RSI, self.data.Close, timeperiod=self.rsi_period)\n",
    "\n",
    "    def next(self):\n",
    "        # Điều kiện Mua: Khi giá đóng cửa dưới dải dưới và RSI < rsi_lower\n",
    "        if self.data.Close[-1] < self.lower_band[-1] and self.rsi[-1] < self.rsi_lower:\n",
    "            sl = self.data.Close[-1] * (1 - self.stop_loss_pct)  # Stop loss là 2% dưới giá hiện tại\n",
    "            tp = self.data.Close[-1] * (1 + self.take_profit_pct)  # Take profit là 4% trên giá hiện tại\n",
    "            self.buy(size=1/6, sl=sl, tp=tp)\n",
    "\n",
    "        # Điều kiện Bán: Khi giá đóng cửa trên dải trên và RSI > rsi_upper\n",
    "        elif self.data.Close[-1] > self.upper_band[-1] and self.rsi[-1] > self.rsi_upper:\n",
    "            sl = self.data.Close[-1] * (1 + self.stop_loss_pct)  # Stop loss là 2% trên giá hiện tại\n",
    "            tp = self.data.Close[-1] * (1 - self.take_profit_pct)  # Take profit là 4% dưới giá hiện tại\n",
    "            self.sell(size=1/6, sl=sl, tp=tp)\n",
    "\n",
    "\n",
    "# Hàm backtest và tối ưu hóa\n",
    "def run_backtest_optimize(strategy_class, train_data, val_data, bb_period_range, rsi_period_range, rsi_lower_range, rsi_upper_range):\n",
    "    # Backtest và tối ưu hóa trên tập train\n",
    "    print(\"Optimizing on training set...\")\n",
    "    bt_train = Backtest(train_data, strategy_class, cash=3_000, commission=0.01, margin=0.13, hedging=True)\n",
    "    stats_train = bt_train.optimize(\n",
    "        bb_period=bb_period_range,  # Tối ưu bb_period\n",
    "        rsi_period=rsi_period_range,  # Tối ưu rsi_period\n",
    "        rsi_lower=rsi_lower_range,  # Tối ưu rsi_lower\n",
    "        rsi_upper=rsi_upper_range,  # Tối ưu rsi_upper\n",
    "        maximize='Return [%]',  # Tối ưu dựa trên lợi nhuận\n",
    "        constraint=lambda params: params.rsi_lower < params.rsi_upper,  # Điều kiện hợp lệ\n",
    "        random_state=42,\n",
    "        method='grid',\n",
    "        return_heatmap=False\n",
    "    )\n",
    "\n",
    "    # Backtest trên tập validation\n",
    "    print(\"Backtesting on validation set...\")\n",
    "    bt_val = Backtest(val_data, strategy_class, cash=3_000, commission=0.01, margin=0.13, hedging=True)\n",
    "    stats_val = bt_val.run()\n",
    "\n",
    "    return stats_train, stats_val\n",
    "\n",
    "# Example usage\n",
    "bb_period_range = range(10, 31, 5)  # Điều chỉnh khoảng giá trị bb_period\n",
    "rsi_period_range = range(10, 21, 5)  # Điều chỉnh khoảng giá trị rsi_period\n",
    "rsi_lower_range = range(20, 46, 5)  # Điều chỉnh khoảng giá trị rsi_lower\n",
    "rsi_upper_range = range(55, 71, 5)  # Điều chỉnh khoảng giá trị rsi_upper\n",
    "\n",
    "# Chạy backtest và tối ưu hóa cho chiến lược Mean Reversion\n",
    "stats_train, stats_val = run_backtest_optimize(MeanReversionLooser, train_hour, valid_hour, bb_period_range, rsi_period_range, rsi_lower_range, rsi_upper_range)\n"
   ]
  },
  {
   "cell_type": "code",
   "execution_count": 335,
   "metadata": {},
   "outputs": [
    {
     "data": {
      "text/plain": [
       "Start                     2018-08-13 09:00:00\n",
       "End                       2022-08-25 11:00:00\n",
       "Duration                   1473 days 02:00:00\n",
       "Exposure Time [%]                   27.778882\n",
       "Equity Final [$]                      967.965\n",
       "Equity Peak [$]                      3230.802\n",
       "Return [%]                           -67.7345\n",
       "Buy & Hold Return [%]               36.585624\n",
       "Return (Ann.) [%]                  -24.653577\n",
       "Volatility (Ann.) [%]                17.25353\n",
       "Sharpe Ratio                              0.0\n",
       "Sortino Ratio                             0.0\n",
       "Calmar Ratio                              0.0\n",
       "Max. Drawdown [%]                  -70.039482\n",
       "Avg. Drawdown [%]                  -18.899696\n",
       "Max. Drawdown Duration     1414 days 02:00:00\n",
       "Avg. Drawdown Duration      358 days 12:00:00\n",
       "# Trades                                  106\n",
       "Win Rate [%]                        33.018868\n",
       "Best Trade [%]                       3.359915\n",
       "Worst Trade [%]                     -5.825696\n",
       "Avg. Trade [%]                      -1.131993\n",
       "Max. Trade Duration         101 days 04:00:00\n",
       "Avg. Trade Duration           9 days 09:00:00\n",
       "Profit Factor                        0.465298\n",
       "Expectancy [%]                      -1.092073\n",
       "SQN                                 -3.129224\n",
       "_strategy                 MeanReversionLoo...\n",
       "_equity_curve                             ...\n",
       "_trades                        Size  Entry...\n",
       "dtype: object"
      ]
     },
     "execution_count": 335,
     "metadata": {},
     "output_type": "execute_result"
    }
   ],
   "source": [
    "stats_train"
   ]
  },
  {
   "cell_type": "code",
   "execution_count": 336,
   "metadata": {},
   "outputs": [
    {
     "data": {
      "text/plain": [
       "Start                     2022-08-25 13:00:00\n",
       "End                       2024-08-30 14:00:00\n",
       "Duration                    736 days 01:00:00\n",
       "Exposure Time [%]                   30.111376\n",
       "Equity Final [$]                      824.629\n",
       "Equity Peak [$]                        3000.0\n",
       "Return [%]                         -72.512367\n",
       "Buy & Hold Return [%]                2.760429\n",
       "Return (Ann.) [%]                   -47.57135\n",
       "Volatility (Ann.) [%]               13.813552\n",
       "Sharpe Ratio                              0.0\n",
       "Sortino Ratio                             0.0\n",
       "Calmar Ratio                              0.0\n",
       "Max. Drawdown [%]                  -72.512367\n",
       "Avg. Drawdown [%]                  -72.512367\n",
       "Max. Drawdown Duration      716 days 05:00:00\n",
       "Avg. Drawdown Duration      716 days 05:00:00\n",
       "# Trades                                   91\n",
       "Win Rate [%]                         19.78022\n",
       "Best Trade [%]                       3.189383\n",
       "Worst Trade [%]                     -4.108963\n",
       "Avg. Trade [%]                      -1.845396\n",
       "Max. Trade Duration          39 days 04:00:00\n",
       "Avg. Trade Duration           4 days 15:00:00\n",
       "Profit Factor                        0.239307\n",
       "Expectancy [%]                      -1.817236\n",
       "SQN                                 -7.618184\n",
       "_strategy                 MeanReversionLooser\n",
       "_equity_curve                             ...\n",
       "_trades                       Size  EntryB...\n",
       "dtype: object"
      ]
     },
     "execution_count": 336,
     "metadata": {},
     "output_type": "execute_result"
    }
   ],
   "source": [
    "stats_val"
   ]
  },
  {
   "cell_type": "markdown",
   "metadata": {},
   "source": [
    "### Multi Timeframe Mean Reversion"
   ]
  },
  {
   "cell_type": "code",
   "execution_count": 364,
   "metadata": {},
   "outputs": [
    {
     "name": "stdout",
     "output_type": "stream",
     "text": [
      "Optimizing MultiTimeframeMeanReversion on training set...\n"
     ]
    },
    {
     "name": "stderr",
     "output_type": "stream",
     "text": [
      "/Library/Frameworks/Python.framework/Versions/3.11/lib/python3.11/site-packages/backtesting/backtesting.py:1375: UserWarning: For multiprocessing support in `Backtest.optimize()` set multiprocessing start method to 'fork'.\n",
      "  warnings.warn(\"For multiprocessing support in `Backtest.optimize()` \"\n"
     ]
    },
    {
     "data": {
      "application/vnd.jupyter.widget-view+json": {
       "model_id": "0bdb71d6e3fb4695846e532b421d2b36",
       "version_major": 2,
       "version_minor": 0
      },
      "text/plain": [
       "  0%|          | 0/9 [00:00<?, ?it/s]"
      ]
     },
     "metadata": {},
     "output_type": "display_data"
    },
    {
     "name": "stdout",
     "output_type": "stream",
     "text": [
      "Backtesting on validation set...\n"
     ]
    }
   ],
   "source": [
    "import talib\n",
    "from backtesting import Backtest, Strategy\n",
    "\n",
    "class MultiTimeframeMeanReversion(Strategy):\n",
    "    ma_short = 20  # Đường MA ngắn\n",
    "    ma_long = 50  # Đường MA dài\n",
    "    risk_reward_ratio = 0.5  # Tỷ lệ R:R = 1/2\n",
    "    stop_loss_pct = 0.02  # Stop loss là 2% dưới hoặc trên giá vào lệnh\n",
    "    take_profit_pct = 0.04  # Take profit là 4% trên hoặc dưới giá vào lệnh\n",
    "\n",
    "    def init(self):\n",
    "        # Tính toán các đường MA\n",
    "        self.ma_short = self.I(talib.SMA, self.data.Close, timeperiod=self.ma_short)\n",
    "        self.ma_long = self.I(talib.SMA, self.data.Close, timeperiod=self.ma_long)\n",
    "\n",
    "    def next(self):\n",
    "        # Điều kiện mua khi MA ngắn dưới MA dài và giá đóng cửa dưới MA ngắn\n",
    "        if self.ma_short[-1] < self.ma_long[-1] and self.data.Close[-1] < self.ma_short[-1]:\n",
    "            sl = self.data.Close[-1] * (1 - self.stop_loss_pct)  # Stop loss là 2% dưới giá hiện tại\n",
    "            tp = self.data.Close[-1] * (1 + self.take_profit_pct)  # Take profit là 4% trên giá hiện tại\n",
    "            self.buy(size=1/6, sl=sl, tp=tp)\n",
    "\n",
    "        # Điều kiện bán khi MA ngắn trên MA dài và giá đóng cửa trên MA ngắn\n",
    "        elif self.ma_short[-1] > self.ma_long[-1] and self.data.Close[-1] > self.ma_short[-1]:\n",
    "            sl = self.data.Close[-1] * (1 + self.stop_loss_pct)  # Stop loss là 2% trên giá hiện tại\n",
    "            tp = self.data.Close[-1] * (1 - self.take_profit_pct)  # Take profit là 4% dưới giá hiện tại\n",
    "            self.sell(size=1/6, sl=sl, tp=tp)\n",
    "\n",
    "# Hàm backtest và tối ưu hóa cho Multi-Timeframe Mean Reversion\n",
    "def run_backtest_optimize_multi(train_data, val_data, ma_short_range, ma_long_range):\n",
    "    print(f\"Optimizing MultiTimeframeMeanReversion on training set...\")\n",
    "    bt_train = Backtest(train_data, MultiTimeframeMeanReversion, cash=3_000, commission=0.01, margin=0.13, hedging=True)\n",
    "    \n",
    "    stats_train = bt_train.optimize(\n",
    "        ma_short=ma_short_range,\n",
    "        ma_long=ma_long_range,\n",
    "        maximize='Return [%]',\n",
    "        random_state=42,\n",
    "        method='grid',\n",
    "        return_heatmap=False\n",
    "    )\n",
    "\n",
    "    print(\"Backtesting on validation set...\")\n",
    "    bt_val = Backtest(val_data, MultiTimeframeMeanReversion, cash=3_000, commission=0.01, margin=0.13, hedging=True)\n",
    "    stats_val = bt_val.run()\n",
    "\n",
    "    return stats_train, stats_val\n",
    "\n",
    "# Example usage:\n",
    "ma_short_range = range(10, 31, 5)\n",
    "ma_long_range = range(40, 101, 10)\n",
    "stats_train_multi, stats_val_multi = run_backtest_optimize_multi( train_hour, valid_hour, ma_short_range, ma_long_range)\n"
   ]
  },
  {
   "cell_type": "code",
   "execution_count": 365,
   "metadata": {},
   "outputs": [
    {
     "data": {
      "text/plain": [
       "Start                     2018-08-13 09:00:00\n",
       "End                       2022-08-25 11:00:00\n",
       "Duration                   1473 days 02:00:00\n",
       "Exposure Time [%]                   38.775104\n",
       "Equity Final [$]                      494.288\n",
       "Equity Peak [$]                      3484.948\n",
       "Return [%]                         -83.523733\n",
       "Buy & Hold Return [%]               36.585624\n",
       "Return (Ann.) [%]                  -36.317474\n",
       "Volatility (Ann.) [%]               22.028499\n",
       "Sharpe Ratio                              0.0\n",
       "Sortino Ratio                             0.0\n",
       "Calmar Ratio                              0.0\n",
       "Max. Drawdown [%]                  -86.823964\n",
       "Avg. Drawdown [%]                  -18.257265\n",
       "Max. Drawdown Duration     1414 days 02:00:00\n",
       "Avg. Drawdown Duration      242 days 17:00:00\n",
       "# Trades                                  248\n",
       "Win Rate [%]                        38.306452\n",
       "Best Trade [%]                       3.726386\n",
       "Worst Trade [%]                     -6.208026\n",
       "Avg. Trade [%]                      -0.793783\n",
       "Max. Trade Duration         101 days 04:00:00\n",
       "Avg. Trade Duration          12 days 04:00:00\n",
       "Profit Factor                        0.604251\n",
       "Expectancy [%]                      -0.748493\n",
       "SQN                                  -4.56311\n",
       "_strategy                 MultiTimeframeMe...\n",
       "_equity_curve                             ...\n",
       "_trades                        Size  Entry...\n",
       "dtype: object"
      ]
     },
     "execution_count": 365,
     "metadata": {},
     "output_type": "execute_result"
    }
   ],
   "source": [
    "stats_train_multi"
   ]
  },
  {
   "cell_type": "code",
   "execution_count": 366,
   "metadata": {},
   "outputs": [
    {
     "data": {
      "text/plain": [
       "Start                     2022-08-25 13:00:00\n",
       "End                       2024-08-30 14:00:00\n",
       "Duration                    736 days 01:00:00\n",
       "Exposure Time [%]                    8.035004\n",
       "Equity Final [$]                      732.731\n",
       "Equity Peak [$]                        3000.0\n",
       "Return [%]                         -75.575633\n",
       "Buy & Hold Return [%]                2.760429\n",
       "Return (Ann.) [%]                  -50.578986\n",
       "Volatility (Ann.) [%]               14.999799\n",
       "Sharpe Ratio                              0.0\n",
       "Sortino Ratio                             0.0\n",
       "Calmar Ratio                              0.0\n",
       "Max. Drawdown [%]                    -75.5853\n",
       "Avg. Drawdown [%]                    -75.5853\n",
       "Max. Drawdown Duration      717 days 00:00:00\n",
       "Avg. Drawdown Duration      717 days 00:00:00\n",
       "# Trades                                   98\n",
       "Win Rate [%]                        18.367347\n",
       "Best Trade [%]                       3.360808\n",
       "Worst Trade [%]                     -5.276704\n",
       "Avg. Trade [%]                      -1.919506\n",
       "Max. Trade Duration           6 days 00:00:00\n",
       "Avg. Trade Duration           1 days 20:00:00\n",
       "Profit Factor                        0.208255\n",
       "Expectancy [%]                      -1.893953\n",
       "SQN                                  -8.94523\n",
       "_strategy                 MultiTimeframeMe...\n",
       "_equity_curve                             ...\n",
       "_trades                       Size  EntryB...\n",
       "dtype: object"
      ]
     },
     "execution_count": 366,
     "metadata": {},
     "output_type": "execute_result"
    }
   ],
   "source": [
    "stats_val_multi"
   ]
  },
  {
   "cell_type": "markdown",
   "metadata": {},
   "source": [
    "### Momentum Mean Reversion"
   ]
  },
  {
   "cell_type": "code",
   "execution_count": 367,
   "metadata": {},
   "outputs": [
    {
     "name": "stdout",
     "output_type": "stream",
     "text": [
      "Optimizing MomentumMeanReversion on training set...\n"
     ]
    },
    {
     "name": "stderr",
     "output_type": "stream",
     "text": [
      "/Library/Frameworks/Python.framework/Versions/3.11/lib/python3.11/site-packages/backtesting/backtesting.py:1375: UserWarning: For multiprocessing support in `Backtest.optimize()` set multiprocessing start method to 'fork'.\n",
      "  warnings.warn(\"For multiprocessing support in `Backtest.optimize()` \"\n"
     ]
    },
    {
     "data": {
      "application/vnd.jupyter.widget-view+json": {
       "model_id": "373a8627c50d4284824f82efc1ece197",
       "version_major": 2,
       "version_minor": 0
      },
      "text/plain": [
       "  0%|          | 0/12 [00:00<?, ?it/s]"
      ]
     },
     "metadata": {},
     "output_type": "display_data"
    },
    {
     "name": "stdout",
     "output_type": "stream",
     "text": [
      "Backtesting on validation set...\n"
     ]
    }
   ],
   "source": [
    "import talib\n",
    "from backtesting import Backtest, Strategy\n",
    "\n",
    "# Momentum Mean Reversion Strategy\n",
    "class MomentumMeanReversion(Strategy):\n",
    "    rsi_period = 14  # Tham số mặc định cho RSI\n",
    "    ma_period = 50  # Tham số mặc định cho MA dài hạn\n",
    "    stop_loss_pct = 0.02  # Stop Loss là 2% dưới/ trên giá vào lệnh\n",
    "    take_profit_pct = 0.04  # Take Profit là 4% trên/ dưới giá vào lệnh\n",
    "\n",
    "    def init(self):\n",
    "        # Tính toán đường MA và RSI\n",
    "        self.ma = self.I(talib.SMA, self.data.Close, timeperiod=self.ma_period)\n",
    "        self.rsi = self.I(talib.RSI, self.data.Close, timeperiod=self.rsi_period)\n",
    "\n",
    "    def next(self):\n",
    "        # Điều kiện mua: RSI dưới 30 và giá đóng cửa dưới MA\n",
    "        if self.rsi[-1] < 30 and self.data.Close[-1] < self.ma[-1]:\n",
    "            sl = self.data.Close[-1] * (1 - self.stop_loss_pct)  # Stop loss là 2% dưới giá hiện tại\n",
    "            tp = self.data.Close[-1] * (1 + self.take_profit_pct)  # Take profit là 4% trên giá hiện tại\n",
    "            self.buy(size=1/6, sl=sl, tp=tp)\n",
    "\n",
    "        # Điều kiện bán: RSI trên 70 và giá đóng cửa trên MA\n",
    "        elif self.rsi[-1] > 70 and self.data.Close[-1] > self.ma[-1]:\n",
    "            sl = self.data.Close[-1] * (1 + self.stop_loss_pct)  # Stop loss là 2% trên giá hiện tại\n",
    "            tp = self.data.Close[-1] * (1 - self.take_profit_pct)  # Take profit là 4% dưới giá hiện tại\n",
    "            self.sell(size=1/6, sl=sl, tp=tp)\n",
    "\n",
    "# Hàm backtest và tối ưu hóa Momentum Mean Reversion\n",
    "def run_backtest_optimize_momentum(train_data, val_data, ma_period_range, rsi_period_range):\n",
    "    print(f\"Optimizing MomentumMeanReversion on training set...\")\n",
    "    bt_train = Backtest(train_data, MomentumMeanReversion, cash=3_000, commission=0.01, margin=0.13, hedging=True)\n",
    "    \n",
    "    stats_train = bt_train.optimize(\n",
    "        ma_period=ma_period_range,\n",
    "        rsi_period=rsi_period_range,\n",
    "        maximize='Return [%]',\n",
    "        random_state=42,\n",
    "        method='grid',\n",
    "        return_heatmap=False\n",
    "    )\n",
    "\n",
    "    print(\"Backtesting on validation set...\")\n",
    "    bt_val = Backtest(val_data, MomentumMeanReversion, cash=3_000, commission=0.01, margin=0.13, hedging=True)\n",
    "    stats_val = bt_val.run()\n",
    "\n",
    "    return stats_train, stats_val\n",
    "\n",
    "# Example usage:\n",
    "ma_period_range = range(30, 61, 10)\n",
    "rsi_period_range = range(10, 21, 5)\n",
    "stats_train_momentum, stats_val_momentum = run_backtest_optimize_momentum( train_hour, valid_hour, ma_period_range, rsi_period_range)\n"
   ]
  },
  {
   "cell_type": "code",
   "execution_count": 368,
   "metadata": {},
   "outputs": [
    {
     "data": {
      "text/plain": [
       "Start                     2018-08-13 09:00:00\n",
       "End                       2022-08-25 11:00:00\n",
       "Duration                   1473 days 02:00:00\n",
       "Exposure Time [%]                   40.962418\n",
       "Equity Final [$]                      743.274\n",
       "Equity Peak [$]                      3941.951\n",
       "Return [%]                           -75.2242\n",
       "Buy & Hold Return [%]               36.585624\n",
       "Return (Ann.) [%]                  -29.472826\n",
       "Volatility (Ann.) [%]               24.798238\n",
       "Sharpe Ratio                              0.0\n",
       "Sortino Ratio                             0.0\n",
       "Calmar Ratio                              0.0\n",
       "Max. Drawdown [%]                  -81.144514\n",
       "Avg. Drawdown [%]                  -11.968562\n",
       "Max. Drawdown Duration     1414 days 02:00:00\n",
       "Avg. Drawdown Duration      160 days 17:00:00\n",
       "# Trades                                  231\n",
       "Win Rate [%]                        41.558442\n",
       "Best Trade [%]                       3.359915\n",
       "Worst Trade [%]                     -6.425278\n",
       "Avg. Trade [%]                      -0.594311\n",
       "Max. Trade Duration         101 days 04:00:00\n",
       "Avg. Trade Duration          10 days 09:00:00\n",
       "Profit Factor                        0.690428\n",
       "Expectancy [%]                      -0.549335\n",
       "SQN                                 -3.112841\n",
       "_strategy                 MomentumMeanReve...\n",
       "_equity_curve                             ...\n",
       "_trades                        Size  Entry...\n",
       "dtype: object"
      ]
     },
     "execution_count": 368,
     "metadata": {},
     "output_type": "execute_result"
    }
   ],
   "source": [
    "stats_train_momentum"
   ]
  },
  {
   "cell_type": "code",
   "execution_count": 369,
   "metadata": {},
   "outputs": [
    {
     "data": {
      "text/plain": [
       "Start                     2022-08-25 13:00:00\n",
       "End                       2024-08-30 14:00:00\n",
       "Duration                    736 days 01:00:00\n",
       "Exposure Time [%]                   25.019889\n",
       "Equity Final [$]                      851.038\n",
       "Equity Peak [$]                        3000.0\n",
       "Return [%]                         -71.632067\n",
       "Buy & Hold Return [%]                2.760429\n",
       "Return (Ann.) [%]                  -46.738444\n",
       "Volatility (Ann.) [%]               14.323507\n",
       "Sharpe Ratio                              0.0\n",
       "Sortino Ratio                             0.0\n",
       "Calmar Ratio                              0.0\n",
       "Max. Drawdown [%]                  -73.025267\n",
       "Avg. Drawdown [%]                  -73.025267\n",
       "Max. Drawdown Duration      716 days 05:00:00\n",
       "Avg. Drawdown Duration      716 days 05:00:00\n",
       "# Trades                                   86\n",
       "Win Rate [%]                        18.604651\n",
       "Best Trade [%]                       3.189383\n",
       "Worst Trade [%]                     -5.276704\n",
       "Avg. Trade [%]                      -1.955108\n",
       "Max. Trade Duration          25 days 22:00:00\n",
       "Avg. Trade Duration           3 days 04:00:00\n",
       "Profit Factor                        0.211576\n",
       "Expectancy [%]                      -1.928461\n",
       "SQN                                 -7.964688\n",
       "_strategy                 MomentumMeanReve...\n",
       "_equity_curve                             ...\n",
       "_trades                       Size  EntryB...\n",
       "dtype: object"
      ]
     },
     "execution_count": 369,
     "metadata": {},
     "output_type": "execute_result"
    }
   ],
   "source": [
    "stats_val_momentum"
   ]
  },
  {
   "cell_type": "markdown",
   "metadata": {},
   "source": [
    "## Momentum Trading"
   ]
  },
  {
   "cell_type": "markdown",
   "metadata": {},
   "source": [
    "### Momentum trading with MACD"
   ]
  },
  {
   "cell_type": "code",
   "execution_count": 374,
   "metadata": {},
   "outputs": [
    {
     "name": "stderr",
     "output_type": "stream",
     "text": [
      "/Library/Frameworks/Python.framework/Versions/3.11/lib/python3.11/site-packages/backtesting/backtesting.py:1375: UserWarning: For multiprocessing support in `Backtest.optimize()` set multiprocessing start method to 'fork'.\n",
      "  warnings.warn(\"For multiprocessing support in `Backtest.optimize()` \"\n"
     ]
    },
    {
     "data": {
      "application/vnd.jupyter.widget-view+json": {
       "model_id": "51a8c830cc004dc5be59683a677e77a8",
       "version_major": 2,
       "version_minor": 0
      },
      "text/plain": [
       "  0%|          | 0/9 [00:00<?, ?it/s]"
      ]
     },
     "metadata": {},
     "output_type": "display_data"
    }
   ],
   "source": [
    "import talib\n",
    "from backtesting import Strategy, Backtest\n",
    "from backtesting.lib import crossover\n",
    "\n",
    "# Chiến lược Momentum Trading với MACD\n",
    "class MomentumTradingMACD(Strategy):\n",
    "    fastperiod = 12  # MACD Fast EMA period\n",
    "    slowperiod = 26  # MACD Slow EMA period\n",
    "    signalperiod = 9  # Signal period\n",
    "    risk_reward_ratio = 2  # Tỷ lệ R:R = 2\n",
    "    stop_loss_pct = 0.02  # Stop loss 2%\n",
    "    take_profit_pct = 0.04  # Take profit 4%\n",
    "\n",
    "    def init(self):\n",
    "        # Tính MACD và Signal\n",
    "        self.macd, self.signal, _ = self.I(talib.MACD, self.data.Close, fastperiod=self.fastperiod, \n",
    "                                           slowperiod=self.slowperiod, signalperiod=self.signalperiod)\n",
    "\n",
    "    def next(self):\n",
    "        # Điều kiện mua: MACD cắt lên Signal và MACD > 0\n",
    "        if crossover(self.macd, self.signal) and self.macd[-1] > 0:\n",
    "            sl = self.data.Close[-1] * (1 - self.stop_loss_pct)  # Stop loss là 2% dưới giá hiện tại\n",
    "            tp = self.data.Close[-1] * (1 + self.take_profit_pct)  # Take profit là 4% trên giá hiện tại\n",
    "            self.buy(size=1/6, sl=sl, tp=tp)\n",
    "\n",
    "        # Điều kiện bán: MACD cắt xuống Signal và MACD < 0\n",
    "        elif crossover(self.signal, self.macd) and self.macd[-1] < 0:\n",
    "            sl = self.data.Close[-1] * (1 + self.stop_loss_pct)  # Stop loss là 2% trên giá hiện tại\n",
    "            tp = self.data.Close[-1] * (1 - self.take_profit_pct)  # Take profit là 4% dưới giá hiện tại\n",
    "            self.sell(size=1/6, sl=sl, tp=tp)\n",
    "\n",
    "# Hàm backtest và tối ưu hóa cho MACD\n",
    "def run_backtest_optimize_macd(train_data, val_data, fastperiod_range, slowperiod_range, signalperiod_range):\n",
    "    bt_train = Backtest(train_data, MomentumTradingMACD, cash=3_000, commission=0.01, margin=0.13, hedging=True)\n",
    "    \n",
    "    stats_train = bt_train.optimize(\n",
    "        fastperiod=fastperiod_range,\n",
    "        slowperiod=slowperiod_range,\n",
    "        signalperiod=signalperiod_range,\n",
    "        maximize='Return [%]',\n",
    "        random_state=42,\n",
    "        method='grid',\n",
    "        return_heatmap=False\n",
    "    )\n",
    "\n",
    "    bt_val = Backtest(val_data, MomentumTradingMACD, cash=3_000, commission=0.01, margin=0.13, hedging=True)\n",
    "    stats_val = bt_val.run()\n",
    "\n",
    "    return stats_train, stats_val\n",
    "\n",
    "# Ví dụ cho từng chiến lược với các khoảng thời gian khác nhau\n",
    "fastperiod_range = range(8, 13, 1)\n",
    "slowperiod_range = range(20, 31, 2)\n",
    "signalperiod_range = range(7, 12, 1)\n",
    "\n",
    "\n",
    "# Backtest và tối ưu hóa cho MACD\n",
    "stats_train_macd, stats_val_macd = run_backtest_optimize_macd(train_hour, valid_hour, fastperiod_range, slowperiod_range, signalperiod_range)"
   ]
  },
  {
   "cell_type": "code",
   "execution_count": 375,
   "metadata": {},
   "outputs": [
    {
     "data": {
      "text/plain": [
       "Start                     2018-08-13 09:00:00\n",
       "End                       2022-08-25 11:00:00\n",
       "Duration                   1473 days 02:00:00\n",
       "Exposure Time [%]                   60.588586\n",
       "Equity Final [$]                     1611.981\n",
       "Equity Peak [$]                        3000.0\n",
       "Return [%]                           -46.2673\n",
       "Buy & Hold Return [%]               36.585624\n",
       "Return (Ann.) [%]                  -14.396269\n",
       "Volatility (Ann.) [%]                16.82589\n",
       "Sharpe Ratio                              0.0\n",
       "Sortino Ratio                             0.0\n",
       "Calmar Ratio                              0.0\n",
       "Max. Drawdown [%]                  -59.185467\n",
       "Avg. Drawdown [%]                  -59.185467\n",
       "Max. Drawdown Duration     1459 days 01:00:00\n",
       "Avg. Drawdown Duration     1459 days 01:00:00\n",
       "# Trades                                  149\n",
       "Win Rate [%]                        43.624161\n",
       "Best Trade [%]                       4.531698\n",
       "Worst Trade [%]                     -4.115325\n",
       "Avg. Trade [%]                      -0.466356\n",
       "Max. Trade Duration          64 days 03:00:00\n",
       "Avg. Trade Duration          13 days 03:00:00\n",
       "Profit Factor                        0.747131\n",
       "Expectancy [%]                      -0.423281\n",
       "SQN                                 -2.387808\n",
       "_strategy                 MomentumTradingM...\n",
       "_equity_curve                             ...\n",
       "_trades                        Size  Entry...\n",
       "dtype: object"
      ]
     },
     "execution_count": 375,
     "metadata": {},
     "output_type": "execute_result"
    }
   ],
   "source": [
    "stats_train_macd"
   ]
  },
  {
   "cell_type": "code",
   "execution_count": 376,
   "metadata": {},
   "outputs": [
    {
     "data": {
      "text/plain": [
       "Start                     2022-08-25 13:00:00\n",
       "End                       2024-08-30 14:00:00\n",
       "Duration                    736 days 01:00:00\n",
       "Exposure Time [%]                   59.427208\n",
       "Equity Final [$]                     2266.566\n",
       "Equity Peak [$]                      3841.018\n",
       "Return [%]                           -24.4478\n",
       "Buy & Hold Return [%]                2.760429\n",
       "Return (Ann.) [%]                  -13.079231\n",
       "Volatility (Ann.) [%]               19.546939\n",
       "Sharpe Ratio                              0.0\n",
       "Sortino Ratio                             0.0\n",
       "Calmar Ratio                              0.0\n",
       "Max. Drawdown [%]                  -50.368496\n",
       "Avg. Drawdown [%]                   -5.566982\n",
       "Max. Drawdown Duration      549 days 00:00:00\n",
       "Avg. Drawdown Duration       42 days 09:00:00\n",
       "# Trades                                   72\n",
       "Win Rate [%]                        45.833333\n",
       "Best Trade [%]                       3.775424\n",
       "Worst Trade [%]                      -3.48201\n",
       "Avg. Trade [%]                      -0.315601\n",
       "Max. Trade Duration          34 days 20:00:00\n",
       "Avg. Trade Duration           9 days 10:00:00\n",
       "Profit Factor                        0.829726\n",
       "Expectancy [%]                      -0.272234\n",
       "SQN                                 -0.932501\n",
       "_strategy                 MomentumTradingMACD\n",
       "_equity_curve                             ...\n",
       "_trades                       Size  EntryB...\n",
       "dtype: object"
      ]
     },
     "execution_count": 376,
     "metadata": {},
     "output_type": "execute_result"
    }
   ],
   "source": [
    "stats_val_macd"
   ]
  },
  {
   "cell_type": "markdown",
   "metadata": {},
   "source": [
    "### Momentum trading with Stochastic Oscillator"
   ]
  },
  {
   "cell_type": "code",
   "execution_count": 378,
   "metadata": {},
   "outputs": [
    {
     "name": "stderr",
     "output_type": "stream",
     "text": [
      "/Library/Frameworks/Python.framework/Versions/3.11/lib/python3.11/site-packages/backtesting/backtesting.py:1375: UserWarning: For multiprocessing support in `Backtest.optimize()` set multiprocessing start method to 'fork'.\n",
      "  warnings.warn(\"For multiprocessing support in `Backtest.optimize()` \"\n"
     ]
    },
    {
     "data": {
      "application/vnd.jupyter.widget-view+json": {
       "model_id": "28af8480f5424079b3dd8dead33f794c",
       "version_major": 2,
       "version_minor": 0
      },
      "text/plain": [
       "  0%|          | 0/11 [00:00<?, ?it/s]"
      ]
     },
     "metadata": {},
     "output_type": "display_data"
    }
   ],
   "source": [
    "import talib\n",
    "from backtesting import Strategy, Backtest\n",
    "from backtesting.lib import crossover\n",
    "\n",
    "# Chiến lược Momentum Trading với Stochastic Oscillator\n",
    "class MomentumTradingStochastic(Strategy):\n",
    "    slowk_period = 14\n",
    "    slowd_period = 3\n",
    "    stop_loss_pct = 0.02\n",
    "    take_profit_pct = 0.04\n",
    "    risk_reward_ratio = 2  # Tỷ lệ R:R = 2\n",
    "\n",
    "    def init(self):\n",
    "        self.slowk, self.slowd = self.I(talib.STOCH, self.data.High, self.data.Low, self.data.Close,\n",
    "                                        fastk_period=self.slowk_period, slowk_period=self.slowk_period,\n",
    "                                        slowk_matype=0, slowd_period=self.slowd_period, slowd_matype=0)\n",
    "\n",
    "    def next(self):\n",
    "        # Mua khi %K cắt lên %D và %K < 20 (quá bán)\n",
    "        if crossover(self.slowk, self.slowd) and self.slowk[-1] < 20:\n",
    "            sl = self.data.Close[-1] * (1 - self.stop_loss_pct)\n",
    "            tp = self.data.Close[-1] * (1 + self.take_profit_pct)\n",
    "            self.buy(size=1/6, sl=sl, tp=tp)\n",
    "\n",
    "        # Bán khi %K cắt xuống %D và %K > 80 (quá mua)\n",
    "        elif crossover(self.slowd, self.slowk) and self.slowk[-1] > 80:\n",
    "            sl = self.data.Close[-1] * (1 + self.stop_loss_pct)\n",
    "            tp = self.data.Close[-1] * (1 - self.take_profit_pct)\n",
    "            self.sell(size=1/6, sl=sl, tp=tp)\n",
    "\n",
    "# Hàm backtest và tối ưu hóa cho Stochastic Oscillator\n",
    "def run_backtest_optimize_stochastic(train_data, val_data, slowk_range, slowd_range):\n",
    "    bt_train = Backtest(train_data, MomentumTradingStochastic, cash=3_000, commission=0.01, margin=0.13, hedging=True)\n",
    "    \n",
    "    stats_train = bt_train.optimize(\n",
    "        slowk_period=slowk_range,\n",
    "        slowd_period=slowd_range,\n",
    "        maximize='Return [%]',\n",
    "        random_state=42,\n",
    "        method='grid',\n",
    "        return_heatmap=False\n",
    "    )\n",
    "\n",
    "    bt_val = Backtest(val_data, MomentumTradingStochastic, cash=3_000, commission=0.01, margin=0.13, hedging=True)\n",
    "    stats_val = bt_val.run()\n",
    "\n",
    "    return stats_train, stats_val\n",
    "\n",
    "\n",
    "slowk_range = range(10, 21, 5)\n",
    "slowd_range = range(3, 10, 1)\n",
    "# Backtest và tối ưu hóa cho Stochastic Oscillator\n",
    "stats_train_stochastic, stats_val_stochastic = run_backtest_optimize_stochastic(train_hour, valid_hour, slowk_range, slowd_range)"
   ]
  },
  {
   "cell_type": "code",
   "execution_count": 379,
   "metadata": {},
   "outputs": [
    {
     "data": {
      "text/plain": [
       "Start                     2018-08-13 09:00:00\n",
       "End                       2022-08-25 11:00:00\n",
       "Duration                   1473 days 02:00:00\n",
       "Exposure Time [%]                   52.356333\n",
       "Equity Final [$]                      1485.45\n",
       "Equity Peak [$]                      3093.812\n",
       "Return [%]                            -50.485\n",
       "Buy & Hold Return [%]               36.585624\n",
       "Return (Ann.) [%]                  -16.129659\n",
       "Volatility (Ann.) [%]                 12.8367\n",
       "Sharpe Ratio                              0.0\n",
       "Sortino Ratio                             0.0\n",
       "Calmar Ratio                              0.0\n",
       "Max. Drawdown [%]                  -53.829321\n",
       "Avg. Drawdown [%]                  -11.289072\n",
       "Max. Drawdown Duration     1448 days 00:00:00\n",
       "Avg. Drawdown Duration      291 days 06:00:00\n",
       "# Trades                                   88\n",
       "Win Rate [%]                        35.227273\n",
       "Best Trade [%]                       3.725335\n",
       "Worst Trade [%]                     -3.706651\n",
       "Avg. Trade [%]                      -0.848109\n",
       "Max. Trade Duration          58 days 01:00:00\n",
       "Avg. Trade Duration          10 days 14:00:00\n",
       "Profit Factor                        0.570223\n",
       "Expectancy [%]                      -0.807282\n",
       "SQN                                 -2.246342\n",
       "_strategy                 MomentumTradingS...\n",
       "_equity_curve                             ...\n",
       "_trades                       Size  EntryB...\n",
       "dtype: object"
      ]
     },
     "execution_count": 379,
     "metadata": {},
     "output_type": "execute_result"
    }
   ],
   "source": [
    "stats_train_stochastic"
   ]
  },
  {
   "cell_type": "code",
   "execution_count": 380,
   "metadata": {},
   "outputs": [
    {
     "data": {
      "text/plain": [
       "Start                     2022-08-25 13:00:00\n",
       "End                       2024-08-30 14:00:00\n",
       "Duration                    736 days 01:00:00\n",
       "Exposure Time [%]                   64.319809\n",
       "Equity Final [$]                     1160.419\n",
       "Equity Peak [$]                        3000.0\n",
       "Return [%]                         -61.319367\n",
       "Buy & Hold Return [%]                2.760429\n",
       "Return (Ann.) [%]                  -37.806244\n",
       "Volatility (Ann.) [%]               11.794888\n",
       "Sharpe Ratio                              0.0\n",
       "Sortino Ratio                             0.0\n",
       "Calmar Ratio                              0.0\n",
       "Max. Drawdown [%]                  -61.319367\n",
       "Avg. Drawdown [%]                  -61.319367\n",
       "Max. Drawdown Duration      721 days 00:00:00\n",
       "Avg. Drawdown Duration      721 days 00:00:00\n",
       "# Trades                                   85\n",
       "Win Rate [%]                        30.588235\n",
       "Best Trade [%]                       3.583092\n",
       "Worst Trade [%]                     -3.877888\n",
       "Avg. Trade [%]                      -1.219136\n",
       "Max. Trade Duration          41 days 20:00:00\n",
       "Avg. Trade Duration           8 days 13:00:00\n",
       "Profit Factor                        0.435512\n",
       "Expectancy [%]                      -1.180808\n",
       "SQN                                 -3.683892\n",
       "_strategy                 MomentumTradingS...\n",
       "_equity_curve                             ...\n",
       "_trades                       Size  EntryB...\n",
       "dtype: object"
      ]
     },
     "execution_count": 380,
     "metadata": {},
     "output_type": "execute_result"
    }
   ],
   "source": [
    "stats_val_stochastic"
   ]
  },
  {
   "cell_type": "markdown",
   "metadata": {},
   "source": [
    "# 3-minute"
   ]
  },
  {
   "cell_type": "markdown",
   "metadata": {},
   "source": [
    "## Scalping"
   ]
  },
  {
   "cell_type": "markdown",
   "metadata": {},
   "source": [
    "### Scalping with RSI and Stochastic Oscillator"
   ]
  },
  {
   "cell_type": "code",
   "execution_count": 386,
   "metadata": {},
   "outputs": [
    {
     "name": "stdout",
     "output_type": "stream",
     "text": [
      "Optimizing ScalpingRSIStochastic on training set...\n"
     ]
    },
    {
     "name": "stderr",
     "output_type": "stream",
     "text": [
      "/Library/Frameworks/Python.framework/Versions/3.11/lib/python3.11/site-packages/backtesting/backtesting.py:1375: UserWarning: For multiprocessing support in `Backtest.optimize()` set multiprocessing start method to 'fork'.\n",
      "  warnings.warn(\"For multiprocessing support in `Backtest.optimize()` \"\n"
     ]
    },
    {
     "data": {
      "application/vnd.jupyter.widget-view+json": {
       "model_id": "0f67ae449b1443eca5a0dd84580c6e1d",
       "version_major": 2,
       "version_minor": 0
      },
      "text/plain": [
       "  0%|          | 0/9 [00:00<?, ?it/s]"
      ]
     },
     "metadata": {},
     "output_type": "display_data"
    },
    {
     "name": "stdout",
     "output_type": "stream",
     "text": [
      "Backtesting on validation set...\n"
     ]
    }
   ],
   "source": [
    "import talib\n",
    "from backtesting import Strategy, Backtest\n",
    "from backtesting.lib import crossover\n",
    "\n",
    "# Chiến lược Scalping với RSI và Stochastic Oscillator\n",
    "class ScalpingRSIStochastic(Strategy):\n",
    "    rsi_period = 14\n",
    "    stoch_k_period = 14\n",
    "    stoch_d_period = 3\n",
    "    rsi_overbought = 70\n",
    "    rsi_oversold = 30\n",
    "    risk_reward_ratio = 2  # Tỷ lệ R:R = 2\n",
    "    stop_loss_pct = 0.02  # Stop loss 2%\n",
    "    take_profit_pct = 0.04  # Take profit 4%\n",
    "\n",
    "    def init(self):\n",
    "        self.rsi = self.I(talib.RSI, self.data.Close, timeperiod=self.rsi_period)\n",
    "        self.stoch_k, self.stoch_d = self.I(talib.STOCH, self.data.High, self.data.Low, self.data.Close, \n",
    "                                            fastk_period=self.stoch_k_period, slowk_period=self.stoch_d_period, \n",
    "                                            slowk_matype=0, slowd_period=self.stoch_d_period, slowd_matype=0)\n",
    "\n",
    "    def next(self):\n",
    "        # Điều kiện mua: RSI < 30 và Stochastic < 20 (quá bán)\n",
    "        if self.rsi[-1] < self.rsi_oversold and self.stoch_k[-1] < 20 and self.stoch_d[-1] < 20:\n",
    "            sl = self.data.Close[-1] * (1 - self.stop_loss_pct)\n",
    "            tp = self.data.Close[-1] * (1 + self.take_profit_pct)\n",
    "            self.buy(size=1/6, sl=sl, tp=tp)\n",
    "\n",
    "        # Điều kiện bán: RSI > 70 và Stochastic > 80 (quá mua)\n",
    "        elif self.rsi[-1] > self.rsi_overbought and self.stoch_k[-1] > 80 and self.stoch_d[-1] > 80:\n",
    "            sl = self.data.Close[-1] * (1 + self.stop_loss_pct)\n",
    "            tp = self.data.Close[-1] * (1 - self.take_profit_pct)\n",
    "            self.sell(size=1/6, sl=sl, tp=tp)\n",
    "\n",
    "# Hàm backtest và tối ưu hóa cho Scalping\n",
    "def run_backtest_optimize_scalping(train_data, val_data, rsi_period_range, stoch_k_period_range, stoch_d_period_range):\n",
    "    print(f\"Optimizing ScalpingRSIStochastic on training set...\")\n",
    "    bt_train = Backtest(train_data, ScalpingRSIStochastic, cash=3_000, commission=0.01, margin=0.13, hedging=True)\n",
    "    \n",
    "    stats_train = bt_train.optimize(\n",
    "        rsi_period=rsi_period_range,  # Phạm vi tối ưu RSI period\n",
    "        stoch_k_period=stoch_k_period_range,  # Phạm vi tối ưu Stochastic K period\n",
    "        stoch_d_period=stoch_d_period_range,  # Phạm vi tối ưu Stochastic D period\n",
    "        maximize='Return [%]',  # Tối ưu dựa trên lợi nhuận\n",
    "        random_state=42,\n",
    "        method='grid',\n",
    "        return_heatmap=False\n",
    "    )\n",
    "\n",
    "    # Backtest trên tập validation\n",
    "    print(\"Backtesting on validation set...\")\n",
    "    bt_val = Backtest(val_data, ScalpingRSIStochastic, cash=3_000, commission=0.01, margin=0.13, hedging=True)\n",
    "    stats_val = bt_val.run()\n",
    "\n",
    "    return stats_train, stats_val\n",
    "\n",
    "# Example usage:\n",
    "rsi_period_range = range(10, 21, 5)\n",
    "stoch_k_period_range = range(10, 21, 5)\n",
    "stoch_d_period_range = range(3, 8, 2)\n",
    "\n",
    "stats_train_scalping, stats_val_scalping = run_backtest_optimize_scalping(train_min, valid_min, rsi_period_range, stoch_k_period_range, stoch_d_period_range)\n"
   ]
  },
  {
   "cell_type": "code",
   "execution_count": 387,
   "metadata": {},
   "outputs": [
    {
     "data": {
      "text/plain": [
       "Start                     2018-08-13 09:00:00\n",
       "End                       2022-08-26 09:12:00\n",
       "Duration                   1474 days 00:12:00\n",
       "Exposure Time [%]                   40.106382\n",
       "Equity Final [$]                      503.263\n",
       "Equity Peak [$]                      3092.643\n",
       "Return [%]                         -83.224567\n",
       "Buy & Hold Return [%]               38.229995\n",
       "Return (Ann.) [%]                  -35.211253\n",
       "Volatility (Ann.) [%]               21.599161\n",
       "Sharpe Ratio                              0.0\n",
       "Sortino Ratio                             0.0\n",
       "Calmar Ratio                              0.0\n",
       "Max. Drawdown [%]                   -83.72709\n",
       "Avg. Drawdown [%]                  -13.859684\n",
       "Max. Drawdown Duration     1470 days 21:57:00\n",
       "Avg. Drawdown Duration      210 days 12:57:00\n",
       "# Trades                                  293\n",
       "Win Rate [%]                        37.542662\n",
       "Best Trade [%]                       4.181601\n",
       "Worst Trade [%]                     -5.825696\n",
       "Avg. Trade [%]                      -0.869226\n",
       "Max. Trade Duration         101 days 23:03:00\n",
       "Avg. Trade Duration          12 days 07:22:00\n",
       "Profit Factor                        0.580324\n",
       "Expectancy [%]                       -0.82353\n",
       "SQN                                 -4.591121\n",
       "_strategy                 ScalpingRSIStoch...\n",
       "_equity_curve                             ...\n",
       "_trades                        Size  Entry...\n",
       "dtype: object"
      ]
     },
     "execution_count": 387,
     "metadata": {},
     "output_type": "execute_result"
    }
   ],
   "source": [
    "stats_train_scalping"
   ]
  },
  {
   "cell_type": "code",
   "execution_count": 388,
   "metadata": {},
   "outputs": [
    {
     "data": {
      "text/plain": [
       "Start                     2022-08-26 09:15:00\n",
       "End                       2024-08-30 14:45:00\n",
       "Duration                    735 days 05:30:00\n",
       "Exposure Time [%]                   11.246885\n",
       "Equity Final [$]                      703.464\n",
       "Equity Peak [$]                        3000.0\n",
       "Return [%]                           -76.5512\n",
       "Buy & Hold Return [%]                2.177413\n",
       "Return (Ann.) [%]                  -49.942485\n",
       "Volatility (Ann.) [%]               14.623344\n",
       "Sharpe Ratio                              0.0\n",
       "Sortino Ratio                             0.0\n",
       "Calmar Ratio                              0.0\n",
       "Max. Drawdown [%]                    -76.5512\n",
       "Avg. Drawdown [%]                    -76.5512\n",
       "Max. Drawdown Duration      735 days 03:48:00\n",
       "Avg. Drawdown Duration      735 days 03:48:00\n",
       "# Trades                                  118\n",
       "Win Rate [%]                        24.576271\n",
       "Best Trade [%]                       4.470006\n",
       "Worst Trade [%]                     -4.229546\n",
       "Avg. Trade [%]                       -1.58209\n",
       "Max. Trade Duration          20 days 19:30:00\n",
       "Avg. Trade Duration           3 days 04:05:00\n",
       "Profit Factor                        0.329376\n",
       "Expectancy [%]                      -1.546354\n",
       "SQN                                 -6.672221\n",
       "_strategy                 ScalpingRSIStoch...\n",
       "_equity_curve                             ...\n",
       "_trades                        Size  Entry...\n",
       "dtype: object"
      ]
     },
     "execution_count": 388,
     "metadata": {},
     "output_type": "execute_result"
    }
   ],
   "source": [
    "stats_val_scalping"
   ]
  },
  {
   "cell_type": "markdown",
   "metadata": {},
   "source": [
    "### Scalping with EMA Crossovers"
   ]
  },
  {
   "cell_type": "code",
   "execution_count": 401,
   "metadata": {},
   "outputs": [
    {
     "name": "stdout",
     "output_type": "stream",
     "text": [
      "Optimizing ScalpingEMA on training set...\n"
     ]
    },
    {
     "name": "stderr",
     "output_type": "stream",
     "text": [
      "/Library/Frameworks/Python.framework/Versions/3.11/lib/python3.11/site-packages/backtesting/backtesting.py:1375: UserWarning: For multiprocessing support in `Backtest.optimize()` set multiprocessing start method to 'fork'.\n",
      "  warnings.warn(\"For multiprocessing support in `Backtest.optimize()` \"\n"
     ]
    },
    {
     "data": {
      "application/vnd.jupyter.widget-view+json": {
       "model_id": "d62bd309ee124893b32eec9530e98a1f",
       "version_major": 2,
       "version_minor": 0
      },
      "text/plain": [
       "  0%|          | 0/9 [00:00<?, ?it/s]"
      ]
     },
     "metadata": {},
     "output_type": "display_data"
    },
    {
     "name": "stdout",
     "output_type": "stream",
     "text": [
      "Backtesting on validation set...\n"
     ]
    }
   ],
   "source": [
    "import talib\n",
    "from backtesting import Strategy, Backtest\n",
    "from backtesting.lib import crossover\n",
    "\n",
    "# Chiến lược Scalping với EMA Crossovers\n",
    "class ScalpingEMA(Strategy):\n",
    "    fast_ema_period = 9  # EMA ngắn hạn\n",
    "    slow_ema_period = 21  # EMA dài hạn\n",
    "    stop_loss_pct = 0.02  # Stop loss 2%\n",
    "    take_profit_pct = 0.04  # Take profit 4%\n",
    "\n",
    "    def init(self):\n",
    "        # Tính EMA\n",
    "        self.fast_ema = self.I(talib.EMA, self.data.Close, timeperiod=self.fast_ema_period)\n",
    "        self.slow_ema = self.I(talib.EMA, self.data.Close, timeperiod=self.slow_ema_period)\n",
    "\n",
    "    def next(self):\n",
    "        # Điều kiện mua: EMA ngắn cắt lên EMA dài\n",
    "        if crossover(self.fast_ema, self.slow_ema):\n",
    "            sl = self.data.Close[-1] * (1 - self.stop_loss_pct)  # Stop loss 2% dưới giá hiện tại\n",
    "            tp = self.data.Close[-1] * (1 + self.take_profit_pct)  # Take profit 4% trên giá hiện tại\n",
    "            self.buy(size=1/6, sl=sl, tp=tp)\n",
    "\n",
    "        # Điều kiện bán: EMA ngắn cắt xuống EMA dài\n",
    "        elif crossover(self.slow_ema, self.fast_ema):\n",
    "            sl = self.data.Close[-1] * (1 + self.stop_loss_pct)  # Stop loss 2% trên giá hiện tại\n",
    "            tp = self.data.Close[-1] * (1 - self.take_profit_pct)  # Take profit 4% dưới giá hiện tại\n",
    "            self.sell(size=1/6, sl=sl, tp=tp)\n",
    "\n",
    "# Hàm backtest và tối ưu hóa cho Scalping với EMA\n",
    "def run_backtest_optimize_scalping_ema(train_data, val_data, fast_ema_range, slow_ema_range):\n",
    "    print(f\"Optimizing ScalpingEMA on training set...\")\n",
    "    bt_train = Backtest(train_data, ScalpingEMA, cash=3_000, commission=0.01, margin=0.13, hedging=True)\n",
    "    \n",
    "    stats_train = bt_train.optimize(\n",
    "        fast_ema_period=fast_ema_range,  # Phạm vi tối ưu EMA ngắn\n",
    "        slow_ema_period=slow_ema_range,  # Phạm vi tối ưu EMA dài\n",
    "        maximize='Return [%]',  # Tối ưu dựa trên lợi nhuận\n",
    "        random_state=42,\n",
    "        method='grid',\n",
    "        return_heatmap=False\n",
    "    )\n",
    "\n",
    "    # Backtest trên tập validation\n",
    "    print(\"Backtesting on validation set...\")\n",
    "    bt_val = Backtest(val_data, ScalpingEMA, cash=3_000, commission=0.01, margin=0.13, hedging=True)\n",
    "    stats_val = bt_val.run()\n",
    "\n",
    "    return stats_train, stats_val\n",
    "\n",
    "# Example usage:\n",
    "fast_ema_range = range(5, 11, 1)\n",
    "slow_ema_range = range(20, 31, 2)\n",
    "stats_train_ema, stats_val_ema = run_backtest_optimize_scalping_ema(train_min, valid_min, fast_ema_range, slow_ema_range)\n"
   ]
  },
  {
   "cell_type": "code",
   "execution_count": 402,
   "metadata": {},
   "outputs": [
    {
     "data": {
      "text/plain": [
       "Start                     2018-08-13 09:00:00\n",
       "End                       2022-08-26 09:12:00\n",
       "Duration                   1474 days 00:12:00\n",
       "Exposure Time [%]                   48.185641\n",
       "Equity Final [$]                      615.163\n",
       "Equity Peak [$]                        3000.0\n",
       "Return [%]                         -79.494567\n",
       "Buy & Hold Return [%]               38.229995\n",
       "Return (Ann.) [%]                  -32.238403\n",
       "Volatility (Ann.) [%]                13.01164\n",
       "Sharpe Ratio                              0.0\n",
       "Sortino Ratio                             0.0\n",
       "Calmar Ratio                              0.0\n",
       "Max. Drawdown [%]                  -79.940433\n",
       "Avg. Drawdown [%]                  -79.940433\n",
       "Max. Drawdown Duration     1473 days 22:30:00\n",
       "Avg. Drawdown Duration     1473 days 22:30:00\n",
       "# Trades                                  326\n",
       "Win Rate [%]                        37.423313\n",
       "Best Trade [%]                       6.733087\n",
       "Worst Trade [%]                      -6.70137\n",
       "Avg. Trade [%]                      -0.837203\n",
       "Max. Trade Duration         101 days 02:51:00\n",
       "Avg. Trade Duration          12 days 22:48:00\n",
       "Profit Factor                        0.600124\n",
       "Expectancy [%]                      -0.788815\n",
       "SQN                                 -4.019662\n",
       "_strategy                 ScalpingEMA(fast...\n",
       "_equity_curve                             ...\n",
       "_trades                        Size  Entry...\n",
       "dtype: object"
      ]
     },
     "execution_count": 402,
     "metadata": {},
     "output_type": "execute_result"
    }
   ],
   "source": [
    "stats_train_ema"
   ]
  },
  {
   "cell_type": "markdown",
   "metadata": {},
   "source": [
    "### Scalping with Bollinger Bands"
   ]
  },
  {
   "cell_type": "code",
   "execution_count": 406,
   "metadata": {},
   "outputs": [
    {
     "name": "stdout",
     "output_type": "stream",
     "text": [
      "Optimizing ScalpingBollingerBands on training set...\n"
     ]
    },
    {
     "name": "stderr",
     "output_type": "stream",
     "text": [
      "/Library/Frameworks/Python.framework/Versions/3.11/lib/python3.11/site-packages/backtesting/backtesting.py:1375: UserWarning: For multiprocessing support in `Backtest.optimize()` set multiprocessing start method to 'fork'.\n",
      "  warnings.warn(\"For multiprocessing support in `Backtest.optimize()` \"\n"
     ]
    },
    {
     "data": {
      "application/vnd.jupyter.widget-view+json": {
       "model_id": "721599dc4a33465b9a7c33e8b79aa96d",
       "version_major": 2,
       "version_minor": 0
      },
      "text/plain": [
       "  0%|          | 0/5 [00:00<?, ?it/s]"
      ]
     },
     "metadata": {},
     "output_type": "display_data"
    },
    {
     "name": "stdout",
     "output_type": "stream",
     "text": [
      "Backtesting on validation set...\n"
     ]
    }
   ],
   "source": [
    "import talib\n",
    "from backtesting import Strategy, Backtest\n",
    "\n",
    "# Chiến lược Scalping với Bollinger Bands\n",
    "class ScalpingBollingerBands(Strategy):\n",
    "    bb_period = 20  # Chu kỳ Bollinger Bands\n",
    "    stop_loss_pct = 0.02  # Stop loss 2%\n",
    "    take_profit_pct = 0.04  # Take profit 4%\n",
    "\n",
    "    def init(self):\n",
    "        # Tính Bollinger Bands\n",
    "        self.upper_band, self.middle_band, self.lower_band = self.I(talib.BBANDS, self.data.Close, timeperiod=self.bb_period)\n",
    "\n",
    "    def next(self):\n",
    "        # Mua khi giá dưới Bollinger Band dưới\n",
    "        if self.data.Close[-1] < self.lower_band[-1]:\n",
    "            sl = self.data.Close[-1] * (1 - self.stop_loss_pct)\n",
    "            tp = self.data.Close[-1] * (1 + self.take_profit_pct)\n",
    "            self.buy(size=1/6, sl=sl, tp=tp)\n",
    "\n",
    "        # Bán khi giá trên Bollinger Band trên\n",
    "        elif self.data.Close[-1] > self.upper_band[-1]:\n",
    "            sl = self.data.Close[-1] * (1 + self.stop_loss_pct)\n",
    "            tp = self.data.Close[-1] * (1 - self.take_profit_pct)\n",
    "            self.sell(size=1/6, sl=sl, tp=tp)\n",
    "\n",
    "# Hàm backtest và tối ưu hóa cho Scalping với Bollinger Bands\n",
    "def run_backtest_optimize_scalping_bb(train_data, val_data, bb_period_range):\n",
    "    print(f\"Optimizing ScalpingBollingerBands on training set...\")\n",
    "    bt_train = Backtest(train_data, ScalpingBollingerBands, cash=3_000, commission=0.01, margin=0.13, hedging=True)\n",
    "    \n",
    "    stats_train = bt_train.optimize(\n",
    "        bb_period=bb_period_range,  # Phạm vi tối ưu bb_period\n",
    "        maximize='Return [%]',  # Tối ưu dựa trên lợi nhuận\n",
    "        random_state=42,\n",
    "        method='grid',\n",
    "        return_heatmap=False\n",
    "    )\n",
    "\n",
    "    # Backtest trên tập validation\n",
    "    print(\"Backtesting on validation set...\")\n",
    "    bt_val = Backtest(val_data, ScalpingBollingerBands, cash=3_000, commission=0.01, margin=0.13, hedging=True)\n",
    "    stats_val = bt_val.run()\n",
    "\n",
    "    return stats_train, stats_val\n",
    "\n",
    "# Example usage:\n",
    "bb_period_range = range(10, 31, 5)\n",
    "stats_train_bb, stats_val_bb = run_backtest_optimize_scalping_bb(train_min, valid_min, bb_period_range)\n"
   ]
  },
  {
   "cell_type": "code",
   "execution_count": 407,
   "metadata": {},
   "outputs": [
    {
     "data": {
      "text/plain": [
       "Start                     2018-08-13 09:00:00\n",
       "End                       2022-08-26 09:12:00\n",
       "Duration                   1474 days 00:12:00\n",
       "Exposure Time [%]                   36.278797\n",
       "Equity Final [$]                      460.795\n",
       "Equity Peak [$]                        3000.0\n",
       "Return [%]                         -84.640167\n",
       "Buy & Hold Return [%]               38.229995\n",
       "Return (Ann.) [%]                  -36.532235\n",
       "Volatility (Ann.) [%]                13.50114\n",
       "Sharpe Ratio                              0.0\n",
       "Sortino Ratio                             0.0\n",
       "Calmar Ratio                              0.0\n",
       "Max. Drawdown [%]                  -84.640167\n",
       "Avg. Drawdown [%]                  -84.640167\n",
       "Max. Drawdown Duration     1473 days 22:27:00\n",
       "Avg. Drawdown Duration     1473 days 22:27:00\n",
       "# Trades                                  218\n",
       "Win Rate [%]                        30.275229\n",
       "Best Trade [%]                       6.030307\n",
       "Worst Trade [%]                     -5.354141\n",
       "Avg. Trade [%]                      -1.256358\n",
       "Max. Trade Duration         101 days 03:21:00\n",
       "Avg. Trade Duration           8 days 20:07:00\n",
       "Profit Factor                        0.436335\n",
       "Expectancy [%]                      -1.214753\n",
       "SQN                                  -5.61618\n",
       "_strategy                 ScalpingBollinge...\n",
       "_equity_curve                             ...\n",
       "_trades                        Size  Entry...\n",
       "dtype: object"
      ]
     },
     "execution_count": 407,
     "metadata": {},
     "output_type": "execute_result"
    }
   ],
   "source": [
    "stats_train_bb"
   ]
  },
  {
   "cell_type": "code",
   "execution_count": 408,
   "metadata": {},
   "outputs": [
    {
     "data": {
      "text/plain": [
       "Start                     2022-08-26 09:15:00\n",
       "End                       2024-08-30 14:45:00\n",
       "Duration                    735 days 05:30:00\n",
       "Exposure Time [%]                   11.723692\n",
       "Equity Final [$]                      692.639\n",
       "Equity Peak [$]                        3000.0\n",
       "Return [%]                         -76.912033\n",
       "Buy & Hold Return [%]                2.177413\n",
       "Return (Ann.) [%]                  -50.222716\n",
       "Volatility (Ann.) [%]               15.564928\n",
       "Sharpe Ratio                              0.0\n",
       "Sortino Ratio                             0.0\n",
       "Calmar Ratio                              0.0\n",
       "Max. Drawdown [%]                  -76.912033\n",
       "Avg. Drawdown [%]                  -76.912033\n",
       "Max. Drawdown Duration      735 days 04:15:00\n",
       "Avg. Drawdown Duration      735 days 04:15:00\n",
       "# Trades                                  105\n",
       "Win Rate [%]                        20.952381\n",
       "Best Trade [%]                       4.470006\n",
       "Worst Trade [%]                     -4.131413\n",
       "Avg. Trade [%]                      -1.761584\n",
       "Max. Trade Duration          20 days 22:39:00\n",
       "Avg. Trade Duration           3 days 12:15:00\n",
       "Profit Factor                        0.270954\n",
       "Expectancy [%]                      -1.730512\n",
       "SQN                                 -7.433242\n",
       "_strategy                 ScalpingBollinge...\n",
       "_equity_curve                             ...\n",
       "_trades                        Size  Entry...\n",
       "dtype: object"
      ]
     },
     "execution_count": 408,
     "metadata": {},
     "output_type": "execute_result"
    }
   ],
   "source": [
    "stats_val_bb"
   ]
  },
  {
   "cell_type": "markdown",
   "metadata": {},
   "source": [
    "## Momentum trading"
   ]
  },
  {
   "cell_type": "markdown",
   "metadata": {},
   "source": [
    "### Momentum trading with MACD"
   ]
  },
  {
   "cell_type": "code",
   "execution_count": 389,
   "metadata": {},
   "outputs": [
    {
     "name": "stdout",
     "output_type": "stream",
     "text": [
      "Optimizing MomentumTradingMACD on training set...\n"
     ]
    },
    {
     "name": "stderr",
     "output_type": "stream",
     "text": [
      "/Library/Frameworks/Python.framework/Versions/3.11/lib/python3.11/site-packages/backtesting/backtesting.py:1375: UserWarning: For multiprocessing support in `Backtest.optimize()` set multiprocessing start method to 'fork'.\n",
      "  warnings.warn(\"For multiprocessing support in `Backtest.optimize()` \"\n"
     ]
    },
    {
     "data": {
      "application/vnd.jupyter.widget-view+json": {
       "model_id": "fd82e3098d87449dada37ef9b4c47280",
       "version_major": 2,
       "version_minor": 0
      },
      "text/plain": [
       "  0%|          | 0/9 [00:00<?, ?it/s]"
      ]
     },
     "metadata": {},
     "output_type": "display_data"
    },
    {
     "name": "stdout",
     "output_type": "stream",
     "text": [
      "Backtesting on validation set...\n"
     ]
    }
   ],
   "source": [
    "import talib\n",
    "from backtesting import Strategy, Backtest\n",
    "from backtesting.lib import crossover\n",
    "\n",
    "# Chiến lược Momentum Trading với MACD\n",
    "class MomentumTradingMACD(Strategy):\n",
    "    fastperiod = 12  # MACD Fast EMA period\n",
    "    slowperiod = 26  # MACD Slow EMA period\n",
    "    signalperiod = 9  # Signal period\n",
    "    stop_loss_pct = 0.02  # Stop loss 2%\n",
    "    take_profit_pct = 0.04  # Take profit 4%\n",
    "\n",
    "    def init(self):\n",
    "        # Tính MACD và Signal\n",
    "        self.macd, self.signal, _ = self.I(talib.MACD, self.data.Close, fastperiod=self.fastperiod, \n",
    "                                           slowperiod=self.slowperiod, signalperiod=self.signalperiod)\n",
    "\n",
    "    def next(self):\n",
    "        # Điều kiện mua: MACD cắt lên Signal và MACD > 0\n",
    "        if crossover(self.macd, self.signal) and self.macd[-1] > 0:\n",
    "            sl = self.data.Close[-1] * (1 - self.stop_loss_pct)  # Stop loss là 2% dưới giá hiện tại\n",
    "            tp = self.data.Close[-1] * (1 + self.take_profit_pct)  # Take profit là 4% trên giá hiện tại\n",
    "            self.buy(size=1/6, sl=sl, tp=tp)\n",
    "\n",
    "        # Điều kiện bán: MACD cắt xuống Signal và MACD < 0\n",
    "        elif crossover(self.signal, self.macd) and self.macd[-1] < 0:\n",
    "            sl = self.data.Close[-1] * (1 + self.stop_loss_pct)  # Stop loss là 2% trên giá hiện tại\n",
    "            tp = self.data.Close[-1] * (1 - self.take_profit_pct)  # Take profit là 4% dưới giá hiện tại\n",
    "            self.sell(size=1/6, sl=sl, tp=tp)\n",
    "\n",
    "# Hàm backtest và tối ưu hóa cho Momentum Trading MACD\n",
    "def run_backtest_optimize_momentum_macd(train_data, val_data, fastperiod_range, slowperiod_range, signalperiod_range):\n",
    "    print(f\"Optimizing MomentumTradingMACD on training set...\")\n",
    "    bt_train = Backtest(train_data, MomentumTradingMACD, cash=3_000, commission=0.01, margin=0.13, hedging=True)\n",
    "    \n",
    "    stats_train = bt_train.optimize(\n",
    "        fastperiod=fastperiod_range,  # Phạm vi tối ưu fastperiod\n",
    "        slowperiod=slowperiod_range,  # Phạm vi tối ưu slowperiod\n",
    "        signalperiod=signalperiod_range,  # Phạm vi tối ưu signalperiod\n",
    "        maximize='Return [%]',  # Tối ưu dựa trên lợi nhuận\n",
    "        random_state=42,\n",
    "        method='grid',\n",
    "        return_heatmap=False\n",
    "    )\n",
    "\n",
    "    # Backtest trên tập validation\n",
    "    print(\"Backtesting on validation set...\")\n",
    "    bt_val = Backtest(val_data, MomentumTradingMACD, cash=3_000, commission=0.01, margin=0.13, hedging=True)\n",
    "    stats_val = bt_val.run()\n",
    "\n",
    "    return stats_train, stats_val\n",
    "\n",
    "# Example usage:\n",
    "fastperiod_range = range(8, 13, 1)\n",
    "slowperiod_range = range(20, 31, 2)\n",
    "signalperiod_range = range(7, 12, 1)\n",
    "\n",
    "stats_train_macd, stats_val_macd = run_backtest_optimize_momentum_macd(train_hour, valid_hour, fastperiod_range, slowperiod_range, signalperiod_range)\n"
   ]
  },
  {
   "cell_type": "code",
   "execution_count": 390,
   "metadata": {},
   "outputs": [
    {
     "data": {
      "text/plain": [
       "Start                     2018-08-13 09:00:00\n",
       "End                       2022-08-25 11:00:00\n",
       "Duration                   1473 days 02:00:00\n",
       "Exposure Time [%]                   60.588586\n",
       "Equity Final [$]                     1611.981\n",
       "Equity Peak [$]                        3000.0\n",
       "Return [%]                           -46.2673\n",
       "Buy & Hold Return [%]               36.585624\n",
       "Return (Ann.) [%]                  -14.396269\n",
       "Volatility (Ann.) [%]                16.82589\n",
       "Sharpe Ratio                              0.0\n",
       "Sortino Ratio                             0.0\n",
       "Calmar Ratio                              0.0\n",
       "Max. Drawdown [%]                  -59.185467\n",
       "Avg. Drawdown [%]                  -59.185467\n",
       "Max. Drawdown Duration     1459 days 01:00:00\n",
       "Avg. Drawdown Duration     1459 days 01:00:00\n",
       "# Trades                                  149\n",
       "Win Rate [%]                        43.624161\n",
       "Best Trade [%]                       4.531698\n",
       "Worst Trade [%]                     -4.115325\n",
       "Avg. Trade [%]                      -0.466356\n",
       "Max. Trade Duration          64 days 03:00:00\n",
       "Avg. Trade Duration          13 days 03:00:00\n",
       "Profit Factor                        0.747131\n",
       "Expectancy [%]                      -0.423281\n",
       "SQN                                 -2.387808\n",
       "_strategy                 MomentumTradingM...\n",
       "_equity_curve                             ...\n",
       "_trades                        Size  Entry...\n",
       "dtype: object"
      ]
     },
     "execution_count": 390,
     "metadata": {},
     "output_type": "execute_result"
    }
   ],
   "source": [
    "stats_train_macd"
   ]
  },
  {
   "cell_type": "code",
   "execution_count": 391,
   "metadata": {},
   "outputs": [
    {
     "data": {
      "text/plain": [
       "Start                     2022-08-25 13:00:00\n",
       "End                       2024-08-30 14:00:00\n",
       "Duration                    736 days 01:00:00\n",
       "Exposure Time [%]                   59.427208\n",
       "Equity Final [$]                     2266.566\n",
       "Equity Peak [$]                      3841.018\n",
       "Return [%]                           -24.4478\n",
       "Buy & Hold Return [%]                2.760429\n",
       "Return (Ann.) [%]                  -13.079231\n",
       "Volatility (Ann.) [%]               19.546939\n",
       "Sharpe Ratio                              0.0\n",
       "Sortino Ratio                             0.0\n",
       "Calmar Ratio                              0.0\n",
       "Max. Drawdown [%]                  -50.368496\n",
       "Avg. Drawdown [%]                   -5.566982\n",
       "Max. Drawdown Duration      549 days 00:00:00\n",
       "Avg. Drawdown Duration       42 days 09:00:00\n",
       "# Trades                                   72\n",
       "Win Rate [%]                        45.833333\n",
       "Best Trade [%]                       3.775424\n",
       "Worst Trade [%]                      -3.48201\n",
       "Avg. Trade [%]                      -0.315601\n",
       "Max. Trade Duration          34 days 20:00:00\n",
       "Avg. Trade Duration           9 days 10:00:00\n",
       "Profit Factor                        0.829726\n",
       "Expectancy [%]                      -0.272234\n",
       "SQN                                 -0.932501\n",
       "_strategy                 MomentumTradingMACD\n",
       "_equity_curve                             ...\n",
       "_trades                       Size  EntryB...\n",
       "dtype: object"
      ]
     },
     "execution_count": 391,
     "metadata": {},
     "output_type": "execute_result"
    }
   ],
   "source": [
    "stats_val_macd"
   ]
  },
  {
   "cell_type": "markdown",
   "metadata": {},
   "source": [
    "### Momentum trading with RSI and MA"
   ]
  },
  {
   "cell_type": "code",
   "execution_count": 398,
   "metadata": {},
   "outputs": [
    {
     "name": "stdout",
     "output_type": "stream",
     "text": [
      "Optimizing MomentumTradingRSIMA on training set...\n"
     ]
    },
    {
     "name": "stderr",
     "output_type": "stream",
     "text": [
      "/Library/Frameworks/Python.framework/Versions/3.11/lib/python3.11/site-packages/backtesting/backtesting.py:1375: UserWarning: For multiprocessing support in `Backtest.optimize()` set multiprocessing start method to 'fork'.\n",
      "  warnings.warn(\"For multiprocessing support in `Backtest.optimize()` \"\n"
     ]
    },
    {
     "data": {
      "application/vnd.jupyter.widget-view+json": {
       "model_id": "0d9cb69a22b545938efc3bd9901b7c87",
       "version_major": 2,
       "version_minor": 0
      },
      "text/plain": [
       "  0%|          | 0/9 [00:00<?, ?it/s]"
      ]
     },
     "metadata": {},
     "output_type": "display_data"
    },
    {
     "name": "stdout",
     "output_type": "stream",
     "text": [
      "Backtesting on validation set...\n"
     ]
    }
   ],
   "source": [
    "import talib\n",
    "from backtesting import Strategy, Backtest\n",
    "from backtesting.lib import crossover\n",
    "\n",
    "# Chiến lược Momentum Trading với RSI và MA\n",
    "class MomentumTradingRSIMA(Strategy):\n",
    "    ma_short = 20  # MA ngắn hạn\n",
    "    ma_long = 50  # MA dài hạn\n",
    "    rsi_period = 14  # RSI period\n",
    "    stop_loss_pct = 0.02  # Stop loss 2%\n",
    "    take_profit_pct = 0.04  # Take profit 4%\n",
    "\n",
    "    def init(self):\n",
    "        # Tính các đường MA và RSI\n",
    "        self.ma_short = self.I(talib.SMA, self.data.Close, timeperiod=self.ma_short)\n",
    "        self.ma_long = self.I(talib.SMA, self.data.Close, timeperiod=self.ma_long)\n",
    "        self.rsi = self.I(talib.RSI, self.data.Close, timeperiod=self.rsi_period)\n",
    "\n",
    "    def next(self):\n",
    "        # Điều kiện mua: RSI < 30 và giá dưới MA dài hạn\n",
    "        if self.rsi[-1] < 30 and self.data.Close[-1] < self.ma_long[-1]:\n",
    "            sl = self.data.Close[-1] * (1 - self.stop_loss_pct)\n",
    "            tp = self.data.Close[-1] * (1 + self.take_profit_pct)\n",
    "            self.buy(size=1/6, sl=sl, tp=tp)\n",
    "\n",
    "        # Điều kiện bán: RSI > 70 và giá trên MA dài hạn\n",
    "        elif self.rsi[-1] > 70 and self.data.Close[-1] > self.ma_long[-1]:\n",
    "            sl = self.data.Close[-1] * (1 + self.stop_loss_pct)\n",
    "            tp = self.data.Close[-1] * (1 - self.take_profit_pct)\n",
    "            self.sell(size=1/6, sl=sl, tp=tp)\n",
    "\n",
    "# Hàm backtest và tối ưu hóa cho RSI + MA\n",
    "def run_backtest_optimize_rsi_ma(train_data, val_data, ma_short_range, ma_long_range, rsi_period_range):\n",
    "    print(f\"Optimizing MomentumTradingRSIMA on training set...\")\n",
    "    bt_train = Backtest(train_data, MomentumTradingRSIMA, cash=3_000, commission=0.01, margin=0.13, hedging=True)\n",
    "    \n",
    "    stats_train = bt_train.optimize(\n",
    "        ma_short=ma_short_range,  # Phạm vi tối ưu MA ngắn hạn\n",
    "        ma_long=ma_long_range,  # Phạm vi tối ưu MA dài hạn\n",
    "        rsi_period=rsi_period_range,  # Phạm vi tối ưu RSI period\n",
    "        maximize='Return [%]',  # Tối ưu dựa trên lợi nhuận\n",
    "        random_state=42,\n",
    "        method='grid',\n",
    "        return_heatmap=False\n",
    "    )\n",
    "\n",
    "    # Backtest trên tập validation\n",
    "    print(\"Backtesting on validation set...\")\n",
    "    bt_val = Backtest(val_data, MomentumTradingRSIMA, cash=3_000, commission=0.01, margin=0.13, hedging=True)\n",
    "    stats_val = bt_val.run()\n",
    "\n",
    "    return stats_train, stats_val\n",
    "\n",
    "# Example usage:\n",
    "ma_short_range = range(10, 31, 5)\n",
    "ma_long_range = range(40, 101, 10)\n",
    "rsi_period_range = range(10, 21, 5)\n",
    "\n",
    "stats_train_rsi_ma, stats_val_rsi_ma = run_backtest_optimize_rsi_ma(train_hour, valid_hour, ma_short_range, ma_long_range, rsi_period_range)\n"
   ]
  },
  {
   "cell_type": "code",
   "execution_count": 399,
   "metadata": {},
   "outputs": [
    {
     "data": {
      "text/plain": [
       "Start                     2018-08-13 09:00:00\n",
       "End                       2022-08-25 11:00:00\n",
       "Duration                   1473 days 02:00:00\n",
       "Exposure Time [%]                   40.962418\n",
       "Equity Final [$]                      743.274\n",
       "Equity Peak [$]                      3941.951\n",
       "Return [%]                           -75.2242\n",
       "Buy & Hold Return [%]               36.585624\n",
       "Return (Ann.) [%]                  -29.472826\n",
       "Volatility (Ann.) [%]               24.798238\n",
       "Sharpe Ratio                              0.0\n",
       "Sortino Ratio                             0.0\n",
       "Calmar Ratio                              0.0\n",
       "Max. Drawdown [%]                  -81.144514\n",
       "Avg. Drawdown [%]                  -11.968562\n",
       "Max. Drawdown Duration     1414 days 02:00:00\n",
       "Avg. Drawdown Duration      160 days 17:00:00\n",
       "# Trades                                  231\n",
       "Win Rate [%]                        41.558442\n",
       "Best Trade [%]                       3.359915\n",
       "Worst Trade [%]                     -6.425278\n",
       "Avg. Trade [%]                      -0.594311\n",
       "Max. Trade Duration         101 days 04:00:00\n",
       "Avg. Trade Duration          10 days 09:00:00\n",
       "Profit Factor                        0.690428\n",
       "Expectancy [%]                      -0.549335\n",
       "SQN                                 -3.112841\n",
       "_strategy                 MomentumTradingR...\n",
       "_equity_curve                             ...\n",
       "_trades                        Size  Entry...\n",
       "dtype: object"
      ]
     },
     "execution_count": 399,
     "metadata": {},
     "output_type": "execute_result"
    }
   ],
   "source": [
    "stats_train_rsi_ma"
   ]
  },
  {
   "cell_type": "code",
   "execution_count": 400,
   "metadata": {},
   "outputs": [
    {
     "data": {
      "text/plain": [
       "Start                     2022-08-25 13:00:00\n",
       "End                       2024-08-30 14:00:00\n",
       "Duration                    736 days 01:00:00\n",
       "Exposure Time [%]                   25.019889\n",
       "Equity Final [$]                      851.038\n",
       "Equity Peak [$]                        3000.0\n",
       "Return [%]                         -71.632067\n",
       "Buy & Hold Return [%]                2.760429\n",
       "Return (Ann.) [%]                  -46.738444\n",
       "Volatility (Ann.) [%]               14.323507\n",
       "Sharpe Ratio                              0.0\n",
       "Sortino Ratio                             0.0\n",
       "Calmar Ratio                              0.0\n",
       "Max. Drawdown [%]                  -73.025267\n",
       "Avg. Drawdown [%]                  -73.025267\n",
       "Max. Drawdown Duration      716 days 05:00:00\n",
       "Avg. Drawdown Duration      716 days 05:00:00\n",
       "# Trades                                   86\n",
       "Win Rate [%]                        18.604651\n",
       "Best Trade [%]                       3.189383\n",
       "Worst Trade [%]                     -5.276704\n",
       "Avg. Trade [%]                      -1.955108\n",
       "Max. Trade Duration          25 days 22:00:00\n",
       "Avg. Trade Duration           3 days 04:00:00\n",
       "Profit Factor                        0.211576\n",
       "Expectancy [%]                      -1.928461\n",
       "SQN                                 -7.964688\n",
       "_strategy                 MomentumTradingR...\n",
       "_equity_curve                             ...\n",
       "_trades                       Size  EntryB...\n",
       "dtype: object"
      ]
     },
     "execution_count": 400,
     "metadata": {},
     "output_type": "execute_result"
    }
   ],
   "source": [
    "stats_val_rsi_ma"
   ]
  },
  {
   "cell_type": "markdown",
   "metadata": {},
   "source": [
    "### Momentum trading with CCI and MA"
   ]
  },
  {
   "cell_type": "code",
   "execution_count": 395,
   "metadata": {},
   "outputs": [
    {
     "name": "stdout",
     "output_type": "stream",
     "text": [
      "Optimizing MomentumTradingCCI on training set...\n"
     ]
    },
    {
     "name": "stderr",
     "output_type": "stream",
     "text": [
      "/Library/Frameworks/Python.framework/Versions/3.11/lib/python3.11/site-packages/backtesting/backtesting.py:1375: UserWarning: For multiprocessing support in `Backtest.optimize()` set multiprocessing start method to 'fork'.\n",
      "  warnings.warn(\"For multiprocessing support in `Backtest.optimize()` \"\n"
     ]
    },
    {
     "data": {
      "application/vnd.jupyter.widget-view+json": {
       "model_id": "34a34730c10c46c6a83a489b7c98e2f4",
       "version_major": 2,
       "version_minor": 0
      },
      "text/plain": [
       "  0%|          | 0/8 [00:00<?, ?it/s]"
      ]
     },
     "metadata": {},
     "output_type": "display_data"
    },
    {
     "name": "stdout",
     "output_type": "stream",
     "text": [
      "Backtesting on validation set...\n"
     ]
    }
   ],
   "source": [
    "import talib\n",
    "from backtesting import Strategy, Backtest\n",
    "from backtesting.lib import crossover\n",
    "\n",
    "# Chiến lược Momentum Trading với CCI và MA\n",
    "class MomentumTradingCCI(Strategy):\n",
    "    cci_period = 20  # Tham số mặc định cho CCI\n",
    "    ma_period = 50  # Tham số mặc định cho MA dài hạn\n",
    "    stop_loss_pct = 0.02  # Stop loss 2%\n",
    "    take_profit_pct = 0.04  # Take profit 4%\n",
    "\n",
    "    def init(self):\n",
    "        # Tính MA và CCI\n",
    "        self.ma = self.I(talib.SMA, self.data.Close, timeperiod=self.ma_period)\n",
    "        self.cci = self.I(talib.CCI, self.data.High, self.data.Low, self.data.Close, timeperiod=self.cci_period)\n",
    "\n",
    "    def next(self):\n",
    "        # Điều kiện mua: CCI < -100 và giá dưới MA\n",
    "        if self.cci[-1] < -100 and self.data.Close[-1] < self.ma[-1]:\n",
    "            sl = self.data.Close[-1] * (1 - self.stop_loss_pct)\n",
    "            tp = self.data.Close[-1] * (1 + self.take_profit_pct)\n",
    "            self.buy(size=1/6, sl=sl, tp=tp)\n",
    "\n",
    "        # Điều kiện bán: CCI > 100 và giá trên MA\n",
    "        elif self.cci[-1] > 100 and self.data.Close[-1] > self.ma[-1]:\n",
    "            sl = self.data.Close[-1] * (1 + self.stop_loss_pct)\n",
    "            tp = self.data.Close[-1] * (1 - self.take_profit_pct)\n",
    "            self.sell(size=1/6, sl=sl, tp=tp)\n",
    "\n",
    "# Hàm backtest và tối ưu hóa cho CCI + MA\n",
    "def run_backtest_optimize_cci_ma(train_data, val_data, cci_period_range, ma_period_range):\n",
    "    print(f\"Optimizing MomentumTradingCCI on training set...\")\n",
    "    bt_train = Backtest(train_data, MomentumTradingCCI, cash=3_000, commission=0.01, margin=0.13, hedging=True)\n",
    "    \n",
    "    stats_train = bt_train.optimize(\n",
    "        cci_period=cci_period_range,  # Phạm vi tối ưu CCI period\n",
    "        ma_period=ma_period_range,  # Phạm vi tối ưu MA period\n",
    "        maximize='Return [%]',  # Tối ưu dựa trên lợi nhuận\n",
    "        random_state=42,\n",
    "        method='grid',\n",
    "        return_heatmap=False\n",
    "    )\n",
    "\n",
    "    # Backtest trên tập validation\n",
    "    print(\"Backtesting on validation set...\")\n",
    "    bt_val = Backtest(val_data, MomentumTradingCCI, cash=3_000, commission=0.01, margin=0.13, hedging=True)\n",
    "    stats_val = bt_val.run()\n",
    "\n",
    "    return stats_train, stats_val\n",
    "\n",
    "# Example usage:\n",
    "cci_period_range = range(14, 31, 5)\n",
    "ma_period_range = range(30, 101, 10)\n",
    "\n",
    "stats_train_cci_ma, stats_val_cci_ma = run_backtest_optimize_cci_ma(train_hour, valid_hour, cci_period_range, ma_period_range)\n"
   ]
  },
  {
   "cell_type": "code",
   "execution_count": 396,
   "metadata": {},
   "outputs": [
    {
     "data": {
      "text/plain": [
       "Start                     2018-08-13 09:00:00\n",
       "End                       2022-08-25 11:00:00\n",
       "Duration                   1473 days 02:00:00\n",
       "Exposure Time [%]                   37.204216\n",
       "Equity Final [$]                      510.273\n",
       "Equity Peak [$]                       3487.35\n",
       "Return [%]                           -82.9909\n",
       "Buy & Hold Return [%]               36.585624\n",
       "Return (Ann.) [%]                  -35.808231\n",
       "Volatility (Ann.) [%]                19.47293\n",
       "Sharpe Ratio                              0.0\n",
       "Sortino Ratio                             0.0\n",
       "Calmar Ratio                              0.0\n",
       "Max. Drawdown [%]                  -85.367887\n",
       "Avg. Drawdown [%]                  -20.456549\n",
       "Max. Drawdown Duration     1414 days 02:00:00\n",
       "Avg. Drawdown Duration      289 days 11:00:00\n",
       "# Trades                                  227\n",
       "Win Rate [%]                        37.004405\n",
       "Best Trade [%]                       3.392516\n",
       "Worst Trade [%]                     -6.208026\n",
       "Avg. Trade [%]                      -0.872034\n",
       "Max. Trade Duration         101 days 04:00:00\n",
       "Avg. Trade Duration          11 days 17:00:00\n",
       "Profit Factor                        0.571022\n",
       "Expectancy [%]                      -0.827828\n",
       "SQN                                 -4.279447\n",
       "_strategy                 MomentumTradingC...\n",
       "_equity_curve                             ...\n",
       "_trades                        Size  Entry...\n",
       "dtype: object"
      ]
     },
     "execution_count": 396,
     "metadata": {},
     "output_type": "execute_result"
    }
   ],
   "source": [
    "stats_train_cci_ma"
   ]
  },
  {
   "cell_type": "code",
   "execution_count": 397,
   "metadata": {},
   "outputs": [
    {
     "data": {
      "text/plain": [
       "Start                     2022-08-25 13:00:00\n",
       "End                       2024-08-30 14:00:00\n",
       "Duration                    736 days 01:00:00\n",
       "Exposure Time [%]                    8.750994\n",
       "Equity Final [$]                      742.598\n",
       "Equity Peak [$]                        3000.0\n",
       "Return [%]                         -75.246733\n",
       "Buy & Hold Return [%]                2.760429\n",
       "Return (Ann.) [%]                  -50.247345\n",
       "Volatility (Ann.) [%]               14.638895\n",
       "Sharpe Ratio                              0.0\n",
       "Sortino Ratio                             0.0\n",
       "Calmar Ratio                              0.0\n",
       "Max. Drawdown [%]                  -75.773733\n",
       "Avg. Drawdown [%]                  -75.773733\n",
       "Max. Drawdown Duration      716 days 05:00:00\n",
       "Avg. Drawdown Duration      716 days 05:00:00\n",
       "# Trades                                   87\n",
       "Win Rate [%]                        16.091954\n",
       "Best Trade [%]                        3.29461\n",
       "Worst Trade [%]                     -5.276704\n",
       "Avg. Trade [%]                      -2.119848\n",
       "Max. Trade Duration           6 days 00:00:00\n",
       "Avg. Trade Duration           2 days 04:00:00\n",
       "Profit Factor                        0.174458\n",
       "Expectancy [%]                      -2.095859\n",
       "SQN                                 -9.003551\n",
       "_strategy                  MomentumTradingCCI\n",
       "_equity_curve                             ...\n",
       "_trades                       Size  EntryB...\n",
       "dtype: object"
      ]
     },
     "execution_count": 397,
     "metadata": {},
     "output_type": "execute_result"
    }
   ],
   "source": [
    "stats_val_cci_ma"
   ]
  }
 ],
 "metadata": {
  "kernelspec": {
   "display_name": "Python 3",
   "language": "python",
   "name": "python3"
  },
  "language_info": {
   "codemirror_mode": {
    "name": "ipython",
    "version": 3
   },
   "file_extension": ".py",
   "mimetype": "text/x-python",
   "name": "python",
   "nbconvert_exporter": "python",
   "pygments_lexer": "ipython3",
   "version": "3.11.10"
  }
 },
 "nbformat": 4,
 "nbformat_minor": 2
}
